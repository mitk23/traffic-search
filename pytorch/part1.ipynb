{
 "cells": [
  {
   "cell_type": "code",
   "execution_count": 76,
   "id": "3f9cc40f-4801-4620-9ba5-fab99b1c02c7",
   "metadata": {},
   "outputs": [],
   "source": [
    "import os\n",
    "import csv\n",
    "import datetime as dt\n",
    "import numpy as np\n",
    "import matplotlib.pyplot as plt\n",
    "import torch\n",
    "import torch.nn as nn\n",
    "import torch.optim as optim\n",
    "import torch.nn.functional as F\n",
    "from torchvision import models, transforms, datasets\n",
    "from PIL import Image"
   ]
  },
  {
   "cell_type": "markdown",
   "id": "fe031980-f240-4841-b713-79464c16a025",
   "metadata": {
    "jp-MarkdownHeadingCollapsed": true,
    "tags": []
   },
   "source": [
    "## chap2"
   ]
  },
  {
   "cell_type": "code",
   "execution_count": 2,
   "id": "0a341bbb-a08c-4beb-a71e-87082b7a9dd9",
   "metadata": {},
   "outputs": [],
   "source": [
    "alexnet = models.AlexNet()"
   ]
  },
  {
   "cell_type": "code",
   "execution_count": 3,
   "id": "f667d48a-217e-4d84-91ad-cdb1379767f6",
   "metadata": {},
   "outputs": [],
   "source": [
    "alexnet = models.alexnet(pretrained=True)\n",
    "resnet = models.resnet101(pretrained=True)"
   ]
  },
  {
   "cell_type": "code",
   "execution_count": 4,
   "id": "1848e720-854c-4d83-934f-27ab1cfff4b7",
   "metadata": {
    "tags": []
   },
   "outputs": [
    {
     "data": {
      "text/plain": [
       "AlexNet(\n",
       "  (features): Sequential(\n",
       "    (0): Conv2d(3, 64, kernel_size=(11, 11), stride=(4, 4), padding=(2, 2))\n",
       "    (1): ReLU(inplace=True)\n",
       "    (2): MaxPool2d(kernel_size=3, stride=2, padding=0, dilation=1, ceil_mode=False)\n",
       "    (3): Conv2d(64, 192, kernel_size=(5, 5), stride=(1, 1), padding=(2, 2))\n",
       "    (4): ReLU(inplace=True)\n",
       "    (5): MaxPool2d(kernel_size=3, stride=2, padding=0, dilation=1, ceil_mode=False)\n",
       "    (6): Conv2d(192, 384, kernel_size=(3, 3), stride=(1, 1), padding=(1, 1))\n",
       "    (7): ReLU(inplace=True)\n",
       "    (8): Conv2d(384, 256, kernel_size=(3, 3), stride=(1, 1), padding=(1, 1))\n",
       "    (9): ReLU(inplace=True)\n",
       "    (10): Conv2d(256, 256, kernel_size=(3, 3), stride=(1, 1), padding=(1, 1))\n",
       "    (11): ReLU(inplace=True)\n",
       "    (12): MaxPool2d(kernel_size=3, stride=2, padding=0, dilation=1, ceil_mode=False)\n",
       "  )\n",
       "  (avgpool): AdaptiveAvgPool2d(output_size=(6, 6))\n",
       "  (classifier): Sequential(\n",
       "    (0): Dropout(p=0.5, inplace=False)\n",
       "    (1): Linear(in_features=9216, out_features=4096, bias=True)\n",
       "    (2): ReLU(inplace=True)\n",
       "    (3): Dropout(p=0.5, inplace=False)\n",
       "    (4): Linear(in_features=4096, out_features=4096, bias=True)\n",
       "    (5): ReLU(inplace=True)\n",
       "    (6): Linear(in_features=4096, out_features=1000, bias=True)\n",
       "  )\n",
       ")"
      ]
     },
     "execution_count": 4,
     "metadata": {},
     "output_type": "execute_result"
    }
   ],
   "source": [
    "alexnet"
   ]
  },
  {
   "cell_type": "code",
   "execution_count": 5,
   "id": "2be4fc54-6627-4569-8efa-12ef0a1f4781",
   "metadata": {
    "collapsed": true,
    "jupyter": {
     "outputs_hidden": true
    },
    "tags": []
   },
   "outputs": [
    {
     "name": "stdout",
     "output_type": "stream",
     "text": [
      "ResNet(\n",
      "  (conv1): Conv2d(3, 64, kernel_size=(7, 7), stride=(2, 2), padding=(3, 3), bias=False)\n",
      "  (bn1): BatchNorm2d(64, eps=1e-05, momentum=0.1, affine=True, track_running_stats=True)\n",
      "  (relu): ReLU(inplace=True)\n",
      "  (maxpool): MaxPool2d(kernel_size=3, stride=2, padding=1, dilation=1, ceil_mode=False)\n",
      "  (layer1): Sequential(\n",
      "    (0): Bottleneck(\n",
      "      (conv1): Conv2d(64, 64, kernel_size=(1, 1), stride=(1, 1), bias=False)\n",
      "      (bn1): BatchNorm2d(64, eps=1e-05, momentum=0.1, affine=True, track_running_stats=True)\n",
      "      (conv2): Conv2d(64, 64, kernel_size=(3, 3), stride=(1, 1), padding=(1, 1), bias=False)\n",
      "      (bn2): BatchNorm2d(64, eps=1e-05, momentum=0.1, affine=True, track_running_stats=True)\n",
      "      (conv3): Conv2d(64, 256, kernel_size=(1, 1), stride=(1, 1), bias=False)\n",
      "      (bn3): BatchNorm2d(256, eps=1e-05, momentum=0.1, affine=True, track_running_stats=True)\n",
      "      (relu): ReLU(inplace=True)\n",
      "      (downsample): Sequential(\n",
      "        (0): Conv2d(64, 256, kernel_size=(1, 1), stride=(1, 1), bias=False)\n",
      "        (1): BatchNorm2d(256, eps=1e-05, momentum=0.1, affine=True, track_running_stats=True)\n",
      "      )\n",
      "    )\n",
      "    (1): Bottleneck(\n",
      "      (conv1): Conv2d(256, 64, kernel_size=(1, 1), stride=(1, 1), bias=False)\n",
      "      (bn1): BatchNorm2d(64, eps=1e-05, momentum=0.1, affine=True, track_running_stats=True)\n",
      "      (conv2): Conv2d(64, 64, kernel_size=(3, 3), stride=(1, 1), padding=(1, 1), bias=False)\n",
      "      (bn2): BatchNorm2d(64, eps=1e-05, momentum=0.1, affine=True, track_running_stats=True)\n",
      "      (conv3): Conv2d(64, 256, kernel_size=(1, 1), stride=(1, 1), bias=False)\n",
      "      (bn3): BatchNorm2d(256, eps=1e-05, momentum=0.1, affine=True, track_running_stats=True)\n",
      "      (relu): ReLU(inplace=True)\n",
      "    )\n",
      "    (2): Bottleneck(\n",
      "      (conv1): Conv2d(256, 64, kernel_size=(1, 1), stride=(1, 1), bias=False)\n",
      "      (bn1): BatchNorm2d(64, eps=1e-05, momentum=0.1, affine=True, track_running_stats=True)\n",
      "      (conv2): Conv2d(64, 64, kernel_size=(3, 3), stride=(1, 1), padding=(1, 1), bias=False)\n",
      "      (bn2): BatchNorm2d(64, eps=1e-05, momentum=0.1, affine=True, track_running_stats=True)\n",
      "      (conv3): Conv2d(64, 256, kernel_size=(1, 1), stride=(1, 1), bias=False)\n",
      "      (bn3): BatchNorm2d(256, eps=1e-05, momentum=0.1, affine=True, track_running_stats=True)\n",
      "      (relu): ReLU(inplace=True)\n",
      "    )\n",
      "  )\n",
      "  (layer2): Sequential(\n",
      "    (0): Bottleneck(\n",
      "      (conv1): Conv2d(256, 128, kernel_size=(1, 1), stride=(1, 1), bias=False)\n",
      "      (bn1): BatchNorm2d(128, eps=1e-05, momentum=0.1, affine=True, track_running_stats=True)\n",
      "      (conv2): Conv2d(128, 128, kernel_size=(3, 3), stride=(2, 2), padding=(1, 1), bias=False)\n",
      "      (bn2): BatchNorm2d(128, eps=1e-05, momentum=0.1, affine=True, track_running_stats=True)\n",
      "      (conv3): Conv2d(128, 512, kernel_size=(1, 1), stride=(1, 1), bias=False)\n",
      "      (bn3): BatchNorm2d(512, eps=1e-05, momentum=0.1, affine=True, track_running_stats=True)\n",
      "      (relu): ReLU(inplace=True)\n",
      "      (downsample): Sequential(\n",
      "        (0): Conv2d(256, 512, kernel_size=(1, 1), stride=(2, 2), bias=False)\n",
      "        (1): BatchNorm2d(512, eps=1e-05, momentum=0.1, affine=True, track_running_stats=True)\n",
      "      )\n",
      "    )\n",
      "    (1): Bottleneck(\n",
      "      (conv1): Conv2d(512, 128, kernel_size=(1, 1), stride=(1, 1), bias=False)\n",
      "      (bn1): BatchNorm2d(128, eps=1e-05, momentum=0.1, affine=True, track_running_stats=True)\n",
      "      (conv2): Conv2d(128, 128, kernel_size=(3, 3), stride=(1, 1), padding=(1, 1), bias=False)\n",
      "      (bn2): BatchNorm2d(128, eps=1e-05, momentum=0.1, affine=True, track_running_stats=True)\n",
      "      (conv3): Conv2d(128, 512, kernel_size=(1, 1), stride=(1, 1), bias=False)\n",
      "      (bn3): BatchNorm2d(512, eps=1e-05, momentum=0.1, affine=True, track_running_stats=True)\n",
      "      (relu): ReLU(inplace=True)\n",
      "    )\n",
      "    (2): Bottleneck(\n",
      "      (conv1): Conv2d(512, 128, kernel_size=(1, 1), stride=(1, 1), bias=False)\n",
      "      (bn1): BatchNorm2d(128, eps=1e-05, momentum=0.1, affine=True, track_running_stats=True)\n",
      "      (conv2): Conv2d(128, 128, kernel_size=(3, 3), stride=(1, 1), padding=(1, 1), bias=False)\n",
      "      (bn2): BatchNorm2d(128, eps=1e-05, momentum=0.1, affine=True, track_running_stats=True)\n",
      "      (conv3): Conv2d(128, 512, kernel_size=(1, 1), stride=(1, 1), bias=False)\n",
      "      (bn3): BatchNorm2d(512, eps=1e-05, momentum=0.1, affine=True, track_running_stats=True)\n",
      "      (relu): ReLU(inplace=True)\n",
      "    )\n",
      "    (3): Bottleneck(\n",
      "      (conv1): Conv2d(512, 128, kernel_size=(1, 1), stride=(1, 1), bias=False)\n",
      "      (bn1): BatchNorm2d(128, eps=1e-05, momentum=0.1, affine=True, track_running_stats=True)\n",
      "      (conv2): Conv2d(128, 128, kernel_size=(3, 3), stride=(1, 1), padding=(1, 1), bias=False)\n",
      "      (bn2): BatchNorm2d(128, eps=1e-05, momentum=0.1, affine=True, track_running_stats=True)\n",
      "      (conv3): Conv2d(128, 512, kernel_size=(1, 1), stride=(1, 1), bias=False)\n",
      "      (bn3): BatchNorm2d(512, eps=1e-05, momentum=0.1, affine=True, track_running_stats=True)\n",
      "      (relu): ReLU(inplace=True)\n",
      "    )\n",
      "  )\n",
      "  (layer3): Sequential(\n",
      "    (0): Bottleneck(\n",
      "      (conv1): Conv2d(512, 256, kernel_size=(1, 1), stride=(1, 1), bias=False)\n",
      "      (bn1): BatchNorm2d(256, eps=1e-05, momentum=0.1, affine=True, track_running_stats=True)\n",
      "      (conv2): Conv2d(256, 256, kernel_size=(3, 3), stride=(2, 2), padding=(1, 1), bias=False)\n",
      "      (bn2): BatchNorm2d(256, eps=1e-05, momentum=0.1, affine=True, track_running_stats=True)\n",
      "      (conv3): Conv2d(256, 1024, kernel_size=(1, 1), stride=(1, 1), bias=False)\n",
      "      (bn3): BatchNorm2d(1024, eps=1e-05, momentum=0.1, affine=True, track_running_stats=True)\n",
      "      (relu): ReLU(inplace=True)\n",
      "      (downsample): Sequential(\n",
      "        (0): Conv2d(512, 1024, kernel_size=(1, 1), stride=(2, 2), bias=False)\n",
      "        (1): BatchNorm2d(1024, eps=1e-05, momentum=0.1, affine=True, track_running_stats=True)\n",
      "      )\n",
      "    )\n",
      "    (1): Bottleneck(\n",
      "      (conv1): Conv2d(1024, 256, kernel_size=(1, 1), stride=(1, 1), bias=False)\n",
      "      (bn1): BatchNorm2d(256, eps=1e-05, momentum=0.1, affine=True, track_running_stats=True)\n",
      "      (conv2): Conv2d(256, 256, kernel_size=(3, 3), stride=(1, 1), padding=(1, 1), bias=False)\n",
      "      (bn2): BatchNorm2d(256, eps=1e-05, momentum=0.1, affine=True, track_running_stats=True)\n",
      "      (conv3): Conv2d(256, 1024, kernel_size=(1, 1), stride=(1, 1), bias=False)\n",
      "      (bn3): BatchNorm2d(1024, eps=1e-05, momentum=0.1, affine=True, track_running_stats=True)\n",
      "      (relu): ReLU(inplace=True)\n",
      "    )\n",
      "    (2): Bottleneck(\n",
      "      (conv1): Conv2d(1024, 256, kernel_size=(1, 1), stride=(1, 1), bias=False)\n",
      "      (bn1): BatchNorm2d(256, eps=1e-05, momentum=0.1, affine=True, track_running_stats=True)\n",
      "      (conv2): Conv2d(256, 256, kernel_size=(3, 3), stride=(1, 1), padding=(1, 1), bias=False)\n",
      "      (bn2): BatchNorm2d(256, eps=1e-05, momentum=0.1, affine=True, track_running_stats=True)\n",
      "      (conv3): Conv2d(256, 1024, kernel_size=(1, 1), stride=(1, 1), bias=False)\n",
      "      (bn3): BatchNorm2d(1024, eps=1e-05, momentum=0.1, affine=True, track_running_stats=True)\n",
      "      (relu): ReLU(inplace=True)\n",
      "    )\n",
      "    (3): Bottleneck(\n",
      "      (conv1): Conv2d(1024, 256, kernel_size=(1, 1), stride=(1, 1), bias=False)\n",
      "      (bn1): BatchNorm2d(256, eps=1e-05, momentum=0.1, affine=True, track_running_stats=True)\n",
      "      (conv2): Conv2d(256, 256, kernel_size=(3, 3), stride=(1, 1), padding=(1, 1), bias=False)\n",
      "      (bn2): BatchNorm2d(256, eps=1e-05, momentum=0.1, affine=True, track_running_stats=True)\n",
      "      (conv3): Conv2d(256, 1024, kernel_size=(1, 1), stride=(1, 1), bias=False)\n",
      "      (bn3): BatchNorm2d(1024, eps=1e-05, momentum=0.1, affine=True, track_running_stats=True)\n",
      "      (relu): ReLU(inplace=True)\n",
      "    )\n",
      "    (4): Bottleneck(\n",
      "      (conv1): Conv2d(1024, 256, kernel_size=(1, 1), stride=(1, 1), bias=False)\n",
      "      (bn1): BatchNorm2d(256, eps=1e-05, momentum=0.1, affine=True, track_running_stats=True)\n",
      "      (conv2): Conv2d(256, 256, kernel_size=(3, 3), stride=(1, 1), padding=(1, 1), bias=False)\n",
      "      (bn2): BatchNorm2d(256, eps=1e-05, momentum=0.1, affine=True, track_running_stats=True)\n",
      "      (conv3): Conv2d(256, 1024, kernel_size=(1, 1), stride=(1, 1), bias=False)\n",
      "      (bn3): BatchNorm2d(1024, eps=1e-05, momentum=0.1, affine=True, track_running_stats=True)\n",
      "      (relu): ReLU(inplace=True)\n",
      "    )\n",
      "    (5): Bottleneck(\n",
      "      (conv1): Conv2d(1024, 256, kernel_size=(1, 1), stride=(1, 1), bias=False)\n",
      "      (bn1): BatchNorm2d(256, eps=1e-05, momentum=0.1, affine=True, track_running_stats=True)\n",
      "      (conv2): Conv2d(256, 256, kernel_size=(3, 3), stride=(1, 1), padding=(1, 1), bias=False)\n",
      "      (bn2): BatchNorm2d(256, eps=1e-05, momentum=0.1, affine=True, track_running_stats=True)\n",
      "      (conv3): Conv2d(256, 1024, kernel_size=(1, 1), stride=(1, 1), bias=False)\n",
      "      (bn3): BatchNorm2d(1024, eps=1e-05, momentum=0.1, affine=True, track_running_stats=True)\n",
      "      (relu): ReLU(inplace=True)\n",
      "    )\n",
      "    (6): Bottleneck(\n",
      "      (conv1): Conv2d(1024, 256, kernel_size=(1, 1), stride=(1, 1), bias=False)\n",
      "      (bn1): BatchNorm2d(256, eps=1e-05, momentum=0.1, affine=True, track_running_stats=True)\n",
      "      (conv2): Conv2d(256, 256, kernel_size=(3, 3), stride=(1, 1), padding=(1, 1), bias=False)\n",
      "      (bn2): BatchNorm2d(256, eps=1e-05, momentum=0.1, affine=True, track_running_stats=True)\n",
      "      (conv3): Conv2d(256, 1024, kernel_size=(1, 1), stride=(1, 1), bias=False)\n",
      "      (bn3): BatchNorm2d(1024, eps=1e-05, momentum=0.1, affine=True, track_running_stats=True)\n",
      "      (relu): ReLU(inplace=True)\n",
      "    )\n",
      "    (7): Bottleneck(\n",
      "      (conv1): Conv2d(1024, 256, kernel_size=(1, 1), stride=(1, 1), bias=False)\n",
      "      (bn1): BatchNorm2d(256, eps=1e-05, momentum=0.1, affine=True, track_running_stats=True)\n",
      "      (conv2): Conv2d(256, 256, kernel_size=(3, 3), stride=(1, 1), padding=(1, 1), bias=False)\n",
      "      (bn2): BatchNorm2d(256, eps=1e-05, momentum=0.1, affine=True, track_running_stats=True)\n",
      "      (conv3): Conv2d(256, 1024, kernel_size=(1, 1), stride=(1, 1), bias=False)\n",
      "      (bn3): BatchNorm2d(1024, eps=1e-05, momentum=0.1, affine=True, track_running_stats=True)\n",
      "      (relu): ReLU(inplace=True)\n",
      "    )\n",
      "    (8): Bottleneck(\n",
      "      (conv1): Conv2d(1024, 256, kernel_size=(1, 1), stride=(1, 1), bias=False)\n",
      "      (bn1): BatchNorm2d(256, eps=1e-05, momentum=0.1, affine=True, track_running_stats=True)\n",
      "      (conv2): Conv2d(256, 256, kernel_size=(3, 3), stride=(1, 1), padding=(1, 1), bias=False)\n",
      "      (bn2): BatchNorm2d(256, eps=1e-05, momentum=0.1, affine=True, track_running_stats=True)\n",
      "      (conv3): Conv2d(256, 1024, kernel_size=(1, 1), stride=(1, 1), bias=False)\n",
      "      (bn3): BatchNorm2d(1024, eps=1e-05, momentum=0.1, affine=True, track_running_stats=True)\n",
      "      (relu): ReLU(inplace=True)\n",
      "    )\n",
      "    (9): Bottleneck(\n",
      "      (conv1): Conv2d(1024, 256, kernel_size=(1, 1), stride=(1, 1), bias=False)\n",
      "      (bn1): BatchNorm2d(256, eps=1e-05, momentum=0.1, affine=True, track_running_stats=True)\n",
      "      (conv2): Conv2d(256, 256, kernel_size=(3, 3), stride=(1, 1), padding=(1, 1), bias=False)\n",
      "      (bn2): BatchNorm2d(256, eps=1e-05, momentum=0.1, affine=True, track_running_stats=True)\n",
      "      (conv3): Conv2d(256, 1024, kernel_size=(1, 1), stride=(1, 1), bias=False)\n",
      "      (bn3): BatchNorm2d(1024, eps=1e-05, momentum=0.1, affine=True, track_running_stats=True)\n",
      "      (relu): ReLU(inplace=True)\n",
      "    )\n",
      "    (10): Bottleneck(\n",
      "      (conv1): Conv2d(1024, 256, kernel_size=(1, 1), stride=(1, 1), bias=False)\n",
      "      (bn1): BatchNorm2d(256, eps=1e-05, momentum=0.1, affine=True, track_running_stats=True)\n",
      "      (conv2): Conv2d(256, 256, kernel_size=(3, 3), stride=(1, 1), padding=(1, 1), bias=False)\n",
      "      (bn2): BatchNorm2d(256, eps=1e-05, momentum=0.1, affine=True, track_running_stats=True)\n",
      "      (conv3): Conv2d(256, 1024, kernel_size=(1, 1), stride=(1, 1), bias=False)\n",
      "      (bn3): BatchNorm2d(1024, eps=1e-05, momentum=0.1, affine=True, track_running_stats=True)\n",
      "      (relu): ReLU(inplace=True)\n",
      "    )\n",
      "    (11): Bottleneck(\n",
      "      (conv1): Conv2d(1024, 256, kernel_size=(1, 1), stride=(1, 1), bias=False)\n",
      "      (bn1): BatchNorm2d(256, eps=1e-05, momentum=0.1, affine=True, track_running_stats=True)\n",
      "      (conv2): Conv2d(256, 256, kernel_size=(3, 3), stride=(1, 1), padding=(1, 1), bias=False)\n",
      "      (bn2): BatchNorm2d(256, eps=1e-05, momentum=0.1, affine=True, track_running_stats=True)\n",
      "      (conv3): Conv2d(256, 1024, kernel_size=(1, 1), stride=(1, 1), bias=False)\n",
      "      (bn3): BatchNorm2d(1024, eps=1e-05, momentum=0.1, affine=True, track_running_stats=True)\n",
      "      (relu): ReLU(inplace=True)\n",
      "    )\n",
      "    (12): Bottleneck(\n",
      "      (conv1): Conv2d(1024, 256, kernel_size=(1, 1), stride=(1, 1), bias=False)\n",
      "      (bn1): BatchNorm2d(256, eps=1e-05, momentum=0.1, affine=True, track_running_stats=True)\n",
      "      (conv2): Conv2d(256, 256, kernel_size=(3, 3), stride=(1, 1), padding=(1, 1), bias=False)\n",
      "      (bn2): BatchNorm2d(256, eps=1e-05, momentum=0.1, affine=True, track_running_stats=True)\n",
      "      (conv3): Conv2d(256, 1024, kernel_size=(1, 1), stride=(1, 1), bias=False)\n",
      "      (bn3): BatchNorm2d(1024, eps=1e-05, momentum=0.1, affine=True, track_running_stats=True)\n",
      "      (relu): ReLU(inplace=True)\n",
      "    )\n",
      "    (13): Bottleneck(\n",
      "      (conv1): Conv2d(1024, 256, kernel_size=(1, 1), stride=(1, 1), bias=False)\n",
      "      (bn1): BatchNorm2d(256, eps=1e-05, momentum=0.1, affine=True, track_running_stats=True)\n",
      "      (conv2): Conv2d(256, 256, kernel_size=(3, 3), stride=(1, 1), padding=(1, 1), bias=False)\n",
      "      (bn2): BatchNorm2d(256, eps=1e-05, momentum=0.1, affine=True, track_running_stats=True)\n",
      "      (conv3): Conv2d(256, 1024, kernel_size=(1, 1), stride=(1, 1), bias=False)\n",
      "      (bn3): BatchNorm2d(1024, eps=1e-05, momentum=0.1, affine=True, track_running_stats=True)\n",
      "      (relu): ReLU(inplace=True)\n",
      "    )\n",
      "    (14): Bottleneck(\n",
      "      (conv1): Conv2d(1024, 256, kernel_size=(1, 1), stride=(1, 1), bias=False)\n",
      "      (bn1): BatchNorm2d(256, eps=1e-05, momentum=0.1, affine=True, track_running_stats=True)\n",
      "      (conv2): Conv2d(256, 256, kernel_size=(3, 3), stride=(1, 1), padding=(1, 1), bias=False)\n",
      "      (bn2): BatchNorm2d(256, eps=1e-05, momentum=0.1, affine=True, track_running_stats=True)\n",
      "      (conv3): Conv2d(256, 1024, kernel_size=(1, 1), stride=(1, 1), bias=False)\n",
      "      (bn3): BatchNorm2d(1024, eps=1e-05, momentum=0.1, affine=True, track_running_stats=True)\n",
      "      (relu): ReLU(inplace=True)\n",
      "    )\n",
      "    (15): Bottleneck(\n",
      "      (conv1): Conv2d(1024, 256, kernel_size=(1, 1), stride=(1, 1), bias=False)\n",
      "      (bn1): BatchNorm2d(256, eps=1e-05, momentum=0.1, affine=True, track_running_stats=True)\n",
      "      (conv2): Conv2d(256, 256, kernel_size=(3, 3), stride=(1, 1), padding=(1, 1), bias=False)\n",
      "      (bn2): BatchNorm2d(256, eps=1e-05, momentum=0.1, affine=True, track_running_stats=True)\n",
      "      (conv3): Conv2d(256, 1024, kernel_size=(1, 1), stride=(1, 1), bias=False)\n",
      "      (bn3): BatchNorm2d(1024, eps=1e-05, momentum=0.1, affine=True, track_running_stats=True)\n",
      "      (relu): ReLU(inplace=True)\n",
      "    )\n",
      "    (16): Bottleneck(\n",
      "      (conv1): Conv2d(1024, 256, kernel_size=(1, 1), stride=(1, 1), bias=False)\n",
      "      (bn1): BatchNorm2d(256, eps=1e-05, momentum=0.1, affine=True, track_running_stats=True)\n",
      "      (conv2): Conv2d(256, 256, kernel_size=(3, 3), stride=(1, 1), padding=(1, 1), bias=False)\n",
      "      (bn2): BatchNorm2d(256, eps=1e-05, momentum=0.1, affine=True, track_running_stats=True)\n",
      "      (conv3): Conv2d(256, 1024, kernel_size=(1, 1), stride=(1, 1), bias=False)\n",
      "      (bn3): BatchNorm2d(1024, eps=1e-05, momentum=0.1, affine=True, track_running_stats=True)\n",
      "      (relu): ReLU(inplace=True)\n",
      "    )\n",
      "    (17): Bottleneck(\n",
      "      (conv1): Conv2d(1024, 256, kernel_size=(1, 1), stride=(1, 1), bias=False)\n",
      "      (bn1): BatchNorm2d(256, eps=1e-05, momentum=0.1, affine=True, track_running_stats=True)\n",
      "      (conv2): Conv2d(256, 256, kernel_size=(3, 3), stride=(1, 1), padding=(1, 1), bias=False)\n",
      "      (bn2): BatchNorm2d(256, eps=1e-05, momentum=0.1, affine=True, track_running_stats=True)\n",
      "      (conv3): Conv2d(256, 1024, kernel_size=(1, 1), stride=(1, 1), bias=False)\n",
      "      (bn3): BatchNorm2d(1024, eps=1e-05, momentum=0.1, affine=True, track_running_stats=True)\n",
      "      (relu): ReLU(inplace=True)\n",
      "    )\n",
      "    (18): Bottleneck(\n",
      "      (conv1): Conv2d(1024, 256, kernel_size=(1, 1), stride=(1, 1), bias=False)\n",
      "      (bn1): BatchNorm2d(256, eps=1e-05, momentum=0.1, affine=True, track_running_stats=True)\n",
      "      (conv2): Conv2d(256, 256, kernel_size=(3, 3), stride=(1, 1), padding=(1, 1), bias=False)\n",
      "      (bn2): BatchNorm2d(256, eps=1e-05, momentum=0.1, affine=True, track_running_stats=True)\n",
      "      (conv3): Conv2d(256, 1024, kernel_size=(1, 1), stride=(1, 1), bias=False)\n",
      "      (bn3): BatchNorm2d(1024, eps=1e-05, momentum=0.1, affine=True, track_running_stats=True)\n",
      "      (relu): ReLU(inplace=True)\n",
      "    )\n",
      "    (19): Bottleneck(\n",
      "      (conv1): Conv2d(1024, 256, kernel_size=(1, 1), stride=(1, 1), bias=False)\n",
      "      (bn1): BatchNorm2d(256, eps=1e-05, momentum=0.1, affine=True, track_running_stats=True)\n",
      "      (conv2): Conv2d(256, 256, kernel_size=(3, 3), stride=(1, 1), padding=(1, 1), bias=False)\n",
      "      (bn2): BatchNorm2d(256, eps=1e-05, momentum=0.1, affine=True, track_running_stats=True)\n",
      "      (conv3): Conv2d(256, 1024, kernel_size=(1, 1), stride=(1, 1), bias=False)\n",
      "      (bn3): BatchNorm2d(1024, eps=1e-05, momentum=0.1, affine=True, track_running_stats=True)\n",
      "      (relu): ReLU(inplace=True)\n",
      "    )\n",
      "    (20): Bottleneck(\n",
      "      (conv1): Conv2d(1024, 256, kernel_size=(1, 1), stride=(1, 1), bias=False)\n",
      "      (bn1): BatchNorm2d(256, eps=1e-05, momentum=0.1, affine=True, track_running_stats=True)\n",
      "      (conv2): Conv2d(256, 256, kernel_size=(3, 3), stride=(1, 1), padding=(1, 1), bias=False)\n",
      "      (bn2): BatchNorm2d(256, eps=1e-05, momentum=0.1, affine=True, track_running_stats=True)\n",
      "      (conv3): Conv2d(256, 1024, kernel_size=(1, 1), stride=(1, 1), bias=False)\n",
      "      (bn3): BatchNorm2d(1024, eps=1e-05, momentum=0.1, affine=True, track_running_stats=True)\n",
      "      (relu): ReLU(inplace=True)\n",
      "    )\n",
      "    (21): Bottleneck(\n",
      "      (conv1): Conv2d(1024, 256, kernel_size=(1, 1), stride=(1, 1), bias=False)\n",
      "      (bn1): BatchNorm2d(256, eps=1e-05, momentum=0.1, affine=True, track_running_stats=True)\n",
      "      (conv2): Conv2d(256, 256, kernel_size=(3, 3), stride=(1, 1), padding=(1, 1), bias=False)\n",
      "      (bn2): BatchNorm2d(256, eps=1e-05, momentum=0.1, affine=True, track_running_stats=True)\n",
      "      (conv3): Conv2d(256, 1024, kernel_size=(1, 1), stride=(1, 1), bias=False)\n",
      "      (bn3): BatchNorm2d(1024, eps=1e-05, momentum=0.1, affine=True, track_running_stats=True)\n",
      "      (relu): ReLU(inplace=True)\n",
      "    )\n",
      "    (22): Bottleneck(\n",
      "      (conv1): Conv2d(1024, 256, kernel_size=(1, 1), stride=(1, 1), bias=False)\n",
      "      (bn1): BatchNorm2d(256, eps=1e-05, momentum=0.1, affine=True, track_running_stats=True)\n",
      "      (conv2): Conv2d(256, 256, kernel_size=(3, 3), stride=(1, 1), padding=(1, 1), bias=False)\n",
      "      (bn2): BatchNorm2d(256, eps=1e-05, momentum=0.1, affine=True, track_running_stats=True)\n",
      "      (conv3): Conv2d(256, 1024, kernel_size=(1, 1), stride=(1, 1), bias=False)\n",
      "      (bn3): BatchNorm2d(1024, eps=1e-05, momentum=0.1, affine=True, track_running_stats=True)\n",
      "      (relu): ReLU(inplace=True)\n",
      "    )\n",
      "  )\n",
      "  (layer4): Sequential(\n",
      "    (0): Bottleneck(\n",
      "      (conv1): Conv2d(1024, 512, kernel_size=(1, 1), stride=(1, 1), bias=False)\n",
      "      (bn1): BatchNorm2d(512, eps=1e-05, momentum=0.1, affine=True, track_running_stats=True)\n",
      "      (conv2): Conv2d(512, 512, kernel_size=(3, 3), stride=(2, 2), padding=(1, 1), bias=False)\n",
      "      (bn2): BatchNorm2d(512, eps=1e-05, momentum=0.1, affine=True, track_running_stats=True)\n",
      "      (conv3): Conv2d(512, 2048, kernel_size=(1, 1), stride=(1, 1), bias=False)\n",
      "      (bn3): BatchNorm2d(2048, eps=1e-05, momentum=0.1, affine=True, track_running_stats=True)\n",
      "      (relu): ReLU(inplace=True)\n",
      "      (downsample): Sequential(\n",
      "        (0): Conv2d(1024, 2048, kernel_size=(1, 1), stride=(2, 2), bias=False)\n",
      "        (1): BatchNorm2d(2048, eps=1e-05, momentum=0.1, affine=True, track_running_stats=True)\n",
      "      )\n",
      "    )\n",
      "    (1): Bottleneck(\n",
      "      (conv1): Conv2d(2048, 512, kernel_size=(1, 1), stride=(1, 1), bias=False)\n",
      "      (bn1): BatchNorm2d(512, eps=1e-05, momentum=0.1, affine=True, track_running_stats=True)\n",
      "      (conv2): Conv2d(512, 512, kernel_size=(3, 3), stride=(1, 1), padding=(1, 1), bias=False)\n",
      "      (bn2): BatchNorm2d(512, eps=1e-05, momentum=0.1, affine=True, track_running_stats=True)\n",
      "      (conv3): Conv2d(512, 2048, kernel_size=(1, 1), stride=(1, 1), bias=False)\n",
      "      (bn3): BatchNorm2d(2048, eps=1e-05, momentum=0.1, affine=True, track_running_stats=True)\n",
      "      (relu): ReLU(inplace=True)\n",
      "    )\n",
      "    (2): Bottleneck(\n",
      "      (conv1): Conv2d(2048, 512, kernel_size=(1, 1), stride=(1, 1), bias=False)\n",
      "      (bn1): BatchNorm2d(512, eps=1e-05, momentum=0.1, affine=True, track_running_stats=True)\n",
      "      (conv2): Conv2d(512, 512, kernel_size=(3, 3), stride=(1, 1), padding=(1, 1), bias=False)\n",
      "      (bn2): BatchNorm2d(512, eps=1e-05, momentum=0.1, affine=True, track_running_stats=True)\n",
      "      (conv3): Conv2d(512, 2048, kernel_size=(1, 1), stride=(1, 1), bias=False)\n",
      "      (bn3): BatchNorm2d(2048, eps=1e-05, momentum=0.1, affine=True, track_running_stats=True)\n",
      "      (relu): ReLU(inplace=True)\n",
      "    )\n",
      "  )\n",
      "  (avgpool): AdaptiveAvgPool2d(output_size=(1, 1))\n",
      "  (fc): Linear(in_features=2048, out_features=1000, bias=True)\n",
      ")\n"
     ]
    }
   ],
   "source": [
    "print(resnet)"
   ]
  },
  {
   "cell_type": "code",
   "execution_count": 6,
   "id": "0e4ac29d-5341-43a6-a33e-e7996f718819",
   "metadata": {},
   "outputs": [],
   "source": [
    "preprocess = transforms.Compose([\n",
    "    transforms.Resize(256),\n",
    "    transforms.CenterCrop(224),\n",
    "    transforms.ToTensor(),\n",
    "    transforms.Normalize(\n",
    "        mean=[0.485, 0.456, 0.406],\n",
    "        std=[0.229, 0.224, 0.225]\n",
    "    )\n",
    "])"
   ]
  },
  {
   "cell_type": "code",
   "execution_count": 7,
   "id": "39aec45e-7640-44ed-af67-ae7b44f7a8f9",
   "metadata": {},
   "outputs": [],
   "source": [
    "img = Image.open('./data/bobby.jpg')\n",
    "img_t = preprocess(img)\n",
    "batch_t = torch.unsqueeze(img_t, 0)"
   ]
  },
  {
   "cell_type": "code",
   "execution_count": 8,
   "id": "d6e03dca-dfe1-4d30-becb-b2ba8dceb114",
   "metadata": {
    "collapsed": true,
    "jupyter": {
     "outputs_hidden": true
    },
    "tags": []
   },
   "outputs": [
    {
     "data": {
      "text/plain": [
       "ResNet(\n",
       "  (conv1): Conv2d(3, 64, kernel_size=(7, 7), stride=(2, 2), padding=(3, 3), bias=False)\n",
       "  (bn1): BatchNorm2d(64, eps=1e-05, momentum=0.1, affine=True, track_running_stats=True)\n",
       "  (relu): ReLU(inplace=True)\n",
       "  (maxpool): MaxPool2d(kernel_size=3, stride=2, padding=1, dilation=1, ceil_mode=False)\n",
       "  (layer1): Sequential(\n",
       "    (0): Bottleneck(\n",
       "      (conv1): Conv2d(64, 64, kernel_size=(1, 1), stride=(1, 1), bias=False)\n",
       "      (bn1): BatchNorm2d(64, eps=1e-05, momentum=0.1, affine=True, track_running_stats=True)\n",
       "      (conv2): Conv2d(64, 64, kernel_size=(3, 3), stride=(1, 1), padding=(1, 1), bias=False)\n",
       "      (bn2): BatchNorm2d(64, eps=1e-05, momentum=0.1, affine=True, track_running_stats=True)\n",
       "      (conv3): Conv2d(64, 256, kernel_size=(1, 1), stride=(1, 1), bias=False)\n",
       "      (bn3): BatchNorm2d(256, eps=1e-05, momentum=0.1, affine=True, track_running_stats=True)\n",
       "      (relu): ReLU(inplace=True)\n",
       "      (downsample): Sequential(\n",
       "        (0): Conv2d(64, 256, kernel_size=(1, 1), stride=(1, 1), bias=False)\n",
       "        (1): BatchNorm2d(256, eps=1e-05, momentum=0.1, affine=True, track_running_stats=True)\n",
       "      )\n",
       "    )\n",
       "    (1): Bottleneck(\n",
       "      (conv1): Conv2d(256, 64, kernel_size=(1, 1), stride=(1, 1), bias=False)\n",
       "      (bn1): BatchNorm2d(64, eps=1e-05, momentum=0.1, affine=True, track_running_stats=True)\n",
       "      (conv2): Conv2d(64, 64, kernel_size=(3, 3), stride=(1, 1), padding=(1, 1), bias=False)\n",
       "      (bn2): BatchNorm2d(64, eps=1e-05, momentum=0.1, affine=True, track_running_stats=True)\n",
       "      (conv3): Conv2d(64, 256, kernel_size=(1, 1), stride=(1, 1), bias=False)\n",
       "      (bn3): BatchNorm2d(256, eps=1e-05, momentum=0.1, affine=True, track_running_stats=True)\n",
       "      (relu): ReLU(inplace=True)\n",
       "    )\n",
       "    (2): Bottleneck(\n",
       "      (conv1): Conv2d(256, 64, kernel_size=(1, 1), stride=(1, 1), bias=False)\n",
       "      (bn1): BatchNorm2d(64, eps=1e-05, momentum=0.1, affine=True, track_running_stats=True)\n",
       "      (conv2): Conv2d(64, 64, kernel_size=(3, 3), stride=(1, 1), padding=(1, 1), bias=False)\n",
       "      (bn2): BatchNorm2d(64, eps=1e-05, momentum=0.1, affine=True, track_running_stats=True)\n",
       "      (conv3): Conv2d(64, 256, kernel_size=(1, 1), stride=(1, 1), bias=False)\n",
       "      (bn3): BatchNorm2d(256, eps=1e-05, momentum=0.1, affine=True, track_running_stats=True)\n",
       "      (relu): ReLU(inplace=True)\n",
       "    )\n",
       "  )\n",
       "  (layer2): Sequential(\n",
       "    (0): Bottleneck(\n",
       "      (conv1): Conv2d(256, 128, kernel_size=(1, 1), stride=(1, 1), bias=False)\n",
       "      (bn1): BatchNorm2d(128, eps=1e-05, momentum=0.1, affine=True, track_running_stats=True)\n",
       "      (conv2): Conv2d(128, 128, kernel_size=(3, 3), stride=(2, 2), padding=(1, 1), bias=False)\n",
       "      (bn2): BatchNorm2d(128, eps=1e-05, momentum=0.1, affine=True, track_running_stats=True)\n",
       "      (conv3): Conv2d(128, 512, kernel_size=(1, 1), stride=(1, 1), bias=False)\n",
       "      (bn3): BatchNorm2d(512, eps=1e-05, momentum=0.1, affine=True, track_running_stats=True)\n",
       "      (relu): ReLU(inplace=True)\n",
       "      (downsample): Sequential(\n",
       "        (0): Conv2d(256, 512, kernel_size=(1, 1), stride=(2, 2), bias=False)\n",
       "        (1): BatchNorm2d(512, eps=1e-05, momentum=0.1, affine=True, track_running_stats=True)\n",
       "      )\n",
       "    )\n",
       "    (1): Bottleneck(\n",
       "      (conv1): Conv2d(512, 128, kernel_size=(1, 1), stride=(1, 1), bias=False)\n",
       "      (bn1): BatchNorm2d(128, eps=1e-05, momentum=0.1, affine=True, track_running_stats=True)\n",
       "      (conv2): Conv2d(128, 128, kernel_size=(3, 3), stride=(1, 1), padding=(1, 1), bias=False)\n",
       "      (bn2): BatchNorm2d(128, eps=1e-05, momentum=0.1, affine=True, track_running_stats=True)\n",
       "      (conv3): Conv2d(128, 512, kernel_size=(1, 1), stride=(1, 1), bias=False)\n",
       "      (bn3): BatchNorm2d(512, eps=1e-05, momentum=0.1, affine=True, track_running_stats=True)\n",
       "      (relu): ReLU(inplace=True)\n",
       "    )\n",
       "    (2): Bottleneck(\n",
       "      (conv1): Conv2d(512, 128, kernel_size=(1, 1), stride=(1, 1), bias=False)\n",
       "      (bn1): BatchNorm2d(128, eps=1e-05, momentum=0.1, affine=True, track_running_stats=True)\n",
       "      (conv2): Conv2d(128, 128, kernel_size=(3, 3), stride=(1, 1), padding=(1, 1), bias=False)\n",
       "      (bn2): BatchNorm2d(128, eps=1e-05, momentum=0.1, affine=True, track_running_stats=True)\n",
       "      (conv3): Conv2d(128, 512, kernel_size=(1, 1), stride=(1, 1), bias=False)\n",
       "      (bn3): BatchNorm2d(512, eps=1e-05, momentum=0.1, affine=True, track_running_stats=True)\n",
       "      (relu): ReLU(inplace=True)\n",
       "    )\n",
       "    (3): Bottleneck(\n",
       "      (conv1): Conv2d(512, 128, kernel_size=(1, 1), stride=(1, 1), bias=False)\n",
       "      (bn1): BatchNorm2d(128, eps=1e-05, momentum=0.1, affine=True, track_running_stats=True)\n",
       "      (conv2): Conv2d(128, 128, kernel_size=(3, 3), stride=(1, 1), padding=(1, 1), bias=False)\n",
       "      (bn2): BatchNorm2d(128, eps=1e-05, momentum=0.1, affine=True, track_running_stats=True)\n",
       "      (conv3): Conv2d(128, 512, kernel_size=(1, 1), stride=(1, 1), bias=False)\n",
       "      (bn3): BatchNorm2d(512, eps=1e-05, momentum=0.1, affine=True, track_running_stats=True)\n",
       "      (relu): ReLU(inplace=True)\n",
       "    )\n",
       "  )\n",
       "  (layer3): Sequential(\n",
       "    (0): Bottleneck(\n",
       "      (conv1): Conv2d(512, 256, kernel_size=(1, 1), stride=(1, 1), bias=False)\n",
       "      (bn1): BatchNorm2d(256, eps=1e-05, momentum=0.1, affine=True, track_running_stats=True)\n",
       "      (conv2): Conv2d(256, 256, kernel_size=(3, 3), stride=(2, 2), padding=(1, 1), bias=False)\n",
       "      (bn2): BatchNorm2d(256, eps=1e-05, momentum=0.1, affine=True, track_running_stats=True)\n",
       "      (conv3): Conv2d(256, 1024, kernel_size=(1, 1), stride=(1, 1), bias=False)\n",
       "      (bn3): BatchNorm2d(1024, eps=1e-05, momentum=0.1, affine=True, track_running_stats=True)\n",
       "      (relu): ReLU(inplace=True)\n",
       "      (downsample): Sequential(\n",
       "        (0): Conv2d(512, 1024, kernel_size=(1, 1), stride=(2, 2), bias=False)\n",
       "        (1): BatchNorm2d(1024, eps=1e-05, momentum=0.1, affine=True, track_running_stats=True)\n",
       "      )\n",
       "    )\n",
       "    (1): Bottleneck(\n",
       "      (conv1): Conv2d(1024, 256, kernel_size=(1, 1), stride=(1, 1), bias=False)\n",
       "      (bn1): BatchNorm2d(256, eps=1e-05, momentum=0.1, affine=True, track_running_stats=True)\n",
       "      (conv2): Conv2d(256, 256, kernel_size=(3, 3), stride=(1, 1), padding=(1, 1), bias=False)\n",
       "      (bn2): BatchNorm2d(256, eps=1e-05, momentum=0.1, affine=True, track_running_stats=True)\n",
       "      (conv3): Conv2d(256, 1024, kernel_size=(1, 1), stride=(1, 1), bias=False)\n",
       "      (bn3): BatchNorm2d(1024, eps=1e-05, momentum=0.1, affine=True, track_running_stats=True)\n",
       "      (relu): ReLU(inplace=True)\n",
       "    )\n",
       "    (2): Bottleneck(\n",
       "      (conv1): Conv2d(1024, 256, kernel_size=(1, 1), stride=(1, 1), bias=False)\n",
       "      (bn1): BatchNorm2d(256, eps=1e-05, momentum=0.1, affine=True, track_running_stats=True)\n",
       "      (conv2): Conv2d(256, 256, kernel_size=(3, 3), stride=(1, 1), padding=(1, 1), bias=False)\n",
       "      (bn2): BatchNorm2d(256, eps=1e-05, momentum=0.1, affine=True, track_running_stats=True)\n",
       "      (conv3): Conv2d(256, 1024, kernel_size=(1, 1), stride=(1, 1), bias=False)\n",
       "      (bn3): BatchNorm2d(1024, eps=1e-05, momentum=0.1, affine=True, track_running_stats=True)\n",
       "      (relu): ReLU(inplace=True)\n",
       "    )\n",
       "    (3): Bottleneck(\n",
       "      (conv1): Conv2d(1024, 256, kernel_size=(1, 1), stride=(1, 1), bias=False)\n",
       "      (bn1): BatchNorm2d(256, eps=1e-05, momentum=0.1, affine=True, track_running_stats=True)\n",
       "      (conv2): Conv2d(256, 256, kernel_size=(3, 3), stride=(1, 1), padding=(1, 1), bias=False)\n",
       "      (bn2): BatchNorm2d(256, eps=1e-05, momentum=0.1, affine=True, track_running_stats=True)\n",
       "      (conv3): Conv2d(256, 1024, kernel_size=(1, 1), stride=(1, 1), bias=False)\n",
       "      (bn3): BatchNorm2d(1024, eps=1e-05, momentum=0.1, affine=True, track_running_stats=True)\n",
       "      (relu): ReLU(inplace=True)\n",
       "    )\n",
       "    (4): Bottleneck(\n",
       "      (conv1): Conv2d(1024, 256, kernel_size=(1, 1), stride=(1, 1), bias=False)\n",
       "      (bn1): BatchNorm2d(256, eps=1e-05, momentum=0.1, affine=True, track_running_stats=True)\n",
       "      (conv2): Conv2d(256, 256, kernel_size=(3, 3), stride=(1, 1), padding=(1, 1), bias=False)\n",
       "      (bn2): BatchNorm2d(256, eps=1e-05, momentum=0.1, affine=True, track_running_stats=True)\n",
       "      (conv3): Conv2d(256, 1024, kernel_size=(1, 1), stride=(1, 1), bias=False)\n",
       "      (bn3): BatchNorm2d(1024, eps=1e-05, momentum=0.1, affine=True, track_running_stats=True)\n",
       "      (relu): ReLU(inplace=True)\n",
       "    )\n",
       "    (5): Bottleneck(\n",
       "      (conv1): Conv2d(1024, 256, kernel_size=(1, 1), stride=(1, 1), bias=False)\n",
       "      (bn1): BatchNorm2d(256, eps=1e-05, momentum=0.1, affine=True, track_running_stats=True)\n",
       "      (conv2): Conv2d(256, 256, kernel_size=(3, 3), stride=(1, 1), padding=(1, 1), bias=False)\n",
       "      (bn2): BatchNorm2d(256, eps=1e-05, momentum=0.1, affine=True, track_running_stats=True)\n",
       "      (conv3): Conv2d(256, 1024, kernel_size=(1, 1), stride=(1, 1), bias=False)\n",
       "      (bn3): BatchNorm2d(1024, eps=1e-05, momentum=0.1, affine=True, track_running_stats=True)\n",
       "      (relu): ReLU(inplace=True)\n",
       "    )\n",
       "    (6): Bottleneck(\n",
       "      (conv1): Conv2d(1024, 256, kernel_size=(1, 1), stride=(1, 1), bias=False)\n",
       "      (bn1): BatchNorm2d(256, eps=1e-05, momentum=0.1, affine=True, track_running_stats=True)\n",
       "      (conv2): Conv2d(256, 256, kernel_size=(3, 3), stride=(1, 1), padding=(1, 1), bias=False)\n",
       "      (bn2): BatchNorm2d(256, eps=1e-05, momentum=0.1, affine=True, track_running_stats=True)\n",
       "      (conv3): Conv2d(256, 1024, kernel_size=(1, 1), stride=(1, 1), bias=False)\n",
       "      (bn3): BatchNorm2d(1024, eps=1e-05, momentum=0.1, affine=True, track_running_stats=True)\n",
       "      (relu): ReLU(inplace=True)\n",
       "    )\n",
       "    (7): Bottleneck(\n",
       "      (conv1): Conv2d(1024, 256, kernel_size=(1, 1), stride=(1, 1), bias=False)\n",
       "      (bn1): BatchNorm2d(256, eps=1e-05, momentum=0.1, affine=True, track_running_stats=True)\n",
       "      (conv2): Conv2d(256, 256, kernel_size=(3, 3), stride=(1, 1), padding=(1, 1), bias=False)\n",
       "      (bn2): BatchNorm2d(256, eps=1e-05, momentum=0.1, affine=True, track_running_stats=True)\n",
       "      (conv3): Conv2d(256, 1024, kernel_size=(1, 1), stride=(1, 1), bias=False)\n",
       "      (bn3): BatchNorm2d(1024, eps=1e-05, momentum=0.1, affine=True, track_running_stats=True)\n",
       "      (relu): ReLU(inplace=True)\n",
       "    )\n",
       "    (8): Bottleneck(\n",
       "      (conv1): Conv2d(1024, 256, kernel_size=(1, 1), stride=(1, 1), bias=False)\n",
       "      (bn1): BatchNorm2d(256, eps=1e-05, momentum=0.1, affine=True, track_running_stats=True)\n",
       "      (conv2): Conv2d(256, 256, kernel_size=(3, 3), stride=(1, 1), padding=(1, 1), bias=False)\n",
       "      (bn2): BatchNorm2d(256, eps=1e-05, momentum=0.1, affine=True, track_running_stats=True)\n",
       "      (conv3): Conv2d(256, 1024, kernel_size=(1, 1), stride=(1, 1), bias=False)\n",
       "      (bn3): BatchNorm2d(1024, eps=1e-05, momentum=0.1, affine=True, track_running_stats=True)\n",
       "      (relu): ReLU(inplace=True)\n",
       "    )\n",
       "    (9): Bottleneck(\n",
       "      (conv1): Conv2d(1024, 256, kernel_size=(1, 1), stride=(1, 1), bias=False)\n",
       "      (bn1): BatchNorm2d(256, eps=1e-05, momentum=0.1, affine=True, track_running_stats=True)\n",
       "      (conv2): Conv2d(256, 256, kernel_size=(3, 3), stride=(1, 1), padding=(1, 1), bias=False)\n",
       "      (bn2): BatchNorm2d(256, eps=1e-05, momentum=0.1, affine=True, track_running_stats=True)\n",
       "      (conv3): Conv2d(256, 1024, kernel_size=(1, 1), stride=(1, 1), bias=False)\n",
       "      (bn3): BatchNorm2d(1024, eps=1e-05, momentum=0.1, affine=True, track_running_stats=True)\n",
       "      (relu): ReLU(inplace=True)\n",
       "    )\n",
       "    (10): Bottleneck(\n",
       "      (conv1): Conv2d(1024, 256, kernel_size=(1, 1), stride=(1, 1), bias=False)\n",
       "      (bn1): BatchNorm2d(256, eps=1e-05, momentum=0.1, affine=True, track_running_stats=True)\n",
       "      (conv2): Conv2d(256, 256, kernel_size=(3, 3), stride=(1, 1), padding=(1, 1), bias=False)\n",
       "      (bn2): BatchNorm2d(256, eps=1e-05, momentum=0.1, affine=True, track_running_stats=True)\n",
       "      (conv3): Conv2d(256, 1024, kernel_size=(1, 1), stride=(1, 1), bias=False)\n",
       "      (bn3): BatchNorm2d(1024, eps=1e-05, momentum=0.1, affine=True, track_running_stats=True)\n",
       "      (relu): ReLU(inplace=True)\n",
       "    )\n",
       "    (11): Bottleneck(\n",
       "      (conv1): Conv2d(1024, 256, kernel_size=(1, 1), stride=(1, 1), bias=False)\n",
       "      (bn1): BatchNorm2d(256, eps=1e-05, momentum=0.1, affine=True, track_running_stats=True)\n",
       "      (conv2): Conv2d(256, 256, kernel_size=(3, 3), stride=(1, 1), padding=(1, 1), bias=False)\n",
       "      (bn2): BatchNorm2d(256, eps=1e-05, momentum=0.1, affine=True, track_running_stats=True)\n",
       "      (conv3): Conv2d(256, 1024, kernel_size=(1, 1), stride=(1, 1), bias=False)\n",
       "      (bn3): BatchNorm2d(1024, eps=1e-05, momentum=0.1, affine=True, track_running_stats=True)\n",
       "      (relu): ReLU(inplace=True)\n",
       "    )\n",
       "    (12): Bottleneck(\n",
       "      (conv1): Conv2d(1024, 256, kernel_size=(1, 1), stride=(1, 1), bias=False)\n",
       "      (bn1): BatchNorm2d(256, eps=1e-05, momentum=0.1, affine=True, track_running_stats=True)\n",
       "      (conv2): Conv2d(256, 256, kernel_size=(3, 3), stride=(1, 1), padding=(1, 1), bias=False)\n",
       "      (bn2): BatchNorm2d(256, eps=1e-05, momentum=0.1, affine=True, track_running_stats=True)\n",
       "      (conv3): Conv2d(256, 1024, kernel_size=(1, 1), stride=(1, 1), bias=False)\n",
       "      (bn3): BatchNorm2d(1024, eps=1e-05, momentum=0.1, affine=True, track_running_stats=True)\n",
       "      (relu): ReLU(inplace=True)\n",
       "    )\n",
       "    (13): Bottleneck(\n",
       "      (conv1): Conv2d(1024, 256, kernel_size=(1, 1), stride=(1, 1), bias=False)\n",
       "      (bn1): BatchNorm2d(256, eps=1e-05, momentum=0.1, affine=True, track_running_stats=True)\n",
       "      (conv2): Conv2d(256, 256, kernel_size=(3, 3), stride=(1, 1), padding=(1, 1), bias=False)\n",
       "      (bn2): BatchNorm2d(256, eps=1e-05, momentum=0.1, affine=True, track_running_stats=True)\n",
       "      (conv3): Conv2d(256, 1024, kernel_size=(1, 1), stride=(1, 1), bias=False)\n",
       "      (bn3): BatchNorm2d(1024, eps=1e-05, momentum=0.1, affine=True, track_running_stats=True)\n",
       "      (relu): ReLU(inplace=True)\n",
       "    )\n",
       "    (14): Bottleneck(\n",
       "      (conv1): Conv2d(1024, 256, kernel_size=(1, 1), stride=(1, 1), bias=False)\n",
       "      (bn1): BatchNorm2d(256, eps=1e-05, momentum=0.1, affine=True, track_running_stats=True)\n",
       "      (conv2): Conv2d(256, 256, kernel_size=(3, 3), stride=(1, 1), padding=(1, 1), bias=False)\n",
       "      (bn2): BatchNorm2d(256, eps=1e-05, momentum=0.1, affine=True, track_running_stats=True)\n",
       "      (conv3): Conv2d(256, 1024, kernel_size=(1, 1), stride=(1, 1), bias=False)\n",
       "      (bn3): BatchNorm2d(1024, eps=1e-05, momentum=0.1, affine=True, track_running_stats=True)\n",
       "      (relu): ReLU(inplace=True)\n",
       "    )\n",
       "    (15): Bottleneck(\n",
       "      (conv1): Conv2d(1024, 256, kernel_size=(1, 1), stride=(1, 1), bias=False)\n",
       "      (bn1): BatchNorm2d(256, eps=1e-05, momentum=0.1, affine=True, track_running_stats=True)\n",
       "      (conv2): Conv2d(256, 256, kernel_size=(3, 3), stride=(1, 1), padding=(1, 1), bias=False)\n",
       "      (bn2): BatchNorm2d(256, eps=1e-05, momentum=0.1, affine=True, track_running_stats=True)\n",
       "      (conv3): Conv2d(256, 1024, kernel_size=(1, 1), stride=(1, 1), bias=False)\n",
       "      (bn3): BatchNorm2d(1024, eps=1e-05, momentum=0.1, affine=True, track_running_stats=True)\n",
       "      (relu): ReLU(inplace=True)\n",
       "    )\n",
       "    (16): Bottleneck(\n",
       "      (conv1): Conv2d(1024, 256, kernel_size=(1, 1), stride=(1, 1), bias=False)\n",
       "      (bn1): BatchNorm2d(256, eps=1e-05, momentum=0.1, affine=True, track_running_stats=True)\n",
       "      (conv2): Conv2d(256, 256, kernel_size=(3, 3), stride=(1, 1), padding=(1, 1), bias=False)\n",
       "      (bn2): BatchNorm2d(256, eps=1e-05, momentum=0.1, affine=True, track_running_stats=True)\n",
       "      (conv3): Conv2d(256, 1024, kernel_size=(1, 1), stride=(1, 1), bias=False)\n",
       "      (bn3): BatchNorm2d(1024, eps=1e-05, momentum=0.1, affine=True, track_running_stats=True)\n",
       "      (relu): ReLU(inplace=True)\n",
       "    )\n",
       "    (17): Bottleneck(\n",
       "      (conv1): Conv2d(1024, 256, kernel_size=(1, 1), stride=(1, 1), bias=False)\n",
       "      (bn1): BatchNorm2d(256, eps=1e-05, momentum=0.1, affine=True, track_running_stats=True)\n",
       "      (conv2): Conv2d(256, 256, kernel_size=(3, 3), stride=(1, 1), padding=(1, 1), bias=False)\n",
       "      (bn2): BatchNorm2d(256, eps=1e-05, momentum=0.1, affine=True, track_running_stats=True)\n",
       "      (conv3): Conv2d(256, 1024, kernel_size=(1, 1), stride=(1, 1), bias=False)\n",
       "      (bn3): BatchNorm2d(1024, eps=1e-05, momentum=0.1, affine=True, track_running_stats=True)\n",
       "      (relu): ReLU(inplace=True)\n",
       "    )\n",
       "    (18): Bottleneck(\n",
       "      (conv1): Conv2d(1024, 256, kernel_size=(1, 1), stride=(1, 1), bias=False)\n",
       "      (bn1): BatchNorm2d(256, eps=1e-05, momentum=0.1, affine=True, track_running_stats=True)\n",
       "      (conv2): Conv2d(256, 256, kernel_size=(3, 3), stride=(1, 1), padding=(1, 1), bias=False)\n",
       "      (bn2): BatchNorm2d(256, eps=1e-05, momentum=0.1, affine=True, track_running_stats=True)\n",
       "      (conv3): Conv2d(256, 1024, kernel_size=(1, 1), stride=(1, 1), bias=False)\n",
       "      (bn3): BatchNorm2d(1024, eps=1e-05, momentum=0.1, affine=True, track_running_stats=True)\n",
       "      (relu): ReLU(inplace=True)\n",
       "    )\n",
       "    (19): Bottleneck(\n",
       "      (conv1): Conv2d(1024, 256, kernel_size=(1, 1), stride=(1, 1), bias=False)\n",
       "      (bn1): BatchNorm2d(256, eps=1e-05, momentum=0.1, affine=True, track_running_stats=True)\n",
       "      (conv2): Conv2d(256, 256, kernel_size=(3, 3), stride=(1, 1), padding=(1, 1), bias=False)\n",
       "      (bn2): BatchNorm2d(256, eps=1e-05, momentum=0.1, affine=True, track_running_stats=True)\n",
       "      (conv3): Conv2d(256, 1024, kernel_size=(1, 1), stride=(1, 1), bias=False)\n",
       "      (bn3): BatchNorm2d(1024, eps=1e-05, momentum=0.1, affine=True, track_running_stats=True)\n",
       "      (relu): ReLU(inplace=True)\n",
       "    )\n",
       "    (20): Bottleneck(\n",
       "      (conv1): Conv2d(1024, 256, kernel_size=(1, 1), stride=(1, 1), bias=False)\n",
       "      (bn1): BatchNorm2d(256, eps=1e-05, momentum=0.1, affine=True, track_running_stats=True)\n",
       "      (conv2): Conv2d(256, 256, kernel_size=(3, 3), stride=(1, 1), padding=(1, 1), bias=False)\n",
       "      (bn2): BatchNorm2d(256, eps=1e-05, momentum=0.1, affine=True, track_running_stats=True)\n",
       "      (conv3): Conv2d(256, 1024, kernel_size=(1, 1), stride=(1, 1), bias=False)\n",
       "      (bn3): BatchNorm2d(1024, eps=1e-05, momentum=0.1, affine=True, track_running_stats=True)\n",
       "      (relu): ReLU(inplace=True)\n",
       "    )\n",
       "    (21): Bottleneck(\n",
       "      (conv1): Conv2d(1024, 256, kernel_size=(1, 1), stride=(1, 1), bias=False)\n",
       "      (bn1): BatchNorm2d(256, eps=1e-05, momentum=0.1, affine=True, track_running_stats=True)\n",
       "      (conv2): Conv2d(256, 256, kernel_size=(3, 3), stride=(1, 1), padding=(1, 1), bias=False)\n",
       "      (bn2): BatchNorm2d(256, eps=1e-05, momentum=0.1, affine=True, track_running_stats=True)\n",
       "      (conv3): Conv2d(256, 1024, kernel_size=(1, 1), stride=(1, 1), bias=False)\n",
       "      (bn3): BatchNorm2d(1024, eps=1e-05, momentum=0.1, affine=True, track_running_stats=True)\n",
       "      (relu): ReLU(inplace=True)\n",
       "    )\n",
       "    (22): Bottleneck(\n",
       "      (conv1): Conv2d(1024, 256, kernel_size=(1, 1), stride=(1, 1), bias=False)\n",
       "      (bn1): BatchNorm2d(256, eps=1e-05, momentum=0.1, affine=True, track_running_stats=True)\n",
       "      (conv2): Conv2d(256, 256, kernel_size=(3, 3), stride=(1, 1), padding=(1, 1), bias=False)\n",
       "      (bn2): BatchNorm2d(256, eps=1e-05, momentum=0.1, affine=True, track_running_stats=True)\n",
       "      (conv3): Conv2d(256, 1024, kernel_size=(1, 1), stride=(1, 1), bias=False)\n",
       "      (bn3): BatchNorm2d(1024, eps=1e-05, momentum=0.1, affine=True, track_running_stats=True)\n",
       "      (relu): ReLU(inplace=True)\n",
       "    )\n",
       "  )\n",
       "  (layer4): Sequential(\n",
       "    (0): Bottleneck(\n",
       "      (conv1): Conv2d(1024, 512, kernel_size=(1, 1), stride=(1, 1), bias=False)\n",
       "      (bn1): BatchNorm2d(512, eps=1e-05, momentum=0.1, affine=True, track_running_stats=True)\n",
       "      (conv2): Conv2d(512, 512, kernel_size=(3, 3), stride=(2, 2), padding=(1, 1), bias=False)\n",
       "      (bn2): BatchNorm2d(512, eps=1e-05, momentum=0.1, affine=True, track_running_stats=True)\n",
       "      (conv3): Conv2d(512, 2048, kernel_size=(1, 1), stride=(1, 1), bias=False)\n",
       "      (bn3): BatchNorm2d(2048, eps=1e-05, momentum=0.1, affine=True, track_running_stats=True)\n",
       "      (relu): ReLU(inplace=True)\n",
       "      (downsample): Sequential(\n",
       "        (0): Conv2d(1024, 2048, kernel_size=(1, 1), stride=(2, 2), bias=False)\n",
       "        (1): BatchNorm2d(2048, eps=1e-05, momentum=0.1, affine=True, track_running_stats=True)\n",
       "      )\n",
       "    )\n",
       "    (1): Bottleneck(\n",
       "      (conv1): Conv2d(2048, 512, kernel_size=(1, 1), stride=(1, 1), bias=False)\n",
       "      (bn1): BatchNorm2d(512, eps=1e-05, momentum=0.1, affine=True, track_running_stats=True)\n",
       "      (conv2): Conv2d(512, 512, kernel_size=(3, 3), stride=(1, 1), padding=(1, 1), bias=False)\n",
       "      (bn2): BatchNorm2d(512, eps=1e-05, momentum=0.1, affine=True, track_running_stats=True)\n",
       "      (conv3): Conv2d(512, 2048, kernel_size=(1, 1), stride=(1, 1), bias=False)\n",
       "      (bn3): BatchNorm2d(2048, eps=1e-05, momentum=0.1, affine=True, track_running_stats=True)\n",
       "      (relu): ReLU(inplace=True)\n",
       "    )\n",
       "    (2): Bottleneck(\n",
       "      (conv1): Conv2d(2048, 512, kernel_size=(1, 1), stride=(1, 1), bias=False)\n",
       "      (bn1): BatchNorm2d(512, eps=1e-05, momentum=0.1, affine=True, track_running_stats=True)\n",
       "      (conv2): Conv2d(512, 512, kernel_size=(3, 3), stride=(1, 1), padding=(1, 1), bias=False)\n",
       "      (bn2): BatchNorm2d(512, eps=1e-05, momentum=0.1, affine=True, track_running_stats=True)\n",
       "      (conv3): Conv2d(512, 2048, kernel_size=(1, 1), stride=(1, 1), bias=False)\n",
       "      (bn3): BatchNorm2d(2048, eps=1e-05, momentum=0.1, affine=True, track_running_stats=True)\n",
       "      (relu): ReLU(inplace=True)\n",
       "    )\n",
       "  )\n",
       "  (avgpool): AdaptiveAvgPool2d(output_size=(1, 1))\n",
       "  (fc): Linear(in_features=2048, out_features=1000, bias=True)\n",
       ")"
      ]
     },
     "execution_count": 8,
     "metadata": {},
     "output_type": "execute_result"
    }
   ],
   "source": [
    "alexnet.eval()\n",
    "resnet.eval()"
   ]
  },
  {
   "cell_type": "code",
   "execution_count": 9,
   "id": "5a4d7a90-5ff1-4c47-85d3-adbd0bbaf3a9",
   "metadata": {},
   "outputs": [
    {
     "data": {
      "text/plain": [
       "['tench, Tinca tinca',\n",
       " 'goldfish, Carassius auratus',\n",
       " 'great white shark, white shark, man-eater, man-eating shark, Carcharodon carcharias',\n",
       " 'tiger shark, Galeocerdo cuvieri',\n",
       " 'hammerhead, hammerhead shark',\n",
       " 'electric ray, crampfish, numbfish, torpedo',\n",
       " 'stingray',\n",
       " 'cock',\n",
       " 'hen',\n",
       " 'ostrich, Struthio camelus']"
      ]
     },
     "execution_count": 9,
     "metadata": {},
     "output_type": "execute_result"
    }
   ],
   "source": [
    "with open('./data/imagenet_classes.txt') as f:\n",
    "    labels = [line.strip() for line in f.readlines()]\n",
    "labels[:10]"
   ]
  },
  {
   "cell_type": "code",
   "execution_count": 10,
   "id": "41e5969d-a6dc-4950-bea1-992abbf7136d",
   "metadata": {},
   "outputs": [
    {
     "name": "stdout",
     "output_type": "stream",
     "text": [
      "tensor([207])\n",
      "golden retriever tensor(96.5719, grad_fn=<SelectBackward0>)\n"
     ]
    }
   ],
   "source": [
    "out_resnet = resnet(batch_t)\n",
    "out_alexnet = alexnet(batch_t)\n",
    "\n",
    "_, index = torch.max(out_resnet, 1)\n",
    "print(index)\n",
    "\n",
    "percentage = torch.nn.functional.softmax(out_resnet, dim=1)[0] * 100\n",
    "print(labels[index[0]], percentage[index[0]])"
   ]
  },
  {
   "cell_type": "code",
   "execution_count": 13,
   "id": "d6c30844-7f07-4eed-bea8-2b89836a4b78",
   "metadata": {},
   "outputs": [
    {
     "data": {
      "text/plain": [
       "[('golden retriever', 96.57185363769531),\n",
       " ('Labrador retriever', 2.6082682609558105),\n",
       " ('cocker spaniel, English cocker spaniel, cocker', 0.2699621915817261),\n",
       " ('redbone', 0.1795903742313385),\n",
       " ('tennis ball', 0.10991999506950378)]"
      ]
     },
     "execution_count": 13,
     "metadata": {},
     "output_type": "execute_result"
    }
   ],
   "source": [
    "_, indices = torch.sort(out_resnet, descending=True)\n",
    "[(labels[idx], percentage[idx].item()) for idx in indices[0][:5]]"
   ]
  },
  {
   "cell_type": "code",
   "execution_count": 14,
   "id": "dba051f3-5536-479b-a17f-51c5b82a6e3f",
   "metadata": {},
   "outputs": [
    {
     "name": "stdout",
     "output_type": "stream",
     "text": [
      "正解: tree | 予測: golf ball | 確率: 38.833919525146484\n",
      "正解: sunflower | 予測: daisy | 確率: 92.87775421142578\n",
      "正解: rice | 予測: mashed potato | 確率: 85.13230895996094\n",
      "正解: mountain | 予測: valley, vale | 確率: 45.674869537353516\n",
      "正解: kinkakuji | 予測: boathouse | 確率: 52.76149368286133\n",
      "正解: house | 予測: mobile home, manufactured home | 確率: 90.3819580078125\n",
      "正解: fish | 予測: barracouta, snoek | 確率: 94.6546401977539\n",
      "正解: chair | 予測: rocking chair, rocker | 確率: 36.943153381347656\n",
      "正解: car | 予測: sports car, sport car | 確率: 55.28123474121094\n"
     ]
    }
   ],
   "source": [
    "def read_img(img_name):\n",
    "    img = Image.open('./data/' + img_name + '.jpg')\n",
    "    return img\n",
    "\n",
    "img_names = ['tree', 'sunflower', 'rice', 'mountain', 'kinkakuji', 'house', 'fish', 'chair', 'car']\n",
    "for name in img_names:\n",
    "    img = read_img(name)\n",
    "    img_t = preprocess(img)\n",
    "    batch_t = torch.unsqueeze(img_t, 0)\n",
    "    out = resnet(batch_t)\n",
    "    \n",
    "    _, index = torch.max(out, 1)\n",
    "    percentage = torch.nn.functional.softmax(out, dim=1)[0] * 100\n",
    "    print(f'正解: {name} | 予測: {labels[index[0]]} | 確率: {percentage[index[0]]}')"
   ]
  },
  {
   "cell_type": "markdown",
   "id": "786baef9-5419-4d64-83e1-1b346eead45e",
   "metadata": {
    "jp-MarkdownHeadingCollapsed": true,
    "tags": []
   },
   "source": [
    "## chap3"
   ]
  },
  {
   "cell_type": "code",
   "execution_count": 15,
   "id": "13014043-de11-46c4-a5ef-1c3e8f1ed120",
   "metadata": {},
   "outputs": [
    {
     "name": "stdout",
     "output_type": "stream",
     "text": [
      "tensor([1., 1., 1.])\n",
      "tensor(1.)\n",
      "1.0\n"
     ]
    }
   ],
   "source": [
    "a = torch.ones(3)\n",
    "print(a)\n",
    "print(a[1])\n",
    "print(float(a[1]))"
   ]
  },
  {
   "cell_type": "code",
   "execution_count": 16,
   "id": "3602aefc-6501-4421-acbe-aeada7174bcf",
   "metadata": {},
   "outputs": [
    {
     "name": "stdout",
     "output_type": "stream",
     "text": [
      "tensor([1., 1., 2.])\n"
     ]
    }
   ],
   "source": [
    "a[2] = 2.0\n",
    "print(a)"
   ]
  },
  {
   "cell_type": "code",
   "execution_count": 17,
   "id": "94783cd4-7149-4970-9f90-8e39fbc340be",
   "metadata": {},
   "outputs": [
    {
     "name": "stdout",
     "output_type": "stream",
     "text": [
      "torch.Size([3, 2])\n",
      "tensor([[4., 1.],\n",
      "        [5., 3.],\n",
      "        [2., 1.]])\n",
      "tensor(5.)\n",
      "tensor([[5., 3.],\n",
      "        [2., 1.]])\n",
      "tensor([5., 2.])\n",
      "tensor([[[4., 1.],\n",
      "         [5., 3.],\n",
      "         [2., 1.]]]) torch.Size([1, 3, 2])\n"
     ]
    }
   ],
   "source": [
    "points = torch.tensor([[4.0, 1.0], [5.0, 3.0], [2.0, 1.0]])\n",
    "print(points.shape)\n",
    "\n",
    "print(points)\n",
    "\n",
    "print(points[1, 0])\n",
    "print(points[1:])\n",
    "print(points[1:, 0])\n",
    "print(points[None], points[None].shape)"
   ]
  },
  {
   "cell_type": "code",
   "execution_count": 18,
   "id": "6d9747c3-4b2a-45d2-86bf-9c772a206c49",
   "metadata": {},
   "outputs": [],
   "source": [
    "img_t = torch.randn(3,5,5)\n",
    "weights = torch.tensor([0.2126, 0.7152, 0.0722])\n",
    "\n",
    "batch_t = torch.randn(2,3,5,5)"
   ]
  },
  {
   "cell_type": "code",
   "execution_count": 19,
   "id": "1f1b0e81-6d59-4c7f-9ec6-10c22020ce58",
   "metadata": {},
   "outputs": [
    {
     "data": {
      "text/plain": [
       "(torch.Size([5, 5]), torch.Size([2, 5, 5]))"
      ]
     },
     "execution_count": 19,
     "metadata": {},
     "output_type": "execute_result"
    }
   ],
   "source": [
    "img_gray_naive = img_t.mean(-3)\n",
    "batch_gray_naive = batch_t.mean(-3)\n",
    "img_gray_naive.shape, batch_gray_naive.shape"
   ]
  },
  {
   "cell_type": "code",
   "execution_count": 20,
   "id": "1932aee1-a117-4771-986b-15d735b8d815",
   "metadata": {},
   "outputs": [
    {
     "data": {
      "text/plain": [
       "torch.Size([3, 1, 1])"
      ]
     },
     "execution_count": 20,
     "metadata": {},
     "output_type": "execute_result"
    }
   ],
   "source": [
    "weights[..., None, None].shape"
   ]
  },
  {
   "cell_type": "code",
   "execution_count": 21,
   "id": "6e9f6260-2adc-4342-b9bd-2628883e68b9",
   "metadata": {},
   "outputs": [
    {
     "data": {
      "text/plain": [
       "(torch.Size([2, 3, 5, 5]), torch.Size([2, 3, 5, 5]), torch.Size([3, 1, 1]))"
      ]
     },
     "execution_count": 21,
     "metadata": {},
     "output_type": "execute_result"
    }
   ],
   "source": [
    "unsqueezed_weights = weights[..., None, None]\n",
    "img_weights = img_t * unsqueezed_weights\n",
    "batch_weights = batch_t * unsqueezed_weights\n",
    "img_gray_weighted = img_weights.sum(-3)\n",
    "batch_gray_weighted = batch_weights.sum(-3)\n",
    "batch_weights.shape, batch_t.shape, unsqueezed_weights.shape"
   ]
  },
  {
   "cell_type": "code",
   "execution_count": 22,
   "id": "34f79594-bdcc-476a-bdf5-c4ac551358f0",
   "metadata": {},
   "outputs": [
    {
     "name": "stderr",
     "output_type": "stream",
     "text": [
      "/tmp/ipykernel_1966325/2371314847.py:1: UserWarning: Named tensors and all their associated APIs are an experimental feature and subject to change. Please do not use them for anything important until they are released as stable. (Triggered internally at  ../c10/core/TensorImpl.h:1463.)\n",
      "  weights_named = torch.tensor([0.2126, 0.7152, 0.0722], names=['channels'])\n"
     ]
    },
    {
     "data": {
      "text/plain": [
       "tensor([0.2126, 0.7152, 0.0722], names=('channels',))"
      ]
     },
     "execution_count": 22,
     "metadata": {},
     "output_type": "execute_result"
    }
   ],
   "source": [
    "weights_named = torch.tensor([0.2126, 0.7152, 0.0722], names=['channels'])\n",
    "weights_named"
   ]
  },
  {
   "cell_type": "code",
   "execution_count": 23,
   "id": "41ce39e8-e79a-4a27-a4b5-112b9c960110",
   "metadata": {},
   "outputs": [
    {
     "name": "stdout",
     "output_type": "stream",
     "text": [
      "img named: torch.Size([3, 5, 5]) ('channels', 'rows', 'columns')\n",
      "batch named: torch.Size([2, 3, 5, 5]) (None, 'channels', 'rows', 'columns')\n"
     ]
    }
   ],
   "source": [
    "img_named = img_t.refine_names(..., 'channels', 'rows', 'columns')\n",
    "batch_named = batch_t.refine_names(..., 'channels', 'rows', 'columns')\n",
    "print('img named:', img_named.shape, img_named.names)\n",
    "print('batch named:', batch_named.shape, batch_named.names)"
   ]
  },
  {
   "cell_type": "code",
   "execution_count": 24,
   "id": "b596dfbd-bc9b-4c59-b34b-b74dc612fcc2",
   "metadata": {},
   "outputs": [
    {
     "data": {
      "text/plain": [
       "(torch.Size([3, 1, 1]), ('channels', 'rows', 'columns'))"
      ]
     },
     "execution_count": 24,
     "metadata": {},
     "output_type": "execute_result"
    }
   ],
   "source": [
    "weights_aligned = weights_named.align_as(img_named)\n",
    "weights_aligned.shape, weights_aligned.names"
   ]
  },
  {
   "cell_type": "code",
   "execution_count": 25,
   "id": "debae8fe-4fbc-4bcf-a2cb-83856ef47aa3",
   "metadata": {},
   "outputs": [
    {
     "data": {
      "text/plain": [
       "(torch.Size([5, 5]), ('rows', 'columns'))"
      ]
     },
     "execution_count": 25,
     "metadata": {},
     "output_type": "execute_result"
    }
   ],
   "source": [
    "gray_named = (weights_aligned * img_named).sum('channels')\n",
    "gray_named.shape, gray_named.names"
   ]
  },
  {
   "cell_type": "code",
   "execution_count": 26,
   "id": "f3a0f80b-e4e3-4468-b08d-7928562a9d9b",
   "metadata": {},
   "outputs": [
    {
     "data": {
      "text/plain": [
       "(torch.Size([5, 5]), (None, None))"
      ]
     },
     "execution_count": 26,
     "metadata": {},
     "output_type": "execute_result"
    }
   ],
   "source": [
    "gray_plain = gray_named.rename(None)\n",
    "gray_plain.shape, gray_plain.names"
   ]
  },
  {
   "cell_type": "code",
   "execution_count": 27,
   "id": "79e99717-00f3-4560-9381-0a39c9fad982",
   "metadata": {},
   "outputs": [],
   "source": [
    "double_points = torch.ones(10, 2, dtype=torch.float64)\n",
    "short_points = torch.tensor([[1,2], [3,4]], dtype=torch.int16)"
   ]
  },
  {
   "cell_type": "code",
   "execution_count": 28,
   "id": "a99527e1-d73d-444c-89b7-0a07b13199bf",
   "metadata": {},
   "outputs": [],
   "source": [
    "double_points = torch.ones(10, 2).double()\n",
    "short_points = torch.tensor([[1,2], [3,4]]).short()"
   ]
  },
  {
   "cell_type": "code",
   "execution_count": 29,
   "id": "7df8bece-5fc9-40cb-bc12-049e6debf4a2",
   "metadata": {},
   "outputs": [],
   "source": [
    "double_points = torch.ones(10, 2).to(torch.float64)\n",
    "short_points = torch.tensor([[1,2], [3,4]]).to(torch.int16)"
   ]
  },
  {
   "cell_type": "code",
   "execution_count": 30,
   "id": "66bd9460-ada2-499b-8c67-85aee5dc681b",
   "metadata": {},
   "outputs": [
    {
     "data": {
      "text/plain": [
       "tensor([0., 0., 0., 0., 0.], dtype=torch.float64)"
      ]
     },
     "execution_count": 30,
     "metadata": {},
     "output_type": "execute_result"
    }
   ],
   "source": [
    "points_64 = torch.rand(5, dtype=torch.float64)\n",
    "points_short = points_64.to(torch.int16)\n",
    "points_64 * points_short"
   ]
  },
  {
   "cell_type": "code",
   "execution_count": 31,
   "id": "3e1ca13e-6806-4725-aec6-7136e3c3c452",
   "metadata": {},
   "outputs": [
    {
     "data": {
      "text/plain": [
       "(torch.Size([3, 2]), torch.Size([2, 3]), torch.Size([2, 3]))"
      ]
     },
     "execution_count": 31,
     "metadata": {},
     "output_type": "execute_result"
    }
   ],
   "source": [
    "a = torch.ones(3,2)\n",
    "a_t = torch.transpose(a,0,1)\n",
    "a_t2 = a.transpose(0, 1)\n",
    "a.shape, a_t.shape, a_t2.shape"
   ]
  },
  {
   "cell_type": "code",
   "execution_count": 32,
   "id": "7f45d037-b2bc-493a-a3da-d7d7a7024574",
   "metadata": {},
   "outputs": [
    {
     "data": {
      "text/plain": [
       " 4.0\n",
       " 1.0\n",
       " 5.0\n",
       " 3.0\n",
       " 2.0\n",
       " 1.0\n",
       "[torch.FloatStorage of size 6]"
      ]
     },
     "execution_count": 32,
     "metadata": {},
     "output_type": "execute_result"
    }
   ],
   "source": [
    "points = torch.tensor([[4.0, 1.0], [5.0, 3.0], [2.0, 1.0]])\n",
    "points.storage()"
   ]
  },
  {
   "cell_type": "code",
   "execution_count": 33,
   "id": "ba21d3fa-57df-45a8-abc5-f12c446474e9",
   "metadata": {},
   "outputs": [
    {
     "data": {
      "text/plain": [
       "tensor([[2., 1.],\n",
       "        [5., 3.],\n",
       "        [2., 1.]])"
      ]
     },
     "execution_count": 33,
     "metadata": {},
     "output_type": "execute_result"
    }
   ],
   "source": [
    "points_storage = points.storage()\n",
    "points_storage[0] = 2.0\n",
    "points"
   ]
  },
  {
   "cell_type": "code",
   "execution_count": 34,
   "id": "c0dffd2d-091b-4d56-8bee-5ef93bae6389",
   "metadata": {},
   "outputs": [
    {
     "name": "stdout",
     "output_type": "stream",
     "text": [
      "tensor([[1., 1.],\n",
      "        [1., 1.],\n",
      "        [1., 1.]])\n",
      "tensor([[0., 0.],\n",
      "        [0., 0.],\n",
      "        [0., 0.]])\n"
     ]
    }
   ],
   "source": [
    "a = torch.ones(3,2)\n",
    "print(a)\n",
    "a.zero_()\n",
    "print(a)"
   ]
  },
  {
   "cell_type": "code",
   "execution_count": 35,
   "id": "a87a4bd3-2d74-4482-9a4b-bf8972f5284f",
   "metadata": {},
   "outputs": [
    {
     "data": {
      "text/plain": [
       "(2, (1,), torch.Size([2]))"
      ]
     },
     "execution_count": 35,
     "metadata": {},
     "output_type": "execute_result"
    }
   ],
   "source": [
    "points = torch.tensor([[4.0, 1.0], [5.0, 3.0], [2.0, 1.0]])\n",
    "second_point = points[1]\n",
    "second_point.storage_offset(), second_point.stride(), second_point.size()"
   ]
  },
  {
   "cell_type": "code",
   "execution_count": 36,
   "id": "d5f60b34-0179-492e-8dcd-a7da09b170a3",
   "metadata": {},
   "outputs": [
    {
     "data": {
      "text/plain": [
       "(2, 1)"
      ]
     },
     "execution_count": 36,
     "metadata": {},
     "output_type": "execute_result"
    }
   ],
   "source": [
    "points.stride()"
   ]
  },
  {
   "cell_type": "code",
   "execution_count": 37,
   "id": "1ea18a64-6392-448c-9bf6-43433e7821ee",
   "metadata": {},
   "outputs": [
    {
     "data": {
      "text/plain": [
       "tensor([[ 4.,  1.],\n",
       "        [10.,  3.],\n",
       "        [ 2.,  1.]])"
      ]
     },
     "execution_count": 37,
     "metadata": {},
     "output_type": "execute_result"
    }
   ],
   "source": [
    "points = torch.tensor([[4.0, 1.0], [5.0, 3.0], [2.0, 1.0]])\n",
    "second_point = points[1]\n",
    "# second_point = points[1].clone()\n",
    "second_point[0] = 10.0\n",
    "points"
   ]
  },
  {
   "cell_type": "code",
   "execution_count": 38,
   "id": "5583a418-e03e-4b22-9efe-70d00451d4a3",
   "metadata": {},
   "outputs": [
    {
     "name": "stdout",
     "output_type": "stream",
     "text": [
      "tensor([[4., 1.],\n",
      "        [5., 3.],\n",
      "        [2., 1.]])\n",
      "tensor([[4., 5., 2.],\n",
      "        [1., 3., 1.]])\n"
     ]
    }
   ],
   "source": [
    "points = torch.tensor([[4.0, 1.0], [5.0, 3.0], [2.0, 1.0]])\n",
    "points_t = points.t()\n",
    "print(points)\n",
    "print(points_t)"
   ]
  },
  {
   "cell_type": "code",
   "execution_count": 39,
   "id": "e69b4cb5-dfb2-4fb7-9442-c51c5edc1e4f",
   "metadata": {},
   "outputs": [
    {
     "data": {
      "text/plain": [
       "False"
      ]
     },
     "execution_count": 39,
     "metadata": {},
     "output_type": "execute_result"
    }
   ],
   "source": [
    "id(points.storage()) == id(points_t.storage())"
   ]
  },
  {
   "cell_type": "code",
   "execution_count": 42,
   "id": "e9b94204-c754-46c8-83d3-89d39a9d4359",
   "metadata": {},
   "outputs": [
    {
     "data": {
      "text/plain": [
       "((2, 1), (1, 2))"
      ]
     },
     "execution_count": 42,
     "metadata": {},
     "output_type": "execute_result"
    }
   ],
   "source": [
    "points.stride(), points_t.stride()"
   ]
  },
  {
   "cell_type": "code",
   "execution_count": 43,
   "id": "16b4cbe2-3e4e-40d4-8b55-866ab12c49bd",
   "metadata": {},
   "outputs": [
    {
     "data": {
      "text/plain": [
       "(torch.Size([3, 4, 5]), torch.Size([5, 4, 3]))"
      ]
     },
     "execution_count": 43,
     "metadata": {},
     "output_type": "execute_result"
    }
   ],
   "source": [
    "some_t = torch.ones(3,4,5)\n",
    "transpose_t = some_t.transpose(0,2)\n",
    "some_t.shape, transpose_t.shape"
   ]
  },
  {
   "cell_type": "code",
   "execution_count": 44,
   "id": "873b6d8e-869a-4caf-8ae3-51023198d19b",
   "metadata": {},
   "outputs": [
    {
     "data": {
      "text/plain": [
       "((20, 5, 1), (1, 5, 20))"
      ]
     },
     "execution_count": 44,
     "metadata": {},
     "output_type": "execute_result"
    }
   ],
   "source": [
    "some_t.stride(), transpose_t.stride()\n",
    "# (20, 5, 1), (1, 5, 20)"
   ]
  },
  {
   "cell_type": "code",
   "execution_count": 45,
   "id": "705d3702-cf8d-4c8d-a9cf-bf40388510a1",
   "metadata": {},
   "outputs": [
    {
     "data": {
      "text/plain": [
       "True"
      ]
     },
     "execution_count": 45,
     "metadata": {},
     "output_type": "execute_result"
    }
   ],
   "source": [
    "points.is_contiguous()"
   ]
  },
  {
   "cell_type": "code",
   "execution_count": 46,
   "id": "5fab7bfa-1d03-468f-833c-7aece462f797",
   "metadata": {},
   "outputs": [
    {
     "data": {
      "text/plain": [
       "False"
      ]
     },
     "execution_count": 46,
     "metadata": {},
     "output_type": "execute_result"
    }
   ],
   "source": [
    "points_t.is_contiguous()"
   ]
  },
  {
   "cell_type": "code",
   "execution_count": 47,
   "id": "f56ec650-20f2-4c4b-bb40-751d5c79fcbf",
   "metadata": {},
   "outputs": [
    {
     "name": "stdout",
     "output_type": "stream",
     "text": [
      "tensor([[4., 5., 2.],\n",
      "        [1., 3., 1.]]) (1, 2)\n",
      "tensor([[4., 5., 2.],\n",
      "        [1., 3., 1.]]) (3, 1)\n"
     ]
    }
   ],
   "source": [
    "points = torch.tensor([[4.0, 1.0], [5.0, 3.0], [2.0, 1.0]])\n",
    "points_t = points.t()\n",
    "print(points_t, points_t.stride())\n",
    "\n",
    "points_t_cont = points_t.contiguous()\n",
    "print(points_t_cont, points_t_cont.stride())"
   ]
  },
  {
   "cell_type": "code",
   "execution_count": 48,
   "id": "d451427a-2091-4c12-a9a7-7ca39e7f9e9d",
   "metadata": {},
   "outputs": [
    {
     "data": {
      "text/plain": [
       "( 4.0\n",
       "  1.0\n",
       "  5.0\n",
       "  3.0\n",
       "  2.0\n",
       "  1.0\n",
       " [torch.FloatStorage of size 6],\n",
       "  4.0\n",
       "  5.0\n",
       "  2.0\n",
       "  1.0\n",
       "  3.0\n",
       "  1.0\n",
       " [torch.FloatStorage of size 6])"
      ]
     },
     "execution_count": 48,
     "metadata": {},
     "output_type": "execute_result"
    }
   ],
   "source": [
    "points_t.storage(), points_t_cont.storage()"
   ]
  },
  {
   "cell_type": "code",
   "execution_count": 49,
   "id": "1df62b01-f112-4b1c-ada3-402a700840c9",
   "metadata": {},
   "outputs": [
    {
     "data": {
      "text/plain": [
       "array([[1., 1., 1., 1.],\n",
       "       [1., 1., 1., 1.],\n",
       "       [1., 1., 1., 1.]], dtype=float32)"
      ]
     },
     "execution_count": 49,
     "metadata": {},
     "output_type": "execute_result"
    }
   ],
   "source": [
    "points = torch.ones(3,4)\n",
    "points_np = points.numpy()\n",
    "points_np"
   ]
  },
  {
   "cell_type": "code",
   "execution_count": 50,
   "id": "7b14b13e-a73d-4fa5-b48e-564f0bc93dba",
   "metadata": {},
   "outputs": [
    {
     "name": "stdout",
     "output_type": "stream",
     "text": [
      "[[100.   1.   1.   1.]\n",
      " [  1.   1.   1.   1.]\n",
      " [  1.   1.   1.   1.]]\n",
      "tensor([[100.,   1.,   1.,   1.],\n",
      "        [  1.,   1.,   1.,   1.],\n",
      "        [  1.,   1.,   1.,   1.]])\n"
     ]
    }
   ],
   "source": [
    "points_np[0,0] = 100\n",
    "print(points_np)\n",
    "print(points)"
   ]
  },
  {
   "cell_type": "code",
   "execution_count": 51,
   "id": "8f72eff0-1e1d-4dec-9b20-15e4386ced1d",
   "metadata": {},
   "outputs": [
    {
     "data": {
      "text/plain": [
       "(tensor([[100.,   1.,   1.,   1.],\n",
       "         [  1.,   1.,   1.,   1.],\n",
       "         [  1.,   1.,   1.,   1.]]),\n",
       " torch.float32)"
      ]
     },
     "execution_count": 51,
     "metadata": {},
     "output_type": "execute_result"
    }
   ],
   "source": [
    "points = torch.from_numpy(points_np)\n",
    "points, points.dtype"
   ]
  },
  {
   "cell_type": "code",
   "execution_count": 52,
   "id": "75c83051-3ff0-4fad-b7fe-27c99e446600",
   "metadata": {},
   "outputs": [],
   "source": [
    "torch.save(points, './data/ourpoints.t')"
   ]
  },
  {
   "cell_type": "code",
   "execution_count": 53,
   "id": "d57500b9-4a7a-4524-b507-542fb5965358",
   "metadata": {},
   "outputs": [],
   "source": [
    "points = torch.load('./data/ourpoints.t')"
   ]
  },
  {
   "cell_type": "code",
   "execution_count": 54,
   "id": "3d5fdcfa-e6dd-4641-9b35-dbd586068c5b",
   "metadata": {},
   "outputs": [
    {
     "name": "stdout",
     "output_type": "stream",
     "text": [
      " 0\n",
      " 1\n",
      " 2\n",
      " 3\n",
      " 4\n",
      " 5\n",
      " 6\n",
      " 7\n",
      " 8\n",
      "[torch.LongStorage of size 9]\n",
      "torch.Size([9]) 0 (1,)\n"
     ]
    }
   ],
   "source": [
    "a = list(range(9))\n",
    "a_t = torch.tensor(a)\n",
    "print(a_t.storage())\n",
    "print(a_t.size(), a_t.storage_offset(), a_t.stride())"
   ]
  },
  {
   "cell_type": "code",
   "execution_count": 56,
   "id": "681b3986-bafe-4c33-8091-c77ef55e81d8",
   "metadata": {},
   "outputs": [
    {
     "name": "stdout",
     "output_type": "stream",
     "text": [
      " 10\n",
      " 1\n",
      " 2\n",
      " 3\n",
      " 4\n",
      " 5\n",
      " 6\n",
      " 7\n",
      " 8\n",
      "[torch.LongStorage of size 9]\n",
      "torch.Size([3, 3]) 0 (3, 1)\n",
      "tensor([10,  1,  2,  3,  4,  5,  6,  7,  8])\n"
     ]
    }
   ],
   "source": [
    "b = a_t.view(3,3)\n",
    "print(b.storage())\n",
    "print(b.size(), b.storage_offset(), b.stride())\n",
    "\n",
    "b[0,0] = 10\n",
    "print(a_t)"
   ]
  },
  {
   "cell_type": "code",
   "execution_count": 57,
   "id": "cac18e16-bdf1-44da-959c-6233905ac063",
   "metadata": {},
   "outputs": [
    {
     "name": "stdout",
     "output_type": "stream",
     "text": [
      "torch.Size([2, 2]) 4 (3, 1)\n"
     ]
    }
   ],
   "source": [
    "c = b[1:, 1:]\n",
    "print(c.size(), c.storage_offset(), c.stride())"
   ]
  },
  {
   "cell_type": "code",
   "execution_count": 58,
   "id": "7d80acfc-a05a-4375-89bb-906b7bc0bacd",
   "metadata": {},
   "outputs": [
    {
     "name": "stdout",
     "output_type": "stream",
     "text": [
      "tensor([-0.8391,  0.5403, -0.4161, -0.9900, -0.6536,  0.2837,  0.9602,  0.7539,\n",
      "        -0.1455]) torch.float32\n",
      "tensor([3.1623, 1.0000, 1.4142, 1.7321, 2.0000, 2.2361, 2.4495, 2.6458, 2.8284]) torch.float32\n"
     ]
    }
   ],
   "source": [
    "print(torch.cos(a_t), torch.cos(a_t).dtype)\n",
    "print(torch.sqrt(a_t), torch.cos(a_t).dtype)"
   ]
  },
  {
   "cell_type": "markdown",
   "id": "99b1b396-67b1-448e-8495-7dae0cb6c659",
   "metadata": {
    "jp-MarkdownHeadingCollapsed": true,
    "tags": []
   },
   "source": [
    "## chap4"
   ]
  },
  {
   "cell_type": "code",
   "execution_count": 59,
   "id": "4599bfd0-b62e-41b2-9436-c5d58d34f68b",
   "metadata": {},
   "outputs": [
    {
     "data": {
      "text/plain": [
       "(720, 1280, 3)"
      ]
     },
     "execution_count": 59,
     "metadata": {},
     "output_type": "execute_result"
    }
   ],
   "source": [
    "import imageio.v2 as imageio\n",
    "\n",
    "img_arr = imageio.imread('./data/bobby.jpg')\n",
    "img_arr.shape"
   ]
  },
  {
   "cell_type": "code",
   "execution_count": 60,
   "id": "efca771c-0084-4d5e-ba67-5db658d0baef",
   "metadata": {},
   "outputs": [
    {
     "data": {
      "text/plain": [
       "torch.Size([3, 720, 1280])"
      ]
     },
     "execution_count": 60,
     "metadata": {},
     "output_type": "execute_result"
    }
   ],
   "source": [
    "img = torch.from_numpy(img_arr)\n",
    "out = img.permute(2,0,1)\n",
    "out.shape"
   ]
  },
  {
   "cell_type": "code",
   "execution_count": 61,
   "id": "61e64970-0364-4553-8653-4fc502de961b",
   "metadata": {},
   "outputs": [
    {
     "data": {
      "text/plain": [
       "torch.Size([3, 3, 256, 256])"
      ]
     },
     "execution_count": 61,
     "metadata": {},
     "output_type": "execute_result"
    }
   ],
   "source": [
    "batch_size = 3\n",
    "batch = torch.zeros(batch_size, 3, 256, 256, dtype=torch.uint8)\n",
    "batch.shape"
   ]
  },
  {
   "cell_type": "code",
   "execution_count": 66,
   "id": "f0c3fd13-c03d-4460-81b7-339928f3e646",
   "metadata": {},
   "outputs": [
    {
     "name": "stdout",
     "output_type": "stream",
     "text": [
      "torch.Size([3, 256, 256])\n",
      "torch.Size([3, 256, 256])\n",
      "torch.Size([3, 256, 256])\n"
     ]
    }
   ],
   "source": [
    "import os\n",
    "\n",
    "data_dir = './data/image-cats/'\n",
    "filenames = [n for n in os.listdir(data_dir)]\n",
    "for i, fname in enumerate(filenames):\n",
    "    img_arr = imageio.imread(os.path.join(data_dir, fname))\n",
    "    img_t = torch.from_numpy(img_arr)\n",
    "    img_t = img_t.permute(2,0,1)\n",
    "    print(img_t.shape)\n",
    "    img_t = img_t[:3]\n",
    "    batch[i] = img_t"
   ]
  },
  {
   "cell_type": "code",
   "execution_count": 67,
   "id": "3b1da0bd-946a-4d7c-9a85-51dc06e4aba8",
   "metadata": {},
   "outputs": [],
   "source": [
    "batch = batch.to(torch.float32)\n",
    "# batch /= 255.0\n",
    "\n",
    "n_channels = batch.shape[1]\n",
    "for c in range(n_channels):\n",
    "    mean = torch.mean(batch[:, c])\n",
    "    std = torch.std(batch[:, c])\n",
    "    batch[:, c] = (batch[:, c] - mean) / std"
   ]
  },
  {
   "cell_type": "code",
   "execution_count": 68,
   "id": "6051a3eb-cdbf-4899-8093-866b5482563f",
   "metadata": {
    "tags": []
   },
   "outputs": [
    {
     "name": "stdout",
     "output_type": "stream",
     "text": [
      "Reading DICOM (examining files): 1/99 files (1.0  Warning: missing file after '/home/itsukimatsunaga/dl_env/nexco/pytorch/data/volumetric-dicom/000062.dcm'\n",
      "Reading DICOM (examining files): 1/99 files (1.0%99/99 files (100.0%)\n",
      "  Found 1 correct series.\n",
      "Reading DICOM (loading data): 61/98  (62.298/98  (100.0%)\n"
     ]
    },
    {
     "data": {
      "text/plain": [
       "(98, 512, 512)"
      ]
     },
     "execution_count": 68,
     "metadata": {},
     "output_type": "execute_result"
    }
   ],
   "source": [
    "dir_path = './data/volumetric-dicom/'\n",
    "vol_arr = imageio.volread(dir_path, 'DICOM')\n",
    "vol_arr.shape"
   ]
  },
  {
   "cell_type": "code",
   "execution_count": 69,
   "id": "72111f76-5aad-4764-9c3c-bcd198b6d461",
   "metadata": {},
   "outputs": [
    {
     "data": {
      "text/plain": [
       "torch.Size([1, 98, 512, 512])"
      ]
     },
     "execution_count": 69,
     "metadata": {},
     "output_type": "execute_result"
    }
   ],
   "source": [
    "vol = torch.from_numpy(vol_arr).to(torch.float32)\n",
    "vol = torch.unsqueeze(vol, 0)\n",
    "vol.shape"
   ]
  },
  {
   "cell_type": "code",
   "execution_count": 70,
   "id": "8b6b0cb2-2bdd-41bb-a71e-089b5a8e0f1d",
   "metadata": {},
   "outputs": [
    {
     "data": {
      "text/plain": [
       "array([[ 7.  ,  0.27,  0.36, ...,  0.45,  8.8 ,  6.  ],\n",
       "       [ 6.3 ,  0.3 ,  0.34, ...,  0.49,  9.5 ,  6.  ],\n",
       "       [ 8.1 ,  0.28,  0.4 , ...,  0.44, 10.1 ,  6.  ],\n",
       "       ...,\n",
       "       [ 6.5 ,  0.24,  0.19, ...,  0.46,  9.4 ,  6.  ],\n",
       "       [ 5.5 ,  0.29,  0.3 , ...,  0.38, 12.8 ,  7.  ],\n",
       "       [ 6.  ,  0.21,  0.38, ...,  0.32, 11.8 ,  6.  ]], dtype=float32)"
      ]
     },
     "execution_count": 70,
     "metadata": {},
     "output_type": "execute_result"
    }
   ],
   "source": [
    "import numpy as np\n",
    "wine_path = './data/tabular-wine/winequality-white.csv'\n",
    "wineq_numpy = np.loadtxt(wine_path, dtype=np.float32, delimiter=';', skiprows=1)\n",
    "wineq_numpy"
   ]
  },
  {
   "cell_type": "code",
   "execution_count": 71,
   "id": "592e91c4-814f-48bc-a5ed-3b25961d33ca",
   "metadata": {},
   "outputs": [
    {
     "data": {
      "text/plain": [
       "((4898, 12),\n",
       " 12,\n",
       " ['fixed acidity',\n",
       "  'volatile acidity',\n",
       "  'citric acid',\n",
       "  'residual sugar',\n",
       "  'chlorides',\n",
       "  'free sulfur dioxide',\n",
       "  'total sulfur dioxide',\n",
       "  'density',\n",
       "  'pH',\n",
       "  'sulphates',\n",
       "  'alcohol',\n",
       "  'quality'])"
      ]
     },
     "execution_count": 71,
     "metadata": {},
     "output_type": "execute_result"
    }
   ],
   "source": [
    "import csv\n",
    "col_list = next(csv.reader(open(wine_path), delimiter=';'))\n",
    "wineq_numpy.shape, len(col_list), col_list"
   ]
  },
  {
   "cell_type": "code",
   "execution_count": 72,
   "id": "ede9431b-0f81-447a-a51f-a0c417bf86ab",
   "metadata": {},
   "outputs": [
    {
     "data": {
      "text/plain": [
       "(torch.Size([4898, 12]), torch.float32)"
      ]
     },
     "execution_count": 72,
     "metadata": {},
     "output_type": "execute_result"
    }
   ],
   "source": [
    "wineq = torch.from_numpy(wineq_numpy)\n",
    "wineq.shape, wineq.dtype"
   ]
  },
  {
   "cell_type": "code",
   "execution_count": 73,
   "id": "1149397e-d5f5-4159-8713-bb5f9464861c",
   "metadata": {},
   "outputs": [
    {
     "data": {
      "text/plain": [
       "(tensor([[ 7.0000,  0.2700,  0.3600,  ...,  3.0000,  0.4500,  8.8000],\n",
       "         [ 6.3000,  0.3000,  0.3400,  ...,  3.3000,  0.4900,  9.5000],\n",
       "         [ 8.1000,  0.2800,  0.4000,  ...,  3.2600,  0.4400, 10.1000],\n",
       "         ...,\n",
       "         [ 6.5000,  0.2400,  0.1900,  ...,  2.9900,  0.4600,  9.4000],\n",
       "         [ 5.5000,  0.2900,  0.3000,  ...,  3.3400,  0.3800, 12.8000],\n",
       "         [ 6.0000,  0.2100,  0.3800,  ...,  3.2600,  0.3200, 11.8000]]),\n",
       " torch.Size([4898, 11]))"
      ]
     },
     "execution_count": 73,
     "metadata": {},
     "output_type": "execute_result"
    }
   ],
   "source": [
    "data = wineq[:, :-1]\n",
    "data, data.shape"
   ]
  },
  {
   "cell_type": "code",
   "execution_count": 74,
   "id": "fb014d15-26f1-4958-b1c5-a4cf5239ea79",
   "metadata": {},
   "outputs": [
    {
     "data": {
      "text/plain": [
       "tensor([6, 6, 6,  ..., 6, 7, 6])"
      ]
     },
     "execution_count": 74,
     "metadata": {},
     "output_type": "execute_result"
    }
   ],
   "source": [
    "target = wineq[:, -1].to(torch.int64)\n",
    "target"
   ]
  },
  {
   "cell_type": "code",
   "execution_count": 75,
   "id": "6e656c04-7587-4e01-bf96-e0147d4f74d7",
   "metadata": {},
   "outputs": [
    {
     "data": {
      "text/plain": [
       "tensor([[0., 0., 0.,  ..., 0., 0., 0.],\n",
       "        [0., 0., 0.,  ..., 0., 0., 0.],\n",
       "        [0., 0., 0.,  ..., 0., 0., 0.],\n",
       "        ...,\n",
       "        [0., 0., 0.,  ..., 0., 0., 0.],\n",
       "        [0., 0., 0.,  ..., 1., 0., 0.],\n",
       "        [0., 0., 0.,  ..., 0., 0., 0.]])"
      ]
     },
     "execution_count": 75,
     "metadata": {},
     "output_type": "execute_result"
    }
   ],
   "source": [
    "target_onehot = torch.zeros(target.shape[0], 10)\n",
    "target_onehot.scatter_(1, target.unsqueeze(1), 1.0)"
   ]
  },
  {
   "cell_type": "code",
   "execution_count": 76,
   "id": "ce2b67c4-3cee-47b3-a69b-bb207238ce21",
   "metadata": {},
   "outputs": [
    {
     "data": {
      "text/plain": [
       "tensor([6.8548e+00, 2.7824e-01, 3.3419e-01, 6.3914e+00, 4.5772e-02, 3.5308e+01,\n",
       "        1.3836e+02, 9.9403e-01, 3.1883e+00, 4.8985e-01, 1.0514e+01])"
      ]
     },
     "execution_count": 76,
     "metadata": {},
     "output_type": "execute_result"
    }
   ],
   "source": [
    "data_mean = torch.mean(data, dim=0)\n",
    "data_mean"
   ]
  },
  {
   "cell_type": "code",
   "execution_count": 77,
   "id": "131a9a67-f532-4ce6-a543-d1e929cf29ca",
   "metadata": {},
   "outputs": [
    {
     "data": {
      "text/plain": [
       "tensor([7.1211e-01, 1.0160e-02, 1.4646e-02, 2.5726e+01, 4.7733e-04, 2.8924e+02,\n",
       "        1.8061e+03, 8.9455e-06, 2.2801e-02, 1.3025e-02, 1.5144e+00])"
      ]
     },
     "execution_count": 77,
     "metadata": {},
     "output_type": "execute_result"
    }
   ],
   "source": [
    "data_var = torch.var(data, dim=0)\n",
    "data_var"
   ]
  },
  {
   "cell_type": "code",
   "execution_count": 78,
   "id": "2d3f2270-b55d-47cc-9ed1-0fda6f9b3bb1",
   "metadata": {},
   "outputs": [
    {
     "data": {
      "text/plain": [
       "tensor([[ 1.7208e-01, -8.1761e-02,  2.1326e-01,  ..., -1.2468e+00,\n",
       "         -3.4915e-01, -1.3930e+00],\n",
       "        [-6.5743e-01,  2.1587e-01,  4.7996e-02,  ...,  7.3995e-01,\n",
       "          1.3422e-03, -8.2419e-01],\n",
       "        [ 1.4756e+00,  1.7450e-02,  5.4378e-01,  ...,  4.7505e-01,\n",
       "         -4.3677e-01, -3.3663e-01],\n",
       "        ...,\n",
       "        [-4.2043e-01, -3.7940e-01, -1.1915e+00,  ..., -1.3130e+00,\n",
       "         -2.6153e-01, -9.0545e-01],\n",
       "        [-1.6054e+00,  1.1666e-01, -2.8253e-01,  ...,  1.0049e+00,\n",
       "         -9.6251e-01,  1.8574e+00],\n",
       "        [-1.0129e+00, -6.7703e-01,  3.7852e-01,  ...,  4.7505e-01,\n",
       "         -1.4882e+00,  1.0448e+00]])"
      ]
     },
     "execution_count": 78,
     "metadata": {},
     "output_type": "execute_result"
    }
   ],
   "source": [
    "data_normalized = (data - data_mean) / torch.sqrt(data_var)\n",
    "data_normalized"
   ]
  },
  {
   "cell_type": "code",
   "execution_count": 79,
   "id": "d68f705d-c261-4e3f-bc90-9c55a872a77a",
   "metadata": {},
   "outputs": [
    {
     "data": {
      "text/plain": [
       "(torch.Size([4898]), torch.bool, tensor(20))"
      ]
     },
     "execution_count": 79,
     "metadata": {},
     "output_type": "execute_result"
    }
   ],
   "source": [
    "bad_indexes = target <= 3\n",
    "bad_indexes.shape, bad_indexes.dtype, bad_indexes.sum()"
   ]
  },
  {
   "cell_type": "code",
   "execution_count": 80,
   "id": "6cc7dc5c-adf5-4315-ac82-347acec91d35",
   "metadata": {},
   "outputs": [
    {
     "data": {
      "text/plain": [
       "torch.Size([20, 11])"
      ]
     },
     "execution_count": 80,
     "metadata": {},
     "output_type": "execute_result"
    }
   ],
   "source": [
    "bad_data = data[bad_indexes]\n",
    "bad_data.shape"
   ]
  },
  {
   "cell_type": "code",
   "execution_count": 81,
   "id": "2fecbdaa-0de7-4361-af7c-5ea5770c2d7f",
   "metadata": {},
   "outputs": [
    {
     "name": "stdout",
     "output_type": "stream",
     "text": [
      " 0 fixed acidity          7.60   6.89   6.73\n",
      " 1 volatile acidity       0.33   0.28   0.27\n",
      " 2 citric acid            0.34   0.34   0.33\n",
      " 3 residual sugar         6.39   6.71   5.26\n",
      " 4 chlorides              0.05   0.05   0.04\n",
      " 5 free sulfur dioxide   53.33  35.42  34.55\n",
      " 6 total sulfur dioxide 170.60 141.83 125.25\n",
      " 7 density                0.99   0.99   0.99\n",
      " 8 pH                     3.19   3.18   3.22\n",
      " 9 sulphates              0.47   0.49   0.50\n",
      "10 alcohol               10.34  10.26  11.42\n"
     ]
    }
   ],
   "source": [
    "bad_data = data[target <= 3]\n",
    "mid_data = data[(target > 3) & (target < 7)]\n",
    "good_data = data[target >= 7]\n",
    "\n",
    "bad_mean = torch.mean(bad_data, dim=0)\n",
    "mid_mean = torch.mean(mid_data, dim=0)\n",
    "good_mean = torch.mean(good_data, dim=0)\n",
    "\n",
    "for i, args in enumerate(zip(col_list, bad_mean, mid_mean, good_mean)):\n",
    "    print('{:2} {:20} {:6.2f} {:6.2f} {:6.2f}'.format(i, *args))"
   ]
  },
  {
   "cell_type": "code",
   "execution_count": 82,
   "id": "a42b4f50-091b-4d99-ba88-88c236778928",
   "metadata": {},
   "outputs": [
    {
     "data": {
      "text/plain": [
       "(torch.Size([4898]), torch.bool, tensor(2727))"
      ]
     },
     "execution_count": 82,
     "metadata": {},
     "output_type": "execute_result"
    }
   ],
   "source": [
    "total_sulfur_threshold = 141.83\n",
    "total_sulfur_data = data[:, 6]\n",
    "predicted_indexes = torch.lt(total_sulfur_data, total_sulfur_threshold)\n",
    "predicted_indexes.shape, predicted_indexes.dtype, predicted_indexes.sum()"
   ]
  },
  {
   "cell_type": "code",
   "execution_count": 83,
   "id": "36d60393-4921-4fad-8727-c2cc4da9e991",
   "metadata": {},
   "outputs": [
    {
     "data": {
      "text/plain": [
       "(torch.Size([4898]), torch.bool, tensor(3258))"
      ]
     },
     "execution_count": 83,
     "metadata": {},
     "output_type": "execute_result"
    }
   ],
   "source": [
    "actual_indexes = target > 5\n",
    "actual_indexes.shape, actual_indexes.dtype, actual_indexes.sum()"
   ]
  },
  {
   "cell_type": "code",
   "execution_count": 84,
   "id": "3bac835f-39fb-414f-9810-f8bbdda6d2e5",
   "metadata": {},
   "outputs": [
    {
     "data": {
      "text/plain": [
       "tensor(2727)"
      ]
     },
     "execution_count": 84,
     "metadata": {},
     "output_type": "execute_result"
    }
   ],
   "source": [
    "torch.sum(predicted_indexes)"
   ]
  },
  {
   "cell_type": "code",
   "execution_count": 85,
   "id": "08888d89-6e7e-4ec0-856d-158718eca1de",
   "metadata": {},
   "outputs": [
    {
     "data": {
      "text/plain": [
       "(2018, 0.74000733406674, 0.6193984039287906)"
      ]
     },
     "execution_count": 85,
     "metadata": {},
     "output_type": "execute_result"
    }
   ],
   "source": [
    "n_matches = torch.sum(actual_indexes & predicted_indexes).item()\n",
    "n_predicted = predicted_indexes.sum().item()\n",
    "n_actual = actual_indexes.sum().item()\n",
    "n_matches, n_matches / n_predicted, n_matches / n_actual"
   ]
  },
  {
   "cell_type": "code",
   "execution_count": 86,
   "id": "37dc3d39-5ec6-45da-9edf-3a45bceddc90",
   "metadata": {},
   "outputs": [
    {
     "data": {
      "text/plain": [
       "(torch.Size([17520, 17]), (17, 1))"
      ]
     },
     "execution_count": 86,
     "metadata": {},
     "output_type": "execute_result"
    }
   ],
   "source": [
    "bikes_numpy = np.loadtxt('./data/bike-sharing-dataset/hour-fixed.csv', dtype=np.float32, delimiter=',', skiprows=1,\n",
    "                        converters={1: lambda x: float(x[8:10])})\n",
    "bikes = torch.from_numpy(bikes_numpy)\n",
    "bikes.shape, bikes.stride()"
   ]
  },
  {
   "cell_type": "code",
   "execution_count": 87,
   "id": "9d8fe28e-6697-4cff-8746-98482435f67c",
   "metadata": {},
   "outputs": [
    {
     "data": {
      "text/plain": [
       "(torch.Size([730, 24, 17]), (408, 17, 1))"
      ]
     },
     "execution_count": 87,
     "metadata": {},
     "output_type": "execute_result"
    }
   ],
   "source": [
    "daily_bikes = bikes.view(-1, 24, bikes.shape[1])\n",
    "daily_bikes.shape, daily_bikes.stride()"
   ]
  },
  {
   "cell_type": "code",
   "execution_count": 88,
   "id": "bc8519cf-5aad-484d-b2ba-72abb9e1f191",
   "metadata": {},
   "outputs": [
    {
     "data": {
      "text/plain": [
       "(torch.Size([730, 17, 24]), (408, 1, 17))"
      ]
     },
     "execution_count": 88,
     "metadata": {},
     "output_type": "execute_result"
    }
   ],
   "source": [
    "daily_bikes = daily_bikes.transpose(1,2)\n",
    "daily_bikes.shape, daily_bikes.stride()"
   ]
  },
  {
   "cell_type": "code",
   "execution_count": 89,
   "id": "93f43613-f38c-47cc-9e8e-c246229d5065",
   "metadata": {},
   "outputs": [
    {
     "data": {
      "text/plain": [
       "tensor([1, 1, 1, 1, 1, 2, 1, 1, 1, 1, 1, 1, 1, 2, 2, 2, 2, 2, 3, 3, 2, 2, 2, 2])"
      ]
     },
     "execution_count": 89,
     "metadata": {},
     "output_type": "execute_result"
    }
   ],
   "source": [
    "first_day = bikes[:24].to(torch.int64)\n",
    "weather_onehot = torch.zeros(first_day.shape[0], 4)\n",
    "first_day[:, 9]"
   ]
  },
  {
   "cell_type": "code",
   "execution_count": 90,
   "id": "01c029bd-1709-4c8b-8b7f-2a7c0b7c2453",
   "metadata": {},
   "outputs": [
    {
     "data": {
      "text/plain": [
       "tensor([[1., 0., 0., 0.],\n",
       "        [1., 0., 0., 0.],\n",
       "        [1., 0., 0., 0.],\n",
       "        [1., 0., 0., 0.],\n",
       "        [1., 0., 0., 0.],\n",
       "        [0., 1., 0., 0.],\n",
       "        [1., 0., 0., 0.],\n",
       "        [1., 0., 0., 0.],\n",
       "        [1., 0., 0., 0.],\n",
       "        [1., 0., 0., 0.],\n",
       "        [1., 0., 0., 0.],\n",
       "        [1., 0., 0., 0.],\n",
       "        [1., 0., 0., 0.],\n",
       "        [0., 1., 0., 0.],\n",
       "        [0., 1., 0., 0.],\n",
       "        [0., 1., 0., 0.],\n",
       "        [0., 1., 0., 0.],\n",
       "        [0., 1., 0., 0.],\n",
       "        [0., 0., 1., 0.],\n",
       "        [0., 0., 1., 0.],\n",
       "        [0., 1., 0., 0.],\n",
       "        [0., 1., 0., 0.],\n",
       "        [0., 1., 0., 0.],\n",
       "        [0., 1., 0., 0.]])"
      ]
     },
     "execution_count": 90,
     "metadata": {},
     "output_type": "execute_result"
    }
   ],
   "source": [
    "weather_onehot.scatter_(1, first_day[:,9].unsqueeze(1) - 1, 1.0)"
   ]
  },
  {
   "cell_type": "code",
   "execution_count": 91,
   "id": "e2bf937c-c8ab-4f68-a8a5-237841113641",
   "metadata": {},
   "outputs": [
    {
     "data": {
      "text/plain": [
       "tensor([[ 1.0000,  1.0000,  1.0000,  0.0000,  1.0000,  0.0000,  0.0000,  6.0000,\n",
       "          0.0000,  1.0000,  0.2400,  0.2879,  0.8100,  0.0000,  3.0000, 13.0000,\n",
       "         16.0000,  1.0000,  0.0000,  0.0000,  0.0000]])"
      ]
     },
     "execution_count": 91,
     "metadata": {},
     "output_type": "execute_result"
    }
   ],
   "source": [
    "torch.cat((bikes[:24], weather_onehot), 1)[:1]"
   ]
  },
  {
   "cell_type": "code",
   "execution_count": 92,
   "id": "12da6c78-336d-4335-8b3a-8d8da42c785b",
   "metadata": {},
   "outputs": [
    {
     "data": {
      "text/plain": [
       "torch.Size([730, 4, 24])"
      ]
     },
     "execution_count": 92,
     "metadata": {},
     "output_type": "execute_result"
    }
   ],
   "source": [
    "daily_weather_onehot = torch.zeros(daily_bikes.shape[0], 4, daily_bikes.shape[2])\n",
    "daily_weather_onehot.shape"
   ]
  },
  {
   "cell_type": "code",
   "execution_count": 93,
   "id": "dce4da06-c1eb-48bf-aca0-6023f840cc70",
   "metadata": {},
   "outputs": [
    {
     "data": {
      "text/plain": [
       "torch.Size([730, 4, 24])"
      ]
     },
     "execution_count": 93,
     "metadata": {},
     "output_type": "execute_result"
    }
   ],
   "source": [
    "daily_weather_onehot.scatter_(1, daily_bikes[:, 9, :].to(torch.int64).unsqueeze(1) - 1, 1.0)\n",
    "daily_weather_onehot.shape"
   ]
  },
  {
   "cell_type": "code",
   "execution_count": 94,
   "id": "dfc833a5-e929-4158-bee6-790868cba575",
   "metadata": {},
   "outputs": [],
   "source": [
    "daily_bikes = torch.cat((daily_bikes, daily_weather_onehot), dim=1)"
   ]
  },
  {
   "cell_type": "code",
   "execution_count": 95,
   "id": "a2ca6989-050d-4cab-a08d-88ce932df6b6",
   "metadata": {},
   "outputs": [
    {
     "data": {
      "text/plain": [
       "torch.Size([730, 21, 24])"
      ]
     },
     "execution_count": 95,
     "metadata": {},
     "output_type": "execute_result"
    }
   ],
   "source": [
    "daily_bikes.shape"
   ]
  },
  {
   "cell_type": "code",
   "execution_count": 96,
   "id": "a77a03d9-68ed-466b-927f-378afcdfa57e",
   "metadata": {},
   "outputs": [
    {
     "data": {
      "text/plain": [
       "'\\ufeffThe Proje'"
      ]
     },
     "execution_count": 96,
     "metadata": {},
     "output_type": "execute_result"
    }
   ],
   "source": [
    "with open('./data/jane-austen/1342-0.txt', encoding='utf8') as f:\n",
    "    text = f.read()\n",
    "text[:10]"
   ]
  },
  {
   "cell_type": "code",
   "execution_count": 97,
   "id": "d2ab72bc-4851-45f2-bb7a-98a74b7f7f23",
   "metadata": {},
   "outputs": [
    {
     "data": {
      "text/plain": [
       "'“Impossible, Mr. Bennet, impossible, when I am not acquainted with him'"
      ]
     },
     "execution_count": 97,
     "metadata": {},
     "output_type": "execute_result"
    }
   ],
   "source": [
    "lines = text.split('\\n')\n",
    "line = lines[200]\n",
    "line"
   ]
  },
  {
   "cell_type": "code",
   "execution_count": 98,
   "id": "db8254fd-1878-4fad-81d0-e5abe966081b",
   "metadata": {},
   "outputs": [
    {
     "data": {
      "text/plain": [
       "torch.Size([70, 128])"
      ]
     },
     "execution_count": 98,
     "metadata": {},
     "output_type": "execute_result"
    }
   ],
   "source": [
    "letter_t = torch.zeros(len(line), 128)\n",
    "letter_t.shape"
   ]
  },
  {
   "cell_type": "code",
   "execution_count": 99,
   "id": "c1c3e843-511c-4a4e-971e-fb3b1c469dee",
   "metadata": {},
   "outputs": [],
   "source": [
    "for i, letter in enumerate(line.lower().strip()):\n",
    "    letter_index = ord(letter) if ord(letter) < 128 else 0\n",
    "    letter_t[i, letter_index] = 1"
   ]
  },
  {
   "cell_type": "code",
   "execution_count": 100,
   "id": "8c2239a1-1f36-4b0a-8a37-ef51d18a51a3",
   "metadata": {},
   "outputs": [
    {
     "data": {
      "text/plain": [
       "('“Impossible, Mr. Bennet, impossible, when I am not acquainted with him',\n",
       " ['impossible',\n",
       "  'mr',\n",
       "  'bennet',\n",
       "  'impossible',\n",
       "  'when',\n",
       "  'i',\n",
       "  'am',\n",
       "  'not',\n",
       "  'acquainted',\n",
       "  'with',\n",
       "  'him'])"
      ]
     },
     "execution_count": 100,
     "metadata": {},
     "output_type": "execute_result"
    }
   ],
   "source": [
    "def clean_words(input_str):\n",
    "    punctuation = '.,;:\"!?“”`_-'\n",
    "    word_list = input_str.lower().replace('\\n', ' ').split()\n",
    "    word_list = [word.strip(punctuation) for word in word_list]\n",
    "    return word_list\n",
    "\n",
    "words_in_line = clean_words(line)\n",
    "line, words_in_line"
   ]
  },
  {
   "cell_type": "code",
   "execution_count": 101,
   "id": "73255bc1-758c-41b1-b6f0-d5f137015ce6",
   "metadata": {},
   "outputs": [
    {
     "data": {
      "text/plain": [
       "(7261, 3394)"
      ]
     },
     "execution_count": 101,
     "metadata": {},
     "output_type": "execute_result"
    }
   ],
   "source": [
    "word_list = sorted(set(clean_words(text)))\n",
    "word2index_dict = {w: i for i, w in enumerate(word_list)}\n",
    "len(word2index_dict), word2index_dict['impossible']"
   ]
  },
  {
   "cell_type": "code",
   "execution_count": 102,
   "id": "2912928f-b066-4936-97f9-60ae23ba2855",
   "metadata": {},
   "outputs": [
    {
     "name": "stdout",
     "output_type": "stream",
     "text": [
      " 0 3394 impossible\n",
      " 1 4305 mr\n",
      " 2  813 bennet\n",
      " 3 3394 impossible\n",
      " 4 7078 when\n",
      " 5 3315 i\n",
      " 6  415 am\n",
      " 7 4436 not\n",
      " 8  239 acquainted\n",
      " 9 7148 with\n",
      "10 3215 him\n"
     ]
    },
    {
     "data": {
      "text/plain": [
       "torch.Size([11, 7261])"
      ]
     },
     "execution_count": 102,
     "metadata": {},
     "output_type": "execute_result"
    }
   ],
   "source": [
    "word_t = torch.zeros(len(words_in_line), len(word2index_dict))\n",
    "for i, word in enumerate(words_in_line):\n",
    "    word_index = word2index_dict[word]\n",
    "    word_t[i, word_index] = 1\n",
    "    print(f'{i:2} {word_index:4} {word}')\n",
    "word_t.shape"
   ]
  },
  {
   "cell_type": "code",
   "execution_count": 103,
   "id": "e2973a85-e52a-4d97-bdf5-b8bc00bd8698",
   "metadata": {},
   "outputs": [
    {
     "data": {
      "text/plain": [
       "torch.Size([3, 340, 508])"
      ]
     },
     "execution_count": 103,
     "metadata": {},
     "output_type": "execute_result"
    }
   ],
   "source": [
    "img_arr = imageio.imread('./data/kinkakuji.jpg')\n",
    "img = torch.from_numpy(img_arr)\n",
    "img = img.permute(2, 0, 1)\n",
    "img.shape"
   ]
  },
  {
   "cell_type": "code",
   "execution_count": 104,
   "id": "aa27dd13-898e-470a-b0de-d4cf7b22de3d",
   "metadata": {},
   "outputs": [
    {
     "data": {
      "text/plain": [
       "tensor(127.2639)"
      ]
     },
     "execution_count": 104,
     "metadata": {},
     "output_type": "execute_result"
    }
   ],
   "source": [
    "img.to(torch.float32).mean()"
   ]
  },
  {
   "cell_type": "code",
   "execution_count": 105,
   "id": "7e42135e-9400-425d-a3ac-64340788eb90",
   "metadata": {},
   "outputs": [
    {
     "data": {
      "text/plain": [
       "tensor([[[-0.1269, -0.0938, -0.0606,  ...,  0.6199,  0.6033,  0.6033],\n",
       "         [-0.0772, -0.0606, -0.0108,  ...,  0.6199,  0.6199,  0.6199],\n",
       "         [-0.0274, -0.0108,  0.0556,  ...,  0.6364,  0.6364,  0.6199],\n",
       "         ...,\n",
       "         [-1.1393, -1.2554, -1.3550,  ..., -0.5584, -0.5750, -0.5916],\n",
       "         [-1.1227, -1.2222, -1.3052,  ..., -0.5418, -0.5584, -0.5750],\n",
       "         [-1.1891, -1.2554, -1.3052,  ..., -0.4754, -0.4754, -0.5086]],\n",
       "\n",
       "        [[ 0.6669,  0.6995,  0.7322,  ...,  0.8955,  0.8792,  0.8792],\n",
       "         [ 0.7159,  0.7322,  0.7812,  ...,  0.8955,  0.8955,  0.8955],\n",
       "         [ 0.7649,  0.7812,  0.8302,  ...,  0.9118,  0.9118,  0.8955],\n",
       "         ...,\n",
       "         [-0.9009, -0.9825, -1.0315,  ..., -0.2150, -0.3130, -0.3293],\n",
       "         [-0.8846, -0.9499, -0.9825,  ..., -0.1987, -0.2966, -0.3130],\n",
       "         [-0.9499, -0.9825, -0.9825,  ..., -0.1333, -0.2150, -0.2477]],\n",
       "\n",
       "        [[ 1.4368,  1.4600,  1.4832,  ...,  1.5759,  1.5643,  1.5643],\n",
       "         [ 1.4716,  1.4832,  1.5179,  ...,  1.5759,  1.5759,  1.5759],\n",
       "         [ 1.5064,  1.5179,  1.5295,  ...,  1.5759,  1.5759,  1.5643],\n",
       "         ...,\n",
       "         [-0.8223, -0.9034, -0.9961,  ..., -0.8455, -0.8686, -0.8802],\n",
       "         [-0.8107, -0.8802, -0.9613,  ..., -0.8339, -0.8571, -0.8686],\n",
       "         [-0.8571, -0.9034, -0.9613,  ..., -0.7876, -0.7991, -0.8223]]])"
      ]
     },
     "execution_count": 105,
     "metadata": {},
     "output_type": "execute_result"
    }
   ],
   "source": [
    "n_channels = img.shape[0]\n",
    "\n",
    "img = img.to(torch.float32)\n",
    "img_normalized = torch.zeros(img.shape)\n",
    "\n",
    "mean = img.mean(dim=[1,2])\n",
    "std = img.std(dim=[1,2])\n",
    "img_normalized = (img - mean[:, None, None]) / std[:, None, None]\n",
    "img_normalized"
   ]
  },
  {
   "cell_type": "markdown",
   "id": "b0a04ce7-08f4-4ce7-b7c5-5d1a72ba81ea",
   "metadata": {
    "jp-MarkdownHeadingCollapsed": true,
    "tags": []
   },
   "source": [
    "## chap5"
   ]
  },
  {
   "cell_type": "code",
   "execution_count": 106,
   "id": "19d8223e-d733-4da9-a7fc-f381b2808041",
   "metadata": {},
   "outputs": [],
   "source": [
    "t_c = [0.5, 14.0, 15.0, 28.0, 11.0, 8.0, 3.0, -4.0, 6.0, 13.0, 21.0]\n",
    "t_u = [35.7, 55.9, 58.2, 81.9, 56.3, 48.9, 33.9, 21.8, 48.4, 60.4, 68.4]\n",
    "t_c = torch.tensor(t_c)\n",
    "t_u = torch.tensor(t_u)"
   ]
  },
  {
   "cell_type": "code",
   "execution_count": 107,
   "id": "8386fba4-12c4-4a04-b6ae-984b71990a75",
   "metadata": {},
   "outputs": [],
   "source": [
    "def model(t_u, w, b):\n",
    "    return w * t_u + b\n",
    "\n",
    "def loss_fn(t_p, t_c):\n",
    "    squared_diffs = (t_p - t_c)**2\n",
    "    return squared_diffs.mean()"
   ]
  },
  {
   "cell_type": "code",
   "execution_count": 108,
   "id": "74b357c7-a2d7-4102-a935-6c4bd442b6ea",
   "metadata": {},
   "outputs": [
    {
     "data": {
      "text/plain": [
       "(tensor([35.7000, 55.9000, 58.2000, 81.9000, 56.3000, 48.9000, 33.9000, 21.8000,\n",
       "         48.4000, 60.4000, 68.4000]),\n",
       " tensor(1763.8848))"
      ]
     },
     "execution_count": 108,
     "metadata": {},
     "output_type": "execute_result"
    }
   ],
   "source": [
    "w = torch.ones(())\n",
    "b = torch.zeros(())\n",
    "\n",
    "t_p = model(t_u, w, b)\n",
    "\n",
    "loss = loss_fn(t_p, t_c)\n",
    "t_p, loss"
   ]
  },
  {
   "cell_type": "code",
   "execution_count": 109,
   "id": "1905f744-bec3-4cbc-ac24-345afdd8d583",
   "metadata": {},
   "outputs": [],
   "source": [
    "delta = 0.1\n",
    "loss_rate_of_change_w = (loss_fn(model(t_u, w + delta, b), t_c) - loss_fn(model(t_u, w - delta, b), t_c)) / (2.0 * delta)\n",
    "\n",
    "learning_rate = 1e-2\n",
    "w = w - learning_rate * loss_rate_of_change_w"
   ]
  },
  {
   "cell_type": "code",
   "execution_count": 110,
   "id": "14d62d5a-6f4a-4474-8927-48c86aa193ba",
   "metadata": {},
   "outputs": [],
   "source": [
    "loss_rate_of_change_b = (loss_fn(model(t_u, w, b + delta), t_c) - loss_fn(model(t_u, w, b - delta), t_c)) / (2.0 * delta)\n",
    "\n",
    "learning_rate = 1e-2\n",
    "b = b - learning_rate * loss_rate_of_change_b"
   ]
  },
  {
   "cell_type": "code",
   "execution_count": 111,
   "id": "2b5fd2d5-9b35-4b62-af36-ee5d4439dde4",
   "metadata": {},
   "outputs": [],
   "source": [
    "def dloss_fn(t_p, t_c):\n",
    "    dsq_diffs = 2 * (t_p - t_c) / t_p.size(0)\n",
    "    return dsq_diffs"
   ]
  },
  {
   "cell_type": "code",
   "execution_count": 112,
   "id": "649dd014-5b69-443d-9c48-34ac8d2b0779",
   "metadata": {},
   "outputs": [],
   "source": [
    "def dmodel_dw(t_u, w, b):\n",
    "    return t_u\n",
    "\n",
    "def dmodel_db(t_u, w, b):\n",
    "    return 1.0"
   ]
  },
  {
   "cell_type": "code",
   "execution_count": 113,
   "id": "92370957-c3e1-41e3-8745-006af32a8961",
   "metadata": {
    "tags": []
   },
   "outputs": [],
   "source": [
    "def grad_fn(t_u, t_c, t_p, w, b):\n",
    "    dloss_dtp = dloss_fn(t_p, t_c)\n",
    "    dloss_dw = dloss_dtp * dmodel_dw(t_u, w, b)\n",
    "    dloss_db = dloss_dtp * dmodel_db(t_u, w, b)\n",
    "    return torch.stack([dloss_dw.sum(), dloss_db.sum()])"
   ]
  },
  {
   "cell_type": "code",
   "execution_count": 114,
   "id": "373cf486-df55-4db0-8139-8cc9b521dc70",
   "metadata": {},
   "outputs": [],
   "source": [
    "def training_loop(n_epochs, learning_rate, params, t_u, t_c, print_params=True):\n",
    "    for epoch in range(n_epochs):\n",
    "        w, b = params\n",
    "        \n",
    "        t_p = model(t_u, w, b)\n",
    "        loss = loss_fn(t_p, t_c)\n",
    "        \n",
    "        grad = grad_fn(t_u, t_c, t_p, w, b)\n",
    "        params -= learning_rate * grad\n",
    "        \n",
    "        if epoch % 50 == 0:\n",
    "            print(f'Epoch {epoch}, Loss {loss}')\n",
    "            \n",
    "            if print_params:\n",
    "                print(f'\\tParams: {params}')\n",
    "                print(f'\\tGrad: {grad}')\n",
    "    return params"
   ]
  },
  {
   "cell_type": "code",
   "execution_count": 116,
   "id": "9b774c1c-f834-428e-a411-06370532574f",
   "metadata": {
    "tags": []
   },
   "outputs": [
    {
     "name": "stdout",
     "output_type": "stream",
     "text": [
      "Epoch 0, Loss 1763.884765625\n",
      "\tParams: tensor([ 0.5483, -0.0083])\n",
      "\tGrad: tensor([4517.2964,   82.6000])\n",
      "Epoch 50, Loss 29.067485809326172\n",
      "\tParams: tensor([ 0.2325, -0.0290])\n",
      "\tGrad: tensor([-0.0533,  3.0252])\n",
      "Epoch 100, Loss 29.021753311157227\n",
      "\tParams: tensor([ 0.2327, -0.0441])\n",
      "\tGrad: tensor([-0.0532,  3.0225])\n",
      "Epoch 150, Loss 28.976102828979492\n",
      "\tParams: tensor([ 0.2330, -0.0592])\n",
      "\tGrad: tensor([-0.0532,  3.0199])\n",
      "Epoch 200, Loss 28.930524826049805\n",
      "\tParams: tensor([ 0.2333, -0.0743])\n",
      "\tGrad: tensor([-0.0532,  3.0172])\n",
      "Epoch 250, Loss 28.885034561157227\n",
      "\tParams: tensor([ 0.2335, -0.0894])\n",
      "\tGrad: tensor([-0.0532,  3.0146])\n",
      "Epoch 300, Loss 28.839618682861328\n",
      "\tParams: tensor([ 0.2338, -0.1044])\n",
      "\tGrad: tensor([-0.0530,  3.0120])\n",
      "Epoch 350, Loss 28.794282913208008\n",
      "\tParams: tensor([ 0.2341, -0.1195])\n",
      "\tGrad: tensor([-0.0529,  3.0093])\n",
      "Epoch 400, Loss 28.7490291595459\n",
      "\tParams: tensor([ 0.2343, -0.1345])\n",
      "\tGrad: tensor([-0.0530,  3.0067])\n",
      "Epoch 450, Loss 28.7038516998291\n",
      "\tParams: tensor([ 0.2346, -0.1495])\n",
      "\tGrad: tensor([-0.0529,  3.0041])\n"
     ]
    },
    {
     "data": {
      "text/plain": [
       "tensor([ 0.2348, -0.1643])"
      ]
     },
     "execution_count": 116,
     "metadata": {},
     "output_type": "execute_result"
    }
   ],
   "source": [
    "training_loop(n_epochs=500, learning_rate=1e-4, params=torch.tensor([1.0, 0.0]), t_u=t_u, t_c=t_c)"
   ]
  },
  {
   "cell_type": "code",
   "execution_count": 118,
   "id": "5fbc07d1-e102-4017-9304-cda8bf9b8114",
   "metadata": {
    "collapsed": true,
    "jupyter": {
     "outputs_hidden": true
    },
    "tags": []
   },
   "outputs": [
    {
     "name": "stdout",
     "output_type": "stream",
     "text": [
      "Epoch 0, Loss 80.36434173583984\n",
      "\tParams: tensor([1.7761, 0.1064])\n",
      "\tGrad: tensor([-77.6140, -10.6400])\n",
      "Epoch 50, Loss 25.63360023498535\n",
      "\tParams: tensor([ 2.5283, -1.2314])\n",
      "\tGrad: tensor([-0.4832,  2.7351])\n",
      "Epoch 100, Loss 22.083463668823242\n",
      "\tParams: tensor([ 2.7597, -2.5413])\n",
      "\tGrad: tensor([-0.4438,  2.5122])\n",
      "Epoch 150, Loss 19.088401794433594\n",
      "\tParams: tensor([ 2.9723, -3.7445])\n",
      "\tGrad: tensor([-0.4076,  2.3075])\n",
      "Epoch 200, Loss 16.561622619628906\n",
      "\tParams: tensor([ 3.1675, -4.8496])\n",
      "\tGrad: tensor([-0.3744,  2.1194])\n",
      "Epoch 250, Loss 14.429920196533203\n",
      "\tParams: tensor([ 3.3468, -5.8647])\n",
      "\tGrad: tensor([-0.3439,  1.9467])\n",
      "Epoch 300, Loss 12.63150691986084\n",
      "\tParams: tensor([ 3.5115, -6.7970])\n",
      "\tGrad: tensor([-0.3159,  1.7881])\n",
      "Epoch 350, Loss 11.11428165435791\n",
      "\tParams: tensor([ 3.6628, -7.6534])\n",
      "\tGrad: tensor([-0.2901,  1.6423])\n",
      "Epoch 400, Loss 9.834277153015137\n",
      "\tParams: tensor([ 3.8017, -8.4399])\n",
      "\tGrad: tensor([-0.2665,  1.5085])\n",
      "Epoch 450, Loss 8.75440502166748\n",
      "\tParams: tensor([ 3.9293, -9.1624])\n",
      "\tGrad: tensor([-0.2448,  1.3856])\n",
      "Epoch 500, Loss 7.843369007110596\n",
      "\tParams: tensor([ 4.0466, -9.8260])\n",
      "\tGrad: tensor([-0.2248,  1.2726])\n",
      "Epoch 550, Loss 7.074785232543945\n",
      "\tParams: tensor([  4.1542, -10.4355])\n",
      "\tGrad: tensor([-0.2065,  1.1689])\n",
      "Epoch 600, Loss 6.426368236541748\n",
      "\tParams: tensor([  4.2531, -10.9953])\n",
      "\tGrad: tensor([-0.1897,  1.0737])\n",
      "Epoch 650, Loss 5.879326343536377\n",
      "\tParams: tensor([  4.3440, -11.5095])\n",
      "\tGrad: tensor([-0.1742,  0.9862])\n",
      "Epoch 700, Loss 5.4178266525268555\n",
      "\tParams: tensor([  4.4274, -11.9818])\n",
      "\tGrad: tensor([-0.1600,  0.9058])\n",
      "Epoch 750, Loss 5.028476238250732\n",
      "\tParams: tensor([  4.5040, -12.4156])\n",
      "\tGrad: tensor([-0.1470,  0.8320])\n",
      "Epoch 800, Loss 4.700008869171143\n",
      "\tParams: tensor([  4.5744, -12.8141])\n",
      "\tGrad: tensor([-0.1350,  0.7642])\n",
      "Epoch 850, Loss 4.422896862030029\n",
      "\tParams: tensor([  4.6391, -13.1801])\n",
      "\tGrad: tensor([-0.1240,  0.7019])\n",
      "Epoch 900, Loss 4.189108371734619\n",
      "\tParams: tensor([  4.6985, -13.5162])\n",
      "\tGrad: tensor([-0.1139,  0.6447])\n",
      "Epoch 950, Loss 3.9918737411499023\n",
      "\tParams: tensor([  4.7530, -13.8250])\n",
      "\tGrad: tensor([-0.1046,  0.5921])\n",
      "Epoch 1000, Loss 3.8254828453063965\n",
      "\tParams: tensor([  4.8031, -14.1086])\n",
      "\tGrad: tensor([-0.0961,  0.5439])\n",
      "Epoch 1050, Loss 3.6851041316986084\n",
      "\tParams: tensor([  4.8491, -14.3691])\n",
      "\tGrad: tensor([-0.0882,  0.4996])\n",
      "Epoch 1100, Loss 3.5666725635528564\n",
      "\tParams: tensor([  4.8914, -14.6083])\n",
      "\tGrad: tensor([-0.0810,  0.4588])\n",
      "Epoch 1150, Loss 3.466761827468872\n",
      "\tParams: tensor([  4.9302, -14.8281])\n",
      "\tGrad: tensor([-0.0745,  0.4215])\n",
      "Epoch 1200, Loss 3.3824667930603027\n",
      "\tParams: tensor([  4.9659, -15.0299])\n",
      "\tGrad: tensor([-0.0684,  0.3871])\n",
      "Epoch 1250, Loss 3.3113532066345215\n",
      "\tParams: tensor([  4.9986, -15.2153])\n",
      "\tGrad: tensor([-0.0628,  0.3556])\n",
      "Epoch 1300, Loss 3.251361608505249\n",
      "\tParams: tensor([  5.0287, -15.3856])\n",
      "\tGrad: tensor([-0.0577,  0.3266])\n",
      "Epoch 1350, Loss 3.200746774673462\n",
      "\tParams: tensor([  5.0563, -15.5420])\n",
      "\tGrad: tensor([-0.0530,  0.3000])\n",
      "Epoch 1400, Loss 3.1580464839935303\n",
      "\tParams: tensor([  5.0817, -15.6857])\n",
      "\tGrad: tensor([-0.0487,  0.2755])\n",
      "Epoch 1450, Loss 3.1220223903656006\n",
      "\tParams: tensor([  5.1050, -15.8176])\n",
      "\tGrad: tensor([-0.0447,  0.2531])\n",
      "Epoch 1500, Loss 3.091630458831787\n",
      "\tParams: tensor([  5.1264, -15.9388])\n",
      "\tGrad: tensor([-0.0411,  0.2324])\n",
      "Epoch 1550, Loss 3.065992832183838\n",
      "\tParams: tensor([  5.1461, -16.0501])\n",
      "\tGrad: tensor([-0.0377,  0.2135])\n",
      "Epoch 1600, Loss 3.0443613529205322\n",
      "\tParams: tensor([  5.1641, -16.1524])\n",
      "\tGrad: tensor([-0.0346,  0.1961])\n",
      "Epoch 1650, Loss 3.026111364364624\n",
      "\tParams: tensor([  5.1807, -16.2463])\n",
      "\tGrad: tensor([-0.0318,  0.1801])\n",
      "Epoch 1700, Loss 3.01071834564209\n",
      "\tParams: tensor([  5.1960, -16.3326])\n",
      "\tGrad: tensor([-0.0292,  0.1654])\n",
      "Epoch 1750, Loss 2.997730016708374\n",
      "\tParams: tensor([  5.2100, -16.4118])\n",
      "\tGrad: tensor([-0.0268,  0.1520])\n",
      "Epoch 1800, Loss 2.98677134513855\n",
      "\tParams: tensor([  5.2228, -16.4846])\n",
      "\tGrad: tensor([-0.0246,  0.1396])\n",
      "Epoch 1850, Loss 2.977527379989624\n",
      "\tParams: tensor([  5.2346, -16.5514])\n",
      "\tGrad: tensor([-0.0227,  0.1282])\n",
      "Epoch 1900, Loss 2.9697272777557373\n",
      "\tParams: tensor([  5.2455, -16.6128])\n",
      "\tGrad: tensor([-0.0208,  0.1178])\n",
      "Epoch 1950, Loss 2.963148593902588\n",
      "\tParams: tensor([  5.2554, -16.6692])\n",
      "\tGrad: tensor([-0.0191,  0.1081])\n",
      "Epoch 2000, Loss 2.9575960636138916\n",
      "\tParams: tensor([  5.2646, -16.7210])\n",
      "\tGrad: tensor([-0.0176,  0.0993])\n",
      "Epoch 2050, Loss 2.9529130458831787\n",
      "\tParams: tensor([  5.2730, -16.7686])\n",
      "\tGrad: tensor([-0.0161,  0.0912])\n",
      "Epoch 2100, Loss 2.9489617347717285\n",
      "\tParams: tensor([  5.2807, -16.8123])\n",
      "\tGrad: tensor([-0.0148,  0.0838])\n",
      "Epoch 2150, Loss 2.9456300735473633\n",
      "\tParams: tensor([  5.2878, -16.8524])\n",
      "\tGrad: tensor([-0.0136,  0.0770])\n",
      "Epoch 2200, Loss 2.9428184032440186\n",
      "\tParams: tensor([  5.2943, -16.8893])\n",
      "\tGrad: tensor([-0.0125,  0.0707])\n",
      "Epoch 2250, Loss 2.9404456615448\n",
      "\tParams: tensor([  5.3003, -16.9232])\n",
      "\tGrad: tensor([-0.0115,  0.0649])\n",
      "Epoch 2300, Loss 2.938443899154663\n",
      "\tParams: tensor([  5.3058, -16.9543])\n",
      "\tGrad: tensor([-0.0105,  0.0596])\n",
      "Epoch 2350, Loss 2.9367570877075195\n",
      "\tParams: tensor([  5.3108, -16.9828])\n",
      "\tGrad: tensor([-0.0097,  0.0548])\n",
      "Epoch 2400, Loss 2.9353315830230713\n",
      "\tParams: tensor([  5.3155, -17.0091])\n",
      "\tGrad: tensor([-0.0089,  0.0503])\n",
      "Epoch 2450, Loss 2.934129476547241\n",
      "\tParams: tensor([  5.3197, -17.0332])\n",
      "\tGrad: tensor([-0.0082,  0.0462])\n",
      "Epoch 2500, Loss 2.9331159591674805\n",
      "\tParams: tensor([  5.3236, -17.0553])\n",
      "\tGrad: tensor([-0.0075,  0.0425])\n",
      "Epoch 2550, Loss 2.9322614669799805\n",
      "\tParams: tensor([  5.3272, -17.0756])\n",
      "\tGrad: tensor([-0.0069,  0.0390])\n",
      "Epoch 2600, Loss 2.9315383434295654\n",
      "\tParams: tensor([  5.3305, -17.0943])\n",
      "\tGrad: tensor([-0.0063,  0.0358])\n",
      "Epoch 2650, Loss 2.930931806564331\n",
      "\tParams: tensor([  5.3336, -17.1115])\n",
      "\tGrad: tensor([-0.0058,  0.0329])\n",
      "Epoch 2700, Loss 2.9304163455963135\n",
      "\tParams: tensor([  5.3364, -17.1272])\n",
      "\tGrad: tensor([-0.0054,  0.0302])\n",
      "Epoch 2750, Loss 2.929983377456665\n",
      "\tParams: tensor([  5.3389, -17.1417])\n",
      "\tGrad: tensor([-0.0049,  0.0278])\n",
      "Epoch 2800, Loss 2.929619789123535\n",
      "\tParams: tensor([  5.3413, -17.1550])\n",
      "\tGrad: tensor([-0.0045,  0.0255])\n",
      "Epoch 2850, Loss 2.929309129714966\n",
      "\tParams: tensor([  5.3434, -17.1672])\n",
      "\tGrad: tensor([-0.0041,  0.0234])\n",
      "Epoch 2900, Loss 2.9290504455566406\n",
      "\tParams: tensor([  5.3454, -17.1784])\n",
      "\tGrad: tensor([-0.0038,  0.0215])\n",
      "Epoch 2950, Loss 2.928830146789551\n",
      "\tParams: tensor([  5.3472, -17.1887])\n",
      "\tGrad: tensor([-0.0035,  0.0198])\n",
      "Epoch 3000, Loss 2.9286458492279053\n",
      "\tParams: tensor([  5.3489, -17.1982])\n",
      "\tGrad: tensor([-0.0032,  0.0181])\n",
      "Epoch 3050, Loss 2.9284887313842773\n",
      "\tParams: tensor([  5.3504, -17.2068])\n",
      "\tGrad: tensor([-0.0030,  0.0167])\n",
      "Epoch 3100, Loss 2.928356409072876\n",
      "\tParams: tensor([  5.3518, -17.2148])\n",
      "\tGrad: tensor([-0.0027,  0.0153])\n",
      "Epoch 3150, Loss 2.9282455444335938\n",
      "\tParams: tensor([  5.3531, -17.2222])\n",
      "\tGrad: tensor([-0.0025,  0.0141])\n",
      "Epoch 3200, Loss 2.9281516075134277\n",
      "\tParams: tensor([  5.3543, -17.2289])\n",
      "\tGrad: tensor([-0.0023,  0.0129])\n",
      "Epoch 3250, Loss 2.928072452545166\n",
      "\tParams: tensor([  5.3554, -17.2351])\n",
      "\tGrad: tensor([-0.0021,  0.0119])\n",
      "Epoch 3300, Loss 2.9280073642730713\n",
      "\tParams: tensor([  5.3564, -17.2407])\n",
      "\tGrad: tensor([-0.0019,  0.0109])\n",
      "Epoch 3350, Loss 2.927950382232666\n",
      "\tParams: tensor([  5.3573, -17.2460])\n",
      "\tGrad: tensor([-0.0018,  0.0100])\n",
      "Epoch 3400, Loss 2.9279019832611084\n",
      "\tParams: tensor([  5.3582, -17.2508])\n",
      "\tGrad: tensor([-0.0016,  0.0092])\n",
      "Epoch 3450, Loss 2.9278619289398193\n",
      "\tParams: tensor([  5.3590, -17.2552])\n",
      "\tGrad: tensor([-0.0015,  0.0084])\n",
      "Epoch 3500, Loss 2.9278290271759033\n",
      "\tParams: tensor([  5.3597, -17.2592])\n",
      "\tGrad: tensor([-0.0014,  0.0078])\n",
      "Epoch 3550, Loss 2.9277992248535156\n",
      "\tParams: tensor([  5.3603, -17.2629])\n",
      "\tGrad: tensor([-0.0012,  0.0071])\n",
      "Epoch 3600, Loss 2.9277753829956055\n",
      "\tParams: tensor([  5.3609, -17.2663])\n",
      "\tGrad: tensor([-0.0012,  0.0065])\n",
      "Epoch 3650, Loss 2.92775559425354\n",
      "\tParams: tensor([  5.3615, -17.2695])\n",
      "\tGrad: tensor([-0.0011,  0.0060])\n",
      "Epoch 3700, Loss 2.9277384281158447\n",
      "\tParams: tensor([  5.3620, -17.2723])\n",
      "\tGrad: tensor([-0.0010,  0.0055])\n",
      "Epoch 3750, Loss 2.9277236461639404\n",
      "\tParams: tensor([  5.3625, -17.2750])\n",
      "\tGrad: tensor([-0.0009,  0.0051])\n",
      "Epoch 3800, Loss 2.927711248397827\n",
      "\tParams: tensor([  5.3629, -17.2774])\n",
      "\tGrad: tensor([-0.0008,  0.0047])\n",
      "Epoch 3850, Loss 2.927700996398926\n",
      "\tParams: tensor([  5.3633, -17.2796])\n",
      "\tGrad: tensor([-0.0007,  0.0043])\n",
      "Epoch 3900, Loss 2.927692174911499\n",
      "\tParams: tensor([  5.3636, -17.2817])\n",
      "\tGrad: tensor([-0.0007,  0.0039])\n",
      "Epoch 3950, Loss 2.9276864528656006\n",
      "\tParams: tensor([  5.3640, -17.2836])\n",
      "\tGrad: tensor([-0.0006,  0.0036])\n",
      "Epoch 4000, Loss 2.927680253982544\n",
      "\tParams: tensor([  5.3643, -17.2853])\n",
      "\tGrad: tensor([-0.0006,  0.0033])\n",
      "Epoch 4050, Loss 2.9276747703552246\n",
      "\tParams: tensor([  5.3646, -17.2869])\n",
      "\tGrad: tensor([-0.0005,  0.0030])\n",
      "Epoch 4100, Loss 2.9276695251464844\n",
      "\tParams: tensor([  5.3648, -17.2883])\n",
      "\tGrad: tensor([-0.0005,  0.0028])\n",
      "Epoch 4150, Loss 2.927666425704956\n",
      "\tParams: tensor([  5.3651, -17.2897])\n",
      "\tGrad: tensor([-0.0004,  0.0026])\n",
      "Epoch 4200, Loss 2.9276633262634277\n",
      "\tParams: tensor([  5.3653, -17.2909])\n",
      "\tGrad: tensor([-0.0004,  0.0024])\n",
      "Epoch 4250, Loss 2.927661895751953\n",
      "\tParams: tensor([  5.3655, -17.2920])\n",
      "\tGrad: tensor([-0.0004,  0.0022])\n",
      "Epoch 4300, Loss 2.927659511566162\n",
      "\tParams: tensor([  5.3657, -17.2931])\n",
      "\tGrad: tensor([-0.0004,  0.0020])\n",
      "Epoch 4350, Loss 2.92765736579895\n",
      "\tParams: tensor([  5.3658, -17.2940])\n",
      "\tGrad: tensor([-0.0003,  0.0018])\n",
      "Epoch 4400, Loss 2.927654981613159\n",
      "\tParams: tensor([  5.3660, -17.2949])\n",
      "\tGrad: tensor([-0.0003,  0.0017])\n",
      "Epoch 4450, Loss 2.9276533126831055\n",
      "\tParams: tensor([  5.3661, -17.2957])\n",
      "\tGrad: tensor([-0.0003,  0.0015])\n",
      "Epoch 4500, Loss 2.92765212059021\n",
      "\tParams: tensor([  5.3662, -17.2964])\n",
      "\tGrad: tensor([-0.0002,  0.0014])\n",
      "Epoch 4550, Loss 2.927651882171631\n",
      "\tParams: tensor([  5.3664, -17.2971])\n",
      "\tGrad: tensor([-0.0002,  0.0013])\n",
      "Epoch 4600, Loss 2.9276511669158936\n",
      "\tParams: tensor([  5.3665, -17.2977])\n",
      "\tGrad: tensor([-0.0002,  0.0012])\n",
      "Epoch 4650, Loss 2.9276487827301025\n",
      "\tParams: tensor([  5.3666, -17.2983])\n",
      "\tGrad: tensor([-0.0002,  0.0011])\n",
      "Epoch 4700, Loss 2.9276490211486816\n",
      "\tParams: tensor([  5.3667, -17.2988])\n",
      "\tGrad: tensor([-0.0002,  0.0010])\n",
      "Epoch 4750, Loss 2.9276490211486816\n",
      "\tParams: tensor([  5.3668, -17.2993])\n",
      "\tGrad: tensor([-0.0002,  0.0009])\n",
      "Epoch 4800, Loss 2.9276463985443115\n",
      "\tParams: tensor([  5.3668, -17.2998])\n",
      "\tGrad: tensor([-0.0001,  0.0009])\n",
      "Epoch 4850, Loss 2.9276487827301025\n",
      "\tParams: tensor([  5.3669, -17.3002])\n",
      "\tGrad: tensor([-0.0001,  0.0008])\n",
      "Epoch 4900, Loss 2.9276480674743652\n",
      "\tParams: tensor([  5.3670, -17.3005])\n",
      "\tGrad: tensor([-0.0001,  0.0007])\n",
      "Epoch 4950, Loss 2.9276463985443115\n",
      "\tParams: tensor([  5.3670, -17.3009])\n",
      "\tGrad: tensor([-9.5367e-05,  6.6292e-04])\n",
      "tensor([  5.3671, -17.3012])\n"
     ]
    }
   ],
   "source": [
    "t_un = t_u * 0.1\n",
    "params = training_loop(n_epochs=5000, learning_rate=1e-2, params=torch.tensor([1.0, 0.0]), t_u=t_un, t_c=t_c)\n",
    "print(params)"
   ]
  },
  {
   "cell_type": "code",
   "execution_count": 119,
   "id": "6dd9afff-576c-45a7-9f36-a02c6a0e2037",
   "metadata": {
    "tags": []
   },
   "outputs": [],
   "source": [
    "import matplotlib.pyplot as plt"
   ]
  },
  {
   "cell_type": "code",
   "execution_count": 120,
   "id": "97e0d340-f4a2-466b-9f78-7e71a44bcef3",
   "metadata": {},
   "outputs": [
    {
     "data": {
      "image/png": "[encoded data removed]",
      "text/plain": [
       "<Figure size 504x360 with 1 Axes>"
      ]
     },
     "metadata": {
      "needs_background": "light"
     },
     "output_type": "display_data"
    }
   ],
   "source": [
    "t_p = model(t_un, *params)\n",
    "\n",
    "fig = plt.figure(figsize=(7,5))\n",
    "plt.plot(t_u.numpy(), t_p.detach().numpy())\n",
    "plt.plot(t_u.numpy(), t_c.numpy(), 'o')\n",
    "plt.show()"
   ]
  },
  {
   "cell_type": "code",
   "execution_count": 121,
   "id": "b2a74381-e328-4d9c-bb8e-8fc47b9d0068",
   "metadata": {},
   "outputs": [
    {
     "name": "stdout",
     "output_type": "stream",
     "text": [
      "None\n"
     ]
    }
   ],
   "source": [
    "params = torch.tensor([1.0, 0.0], requires_grad=True)\n",
    "print(params.grad)"
   ]
  },
  {
   "cell_type": "code",
   "execution_count": 122,
   "id": "f72af476-11bd-45a4-90a5-5d7de4a6a18a",
   "metadata": {},
   "outputs": [
    {
     "name": "stdout",
     "output_type": "stream",
     "text": [
      "tensor([4517.2969,   82.6000])\n"
     ]
    }
   ],
   "source": [
    "loss = loss_fn(model(t_u, *params), t_c)\n",
    "loss.backward()\n",
    "print(params.grad)"
   ]
  },
  {
   "cell_type": "code",
   "execution_count": 123,
   "id": "d447982b-0caa-4c9a-b5fe-be969daf39bd",
   "metadata": {},
   "outputs": [],
   "source": [
    "def training_loop(n_epochs, learning_rate, params, t_u, t_c):\n",
    "    for epoch in range(1, n_epochs+1):\n",
    "        if params.grad is not None:\n",
    "            params.grad.zero_()\n",
    "        \n",
    "        t_p = model(t_u, *params)\n",
    "        loss = loss_fn(t_p, t_c)\n",
    "        loss.backward()\n",
    "        \n",
    "        with torch.no_grad():\n",
    "            params -= learning_rate * params.grad\n",
    "        \n",
    "        if epoch % 500 == 0:\n",
    "            print(f'Epoch {epoch}, Loss {loss}')\n",
    "    return params"
   ]
  },
  {
   "cell_type": "code",
   "execution_count": 124,
   "id": "438728b0-73af-4d6b-a88b-0ca20b2fc69a",
   "metadata": {},
   "outputs": [
    {
     "name": "stdout",
     "output_type": "stream",
     "text": [
      "Epoch 500, Loss 7.860115051269531\n",
      "Epoch 1000, Loss 3.828537940979004\n",
      "Epoch 1500, Loss 3.092191219329834\n",
      "Epoch 2000, Loss 2.957697868347168\n",
      "Epoch 2500, Loss 2.933133840560913\n",
      "Epoch 3000, Loss 2.9286484718322754\n",
      "Epoch 3500, Loss 2.9278297424316406\n",
      "Epoch 4000, Loss 2.9276793003082275\n",
      "Epoch 4500, Loss 2.927651882171631\n",
      "Epoch 5000, Loss 2.9276468753814697\n"
     ]
    },
    {
     "data": {
      "text/plain": [
       "tensor([  5.3671, -17.3012], requires_grad=True)"
      ]
     },
     "execution_count": 124,
     "metadata": {},
     "output_type": "execute_result"
    }
   ],
   "source": [
    "training_loop(5000, 1e-2, torch.tensor([1.0, 0.0], requires_grad=True), t_un, t_c)"
   ]
  },
  {
   "cell_type": "code",
   "execution_count": 125,
   "id": "48bd0a27-2842-42fa-9748-2fb6595ff486",
   "metadata": {},
   "outputs": [
    {
     "data": {
      "text/plain": [
       "['ASGD',\n",
       " 'Adadelta',\n",
       " 'Adagrad',\n",
       " 'Adam',\n",
       " 'AdamW',\n",
       " 'Adamax',\n",
       " 'LBFGS',\n",
       " 'NAdam',\n",
       " 'Optimizer',\n",
       " 'RAdam',\n",
       " 'RMSprop',\n",
       " 'Rprop',\n",
       " 'SGD',\n",
       " 'SparseAdam',\n",
       " '__builtins__',\n",
       " '__cached__',\n",
       " '__doc__',\n",
       " '__file__',\n",
       " '__loader__',\n",
       " '__name__',\n",
       " '__package__',\n",
       " '__path__',\n",
       " '__spec__',\n",
       " '_functional',\n",
       " '_multi_tensor',\n",
       " 'lr_scheduler',\n",
       " 'swa_utils']"
      ]
     },
     "execution_count": 125,
     "metadata": {},
     "output_type": "execute_result"
    }
   ],
   "source": [
    "import torch.optim as optim\n",
    "dir(optim)"
   ]
  },
  {
   "cell_type": "code",
   "execution_count": 126,
   "id": "ce2d7d63-a4c9-43da-a230-654753385ba7",
   "metadata": {},
   "outputs": [
    {
     "data": {
      "text/plain": [
       "tensor([1.7761, 0.1064], requires_grad=True)"
      ]
     },
     "execution_count": 126,
     "metadata": {},
     "output_type": "execute_result"
    }
   ],
   "source": [
    "params = torch.tensor([1.0, 0.0], requires_grad=True)\n",
    "learning_rate = 1e-2\n",
    "optimizer = optim.SGD([params], lr=learning_rate)\n",
    "\n",
    "t_p = model(t_un, *params)\n",
    "loss = loss_fn(t_p, t_c)\n",
    "\n",
    "optimizer.zero_grad()\n",
    "loss.backward()\n",
    "optimizer.step()\n",
    "\n",
    "params"
   ]
  },
  {
   "cell_type": "code",
   "execution_count": 127,
   "id": "4beb85e7-a1a5-4523-9d7a-4b35eee0c54e",
   "metadata": {},
   "outputs": [],
   "source": [
    "def training_loop(n_epochs, optimizer, params, t_u, t_c):\n",
    "    for epoch in range(1, n_epochs + 1):\n",
    "        t_p = model(t_u, *params)\n",
    "        loss = loss_fn(t_p, t_c)\n",
    "        \n",
    "        optimizer.zero_grad()\n",
    "        loss.backward()\n",
    "        optimizer.step()\n",
    "        \n",
    "        if epoch % 500 == 0:\n",
    "            print(f'Epoch {epoch}, Loss {loss}')\n",
    "    return params"
   ]
  },
  {
   "cell_type": "code",
   "execution_count": 128,
   "id": "feb008be-f459-41e1-8e5d-b927046d2e2a",
   "metadata": {},
   "outputs": [
    {
     "name": "stdout",
     "output_type": "stream",
     "text": [
      "Epoch 500, Loss 7.860119819641113\n",
      "Epoch 1000, Loss 3.828537940979004\n",
      "Epoch 1500, Loss 3.092191219329834\n",
      "Epoch 2000, Loss 2.957697868347168\n",
      "Epoch 2500, Loss 2.933133840560913\n",
      "Epoch 3000, Loss 2.9286484718322754\n",
      "Epoch 3500, Loss 2.9278297424316406\n",
      "Epoch 4000, Loss 2.9276793003082275\n",
      "Epoch 4500, Loss 2.927651882171631\n",
      "Epoch 5000, Loss 2.9276468753814697\n"
     ]
    },
    {
     "data": {
      "text/plain": [
       "tensor([  5.3671, -17.3012], requires_grad=True)"
      ]
     },
     "execution_count": 128,
     "metadata": {},
     "output_type": "execute_result"
    }
   ],
   "source": [
    "params = torch.tensor([1.0, 0.0], requires_grad=True)\n",
    "learning_rate = 1e-2\n",
    "optimizer = optim.SGD([params], lr=learning_rate)\n",
    "\n",
    "training_loop(5000, optimizer, params, t_un, t_c)"
   ]
  },
  {
   "cell_type": "code",
   "execution_count": 129,
   "id": "86fb89f7-6731-45ec-aec8-6563a3718293",
   "metadata": {},
   "outputs": [
    {
     "name": "stdout",
     "output_type": "stream",
     "text": [
      "Epoch 500, Loss 7.612900257110596\n",
      "Epoch 1000, Loss 3.086700439453125\n",
      "Epoch 1500, Loss 2.928579092025757\n",
      "Epoch 2000, Loss 2.9276442527770996\n"
     ]
    },
    {
     "data": {
      "text/plain": [
       "tensor([  0.5367, -17.3021], requires_grad=True)"
      ]
     },
     "execution_count": 129,
     "metadata": {},
     "output_type": "execute_result"
    }
   ],
   "source": [
    "params = torch.tensor([1.0, 0.0], requires_grad=True)\n",
    "learning_rate = 1e-1\n",
    "optimizer = optim.Adam([params], lr=learning_rate)\n",
    "\n",
    "training_loop(2000, optimizer, params, t_u, t_c)"
   ]
  },
  {
   "cell_type": "code",
   "execution_count": 130,
   "id": "f42c0437-9932-46eb-b9a2-b8bd6bd7c831",
   "metadata": {},
   "outputs": [
    {
     "data": {
      "text/plain": [
       "(tensor([9, 1, 7, 5, 2, 8, 0, 3, 6]), tensor([10,  4]))"
      ]
     },
     "execution_count": 130,
     "metadata": {},
     "output_type": "execute_result"
    }
   ],
   "source": [
    "n_samples = t_u.shape[0]\n",
    "n_val = int(0.2 * n_samples)\n",
    "shuffled_indices = torch.randperm(n_samples)\n",
    "\n",
    "train_indices = shuffled_indices[:-n_val]\n",
    "val_indices = shuffled_indices[-n_val:]\n",
    "train_indices, val_indices"
   ]
  },
  {
   "cell_type": "code",
   "execution_count": 131,
   "id": "9c116bd3-d492-41d0-9c5e-f7efa640859d",
   "metadata": {},
   "outputs": [],
   "source": [
    "train_t_u = t_u[train_indices]\n",
    "train_t_c = t_c[train_indices]\n",
    "\n",
    "val_t_u = t_u[val_indices]\n",
    "val_t_c = t_c[val_indices]\n",
    "\n",
    "train_t_un = 0.1 * train_t_u\n",
    "val_t_un = 0.1 * val_t_u"
   ]
  },
  {
   "cell_type": "code",
   "execution_count": 132,
   "id": "f5ed840d-3c19-4572-bbb1-200e454ef048",
   "metadata": {},
   "outputs": [
    {
     "name": "stdout",
     "output_type": "stream",
     "text": [
      "Epoch 1, Train Loss 72.74058532714844, Valid Loss 114.67124938964844\n",
      "Epoch 2, Train Loss 40.26822280883789, Valid Loss 46.45689392089844\n",
      "Epoch 3, Train Loss 33.95819854736328, Valid Loss 27.988441467285156\n",
      "Epoch 500, Train Loss 7.064545631408691, Valid Loss 6.850964546203613\n",
      "Epoch 1000, Train Loss 3.461113452911377, Valid Loss 4.285747528076172\n",
      "Epoch 1500, Train Loss 2.9574294090270996, Valid Loss 3.583232879638672\n",
      "Epoch 2000, Train Loss 2.887024164199829, Valid Loss 3.3564412593841553\n",
      "Epoch 2500, Train Loss 2.8771846294403076, Valid Loss 3.2766647338867188\n",
      "Epoch 3000, Train Loss 2.875810146331787, Valid Loss 3.2475385665893555\n"
     ]
    },
    {
     "data": {
      "text/plain": [
       "tensor([  5.2908, -16.8837], requires_grad=True)"
      ]
     },
     "execution_count": 132,
     "metadata": {},
     "output_type": "execute_result"
    }
   ],
   "source": [
    "def training_loop(n_epochs, optimizer, params, train_t_u, val_t_u, train_t_c, val_t_c):\n",
    "    for epoch in range(1, n_epochs + 1):\n",
    "        train_t_p = model(train_t_u, *params)\n",
    "        train_loss = loss_fn(train_t_p, train_t_c)\n",
    "        \n",
    "        val_t_p = model(val_t_u, *params)\n",
    "        val_loss = loss_fn(val_t_p, val_t_c)\n",
    "        \n",
    "        optimizer.zero_grad()\n",
    "        train_loss.backward()\n",
    "        optimizer.step()\n",
    "        \n",
    "        if epoch <= 3 or epoch % 500 == 0:\n",
    "            print(f'Epoch {epoch}, Train Loss {train_loss}, Valid Loss {val_loss}')\n",
    "    return params\n",
    "\n",
    "params = torch.tensor([1.0, 0.0], requires_grad=True)\n",
    "learning_rate = 1e-2\n",
    "optimizer = optim.SGD([params], lr=learning_rate)\n",
    "\n",
    "training_loop(3000, optimizer, params, train_t_un, val_t_un, train_t_c, val_t_c)"
   ]
  },
  {
   "cell_type": "code",
   "execution_count": 133,
   "id": "f115d0c0-bfdd-4c68-abd4-46e3389eba7f",
   "metadata": {},
   "outputs": [],
   "source": [
    "def model(t_u, w1, w2, b):\n",
    "    out = w2 * t_u**2 + w1 * t_u + b\n",
    "    return out"
   ]
  },
  {
   "cell_type": "code",
   "execution_count": 147,
   "id": "88fce3fe-5bce-4487-ac26-e5333506e456",
   "metadata": {},
   "outputs": [],
   "source": [
    "n_samples = t_u.shape[0]\n",
    "n_val = int(0.2 * n_samples)\n",
    "\n",
    "shuffled_indices = torch.randperm(n_samples)\n",
    "\n",
    "train_indices = shuffled_indices[:-n_val]\n",
    "val_indices = shuffled_indices[-n_val:]\n",
    "train_indices, val_indices\n",
    "\n",
    "train_t_u = t_u[train_indices]\n",
    "train_t_c = t_c[train_indices]\n",
    "\n",
    "val_t_u = t_u[val_indices]\n",
    "val_t_c = t_c[val_indices]\n",
    "\n",
    "train_t_un = 0.1 * train_t_u\n",
    "val_t_un = 0.1 * val_t_u"
   ]
  },
  {
   "cell_type": "code",
   "execution_count": 148,
   "id": "aadba483-a407-43c0-853e-aa9b4b28b0f9",
   "metadata": {},
   "outputs": [
    {
     "name": "stdout",
     "output_type": "stream",
     "text": [
      "Epoch 1, Train Loss 522.655029296875, Valid Loss 1364.9212646484375\n",
      "Epoch 2, Train Loss 281.97039794921875, Valid Loss 937.6859130859375\n",
      "Epoch 3, Train Loss 154.8837127685547, Valid Loss 352.75677490234375\n",
      "Epoch 500, Train Loss 3.771509885787964, Valid Loss 5.625340461730957\n",
      "Epoch 1000, Train Loss 2.6331634521484375, Valid Loss 13.870804786682129\n",
      "Epoch 1500, Train Loss 2.4857046604156494, Valid Loss 18.212736129760742\n",
      "Epoch 2000, Train Loss 2.4607081413269043, Valid Loss 19.81005096435547\n",
      "Epoch 2500, Train Loss 2.4509365558624268, Valid Loss 20.2785701751709\n",
      "Epoch 3000, Train Loss 2.443145513534546, Valid Loss 20.332889556884766\n"
     ]
    },
    {
     "data": {
      "text/plain": [
       "tensor([-1.7729,  0.7522, -1.7023], requires_grad=True)"
      ]
     },
     "execution_count": 148,
     "metadata": {},
     "output_type": "execute_result"
    }
   ],
   "source": [
    "params = torch.tensor([1.0, 1.0, 0.0], requires_grad=True)\n",
    "learning_rate = 1e-3\n",
    "optimizer = optim.SGD([params], lr=learning_rate)\n",
    "\n",
    "training_loop(3000, optimizer, params, train_t_un, val_t_un, train_t_c, val_t_c)"
   ]
  },
  {
   "cell_type": "markdown",
   "id": "5b00e89f-ff9d-41a5-a9cd-47f402ee928d",
   "metadata": {
    "jp-MarkdownHeadingCollapsed": true,
    "tags": []
   },
   "source": [
    "## chap6"
   ]
  },
  {
   "cell_type": "code",
   "execution_count": 4,
   "id": "13a7f0ca-9684-4343-a085-82f8f388a59c",
   "metadata": {},
   "outputs": [],
   "source": [
    "linear_model = nn.Linear(1, 1)"
   ]
  },
  {
   "cell_type": "code",
   "execution_count": 5,
   "id": "232ce6a1-6683-4300-89fa-900527d65e97",
   "metadata": {},
   "outputs": [
    {
     "data": {
      "text/plain": [
       "(Parameter containing:\n",
       " tensor([[-0.8909]], requires_grad=True),\n",
       " Parameter containing:\n",
       " tensor([-0.9789], requires_grad=True))"
      ]
     },
     "execution_count": 5,
     "metadata": {},
     "output_type": "execute_result"
    }
   ],
   "source": [
    "linear_model.weight, linear_model.bias"
   ]
  },
  {
   "cell_type": "code",
   "execution_count": 6,
   "id": "cd71999a-3095-4f61-832f-c1a01c22d98b",
   "metadata": {},
   "outputs": [
    {
     "data": {
      "text/plain": [
       "tensor([[-1.8698],\n",
       "        [-1.8698],\n",
       "        [-1.8698],\n",
       "        [-1.8698],\n",
       "        [-1.8698],\n",
       "        [-1.8698],\n",
       "        [-1.8698],\n",
       "        [-1.8698],\n",
       "        [-1.8698],\n",
       "        [-1.8698]], grad_fn=<AddmmBackward0>)"
      ]
     },
     "execution_count": 6,
     "metadata": {},
     "output_type": "execute_result"
    }
   ],
   "source": [
    "x = torch.ones(10, 1)\n",
    "linear_model(x)"
   ]
  },
  {
   "cell_type": "code",
   "execution_count": 7,
   "id": "2e5b5071-5fa2-46de-9a77-4449fa39ccf6",
   "metadata": {},
   "outputs": [],
   "source": [
    "t_c = [0.5, 14.0, 15.0, 28.0, 11.0, 8.0, 3.0, -4.0, 6.0, 13.0, 21.0]\n",
    "t_u = [35.7, 55.9, 58.2, 81.9, 56.3, 48.9, 33.9, 21.8, 48.4, 60.4, 68.4]\n",
    "t_c = torch.tensor(t_c).unsqueeze(1)\n",
    "t_u = torch.tensor(t_u).unsqueeze(1)\n",
    "\n",
    "t_u_train = t_u[:-2]\n",
    "t_u_val = t_u[-2:]\n",
    "t_c_train = t_c[:-2]\n",
    "t_c_val = t_c[-2:]\n",
    "\n",
    "t_un_train = t_u_train * 0.1\n",
    "t_un_val = t_u_val * 0.1"
   ]
  },
  {
   "cell_type": "code",
   "execution_count": 8,
   "id": "a011210c-4b5e-4c68-be51-1dc66a1bbb73",
   "metadata": {},
   "outputs": [],
   "source": [
    "def training_loop(n_epochs, optimizer, model, loss_fn, t_u_train, t_u_val, t_c_train, t_c_val):\n",
    "    for epoch in range(1, n_epochs+1):\n",
    "        t_p_train = model(t_u_train)\n",
    "        loss_train = loss_fn(t_p_train, t_c_train)\n",
    "        \n",
    "        t_p_val = model(t_u_val)\n",
    "        loss_val = loss_fn(t_p_val, t_c_val)\n",
    "        \n",
    "        optimizer.zero_grad()\n",
    "        loss_train.backward()\n",
    "        optimizer.step()\n",
    "        \n",
    "        if epoch == 1 or epoch % 1000 == 0:\n",
    "            print(f'Epoch {epoch}, Train Loss {loss_train.item():.4f}, Valid Loss {loss_val.item():.4f}')\n",
    "    return"
   ]
  },
  {
   "cell_type": "code",
   "execution_count": 11,
   "id": "0a391283-1625-40de-8485-d0c1f76f6d39",
   "metadata": {},
   "outputs": [
    {
     "name": "stdout",
     "output_type": "stream",
     "text": [
      "Epoch 1, Train Loss 117.7138, Valid Loss 219.9299\n",
      "Epoch 1000, Train Loss 3.4914, Valid Loss 4.2812\n",
      "Epoch 2000, Train Loss 2.8086, Valid Loss 3.6225\n",
      "Epoch 3000, Train Loss 2.7947, Valid Loss 3.5618\n",
      "\n",
      "Parameter containing:\n",
      "tensor([[5.3300]], requires_grad=True)\n",
      "Parameter containing:\n",
      "tensor([-17.0562], requires_grad=True)\n"
     ]
    }
   ],
   "source": [
    "linear_model = nn.Linear(1, 1)\n",
    "optimizer = optim.SGD(linear_model.parameters(), lr=1e-2)\n",
    "\n",
    "training_loop(n_epochs=3000, optimizer=optimizer, model=linear_model, loss_fn=nn.MSELoss(),\n",
    "             t_u_train=t_un_train, t_u_val=t_un_val, t_c_train=t_c_train, t_c_val=t_c_val)\n",
    "\n",
    "print()\n",
    "print(linear_model.weight)\n",
    "print(linear_model.bias)"
   ]
  },
  {
   "cell_type": "code",
   "execution_count": 12,
   "id": "01fc78a8-1ff7-41ae-9c38-5712d6add1e1",
   "metadata": {},
   "outputs": [
    {
     "data": {
      "text/plain": [
       "Sequential(\n",
       "  (0): Linear(in_features=1, out_features=8, bias=True)\n",
       "  (1): Tanh()\n",
       "  (2): Linear(in_features=8, out_features=1, bias=True)\n",
       ")"
      ]
     },
     "execution_count": 12,
     "metadata": {},
     "output_type": "execute_result"
    }
   ],
   "source": [
    "seq_model = nn.Sequential(\n",
    "    nn.Linear(1, 8),\n",
    "    nn.Tanh(),\n",
    "    nn.Linear(8, 1)\n",
    ")\n",
    "seq_model"
   ]
  },
  {
   "cell_type": "code",
   "execution_count": 13,
   "id": "aad1d9ac-4f39-4bd8-a427-f59ab4ee179a",
   "metadata": {},
   "outputs": [
    {
     "data": {
      "text/plain": [
       "[('0.weight', torch.Size([8, 1])),\n",
       " ('0.bias', torch.Size([8])),\n",
       " ('2.weight', torch.Size([1, 8])),\n",
       " ('2.bias', torch.Size([1]))]"
      ]
     },
     "execution_count": 13,
     "metadata": {},
     "output_type": "execute_result"
    }
   ],
   "source": [
    "[(name, param.shape) for (name, param) in seq_model.named_parameters()]"
   ]
  },
  {
   "cell_type": "code",
   "execution_count": 14,
   "id": "b88db9c3-d54f-40ac-83f0-2f2411a2b425",
   "metadata": {},
   "outputs": [
    {
     "name": "stdout",
     "output_type": "stream",
     "text": [
      "Epoch 1, Train Loss 157.3855, Valid Loss 297.6735\n",
      "Epoch 1000, Train Loss 6.6515, Valid Loss 5.5441\n",
      "Epoch 2000, Train Loss 4.3776, Valid Loss 9.9873\n",
      "Epoch 3000, Train Loss 2.0354, Valid Loss 6.2289\n",
      "Epoch 4000, Train Loss 1.6783, Valid Loss 4.0824\n",
      "Epoch 5000, Train Loss 1.6108, Valid Loss 4.1078\n"
     ]
    }
   ],
   "source": [
    "seq_model = nn.Sequential(\n",
    "    nn.Linear(1, 8),\n",
    "    nn.Tanh(),\n",
    "    nn.Linear(8, 1)\n",
    ")\n",
    "optimizer = optim.SGD(seq_model.parameters(), lr=1e-3)\n",
    "\n",
    "training_loop(5000, optimizer, seq_model, nn.MSELoss(), t_un_train, t_un_val, t_c_train, t_c_val)"
   ]
  },
  {
   "cell_type": "code",
   "execution_count": 15,
   "id": "867e04a5-7194-41e6-a102-0f13a610c024",
   "metadata": {},
   "outputs": [
    {
     "data": {
      "text/plain": [
       "[<matplotlib.lines.Line2D at 0x7f1c40269190>]"
      ]
     },
     "execution_count": 15,
     "metadata": {},
     "output_type": "execute_result"
    },
    {
     "data": {
      "image/png": "[encoded data removed]",
      "text/plain": [
       "<Figure size 504x360 with 1 Axes>"
      ]
     },
     "metadata": {
      "needs_background": "light"
     },
     "output_type": "display_data"
    }
   ],
   "source": [
    "t_range = torch.arange(20., 90.).unsqueeze(1)\n",
    "\n",
    "fig = plt.figure(figsize=(7,5))\n",
    "\n",
    "plt.plot(t_u.numpy(), t_c.numpy(), 'o')\n",
    "plt.plot(t_range.numpy(), seq_model(0.1 * t_range).detach().numpy(), 'c-')\n",
    "plt.plot(t_u.numpy(), seq_model(0.1 * t_u).detach().numpy(), 'kx')"
   ]
  },
  {
   "cell_type": "code",
   "execution_count": 16,
   "id": "f87f6e62-ba68-4e58-9165-a0b9bd94e1d4",
   "metadata": {},
   "outputs": [
    {
     "name": "stdout",
     "output_type": "stream",
     "text": [
      "Epoch 1, Train Loss 160.8759, Valid Loss 304.1570\n",
      "Epoch 1000, Train Loss 2.8623, Valid Loss 3.6564\n",
      "Epoch 2000, Train Loss 2.1827, Valid Loss 3.0945\n",
      "Epoch 3000, Train Loss 1.9842, Valid Loss 2.8355\n",
      "Epoch 4000, Train Loss 1.9049, Valid Loss 2.6966\n",
      "Epoch 5000, Train Loss 1.8667, Valid Loss 2.6294\n"
     ]
    },
    {
     "data": {
      "image/png": "[encoded data removed]",
      "text/plain": [
       "<Figure size 504x360 with 1 Axes>"
      ]
     },
     "metadata": {
      "needs_background": "light"
     },
     "output_type": "display_data"
    }
   ],
   "source": [
    "hidden_features = 100\n",
    "lr = 1e-3\n",
    "loss_fn = nn.MSELoss()\n",
    "\n",
    "seq_model = nn.Sequential(\n",
    "    nn.Linear(1, hidden_features),\n",
    "    nn.Tanh(),\n",
    "    nn.Linear(hidden_features, 1)\n",
    ")\n",
    "optimizer = optim.SGD(seq_model.parameters(), lr)\n",
    "training_loop(5000, optimizer, seq_model, loss_fn, t_un_train, t_un_val, t_c_train, t_c_val)\n",
    "\n",
    "t_range = torch.arange(20., 90.).unsqueeze(1)\n",
    "\n",
    "fig = plt.figure(figsize=(7,5))\n",
    "\n",
    "plt.plot(t_u.numpy(), t_c.numpy(), 'o')\n",
    "plt.plot(t_range.numpy(), seq_model(0.1 * t_range).detach().numpy(), 'c-')\n",
    "plt.plot(t_u.numpy(), seq_model(0.1 * t_u).detach().numpy(), 'kx')\n",
    "plt.show()"
   ]
  },
  {
   "cell_type": "code",
   "execution_count": 17,
   "id": "7270b107-c8ee-44aa-8dc8-94bf714af0b3",
   "metadata": {},
   "outputs": [
    {
     "data": {
      "text/plain": [
       "torch.Size([4898, 12])"
      ]
     },
     "execution_count": 17,
     "metadata": {},
     "output_type": "execute_result"
    }
   ],
   "source": [
    "wine_path = './data/tabular-wine/winequality-white.csv'\n",
    "wineq_numpy = np.loadtxt(wine_path, dtype=np.float32, delimiter=';', skiprows=1)\n",
    "wineq = torch.from_numpy(wineq_numpy)\n",
    "wineq.shape"
   ]
  },
  {
   "cell_type": "code",
   "execution_count": 18,
   "id": "799fc64f-65e4-432b-aa21-8f06411ebcb7",
   "metadata": {},
   "outputs": [],
   "source": [
    "data = wineq[:, :-1]\n",
    "target = wineq[:, -1]\n",
    "\n",
    "val_index = int(0.2 * data.shape[0])\n",
    "\n",
    "X_train = data[:-val_index]\n",
    "X_val = data[-val_index:]\n",
    "y_train = target[:-val_index, None]\n",
    "y_val = target[-val_index:, None]"
   ]
  },
  {
   "cell_type": "code",
   "execution_count": 19,
   "id": "2ee1a898-3a53-4861-b9c6-e99f9edd1ded",
   "metadata": {},
   "outputs": [
    {
     "name": "stdout",
     "output_type": "stream",
     "text": [
      "Epoch 1, Train Loss 32.5154, Valid Loss 32.2313\n",
      "Epoch 1000, Train Loss 1.0709, Valid Loss 0.9201\n",
      "Epoch 2000, Train Loss 1.0906, Valid Loss 0.9696\n",
      "Epoch 3000, Train Loss 0.9933, Valid Loss 0.8959\n",
      "Epoch 4000, Train Loss 0.9552, Valid Loss 0.8779\n",
      "Epoch 5000, Train Loss 0.9098, Valid Loss 0.8416\n"
     ]
    }
   ],
   "source": [
    "hidden_size = 100\n",
    "lr = 1e-2\n",
    "n_epochs = 5000\n",
    "loss_fn = nn.MSELoss()\n",
    "\n",
    "seq_model = nn.Sequential(\n",
    "    nn.Linear(11, hidden_size),\n",
    "    nn.Tanh(),\n",
    "    nn.Linear(hidden_size, 1)\n",
    ")\n",
    "optimizer = optim.SGD(seq_model.parameters(), lr)\n",
    "\n",
    "training_loop(n_epochs, optimizer, seq_model, loss_fn, X_train, X_val, y_train, y_val)"
   ]
  },
  {
   "cell_type": "code",
   "execution_count": 22,
   "id": "04093bb2-4472-4a9b-b635-67a8fd3514eb",
   "metadata": {},
   "outputs": [],
   "source": [
    "X_train_n = (X_train - X_train.mean(dim=0)) / X_train.std(dim=0)\n",
    "X_val_n = (X_val - X_val.mean(dim=0)) / X_val.std(dim=0)"
   ]
  },
  {
   "cell_type": "code",
   "execution_count": 23,
   "id": "436bd1ea-f93c-428a-83f0-2c6ffc487e3e",
   "metadata": {},
   "outputs": [
    {
     "name": "stdout",
     "output_type": "stream",
     "text": [
      "Epoch 1, Train Loss 35.7665, Valid Loss 35.4352\n",
      "Epoch 1000, Train Loss 0.5526, Valid Loss 0.4712\n",
      "Epoch 2000, Train Loss 0.5308, Valid Loss 0.4486\n",
      "Epoch 3000, Train Loss 0.5190, Valid Loss 0.4395\n",
      "Epoch 4000, Train Loss 0.5100, Valid Loss 0.4343\n",
      "Epoch 5000, Train Loss 0.5020, Valid Loss 0.4308\n",
      "Epoch 6000, Train Loss 0.4945, Valid Loss 0.4281\n",
      "Epoch 7000, Train Loss 0.4874, Valid Loss 0.4254\n",
      "Epoch 8000, Train Loss 0.4806, Valid Loss 0.4224\n",
      "Epoch 9000, Train Loss 0.4743, Valid Loss 0.4194\n",
      "Epoch 10000, Train Loss 0.4683, Valid Loss 0.4165\n"
     ]
    }
   ],
   "source": [
    "hidden_size = 100\n",
    "lr = 1e-2\n",
    "n_epochs = 10000\n",
    "loss_fn = nn.MSELoss()\n",
    "\n",
    "seq_model = nn.Sequential(\n",
    "    nn.Linear(11, hidden_size),\n",
    "    nn.Tanh(),\n",
    "    nn.Linear(hidden_size, 1)\n",
    ")\n",
    "optimizer = optim.SGD(seq_model.parameters(), lr)\n",
    "\n",
    "training_loop(n_epochs, optimizer, seq_model, loss_fn, X_train_n, X_val_n, y_train, y_val)"
   ]
  },
  {
   "cell_type": "code",
   "execution_count": 26,
   "id": "949ed36f-88f6-460d-b6a5-aa2117809523",
   "metadata": {},
   "outputs": [
    {
     "name": "stdout",
     "output_type": "stream",
     "text": [
      "Epoch 1, Train Loss 35.3265, Valid Loss 34.9498\n",
      "Epoch 1000, Train Loss 0.5603, Valid Loss 0.4928\n",
      "Epoch 2000, Train Loss 0.5351, Valid Loss 0.4615\n",
      "Epoch 3000, Train Loss 0.5218, Valid Loss 0.4476\n",
      "Epoch 4000, Train Loss 0.5122, Valid Loss 0.4382\n",
      "Epoch 5000, Train Loss 0.5042, Valid Loss 0.4309\n",
      "Epoch 6000, Train Loss 0.4972, Valid Loss 0.4253\n",
      "Epoch 7000, Train Loss 0.4909, Valid Loss 0.4212\n",
      "Epoch 8000, Train Loss 0.4851, Valid Loss 0.4184\n",
      "Epoch 9000, Train Loss 0.4794, Valid Loss 0.4166\n",
      "Epoch 10000, Train Loss 0.4738, Valid Loss 0.4156\n"
     ]
    }
   ],
   "source": [
    "X_train_n_cuda = X_train_n.to(device='cuda')\n",
    "X_val_n_cuda = X_val_n.to(device='cuda')\n",
    "y_train_cuda = y_train.to(device='cuda')\n",
    "y_val_cuda = y_val.to(device='cuda')\n",
    "\n",
    "hidden_size = 100\n",
    "lr = 1e-2\n",
    "n_epochs = 10000\n",
    "loss_fn = nn.MSELoss()\n",
    "\n",
    "seq_model = nn.Sequential(\n",
    "    nn.Linear(11, hidden_size),\n",
    "    nn.Tanh(),\n",
    "    nn.Linear(hidden_size, 1)\n",
    ").to(device='cuda')\n",
    "\n",
    "optimizer = optim.SGD(seq_model.parameters(), lr)\n",
    "\n",
    "training_loop(n_epochs, optimizer, seq_model, loss_fn, X_train_n_cuda, X_val_n_cuda, y_train_cuda, y_val_cuda)"
   ]
  },
  {
   "cell_type": "markdown",
   "id": "87960636-65e8-4076-9a38-db8e0fe852c6",
   "metadata": {
    "jp-MarkdownHeadingCollapsed": true,
    "tags": []
   },
   "source": [
    "## chap7"
   ]
  },
  {
   "cell_type": "code",
   "execution_count": 27,
   "id": "f7546d80-e21a-4c42-bd85-ee1018980b29",
   "metadata": {},
   "outputs": [
    {
     "name": "stdout",
     "output_type": "stream",
     "text": [
      "Files already downloaded and verified\n",
      "Files already downloaded and verified\n"
     ]
    }
   ],
   "source": [
    "data_path = './data/'\n",
    "cifar10 = datasets.CIFAR10(data_path, train=True, download=True)\n",
    "cifar10_val = datasets.CIFAR10(data_path, train=False, download=True)"
   ]
  },
  {
   "cell_type": "code",
   "execution_count": 28,
   "id": "4e6ff081-b014-49f9-9cce-ca6c6e761dbe",
   "metadata": {},
   "outputs": [
    {
     "data": {
      "text/plain": [
       "(torchvision.datasets.cifar.CIFAR10,\n",
       " torchvision.datasets.vision.VisionDataset,\n",
       " torch.utils.data.dataset.Dataset,\n",
       " typing.Generic,\n",
       " object)"
      ]
     },
     "execution_count": 28,
     "metadata": {},
     "output_type": "execute_result"
    }
   ],
   "source": [
    "type(cifar10).__mro__"
   ]
  },
  {
   "cell_type": "code",
   "execution_count": 29,
   "id": "89a0f8c4-520f-4f66-9aa3-af37b81ea8f7",
   "metadata": {},
   "outputs": [
    {
     "data": {
      "text/plain": [
       "(50000, 10000)"
      ]
     },
     "execution_count": 29,
     "metadata": {},
     "output_type": "execute_result"
    }
   ],
   "source": [
    "len(cifar10), len(cifar10_val)"
   ]
  },
  {
   "cell_type": "code",
   "execution_count": 30,
   "id": "fe5fc85d-c59c-45b5-a98a-05dcf394a9b2",
   "metadata": {},
   "outputs": [
    {
     "data": {
      "text/plain": [
       "(<PIL.Image.Image image mode=RGB size=32x32>, 1, 'automobile')"
      ]
     },
     "execution_count": 30,
     "metadata": {},
     "output_type": "execute_result"
    }
   ],
   "source": [
    "class_names = ['plain', 'automobile', 'bird', 'cat', 'deer', 'dog', 'frog', 'horse', 'ship', 'truck']\n",
    "img, label = cifar10[99]\n",
    "img, label, class_names[label]"
   ]
  },
  {
   "cell_type": "code",
   "execution_count": 31,
   "id": "29bf3187-d271-4904-b83a-5d5983808766",
   "metadata": {},
   "outputs": [
    {
     "data": {
      "image/png": "[encoded data removed]",
      "text/plain": [
       "<Figure size 432x288 with 1 Axes>"
      ]
     },
     "metadata": {
      "needs_background": "light"
     },
     "output_type": "display_data"
    }
   ],
   "source": [
    "plt.imshow(img)\n",
    "plt.show()"
   ]
  },
  {
   "cell_type": "code",
   "execution_count": 32,
   "id": "d8de7fbf-bf33-4bf2-ac94-b38760dff5fa",
   "metadata": {},
   "outputs": [
    {
     "data": {
      "text/plain": [
       "['AugMix',\n",
       " 'AutoAugment',\n",
       " 'AutoAugmentPolicy',\n",
       " 'CenterCrop',\n",
       " 'ColorJitter',\n",
       " 'Compose',\n",
       " 'ConvertImageDtype',\n",
       " 'FiveCrop',\n",
       " 'GaussianBlur',\n",
       " 'Grayscale',\n",
       " 'InterpolationMode',\n",
       " 'Lambda',\n",
       " 'LinearTransformation',\n",
       " 'Normalize',\n",
       " 'PILToTensor',\n",
       " 'Pad',\n",
       " 'RandAugment',\n",
       " 'RandomAdjustSharpness',\n",
       " 'RandomAffine',\n",
       " 'RandomApply',\n",
       " 'RandomAutocontrast',\n",
       " 'RandomChoice',\n",
       " 'RandomCrop',\n",
       " 'RandomEqualize',\n",
       " 'RandomErasing',\n",
       " 'RandomGrayscale',\n",
       " 'RandomHorizontalFlip',\n",
       " 'RandomInvert',\n",
       " 'RandomOrder',\n",
       " 'RandomPerspective',\n",
       " 'RandomPosterize',\n",
       " 'RandomResizedCrop',\n",
       " 'RandomRotation',\n",
       " 'RandomSolarize',\n",
       " 'RandomVerticalFlip',\n",
       " 'Resize',\n",
       " 'TenCrop',\n",
       " 'ToPILImage',\n",
       " 'ToTensor',\n",
       " 'TrivialAugmentWide',\n",
       " '__builtins__',\n",
       " '__cached__',\n",
       " '__doc__',\n",
       " '__file__',\n",
       " '__loader__',\n",
       " '__name__',\n",
       " '__package__',\n",
       " '__path__',\n",
       " '__spec__',\n",
       " '_pil_constants',\n",
       " '_presets',\n",
       " 'autoaugment',\n",
       " 'functional',\n",
       " 'functional_pil',\n",
       " 'functional_tensor',\n",
       " 'transforms']"
      ]
     },
     "execution_count": 32,
     "metadata": {},
     "output_type": "execute_result"
    }
   ],
   "source": [
    "dir(transforms)"
   ]
  },
  {
   "cell_type": "code",
   "execution_count": 33,
   "id": "c5fdeb01-e113-41a9-acb3-9ac86c261a2d",
   "metadata": {},
   "outputs": [
    {
     "data": {
      "text/plain": [
       "torch.Size([3, 32, 32])"
      ]
     },
     "execution_count": 33,
     "metadata": {},
     "output_type": "execute_result"
    }
   ],
   "source": [
    "to_tensor = transforms.ToTensor()\n",
    "img_t = to_tensor(img)\n",
    "img_t.shape"
   ]
  },
  {
   "cell_type": "code",
   "execution_count": 34,
   "id": "e3d4bdd2-1712-4685-9f01-33540a49cc95",
   "metadata": {},
   "outputs": [
    {
     "data": {
      "text/plain": [
       "(torch.Tensor, torch.Size([3, 32, 32]), torch.float32)"
      ]
     },
     "execution_count": 34,
     "metadata": {},
     "output_type": "execute_result"
    }
   ],
   "source": [
    "tensor_cifar10 = datasets.CIFAR10(data_path, train=True, download=False, transform=to_tensor)\n",
    "\n",
    "img_t, _ = tensor_cifar10[99]\n",
    "type(img_t), img_t.shape, img_t.dtype"
   ]
  },
  {
   "cell_type": "code",
   "execution_count": 35,
   "id": "93810f32-310c-45a0-909d-55c855ee43a9",
   "metadata": {},
   "outputs": [
    {
     "data": {
      "image/png": "[encoded data removed]",
      "text/plain": [
       "<Figure size 432x288 with 1 Axes>"
      ]
     },
     "metadata": {
      "needs_background": "light"
     },
     "output_type": "display_data"
    }
   ],
   "source": [
    "plt.imshow(img_t.permute(1,2,0))\n",
    "plt.show()"
   ]
  },
  {
   "cell_type": "code",
   "execution_count": 36,
   "id": "9cb13b3c-b893-43fa-89da-ff59d951f1f5",
   "metadata": {},
   "outputs": [
    {
     "data": {
      "text/plain": [
       "torch.Size([3, 32, 32, 50000])"
      ]
     },
     "execution_count": 36,
     "metadata": {},
     "output_type": "execute_result"
    }
   ],
   "source": [
    "imgs = torch.stack([img_t for img_t, _ in tensor_cifar10], dim=3)\n",
    "imgs.shape"
   ]
  },
  {
   "cell_type": "code",
   "execution_count": 37,
   "id": "d85b29f4-fe37-4dc1-9c37-af9242ecfac1",
   "metadata": {},
   "outputs": [
    {
     "data": {
      "text/plain": [
       "(tensor([0.4914, 0.4822, 0.4465]), tensor([0.2470, 0.2435, 0.2616]))"
      ]
     },
     "execution_count": 37,
     "metadata": {},
     "output_type": "execute_result"
    }
   ],
   "source": [
    "imgs.view(3, -1).mean(dim=1), imgs.view(3, -1).std(dim=1)"
   ]
  },
  {
   "cell_type": "code",
   "execution_count": 38,
   "id": "ae815aa6-6122-4df7-ae25-686887a3f87e",
   "metadata": {},
   "outputs": [
    {
     "data": {
      "text/plain": [
       "Normalize(mean=[0.4914, 0.4822, 0.4465], std=[0.247, 0.2435, 0.2616])"
      ]
     },
     "execution_count": 38,
     "metadata": {},
     "output_type": "execute_result"
    }
   ],
   "source": [
    "transforms.Normalize(mean=[0.4914, 0.4822, 0.4465], std=[0.2470, 0.2435, 0.2616])"
   ]
  },
  {
   "cell_type": "code",
   "execution_count": 39,
   "id": "02f1fea7-d1e8-495b-a041-beca83e92a0b",
   "metadata": {},
   "outputs": [
    {
     "name": "stderr",
     "output_type": "stream",
     "text": [
      "Clipping input data to the valid range for imshow with RGB data ([0..1] for floats or [0..255] for integers).\n"
     ]
    },
    {
     "data": {
      "image/png": "[encoded data removed]",
      "text/plain": [
       "<Figure size 432x288 with 1 Axes>"
      ]
     },
     "metadata": {
      "needs_background": "light"
     },
     "output_type": "display_data"
    }
   ],
   "source": [
    "transformed_cifar10 = datasets.CIFAR10(\n",
    "    data_path, train=True, download=False,\n",
    "    transform=transforms.Compose([\n",
    "        transforms.ToTensor(),\n",
    "        transforms.Normalize(\n",
    "            mean=[0.4914, 0.4822, 0.4465], \n",
    "            std=[0.2470, 0.2435, 0.2616]\n",
    "        )\n",
    "    ])\n",
    ")\n",
    "\n",
    "img_t, _ = transformed_cifar10[99]\n",
    "\n",
    "plt.imshow(img_t.permute(1,2,0))\n",
    "plt.show()"
   ]
  },
  {
   "cell_type": "code",
   "execution_count": 40,
   "id": "1094a7e6-ae73-42b8-9e93-17cd294b5deb",
   "metadata": {},
   "outputs": [],
   "source": [
    "label_map = {0: 0, 2: 1}\n",
    "class_names = ['airplane', 'bird']\n",
    "\n",
    "tensor_cifar10 = datasets.CIFAR10(data_path, train=True, download=False, transform=to_tensor)\n",
    "tensor_cifar10_val = datasets.CIFAR10(data_path, train=False, download=False, transform=to_tensor)\n",
    "\n",
    "cifar2 = [(img, label_map[label]) for img, label in tensor_cifar10 if label in {0, 2}]\n",
    "cifar2_val = [(img, label_map[label]) for img, label in tensor_cifar10_val if label in {0, 2}]"
   ]
  },
  {
   "cell_type": "code",
   "execution_count": 41,
   "id": "ca6fa921-9602-43cf-af1e-04e89c46a71a",
   "metadata": {},
   "outputs": [],
   "source": [
    "n_in = 32 * 32 * 3\n",
    "n_hidden = 512\n",
    "n_out = 2\n",
    "\n",
    "model = nn.Sequential(\n",
    "    nn.Linear(n_in, n_hidden),\n",
    "    nn.Tanh(),\n",
    "    nn.Linear(n_hidden, n_out)\n",
    ")"
   ]
  },
  {
   "cell_type": "code",
   "execution_count": 42,
   "id": "29b5be64-201f-496d-9549-1904fec1190a",
   "metadata": {},
   "outputs": [],
   "source": [
    "def softmax(x):\n",
    "    return torch.exp(x) / torch.exp(x).sum()"
   ]
  },
  {
   "cell_type": "code",
   "execution_count": 43,
   "id": "6b94be37-b970-4e0f-b0de-45a99a47d6ee",
   "metadata": {},
   "outputs": [
    {
     "data": {
      "text/plain": [
       "tensor([0.0900, 0.2447, 0.6652])"
      ]
     },
     "execution_count": 43,
     "metadata": {},
     "output_type": "execute_result"
    }
   ],
   "source": [
    "softmax(torch.tensor([1, 2, 3]))"
   ]
  },
  {
   "cell_type": "code",
   "execution_count": 44,
   "id": "8d8fb2ea-7b88-4ac1-b100-62705a48b90b",
   "metadata": {},
   "outputs": [
    {
     "data": {
      "text/plain": [
       "tensor([[0.0900, 0.2447, 0.6652],\n",
       "        [0.0900, 0.2447, 0.6652]])"
      ]
     },
     "execution_count": 44,
     "metadata": {},
     "output_type": "execute_result"
    }
   ],
   "source": [
    "softmax = nn.Softmax(dim=1)\n",
    "\n",
    "x = torch.tensor([[1.0, 2.0, 3.0],\n",
    "                 [1.0, 2.0, 3.0]])\n",
    "\n",
    "softmax(x)"
   ]
  },
  {
   "cell_type": "code",
   "execution_count": 45,
   "id": "3adaba7f-c98c-42ff-ade9-079383ebd73d",
   "metadata": {},
   "outputs": [],
   "source": [
    "n_in = 32 * 32 * 3\n",
    "n_hidden = 512\n",
    "n_out = 2\n",
    "\n",
    "model = nn.Sequential(\n",
    "    nn.Linear(n_in, n_hidden),\n",
    "    nn.Tanh(),\n",
    "    nn.Linear(n_hidden, n_out),\n",
    "    nn.Softmax(dim=1)\n",
    ")"
   ]
  },
  {
   "cell_type": "code",
   "execution_count": 46,
   "id": "c25dadcc-5d4e-4e33-8de5-166223872f73",
   "metadata": {},
   "outputs": [
    {
     "data": {
      "image/png": "[encoded data removed]",
      "text/plain": [
       "<Figure size 432x288 with 1 Axes>"
      ]
     },
     "metadata": {
      "needs_background": "light"
     },
     "output_type": "display_data"
    }
   ],
   "source": [
    "img, _ = cifar2[0]\n",
    "\n",
    "plt.imshow(img.permute(1,2,0))\n",
    "plt.show()"
   ]
  },
  {
   "cell_type": "code",
   "execution_count": 47,
   "id": "7a0d3c27-5ff6-49c5-92bd-866789bb82aa",
   "metadata": {},
   "outputs": [
    {
     "data": {
      "text/plain": [
       "tensor([[0.4513, 0.5487]], grad_fn=<SoftmaxBackward0>)"
      ]
     },
     "execution_count": 47,
     "metadata": {},
     "output_type": "execute_result"
    }
   ],
   "source": [
    "img_batch = img.view(-1).unsqueeze(0)\n",
    "out = model(img_batch)\n",
    "out"
   ]
  },
  {
   "cell_type": "code",
   "execution_count": 48,
   "id": "ac7c2a18-69d1-4bcb-a53f-feaab872a37c",
   "metadata": {},
   "outputs": [],
   "source": [
    "n_in = 32 * 32 * 3\n",
    "n_hidden = 512\n",
    "n_out = 2\n",
    "\n",
    "model = nn.Sequential(\n",
    "    nn.Linear(n_in, n_hidden),\n",
    "    nn.Tanh(),\n",
    "    nn.Linear(n_hidden, n_out),\n",
    "    nn.LogSoftmax(dim=1),\n",
    ")\n",
    "\n",
    "loss = nn.NLLLoss()"
   ]
  },
  {
   "cell_type": "code",
   "execution_count": 49,
   "id": "6ad7bc1c-d0fa-46b5-9e3a-c25fc84849dc",
   "metadata": {},
   "outputs": [
    {
     "name": "stdout",
     "output_type": "stream",
     "text": [
      "tensor([[-0.6578, -0.7297]], grad_fn=<LogSoftmaxBackward0>)\n"
     ]
    },
    {
     "data": {
      "text/plain": [
       "tensor(0.7297, grad_fn=<NllLossBackward0>)"
      ]
     },
     "execution_count": 49,
     "metadata": {},
     "output_type": "execute_result"
    }
   ],
   "source": [
    "img, label = cifar2[0]\n",
    "out = model(img.view(-1).unsqueeze(0))\n",
    "print(out)\n",
    "loss(out, torch.tensor([label]))"
   ]
  },
  {
   "cell_type": "code",
   "execution_count": 221,
   "id": "873cb4fc-7ebf-4d98-9bd1-424567344597",
   "metadata": {},
   "outputs": [
    {
     "name": "stdout",
     "output_type": "stream",
     "text": [
      "Epoch: 0, Loss: 1.1808040142059326\n",
      "Epoch: 1, Loss: 1.4308264255523682\n",
      "Epoch: 2, Loss: 1.610068678855896\n",
      "Epoch: 3, Loss: 2.1465883255004883\n",
      "Epoch: 4, Loss: 2.566023349761963\n",
      "Epoch: 5, Loss: 2.632803440093994\n"
     ]
    },
    {
     "ename": "KeyboardInterrupt",
     "evalue": "",
     "output_type": "error",
     "traceback": [
      "\u001b[0;31m---------------------------------------------------------------------------\u001b[0m",
      "\u001b[0;31mKeyboardInterrupt\u001b[0m                         Traceback (most recent call last)",
      "Input \u001b[0;32mIn [221]\u001b[0m, in \u001b[0;36m<cell line: 18>\u001b[0;34m()\u001b[0m\n\u001b[1;32m     23\u001b[0m     optimizer\u001b[38;5;241m.\u001b[39mzero_grad()\n\u001b[1;32m     24\u001b[0m     loss\u001b[38;5;241m.\u001b[39mbackward()\n\u001b[0;32m---> 25\u001b[0m     \u001b[43moptimizer\u001b[49m\u001b[38;5;241;43m.\u001b[39;49m\u001b[43mstep\u001b[49m\u001b[43m(\u001b[49m\u001b[43m)\u001b[49m\n\u001b[1;32m     27\u001b[0m \u001b[38;5;28mprint\u001b[39m(\u001b[38;5;124mf\u001b[39m\u001b[38;5;124m'\u001b[39m\u001b[38;5;124mEpoch: \u001b[39m\u001b[38;5;132;01m{\u001b[39;00mepoch\u001b[38;5;132;01m}\u001b[39;00m\u001b[38;5;124m, Loss: \u001b[39m\u001b[38;5;132;01m{\u001b[39;00mloss\u001b[38;5;132;01m}\u001b[39;00m\u001b[38;5;124m'\u001b[39m)\n",
      "File \u001b[0;32m/usr/local/lib/python3.8/dist-packages/torch/optim/optimizer.py:88\u001b[0m, in \u001b[0;36mOptimizer._hook_for_profile.<locals>.profile_hook_step.<locals>.wrapper\u001b[0;34m(*args, **kwargs)\u001b[0m\n\u001b[1;32m     86\u001b[0m profile_name \u001b[38;5;241m=\u001b[39m \u001b[38;5;124m\"\u001b[39m\u001b[38;5;124mOptimizer.step#\u001b[39m\u001b[38;5;132;01m{}\u001b[39;00m\u001b[38;5;124m.step\u001b[39m\u001b[38;5;124m\"\u001b[39m\u001b[38;5;241m.\u001b[39mformat(obj\u001b[38;5;241m.\u001b[39m\u001b[38;5;18m__class__\u001b[39m\u001b[38;5;241m.\u001b[39m\u001b[38;5;18m__name__\u001b[39m)\n\u001b[1;32m     87\u001b[0m \u001b[38;5;28;01mwith\u001b[39;00m torch\u001b[38;5;241m.\u001b[39mautograd\u001b[38;5;241m.\u001b[39mprofiler\u001b[38;5;241m.\u001b[39mrecord_function(profile_name):\n\u001b[0;32m---> 88\u001b[0m     \u001b[38;5;28;01mreturn\u001b[39;00m \u001b[43mfunc\u001b[49m\u001b[43m(\u001b[49m\u001b[38;5;241;43m*\u001b[39;49m\u001b[43margs\u001b[49m\u001b[43m,\u001b[49m\u001b[43m \u001b[49m\u001b[38;5;241;43m*\u001b[39;49m\u001b[38;5;241;43m*\u001b[39;49m\u001b[43mkwargs\u001b[49m\u001b[43m)\u001b[49m\n",
      "File \u001b[0;32m/usr/local/lib/python3.8/dist-packages/torch/autograd/grad_mode.py:27\u001b[0m, in \u001b[0;36m_DecoratorContextManager.__call__.<locals>.decorate_context\u001b[0;34m(*args, **kwargs)\u001b[0m\n\u001b[1;32m     24\u001b[0m \u001b[38;5;129m@functools\u001b[39m\u001b[38;5;241m.\u001b[39mwraps(func)\n\u001b[1;32m     25\u001b[0m \u001b[38;5;28;01mdef\u001b[39;00m \u001b[38;5;21mdecorate_context\u001b[39m(\u001b[38;5;241m*\u001b[39margs, \u001b[38;5;241m*\u001b[39m\u001b[38;5;241m*\u001b[39mkwargs):\n\u001b[1;32m     26\u001b[0m     \u001b[38;5;28;01mwith\u001b[39;00m \u001b[38;5;28mself\u001b[39m\u001b[38;5;241m.\u001b[39mclone():\n\u001b[0;32m---> 27\u001b[0m         \u001b[38;5;28;01mreturn\u001b[39;00m \u001b[43mfunc\u001b[49m\u001b[43m(\u001b[49m\u001b[38;5;241;43m*\u001b[39;49m\u001b[43margs\u001b[49m\u001b[43m,\u001b[49m\u001b[43m \u001b[49m\u001b[38;5;241;43m*\u001b[39;49m\u001b[38;5;241;43m*\u001b[39;49m\u001b[43mkwargs\u001b[49m\u001b[43m)\u001b[49m\n",
      "File \u001b[0;32m/usr/local/lib/python3.8/dist-packages/torch/optim/sgd.py:144\u001b[0m, in \u001b[0;36mSGD.step\u001b[0;34m(self, closure)\u001b[0m\n\u001b[1;32m    141\u001b[0m         \u001b[38;5;28;01melse\u001b[39;00m:\n\u001b[1;32m    142\u001b[0m             momentum_buffer_list\u001b[38;5;241m.\u001b[39mappend(state[\u001b[38;5;124m'\u001b[39m\u001b[38;5;124mmomentum_buffer\u001b[39m\u001b[38;5;124m'\u001b[39m])\n\u001b[0;32m--> 144\u001b[0m \u001b[43mF\u001b[49m\u001b[38;5;241;43m.\u001b[39;49m\u001b[43msgd\u001b[49m\u001b[43m(\u001b[49m\u001b[43mparams_with_grad\u001b[49m\u001b[43m,\u001b[49m\n\u001b[1;32m    145\u001b[0m \u001b[43m      \u001b[49m\u001b[43md_p_list\u001b[49m\u001b[43m,\u001b[49m\n\u001b[1;32m    146\u001b[0m \u001b[43m      \u001b[49m\u001b[43mmomentum_buffer_list\u001b[49m\u001b[43m,\u001b[49m\n\u001b[1;32m    147\u001b[0m \u001b[43m      \u001b[49m\u001b[43mweight_decay\u001b[49m\u001b[38;5;241;43m=\u001b[39;49m\u001b[43mweight_decay\u001b[49m\u001b[43m,\u001b[49m\n\u001b[1;32m    148\u001b[0m \u001b[43m      \u001b[49m\u001b[43mmomentum\u001b[49m\u001b[38;5;241;43m=\u001b[39;49m\u001b[43mmomentum\u001b[49m\u001b[43m,\u001b[49m\n\u001b[1;32m    149\u001b[0m \u001b[43m      \u001b[49m\u001b[43mlr\u001b[49m\u001b[38;5;241;43m=\u001b[39;49m\u001b[43mlr\u001b[49m\u001b[43m,\u001b[49m\n\u001b[1;32m    150\u001b[0m \u001b[43m      \u001b[49m\u001b[43mdampening\u001b[49m\u001b[38;5;241;43m=\u001b[39;49m\u001b[43mdampening\u001b[49m\u001b[43m,\u001b[49m\n\u001b[1;32m    151\u001b[0m \u001b[43m      \u001b[49m\u001b[43mnesterov\u001b[49m\u001b[38;5;241;43m=\u001b[39;49m\u001b[43mnesterov\u001b[49m\u001b[43m,\u001b[49m\n\u001b[1;32m    152\u001b[0m \u001b[43m      \u001b[49m\u001b[43mmaximize\u001b[49m\u001b[38;5;241;43m=\u001b[39;49m\u001b[43mmaximize\u001b[49m\u001b[43m,\u001b[49m\u001b[43m)\u001b[49m\n\u001b[1;32m    154\u001b[0m \u001b[38;5;66;03m# update momentum_buffers in state\u001b[39;00m\n\u001b[1;32m    155\u001b[0m \u001b[38;5;28;01mfor\u001b[39;00m p, momentum_buffer \u001b[38;5;129;01min\u001b[39;00m \u001b[38;5;28mzip\u001b[39m(params_with_grad, momentum_buffer_list):\n",
      "File \u001b[0;32m/usr/local/lib/python3.8/dist-packages/torch/optim/_functional.py:194\u001b[0m, in \u001b[0;36msgd\u001b[0;34m(params, d_p_list, momentum_buffer_list, weight_decay, momentum, lr, dampening, nesterov, maximize)\u001b[0m\n\u001b[1;32m    191\u001b[0m         d_p \u001b[38;5;241m=\u001b[39m buf\n\u001b[1;32m    193\u001b[0m alpha \u001b[38;5;241m=\u001b[39m lr \u001b[38;5;28;01mif\u001b[39;00m maximize \u001b[38;5;28;01melse\u001b[39;00m \u001b[38;5;241m-\u001b[39mlr\n\u001b[0;32m--> 194\u001b[0m \u001b[43mparam\u001b[49m\u001b[38;5;241;43m.\u001b[39;49m\u001b[43madd_\u001b[49m\u001b[43m(\u001b[49m\u001b[43md_p\u001b[49m\u001b[43m,\u001b[49m\u001b[43m \u001b[49m\u001b[43malpha\u001b[49m\u001b[38;5;241;43m=\u001b[39;49m\u001b[43malpha\u001b[49m\u001b[43m)\u001b[49m\n",
      "\u001b[0;31mKeyboardInterrupt\u001b[0m: "
     ]
    }
   ],
   "source": [
    "n_in = 32 * 32 * 3\n",
    "n_hidden = 512\n",
    "n_out = 2\n",
    "n_epochs = 100\n",
    "learning_rate = 1e-2\n",
    "\n",
    "model = nn.Sequential(\n",
    "    nn.Linear(n_in, n_hidden),\n",
    "    nn.Tanh(),\n",
    "    nn.Linear(n_hidden, n_out),\n",
    "    nn.LogSoftmax(dim=1),\n",
    ")\n",
    "\n",
    "loss_fn = nn.NLLLoss()\n",
    "\n",
    "optimizer = optim.SGD(model.parameters(), lr=learning_rate)\n",
    "\n",
    "for epoch in range(n_epochs):\n",
    "    for img, label in cifar2:\n",
    "        out = model(img.view(-1).unsqueeze(0))\n",
    "        loss = loss_fn(out, torch.tensor([label]))\n",
    "        \n",
    "        optimizer.zero_grad()\n",
    "        loss.backward()\n",
    "        optimizer.step()\n",
    "    \n",
    "    print(f'Epoch: {epoch}, Loss: {loss}')"
   ]
  },
  {
   "cell_type": "code",
   "execution_count": 50,
   "id": "41aa647b-0744-4735-9930-f9594f4adc66",
   "metadata": {},
   "outputs": [],
   "source": [
    "train_loader = torch.utils.data.DataLoader(cifar2, batch_size=64, shuffle=True)"
   ]
  },
  {
   "cell_type": "code",
   "execution_count": 51,
   "id": "25ed0175-07b1-45d1-bb9e-2f931b16103b",
   "metadata": {},
   "outputs": [
    {
     "name": "stdout",
     "output_type": "stream",
     "text": [
      "Epoch: 0, Loss: 0.5302911996841431\n",
      "Epoch: 1, Loss: 0.39758867025375366\n",
      "Epoch: 2, Loss: 0.5306121706962585\n",
      "Epoch: 9, Loss: 0.409014493227005\n",
      "Epoch: 19, Loss: 0.3407643139362335\n",
      "Epoch: 29, Loss: 0.41072455048561096\n",
      "Epoch: 39, Loss: 0.38896292448043823\n",
      "Epoch: 49, Loss: 0.7418482899665833\n",
      "Epoch: 59, Loss: 0.7585717439651489\n",
      "Epoch: 69, Loss: 0.16894115507602692\n",
      "Epoch: 79, Loss: 0.28975367546081543\n",
      "Epoch: 89, Loss: 0.3528478145599365\n",
      "Epoch: 99, Loss: 0.17438285052776337\n"
     ]
    }
   ],
   "source": [
    "n_in = 32 * 32 * 3\n",
    "n_hidden = 512\n",
    "n_out = 2\n",
    "n_epochs = 100\n",
    "batch_size = 64\n",
    "learning_rate = 1e-2\n",
    "\n",
    "train_loader = torch.utils.data.DataLoader(cifar2, batch_size=batch_size, shuffle=True)\n",
    "\n",
    "model = nn.Sequential(\n",
    "    nn.Linear(n_in, n_hidden),\n",
    "    nn.Tanh(),\n",
    "    nn.Linear(n_hidden, n_out),\n",
    "    nn.LogSoftmax(dim=1),\n",
    ")\n",
    "\n",
    "loss_fn = nn.NLLLoss()\n",
    "\n",
    "optimizer = optim.SGD(model.parameters(), lr=learning_rate)\n",
    "\n",
    "for epoch in range(n_epochs):\n",
    "    for imgs, labels in train_loader:\n",
    "        batch_size = imgs.shape[0]\n",
    "        outs = model(imgs.view(batch_size, -1))\n",
    "        loss = loss_fn(outs, labels)\n",
    "        \n",
    "        optimizer.zero_grad()\n",
    "        loss.backward()\n",
    "        optimizer.step()\n",
    "    \n",
    "    if epoch < 3 or (epoch+1) % 10 == 0:\n",
    "        print(f'Epoch: {epoch}, Loss: {loss}')"
   ]
  },
  {
   "cell_type": "code",
   "execution_count": 52,
   "id": "12677ed0-623e-4be3-b037-e306e24d4fc0",
   "metadata": {},
   "outputs": [
    {
     "name": "stdout",
     "output_type": "stream",
     "text": [
      "Accuracy: 0.832\n"
     ]
    }
   ],
   "source": [
    "val_loader = torch.utils.data.DataLoader(cifar2_val, batch_size=64, shuffle=False)\n",
    "\n",
    "correct = 0\n",
    "total = 0\n",
    "\n",
    "with torch.no_grad():\n",
    "    for imgs, labels in val_loader:\n",
    "        batch_size = imgs.shape[0]\n",
    "        outs = model(imgs.view(batch_size, -1))\n",
    "        _, predicted = torch.max(outs, dim=1)\n",
    "        total += labels.shape[0]\n",
    "        correct += int((predicted == labels).sum())\n",
    "\n",
    "print(f'Accuracy: {correct / total}')"
   ]
  },
  {
   "cell_type": "code",
   "execution_count": 53,
   "id": "b69d2b97-af36-4fc7-952a-8985c90af09e",
   "metadata": {},
   "outputs": [
    {
     "data": {
      "text/plain": [
       "(1574402, [1572864, 512, 1024, 2])"
      ]
     },
     "execution_count": 53,
     "metadata": {},
     "output_type": "execute_result"
    }
   ],
   "source": [
    "numel_list = [p.numel() for p in model.parameters() if p.requires_grad]\n",
    "sum(numel_list), numel_list"
   ]
  },
  {
   "cell_type": "code",
   "execution_count": 54,
   "id": "c0e3de4f-7da4-4f86-967b-b253ad0ec076",
   "metadata": {},
   "outputs": [
    {
     "data": {
      "image/png": "[encoded data removed]",
      "text/plain": [
       "<Figure size 432x288 with 1 Axes>"
      ]
     },
     "metadata": {
      "needs_background": "light"
     },
     "output_type": "display_data"
    }
   ],
   "source": [
    "img_t, _ = tensor_cifar10[99]\n",
    "plt.imshow(img_t.permute(1,2,0))\n",
    "plt.show()"
   ]
  },
  {
   "cell_type": "code",
   "execution_count": 55,
   "id": "41864401-f8e8-4fa8-bb0d-a590081ea4c1",
   "metadata": {},
   "outputs": [
    {
     "data": {
      "image/png": "[encoded data removed]",
      "text/plain": [
       "<Figure size 432x288 with 1 Axes>"
      ]
     },
     "metadata": {
      "needs_background": "light"
     },
     "output_type": "display_data"
    },
    {
     "data": {
      "image/png": "[encoded data removed]",
      "text/plain": [
       "<Figure size 432x288 with 1 Axes>"
      ]
     },
     "metadata": {
      "needs_background": "light"
     },
     "output_type": "display_data"
    }
   ],
   "source": [
    "random_crop = transforms.RandomCrop(24)\n",
    "img_t_cropped = random_crop(img_t)\n",
    "plt.imshow(img_t_cropped.permute(1,2,0))\n",
    "plt.show()\n",
    "\n",
    "random_crop = transforms.RandomCrop(16)\n",
    "img_t_cropped = random_crop(img_t_cropped)\n",
    "plt.imshow(img_t_cropped.permute(1,2,0))\n",
    "plt.show()"
   ]
  },
  {
   "cell_type": "code",
   "execution_count": 57,
   "id": "c6056b93-1985-4ad2-8b54-29cbaca32047",
   "metadata": {},
   "outputs": [
    {
     "name": "stdout",
     "output_type": "stream",
     "text": [
      "Epoch: 1, Loss: 0.6930950880050659\n",
      "Epoch: 2, Loss: 0.5557548999786377\n",
      "Epoch: 3, Loss: 0.5068772435188293\n",
      "Epoch: 10, Loss: 0.43348294496536255\n",
      "Epoch: 20, Loss: 0.4744187593460083\n",
      "Epoch: 30, Loss: 0.5235295295715332\n",
      "Epoch: 40, Loss: 0.28145304322242737\n",
      "Epoch: 50, Loss: 0.693291425704956\n",
      "Epoch: 60, Loss: 0.28848129510879517\n",
      "Epoch: 70, Loss: 0.5632581114768982\n",
      "Epoch: 80, Loss: 0.45908549427986145\n",
      "Epoch: 90, Loss: 0.37806761264801025\n",
      "Epoch: 100, Loss: 0.42432868480682373\n"
     ]
    }
   ],
   "source": [
    "crop_size = 24\n",
    "random_crop = transforms.RandomCrop(crop_size)\n",
    "cropped_cifar2 = [(random_crop(img), label) for img, label in cifar2]\n",
    "cropped_cifar2_val = [(random_crop(img), label) for img, label in cifar2_val]\n",
    "\n",
    "n_in = crop_size**2 * 3\n",
    "n_hid = 512\n",
    "n_out = 2\n",
    "n_epochs = 100\n",
    "batch_size = 64\n",
    "lr = 1e-2\n",
    "\n",
    "train_loader = torch.utils.data.DataLoader(cropped_cifar2, batch_size=batch_size, shuffle=True)\n",
    "\n",
    "model = nn.Sequential(\n",
    "    nn.Linear(n_in, n_hid),\n",
    "    nn.Tanh(),\n",
    "    nn.Linear(n_hid, n_out),\n",
    "    nn.LogSoftmax(dim=1),\n",
    ")\n",
    "loss_fn = nn.NLLLoss()\n",
    "\n",
    "optimizer = optim.SGD(model.parameters(), lr=lr)\n",
    "\n",
    "for epoch in range(n_epochs):\n",
    "    for imgs, labels in train_loader:\n",
    "        batch_size = imgs.shape[0]\n",
    "        outs = model(imgs.view(batch_size, -1))\n",
    "        loss = loss_fn(outs, labels)\n",
    "        \n",
    "        optimizer.zero_grad()\n",
    "        loss.backward()\n",
    "        optimizer.step()\n",
    "    \n",
    "    if epoch < 3 or (epoch + 1) % 10 == 0:\n",
    "        print(f'Epoch: {epoch+1}, Loss: {loss}')"
   ]
  },
  {
   "cell_type": "code",
   "execution_count": 58,
   "id": "2933ff76-ea29-4fb4-95a4-4573cd012684",
   "metadata": {},
   "outputs": [
    {
     "name": "stdout",
     "output_type": "stream",
     "text": [
      "Train Accuracy: 0.7545\n",
      "Valid Accuracy: 0.738\n"
     ]
    }
   ],
   "source": [
    "val_loader = torch.utils.data.DataLoader(cropped_cifar2_val, batch_size=64, shuffle=False)\n",
    "\n",
    "correct = 0\n",
    "total = 0\n",
    "\n",
    "with torch.no_grad():\n",
    "    for imgs, labels in train_loader:\n",
    "        batch_size = imgs.shape[0]\n",
    "        outs = model(imgs.view(batch_size, -1))\n",
    "        _, predicted = torch.max(outs, dim=1)\n",
    "        total += labels.shape[0]\n",
    "        correct += int((predicted == labels).sum())\n",
    "        \n",
    "    print(f'Train Accuracy: {correct / total}')    \n",
    "    \n",
    "    correct = 0\n",
    "    total = 0\n",
    "    \n",
    "    for imgs, labels in val_loader:\n",
    "        batch_size = imgs.shape[0]\n",
    "        outs = model(imgs.view(batch_size, -1))\n",
    "        _, predicted = torch.max(outs, dim=1)\n",
    "        total += labels.shape[0]\n",
    "        correct += int((predicted == labels).sum())\n",
    "        \n",
    "    print(f'Valid Accuracy: {correct / total}')"
   ]
  },
  {
   "cell_type": "code",
   "execution_count": 281,
   "id": "87073ceb-85ce-45d7-9b42-d7e64b374b75",
   "metadata": {},
   "outputs": [
    {
     "name": "stdout",
     "output_type": "stream",
     "text": [
      "Epoch: 1, Loss: 0.1940528303384781\n",
      "Epoch: 2, Loss: 0.34213417768478394\n",
      "Epoch: 3, Loss: 0.27166134119033813\n",
      "Epoch: 10, Loss: 0.16029147803783417\n",
      "Epoch: 20, Loss: 0.09221005439758301\n",
      "Epoch: 30, Loss: 0.1900014877319336\n",
      "Epoch: 40, Loss: 0.07484658807516098\n",
      "Epoch: 50, Loss: 0.10054468363523483\n",
      "Epoch: 60, Loss: 0.2856018841266632\n",
      "Epoch: 70, Loss: 0.22304975986480713\n",
      "Epoch: 80, Loss: 0.15296676754951477\n",
      "Epoch: 90, Loss: 0.1537064015865326\n",
      "Epoch: 100, Loss: 0.16159535944461823\n"
     ]
    }
   ],
   "source": [
    "n_in = 32**2 * 3\n",
    "n_hid = 512\n",
    "n_out = 1\n",
    "n_epochs = 100\n",
    "batch_size = 64\n",
    "lr = 1e-3\n",
    "\n",
    "train_loader = torch.utils.data.DataLoader(cifar2, batch_size=batch_size, shuffle=True)\n",
    "\n",
    "model = nn.Sequential(\n",
    "    nn.Linear(n_in, n_hid),\n",
    "    nn.Tanh(),\n",
    "    nn.Linear(n_hid, n_out),\n",
    "    # nn.LogSoftmax(),\n",
    ")\n",
    "loss_fn = nn.MSELoss()\n",
    "\n",
    "optimizer = optim.SGD(model.parameters(), lr=lr)\n",
    "\n",
    "for epoch in range(n_epochs):\n",
    "    for imgs, labels in train_loader:\n",
    "        batch_size = imgs.shape[0]\n",
    "        outs = model(imgs.view(batch_size, -1))\n",
    "        loss = loss_fn(outs, labels.unsqueeze(1).to(torch.float32))\n",
    "        \n",
    "        optimizer.zero_grad()\n",
    "        loss.backward()\n",
    "        optimizer.step()\n",
    "    \n",
    "    if epoch < 3 or (epoch + 1) % 10 == 0:\n",
    "        print(f'Epoch: {epoch+1}, Loss: {loss}')"
   ]
  },
  {
   "cell_type": "code",
   "execution_count": 282,
   "id": "d9d339a4-3fd3-4075-863b-668fd750f201",
   "metadata": {},
   "outputs": [
    {
     "name": "stdout",
     "output_type": "stream",
     "text": [
      "Train Loss: 0.1430390179157257\n",
      "Valid Loss: 0.14742465317249298\n"
     ]
    }
   ],
   "source": [
    "val_loader = torch.utils.data.DataLoader(cifar2_val, batch_size=64, shuffle=False)\n",
    "\n",
    "i = 0\n",
    "total_loss = 0\n",
    "\n",
    "with torch.no_grad():\n",
    "    for imgs, labels in train_loader:\n",
    "        batch_size = imgs.shape[0]\n",
    "        outs = model(imgs.view(batch_size, -1))\n",
    "        loss = loss_fn(outs, labels.unsqueeze(1).to(torch.float32))\n",
    "        i += 1\n",
    "        total_loss += loss\n",
    "        \n",
    "    print(f'Train Loss: {total_loss / i}')  \n",
    "    \n",
    "    i = 0\n",
    "    total_loss = 0\n",
    "    \n",
    "    for imgs, labels in val_loader:\n",
    "        batch_size = imgs.shape[0]\n",
    "        outs = model(imgs.view(batch_size, -1))\n",
    "        loss = loss_fn(outs, labels.unsqueeze(1).to(torch.float32))\n",
    "        i += 1\n",
    "        total_loss += loss\n",
    "        \n",
    "    print(f'Valid Loss: {total_loss / i}')"
   ]
  },
  {
   "cell_type": "markdown",
   "id": "8053bab8-0454-465c-b31c-64a1dca76d71",
   "metadata": {},
   "source": [
    "## chap8"
   ]
  },
  {
   "cell_type": "code",
   "execution_count": 59,
   "id": "2c1c70e5-8f6e-4e70-b9c8-b63c2732993c",
   "metadata": {},
   "outputs": [
    {
     "data": {
      "text/plain": [
       "Conv2d(3, 16, kernel_size=(3, 3), stride=(1, 1))"
      ]
     },
     "execution_count": 59,
     "metadata": {},
     "output_type": "execute_result"
    }
   ],
   "source": [
    "conv = nn.Conv2d(3, 16, kernel_size=3)\n",
    "conv"
   ]
  },
  {
   "cell_type": "code",
   "execution_count": 60,
   "id": "48ca2c29-2c10-4f93-9864-c9e6c56afa67",
   "metadata": {},
   "outputs": [
    {
     "data": {
      "text/plain": [
       "(torch.Size([16, 3, 3, 3]), torch.Size([16]))"
      ]
     },
     "execution_count": 60,
     "metadata": {},
     "output_type": "execute_result"
    }
   ],
   "source": [
    "conv.weight.shape, conv.bias.shape"
   ]
  },
  {
   "cell_type": "code",
   "execution_count": 61,
   "id": "4df47586-0c39-493e-9dee-972de1ff58b2",
   "metadata": {},
   "outputs": [
    {
     "data": {
      "text/plain": [
       "(torch.Size([1, 3, 32, 32]), torch.Size([1, 16, 30, 30]))"
      ]
     },
     "execution_count": 61,
     "metadata": {},
     "output_type": "execute_result"
    }
   ],
   "source": [
    "img, _ = cifar2[0]\n",
    "out = conv(img.unsqueeze(0))\n",
    "img.unsqueeze(0).shape, out.shape"
   ]
  },
  {
   "cell_type": "code",
   "execution_count": 62,
   "id": "a57edb76-2ad2-47df-b6db-8e9a5bfb5317",
   "metadata": {},
   "outputs": [
    {
     "data": {
      "image/png": "[encoded data removed]",
      "text/plain": [
       "<Figure size 432x288 with 1 Axes>"
      ]
     },
     "metadata": {
      "needs_background": "light"
     },
     "output_type": "display_data"
    }
   ],
   "source": [
    "plt.imshow(out[0,0].detach(), cmap='gray')\n",
    "plt.show()"
   ]
  },
  {
   "cell_type": "code",
   "execution_count": 63,
   "id": "766fc2f2-02b1-4952-b1da-979d89a84a53",
   "metadata": {},
   "outputs": [
    {
     "data": {
      "text/plain": [
       "(torch.Size([1, 3, 32, 32]), torch.Size([1, 1, 32, 32]))"
      ]
     },
     "execution_count": 63,
     "metadata": {},
     "output_type": "execute_result"
    }
   ],
   "source": [
    "conv = nn.Conv2d(3, 1, kernel_size=3, padding=1)\n",
    "out = conv(img.unsqueeze(0))\n",
    "img.unsqueeze(0).shape, out.shape"
   ]
  },
  {
   "cell_type": "code",
   "execution_count": 64,
   "id": "cd70cd78-eda7-4c7c-9b72-5318b5c12d2c",
   "metadata": {},
   "outputs": [],
   "source": [
    "conv = nn.Conv2d(3, 1, kernel_size=3, padding=1)\n",
    "\n",
    "with torch.no_grad():\n",
    "    conv.bias.zero_()\n",
    "    conv.weight.fill_(1.0 / 9.0)"
   ]
  },
  {
   "cell_type": "code",
   "execution_count": 65,
   "id": "f69758b8-e328-4be1-b989-4065116de625",
   "metadata": {},
   "outputs": [
    {
     "data": {
      "image/png": "[encoded data removed]",
      "text/plain": [
       "<Figure size 432x288 with 1 Axes>"
      ]
     },
     "metadata": {
      "needs_background": "light"
     },
     "output_type": "display_data"
    }
   ],
   "source": [
    "out = conv(img.unsqueeze(0))\n",
    "plt.imshow(out[0,0].detach(), cmap='gray')\n",
    "plt.show()"
   ]
  },
  {
   "cell_type": "code",
   "execution_count": 66,
   "id": "993eb0e9-e5b5-4e85-be59-57d99e48fc6e",
   "metadata": {},
   "outputs": [],
   "source": [
    "conv = nn.Conv2d(3, 1, kernel_size=3, padding=1)\n",
    "with torch.no_grad():\n",
    "    conv.weight[:] = torch.tensor([[-1.0, 0.0, 1.0],\n",
    "                                  [-1.0, 0.0, 1.0],\n",
    "                                  [-1.0, 0.0, 1.0]])\n",
    "    conv.bias.zero_()"
   ]
  },
  {
   "cell_type": "code",
   "execution_count": 67,
   "id": "1f0b152f-d7e3-4cc1-8466-1b7b48dedea2",
   "metadata": {},
   "outputs": [
    {
     "data": {
      "image/png": "[encoded data removed]",
      "text/plain": [
       "<Figure size 432x288 with 1 Axes>"
      ]
     },
     "metadata": {
      "needs_background": "light"
     },
     "output_type": "display_data"
    }
   ],
   "source": [
    "out = conv(img.unsqueeze(0))\n",
    "plt.imshow(out[0,0].detach(), cmap='gray')\n",
    "plt.show()"
   ]
  },
  {
   "cell_type": "code",
   "execution_count": 68,
   "id": "7d404ce4-f519-4a8a-8dcc-0611486da043",
   "metadata": {},
   "outputs": [
    {
     "data": {
      "text/plain": [
       "(torch.Size([1, 3, 32, 32]), torch.Size([1, 3, 16, 16]))"
      ]
     },
     "execution_count": 68,
     "metadata": {},
     "output_type": "execute_result"
    }
   ],
   "source": [
    "pool = nn.MaxPool2d(2)\n",
    "out = pool(img.unsqueeze(0))\n",
    "img.unsqueeze(0).shape, out.shape"
   ]
  },
  {
   "cell_type": "code",
   "execution_count": 69,
   "id": "496495db-4576-4a0f-9e69-b82c5df2b6e8",
   "metadata": {},
   "outputs": [],
   "source": [
    "ch_in = 3\n",
    "ch_hid = 16\n",
    "ch_out = 8\n",
    "\n",
    "model = nn.Sequential(\n",
    "    nn.Conv2d(ch_in, ch_hid, kernel_size=3, padding=1),\n",
    "    nn.Tanh(),\n",
    "    nn.MaxPool2d(2),\n",
    "    nn.Conv2d(ch_hid, ch_out, kernel_size=3, padding=1),\n",
    "    nn.Tanh(),\n",
    "    nn.MaxPool2d(2),\n",
    "    nn.Linear(ch_out * 8**2, 32),\n",
    "    nn.Tanh(),\n",
    "    nn.Linear(32, 2)\n",
    ")"
   ]
  },
  {
   "cell_type": "code",
   "execution_count": 70,
   "id": "c399cc42-706e-4274-a7ce-6b591f722c99",
   "metadata": {},
   "outputs": [
    {
     "data": {
      "text/plain": [
       "(18090, [432, 16, 1152, 8, 16384, 32, 64, 2])"
      ]
     },
     "execution_count": 70,
     "metadata": {},
     "output_type": "execute_result"
    }
   ],
   "source": [
    "numel_list = [p.numel() for p in model.parameters()]\n",
    "sum(numel_list), numel_list"
   ]
  },
  {
   "cell_type": "code",
   "execution_count": 71,
   "id": "5063bba1-9191-41f6-b63f-570515b3bca4",
   "metadata": {},
   "outputs": [],
   "source": [
    "class Net(nn.Module):\n",
    "    def __init__(self):\n",
    "        super().__init__()\n",
    "        \n",
    "        ch_in = 3\n",
    "        ch_hid = 16\n",
    "        ch_out = 8\n",
    "        kernel_size = 3\n",
    "        padding = 1\n",
    "        pool_size = 2\n",
    "        \n",
    "        self.conv1 = nn.Conv2d(ch_in, ch_hid, kernel_size, padding)\n",
    "        self.act1 = nn.Tanh()\n",
    "        self.pool1 = nn.MaxPool2d(pool_size)\n",
    "        self.conv2 = nn.Conv2d(ch_hid, ch_out, kernel_size, padding)\n",
    "        self.act2 = nn.Tanh()\n",
    "        self.pool2 = nn.MaxPool2d(pool_size)\n",
    "        self.fc1 = nn.Linear(ch_out * 8**2, 32)\n",
    "        self.act3 = nn.Tanh()\n",
    "        self.fc2 = nn.Linear(32, 2)\n",
    "        \n",
    "    def forward(self, x):\n",
    "        out = self.pool1(self.act1(self.conv1(x)))\n",
    "        out = self.pool2(self.act2(self.conv2(out)))\n",
    "        out = out.view(-1, 8 * 8**2)\n",
    "        out = self.act3(self.fc1(out))\n",
    "        out = self.fc2(out)\n",
    "        return out"
   ]
  },
  {
   "cell_type": "code",
   "execution_count": 72,
   "id": "9d7804c7-19ab-465c-86ad-fc23e7deade0",
   "metadata": {},
   "outputs": [
    {
     "data": {
      "text/plain": [
       "(18090, [432, 16, 1152, 8, 16384, 32, 64, 2])"
      ]
     },
     "execution_count": 72,
     "metadata": {},
     "output_type": "execute_result"
    }
   ],
   "source": [
    "model = Net()\n",
    "numel_list = [p.numel() for p in model.parameters()]\n",
    "sum(numel_list), numel_list"
   ]
  },
  {
   "cell_type": "code",
   "execution_count": 73,
   "id": "5bbdf3bb-dc24-4e68-999d-ead4b11d41fb",
   "metadata": {},
   "outputs": [],
   "source": [
    "class Net(nn.Module):\n",
    "    def __init__(self):\n",
    "        super().__init__()\n",
    "        \n",
    "        ch_in = 3\n",
    "        ch_hid = 16\n",
    "        ch_out = 8\n",
    "        kernel_size = 3\n",
    "        padding = 1\n",
    "        pool_size = 2\n",
    "        \n",
    "        self.conv1 = nn.Conv2d(ch_in, ch_hid, kernel_size=kernel_size, padding=padding)\n",
    "        self.conv2 = nn.Conv2d(ch_hid, ch_out, kernel_size=kernel_size, padding=padding)\n",
    "        self.fc1 = nn.Linear(ch_out * 8**2, 32)\n",
    "        self.fc2 = nn.Linear(32, 2)\n",
    "    \n",
    "    def forward(self, x):\n",
    "        out = F.max_pool2d(torch.tanh(self.conv1(x)), 2)\n",
    "        out = F.max_pool2d(torch.tanh(self.conv2(out)), 2)\n",
    "        out = out.view(-1, ch_out * 8**2)\n",
    "        out = torch.tanh(self.fc1(out))\n",
    "        out = self.fc2(out)\n",
    "        return out"
   ]
  },
  {
   "cell_type": "code",
   "execution_count": 74,
   "id": "f90d3e08-fcc1-4780-92f6-006f1bce4546",
   "metadata": {},
   "outputs": [
    {
     "data": {
      "text/plain": [
       "tensor([[-0.0569, -0.1048]], grad_fn=<AddmmBackward0>)"
      ]
     },
     "execution_count": 74,
     "metadata": {},
     "output_type": "execute_result"
    }
   ],
   "source": [
    "model = Net()\n",
    "model(img.unsqueeze(0))"
   ]
  },
  {
   "cell_type": "code",
   "execution_count": 77,
   "id": "578daab2-b2ff-4f7d-8d27-0c238c5ff10c",
   "metadata": {},
   "outputs": [],
   "source": [
    "def training_loop(n_epochs, optimizer, model, loss_fn, train_loader):\n",
    "    for epoch in range(1, n_epochs + 1):\n",
    "        loss_train = 0.0\n",
    "        for imgs, labels in train_loader:\n",
    "            outs = model(imgs)\n",
    "            loss = loss_fn(outs, labels)\n",
    "            \n",
    "            optimizer.zero_grad()\n",
    "            loss.backward()\n",
    "            optimizer.step()\n",
    "            \n",
    "            loss_train += loss.item()\n",
    "        \n",
    "        if epoch < 3 or epoch % 10 == 0:\n",
    "            print(f'{dt.datetime.now()} | Epoch: {epoch}, Train Loss: {loss_train / len(train_loader)}')"
   ]
  },
  {
   "cell_type": "code",
   "execution_count": 412,
   "id": "545cf1e6-e497-48ba-a593-6496af9789ee",
   "metadata": {},
   "outputs": [
    {
     "name": "stdout",
     "output_type": "stream",
     "text": [
      "2022-07-14 03:19:16.189809 | Epoch: 1, Train Loss: 0.6861372703959228\n",
      "2022-07-14 03:19:17.542952 | Epoch: 2, Train Loss: 0.6603196847970318\n",
      "2022-07-14 03:19:28.541747 | Epoch: 10, Train Loss: 0.4441832072415929\n",
      "2022-07-14 03:19:42.055047 | Epoch: 20, Train Loss: 0.3472924507727289\n",
      "2022-07-14 03:19:55.625593 | Epoch: 30, Train Loss: 0.323551009794709\n",
      "2022-07-14 03:20:09.157643 | Epoch: 40, Train Loss: 0.30863043219800207\n",
      "2022-07-14 03:20:22.714602 | Epoch: 50, Train Loss: 0.2963359546699342\n",
      "2022-07-14 03:20:36.245549 | Epoch: 60, Train Loss: 0.28543475934654283\n",
      "2022-07-14 03:20:49.817806 | Epoch: 70, Train Loss: 0.2704909002040602\n",
      "2022-07-14 03:21:03.398350 | Epoch: 80, Train Loss: 0.2579610018403667\n",
      "2022-07-14 03:21:16.927399 | Epoch: 90, Train Loss: 0.24478637384381263\n",
      "2022-07-14 03:21:30.482246 | Epoch: 100, Train Loss: 0.23273821478816353\n",
      "2022-07-14 03:21:44.013853 | Epoch: 110, Train Loss: 0.2197853080026663\n",
      "2022-07-14 03:21:57.555125 | Epoch: 120, Train Loss: 0.21174285902529005\n",
      "2022-07-14 03:22:11.128278 | Epoch: 130, Train Loss: 0.20070988960137034\n",
      "2022-07-14 03:22:24.709596 | Epoch: 140, Train Loss: 0.18906660890503293\n",
      "2022-07-14 03:22:38.247490 | Epoch: 150, Train Loss: 0.17924295873588816\n",
      "2022-07-14 03:22:51.772219 | Epoch: 160, Train Loss: 0.16821286699194818\n",
      "2022-07-14 03:23:05.329323 | Epoch: 170, Train Loss: 0.15763650573552793\n",
      "2022-07-14 03:23:18.883278 | Epoch: 180, Train Loss: 0.14949676543948756\n",
      "2022-07-14 03:23:32.405790 | Epoch: 190, Train Loss: 0.1396155483356327\n",
      "2022-07-14 03:23:45.944688 | Epoch: 200, Train Loss: 0.1297181613838217\n"
     ]
    }
   ],
   "source": [
    "batch_size = 64\n",
    "n_epochs = 200\n",
    "lr = 1e-2\n",
    "\n",
    "train_loader = torch.utils.data.DataLoader(cifar2, batch_size=batch_size, shuffle=True)\n",
    "\n",
    "model = Net()\n",
    "optimizer = optim.SGD(model.parameters(), lr=lr)\n",
    "loss_fn = nn.CrossEntropyLoss()\n",
    "\n",
    "training_loop(n_epochs, optimizer, model, loss_fn, train_loader)"
   ]
  },
  {
   "cell_type": "code",
   "execution_count": 415,
   "id": "86af250f-ceb8-4c3d-99ae-841dd76d1962",
   "metadata": {},
   "outputs": [
    {
     "name": "stdout",
     "output_type": "stream",
     "text": [
      "train Accuracy: 0.95\n",
      "valid Accuracy: 0.89\n"
     ]
    }
   ],
   "source": [
    "train_loader = torch.utils.data.DataLoader(cifar2, batch_size=batch_size, shuffle=True)\n",
    "val_loader = torch.utils.data.DataLoader(cifar2_val, batch_size=batch_size, shuffle=False)\n",
    "\n",
    "def validate(model, train_loader, val_loader):\n",
    "    for name, loader in [('train', train_loader), ('valid', val_loader)]:\n",
    "        correct = 0\n",
    "        total = 0\n",
    "        \n",
    "        with torch.no_grad():\n",
    "            for imgs, labels in loader:\n",
    "                outs = model(imgs)\n",
    "                _, predicted = torch.max(outs, dim=1)\n",
    "                \n",
    "                total += labels.shape[0]\n",
    "                correct += int((predicted == labels).sum())\n",
    "            print(f'{name} Accuracy: {correct / total :.2f}')\n",
    "\n",
    "validate(model, train_loader, val_loader)"
   ]
  },
  {
   "cell_type": "code",
   "execution_count": 416,
   "id": "263a76e6-bc72-47c7-9c48-2e547b455f53",
   "metadata": {},
   "outputs": [],
   "source": [
    "torch.save(model.state_dict(), data_path + 'birds_vs_airplanes.pt')"
   ]
  },
  {
   "cell_type": "code",
   "execution_count": 417,
   "id": "418673fc-930d-4ca5-a454-5416bafbca23",
   "metadata": {},
   "outputs": [
    {
     "data": {
      "text/plain": [
       "<All keys matched successfully>"
      ]
     },
     "execution_count": 417,
     "metadata": {},
     "output_type": "execute_result"
    }
   ],
   "source": [
    "loaded_model = Net()\n",
    "loaded_model.load_state_dict(torch.load(data_path + 'birds_vs_airplanes.pt'))"
   ]
  },
  {
   "cell_type": "code",
   "execution_count": 78,
   "id": "02cf1ba6-8d77-4930-9abb-588b3656d0b3",
   "metadata": {},
   "outputs": [
    {
     "name": "stdout",
     "output_type": "stream",
     "text": [
      "Training on device cuda\n"
     ]
    }
   ],
   "source": [
    "device = torch.device('cuda' if torch.cuda.is_available() else 'cpu')\n",
    "print(f'Training on device {device}')"
   ]
  },
  {
   "cell_type": "code",
   "execution_count": 129,
   "id": "4b037b11-2784-499c-9db5-c5eb9e648eca",
   "metadata": {},
   "outputs": [],
   "source": [
    "def training_loop(n_epochs, optimizer, model, loss_fn, train_loader):\n",
    "    model.train()\n",
    "    \n",
    "    for epoch in range(1, n_epochs + 1):\n",
    "        loss_train = 0.0\n",
    "        for imgs, labels in train_loader:\n",
    "            imgs = imgs.to(device=device)\n",
    "            labels = labels.to(device=device)\n",
    "            outs = model(imgs)\n",
    "            loss = loss_fn(outs, labels)\n",
    "            \n",
    "            optimizer.zero_grad()\n",
    "            loss.backward()\n",
    "            optimizer.step()\n",
    "            \n",
    "            loss_train += loss.item()\n",
    "        \n",
    "        if epoch < 3 or epoch % 10 == 0:\n",
    "            print(f'{dt.datetime.now()} | Epoch: {epoch}, Train Loss: {loss_train / len(train_loader)}')\n",
    "            \n",
    "\n",
    "def validate(model, train_loader, val_loader):\n",
    "    model.eval()\n",
    "    \n",
    "    for name, loader in [('train', train_loader), ('valid', val_loader)]:\n",
    "        correct = 0\n",
    "        total = 0\n",
    "        \n",
    "        with torch.no_grad():\n",
    "            for imgs, labels in loader:\n",
    "                imgs = imgs.to(device=device)\n",
    "                labels = labels.to(device=device)\n",
    "                outs = model(imgs)\n",
    "                _, predicted = torch.max(outs, dim=1)\n",
    "                \n",
    "                total += labels.shape[0]\n",
    "                correct += int((predicted == labels).sum())\n",
    "            print(f'{name} Accuracy: {correct / total :.2f}')        "
   ]
  },
  {
   "cell_type": "code",
   "execution_count": 80,
   "id": "fc6e2199-5317-4191-8a35-11cb275a77e5",
   "metadata": {},
   "outputs": [
    {
     "name": "stdout",
     "output_type": "stream",
     "text": [
      "2022-07-14 03:41:54.937987 | Epoch: 1, Train Loss: 0.685769976703984\n",
      "2022-07-14 03:41:55.331041 | Epoch: 2, Train Loss: 0.6405917690817717\n",
      "2022-07-14 03:41:58.451795 | Epoch: 10, Train Loss: 0.4372377837919126\n",
      "2022-07-14 03:42:02.351214 | Epoch: 20, Train Loss: 0.3541004761199283\n",
      "2022-07-14 03:42:06.260218 | Epoch: 30, Train Loss: 0.3272334884875899\n",
      "2022-07-14 03:42:10.158135 | Epoch: 40, Train Loss: 0.30322364428240783\n",
      "2022-07-14 03:42:14.069226 | Epoch: 50, Train Loss: 0.285683736869484\n",
      "2022-07-14 03:42:17.981563 | Epoch: 60, Train Loss: 0.2711274925690548\n",
      "2022-07-14 03:42:21.876900 | Epoch: 70, Train Loss: 0.25407145912670026\n",
      "2022-07-14 03:42:25.762915 | Epoch: 80, Train Loss: 0.23961100995445708\n",
      "2022-07-14 03:42:29.665468 | Epoch: 90, Train Loss: 0.2295690125245957\n",
      "2022-07-14 03:42:33.564936 | Epoch: 100, Train Loss: 0.21772119559489997\n",
      "2022-07-14 03:42:37.465410 | Epoch: 110, Train Loss: 0.20665568697034933\n",
      "2022-07-14 03:42:41.363959 | Epoch: 120, Train Loss: 0.195251113337696\n",
      "2022-07-14 03:42:45.261705 | Epoch: 130, Train Loss: 0.1844654049320965\n",
      "2022-07-14 03:42:49.157625 | Epoch: 140, Train Loss: 0.17638642687326783\n",
      "2022-07-14 03:42:52.994829 | Epoch: 150, Train Loss: 0.16857058061346128\n",
      "2022-07-14 03:42:56.890226 | Epoch: 160, Train Loss: 0.15761949624984886\n",
      "2022-07-14 03:43:00.788044 | Epoch: 170, Train Loss: 0.14875649708281657\n",
      "2022-07-14 03:43:04.685932 | Epoch: 180, Train Loss: 0.1391183591335063\n",
      "2022-07-14 03:43:08.591364 | Epoch: 190, Train Loss: 0.13100472258724224\n",
      "2022-07-14 03:43:12.499063 | Epoch: 200, Train Loss: 0.12191387861492528\n"
     ]
    }
   ],
   "source": [
    "batch_size = 64\n",
    "n_epochs = 200\n",
    "lr = 1e-2\n",
    "\n",
    "train_loader = torch.utils.data.DataLoader(cifar2, batch_size=batch_size, shuffle=True)\n",
    "\n",
    "model = Net().to(device=device)\n",
    "optimizer = optim.SGD(model.parameters(), lr=lr)\n",
    "loss_fn = nn.CrossEntropyLoss()\n",
    "\n",
    "training_loop(n_epochs, optimizer, model, loss_fn, train_loader)"
   ]
  },
  {
   "cell_type": "code",
   "execution_count": 87,
   "id": "c2478751-af99-4680-915a-a90a7e175576",
   "metadata": {},
   "outputs": [],
   "source": [
    "class NetWidth(nn.Module):\n",
    "    def __init__(self, n_ch1=32, kernel_size=3, padding=1, pool_size=2):\n",
    "        super().__init__()\n",
    "        self.n_ch1 = n_ch1\n",
    "        self.pool_size = pool_size\n",
    "        \n",
    "        self.conv1 = nn.Conv2d(3, n_ch1, kernel_size=kernel_size, padding=padding)\n",
    "        self.conv2 = nn.Conv2d(n_ch1, n_ch1 // 2, kernel_size=kernel_size, padding=padding)\n",
    "        self.fc1 = nn.Linear((n_ch1 // 2) * 8**2, 32)\n",
    "        self.fc2 = nn.Linear(32, 2)\n",
    "    \n",
    "    def forward(self, x):\n",
    "        out = F.max_pool2d(torch.tanh(self.conv1(x)), self.pool_size)\n",
    "        out = F.max_pool2d(torch.tanh(self.conv2(out)), self.pool_size)\n",
    "        out = out.view(-1, (self.n_ch1 // 2) * 8**2)\n",
    "        out = torch.tanh(self.fc1(out))\n",
    "        out = self.fc2(out)\n",
    "        return out"
   ]
  },
  {
   "cell_type": "code",
   "execution_count": 88,
   "id": "1fde8b48-2c95-4975-aee4-a9dd8a1e5f0c",
   "metadata": {},
   "outputs": [
    {
     "data": {
      "text/plain": [
       "38386"
      ]
     },
     "execution_count": 88,
     "metadata": {},
     "output_type": "execute_result"
    }
   ],
   "source": [
    "sum(p.numel() for p in NetWidth().parameters())"
   ]
  },
  {
   "cell_type": "code",
   "execution_count": 89,
   "id": "d9ea3dff-fbb2-4579-860b-28cc80cfd410",
   "metadata": {},
   "outputs": [],
   "source": [
    "class NetDropout(nn.Module):\n",
    "    def __init__(self, n_ch1=32):\n",
    "        super().__init__()\n",
    "        \n",
    "        self.n_ch1 = n_ch1\n",
    "        \n",
    "        self.conv1 = nn.Conv2d(3, n_ch1, kernel_size=3, padding=1)\n",
    "        self.conv1_dropout = nn.Dropout2d(p=0.4)\n",
    "        self.conv2 = nn.Conv2d(n_ch1, n_ch1 // 2, kernel_size=3, padding=1)\n",
    "        self.conv2_dropout = nn.Dropout2d(p=0.4)\n",
    "        self.fc1 = nn.Linear((n_ch1 // 2) * 8 * 8, 32)\n",
    "        self.fc2 = nn.Linear(32, 2)\n",
    "        \n",
    "    def forward(self, x):\n",
    "        out = F.max_pool2d(torch.tanh(self.conv1(x)), 2)\n",
    "        out = self.conv1_dropout(out)\n",
    "        out = F.max_pool2d(torch.tanh(self.conv2(out)), 2)\n",
    "        out = self.conv2_dropout(out)\n",
    "        out = out.view(-1, (self.n_ch1 // 2) * 8 * 8)\n",
    "        out = torch.tanh(self.fc1(out))\n",
    "        out = self.fc2(out)\n",
    "        return out"
   ]
  },
  {
   "cell_type": "code",
   "execution_count": 93,
   "id": "9b015564-73b2-49be-83ad-387c5a608b0a",
   "metadata": {},
   "outputs": [
    {
     "name": "stdout",
     "output_type": "stream",
     "text": [
      "2022-07-14 03:44:57.060500 | Epoch: 1, Train Loss: 0.6722310033573466\n",
      "2022-07-14 03:44:57.492028 | Epoch: 2, Train Loss: 0.6212449597704942\n",
      "2022-07-14 03:45:00.954179 | Epoch: 10, Train Loss: 0.4506608486934832\n",
      "2022-07-14 03:45:05.293731 | Epoch: 20, Train Loss: 0.38283310906522594\n",
      "2022-07-14 03:45:09.606781 | Epoch: 30, Train Loss: 0.36860802067313225\n",
      "2022-07-14 03:45:13.944184 | Epoch: 40, Train Loss: 0.3504598479551874\n",
      "2022-07-14 03:45:18.277701 | Epoch: 50, Train Loss: 0.3362737861788197\n",
      "2022-07-14 03:45:22.606930 | Epoch: 60, Train Loss: 0.3319413961878248\n",
      "2022-07-14 03:45:26.927329 | Epoch: 70, Train Loss: 0.3203203349736086\n",
      "2022-07-14 03:45:31.257631 | Epoch: 80, Train Loss: 0.3101654200322309\n",
      "2022-07-14 03:45:35.583179 | Epoch: 90, Train Loss: 0.2990454963058423\n",
      "2022-07-14 03:45:39.911481 | Epoch: 100, Train Loss: 0.28532609305564005\n",
      "2022-07-14 03:45:44.237610 | Epoch: 110, Train Loss: 0.2861496737808179\n",
      "2022-07-14 03:45:48.571965 | Epoch: 120, Train Loss: 0.272547483349302\n",
      "2022-07-14 03:45:52.812477 | Epoch: 130, Train Loss: 0.2679724211620677\n",
      "2022-07-14 03:45:57.073810 | Epoch: 140, Train Loss: 0.2580894043396233\n",
      "2022-07-14 03:46:01.396626 | Epoch: 150, Train Loss: 0.25053922148646823\n",
      "2022-07-14 03:46:05.721523 | Epoch: 160, Train Loss: 0.24409161840274834\n",
      "2022-07-14 03:46:10.047503 | Epoch: 170, Train Loss: 0.23850612233209004\n",
      "2022-07-14 03:46:14.377580 | Epoch: 180, Train Loss: 0.23371909169634436\n",
      "2022-07-14 03:46:18.704828 | Epoch: 190, Train Loss: 0.22366851962106243\n",
      "2022-07-14 03:46:23.036275 | Epoch: 200, Train Loss: 0.2169056436058822\n"
     ]
    }
   ],
   "source": [
    "batch_size = 64\n",
    "n_epochs = 200\n",
    "lr = 1e-2\n",
    "\n",
    "train_loader = torch.utils.data.DataLoader(cifar2, batch_size=batch_size, shuffle=True)\n",
    "\n",
    "model = NetDropout().to(device=device)\n",
    "optimizer = optim.SGD(model.parameters(), lr=lr)\n",
    "loss_fn = nn.CrossEntropyLoss()\n",
    "\n",
    "training_loop(n_epochs, optimizer, model, loss_fn, train_loader)"
   ]
  },
  {
   "cell_type": "code",
   "execution_count": 95,
   "id": "e7a09643-f1be-40b1-93c7-30d2a97c8f0c",
   "metadata": {},
   "outputs": [
    {
     "name": "stdout",
     "output_type": "stream",
     "text": [
      "train Accuracy: 0.93\n",
      "valid Accuracy: 0.89\n"
     ]
    }
   ],
   "source": [
    "train_loader = torch.utils.data.DataLoader(cifar2, batch_size=64, shuffle=True)\n",
    "val_loader = torch.utils.data.DataLoader(cifar2_val, batch_size=64, shuffle=False)\n",
    "\n",
    "validate(model, train_loader, val_loader)"
   ]
  },
  {
   "cell_type": "code",
   "execution_count": 96,
   "id": "aceab787-ff1b-42e1-968b-66fa2fe11745",
   "metadata": {},
   "outputs": [],
   "source": [
    "class NetBatchNorm(nn.Module):\n",
    "    def __init__(self, n_ch1=32):\n",
    "        super().__init__()\n",
    "        \n",
    "        self.n_ch1 = n_ch1\n",
    "        \n",
    "        self.conv1 = nn.Conv2d(3, n_ch1, kernel_size=3, padding=1)\n",
    "        self.conv1_batchnorm = nn.BatchNorm2d(num_features=n_ch1)\n",
    "        self.conv2 = nn.Conv2d(n_ch1, n_ch1 // 2, kernel_size=3, padding=1)\n",
    "        self.conv2_batchnorm = nn.BatchNorm2d(num_features=n_ch1//2)\n",
    "        self.fc1 = nn.Linear((n_ch1 // 2) * 8 * 8, 32)\n",
    "        self.fc2 = nn.Linear(32, 2)\n",
    "        \n",
    "    def forward(self, x):\n",
    "        out = self.conv1_batchnorm(self.conv1(x))\n",
    "        out = F.max_pool2d(torch.tanh(out), 2)\n",
    "        out = self.conv2_batchnorm(self.conv2(out))\n",
    "        out = F.max_pool2d(torch.tanh(out), 2)\n",
    "        out = out.view(-1, (self.n_ch1 // 2) * 8 * 8)\n",
    "        out = torch.tanh(self.fc1(out))\n",
    "        out = self.fc2(out)\n",
    "        return out"
   ]
  },
  {
   "cell_type": "code",
   "execution_count": 97,
   "id": "60754703-ebc9-4785-b420-8d4e23e43e7f",
   "metadata": {},
   "outputs": [
    {
     "name": "stdout",
     "output_type": "stream",
     "text": [
      "2022-07-14 03:46:48.906676 | Epoch: 1, Train Loss: 0.4688305393525749\n",
      "2022-07-14 03:46:49.375932 | Epoch: 2, Train Loss: 0.37431236759872194\n",
      "2022-07-14 03:46:53.122117 | Epoch: 10, Train Loss: 0.27368397801924665\n",
      "2022-07-14 03:46:57.802992 | Epoch: 20, Train Loss: 0.2094624979765552\n",
      "2022-07-14 03:47:02.474566 | Epoch: 30, Train Loss: 0.1698171367311174\n",
      "2022-07-14 03:47:07.150920 | Epoch: 40, Train Loss: 0.13831378951384005\n",
      "2022-07-14 03:47:11.825090 | Epoch: 50, Train Loss: 0.10662869416224728\n",
      "2022-07-14 03:47:16.497556 | Epoch: 60, Train Loss: 0.07975865790181479\n",
      "2022-07-14 03:47:21.168524 | Epoch: 70, Train Loss: 0.056791771084639675\n",
      "2022-07-14 03:47:25.839792 | Epoch: 80, Train Loss: 0.0409992220722566\n",
      "2022-07-14 03:47:30.516061 | Epoch: 90, Train Loss: 0.02926537425073374\n",
      "2022-07-14 03:47:35.200313 | Epoch: 100, Train Loss: 0.01961823318088368\n",
      "2022-07-14 03:47:39.884006 | Epoch: 110, Train Loss: 0.012361477197379253\n",
      "2022-07-14 03:47:44.554473 | Epoch: 120, Train Loss: 0.009657019394105834\n",
      "2022-07-14 03:47:49.234958 | Epoch: 130, Train Loss: 0.009304178662888801\n",
      "2022-07-14 03:47:53.916674 | Epoch: 140, Train Loss: 0.017168414634785904\n",
      "2022-07-14 03:47:58.587761 | Epoch: 150, Train Loss: 0.00563834282083164\n",
      "2022-07-14 03:48:03.258983 | Epoch: 160, Train Loss: 0.004147050813638315\n",
      "2022-07-14 03:48:07.928818 | Epoch: 170, Train Loss: 0.0026758839320658355\n",
      "2022-07-14 03:48:12.599929 | Epoch: 180, Train Loss: 0.003485650128156991\n",
      "2022-07-14 03:48:17.269570 | Epoch: 190, Train Loss: 0.004353685952221773\n",
      "2022-07-14 03:48:21.940225 | Epoch: 200, Train Loss: 0.001862514863245984\n"
     ]
    }
   ],
   "source": [
    "batch_size = 64\n",
    "n_epochs = 200\n",
    "lr = 1e-2\n",
    "\n",
    "train_loader = torch.utils.data.DataLoader(cifar2, batch_size=batch_size, shuffle=True)\n",
    "\n",
    "model = NetBatchNorm().to(device=device)\n",
    "optimizer = optim.SGD(model.parameters(), lr=lr)\n",
    "loss_fn = nn.CrossEntropyLoss()\n",
    "\n",
    "training_loop(n_epochs, optimizer, model, loss_fn, train_loader)"
   ]
  },
  {
   "cell_type": "code",
   "execution_count": 98,
   "id": "c0464fe6-9df7-4e53-9ec6-8bc3aa8fa084",
   "metadata": {},
   "outputs": [
    {
     "name": "stdout",
     "output_type": "stream",
     "text": [
      "train Accuracy: 1.00\n",
      "valid Accuracy: 0.89\n"
     ]
    }
   ],
   "source": [
    "train_loader = torch.utils.data.DataLoader(cifar2, batch_size=64, shuffle=True)\n",
    "val_loader = torch.utils.data.DataLoader(cifar2_val, batch_size=64, shuffle=False)\n",
    "\n",
    "validate(model, train_loader, val_loader)"
   ]
  },
  {
   "cell_type": "code",
   "execution_count": 99,
   "id": "680a53cf-0101-41e6-8286-bc7b96abab67",
   "metadata": {},
   "outputs": [],
   "source": [
    "class NetDepth(nn.Module):\n",
    "    def __init__(self, n_ch1=32):\n",
    "        super().__init__()\n",
    "        self.n_ch1 = n_ch1\n",
    "        \n",
    "        self.conv1 = nn.Conv2d(3, n_ch1, kernel_size=3, padding=1)\n",
    "        self.conv2 = nn.Conv2d(n_ch1, n_ch1 // 2, kernel_size=3, padding=1)\n",
    "        self.conv3 = nn.Conv2d(n_ch1 // 2, n_ch1 // 2, kernel_size=3, padding=1)\n",
    "        self.fc1 = nn.Linear((n_ch1 // 2) * 4 * 4, 32)\n",
    "        self.fc2 = nn.Linear(32, 2)\n",
    "        \n",
    "    def forward(self, x):\n",
    "        out = F.max_pool2d(torch.relu(self.conv1(x)), 2)\n",
    "        out = F.max_pool2d(torch.relu(self.conv2(out)), 2)\n",
    "        out = F.max_pool2d(torch.relu(self.conv3(out)), 2)\n",
    "        out = out.view(-1, (self.n_ch1 // 2) * 4 * 4)\n",
    "        out = torch.relu(self.fc1(out))\n",
    "        out = self.fc2(out)\n",
    "        return out\n",
    "\n",
    "    \n",
    "class NetRes(nn.Module):\n",
    "    def __init__(self, n_ch1=32):\n",
    "        super().__init__()\n",
    "        self.n_ch1 = n_ch1\n",
    "        \n",
    "        self.conv1 = nn.Conv2d(3, n_ch1, kernel_size=3, padding=1)\n",
    "        self.conv2 = nn.Conv2d(n_ch1, n_ch1 // 2, kernel_size=3, padding=1)\n",
    "        self.conv3 = nn.Conv2d(n_ch1 // 2, n_ch1 // 2, kernel_size=3, padding=1)\n",
    "        self.fc1 = nn.Linear((n_ch1 // 2) * 4 * 4, 32)\n",
    "        self.fc2 = nn.Linear(32, 2)\n",
    "        \n",
    "    def forward(self, x):\n",
    "        out = F.max_pool2d(torch.relu(self.conv1(x)), 2)\n",
    "        out = F.max_pool2d(torch.relu(self.conv2(out)), 2)\n",
    "        out1 = out\n",
    "        out = F.max_pool2d(torch.relu(self.conv3(out) + out1), 2)\n",
    "        out = out.view(-1, (self.n_ch1 // 2) * 4 * 4)\n",
    "        out = torch.relu(self.fc1(out))\n",
    "        out = self.fc2(out)\n",
    "        return out"
   ]
  },
  {
   "cell_type": "code",
   "execution_count": 103,
   "id": "bb881cbc-cfd8-4fb0-ac7f-92eb0f5f6149",
   "metadata": {},
   "outputs": [],
   "source": [
    "class ResBlock(nn.Module):\n",
    "    def __init__(self, n_ch):\n",
    "        super().__init__()\n",
    "        self.n_ch = n_ch\n",
    "        \n",
    "        self.conv = nn.Conv2d(n_ch, n_ch, kernel_size=3, padding=1, bias=False)\n",
    "        self.batch_norm = nn.BatchNorm2d(num_features=n_ch)\n",
    "        torch.nn.init.kaiming_normal_(self.conv.weight, nonlinearity='relu')\n",
    "        torch.nn.init.constant_(self.batch_norm.weight, 0.5)\n",
    "        torch.nn.init.zeros_(self.batch_norm.bias)\n",
    "        \n",
    "    def forward(self, x):\n",
    "        out = self.conv(x)\n",
    "        out = self.batch_norm(out)\n",
    "        out = torch.relu(out)\n",
    "        out = out + x\n",
    "        return out"
   ]
  },
  {
   "cell_type": "code",
   "execution_count": 104,
   "id": "00ac8cac-874d-4dd2-a5bd-69a21114dfa3",
   "metadata": {},
   "outputs": [],
   "source": [
    "class NetResDeep(nn.Module):\n",
    "    def __init__(self, n_ch1=32, n_blocks=10):\n",
    "        super().__init__()\n",
    "        self.n_ch1 = n_ch1\n",
    "        \n",
    "        self.conv1 = nn.Conv2d(3, n_ch1, kernel_size=3, padding=1)\n",
    "        self.resblocks = nn.Sequential(\n",
    "            *(n_blocks * [ResBlock(n_ch=n_ch1)])\n",
    "        )\n",
    "        self.fc1 = nn.Linear(n_ch1 * 8 * 8, 32)\n",
    "        self.fc2 = nn.Linear(32, 2)\n",
    "        \n",
    "    def forward(self, x):\n",
    "        out = F.max_pool2d(torch.relu(self.conv1(x)), 2)\n",
    "        out = self.resblocks(out)\n",
    "        out = F.max_pool2d(out, 2)\n",
    "        out = out.view(-1, self.n_ch1 * 8 * 8)\n",
    "        out = torch.relu(self.fc1(out))\n",
    "        out = self.fc2(out)\n",
    "        return out"
   ]
  },
  {
   "cell_type": "code",
   "execution_count": 109,
   "id": "33b0f6db-a9c8-42b3-9c2e-2f4a8e8629a7",
   "metadata": {},
   "outputs": [
    {
     "name": "stdout",
     "output_type": "stream",
     "text": [
      "2022-07-14 03:55:26.984707 | Epoch: 1, Train Loss: 0.5232451812476869\n",
      "2022-07-14 03:55:28.342998 | Epoch: 2, Train Loss: 0.38009854619670064\n",
      "2022-07-14 03:55:39.214583 | Epoch: 10, Train Loss: 0.2375560426598142\n",
      "2022-07-14 03:55:52.818414 | Epoch: 20, Train Loss: 0.14325988755389385\n",
      "2022-07-14 03:56:06.414016 | Epoch: 30, Train Loss: 0.09931084406888409\n",
      "2022-07-14 03:56:20.032778 | Epoch: 40, Train Loss: 0.06635633027581439\n",
      "2022-07-14 03:56:33.694965 | Epoch: 50, Train Loss: 0.09001231545198317\n",
      "2022-07-14 03:56:47.406187 | Epoch: 60, Train Loss: 0.024398488001482692\n",
      "2022-07-14 03:57:01.134411 | Epoch: 70, Train Loss: 0.20692708420865297\n",
      "2022-07-14 03:57:14.885281 | Epoch: 80, Train Loss: 0.03794514928546965\n",
      "2022-07-14 03:57:28.642197 | Epoch: 90, Train Loss: 0.02301645623356887\n",
      "2022-07-14 03:57:42.613260 | Epoch: 100, Train Loss: 0.007643845543683548\n"
     ]
    }
   ],
   "source": [
    "batch_size = 64\n",
    "n_epochs = 100\n",
    "lr = 1e-2\n",
    "\n",
    "train_loader = torch.utils.data.DataLoader(cifar2, batch_size=batch_size, shuffle=True)\n",
    "\n",
    "model = NetResDeep().to(device=device)\n",
    "optimizer = optim.SGD(model.parameters(), lr=lr)\n",
    "loss_fn = nn.CrossEntropyLoss()\n",
    "\n",
    "training_loop(n_epochs, optimizer, model, loss_fn, train_loader)"
   ]
  },
  {
   "cell_type": "code",
   "execution_count": 128,
   "id": "2ac4acc0-7e0e-442a-903d-8a8e587a52a7",
   "metadata": {},
   "outputs": [
    {
     "name": "stdout",
     "output_type": "stream",
     "text": [
      "train Accuracy: 1.00\n",
      "valid Accuracy: 0.88\n"
     ]
    }
   ],
   "source": [
    "train_loader = torch.utils.data.DataLoader(cifar2, batch_size=64, shuffle=True)\n",
    "val_loader = torch.utils.data.DataLoader(cifar2_val, batch_size=64, shuffle=False)\n",
    "\n",
    "validate(model, train_loader, val_loader)"
   ]
  },
  {
   "cell_type": "code",
   "execution_count": null,
   "id": "5b1a003a-9cfb-4685-aeac-4e64cb61bfda",
   "metadata": {},
   "outputs": [],
   "source": []
  }
 ],
 "metadata": {
  "kernelspec": {
   "display_name": "Python 3 (ipykernel)",
   "language": "python",
   "name": "python3"
  },
  "language_info": {
   "codemirror_mode": {
    "name": "ipython",
    "version": 3
   },
   "file_extension": ".py",
   "mimetype": "text/x-python",
   "name": "python",
   "nbconvert_exporter": "python",
   "pygments_lexer": "ipython3",
   "version": "3.8.10"
  }
 },
 "nbformat": 4,
 "nbformat_minor": 5
}
