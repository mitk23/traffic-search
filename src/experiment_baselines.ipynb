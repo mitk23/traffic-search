{
 "cells": [
  {
   "cell_type": "code",
   "execution_count": 1,
   "id": "85f9b686-4dee-4846-b006-9d3b39292662",
   "metadata": {
    "tags": []
   },
   "outputs": [],
   "source": [
    "import itertools\n",
    "import datetime as dt\n",
    "\n",
    "import numpy as np\n",
    "import pandas as pd\n",
    "from pandas.api.types import CategoricalDtype\n",
    "import matplotlib.pyplot as plt\n",
    "plt.rcParams['font.family'] = 'Noto Sans CJK JP'\n",
    "import seaborn as sns\n",
    "import tqdm\n",
    "\n",
    "from sklearn.preprocessing import StandardScaler\n",
    "from sklearn.svm import SVR\n",
    "from sklearn.gaussian_process import GaussianProcessRegressor\n",
    "from sklearn.ensemble import RandomForestRegressor\n",
    "\n",
    "from statsmodels.tsa.arima_model import ARIMA\n",
    "\n",
    "import torch\n",
    "import torch.nn as nn\n",
    "import torch.nn.functional as F\n",
    "import torch.optim as optim\n",
    "\n",
    "from utils.scaler import STMatrixStandardScaler\n",
    "from utils.helper import format_stmatrix, train_test_split, fix_seed, seed_worker\n",
    "from encdec.dataset import STDataset\n",
    "from encdec.trainer import Trainer\n",
    "from logger import Logger\n",
    "import config"
   ]
  },
  {
   "cell_type": "code",
   "execution_count": 2,
   "id": "5a66af52-fa9b-44a1-8e3d-7c1ab733e773",
   "metadata": {},
   "outputs": [
    {
     "data": {
      "text/plain": [
       "device(type='cuda', index=3)"
      ]
     },
     "execution_count": 2,
     "metadata": {},
     "output_type": "execute_result"
    }
   ],
   "source": [
    "device = torch.device(\"cuda:3\" if torch.cuda.is_available() else \"cpu\")\n",
    "device"
   ]
  },
  {
   "cell_type": "markdown",
   "id": "600f0112-9df1-4430-a141-c4b94a5a4962",
   "metadata": {
    "jp-MarkdownHeadingCollapsed": true,
    "tags": []
   },
   "source": [
    "## 前処理してデータセットを作成\n",
    "- 渋滞量 -> フラグに変換\n",
    "- 方向 -> 0/1に変換\n",
    "    - 上り: 0, 下り: 1\n",
    "- 四半期を数値化\n",
    "- 使用しないカラムを落とす\n",
    "    - 天気 + `index`, `data`, `road_code`, `jam_type`\n",
    "- 速度の欠損を埋める\n",
    "- OCC -> [0, 1]に変換\n",
    "- 型変換\n",
    "    - float64 -> float32\n",
    "    - 区間の名前, コード, 県コード, 0/1系, カレンダーデータをcategoryデータに\n",
    "    - degreeをint32"
   ]
  },
  {
   "cell_type": "code",
   "execution_count": null,
   "id": "529b47c5-ece1-4061-b622-f0c26c9de6d1",
   "metadata": {},
   "outputs": [],
   "source": [
    "# 道路名\n",
    "# TARGET_ROAD='tateyama'\n",
    "TARGET_ROAD='kannetsu'\n",
    "\n",
    "# 交通量\n",
    "PROCESSED_DATA_DIR = '../Input_processed_data'\n",
    "TRAFFIC_DIR = f'{PROCESSED_DATA_DIR}/traffic'\n",
    "TRAFFIC_CSV = f'{TRAFFIC_DIR}/{TARGET_ROAD}_20220621all-merged_filled_1h.csv'"
   ]
  },
  {
   "cell_type": "code",
   "execution_count": null,
   "id": "3b58e808-e64e-4d7d-836d-04fd532a1054",
   "metadata": {
    "tags": []
   },
   "outputs": [],
   "source": [
    "col_types = {'start_code': str, 'end_code': str, 'road_code': str, 'jam_type': str,}\n",
    "\n",
    "df = pd.read_csv(TRAFFIC_CSV, parse_dates=True, index_col='datetime', dtype=col_types).reset_index()"
   ]
  },
  {
   "cell_type": "code",
   "execution_count": null,
   "id": "2898041e-0cc7-420f-9363-73a3edc61e7d",
   "metadata": {},
   "outputs": [],
   "source": [
    "def linear_interpolate(df, col):\n",
    "    '''\n",
    "    dfのcolカラム内の欠損を区間ごとに線形補間する\n",
    "    '''\n",
    "    f = lambda g: g.interpolate(method='linear', axis=0)\n",
    "    \n",
    "    df.sort_values('datetime', inplace=True)\n",
    "    df[col] = df.groupby(['start_code', 'end_code'])[col].apply(f)\n",
    "    return df\n",
    "\n",
    "\n",
    "def preprocess(df):\n",
    "    # 「年」情報を入れる\n",
    "    df['year'] = df['datetime'].dt.year\n",
    "    # 渋滞フラグ 0/1\n",
    "    df['jam_quantity'] = np.where(df['speed'] < 40, 1, 0)\n",
    "    # 方向を数値化\n",
    "    direction_map = {'上り': 0, '下り': 1}\n",
    "    df['direction'] = df['direction'].map(direction_map)\n",
    "    # 四半期を数値化\n",
    "    df['quarter'] = df['quarter'].str[-1]\n",
    "    \n",
    "    # object型のカラム, いらないカラムを落とす\n",
    "    drop_cols = [\n",
    "        'index', 'date', 'road_code', 'pressure', 'rainfall', \n",
    "        'temperature', 'humidity', 'wind_speed', 'daylight_hours', \n",
    "        'snowfall', 'deepest_snowfall', 'weather_description', 'jam_type'\n",
    "    ]\n",
    "    df.drop(drop_cols, axis=1, inplace=True)\n",
    "    \n",
    "    # 速度の欠損を埋める\n",
    "    df = linear_interpolate(df, 'speed')\n",
    "    # OCCを[0,1]に変換\n",
    "    df['OCC'] = df['OCC'] / 100.0\n",
    "    \n",
    "    # 型変換\n",
    "    f64_cols = df.select_dtypes(include=[np.float64]).columns\n",
    "    df.loc[:, f64_cols] = df.loc[:, f64_cols].astype(np.float32)\n",
    "    i64_cols = df.select_dtypes(include=[int]).columns\n",
    "    df.loc[:, i64_cols] = df.loc[:, i64_cols].astype(np.int32)\n",
    "    \n",
    "    type_map = {\n",
    "        'start_name': 'category',\n",
    "        'end_name': 'category',\n",
    "        'start_code': 'category',\n",
    "        'end_code': 'category',\n",
    "        'start_pref_code': 'category',\n",
    "        'end_pref_code': 'category',\n",
    "        'direction': 'category',\n",
    "        'month': 'category',\n",
    "        'day': 'category',\n",
    "        'dayofweek': 'category',\n",
    "        'is_holiday': 'category',\n",
    "        'hour': 'category',\n",
    "        'quarter': 'category',\n",
    "        'jam_quantity': 'category',\n",
    "        'start_degree': np.int32,\n",
    "        'end_degree': np.int32,\n",
    "        'degree_sum': np.int32,\n",
    "    }\n",
    "    df = df.astype(type_map)\n",
    "    \n",
    "    return df"
   ]
  },
  {
   "cell_type": "code",
   "execution_count": null,
   "id": "a23d5e8e-66a4-4c63-a76c-984f49cdec5b",
   "metadata": {},
   "outputs": [],
   "source": [
    "def create_dataset(df, start_date, end_date, pkl_name):\n",
    "    tmp = df.loc[(df['datetime'] >= pd.Timestamp(start_date)) & (df['datetime'] < pd.Timestamp(end_date))]\n",
    "    # tmp.reset_index(drop=True, inplace=True)\n",
    "    \n",
    "    tmp = preprocess(tmp.copy())\n",
    "    tmp.reset_index(drop=True, inplace=True)\n",
    "    \n",
    "    tmp.to_pickle(pkl_name)\n",
    "\n",
    "# whole dataset\n",
    "start_date = '2021/4/2'\n",
    "end_date = '2022/6/1'\n",
    "pkl_name = './datasets_1h/kannetsu_210402-220531.pkl'\n",
    "\n",
    "create_dataset(df, start_date, end_date, pkl_name)\n",
    "\n",
    "# mini dataset\n",
    "start_date = '2021/4/2'\n",
    "end_date = '2021/6/1'\n",
    "pkl_name = './datasets_1h/kannetsu_210402-210531.pkl'\n",
    "\n",
    "create_dataset(df, start_date, end_date, pkl_name)"
   ]
  },
  {
   "cell_type": "markdown",
   "id": "a27c7f12-2979-4952-8165-d5c01122d1f9",
   "metadata": {
    "jp-MarkdownHeadingCollapsed": true,
    "tags": []
   },
   "source": [
    "## データセットを読み込む"
   ]
  },
  {
   "cell_type": "code",
   "execution_count": null,
   "id": "2840688e-38f3-4355-bd7e-e1655e966cc3",
   "metadata": {},
   "outputs": [],
   "source": [
    "# mini\n",
    "df_test = pd.read_pickle('./datasets_1h/kannetsu_210402-210531.pkl')\n",
    "# whole\n",
    "df_all = pd.read_pickle('./datasets_1h/kannetsu_210402-220531.pkl')"
   ]
  },
  {
   "cell_type": "code",
   "execution_count": null,
   "id": "46a5f703-fc2c-4d76-9bb8-61bc9e565947",
   "metadata": {},
   "outputs": [],
   "source": [
    "dt_table = pd.read_pickle(f'{config.TABLES_DIR}/datetime_table.pkl')\n",
    "sec_table = pd.read_pickle(f'{config.TABLES_DIR}/section_table.pkl')"
   ]
  },
  {
   "cell_type": "code",
   "execution_count": null,
   "id": "b9502253-a633-48b8-bc79-f90b5cf43d3b",
   "metadata": {},
   "outputs": [],
   "source": [
    "df_test.head(3)"
   ]
  },
  {
   "cell_type": "markdown",
   "id": "0f1e4d66-8ae9-4d1a-a770-d55c4c82dfce",
   "metadata": {
    "jp-MarkdownHeadingCollapsed": true,
    "tags": []
   },
   "source": [
    "### 時間, 区間にembedding用のIDを割り振る"
   ]
  },
  {
   "cell_type": "code",
   "execution_count": null,
   "id": "0e91cfa6-79bd-4901-b38d-7e436704000d",
   "metadata": {},
   "outputs": [],
   "source": [
    "# 時間情報を管理するためのテーブルを作成 (month x hour x dayofweeks x is_holidays)\n",
    "# months = range(1, 12+1)\n",
    "# hours = range(24)\n",
    "# dayofweeks = range(1, 7+1)\n",
    "# is_holidays = (0, 1)\n",
    "\n",
    "# dt_table = pd.DataFrame(itertools.product(months, hours, dayofweeks, is_holidays), columns=['month', 'hour', 'dayofweek', 'is_holiday'], dtype='category')\n",
    "# dt_table = dt_table.query('dayofweek not in (6, 7) | is_holiday != 0').reset_index(drop=True)\n",
    "# dt_table = dt_table.reset_index().set_index(['month', 'hour', 'dayofweek', 'is_holiday']).astype('category')\n",
    "\n",
    "# dt_table.to_pickle('./datasets/datetime_table.pkl')\n",
    "\n",
    "# dt_table = pd.read_pickle('./datasets/datetime_table.pkl')"
   ]
  },
  {
   "cell_type": "code",
   "execution_count": null,
   "id": "48291632-a12e-4e3c-a8f5-9ba4e8f91aa0",
   "metadata": {},
   "outputs": [],
   "source": [
    "# 時間情報を管理するためのテーブルを作成 (hour x dayofweeks x is_holidays)\n",
    "# hours = range(24)\n",
    "# dayofweeks = range(1, 7+1)\n",
    "# is_holidays = (0, 1)\n",
    "\n",
    "# dt_table = pd.DataFrame(itertools.product(hours, dayofweeks, is_holidays), columns=['hour', 'dayofweek', 'is_holiday'], dtype='category')\n",
    "# dt_table = dt_table.query('dayofweek not in (6, 7) | is_holiday != 0').reset_index(drop=True)\n",
    "# dt_table = dt_table.reset_index().set_index(['hour', 'dayofweek', 'is_holiday']).astype('category')\n",
    "\n",
    "# dt_table.to_pickle('./datasets/mini_datetime_table.pkl')\n",
    "\n",
    "# dt_table = pd.read_pickle('./datasets/mini_datetime_table.pkl')"
   ]
  },
  {
   "cell_type": "code",
   "execution_count": null,
   "id": "c2b54d50-3eba-4d3e-93ea-768d54c39097",
   "metadata": {},
   "outputs": [],
   "source": [
    "# 区間情報を管理するためのテーブルを作成\n",
    "# sec_table = df_test[['start_name', 'end_name', 'direction', 'KP']].drop_duplicates()\n",
    "# 区間順にソート\n",
    "# sort_f = lambda g: g.sort_values('KP', ascending=(g.name == 1))\n",
    "# sec_table = sec_table.groupby('direction').apply(sort_f).reset_index(drop=True)\n",
    "\n",
    "# sec_table.to_pickle('./datasets/section_table.pkl')\n",
    "# sec_table.head(3)\n",
    "\n",
    "# sec_table = pd.read_pickle('./datasets/section_table.pkl')"
   ]
  },
  {
   "cell_type": "code",
   "execution_count": null,
   "id": "d7ac6bbd-5e5d-4daa-b997-400b4b7672f4",
   "metadata": {},
   "outputs": [],
   "source": [
    "def datetime2id(df, dt_table):\n",
    "    time_col = ['hour', 'dayofweek', 'is_holiday']\n",
    "    f = lambda g: g.assign(datetime_id=dt_table.loc[g.name, 'index'])\n",
    "    df = df.groupby(time_col).apply(f)\n",
    "    df['datetime_id'] = df['datetime_id'].astype('category')\n",
    "    return df\n",
    "\n",
    "\n",
    "def section2id(df, sec_table):\n",
    "    f = lambda g: g.assign(section_id=sec_table.query(f'start_name == \"{g.name[0]}\" & end_name == \"{g.name[1]}\"').index.item())\n",
    "    df = df.groupby(['start_name', 'end_name']).apply(f)\n",
    "    df['section_id'] = df['section_id'].astype('category')\n",
    "    return df\n",
    "\n",
    "\n",
    "def identify(df, dt_table, sec_table):\n",
    "    df = datetime2id(df, dt_table)\n",
    "    df = section2id(df, sec_table)\n",
    "    return df"
   ]
  },
  {
   "cell_type": "code",
   "execution_count": null,
   "id": "f8ae9e67-47b0-4274-b963-edf85e4b3786",
   "metadata": {},
   "outputs": [],
   "source": [
    "df_test = identify(df_test, dt_table, sec_table)\n",
    "df_test.to_pickle('./datasets_1h/kannetsu_210402-210531.pkl')\n",
    "\n",
    "df_all = identify(df_all, dt_table, sec_table)\n",
    "df_all.to_pickle('./datasets_1h/kannetsu_210402-220531.pkl')"
   ]
  },
  {
   "cell_type": "markdown",
   "id": "e0a41bef-baf7-4240-a8cd-184ee4e8b9f1",
   "metadata": {
    "jp-MarkdownHeadingCollapsed": true,
    "tags": []
   },
   "source": [
    "## Train, Testに分割"
   ]
  },
  {
   "cell_type": "code",
   "execution_count": null,
   "id": "cded5add-616d-47ab-b199-ade684840ebb",
   "metadata": {},
   "outputs": [],
   "source": [
    "# train: 2021/4/2 - 2022/2/28\n",
    "# test: 2022/3/1 - 2022/5/31\n",
    "df_all = pd.read_pickle('./datasets_1h/kannetsu_210402-220531.pkl')\n",
    "\n",
    "sep_date = '2022/3/1'\n",
    "df_train = df_all.loc[df_all['datetime'] < pd.Timestamp(sep_date)]\n",
    "df_test = df_all.loc[df_all['datetime'] >= pd.Timestamp(sep_date)]\n",
    "\n",
    "df_train.to_pickle('./datasets_1h/kannetsu_210402-220228.pkl')\n",
    "df_test.to_pickle('./datasets_1h/kannetsu_220301-220531.pkl')"
   ]
  },
  {
   "cell_type": "code",
   "execution_count": null,
   "id": "c491ee0e-e075-4465-94ce-420715a72ab0",
   "metadata": {},
   "outputs": [],
   "source": [
    "# train: 2021/4/2 - 2021/5/19\n",
    "# test: 2021/5/20 - 2021/5/31\n",
    "df_mini = pd.read_pickle('./datasets_1h/kannetsu_210402-210531.pkl')\n",
    "\n",
    "sep_date = '2021/5/20'\n",
    "df_train = df_mini.loc[df_mini['datetime'] < pd.Timestamp(sep_date)]\n",
    "df_test = df_mini.loc[df_mini['datetime'] >= pd.Timestamp(sep_date)]\n",
    "\n",
    "df_train.to_pickle('./datasets_1h/kannetsu_210402-210519.pkl')\n",
    "df_test.to_pickle('./datasets_1h/kannetsu_210520-210531.pkl')"
   ]
  },
  {
   "cell_type": "markdown",
   "id": "d43a0e9b-14b1-434c-8de6-2aa603db4727",
   "metadata": {
    "jp-MarkdownHeadingCollapsed": true,
    "tags": []
   },
   "source": [
    "## Spatial Temporal Matrixに整形\n",
    "- 区間数 x 時系列数 の行列\n",
    "- 実際は 区間数 x 時系列数 x 特徴量数 のテンソル"
   ]
  },
  {
   "cell_type": "code",
   "execution_count": null,
   "id": "388e22b3-fa73-4af8-83ae-dad170795ed8",
   "metadata": {},
   "outputs": [],
   "source": [
    "df_test_tr = pd.read_pickle('./datasets_1h/kannetsu_210402-210519.pkl')\n",
    "df_test_va = pd.read_pickle('./datasets_1h/kannetsu_210520-210531.pkl')\n",
    "\n",
    "df_all_tr = pd.read_pickle('./datasets_1h/kannetsu_210402-220228.pkl')\n",
    "df_all_va = pd.read_pickle('./datasets_1h/kannetsu_220301-220531.pkl')\n",
    "\n",
    "dt_table = pd.read_pickle(f'{config.TABLES_DIR}/datetime_table.pkl')\n",
    "sec_table = pd.read_pickle(f'{config.TABLES_DIR}/section_table.pkl')"
   ]
  },
  {
   "cell_type": "code",
   "execution_count": null,
   "id": "0b39c58f-57dc-48c9-a557-0f5e71ead960",
   "metadata": {
    "tags": []
   },
   "outputs": [],
   "source": [
    "# 特徴量の元になる列\n",
    "# time_col = ['month', 'hour', 'dayofweek', 'is_holiday']\n",
    "# section_col = ['direction', 'lane_count', 'KP']\n",
    "time_col = ['datetime_id']\n",
    "section_col = ['section_id']\n",
    "search_col = ['search_1h', 'search_unspec_1d']\n",
    "traffic_col = ['allCars']\n",
    "\n",
    "feature_col = time_col + section_col + search_col + traffic_col\n",
    "# feature_col = time_col + section_col + traffic_col\n",
    "# feature_col = search_col + traffic_col\n",
    "\n",
    "# 予測対象\n",
    "target_col = 'allCars'"
   ]
  },
  {
   "cell_type": "code",
   "execution_count": null,
   "id": "36cfca28-8fa1-49f8-a821-5b7c5f49d976",
   "metadata": {},
   "outputs": [],
   "source": [
    "X_tr, y_tr = format_stmatrix(df_all_tr, sec_table, feature_col, config.TARGET_COL)\n",
    "X_va, y_va = format_stmatrix(df_all_va, sec_table, feature_col, config.TARGET_COL)\n",
    "print(X_tr.shape, X_va.shape, y_tr.shape, y_va.shape)"
   ]
  },
  {
   "cell_type": "code",
   "execution_count": null,
   "id": "3ffac485-c759-4a8c-be33-a714e2b4ada5",
   "metadata": {},
   "outputs": [],
   "source": [
    "# torch.save(X_tr, './datasets_1h/features_train.pkl')\n",
    "# torch.save(X_va, './datasets_1h/features_test.pkl')\n",
    "# torch.save(y_tr, './datasets_1h/labels_train.pkl')\n",
    "# torch.save(y_va, './datasets_1h/labels_test.pkl')\n",
    "\n",
    "# torch.save(X_tr, f'datasets_1h/mini_features_train.pkl')\n",
    "# torch.save(X_va, f'datasets_1h/mini_features_test.pkl')\n",
    "# torch.save(y_tr, f'datasets_1h/mini_labels_train.pkl')\n",
    "# torch.save(y_va, f'datasets_1h/mini_labels_test.pkl')"
   ]
  },
  {
   "cell_type": "markdown",
   "id": "e376cb0a-2709-4e34-94af-8c23af4a418f",
   "metadata": {
    "jp-MarkdownHeadingCollapsed": true,
    "tags": []
   },
   "source": [
    "## 標準化・正規化\n",
    "- 標準化を行う\n",
    "- 時間特徴量（`month`, `hour`, `day_of_week`）はsin, cosで変換するのもやってみる\n",
    "- 検索数, 台数は上り・下り別でもやってみる"
   ]
  },
  {
   "cell_type": "code",
   "execution_count": null,
   "id": "70b43f0a-daa0-4011-8eb4-a3d1c155acb6",
   "metadata": {},
   "outputs": [],
   "source": [
    "dt_table = pd.read_pickle(f'{config.TABLES_DIR}/datetime_table.pkl')\n",
    "sec_table = pd.read_pickle(f'{config.TABLES_DIR}/section_table.pkl')\n",
    "\n",
    "X_tr = torch.load('./datasets_1h/features_train.pkl')\n",
    "X_va = torch.load('./datasets_1h/features_test.pkl')\n",
    "y_tr = torch.load('./datasets_1h/labels_train.pkl')\n",
    "y_va = torch.load('./datasets_1h/labels_test.pkl')\n",
    "\n",
    "# X_tr = torch.load(f'datasets_1h/mini_features_train.pkl')\n",
    "# X_va = torch.load(f'datasets_1h/mini_features_test.pkl')\n",
    "# y_tr = torch.load(f'datasets_1h/mini_labels_train.pkl')\n",
    "# y_va = torch.load(f'datasets_1h/mini_labels_test.pkl')\n",
    "\n",
    "print(X_tr.shape, X_va.shape)\n",
    "print(y_tr.shape, y_va.shape)"
   ]
  },
  {
   "cell_type": "code",
   "execution_count": null,
   "id": "d59f0469-e844-48d9-b897-4c4b2596f2ab",
   "metadata": {
    "tags": []
   },
   "outputs": [],
   "source": [
    "# ID列は飛ばして標準化\n",
    "skip_features = [0, 1]\n",
    "scaler = STMatrixStandardScaler(skip_features=skip_features)\n",
    "\n",
    "scaler.fit(X_tr)\n",
    "X_tr_norm = scaler.transform(X_tr)\n",
    "\n",
    "scaler.fit(X_va)\n",
    "X_va_norm = scaler.transform(X_va)\n",
    "\n",
    "# torch.save(X_tr_norm, f'datasets_1h/features_train_norm.pkl')\n",
    "# torch.save(X_va_norm, f'datasets_1h/features_test_norm.pkl')"
   ]
  },
  {
   "cell_type": "markdown",
   "id": "393b4d27-83ee-4e74-8cbd-e2f88b5bc7e3",
   "metadata": {},
   "source": [
    "## データセットの定義"
   ]
  },
  {
   "cell_type": "code",
   "execution_count": 2,
   "id": "265d39fd-7d3b-47e2-96d6-aad31ba1ecfa",
   "metadata": {},
   "outputs": [
    {
     "name": "stdout",
     "output_type": "stream",
     "text": [
      "(288, 1) (63, 4)\n",
      "torch.Size([5, 7992, 63]) torch.Size([5, 2208, 63])\n",
      "torch.Size([1, 7992, 63]) torch.Size([1, 2208, 63])\n"
     ]
    }
   ],
   "source": [
    "dt_table = pd.read_pickle(f'{config.TABLES_DIR}/datetime_table.pkl')\n",
    "sec_table = pd.read_pickle(f'{config.TABLES_DIR}/section_table.pkl')\n",
    "\n",
    "X_tr = torch.load(f'{config.DATASET_DIR}_1h/features_train_norm.pkl')\n",
    "X_va = torch.load(f'{config.DATASET_DIR}_1h/features_test_norm.pkl')\n",
    "y_tr = torch.load(f'{config.DATASET_DIR}_1h/labels_train.pkl')\n",
    "y_va = torch.load(f'{config.DATASET_DIR}_1h/labels_test.pkl')\n",
    "\n",
    "# X_tr = torch.load(f'datasets_1h/mini_features_train_norm.pkl')\n",
    "# X_va = torch.load(f'datasets_1h/mini_features_test_norm.pkl')\n",
    "# y_tr = torch.load(f'datasets_1h/mini_labels_train.pkl')\n",
    "# y_va = torch.load(f'datasets_1h/mini_labels_test.pkl')\n",
    "\n",
    "print(dt_table.shape, sec_table.shape)\n",
    "print(X_tr.shape, X_va.shape)\n",
    "print(y_tr.shape, y_va.shape)"
   ]
  },
  {
   "cell_type": "code",
   "execution_count": 4,
   "id": "00a7120d-d3fc-41cf-a2cc-59d55670cda0",
   "metadata": {
    "tags": []
   },
   "outputs": [],
   "source": [
    "time_step = 7 * 24\n",
    "space_window = None\n",
    "\n",
    "dataset_train = STDataset(X_tr, y_tr, \n",
    "                          time_step=time_step, \n",
    "                          space_window=space_window)\n",
    "\n",
    "dataset_valid = STDataset(X_va, y_va, \n",
    "                          time_step=time_step, \n",
    "                          space_window=space_window)"
   ]
  },
  {
   "cell_type": "code",
   "execution_count": null,
   "id": "29cf21c7-2744-4522-b8cb-34c8bb1585df",
   "metadata": {},
   "outputs": [],
   "source": [
    "def test_baseline(model, filter_num, testfilter_num):\n",
    "    data, pathlist = dataloader.load_data_noneighbour(5, 5)\n",
    "\n",
    "    traindata = data[:, :-config.valid_length // 2, 0]\n",
    "    testdata = data[:, -config.valid_length:, 0]\n",
    "\n",
    "    print(\"Get XY ...\")\n",
    "    x, y = get_xy(traindata, 1, filter_num)\n",
    "    print(\"Get Train XY %s %s \" % (x.shape, y.shape))\n",
    "    tx, ty = get_xy(testdata, config.out_seq_length, testfilter_num)\n",
    "    print(\"Get Test XY %s %s \" % (tx.shape, ty.shape))\n",
    "    ex, ey = get_xy(testdata, config.out_seq_length, testfilter_num, event=True)\n",
    "    print(\"Get Etest XY %s %s \" % (ex.shape, ey.shape))\n",
    "\n",
    "    # x, y = sklearn.utils.shuffle(x, y)\n",
    "    # x = x[:30000, :]\n",
    "    # y = y[:30000]\n",
    "\n",
    "    # tx, ty = sklearn.utils.shuffle(tx, ty)\n",
    "    # tx = tx[:30000, :]\n",
    "    # ty = ty[:30000]\n",
    "\n",
    "    print(\"Train\")\n",
    "    stime = time.time()\n",
    "    model.fit(x, y)\n",
    "    etime = time.time()\n",
    "    print(\"Train %d\" % (etime - stime))\n",
    "\n",
    "    def test(testx, testy):\n",
    "        print(\"Test\")\n",
    "        stime = time.time()\n",
    "        predlist = list()\n",
    "        for pid in range(config.out_seq_length):\n",
    "            print(\"Test %d %d\" % (pid, time.time() - stime))\n",
    "            pred = model.predict(testx)\n",
    "            predlist.append(pred)\n",
    "            testx[:, :-1] = testx[:, 1:]\n",
    "            testx[:, -1] = pred\n",
    "        etime = time.time()\n",
    "        print(\"Test %d\" % (etime - stime))\n",
    "\n",
    "        predlist = np.stack(predlist, axis=-1)\n",
    "        mapeloss = utils.mape(predlist, testy)\n",
    "        tloss = np.mean(mapeloss, axis=0)\n",
    "        print(\"Test \", tloss)\n",
    "\n",
    "    test(tx, ty)\n",
    "    test(ex, ey)\n",
    "    # print(sumtloss / data.shape[0])\n",
    "\n",
    "def test_arima(testfilter_num):\n",
    "    data, pathlist = dataloader.load_data_noneighbour(5, 5)\n",
    "\n",
    "    # traindata = data[:, :-config.valid_length // 2, 0]\n",
    "    testdata = data[:, -config.valid_length:, 0]\n",
    "\n",
    "    print(\"Get XY ...\")\n",
    "    # x, y = get_xy(traindata, 1, filter_num)\n",
    "    # print(\"Get Train XY %s %s \" % (x.shape, y.shape))\n",
    "    tx, ty = get_xy(testdata, config.out_seq_length, testfilter_num)\n",
    "    print(\"Get Test XY %s %s \" % (tx.shape, ty.shape))\n",
    "    ex, ey = get_xy(testdata, config.out_seq_length, testfilter_num, event=True)\n",
    "    print(\"Get Etest XY %s %s \" % (ex.shape, ey.shape))\n",
    "\n",
    "    # x, y = sklearn.utils.shuffle(x, y)\n",
    "    # x = x[:30000, :]\n",
    "    # y = y[:30000]\n",
    "\n",
    "    # tx, ty = sklearn.utils.shuffle(tx, ty)\n",
    "    # tx = tx[:30000, :]\n",
    "    # ty = ty[:30000]\n",
    "\n",
    "    def test(testx, testy):\n",
    "        print(\"Test\")\n",
    "        stime = time.time()\n",
    "        predlist = list()\n",
    "        for idx in range(testx.shape[0]):\n",
    "            model = ARIMA(testx[0], order=(1, 1, 0))\n",
    "            model_fit = model.fit(disp=0)\n",
    "            pred, stderr, conf_int = model_fit.forecast(config.out_seq_length)\n",
    "            predlist.append(pred)\n",
    "            if idx % 20 == 0:\n",
    "                print(\"Test %d %d\" % (idx, time.time() - stime), utils.mape(pred, testy[idx]))\n",
    "\n",
    "        etime = time.time()\n",
    "        print(\"Test %d\" % (etime - stime))\n",
    "        predlist = np.stack(predlist, axis=0)\n",
    "        mapeloss = utils.mape(predlist, testy)\n",
    "        tloss = np.mean(mapeloss, axis=0)\n",
    "        print(\"Test \", tloss)\n",
    "        return tloss\n",
    "\n",
    "    timeloss = test(tx, ty)\n",
    "    eventloss = test(ex, ey)\n",
    "    print(timeloss, np.mean(timeloss))\n",
    "    print(eventloss, np.mean(eventloss))\n",
    "    # print(sumtloss / data.shape[0])"
   ]
  },
  {
   "cell_type": "markdown",
   "id": "b340b55f-dcc6-4f86-a1d9-ed3c02faaaf3",
   "metadata": {
    "tags": []
   },
   "source": [
    "## Networkの定義"
   ]
  },
  {
   "cell_type": "code",
   "execution_count": 5,
   "id": "9720bd9c-4969-455e-87d0-0ddab4b9ae74",
   "metadata": {},
   "outputs": [],
   "source": [
    "TRAFFIC_CONV = 64\n",
    "TRAFFIC_HIDDEN = 128\n",
    "TRAFFIC_LSTM_LAYERS = 2\n",
    "TRAFFIC_KERNEL = (7,5)\n",
    "\n",
    "SEARCH_CONV = 64\n",
    "SEARCH_HIDDEN = 128\n",
    "SEARCH_LSTM_LAYERS = 2\n",
    "SEARCH_KERNEL = (7,5)\n",
    "\n",
    "UNSPEC_SEARCH_HIDDEN = 64\n",
    "UNSPEC_SEARCH_KERNEL = 5\n",
    "\n",
    "DATETIME_EMB = 32\n",
    "ROAD_EMB = 16\n",
    "\n",
    "FC_EMB = 32"
   ]
  },
  {
   "cell_type": "markdown",
   "id": "631271e2-bd79-4b40-8cfd-ef7e1070c896",
   "metadata": {
    "jp-MarkdownHeadingCollapsed": true,
    "tags": []
   },
   "source": [
    "### LSTM only EncDec"
   ]
  },
  {
   "cell_type": "code",
   "execution_count": 337,
   "id": "58fb1a7f-1930-4809-a140-d6f1e29be293",
   "metadata": {
    "tags": []
   },
   "outputs": [],
   "source": [
    "class LSTMEncoder(nn.Module):\n",
    "    def __init__(self, bidirectional=True):\n",
    "        super().__init__()\n",
    "        \n",
    "        self.bidirectional = bidirectional\n",
    "        self.lstm = nn.LSTM(1, TRAFFIC_HIDDEN, TRAFFIC_LSTM_LAYERS, bidirectional=bidirectional, dropout=0.4, batch_first=True)\n",
    "    \n",
    "    def forward(self, x):\n",
    "        N, T, S = x.shape\n",
    "        x = x[..., [S // 2]]\n",
    "        # N x T x 1 -> N x T x H, (L x N x H, L x N x H)\n",
    "        outs, (h, c) = self.lstm(x)\n",
    "        \n",
    "        if self.bidirectional:\n",
    "            # 2*L_t x N x H_t -> L_t x N x 2*H_t\n",
    "            L2, N, H_t = h.shape\n",
    "            h = h.transpose(0,1).reshape(N, L2 // 2, -1).transpose(0,1).contiguous()\n",
    "            c = h.transpose(0,1).reshape(N, L2 // 2, -1).transpose(0,1).contiguous()    \n",
    "        \n",
    "        return outs, (h, c)\n",
    "    \n",
    "\n",
    "class LSTMDecoder(nn.Module):\n",
    "    def __init__(self, bidirectional=True):\n",
    "        super().__init__()\n",
    "        \n",
    "        self.dropout_ratio = 0.3\n",
    "        \n",
    "        self.hid_dim = 2 * TRAFFIC_HIDDEN if bidirectional else TRAFFIC_HIDDEN\n",
    "        \n",
    "        self.lstm = nn.LSTM(1, self.hid_dim, TRAFFIC_LSTM_LAYERS, dropout=self.dropout_ratio, batch_first=True)\n",
    "        self.fc1 = nn.Linear(self.hid_dim, FC_EMB)\n",
    "        self.fc2 = nn.Linear(FC_EMB, 1)\n",
    "\n",
    "    def forward(self, x, state):\n",
    "        N, _, P = x.shape\n",
    "        \n",
    "        # N x C=1 x P -> N x P x C=1\n",
    "        x = x.permute(0, 2, 1)\n",
    "        # N x P x C, (L x N x H_t, L x N x H_t) -> N x P x H_t, (L x N x H_t, L x N x H_t)\n",
    "        outs, state = self.lstm(x, state)\n",
    "        outs = F.relu(self.fc1(outs))\n",
    "        outs = self.fc2(outs)\n",
    "\n",
    "        return outs, state\n",
    "    \n",
    "    def generate(self, trf_enc, start_value=-1.0):\n",
    "        with torch.no_grad():\n",
    "            # N x 1 x 1\n",
    "            N = trf_enc[0].shape[1]\n",
    "            out = torch.tensor(start_value).repeat(N).unsqueeze(-1).unsqueeze(-1)\n",
    "            out = out.to(trf_enc[0].device)\n",
    "            \n",
    "            state = trf_enc\n",
    "            \n",
    "            generated = []\n",
    "\n",
    "            for i in range(24):\n",
    "                out, state = self.forward(out, state)\n",
    "                generated.append(out)\n",
    "        \n",
    "        # N x P x 1\n",
    "        generated = torch.cat(generated, dim=1)\n",
    "        # N x P x 1 -> N x P\n",
    "        generated = generated[..., 0]\n",
    "        return generated\n",
    "    \n",
    "\n",
    "class LSTMOnlyEncoderDecoder(nn.Module):\n",
    "    def __init__(self, bidirectional=True):\n",
    "        super().__init__()\n",
    "        \n",
    "        self.encoder = LSTMEncoder(bidirectional=bidirectional)\n",
    "        self.decoder = LSTMDecoder(bidirectional=bidirectional)\n",
    "        \n",
    "    def forward(self, features, decoder_xs):\n",
    "        dt, rd, sr, un_sr, trf = features\n",
    "        \n",
    "        outs_trf, state_trf = self.encoder(trf)\n",
    "        outs, _ = self.decoder(decoder_xs, state_trf)\n",
    "\n",
    "        return outs\n",
    "    \n",
    "    def generate(self, features, start_value=-1.0):\n",
    "        dt, rd, sr, un_sr, trf = features\n",
    "        \n",
    "        outs_trf, state_trf = self.encoder(trf)    \n",
    "        generated = self.decoder.generate(state_trf, start_value)\n",
    "        return generated"
   ]
  },
  {
   "cell_type": "code",
   "execution_count": 338,
   "id": "c133fd4f-c770-43ff-a474-9310a6ca376a",
   "metadata": {},
   "outputs": [
    {
     "name": "stdout",
     "output_type": "stream",
     "text": [
      "torch.Size([16, 168, 5]) torch.Size([16, 1, 24])\n"
     ]
    }
   ],
   "source": [
    "(dt, rd, sr, un_sr, trf), labels = dataset_train[:16]\n",
    "print(trf.shape, labels.shape)"
   ]
  },
  {
   "cell_type": "code",
   "execution_count": 341,
   "id": "e5677be3-bb12-4269-83c4-45d20e1bdd15",
   "metadata": {},
   "outputs": [
    {
     "name": "stdout",
     "output_type": "stream",
     "text": [
      "torch.Size([16, 168, 256]) torch.Size([2, 16, 256])\n",
      "torch.Size([16, 24, 1])\n",
      "torch.Size([16, 24])\n"
     ]
    }
   ],
   "source": [
    "(outs_trf, state_trf) = LSTMEncoder()(trf)\n",
    "print(outs_trf.shape, state_trf[0].shape)\n",
    "\n",
    "decoded, _ = LSTMDecoder()(labels, state_trf)\n",
    "print(decoded.shape)\n",
    "\n",
    "predicted = LSTMOnlyEncoderDecoder().generate((dt, rd, sr, un_sr, trf))\n",
    "print(predicted.shape)"
   ]
  },
  {
   "cell_type": "code",
   "execution_count": 342,
   "id": "eda27573-7e41-4fe1-b124-776a8b9c510e",
   "metadata": {},
   "outputs": [],
   "source": [
    "features, labels = dataset_train[:16]"
   ]
  },
  {
   "cell_type": "code",
   "execution_count": 343,
   "id": "2fbf221b-3152-444c-b961-282619b5f9af",
   "metadata": {},
   "outputs": [],
   "source": [
    "decoder_xs = torch.full_like(labels, -1)\n",
    "decoder_xs[..., 1:] = labels[..., :-1]"
   ]
  },
  {
   "cell_type": "code",
   "execution_count": 344,
   "id": "f8673a56-0cd2-45e8-87c5-b548131fc50c",
   "metadata": {},
   "outputs": [
    {
     "data": {
      "text/plain": [
       "torch.Size([16, 24, 1])"
      ]
     },
     "execution_count": 344,
     "metadata": {},
     "output_type": "execute_result"
    }
   ],
   "source": [
    "out = LSTMOnlyEncoderDecoder()((dt, rd, sr, un_sr, trf), decoder_xs)\n",
    "out.shape"
   ]
  },
  {
   "cell_type": "markdown",
   "id": "5022c750-3329-43c8-94c0-7a8601ac67cb",
   "metadata": {
    "jp-MarkdownHeadingCollapsed": true,
    "tags": []
   },
   "source": [
    "### LSTM + CNN EncDec"
   ]
  },
  {
   "cell_type": "code",
   "execution_count": 348,
   "id": "b1c8960e-726f-46ba-8066-58af61dba69c",
   "metadata": {},
   "outputs": [],
   "source": [
    "class CNNLSTMEncoder(nn.Module):\n",
    "    def __init__(self, bidirectional=True):\n",
    "        super().__init__()\n",
    "        \n",
    "        self.bidirectional = bidirectional\n",
    "        \n",
    "        self.conv = nn.Conv2d(1, TRAFFIC_CONV, TRAFFIC_KERNEL, padding=(TRAFFIC_KERNEL[0]//2, 0), padding_mode='replicate')\n",
    "        self.lstm = nn.LSTM(TRAFFIC_CONV, TRAFFIC_HIDDEN, TRAFFIC_LSTM_LAYERS, bidirectional=bidirectional, dropout=0.4, batch_first=True)\n",
    "    \n",
    "    def forward(self, x):\n",
    "        N, T, S = x.shape\n",
    "        \n",
    "        out = F.relu(self.conv(x.unsqueeze(1)))\n",
    "        # N x C x T -> N x T x C\n",
    "        out = out[..., 0].permute(0, 2, 1)\n",
    "        # N x T x C -> N x T x H, (L x N x H, L x N x H)\n",
    "        outs, (h, c) = self.lstm(out)\n",
    "        \n",
    "        if self.bidirectional:\n",
    "            # 2*L_t x N x H_t -> L_t x N x 2*H_t\n",
    "            L2, N, H_t = h.shape\n",
    "            h = h.transpose(0,1).reshape(N, L2 // 2, -1).transpose(0,1).contiguous()\n",
    "            c = h.transpose(0,1).reshape(N, L2 // 2, -1).transpose(0,1).contiguous()\n",
    "        \n",
    "        return outs, (h, c)\n",
    "    \n",
    "\n",
    "class CNNLSTMEncoderDecoder(LSTMOnlyEncoderDecoder):\n",
    "    def __init__(self, bidirectional=True):\n",
    "        super().__init__()\n",
    "        \n",
    "        self.encoder = CNNLSTMEncoder(bidirectional=bidirectional)\n",
    "        self.decoder = LSTMDecoder(bidirectional=bidirectional)"
   ]
  },
  {
   "cell_type": "code",
   "execution_count": 349,
   "id": "0e9b1d52-d9e7-4f57-a81a-cd247146772c",
   "metadata": {},
   "outputs": [
    {
     "name": "stdout",
     "output_type": "stream",
     "text": [
      "torch.Size([16, 168, 5]) torch.Size([16, 1, 24])\n"
     ]
    }
   ],
   "source": [
    "(dt, rd, sr, un_sr, trf), labels = dataset_train[:16]\n",
    "print(trf.shape, labels.shape)"
   ]
  },
  {
   "cell_type": "code",
   "execution_count": 350,
   "id": "d6509e36-c3ff-4b37-94e3-d0de96214f22",
   "metadata": {},
   "outputs": [
    {
     "name": "stdout",
     "output_type": "stream",
     "text": [
      "torch.Size([16, 168, 256]) torch.Size([2, 16, 256])\n",
      "torch.Size([16, 24, 1])\n",
      "torch.Size([16, 24])\n"
     ]
    }
   ],
   "source": [
    "(outs_trf, state_trf) = CNNLSTMEncoder()(trf)\n",
    "print(outs_trf.shape, state_trf[0].shape)\n",
    "\n",
    "decoded, _ = LSTMDecoder()(labels, state_trf)\n",
    "print(decoded.shape)\n",
    "\n",
    "predicted = LSTMOnlyEncoderDecoder().generate((dt, rd, sr, un_sr, trf))\n",
    "print(predicted.shape)"
   ]
  },
  {
   "cell_type": "code",
   "execution_count": 351,
   "id": "918a5424-9679-4872-9711-0f6b89075c62",
   "metadata": {},
   "outputs": [],
   "source": [
    "features, labels = dataset_train[:16]"
   ]
  },
  {
   "cell_type": "code",
   "execution_count": 352,
   "id": "8ddddfbb-91c3-4031-83e5-e1b39c02371d",
   "metadata": {},
   "outputs": [],
   "source": [
    "decoder_xs = torch.full_like(labels, -1)\n",
    "decoder_xs[..., 1:] = labels[..., :-1]"
   ]
  },
  {
   "cell_type": "code",
   "execution_count": 354,
   "id": "67fb2a06-de2a-427b-aeb9-9108a3c75451",
   "metadata": {},
   "outputs": [
    {
     "data": {
      "text/plain": [
       "torch.Size([16, 24, 1])"
      ]
     },
     "execution_count": 354,
     "metadata": {},
     "output_type": "execute_result"
    }
   ],
   "source": [
    "out = CNNLSTMEncoderDecoder()((dt, rd, sr, un_sr, trf), decoder_xs)\n",
    "out.shape"
   ]
  },
  {
   "cell_type": "markdown",
   "id": "1b2a2ce5-a565-4539-ab06-068e8b4d61b8",
   "metadata": {
    "jp-MarkdownHeadingCollapsed": true,
    "tags": []
   },
   "source": [
    "### LSTM + CNN + Embedding EncDec"
   ]
  },
  {
   "cell_type": "code",
   "execution_count": 372,
   "id": "24700f3b-c7c1-44c7-81cc-9e1d8d51196d",
   "metadata": {},
   "outputs": [],
   "source": [
    "class LSTMEmbeddingDecoder(nn.Module):\n",
    "    def __init__(self, bidirectional=True):\n",
    "        super().__init__()\n",
    "        \n",
    "        self.dropout_ratio = 0.3\n",
    "        \n",
    "        self.hid_dim = 2 * TRAFFIC_HIDDEN if bidirectional else TRAFFIC_HIDDEN\n",
    "        \n",
    "        self.datetime_embedding = CategoricalEmbedding(config.DT_TABLE_SIZE, DATETIME_EMB)\n",
    "        self.road_embedding = CategoricalEmbedding(config.SEC_TABLE_SIZE, ROAD_EMB)\n",
    "        self.emb_dropout = nn.Dropout(p=0.4)\n",
    "        \n",
    "        self.lstm = nn.LSTM(1, self.hid_dim, TRAFFIC_LSTM_LAYERS, dropout=self.dropout_ratio, batch_first=True)\n",
    "        self.fc1 = nn.Linear(self.hid_dim + DATETIME_EMB + ROAD_EMB, FC_EMB)\n",
    "        self.fc2 = nn.Linear(FC_EMB, 1)\n",
    "\n",
    "    def forward(self, x, state, dt, rd):\n",
    "        N, _, P = x.shape\n",
    "        \n",
    "        # N x C=1 x P -> N x P x C=1\n",
    "        x = x.permute(0, 2, 1)\n",
    "        # N x P x C, (L x N x H_t, L x N x H_t) -> N x P x H_t, (L x N x H_t, L x N x H_t)\n",
    "        outs, state = self.lstm(x, state)\n",
    "        \n",
    "        # N x P -> N x P x H_d\n",
    "        dt_emb = self.datetime_embedding(dt)\n",
    "        dt_emb = self.emb_dropout(dt_emb)\n",
    "        # N x 1 -> N x 1 x H_r\n",
    "        rd_emb = self.road_embedding(rd)\n",
    "        rd_emb = self.emb_dropout(rd_emb)\n",
    "        \n",
    "        outs = torch.cat([\n",
    "            dt_emb, \n",
    "            rd_emb.repeat(1, P, 1), \n",
    "            outs\n",
    "        ], dim=-1)\n",
    "        \n",
    "        outs = F.relu(self.fc1(outs))\n",
    "        outs = self.fc2(outs)\n",
    "\n",
    "        return outs, state\n",
    "    \n",
    "    def generate(self, trf_enc, dt, rd, start_value=-1.0):\n",
    "        with torch.no_grad():\n",
    "            # N x 1 x 1\n",
    "            N = trf_enc[0].shape[1]\n",
    "            out = torch.tensor(start_value).repeat(N).unsqueeze(-1).unsqueeze(-1)\n",
    "            out = out.to(trf_enc[0].device)\n",
    "            \n",
    "            state = trf_enc\n",
    "            \n",
    "            generated = []\n",
    "\n",
    "            for i in range(24):\n",
    "                out, state = self.forward(out, state, dt[:, [i]], rd)\n",
    "                generated.append(out)\n",
    "        \n",
    "        # N x P x 1\n",
    "        generated = torch.cat(generated, dim=1)\n",
    "        # N x P x 1 -> N x P\n",
    "        generated = generated[..., 0]\n",
    "        return generated\n",
    "    \n",
    "\n",
    "class CNNLSTMEmbeddingEncoderDecoder(nn.Module):\n",
    "    def __init__(self, bidirectional=True):\n",
    "        super().__init__()\n",
    "        \n",
    "        self.encoder = CNNLSTMEncoder(bidirectional=bidirectional)\n",
    "        self.decoder = LSTMEmbeddingDecoder(bidirectional=bidirectional)\n",
    "        \n",
    "    def forward(self, features, decoder_xs):\n",
    "        dt, rd, sr, un_sr, trf = features\n",
    "        \n",
    "        outs_trf, state_trf = self.encoder(trf)\n",
    "        outs, _ = self.decoder(decoder_xs, state_trf, dt, rd)\n",
    "\n",
    "        return outs\n",
    "    \n",
    "    def generate(self, features, start_value=-1.0):\n",
    "        dt, rd, sr, un_sr, trf = features\n",
    "        \n",
    "        outs_trf, state_trf = self.encoder(trf)    \n",
    "        generated = self.decoder.generate(state_trf, dt, rd, start_value)\n",
    "        return generated"
   ]
  },
  {
   "cell_type": "code",
   "execution_count": 373,
   "id": "e3f07a64-9ac0-4a1a-92a0-3fc9891443a3",
   "metadata": {},
   "outputs": [
    {
     "name": "stdout",
     "output_type": "stream",
     "text": [
      "torch.Size([16, 168, 5]) torch.Size([16, 1, 24])\n"
     ]
    }
   ],
   "source": [
    "(dt, rd, sr, un_sr, trf), labels = dataset_train[:16]\n",
    "print(trf.shape, labels.shape)"
   ]
  },
  {
   "cell_type": "code",
   "execution_count": 374,
   "id": "2af0fe10-18af-4773-8716-1be2699afa81",
   "metadata": {},
   "outputs": [
    {
     "name": "stdout",
     "output_type": "stream",
     "text": [
      "torch.Size([16, 168, 256]) torch.Size([2, 16, 256])\n",
      "torch.Size([16, 24, 1])\n",
      "torch.Size([16, 24])\n"
     ]
    }
   ],
   "source": [
    "(outs_trf, state_trf) = CNNLSTMEncoder()(trf)\n",
    "print(outs_trf.shape, state_trf[0].shape)\n",
    "\n",
    "decoded, _ = LSTMEmbeddingDecoder()(labels, state_trf, dt, rd)\n",
    "print(decoded.shape)\n",
    "\n",
    "predicted = CNNLSTMEmbeddingEncoderDecoder().generate((dt, rd, sr, un_sr, trf))\n",
    "print(predicted.shape)"
   ]
  },
  {
   "cell_type": "code",
   "execution_count": 375,
   "id": "fa2d9f27-0642-43e0-a1ce-a9410d90accf",
   "metadata": {},
   "outputs": [],
   "source": [
    "features, labels = dataset_train[:16]"
   ]
  },
  {
   "cell_type": "code",
   "execution_count": 376,
   "id": "92776351-9407-4cf3-a341-1f2b834f0966",
   "metadata": {},
   "outputs": [],
   "source": [
    "decoder_xs = torch.full_like(labels, -1)\n",
    "decoder_xs[..., 1:] = labels[..., :-1]"
   ]
  },
  {
   "cell_type": "code",
   "execution_count": 377,
   "id": "83552ea0-481d-4477-847e-4f3a03f31873",
   "metadata": {},
   "outputs": [
    {
     "data": {
      "text/plain": [
       "torch.Size([16, 24, 1])"
      ]
     },
     "execution_count": 377,
     "metadata": {},
     "output_type": "execute_result"
    }
   ],
   "source": [
    "out = CNNLSTMEncoderDecoder()((dt, rd, sr, un_sr, trf), decoder_xs)\n",
    "out.shape"
   ]
  },
  {
   "cell_type": "markdown",
   "id": "a4af1ea9-e99d-43ae-9552-bd810721018c",
   "metadata": {
    "tags": []
   },
   "source": [
    "### Encoder-Decoder"
   ]
  },
  {
   "cell_type": "code",
   "execution_count": 248,
   "id": "8dd6c6e3-fc6b-4e33-8171-19e966137abf",
   "metadata": {},
   "outputs": [],
   "source": [
    "class TrafficSearchEncoder(nn.Module):\n",
    "    def __init__(self, conv_dim, kernel, lstm_dim, lstm_layers, bidirectional=True):\n",
    "        super().__init__()\n",
    "        \n",
    "        self.bidirectional = bidirectional\n",
    "        \n",
    "        self.conv = nn.Conv2d(1, conv_dim, kernel, padding=(kernel[0]//2, 0), padding_mode='replicate')\n",
    "        self.lstm = nn.LSTM(conv_dim, lstm_dim, lstm_layers, bidirectional=bidirectional, dropout=0.4, batch_first=True)\n",
    "    \n",
    "    def forward(self, x):\n",
    "        N, T, S = x.shape\n",
    "        \n",
    "        out = F.relu(self.conv(x.unsqueeze(1)))\n",
    "        # N x C x T -> N x T x C\n",
    "        out = out[..., 0].permute(0, 2, 1)\n",
    "        # N x T x C -> N x T x H, (L x N x H, L x N x H)\n",
    "        outs, (h, c) = self.lstm(out)\n",
    "        \n",
    "        return outs, (h, c)\n",
    "\n",
    "    \n",
    "class SearchUnspecEncoder(nn.Module):\n",
    "    def __init__(self):\n",
    "        super().__init__()\n",
    "        \n",
    "        self.conv = nn.Conv1d(1, UNSPEC_SEARCH_HIDDEN, UNSPEC_SEARCH_KERNEL, padding_mode='replicate')\n",
    "        self.dropout = nn.Dropout(p=0.4)\n",
    "    \n",
    "    def forward(self, x):\n",
    "        N, T, S = x.shape\n",
    "        out = F.relu(self.conv(x))\n",
    "        # N x C x T -> N x T x C\n",
    "        out = out.permute(0, 2, 1)\n",
    "        out = self.dropout(out)\n",
    "        \n",
    "        return out\n",
    "\n",
    "    \n",
    "class Encoder(nn.Module):\n",
    "    def __init__(self, include_search=True, bidirectional=True):\n",
    "        super().__init__()\n",
    "        \n",
    "        self.include_search = include_search\n",
    "        self.bidirectional = bidirectional\n",
    "        \n",
    "        self.traffic_encoder = TrafficSearchEncoder(TRAFFIC_CONV, TRAFFIC_KERNEL, TRAFFIC_HIDDEN, TRAFFIC_LSTM_LAYERS, bidirectional=bidirectional)\n",
    "        if include_search:\n",
    "            self.search_encoder = TrafficSearchEncoder(SEARCH_CONV, SEARCH_KERNEL, SEARCH_HIDDEN, SEARCH_LSTM_LAYERS, bidirectional=bidirectional)\n",
    "            self.unspec_search_encoder = SearchUnspecEncoder()\n",
    "        \n",
    "    def forward(self, x_trf, x_sr, x_un_sr):\n",
    "        # N x T x S -> N x T x H_t, (bi*L_t x N x H_t, bi*L_t x N x H_t)\n",
    "        outs_trf, state_trf = self.traffic_encoder(x_trf)\n",
    "        if self.bidirectional:\n",
    "            # 2*L_t x N x H_t -> L_t x N x 2*H_t\n",
    "            L2, N, H_t = state_trf[0].shape\n",
    "            h = state_trf[0].transpose(0,1).reshape(N, L2 // 2, -1).transpose(0,1).contiguous()\n",
    "            c = state_trf[1].transpose(0,1).reshape(N, L2 // 2, -1).transpose(0,1).contiguous()\n",
    "            state_trf = (h, c)\n",
    "        \n",
    "        if self.include_search:\n",
    "            # N x P x S -> N x P x H_s, (L_s x N x H_s, L_s x N x H_s) \n",
    "            outs_sr, state_sr = self.search_encoder(x_sr)\n",
    "            # N x 1 x S -> N x 1 x H_u\n",
    "            out_un_sr = self.unspec_search_encoder(x_un_sr)\n",
    "            return (outs_trf, state_trf), outs_sr, out_un_sr\n",
    "        return outs_trf, state_trf\n",
    "\n",
    "\n",
    "# class WithoutEncoder(nn.Module):\n",
    "#     def __init__(self, bidirectional=True):\n",
    "#         super().__init__()\n",
    "        \n",
    "#         self.bidirectional = bidirectional\n",
    "        \n",
    "#         self.traffic_encoder = TrafficSearchEncoder(TRAFFIC_CONV, TRAFFIC_KERNEL, TRAFFIC_HIDDEN, TRAFFIC_LSTM_LAYERS, bidirectional=bidirectional)\n",
    "        \n",
    "#     def forward(self, x_trf):\n",
    "#         # N x T x S -> N x T x H_t, (bi*L_t x N x H_t, bi*L_t x N x H_t)\n",
    "#         outs_trf, state_trf = self.traffic_encoder(x_trf)\n",
    "#         if self.bidirectional:\n",
    "#             # 2*L_t x N x H_t -> L_t x N x 2*H_t\n",
    "#             L2, N, H_t = state_trf[0].shape\n",
    "#             h = state_trf[0].transpose(0,1).reshape(N, L2 // 2, -1).transpose(0,1).contiguous()\n",
    "#             c = state_trf[1].transpose(0,1).reshape(N, L2 // 2, -1).transpose(0,1).contiguous()\n",
    "#             state_trf = (h, c)\n",
    "\n",
    "#         return outs_trf, state_trf"
   ]
  },
  {
   "cell_type": "code",
   "execution_count": 249,
   "id": "cf4c3742-ebe5-4e1b-91ca-8d2e6ff316fe",
   "metadata": {},
   "outputs": [],
   "source": [
    "class CategoricalEmbedding(nn.Module):\n",
    "    def __init__(self, category_size, emb_size):\n",
    "        super().__init__()\n",
    "\n",
    "        self.category_size = category_size\n",
    "        self.emb_size = emb_size\n",
    "        self.embedding = nn.Embedding(category_size, emb_size)\n",
    "\n",
    "    def forward(self, x):\n",
    "        out = self.embedding(x.to(dtype=torch.int64))\n",
    "        return out"
   ]
  },
  {
   "cell_type": "code",
   "execution_count": 250,
   "id": "bdd0dca3-cb37-417f-8523-ea77c807959d",
   "metadata": {},
   "outputs": [],
   "source": [
    "class TrafficDecoder(nn.Module):\n",
    "    def __init__(self, bidirectional=True):\n",
    "        super().__init__()\n",
    "        \n",
    "        self.dropout_ratio = 0.3\n",
    "        \n",
    "        self.hid_dim = 2 * TRAFFIC_HIDDEN if bidirectional else TRAFFIC_HIDDEN\n",
    "        self.lstm = nn.LSTM(1, self.hid_dim, TRAFFIC_LSTM_LAYERS, dropout=self.dropout_ratio, batch_first=True)\n",
    "\n",
    "    def forward(self, x, state):\n",
    "        N, _, P = x.shape\n",
    "        \n",
    "        # N x C=1 x P -> N x P x C=1\n",
    "        x = x.permute(0, 2, 1)\n",
    "        # N x P x C, (L x N x H_t, L x N x H_t) -> N x P x H_t, (L x N x H_t, L x N x H_t)\n",
    "        outs, state = self.lstm(x, state)\n",
    "        return outs, state"
   ]
  },
  {
   "cell_type": "code",
   "execution_count": 292,
   "id": "b1de7b3c-12de-405c-a1d2-9d732ea8f9c2",
   "metadata": {},
   "outputs": [],
   "source": [
    "class AffineDecoder(nn.Module):\n",
    "    def __init__(self, include_search=True, bidirectional=True):\n",
    "        super().__init__()\n",
    "        \n",
    "        self.include_search = include_search\n",
    "        self.bidirectional = bidirectional\n",
    "        \n",
    "        if include_search:\n",
    "            if bidirectional:\n",
    "                self.n_dim = 2*TRAFFIC_HIDDEN + 2*SEARCH_HIDDEN + UNSPEC_SEARCH_HIDDEN + DATETIME_EMB + ROAD_EMB\n",
    "            else:\n",
    "                self.n_dim = TRAFFIC_HIDDEN + SEARCH_HIDDEN + UNSPEC_SEARCH_HIDDEN + DATETIME_EMB + ROAD_EMB\n",
    "        else:\n",
    "            if bidirectional:\n",
    "                self.n_dim = 2*TRAFFIC_HIDDEN + DATETIME_EMB + ROAD_EMB\n",
    "            else:\n",
    "                self.n_dim = TRAFFIC_HIDDEN + DATETIME_EMB + ROAD_EMB\n",
    "        \n",
    "        self.datetime_embedding = CategoricalEmbedding(config.DT_TABLE_SIZE, DATETIME_EMB)\n",
    "        self.road_embedding = CategoricalEmbedding(config.SEC_TABLE_SIZE, ROAD_EMB)\n",
    "        self.emb_dropout = nn.Dropout(p=0.4)\n",
    "        \n",
    "        self.fc1 = nn.Linear(self.n_dim, FC_EMB)\n",
    "        self.fc2 = nn.Linear(FC_EMB, 1)\n",
    "        \n",
    "    def forward(self, trf_dec, sr_enc, un_sr_enc, dt, rd):\n",
    "        # traffic_dec: N x P x H_t\n",
    "        N, P, H_t = trf_dec.shape\n",
    "        \n",
    "        # N x P -> N x P x H_d\n",
    "        dt_emb = self.datetime_embedding(dt)\n",
    "        dt_emb = self.emb_dropout(dt_emb)\n",
    "        # N x 1 -> N x 1 x H_r\n",
    "        rd_emb = self.road_embedding(rd)\n",
    "        rd_emb = self.emb_dropout(rd_emb)\n",
    "        \n",
    "        if self.include_search:\n",
    "            outs = torch.cat([\n",
    "                dt_emb, \n",
    "                rd_emb.repeat(1, P, 1), \n",
    "                sr_enc, \n",
    "                un_sr_enc.repeat(1, P, 1),\n",
    "                trf_dec\n",
    "            ], dim=-1)\n",
    "        else:\n",
    "            outs = torch.cat([\n",
    "                dt_emb, \n",
    "                rd_emb.repeat(1, P, 1), \n",
    "                trf_dec\n",
    "            ], dim=-1)\n",
    "        # N x P x SUM -> N x P x H_fc\n",
    "        outs = F.relu(self.fc1(outs))\n",
    "        # N x P x H_fc -> N x P x 1\n",
    "        outs = self.fc2(outs)\n",
    "        \n",
    "        return outs\n",
    "    \n",
    "\n",
    "# class WithoutAffineDecoder(nn.Module):\n",
    "#     def __init__(self, bidirectional=True):\n",
    "#         super().__init__()\n",
    "        \n",
    "#         if bidirectional:\n",
    "#             self.n_dim = 2*TRAFFIC_HIDDEN + DATETIME_EMB + ROAD_EMB\n",
    "#         else:\n",
    "#             self.n_dim = TRAFFIC_HIDDEN + DATETIME_EMB + ROAD_EMB\n",
    "        \n",
    "#         self.datetime_embedding = CategoricalEmbedding(config.DT_TABLE_SIZE, DATETIME_EMB)\n",
    "#         self.road_embedding = CategoricalEmbedding(config.SEC_TABLE_SIZE, ROAD_EMB)\n",
    "        \n",
    "#         self.fc1 = nn.Linear(self.n_dim, FC_EMB)\n",
    "#         self.fc2 = nn.Linear(FC_EMB, 1)\n",
    "        \n",
    "#         self.emb_dropout = nn.Dropout(p=0.4)\n",
    "        \n",
    "#     def forward(self, trf_dec, dt, rd):\n",
    "#         # traffic_dec: N x P x H_t\n",
    "#         N, P, H_t = trf_dec.shape\n",
    "        \n",
    "#         # N x P -> N x P x H_d\n",
    "#         dt_emb = self.datetime_embedding(dt)\n",
    "#         dt_emb = self.emb_dropout(dt_emb)\n",
    "#         # N x 1 -> N x 1 x H_r\n",
    "#         rd_emb = self.road_embedding(rd)\n",
    "#         rd_emb = self.emb_dropout(rd_emb)\n",
    "\n",
    "#         outs = torch.cat([\n",
    "#             dt_emb, \n",
    "#             rd_emb.repeat(1, P, 1), \n",
    "#             trf_dec\n",
    "#         ], dim=-1)\n",
    "#         # N x P x SUM -> N x P x H_fc\n",
    "#         outs = F.relu(self.fc1(outs))\n",
    "#         # N x P x H_fc -> N x P x 1\n",
    "#         outs = self.fc2(outs)\n",
    "        \n",
    "#         return outs"
   ]
  },
  {
   "cell_type": "code",
   "execution_count": 286,
   "id": "043357ae-268d-4733-9c7c-1b1d54845207",
   "metadata": {},
   "outputs": [],
   "source": [
    "class Decoder(nn.Module):\n",
    "    def __init__(self, include_search=True, bidirectional=True):\n",
    "        super().__init__()\n",
    "        \n",
    "        self.include_search = include_search\n",
    "        \n",
    "        self.traffic_decoder = TrafficDecoder(bidirectional)\n",
    "        self.affine_decoder = AffineDecoder(include_search=include_search, bidirectional=bidirectional)\n",
    "    \n",
    "    def forward(self, x, trf_enc, sr_enc, un_sr_enc, dt, rd):\n",
    "        # N x 1 x P, (L x N x H_t, L x N x H_t) -> N x P x H_t, (L x N x H_t, L x N x H_t)\n",
    "        outs_trf, state_trf = self.traffic_decoder(x, trf_enc)\n",
    "        outs = self.affine_decoder(outs_trf, sr_enc, un_sr_enc, dt, rd)\n",
    "        # N x P x 1 -> N x P\n",
    "        outs = outs[..., 0]\n",
    "        return outs\n",
    "    \n",
    "    def generate(self, trf_enc, sr_enc, un_sr_enc, dt, rd, start_value=-1.0):\n",
    "        with torch.no_grad():\n",
    "            # N x 1 x 1\n",
    "            N = trf_enc[0].shape[1]\n",
    "            out = torch.tensor(start_value).repeat(N).unsqueeze(-1).unsqueeze(-1)\n",
    "            out = out.to(trf_enc[0].device)\n",
    "            \n",
    "            state = trf_enc\n",
    "            \n",
    "            generated = []\n",
    "\n",
    "            for i in range(24):\n",
    "                out, state = self.traffic_decoder(out, state)\n",
    "                if self.include_search:\n",
    "                    out = self.affine_decoder(out, sr_enc[:, [i]], un_sr_enc, dt[:, [i]], rd)\n",
    "                else:\n",
    "                    out = self.affine_decoder(out, None, None, dt[:, [i]], rd)\n",
    "\n",
    "                generated.append(out)\n",
    "        \n",
    "        # N x P x 1\n",
    "        generated = torch.cat(generated, dim=1)\n",
    "        # N x P x 1 -> N x P\n",
    "        generated = generated[..., 0]\n",
    "        return generated\n",
    "\n",
    "    \n",
    "# class WithoutDecoder(nn.Module):\n",
    "#     def __init__(self, bidirectional=True):\n",
    "#         super().__init__()\n",
    "        \n",
    "#         self.traffic_decoder = TrafficDecoder(bidirectional)\n",
    "#         self.affine_decoder = WithoutAffineDecoder(bidirectional)\n",
    "    \n",
    "#     def forward(self, x, trf_enc, dt, rd):\n",
    "#         # N x 1 x P, (L x N x H_t, L x N x H_t) -> N x P x H_t, (L x N x H_t, L x N x H_t)\n",
    "#         outs_trf, state_trf = self.traffic_decoder(x, trf_enc)\n",
    "#         outs = self.affine_decoder(outs_trf, dt, rd)\n",
    "#         # N x P x 1 -> N x P\n",
    "#         outs = outs[..., 0]\n",
    "#         return outs\n",
    "    \n",
    "#     def generate(self, trf_enc, dt, rd, start_value=-1.0):\n",
    "#         with torch.no_grad():\n",
    "#             # N x 1 x 1\n",
    "#             N = trf_enc[0].shape[1]\n",
    "#             out = torch.tensor(start_value).repeat(N).unsqueeze(-1).unsqueeze(-1)\n",
    "#             out = out.to(trf_enc[0].device)\n",
    "            \n",
    "#             state = trf_enc\n",
    "            \n",
    "#             generated = []\n",
    "\n",
    "#             for i in range(24):\n",
    "#                 out, state = self.traffic_decoder(out, state)\n",
    "#                 out = self.affine_decoder(out, dt[:, [i]], rd)\n",
    "\n",
    "#                 generated.append(out)\n",
    "        \n",
    "#         # N x P x 1\n",
    "#         generated = torch.cat(generated, dim=1)\n",
    "#         # N x P x 1 -> N x P\n",
    "#         generated = generated[..., 0]\n",
    "#         return generated"
   ]
  },
  {
   "cell_type": "code",
   "execution_count": 299,
   "id": "bb50e3a3-8028-49cc-86d9-ffe29339d292",
   "metadata": {
    "tags": []
   },
   "outputs": [],
   "source": [
    "class EncoderDecoder(nn.Module):\n",
    "    def __init__(self, include_search=True, bidirectional=True):\n",
    "        super().__init__()\n",
    "        \n",
    "        self.include_search = include_search\n",
    "        \n",
    "        self.encoder = Encoder(include_search=include_search, bidirectional=bidirectional)\n",
    "        self.decoder = Decoder(include_search=include_search, bidirectional=bidirectional)\n",
    "        \n",
    "    def forward(self, features, decoder_xs):\n",
    "        dt, rd, sr, un_sr, trf = features\n",
    "        \n",
    "        if self.include_search:\n",
    "            (outs_trf, state_trf), outs_sr, outs_un_sr = self.encoder(trf, sr, un_sr)\n",
    "        else:\n",
    "            outs_trf, state_trf = self.encoder(trf, sr, un_sr)\n",
    "            outs_sr, outs_un_sr = None, None\n",
    "            \n",
    "        outs = self.decoder(decoder_xs, state_trf, outs_sr, outs_un_sr, dt, rd)\n",
    "\n",
    "        return outs\n",
    "    \n",
    "    def generate(self, features, start_value=-1.0):\n",
    "        dt, rd, sr, un_sr, trf = features\n",
    "        \n",
    "        if self.include_search:\n",
    "            (outs_trf, state_trf), outs_sr, outs_un_sr = self.encoder(trf, sr, un_sr)\n",
    "        else:\n",
    "            outs_trf, state_trf = self.encoder(trf, sr, un_sr)\n",
    "            outs_sr, outs_un_sr = None, None\n",
    "        \n",
    "        generated = self.decoder.generate(state_trf, outs_sr, outs_un_sr, dt, rd, start_value)\n",
    "        return generated\n",
    "    \n",
    "    \n",
    "# class WithoutEncoderDecoder(nn.Module):\n",
    "#     def __init__(self, bidirectional=True):\n",
    "#         super().__init__()\n",
    "        \n",
    "#         self.encoder = WithoutEncoder(bidirectional=bidirectional)\n",
    "#         self.decoder = WithoutDecoder(bidirectional=bidirectional)\n",
    "        \n",
    "#     def forward(self, features, decoder_xs):\n",
    "#         dt, rd, sr, un_sr, trf = features\n",
    "        \n",
    "#         outs_trf, state_trf= self.encoder(trf)\n",
    "#         outs = self.decoder(decoder_xs, state_trf, dt, rd)\n",
    "\n",
    "#         return outs\n",
    "    \n",
    "#     def generate(self, features, start_value=-1.0):\n",
    "#         dt, rd, sr, un_sr, trf = features\n",
    "        \n",
    "#         outs_trf, state_trf = self.encoder(trf)\n",
    "#         generated = self.decoder.generate(state_trf, dt, rd, start_value)\n",
    "#         return generated"
   ]
  },
  {
   "cell_type": "code",
   "execution_count": 287,
   "id": "d8bf64f4-75d8-4ff7-80f4-e5bc326345ef",
   "metadata": {},
   "outputs": [
    {
     "name": "stdout",
     "output_type": "stream",
     "text": [
      "torch.Size([16, 168, 5]) torch.Size([16, 1, 24])\n"
     ]
    }
   ],
   "source": [
    "(dt, rd, sr, un_sr, trf), labels = dataset_train[:16]\n",
    "print(trf.shape, labels.shape)"
   ]
  },
  {
   "cell_type": "code",
   "execution_count": 293,
   "id": "7a735cd0-6e7d-4e57-8e90-dce993ddddda",
   "metadata": {},
   "outputs": [
    {
     "name": "stdout",
     "output_type": "stream",
     "text": [
      "torch.Size([16, 168, 128]) torch.Size([2, 16, 128]) torch.Size([16, 24, 128]) torch.Size([16, 1, 64])\n"
     ]
    }
   ],
   "source": [
    "(outs_trf, state_trf), outs_sr, outs_un_sr = Encoder(include_search=True, bidirectional=False)(trf, sr, un_sr)\n",
    "print(outs_trf.shape, state_trf[0].shape, outs_sr.shape, outs_un_sr.shape)\n",
    "\n",
    "# (outs_trf, state_trf) = WithoutEncoder(bidirectional=False)(trf)\n",
    "# print(outs_trf.shape, state_trf[0].shape)"
   ]
  },
  {
   "cell_type": "code",
   "execution_count": 294,
   "id": "cd9ac8ea-2db1-4726-8dc2-b1d6ad012847",
   "metadata": {
    "tags": []
   },
   "outputs": [],
   "source": [
    "predicted = Decoder(include_search=True, bidirectional=False).generate(state_trf, outs_sr, outs_un_sr, dt, rd)\n",
    "\n",
    "# predicted = WithoutDecoder(bidirectional=False).generate(state_trf, dt, rd)"
   ]
  },
  {
   "cell_type": "code",
   "execution_count": 295,
   "id": "78b3c09d-5697-41b0-8fb7-b3efca25b689",
   "metadata": {},
   "outputs": [],
   "source": [
    "predicted = EncoderDecoder(include_search=False, bidirectional=False).generate((dt, rd, sr, un_sr, trf))"
   ]
  },
  {
   "cell_type": "code",
   "execution_count": 296,
   "id": "e0735f29-d3a5-4993-b123-fc30448b86c9",
   "metadata": {},
   "outputs": [],
   "source": [
    "features, labels = dataset_train[:16]"
   ]
  },
  {
   "cell_type": "code",
   "execution_count": 297,
   "id": "218660b8-f9d8-4ab5-be3a-c18579df3e30",
   "metadata": {},
   "outputs": [],
   "source": [
    "decoder_xs = torch.full_like(labels, -1)\n",
    "decoder_xs[..., 1:] = labels[..., :-1]"
   ]
  },
  {
   "cell_type": "code",
   "execution_count": 301,
   "id": "0be0aee6-d215-4969-9b78-cf98730a4def",
   "metadata": {},
   "outputs": [
    {
     "data": {
      "text/plain": [
       "torch.Size([16, 24])"
      ]
     },
     "execution_count": 301,
     "metadata": {},
     "output_type": "execute_result"
    }
   ],
   "source": [
    "out = EncoderDecoder(include_search=False)((dt, rd, sr, un_sr, trf), decoder_xs)\n",
    "out.shape"
   ]
  },
  {
   "cell_type": "markdown",
   "id": "8d41aa92-6edb-4ee7-940c-990101e90046",
   "metadata": {
    "tags": []
   },
   "source": [
    "## 学習"
   ]
  },
  {
   "cell_type": "markdown",
   "id": "1126927e-0ed5-4108-b10b-ec48c36467cf",
   "metadata": {
    "tags": []
   },
   "source": [
    "### 検索あり"
   ]
  },
  {
   "cell_type": "code",
   "execution_count": 302,
   "id": "fab3e372-219a-45e6-807f-802404cf8c5e",
   "metadata": {},
   "outputs": [],
   "source": [
    "batch_size = config.BATCH_SIZE\n",
    "\n",
    "g = torch.Generator()\n",
    "g.manual_seed(config.RANDOM_SEED)\n",
    "\n",
    "train_loader = torch.utils.data.DataLoader(dataset_train, batch_size=batch_size, shuffle=True, worker_init_fn=seed_worker, generator=g)\n",
    "val_loader = torch.utils.data.DataLoader(dataset_valid, batch_size=batch_size, shuffle=False)"
   ]
  },
  {
   "cell_type": "code",
   "execution_count": 303,
   "id": "4a1bec0a-9a5e-4020-b722-f6c7592955a1",
   "metadata": {},
   "outputs": [],
   "source": [
    "# hyper parameters\n",
    "n_epochs = 100\n",
    "\n",
    "# path\n",
    "# model_name = 'EncDec'\n",
    "# log_path = f'./logs/{model_name}.log'\n",
    "model_name, log_path = None, None\n",
    "\n",
    "# model\n",
    "model = EncoderDecoder().to(device)\n",
    "optimizer = optim.Adam(model.parameters())\n",
    "loss_fn = nn.L1Loss()\n",
    "\n",
    "logger = Logger(fname=log_path)\n",
    "trainer = Trainer(model, optimizer, loss_fn, device=device, logger=logger, model_name=model_name)"
   ]
  },
  {
   "cell_type": "code",
   "execution_count": 304,
   "id": "334eaf5c-6f2f-421a-8916-d94e344d16d7",
   "metadata": {
    "tags": []
   },
   "outputs": [
    {
     "name": "stdout",
     "output_type": "stream",
     "text": [
      "2022-09-05 06:23:21.536709 | Epoch: 1 | Train Loss: 901.644, Train Time: 2.64 [sec] | Valid Loss: 897.091, Valid Time: 0.68 [sec]\n",
      "2022-09-05 06:23:24.839443 | Epoch: 2 | Train Loss: 771.638, Train Time: 2.63 [sec] | Valid Loss: 749.034, Valid Time: 0.68 [sec]\n",
      "2022-09-05 06:23:28.160202 | Epoch: 3 | Train Loss: 672.028, Train Time: 2.64 [sec] | Valid Loss: 678.998, Valid Time: 0.68 [sec]\n",
      "2022-09-05 06:23:31.483115 | Epoch: 4 | Train Loss: 551.468, Train Time: 2.65 [sec] | Valid Loss: 524.198, Valid Time: 0.68 [sec]\n",
      "2022-09-05 06:23:35.135594 | Epoch: 5 | Train Loss: 373.674, Train Time: 2.97 [sec] | Valid Loss: 467.263, Valid Time: 0.68 [sec]\n",
      "2022-09-05 06:23:38.496184 | Epoch: 6 | Train Loss: 254.649, Train Time: 2.68 [sec] | Valid Loss: 302.775, Valid Time: 0.68 [sec]\n",
      "2022-09-05 06:23:41.855993 | Epoch: 7 | Train Loss: 183.810, Train Time: 2.68 [sec] | Valid Loss: 270.178, Valid Time: 0.68 [sec]\n",
      "2022-09-05 06:23:45.217894 | Epoch: 8 | Train Loss: 138.152, Train Time: 2.68 [sec] | Valid Loss: 213.371, Valid Time: 0.68 [sec]\n",
      "2022-09-05 06:23:48.580382 | Epoch: 9 | Train Loss: 112.487, Train Time: 2.68 [sec] | Valid Loss: 193.900, Valid Time: 0.68 [sec]\n",
      "2022-09-05 06:23:51.956044 | Epoch: 10 | Train Loss: 96.591, Train Time: 2.70 [sec] | Valid Loss: 198.364, Valid Time: 0.68 [sec]\n",
      "2022-09-05 06:23:55.323090 | Epoch: 11 | Train Loss: 86.343, Train Time: 2.69 [sec] | Valid Loss: 169.996, Valid Time: 0.68 [sec]\n",
      "2022-09-05 06:23:58.710550 | Epoch: 12 | Train Loss: 79.284, Train Time: 2.71 [sec] | Valid Loss: 179.731, Valid Time: 0.68 [sec]\n",
      "2022-09-05 06:24:02.102737 | Epoch: 13 | Train Loss: 74.537, Train Time: 2.71 [sec] | Valid Loss: 170.893, Valid Time: 0.68 [sec]\n",
      "2022-09-05 06:24:05.491254 | Epoch: 14 | Train Loss: 71.477, Train Time: 2.70 [sec] | Valid Loss: 153.708, Valid Time: 0.68 [sec]\n",
      "2022-09-05 06:24:08.882920 | Epoch: 15 | Train Loss: 67.534, Train Time: 2.71 [sec] | Valid Loss: 162.078, Valid Time: 0.68 [sec]\n",
      "2022-09-05 06:24:12.536740 | Epoch: 16 | Train Loss: 65.952, Train Time: 2.97 [sec] | Valid Loss: 144.013, Valid Time: 0.68 [sec]\n",
      "2022-09-05 06:24:15.951022 | Epoch: 17 | Train Loss: 64.283, Train Time: 2.73 [sec] | Valid Loss: 131.097, Valid Time: 0.69 [sec]\n",
      "2022-09-05 06:24:19.378845 | Epoch: 18 | Train Loss: 62.942, Train Time: 2.74 [sec] | Valid Loss: 144.689, Valid Time: 0.69 [sec]\n",
      "2022-09-05 06:24:22.819523 | Epoch: 19 | Train Loss: 61.747, Train Time: 2.76 [sec] | Valid Loss: 142.552, Valid Time: 0.68 [sec]\n",
      "2022-09-05 06:24:26.269785 | Epoch: 20 | Train Loss: 60.293, Train Time: 2.77 [sec] | Valid Loss: 152.647, Valid Time: 0.68 [sec]\n",
      "2022-09-05 06:24:29.717262 | Epoch: 21 | Train Loss: 59.685, Train Time: 2.76 [sec] | Valid Loss: 130.531, Valid Time: 0.68 [sec]\n",
      "2022-09-05 06:24:33.168222 | Epoch: 22 | Train Loss: 58.622, Train Time: 2.77 [sec] | Valid Loss: 121.872, Valid Time: 0.69 [sec]\n",
      "2022-09-05 06:24:36.632710 | Epoch: 23 | Train Loss: 58.236, Train Time: 2.78 [sec] | Valid Loss: 144.950, Valid Time: 0.69 [sec]\n",
      "2022-09-05 06:24:40.100238 | Epoch: 24 | Train Loss: 57.532, Train Time: 2.78 [sec] | Valid Loss: 126.257, Valid Time: 0.69 [sec]\n",
      "2022-09-05 06:24:43.571257 | Epoch: 25 | Train Loss: 57.019, Train Time: 2.78 [sec] | Valid Loss: 129.980, Valid Time: 0.69 [sec]\n",
      "2022-09-05 06:24:47.024935 | Epoch: 26 | Train Loss: 56.073, Train Time: 2.77 [sec] | Valid Loss: 121.932, Valid Time: 0.69 [sec]\n",
      "2022-09-05 06:24:50.729329 | Epoch: 27 | Train Loss: 55.755, Train Time: 3.02 [sec] | Valid Loss: 128.109, Valid Time: 0.69 [sec]\n",
      "2022-09-05 06:24:54.181249 | Epoch: 28 | Train Loss: 54.979, Train Time: 2.76 [sec] | Valid Loss: 119.287, Valid Time: 0.69 [sec]\n",
      "2022-09-05 06:24:57.630649 | Epoch: 29 | Train Loss: 54.677, Train Time: 2.76 [sec] | Valid Loss: 121.704, Valid Time: 0.68 [sec]\n",
      "2022-09-05 06:25:01.099730 | Epoch: 30 | Train Loss: 54.310, Train Time: 2.78 [sec] | Valid Loss: 129.128, Valid Time: 0.69 [sec]\n",
      "2022-09-05 06:25:04.563167 | Epoch: 31 | Train Loss: 54.105, Train Time: 2.78 [sec] | Valid Loss: 119.671, Valid Time: 0.69 [sec]\n",
      "2022-09-05 06:25:08.007884 | Epoch: 32 | Train Loss: 53.375, Train Time: 2.76 [sec] | Valid Loss: 122.666, Valid Time: 0.69 [sec]\n",
      "2022-09-05 06:25:11.457000 | Epoch: 33 | Train Loss: 52.694, Train Time: 2.76 [sec] | Valid Loss: 135.553, Valid Time: 0.69 [sec]\n",
      "2022-09-05 06:25:14.913211 | Epoch: 34 | Train Loss: 52.474, Train Time: 2.77 [sec] | Valid Loss: 118.084, Valid Time: 0.68 [sec]\n",
      "2022-09-05 06:25:18.390155 | Epoch: 35 | Train Loss: 52.539, Train Time: 2.79 [sec] | Valid Loss: 132.190, Valid Time: 0.68 [sec]\n",
      "2022-09-05 06:25:21.859137 | Epoch: 36 | Train Loss: 52.141, Train Time: 2.78 [sec] | Valid Loss: 128.638, Valid Time: 0.69 [sec]\n",
      "2022-09-05 06:25:25.323250 | Epoch: 37 | Train Loss: 51.752, Train Time: 2.78 [sec] | Valid Loss: 121.469, Valid Time: 0.69 [sec]\n",
      "2022-09-05 06:25:28.791994 | Epoch: 38 | Train Loss: 51.528, Train Time: 2.78 [sec] | Valid Loss: 122.273, Valid Time: 0.68 [sec]\n",
      "2022-09-05 06:25:32.522423 | Epoch: 39 | Train Loss: 50.830, Train Time: 3.04 [sec] | Valid Loss: 122.240, Valid Time: 0.69 [sec]\n",
      "2022-09-05 06:25:35.991214 | Epoch: 40 | Train Loss: 50.505, Train Time: 2.78 [sec] | Valid Loss: 125.642, Valid Time: 0.69 [sec]\n",
      "2022-09-05 06:25:39.461338 | Epoch: 41 | Train Loss: 50.277, Train Time: 2.78 [sec] | Valid Loss: 124.767, Valid Time: 0.69 [sec]\n",
      "2022-09-05 06:25:42.935723 | Epoch: 42 | Train Loss: 50.217, Train Time: 2.79 [sec] | Valid Loss: 110.767, Valid Time: 0.69 [sec]\n",
      "2022-09-05 06:25:46.397302 | Epoch: 43 | Train Loss: 50.227, Train Time: 2.78 [sec] | Valid Loss: 121.103, Valid Time: 0.69 [sec]\n",
      "2022-09-05 06:25:49.844480 | Epoch: 44 | Train Loss: 50.018, Train Time: 2.76 [sec] | Valid Loss: 139.136, Valid Time: 0.68 [sec]\n",
      "2022-09-05 06:25:53.304644 | Epoch: 45 | Train Loss: 49.609, Train Time: 2.77 [sec] | Valid Loss: 114.502, Valid Time: 0.69 [sec]\n",
      "2022-09-05 06:25:56.769487 | Epoch: 46 | Train Loss: 49.159, Train Time: 2.78 [sec] | Valid Loss: 133.529, Valid Time: 0.69 [sec]\n",
      "2022-09-05 06:26:00.232409 | Epoch: 47 | Train Loss: 48.928, Train Time: 2.78 [sec] | Valid Loss: 114.383, Valid Time: 0.69 [sec]\n",
      "2022-09-05 06:26:03.691993 | Epoch: 48 | Train Loss: 48.816, Train Time: 2.77 [sec] | Valid Loss: 117.570, Valid Time: 0.68 [sec]\n",
      "2022-09-05 06:26:07.157133 | Epoch: 49 | Train Loss: 48.749, Train Time: 2.78 [sec] | Valid Loss: 134.690, Valid Time: 0.69 [sec]\n",
      "2022-09-05 06:26:10.862064 | Epoch: 50 | Train Loss: 48.606, Train Time: 3.02 [sec] | Valid Loss: 119.103, Valid Time: 0.69 [sec]\n",
      "2022-09-05 06:26:14.324331 | Epoch: 51 | Train Loss: 48.455, Train Time: 2.78 [sec] | Valid Loss: 113.722, Valid Time: 0.68 [sec]\n",
      "2022-09-05 06:26:17.788703 | Epoch: 52 | Train Loss: 48.244, Train Time: 2.78 [sec] | Valid Loss: 118.717, Valid Time: 0.69 [sec]\n",
      "2022-09-05 06:26:21.254665 | Epoch: 53 | Train Loss: 47.922, Train Time: 2.78 [sec] | Valid Loss: 121.506, Valid Time: 0.69 [sec]\n",
      "2022-09-05 06:26:24.718697 | Epoch: 54 | Train Loss: 47.334, Train Time: 2.78 [sec] | Valid Loss: 115.955, Valid Time: 0.68 [sec]\n",
      "2022-09-05 06:26:28.184420 | Epoch: 55 | Train Loss: 47.201, Train Time: 2.78 [sec] | Valid Loss: 115.926, Valid Time: 0.69 [sec]\n",
      "2022-09-05 06:26:31.644040 | Epoch: 56 | Train Loss: 46.985, Train Time: 2.78 [sec] | Valid Loss: 115.782, Valid Time: 0.68 [sec]\n",
      "2022-09-05 06:26:35.121964 | Epoch: 57 | Train Loss: 46.748, Train Time: 2.79 [sec] | Valid Loss: 117.853, Valid Time: 0.68 [sec]\n",
      "2022-09-05 06:26:38.585259 | Epoch: 58 | Train Loss: 46.852, Train Time: 2.78 [sec] | Valid Loss: 112.681, Valid Time: 0.69 [sec]\n",
      "2022-09-05 06:26:42.048774 | Epoch: 59 | Train Loss: 46.518, Train Time: 2.78 [sec] | Valid Loss: 117.819, Valid Time: 0.69 [sec]\n",
      "2022-09-05 06:26:45.514422 | Epoch: 60 | Train Loss: 46.546, Train Time: 2.78 [sec] | Valid Loss: 126.910, Valid Time: 0.69 [sec]\n",
      "2022-09-05 06:26:49.219110 | Epoch: 61 | Train Loss: 46.079, Train Time: 3.02 [sec] | Valid Loss: 110.746, Valid Time: 0.69 [sec]\n",
      "2022-09-05 06:26:52.679842 | Epoch: 62 | Train Loss: 46.003, Train Time: 2.77 [sec] | Valid Loss: 118.821, Valid Time: 0.69 [sec]\n",
      "2022-09-05 06:26:56.147401 | Epoch: 63 | Train Loss: 45.906, Train Time: 2.78 [sec] | Valid Loss: 115.190, Valid Time: 0.69 [sec]\n",
      "2022-09-05 06:26:59.614024 | Epoch: 64 | Train Loss: 45.646, Train Time: 2.78 [sec] | Valid Loss: 112.158, Valid Time: 0.69 [sec]\n",
      "2022-09-05 06:27:03.070760 | Epoch: 65 | Train Loss: 45.582, Train Time: 2.77 [sec] | Valid Loss: 109.898, Valid Time: 0.68 [sec]\n",
      "2022-09-05 06:27:06.533394 | Epoch: 66 | Train Loss: 45.253, Train Time: 2.78 [sec] | Valid Loss: 114.578, Valid Time: 0.69 [sec]\n",
      "2022-09-05 06:27:10.000201 | Epoch: 67 | Train Loss: 44.948, Train Time: 2.78 [sec] | Valid Loss: 123.650, Valid Time: 0.69 [sec]\n",
      "2022-09-05 06:27:13.452003 | Epoch: 68 | Train Loss: 44.925, Train Time: 2.77 [sec] | Valid Loss: 114.616, Valid Time: 0.69 [sec]\n",
      "2022-09-05 06:27:16.900066 | Epoch: 69 | Train Loss: 44.739, Train Time: 2.76 [sec] | Valid Loss: 115.160, Valid Time: 0.69 [sec]\n",
      "2022-09-05 06:27:20.361749 | Epoch: 70 | Train Loss: 44.770, Train Time: 2.78 [sec] | Valid Loss: 115.368, Valid Time: 0.69 [sec]\n",
      "2022-09-05 06:27:23.826003 | Epoch: 71 | Train Loss: 45.150, Train Time: 2.78 [sec] | Valid Loss: 109.294, Valid Time: 0.69 [sec]\n",
      "2022-09-05 06:27:27.547052 | Epoch: 72 | Train Loss: 44.642, Train Time: 2.78 [sec] | Valid Loss: 136.966, Valid Time: 0.94 [sec]\n",
      "2022-09-05 06:27:31.010145 | Epoch: 73 | Train Loss: 44.243, Train Time: 2.78 [sec] | Valid Loss: 117.569, Valid Time: 0.69 [sec]\n",
      "2022-09-05 06:27:34.491119 | Epoch: 74 | Train Loss: 44.039, Train Time: 2.79 [sec] | Valid Loss: 115.053, Valid Time: 0.69 [sec]\n",
      "2022-09-05 06:27:37.982615 | Epoch: 75 | Train Loss: 44.175, Train Time: 2.80 [sec] | Valid Loss: 108.604, Valid Time: 0.69 [sec]\n",
      "2022-09-05 06:27:41.466444 | Epoch: 76 | Train Loss: 43.462, Train Time: 2.80 [sec] | Valid Loss: 108.629, Valid Time: 0.69 [sec]\n",
      "2022-09-05 06:27:44.948947 | Epoch: 77 | Train Loss: 43.400, Train Time: 2.80 [sec] | Valid Loss: 108.087, Valid Time: 0.69 [sec]\n",
      "2022-09-05 06:27:48.424636 | Epoch: 78 | Train Loss: 43.475, Train Time: 2.79 [sec] | Valid Loss: 109.347, Valid Time: 0.69 [sec]\n",
      "2022-09-05 06:27:51.904347 | Epoch: 79 | Train Loss: 43.391, Train Time: 2.79 [sec] | Valid Loss: 115.425, Valid Time: 0.68 [sec]\n",
      "2022-09-05 06:27:55.396520 | Epoch: 80 | Train Loss: 43.632, Train Time: 2.81 [sec] | Valid Loss: 111.135, Valid Time: 0.69 [sec]\n",
      "2022-09-05 06:27:58.905490 | Epoch: 81 | Train Loss: 42.969, Train Time: 2.82 [sec] | Valid Loss: 109.695, Valid Time: 0.69 [sec]\n",
      "2022-09-05 06:28:02.411073 | Epoch: 82 | Train Loss: 42.937, Train Time: 2.82 [sec] | Valid Loss: 109.057, Valid Time: 0.68 [sec]\n",
      "2022-09-05 06:28:05.902229 | Epoch: 83 | Train Loss: 42.824, Train Time: 2.80 [sec] | Valid Loss: 116.262, Valid Time: 0.69 [sec]\n",
      "2022-09-05 06:28:09.649651 | Epoch: 84 | Train Loss: 42.943, Train Time: 3.06 [sec] | Valid Loss: 116.023, Valid Time: 0.69 [sec]\n",
      "2022-09-05 06:28:13.145383 | Epoch: 85 | Train Loss: 42.241, Train Time: 2.81 [sec] | Valid Loss: 110.133, Valid Time: 0.69 [sec]\n",
      "2022-09-05 06:28:16.650985 | Epoch: 86 | Train Loss: 42.286, Train Time: 2.82 [sec] | Valid Loss: 108.315, Valid Time: 0.69 [sec]\n",
      "2022-09-05 06:28:20.142994 | Epoch: 87 | Train Loss: 42.522, Train Time: 2.81 [sec] | Valid Loss: 111.353, Valid Time: 0.69 [sec]\n",
      "2022-09-05 06:28:23.643367 | Epoch: 88 | Train Loss: 42.190, Train Time: 2.81 [sec] | Valid Loss: 110.377, Valid Time: 0.69 [sec]\n",
      "2022-09-05 06:28:27.114481 | Epoch: 89 | Train Loss: 41.843, Train Time: 2.78 [sec] | Valid Loss: 111.831, Valid Time: 0.69 [sec]\n",
      "2022-09-05 06:28:30.572385 | Epoch: 90 | Train Loss: 41.984, Train Time: 2.77 [sec] | Valid Loss: 116.687, Valid Time: 0.69 [sec]\n",
      "2022-09-05 06:28:34.026461 | Epoch: 91 | Train Loss: 41.706, Train Time: 2.76 [sec] | Valid Loss: 112.108, Valid Time: 0.69 [sec]\n",
      "2022-09-05 06:28:37.482697 | Epoch: 92 | Train Loss: 41.771, Train Time: 2.77 [sec] | Valid Loss: 114.500, Valid Time: 0.69 [sec]\n",
      "2022-09-05 06:28:40.926213 | Epoch: 93 | Train Loss: 41.475, Train Time: 2.76 [sec] | Valid Loss: 109.760, Valid Time: 0.69 [sec]\n",
      "2022-09-05 06:28:44.381687 | Epoch: 94 | Train Loss: 41.330, Train Time: 2.77 [sec] | Valid Loss: 108.511, Valid Time: 0.69 [sec]\n",
      "2022-09-05 06:28:48.068135 | Epoch: 95 | Train Loss: 41.631, Train Time: 3.00 [sec] | Valid Loss: 111.031, Valid Time: 0.68 [sec]\n",
      "2022-09-05 06:28:51.530260 | Epoch: 96 | Train Loss: 41.142, Train Time: 2.77 [sec] | Valid Loss: 112.892, Valid Time: 0.69 [sec]\n",
      "2022-09-05 06:28:54.989964 | Epoch: 97 | Train Loss: 40.964, Train Time: 2.78 [sec] | Valid Loss: 109.816, Valid Time: 0.68 [sec]\n",
      "2022-09-05 06:28:58.446606 | Epoch: 98 | Train Loss: 41.390, Train Time: 2.77 [sec] | Valid Loss: 114.125, Valid Time: 0.69 [sec]\n",
      "2022-09-05 06:29:01.901433 | Epoch: 99 | Train Loss: 40.941, Train Time: 2.77 [sec] | Valid Loss: 107.702, Valid Time: 0.69 [sec]\n",
      "2022-09-05 06:29:05.355847 | Epoch: 100 | Train Loss: 40.401, Train Time: 2.77 [sec] | Valid Loss: 108.031, Valid Time: 0.69 [sec]\n"
     ]
    }
   ],
   "source": [
    "train_losses, val_losses = \\\n",
    "    trainer.fit(train_loader, val_loader, n_epochs, log_steps=1)"
   ]
  },
  {
   "cell_type": "code",
   "execution_count": 307,
   "id": "e13fcaf5-9c86-4b04-8f67-f971b40e8055",
   "metadata": {},
   "outputs": [
    {
     "data": {
      "text/plain": [
       "107.70162891206287"
      ]
     },
     "execution_count": 307,
     "metadata": {},
     "output_type": "execute_result"
    }
   ],
   "source": [
    "min(trainer.val_losses)"
   ]
  },
  {
   "cell_type": "code",
   "execution_count": 30,
   "id": "fca1181b-4f25-4366-acd1-5ce41e8ff003",
   "metadata": {
    "collapsed": true,
    "jupyter": {
     "outputs_hidden": true
    },
    "tags": []
   },
   "outputs": [
    {
     "name": "stdout",
     "output_type": "stream",
     "text": [
      "2022-09-04 23:48:35.585764 | Epoch: 101 | Train Loss: 40.727, Train Time: 2.67 [sec] | Valid Loss: 105.945, Valid Time: 0.68 [sec]\n",
      "2022-09-04 23:48:38.937102 | Epoch: 102 | Train Loss: 40.492, Train Time: 2.68 [sec] | Valid Loss: 104.111, Valid Time: 0.67 [sec]\n",
      "2022-09-04 23:48:42.397274 | Epoch: 103 | Train Loss: 40.504, Train Time: 2.78 [sec] | Valid Loss: 115.650, Valid Time: 0.68 [sec]\n",
      "2022-09-04 23:48:45.764177 | Epoch: 104 | Train Loss: 40.209, Train Time: 2.69 [sec] | Valid Loss: 108.535, Valid Time: 0.68 [sec]\n",
      "2022-09-04 23:48:49.125531 | Epoch: 105 | Train Loss: 40.076, Train Time: 2.68 [sec] | Valid Loss: 104.427, Valid Time: 0.68 [sec]\n",
      "2022-09-04 23:48:52.494241 | Epoch: 106 | Train Loss: 40.134, Train Time: 2.69 [sec] | Valid Loss: 103.876, Valid Time: 0.68 [sec]\n",
      "2022-09-04 23:48:55.961409 | Epoch: 107 | Train Loss: 40.364, Train Time: 2.79 [sec] | Valid Loss: 106.695, Valid Time: 0.68 [sec]\n",
      "2022-09-04 23:48:59.345118 | Epoch: 108 | Train Loss: 40.085, Train Time: 2.70 [sec] | Valid Loss: 114.516, Valid Time: 0.68 [sec]\n",
      "2022-09-04 23:49:02.731396 | Epoch: 109 | Train Loss: 39.781, Train Time: 2.71 [sec] | Valid Loss: 107.848, Valid Time: 0.68 [sec]\n",
      "2022-09-04 23:49:06.135382 | Epoch: 110 | Train Loss: 39.679, Train Time: 2.72 [sec] | Valid Loss: 111.533, Valid Time: 0.68 [sec]\n",
      "2022-09-04 23:49:09.550596 | Epoch: 111 | Train Loss: 39.607, Train Time: 2.73 [sec] | Valid Loss: 112.100, Valid Time: 0.68 [sec]\n",
      "2022-09-04 23:49:13.040644 | Epoch: 112 | Train Loss: 39.432, Train Time: 2.81 [sec] | Valid Loss: 102.672, Valid Time: 0.68 [sec]\n",
      "2022-09-04 23:49:16.453157 | Epoch: 113 | Train Loss: 39.450, Train Time: 2.73 [sec] | Valid Loss: 111.406, Valid Time: 0.68 [sec]\n",
      "2022-09-04 23:49:19.868642 | Epoch: 114 | Train Loss: 39.488, Train Time: 2.73 [sec] | Valid Loss: 111.272, Valid Time: 0.68 [sec]\n",
      "2022-09-04 23:49:23.295177 | Epoch: 115 | Train Loss: 39.323, Train Time: 2.74 [sec] | Valid Loss: 116.512, Valid Time: 0.68 [sec]\n",
      "2022-09-04 23:49:26.802867 | Epoch: 116 | Train Loss: 39.173, Train Time: 2.83 [sec] | Valid Loss: 102.806, Valid Time: 0.68 [sec]\n",
      "2022-09-04 23:49:30.217102 | Epoch: 117 | Train Loss: 38.891, Train Time: 2.73 [sec] | Valid Loss: 105.346, Valid Time: 0.68 [sec]\n",
      "2022-09-04 23:49:33.653825 | Epoch: 118 | Train Loss: 38.880, Train Time: 2.75 [sec] | Valid Loss: 124.198, Valid Time: 0.68 [sec]\n",
      "2022-09-04 23:49:37.101588 | Epoch: 119 | Train Loss: 38.623, Train Time: 2.76 [sec] | Valid Loss: 106.291, Valid Time: 0.68 [sec]\n",
      "2022-09-04 23:49:40.615578 | Epoch: 120 | Train Loss: 38.897, Train Time: 2.83 [sec] | Valid Loss: 106.614, Valid Time: 0.68 [sec]\n",
      "2022-09-04 23:49:44.034543 | Epoch: 121 | Train Loss: 38.864, Train Time: 2.74 [sec] | Valid Loss: 112.530, Valid Time: 0.68 [sec]\n",
      "2022-09-04 23:49:47.458954 | Epoch: 122 | Train Loss: 38.519, Train Time: 2.74 [sec] | Valid Loss: 114.365, Valid Time: 0.68 [sec]\n",
      "2022-09-04 23:49:50.871926 | Epoch: 123 | Train Loss: 38.690, Train Time: 2.73 [sec] | Valid Loss: 111.717, Valid Time: 0.68 [sec]\n",
      "2022-09-04 23:49:54.319553 | Epoch: 124 | Train Loss: 38.261, Train Time: 2.76 [sec] | Valid Loss: 103.509, Valid Time: 0.68 [sec]\n",
      "2022-09-04 23:49:57.835682 | Epoch: 125 | Train Loss: 38.392, Train Time: 2.83 [sec] | Valid Loss: 104.267, Valid Time: 0.68 [sec]\n",
      "2022-09-04 23:50:01.274233 | Epoch: 126 | Train Loss: 38.264, Train Time: 2.76 [sec] | Valid Loss: 105.928, Valid Time: 0.68 [sec]\n",
      "2022-09-04 23:50:04.692234 | Epoch: 127 | Train Loss: 37.866, Train Time: 2.74 [sec] | Valid Loss: 109.849, Valid Time: 0.68 [sec]\n",
      "2022-09-04 23:50:08.135965 | Epoch: 128 | Train Loss: 37.828, Train Time: 2.76 [sec] | Valid Loss: 110.830, Valid Time: 0.68 [sec]\n",
      "2022-09-04 23:50:11.649835 | Epoch: 129 | Train Loss: 38.076, Train Time: 2.83 [sec] | Valid Loss: 102.605, Valid Time: 0.68 [sec]\n",
      "2022-09-04 23:50:15.100044 | Epoch: 130 | Train Loss: 37.836, Train Time: 2.77 [sec] | Valid Loss: 108.652, Valid Time: 0.68 [sec]\n",
      "2022-09-04 23:50:18.544512 | Epoch: 131 | Train Loss: 37.556, Train Time: 2.76 [sec] | Valid Loss: 108.427, Valid Time: 0.68 [sec]\n",
      "2022-09-04 23:50:21.990543 | Epoch: 132 | Train Loss: 37.730, Train Time: 2.76 [sec] | Valid Loss: 103.886, Valid Time: 0.68 [sec]\n",
      "2022-09-04 23:50:25.527973 | Epoch: 133 | Train Loss: 37.508, Train Time: 2.86 [sec] | Valid Loss: 103.450, Valid Time: 0.68 [sec]\n",
      "2022-09-04 23:50:28.977145 | Epoch: 134 | Train Loss: 38.307, Train Time: 2.77 [sec] | Valid Loss: 107.567, Valid Time: 0.68 [sec]\n",
      "2022-09-04 23:50:32.424469 | Epoch: 135 | Train Loss: 37.525, Train Time: 2.76 [sec] | Valid Loss: 110.786, Valid Time: 0.68 [sec]\n",
      "2022-09-04 23:50:35.859143 | Epoch: 136 | Train Loss: 37.338, Train Time: 2.75 [sec] | Valid Loss: 103.907, Valid Time: 0.68 [sec]\n",
      "2022-09-04 23:50:39.299516 | Epoch: 137 | Train Loss: 37.315, Train Time: 2.76 [sec] | Valid Loss: 107.536, Valid Time: 0.68 [sec]\n",
      "2022-09-04 23:50:42.819388 | Epoch: 138 | Train Loss: 36.951, Train Time: 2.84 [sec] | Valid Loss: 105.213, Valid Time: 0.68 [sec]\n",
      "2022-09-04 23:50:46.261108 | Epoch: 139 | Train Loss: 36.993, Train Time: 2.76 [sec] | Valid Loss: 117.721, Valid Time: 0.68 [sec]\n",
      "2022-09-04 23:50:49.691704 | Epoch: 140 | Train Loss: 37.077, Train Time: 2.75 [sec] | Valid Loss: 107.066, Valid Time: 0.68 [sec]\n",
      "2022-09-04 23:50:53.163095 | Epoch: 141 | Train Loss: 36.795, Train Time: 2.79 [sec] | Valid Loss: 102.889, Valid Time: 0.68 [sec]\n",
      "2022-09-04 23:50:56.704632 | Epoch: 142 | Train Loss: 36.949, Train Time: 2.86 [sec] | Valid Loss: 106.380, Valid Time: 0.68 [sec]\n",
      "2022-09-04 23:51:00.160401 | Epoch: 143 | Train Loss: 36.837, Train Time: 2.77 [sec] | Valid Loss: 104.153, Valid Time: 0.68 [sec]\n",
      "2022-09-04 23:51:03.637204 | Epoch: 144 | Train Loss: 36.790, Train Time: 2.79 [sec] | Valid Loss: 103.756, Valid Time: 0.68 [sec]\n",
      "2022-09-04 23:51:07.091637 | Epoch: 145 | Train Loss: 36.712, Train Time: 2.77 [sec] | Valid Loss: 109.200, Valid Time: 0.68 [sec]\n",
      "2022-09-04 23:51:10.657787 | Epoch: 146 | Train Loss: 36.571, Train Time: 2.89 [sec] | Valid Loss: 106.733, Valid Time: 0.68 [sec]\n",
      "2022-09-04 23:51:14.132251 | Epoch: 147 | Train Loss: 36.602, Train Time: 2.79 [sec] | Valid Loss: 107.145, Valid Time: 0.68 [sec]\n",
      "2022-09-04 23:51:17.608061 | Epoch: 148 | Train Loss: 36.504, Train Time: 2.79 [sec] | Valid Loss: 104.723, Valid Time: 0.68 [sec]\n",
      "2022-09-04 23:51:21.082498 | Epoch: 149 | Train Loss: 36.665, Train Time: 2.79 [sec] | Valid Loss: 113.522, Valid Time: 0.68 [sec]\n",
      "2022-09-04 23:51:24.554144 | Epoch: 150 | Train Loss: 36.416, Train Time: 2.79 [sec] | Valid Loss: 110.992, Valid Time: 0.68 [sec]\n"
     ]
    }
   ],
   "source": [
    "extra_epochs = 50\n",
    "\n",
    "train_losses, val_losses = \\\n",
    "    trainer.fit(train_loader, val_loader, extra_epochs, log_steps=1)"
   ]
  },
  {
   "cell_type": "markdown",
   "id": "7c733f3c-b51c-4525-ba65-c1aa2e189c8f",
   "metadata": {},
   "source": [
    "### 検索無し"
   ]
  },
  {
   "cell_type": "code",
   "execution_count": 306,
   "id": "eaf5d0e5-c0a1-41e9-8df4-1930be82386d",
   "metadata": {},
   "outputs": [],
   "source": [
    "batch_size = config.BATCH_SIZE\n",
    "\n",
    "g = torch.Generator()\n",
    "g.manual_seed(config.RANDOM_SEED)\n",
    "\n",
    "train_loader = torch.utils.data.DataLoader(dataset_train, batch_size=batch_size, shuffle=True, worker_init_fn=seed_worker, generator=g)\n",
    "val_loader = torch.utils.data.DataLoader(dataset_valid, batch_size=batch_size, shuffle=False)"
   ]
  },
  {
   "cell_type": "code",
   "execution_count": 308,
   "id": "11299da6-a388-40f2-a802-e3f69faa81dc",
   "metadata": {},
   "outputs": [],
   "source": [
    "# hyper parameters\n",
    "n_epochs = 100\n",
    "\n",
    "# path\n",
    "# model_name = 'without_search/EncDec'\n",
    "# log_path = f'./logs/{model_name}.log'\n",
    "model_name, log_path = None, None\n",
    "\n",
    "# model\n",
    "model = EncoderDecoder(include_search=False, bidirectional=True).to(device)\n",
    "optimizer = optim.Adam(model.parameters())\n",
    "loss_fn = nn.L1Loss()\n",
    "\n",
    "logger = Logger(fname=log_path)\n",
    "trainer = Trainer(model, optimizer, loss_fn, device=device, logger=logger, model_name=model_name)"
   ]
  },
  {
   "cell_type": "code",
   "execution_count": 309,
   "id": "4d6fa357-24e0-454b-b800-c29c9cb619dd",
   "metadata": {
    "tags": []
   },
   "outputs": [
    {
     "name": "stdout",
     "output_type": "stream",
     "text": [
      "2022-09-05 06:33:40.131892 | Epoch: 1 | Train Loss: 913.572, Train Time: 2.33 [sec] | Valid Loss: 927.593, Valid Time: 0.60 [sec]\n",
      "2022-09-05 06:33:43.072093 | Epoch: 2 | Train Loss: 814.452, Train Time: 2.34 [sec] | Valid Loss: 800.676, Valid Time: 0.60 [sec]\n",
      "2022-09-05 06:33:46.016408 | Epoch: 3 | Train Loss: 666.226, Train Time: 2.34 [sec] | Valid Loss: 652.874, Valid Time: 0.61 [sec]\n",
      "2022-09-05 06:33:48.966309 | Epoch: 4 | Train Loss: 525.133, Train Time: 2.34 [sec] | Valid Loss: 548.270, Valid Time: 0.60 [sec]\n",
      "2022-09-05 06:33:51.922026 | Epoch: 5 | Train Loss: 390.352, Train Time: 2.35 [sec] | Valid Loss: 415.864, Valid Time: 0.60 [sec]\n",
      "2022-09-05 06:33:55.132807 | Epoch: 6 | Train Loss: 273.678, Train Time: 2.60 [sec] | Valid Loss: 317.511, Valid Time: 0.61 [sec]\n",
      "2022-09-05 06:33:58.075417 | Epoch: 7 | Train Loss: 196.276, Train Time: 2.34 [sec] | Valid Loss: 258.479, Valid Time: 0.61 [sec]\n",
      "2022-09-05 06:34:01.026438 | Epoch: 8 | Train Loss: 149.963, Train Time: 2.34 [sec] | Valid Loss: 225.673, Valid Time: 0.61 [sec]\n",
      "2022-09-05 06:34:03.978915 | Epoch: 9 | Train Loss: 124.693, Train Time: 2.34 [sec] | Valid Loss: 202.182, Valid Time: 0.61 [sec]\n",
      "2022-09-05 06:34:06.928705 | Epoch: 10 | Train Loss: 106.885, Train Time: 2.34 [sec] | Valid Loss: 174.194, Valid Time: 0.61 [sec]\n",
      "2022-09-05 06:34:09.885855 | Epoch: 11 | Train Loss: 94.401, Train Time: 2.35 [sec] | Valid Loss: 164.368, Valid Time: 0.61 [sec]\n",
      "2022-09-05 06:34:12.846572 | Epoch: 12 | Train Loss: 87.198, Train Time: 2.35 [sec] | Valid Loss: 151.779, Valid Time: 0.61 [sec]\n",
      "2022-09-05 06:34:15.810320 | Epoch: 13 | Train Loss: 80.788, Train Time: 2.35 [sec] | Valid Loss: 216.356, Valid Time: 0.61 [sec]\n",
      "2022-09-05 06:34:18.782791 | Epoch: 14 | Train Loss: 76.840, Train Time: 2.36 [sec] | Valid Loss: 153.617, Valid Time: 0.61 [sec]\n",
      "2022-09-05 06:34:21.767801 | Epoch: 15 | Train Loss: 74.171, Train Time: 2.38 [sec] | Valid Loss: 132.259, Valid Time: 0.61 [sec]\n",
      "2022-09-05 06:34:24.757660 | Epoch: 16 | Train Loss: 71.973, Train Time: 2.38 [sec] | Valid Loss: 133.181, Valid Time: 0.61 [sec]\n",
      "2022-09-05 06:34:28.005760 | Epoch: 17 | Train Loss: 69.074, Train Time: 2.39 [sec] | Valid Loss: 132.156, Valid Time: 0.86 [sec]\n",
      "2022-09-05 06:34:31.001050 | Epoch: 18 | Train Loss: 68.201, Train Time: 2.39 [sec] | Valid Loss: 136.498, Valid Time: 0.61 [sec]\n",
      "2022-09-05 06:34:34.004823 | Epoch: 19 | Train Loss: 66.522, Train Time: 2.39 [sec] | Valid Loss: 153.526, Valid Time: 0.61 [sec]\n",
      "2022-09-05 06:34:37.010508 | Epoch: 20 | Train Loss: 65.795, Train Time: 2.39 [sec] | Valid Loss: 133.985, Valid Time: 0.61 [sec]\n",
      "2022-09-05 06:34:40.017543 | Epoch: 21 | Train Loss: 65.984, Train Time: 2.40 [sec] | Valid Loss: 123.026, Valid Time: 0.61 [sec]\n",
      "2022-09-05 06:34:43.049646 | Epoch: 22 | Train Loss: 64.225, Train Time: 2.42 [sec] | Valid Loss: 126.072, Valid Time: 0.61 [sec]\n",
      "2022-09-05 06:34:46.084695 | Epoch: 23 | Train Loss: 63.512, Train Time: 2.42 [sec] | Valid Loss: 126.471, Valid Time: 0.61 [sec]\n",
      "2022-09-05 06:34:49.121866 | Epoch: 24 | Train Loss: 62.386, Train Time: 2.42 [sec] | Valid Loss: 136.412, Valid Time: 0.61 [sec]\n",
      "2022-09-05 06:34:52.150222 | Epoch: 25 | Train Loss: 62.501, Train Time: 2.42 [sec] | Valid Loss: 135.999, Valid Time: 0.61 [sec]\n",
      "2022-09-05 06:34:55.189018 | Epoch: 26 | Train Loss: 61.361, Train Time: 2.43 [sec] | Valid Loss: 131.232, Valid Time: 0.61 [sec]\n",
      "2022-09-05 06:34:58.231997 | Epoch: 27 | Train Loss: 60.931, Train Time: 2.43 [sec] | Valid Loss: 127.089, Valid Time: 0.61 [sec]\n",
      "2022-09-05 06:35:01.273274 | Epoch: 28 | Train Loss: 60.488, Train Time: 2.43 [sec] | Valid Loss: 129.120, Valid Time: 0.61 [sec]\n",
      "2022-09-05 06:35:04.569711 | Epoch: 29 | Train Loss: 59.818, Train Time: 2.68 [sec] | Valid Loss: 135.769, Valid Time: 0.61 [sec]\n",
      "2022-09-05 06:35:07.613588 | Epoch: 30 | Train Loss: 60.171, Train Time: 2.43 [sec] | Valid Loss: 130.377, Valid Time: 0.61 [sec]\n",
      "2022-09-05 06:35:10.664054 | Epoch: 31 | Train Loss: 59.072, Train Time: 2.44 [sec] | Valid Loss: 158.720, Valid Time: 0.61 [sec]\n",
      "2022-09-05 06:35:13.709378 | Epoch: 32 | Train Loss: 59.167, Train Time: 2.43 [sec] | Valid Loss: 156.766, Valid Time: 0.61 [sec]\n",
      "2022-09-05 06:35:16.764198 | Epoch: 33 | Train Loss: 58.517, Train Time: 2.44 [sec] | Valid Loss: 122.293, Valid Time: 0.61 [sec]\n",
      "2022-09-05 06:35:19.818927 | Epoch: 34 | Train Loss: 57.838, Train Time: 2.44 [sec] | Valid Loss: 123.324, Valid Time: 0.61 [sec]\n",
      "2022-09-05 06:35:22.866154 | Epoch: 35 | Train Loss: 57.729, Train Time: 2.43 [sec] | Valid Loss: 135.785, Valid Time: 0.61 [sec]\n",
      "2022-09-05 06:35:25.918349 | Epoch: 36 | Train Loss: 57.212, Train Time: 2.44 [sec] | Valid Loss: 134.794, Valid Time: 0.61 [sec]\n",
      "2022-09-05 06:35:29.029096 | Epoch: 37 | Train Loss: 56.826, Train Time: 2.50 [sec] | Valid Loss: 120.568, Valid Time: 0.61 [sec]\n",
      "2022-09-05 06:35:32.132429 | Epoch: 38 | Train Loss: 57.276, Train Time: 2.49 [sec] | Valid Loss: 125.953, Valid Time: 0.61 [sec]\n",
      "2022-09-05 06:35:35.251795 | Epoch: 39 | Train Loss: 56.639, Train Time: 2.51 [sec] | Valid Loss: 125.464, Valid Time: 0.61 [sec]\n",
      "2022-09-05 06:35:38.630012 | Epoch: 40 | Train Loss: 56.056, Train Time: 2.76 [sec] | Valid Loss: 121.359, Valid Time: 0.61 [sec]\n",
      "2022-09-05 06:35:41.744981 | Epoch: 41 | Train Loss: 55.381, Train Time: 2.50 [sec] | Valid Loss: 131.795, Valid Time: 0.61 [sec]\n",
      "2022-09-05 06:35:44.869132 | Epoch: 42 | Train Loss: 55.407, Train Time: 2.51 [sec] | Valid Loss: 114.976, Valid Time: 0.61 [sec]\n",
      "2022-09-05 06:35:47.973887 | Epoch: 43 | Train Loss: 55.278, Train Time: 2.49 [sec] | Valid Loss: 129.108, Valid Time: 0.61 [sec]\n",
      "2022-09-05 06:35:51.075197 | Epoch: 44 | Train Loss: 55.498, Train Time: 2.49 [sec] | Valid Loss: 127.435, Valid Time: 0.61 [sec]\n",
      "2022-09-05 06:35:54.178755 | Epoch: 45 | Train Loss: 55.195, Train Time: 2.49 [sec] | Valid Loss: 116.876, Valid Time: 0.61 [sec]\n",
      "2022-09-05 06:35:57.278902 | Epoch: 46 | Train Loss: 54.511, Train Time: 2.49 [sec] | Valid Loss: 130.936, Valid Time: 0.61 [sec]\n",
      "2022-09-05 06:36:00.383845 | Epoch: 47 | Train Loss: 54.057, Train Time: 2.49 [sec] | Valid Loss: 126.425, Valid Time: 0.61 [sec]\n",
      "2022-09-05 06:36:03.491990 | Epoch: 48 | Train Loss: 53.663, Train Time: 2.50 [sec] | Valid Loss: 123.012, Valid Time: 0.61 [sec]\n",
      "2022-09-05 06:36:06.598768 | Epoch: 49 | Train Loss: 53.323, Train Time: 2.49 [sec] | Valid Loss: 118.518, Valid Time: 0.61 [sec]\n",
      "2022-09-05 06:36:09.701281 | Epoch: 50 | Train Loss: 53.616, Train Time: 2.49 [sec] | Valid Loss: 116.885, Valid Time: 0.61 [sec]\n",
      "2022-09-05 06:36:13.058724 | Epoch: 51 | Train Loss: 53.252, Train Time: 2.75 [sec] | Valid Loss: 114.093, Valid Time: 0.61 [sec]\n",
      "2022-09-05 06:36:16.176249 | Epoch: 52 | Train Loss: 52.878, Train Time: 2.51 [sec] | Valid Loss: 126.719, Valid Time: 0.61 [sec]\n",
      "2022-09-05 06:36:19.293867 | Epoch: 53 | Train Loss: 53.226, Train Time: 2.51 [sec] | Valid Loss: 127.602, Valid Time: 0.61 [sec]\n",
      "2022-09-05 06:36:22.407107 | Epoch: 54 | Train Loss: 52.993, Train Time: 2.50 [sec] | Valid Loss: 148.022, Valid Time: 0.61 [sec]\n",
      "2022-09-05 06:36:25.519982 | Epoch: 55 | Train Loss: 52.713, Train Time: 2.50 [sec] | Valid Loss: 115.931, Valid Time: 0.61 [sec]\n",
      "2022-09-05 06:36:28.639299 | Epoch: 56 | Train Loss: 52.014, Train Time: 2.51 [sec] | Valid Loss: 116.635, Valid Time: 0.61 [sec]\n",
      "2022-09-05 06:36:31.756800 | Epoch: 57 | Train Loss: 52.355, Train Time: 2.51 [sec] | Valid Loss: 118.279, Valid Time: 0.61 [sec]\n",
      "2022-09-05 06:36:34.875150 | Epoch: 58 | Train Loss: 51.583, Train Time: 2.50 [sec] | Valid Loss: 114.355, Valid Time: 0.61 [sec]\n",
      "2022-09-05 06:36:37.996755 | Epoch: 59 | Train Loss: 51.925, Train Time: 2.51 [sec] | Valid Loss: 113.413, Valid Time: 0.61 [sec]\n",
      "2022-09-05 06:36:41.108918 | Epoch: 60 | Train Loss: 51.678, Train Time: 2.50 [sec] | Valid Loss: 129.440, Valid Time: 0.61 [sec]\n",
      "2022-09-05 06:36:44.213543 | Epoch: 61 | Train Loss: 50.994, Train Time: 2.50 [sec] | Valid Loss: 112.883, Valid Time: 0.61 [sec]\n",
      "2022-09-05 06:36:47.576958 | Epoch: 62 | Train Loss: 51.205, Train Time: 2.50 [sec] | Valid Loss: 130.863, Valid Time: 0.87 [sec]\n",
      "2022-09-05 06:36:50.676352 | Epoch: 63 | Train Loss: 51.370, Train Time: 2.49 [sec] | Valid Loss: 113.512, Valid Time: 0.61 [sec]\n",
      "2022-09-05 06:36:53.780749 | Epoch: 64 | Train Loss: 51.430, Train Time: 2.49 [sec] | Valid Loss: 121.451, Valid Time: 0.61 [sec]\n",
      "2022-09-05 06:36:56.876225 | Epoch: 65 | Train Loss: 50.905, Train Time: 2.48 [sec] | Valid Loss: 113.183, Valid Time: 0.61 [sec]\n",
      "2022-09-05 06:36:59.985626 | Epoch: 66 | Train Loss: 50.203, Train Time: 2.50 [sec] | Valid Loss: 113.949, Valid Time: 0.61 [sec]\n",
      "2022-09-05 06:37:03.097547 | Epoch: 67 | Train Loss: 50.329, Train Time: 2.50 [sec] | Valid Loss: 115.373, Valid Time: 0.61 [sec]\n",
      "2022-09-05 06:37:06.208417 | Epoch: 68 | Train Loss: 49.880, Train Time: 2.50 [sec] | Valid Loss: 115.048, Valid Time: 0.61 [sec]\n",
      "2022-09-05 06:37:09.315649 | Epoch: 69 | Train Loss: 49.406, Train Time: 2.50 [sec] | Valid Loss: 114.773, Valid Time: 0.61 [sec]\n",
      "2022-09-05 06:37:12.425177 | Epoch: 70 | Train Loss: 50.045, Train Time: 2.50 [sec] | Valid Loss: 117.377, Valid Time: 0.61 [sec]\n",
      "2022-09-05 06:37:15.533629 | Epoch: 71 | Train Loss: 49.711, Train Time: 2.49 [sec] | Valid Loss: 112.364, Valid Time: 0.61 [sec]\n",
      "2022-09-05 06:37:18.644831 | Epoch: 72 | Train Loss: 49.600, Train Time: 2.50 [sec] | Valid Loss: 129.610, Valid Time: 0.61 [sec]\n",
      "2022-09-05 06:37:21.760485 | Epoch: 73 | Train Loss: 49.759, Train Time: 2.50 [sec] | Valid Loss: 112.102, Valid Time: 0.61 [sec]\n",
      "2022-09-05 06:37:25.120057 | Epoch: 74 | Train Loss: 48.916, Train Time: 2.75 [sec] | Valid Loss: 121.402, Valid Time: 0.61 [sec]\n",
      "2022-09-05 06:37:28.227117 | Epoch: 75 | Train Loss: 49.075, Train Time: 2.49 [sec] | Valid Loss: 113.498, Valid Time: 0.61 [sec]\n",
      "2022-09-05 06:37:31.344479 | Epoch: 76 | Train Loss: 48.770, Train Time: 2.50 [sec] | Valid Loss: 118.965, Valid Time: 0.61 [sec]\n",
      "2022-09-05 06:37:34.448283 | Epoch: 77 | Train Loss: 48.669, Train Time: 2.49 [sec] | Valid Loss: 113.588, Valid Time: 0.61 [sec]\n",
      "2022-09-05 06:37:37.549317 | Epoch: 78 | Train Loss: 48.950, Train Time: 2.49 [sec] | Valid Loss: 111.969, Valid Time: 0.61 [sec]\n",
      "2022-09-05 06:37:40.646833 | Epoch: 79 | Train Loss: 48.863, Train Time: 2.49 [sec] | Valid Loss: 112.657, Valid Time: 0.61 [sec]\n",
      "2022-09-05 06:37:43.748327 | Epoch: 80 | Train Loss: 48.397, Train Time: 2.49 [sec] | Valid Loss: 126.547, Valid Time: 0.61 [sec]\n",
      "2022-09-05 06:37:46.852016 | Epoch: 81 | Train Loss: 48.598, Train Time: 2.49 [sec] | Valid Loss: 126.419, Valid Time: 0.61 [sec]\n",
      "2022-09-05 06:37:49.959200 | Epoch: 82 | Train Loss: 48.460, Train Time: 2.50 [sec] | Valid Loss: 113.390, Valid Time: 0.61 [sec]\n",
      "2022-09-05 06:37:53.064944 | Epoch: 83 | Train Loss: 48.296, Train Time: 2.49 [sec] | Valid Loss: 125.304, Valid Time: 0.61 [sec]\n",
      "2022-09-05 06:37:56.172922 | Epoch: 84 | Train Loss: 47.889, Train Time: 2.49 [sec] | Valid Loss: 113.466, Valid Time: 0.61 [sec]\n",
      "2022-09-05 06:37:59.523868 | Epoch: 85 | Train Loss: 47.578, Train Time: 2.74 [sec] | Valid Loss: 118.399, Valid Time: 0.61 [sec]\n",
      "2022-09-05 06:38:02.627663 | Epoch: 86 | Train Loss: 47.626, Train Time: 2.49 [sec] | Valid Loss: 109.259, Valid Time: 0.61 [sec]\n",
      "2022-09-05 06:38:05.733636 | Epoch: 87 | Train Loss: 47.304, Train Time: 2.49 [sec] | Valid Loss: 111.512, Valid Time: 0.61 [sec]\n",
      "2022-09-05 06:38:08.836345 | Epoch: 88 | Train Loss: 47.554, Train Time: 2.49 [sec] | Valid Loss: 111.320, Valid Time: 0.61 [sec]\n",
      "2022-09-05 06:38:11.943191 | Epoch: 89 | Train Loss: 47.137, Train Time: 2.50 [sec] | Valid Loss: 117.003, Valid Time: 0.61 [sec]\n",
      "2022-09-05 06:38:15.046897 | Epoch: 90 | Train Loss: 47.031, Train Time: 2.49 [sec] | Valid Loss: 119.053, Valid Time: 0.61 [sec]\n",
      "2022-09-05 06:38:18.159098 | Epoch: 91 | Train Loss: 46.935, Train Time: 2.50 [sec] | Valid Loss: 120.066, Valid Time: 0.61 [sec]\n",
      "2022-09-05 06:38:21.267567 | Epoch: 92 | Train Loss: 47.071, Train Time: 2.50 [sec] | Valid Loss: 111.842, Valid Time: 0.61 [sec]\n",
      "2022-09-05 06:38:24.381413 | Epoch: 93 | Train Loss: 46.881, Train Time: 2.50 [sec] | Valid Loss: 118.574, Valid Time: 0.61 [sec]\n",
      "2022-09-05 06:38:27.491965 | Epoch: 94 | Train Loss: 46.486, Train Time: 2.50 [sec] | Valid Loss: 116.102, Valid Time: 0.61 [sec]\n",
      "2022-09-05 06:38:30.595320 | Epoch: 95 | Train Loss: 46.212, Train Time: 2.49 [sec] | Valid Loss: 121.825, Valid Time: 0.61 [sec]\n",
      "2022-09-05 06:38:33.946306 | Epoch: 96 | Train Loss: 47.126, Train Time: 2.74 [sec] | Valid Loss: 114.712, Valid Time: 0.61 [sec]\n",
      "2022-09-05 06:38:37.047435 | Epoch: 97 | Train Loss: 45.852, Train Time: 2.49 [sec] | Valid Loss: 116.364, Valid Time: 0.61 [sec]\n",
      "2022-09-05 06:38:40.145460 | Epoch: 98 | Train Loss: 45.939, Train Time: 2.49 [sec] | Valid Loss: 114.715, Valid Time: 0.61 [sec]\n",
      "2022-09-05 06:38:43.240295 | Epoch: 99 | Train Loss: 45.601, Train Time: 2.48 [sec] | Valid Loss: 114.312, Valid Time: 0.61 [sec]\n",
      "2022-09-05 06:38:46.340996 | Epoch: 100 | Train Loss: 45.576, Train Time: 2.49 [sec] | Valid Loss: 119.644, Valid Time: 0.61 [sec]\n"
     ]
    }
   ],
   "source": [
    "train_losses, val_losses = \\\n",
    "    trainer.fit(train_loader, val_loader, n_epochs, log_steps=1)"
   ]
  },
  {
   "cell_type": "code",
   "execution_count": 40,
   "id": "59e2c91c-1762-45bc-a679-02ac79ed51bb",
   "metadata": {},
   "outputs": [
    {
     "data": {
      "text/plain": [
       "111.96394075666156"
      ]
     },
     "execution_count": 40,
     "metadata": {},
     "output_type": "execute_result"
    }
   ],
   "source": [
    "min(trainer.val_losses)"
   ]
  },
  {
   "cell_type": "code",
   "execution_count": 39,
   "id": "09ce9635-1019-45e2-a911-77cbeee181c2",
   "metadata": {
    "collapsed": true,
    "jupyter": {
     "outputs_hidden": true
    },
    "tags": []
   },
   "outputs": [
    {
     "name": "stdout",
     "output_type": "stream",
     "text": [
      "2022-09-05 00:09:04.842521 | Epoch: 101 | Train Loss: 44.934, Train Time: 2.36 [sec] | Valid Loss: 116.677, Valid Time: 0.60 [sec]\n",
      "2022-09-05 00:09:07.870697 | Epoch: 102 | Train Loss: 44.608, Train Time: 2.43 [sec] | Valid Loss: 117.186, Valid Time: 0.60 [sec]\n",
      "2022-09-05 00:09:10.790990 | Epoch: 103 | Train Loss: 44.455, Train Time: 2.32 [sec] | Valid Loss: 116.610, Valid Time: 0.60 [sec]\n",
      "2022-09-05 00:09:13.715225 | Epoch: 104 | Train Loss: 44.470, Train Time: 2.32 [sec] | Valid Loss: 119.880, Valid Time: 0.60 [sec]\n",
      "2022-09-05 00:09:16.750895 | Epoch: 105 | Train Loss: 44.367, Train Time: 2.43 [sec] | Valid Loss: 132.535, Valid Time: 0.60 [sec]\n",
      "2022-09-05 00:09:19.682644 | Epoch: 106 | Train Loss: 44.910, Train Time: 2.33 [sec] | Valid Loss: 123.965, Valid Time: 0.60 [sec]\n",
      "2022-09-05 00:09:22.617766 | Epoch: 107 | Train Loss: 44.326, Train Time: 2.33 [sec] | Valid Loss: 121.662, Valid Time: 0.60 [sec]\n",
      "2022-09-05 00:09:25.665179 | Epoch: 108 | Train Loss: 43.885, Train Time: 2.45 [sec] | Valid Loss: 124.820, Valid Time: 0.60 [sec]\n",
      "2022-09-05 00:09:28.611865 | Epoch: 109 | Train Loss: 44.064, Train Time: 2.34 [sec] | Valid Loss: 123.976, Valid Time: 0.60 [sec]\n",
      "2022-09-05 00:09:31.556960 | Epoch: 110 | Train Loss: 43.897, Train Time: 2.34 [sec] | Valid Loss: 119.715, Valid Time: 0.60 [sec]\n",
      "2022-09-05 00:09:34.599067 | Epoch: 111 | Train Loss: 43.633, Train Time: 2.44 [sec] | Valid Loss: 119.262, Valid Time: 0.60 [sec]\n",
      "2022-09-05 00:09:37.533061 | Epoch: 112 | Train Loss: 43.859, Train Time: 2.33 [sec] | Valid Loss: 118.918, Valid Time: 0.60 [sec]\n",
      "2022-09-05 00:09:40.582210 | Epoch: 113 | Train Loss: 43.778, Train Time: 2.34 [sec] | Valid Loss: 118.742, Valid Time: 0.71 [sec]\n",
      "2022-09-05 00:09:43.522871 | Epoch: 114 | Train Loss: 43.777, Train Time: 2.34 [sec] | Valid Loss: 114.210, Valid Time: 0.60 [sec]\n",
      "2022-09-05 00:09:46.482153 | Epoch: 115 | Train Loss: 43.696, Train Time: 2.35 [sec] | Valid Loss: 123.692, Valid Time: 0.60 [sec]\n",
      "2022-09-05 00:09:49.557814 | Epoch: 116 | Train Loss: 43.641, Train Time: 2.47 [sec] | Valid Loss: 116.622, Valid Time: 0.61 [sec]\n",
      "2022-09-05 00:09:52.520405 | Epoch: 117 | Train Loss: 43.369, Train Time: 2.36 [sec] | Valid Loss: 119.303, Valid Time: 0.61 [sec]\n",
      "2022-09-05 00:09:55.488281 | Epoch: 118 | Train Loss: 43.092, Train Time: 2.36 [sec] | Valid Loss: 128.910, Valid Time: 0.61 [sec]\n",
      "2022-09-05 00:09:58.568608 | Epoch: 119 | Train Loss: 42.713, Train Time: 2.47 [sec] | Valid Loss: 121.422, Valid Time: 0.61 [sec]\n",
      "2022-09-05 00:10:01.552083 | Epoch: 120 | Train Loss: 42.811, Train Time: 2.38 [sec] | Valid Loss: 117.687, Valid Time: 0.61 [sec]\n",
      "2022-09-05 00:10:04.553064 | Epoch: 121 | Train Loss: 43.168, Train Time: 2.39 [sec] | Valid Loss: 120.109, Valid Time: 0.61 [sec]\n",
      "2022-09-05 00:10:07.678899 | Epoch: 122 | Train Loss: 42.908, Train Time: 2.52 [sec] | Valid Loss: 114.330, Valid Time: 0.61 [sec]\n",
      "2022-09-05 00:10:10.694326 | Epoch: 123 | Train Loss: 42.638, Train Time: 2.41 [sec] | Valid Loss: 113.757, Valid Time: 0.61 [sec]\n",
      "2022-09-05 00:10:13.831873 | Epoch: 124 | Train Loss: 42.772, Train Time: 2.41 [sec] | Valid Loss: 117.514, Valid Time: 0.72 [sec]\n",
      "2022-09-05 00:10:16.855646 | Epoch: 125 | Train Loss: 42.791, Train Time: 2.42 [sec] | Valid Loss: 114.594, Valid Time: 0.61 [sec]\n",
      "2022-09-05 00:10:19.884984 | Epoch: 126 | Train Loss: 43.127, Train Time: 2.42 [sec] | Valid Loss: 124.627, Valid Time: 0.61 [sec]\n",
      "2022-09-05 00:10:23.024026 | Epoch: 127 | Train Loss: 42.645, Train Time: 2.53 [sec] | Valid Loss: 118.556, Valid Time: 0.61 [sec]\n",
      "2022-09-05 00:10:26.048316 | Epoch: 128 | Train Loss: 42.303, Train Time: 2.42 [sec] | Valid Loss: 115.733, Valid Time: 0.61 [sec]\n",
      "2022-09-05 00:10:29.072804 | Epoch: 129 | Train Loss: 42.217, Train Time: 2.42 [sec] | Valid Loss: 114.177, Valid Time: 0.61 [sec]\n",
      "2022-09-05 00:10:32.202997 | Epoch: 130 | Train Loss: 42.292, Train Time: 2.52 [sec] | Valid Loss: 131.619, Valid Time: 0.61 [sec]\n",
      "2022-09-05 00:10:35.231376 | Epoch: 131 | Train Loss: 41.902, Train Time: 2.42 [sec] | Valid Loss: 123.171, Valid Time: 0.61 [sec]\n",
      "2022-09-05 00:10:38.259052 | Epoch: 132 | Train Loss: 41.563, Train Time: 2.42 [sec] | Valid Loss: 120.007, Valid Time: 0.61 [sec]\n",
      "2022-09-05 00:10:41.397066 | Epoch: 133 | Train Loss: 41.605, Train Time: 2.53 [sec] | Valid Loss: 119.977, Valid Time: 0.61 [sec]\n",
      "2022-09-05 00:10:44.415927 | Epoch: 134 | Train Loss: 41.874, Train Time: 2.41 [sec] | Valid Loss: 117.880, Valid Time: 0.61 [sec]\n",
      "2022-09-05 00:10:47.446967 | Epoch: 135 | Train Loss: 41.519, Train Time: 2.42 [sec] | Valid Loss: 117.298, Valid Time: 0.61 [sec]\n",
      "2022-09-05 00:10:50.587926 | Epoch: 136 | Train Loss: 41.756, Train Time: 2.53 [sec] | Valid Loss: 116.328, Valid Time: 0.61 [sec]\n",
      "2022-09-05 00:10:53.622329 | Epoch: 137 | Train Loss: 41.560, Train Time: 2.43 [sec] | Valid Loss: 126.555, Valid Time: 0.61 [sec]\n",
      "2022-09-05 00:10:56.762352 | Epoch: 138 | Train Loss: 41.570, Train Time: 2.42 [sec] | Valid Loss: 116.315, Valid Time: 0.72 [sec]\n",
      "2022-09-05 00:10:59.795471 | Epoch: 139 | Train Loss: 41.414, Train Time: 2.42 [sec] | Valid Loss: 126.261, Valid Time: 0.61 [sec]\n",
      "2022-09-05 00:11:02.825591 | Epoch: 140 | Train Loss: 41.374, Train Time: 2.42 [sec] | Valid Loss: 116.929, Valid Time: 0.61 [sec]\n",
      "2022-09-05 00:11:05.970128 | Epoch: 141 | Train Loss: 40.921, Train Time: 2.54 [sec] | Valid Loss: 116.641, Valid Time: 0.61 [sec]\n",
      "2022-09-05 00:11:09.001570 | Epoch: 142 | Train Loss: 41.441, Train Time: 2.42 [sec] | Valid Loss: 118.585, Valid Time: 0.61 [sec]\n",
      "2022-09-05 00:11:12.040309 | Epoch: 143 | Train Loss: 41.166, Train Time: 2.43 [sec] | Valid Loss: 116.322, Valid Time: 0.61 [sec]\n",
      "2022-09-05 00:11:15.212981 | Epoch: 144 | Train Loss: 40.821, Train Time: 2.57 [sec] | Valid Loss: 117.462, Valid Time: 0.61 [sec]\n",
      "2022-09-05 00:11:18.307427 | Epoch: 145 | Train Loss: 41.056, Train Time: 2.49 [sec] | Valid Loss: 114.608, Valid Time: 0.61 [sec]\n",
      "2022-09-05 00:11:21.395591 | Epoch: 146 | Train Loss: 41.152, Train Time: 2.48 [sec] | Valid Loss: 115.514, Valid Time: 0.61 [sec]\n",
      "2022-09-05 00:11:24.588514 | Epoch: 147 | Train Loss: 41.158, Train Time: 2.58 [sec] | Valid Loss: 113.816, Valid Time: 0.61 [sec]\n",
      "2022-09-05 00:11:27.677154 | Epoch: 148 | Train Loss: 41.003, Train Time: 2.48 [sec] | Valid Loss: 114.277, Valid Time: 0.61 [sec]\n",
      "2022-09-05 00:11:30.760241 | Epoch: 149 | Train Loss: 40.793, Train Time: 2.47 [sec] | Valid Loss: 120.958, Valid Time: 0.61 [sec]\n",
      "2022-09-05 00:11:33.957782 | Epoch: 150 | Train Loss: 40.518, Train Time: 2.59 [sec] | Valid Loss: 111.964, Valid Time: 0.61 [sec]\n"
     ]
    }
   ],
   "source": [
    "extra_epochs = 50\n",
    "\n",
    "train_losses, val_losses = \\\n",
    "    trainer.fit(train_loader, val_loader, extra_epochs, log_steps=1)"
   ]
  },
  {
   "cell_type": "markdown",
   "id": "95806d53-47b4-4009-b34f-c4706e0fb947",
   "metadata": {
    "tags": []
   },
   "source": [
    "### 学習曲線"
   ]
  },
  {
   "cell_type": "code",
   "execution_count": 41,
   "id": "afb674a8-cb27-4040-ae77-1b140045fe1c",
   "metadata": {
    "tags": []
   },
   "outputs": [
    {
     "data": {
      "image/png": "[encoded data removed]",
      "text/plain": [
       "<Figure size 504x360 with 1 Axes>"
      ]
     },
     "metadata": {
      "needs_background": "light"
     },
     "output_type": "display_data"
    }
   ],
   "source": [
    "fig, ax = plt.subplots(figsize=(7,5))\n",
    "ax.plot(range(len(trainer.train_losses)), trainer.train_losses)\n",
    "ax.plot(range(len(trainer.val_losses)), trainer.val_losses)\n",
    "plt.show()"
   ]
  },
  {
   "cell_type": "code",
   "execution_count": 430,
   "id": "313512b5-4c4d-48aa-ba0f-63c3d3e74035",
   "metadata": {},
   "outputs": [
    {
     "name": "stdout",
     "output_type": "stream",
     "text": [
      "78.99893493652344\n",
      "109.23197791689918\n"
     ]
    }
   ],
   "source": [
    "print(trainer.validate(train_loader))\n",
    "print(trainer.validate(val_loader))"
   ]
  },
  {
   "cell_type": "markdown",
   "id": "4849861c-36f1-4999-8a66-566bac30fc34",
   "metadata": {},
   "source": [
    "## 予測結果"
   ]
  },
  {
   "cell_type": "code",
   "execution_count": 227,
   "id": "7ecae45a-6d47-45a4-a85d-21ff4dad208a",
   "metadata": {},
   "outputs": [],
   "source": [
    "model_name = 'EncDec'"
   ]
  },
  {
   "cell_type": "code",
   "execution_count": 228,
   "id": "b5a0f628-db8a-4f43-8db2-cc780092a7d7",
   "metadata": {},
   "outputs": [
    {
     "data": {
      "text/plain": [
       "EncoderDecoder(\n",
       "  (encoder): Encoder(\n",
       "    (traffic_encoder): TrafficSearchEncoder(\n",
       "      (conv): Conv2d(1, 64, kernel_size=(7, 5), stride=(1, 1), padding=(3, 0), padding_mode=replicate)\n",
       "      (lstm): LSTM(64, 128, num_layers=2, batch_first=True, dropout=0.4, bidirectional=True)\n",
       "    )\n",
       "    (search_encoder): TrafficSearchEncoder(\n",
       "      (conv): Conv2d(1, 64, kernel_size=(7, 5), stride=(1, 1), padding=(3, 0), padding_mode=replicate)\n",
       "      (lstm): LSTM(64, 128, num_layers=2, batch_first=True, dropout=0.4, bidirectional=True)\n",
       "    )\n",
       "    (unspec_search_encoder): SearchUnspecEncoder(\n",
       "      (conv): Conv1d(1, 64, kernel_size=(5,), stride=(1,), padding_mode=replicate)\n",
       "      (dropout): Dropout(p=0.4, inplace=False)\n",
       "    )\n",
       "  )\n",
       "  (decoder): Decoder(\n",
       "    (traffic_decoder): TrafficDecoder(\n",
       "      (lstm): LSTM(1, 256, num_layers=2, batch_first=True, dropout=0.3)\n",
       "    )\n",
       "    (affine_decoder): AffineDecoder(\n",
       "      (datetime_embedding): CategoricalEmbedding(\n",
       "        (embedding): Embedding(288, 32)\n",
       "      )\n",
       "      (road_embedding): CategoricalEmbedding(\n",
       "        (embedding): Embedding(63, 16)\n",
       "      )\n",
       "      (fc1): Linear(in_features=624, out_features=32, bias=True)\n",
       "      (fc2): Linear(in_features=32, out_features=1, bias=True)\n",
       "      (emb_dropout): Dropout(p=0.4, inplace=False)\n",
       "    )\n",
       "  )\n",
       ")"
      ]
     },
     "execution_count": 228,
     "metadata": {},
     "output_type": "execute_result"
    }
   ],
   "source": [
    "model = EncoderDecoder().to(device=device)\n",
    "model.load_state_dict(torch.load(f'{config.MODEL_DIR}/{model_name}_77.pth'))\n",
    "model.eval()"
   ]
  },
  {
   "cell_type": "code",
   "execution_count": 229,
   "id": "8c54ec10-4c33-42d4-84d8-316396f0d9ce",
   "metadata": {},
   "outputs": [],
   "source": [
    "def pred_data_generator(X_test, y_test, time_step, prediction_horizon=24):\n",
    "    def create(zero_date, pred_start_date, pred_window, sec_id):\n",
    "        pred_start_ind = int((pd.Timestamp(pred_start_date) - pd.Timestamp(zero_date)).total_seconds() / (60 * 60))\n",
    "        pred_end_ind = pred_start_ind + pred_window\n",
    "\n",
    "        in_start_ind = pred_start_ind - prediction_horizon - time_step + 1\n",
    "        in_end_ind = pred_end_ind\n",
    "        \n",
    "        X_in = X_test[:, in_start_ind:in_end_ind, sec_id]\n",
    "        y_in = y_test[:, in_start_ind:in_end_ind, sec_id]\n",
    "        y_true = y_test[0, pred_start_ind:pred_end_ind, sec_id]\n",
    "        \n",
    "        return X_in, y_in, y_true\n",
    "    return create"
   ]
  },
  {
   "cell_type": "code",
   "execution_count": 230,
   "id": "f08cd02b-eb16-4544-897d-9f794f3ab1eb",
   "metadata": {},
   "outputs": [],
   "source": [
    "def predict(model, dataset, device=device):\n",
    "    model.eval()\n",
    "\n",
    "    with torch.no_grad():\n",
    "        data, _ = dataset[:]\n",
    "        if isinstance(data, (list, tuple)):\n",
    "            data = map(lambda x: x.to(device=device), data)\n",
    "        else:\n",
    "            data = data.to(device=device)\n",
    "        out = model.generate(data).detach().cpu()\n",
    "\n",
    "    return out"
   ]
  },
  {
   "cell_type": "code",
   "execution_count": 231,
   "id": "4ffe235f-3eb0-4a3d-97ce-5236c7f0eb67",
   "metadata": {},
   "outputs": [],
   "source": [
    "p_gen = pred_data_generator(X_va, y_va, time_step=time_step)\n",
    "zero_date = '2022/3/1'"
   ]
  },
  {
   "cell_type": "code",
   "execution_count": 232,
   "id": "f8dbb7c8-d71f-40de-bc2b-b3bf8d67369d",
   "metadata": {},
   "outputs": [],
   "source": [
    "pred_start_date = '2022/5/3'\n",
    "pred_window = 1 * 24\n",
    "\n",
    "X_in, y_in, y_true = p_gen(zero_date, pred_start_date, pred_window, sec_id=[34])\n",
    "dataset_test = STDataset(X_in, y_in, time_step=time_step, space_window=space_window)"
   ]
  },
  {
   "cell_type": "code",
   "execution_count": 233,
   "id": "a60df226-56fd-4784-8ec0-d991e0f67fcd",
   "metadata": {},
   "outputs": [],
   "source": [
    "out = predict(model, dataset_test)\n",
    "out = out.view(pred_window, -1)"
   ]
  },
  {
   "cell_type": "code",
   "execution_count": 234,
   "id": "1c566f7a-7594-4a0d-9b7c-4cf79de87c95",
   "metadata": {},
   "outputs": [
    {
     "name": "stdout",
     "output_type": "stream",
     "text": [
      "mae 709.0714721679688\n",
      "mape 0.36388394236564636\n"
     ]
    }
   ],
   "source": [
    "print('mae', abs(y_true - out).mean().item())\n",
    "print('mape', (abs(y_true - out) / y_true).mean().item())"
   ]
  },
  {
   "cell_type": "code",
   "execution_count": 235,
   "id": "87c6e29d-54f8-4a7c-9c3e-db55c0be132b",
   "metadata": {},
   "outputs": [
    {
     "data": {
      "image/png": "[encoded data removed]",
      "text/plain": [
       "<Figure size 720x360 with 1 Axes>"
      ]
     },
     "metadata": {
      "needs_background": "light"
     },
     "output_type": "display_data"
    }
   ],
   "source": [
    "plt.figure(figsize=(10,5))\n",
    "plt.plot(range(len(out)), out, label='predicted', color='tomato', lw=2)\n",
    "plt.plot(range(len(y_true)), y_true, label='true', color='gray')\n",
    "plt.xlabel('time step')\n",
    "plt.ylabel('# of cars')\n",
    "plt.title('2022/5/3')\n",
    "plt.legend()\n",
    "plt.grid()\n",
    "plt.show()"
   ]
  },
  {
   "cell_type": "code",
   "execution_count": 236,
   "id": "e62f1967-6c83-4eed-817c-46d576155c0f",
   "metadata": {},
   "outputs": [],
   "source": [
    "pred_start_date = '2022/5/14'\n",
    "pred_window = 1 * 24 \n",
    "\n",
    "X_in, y_in, y_true = p_gen(zero_date, pred_start_date, pred_window, sec_id=[34])\n",
    "dataset_test = STDataset(X_in, y_in, \n",
    "                         time_step=time_step,\n",
    "                         space_window=space_window)"
   ]
  },
  {
   "cell_type": "code",
   "execution_count": 237,
   "id": "957196b3-3e17-4fb7-a4dd-46b646691286",
   "metadata": {},
   "outputs": [],
   "source": [
    "out = predict(model, dataset_test)\n",
    "out = out.view(pred_window, -1)"
   ]
  },
  {
   "cell_type": "code",
   "execution_count": 238,
   "id": "3e1813c7-cb25-40d1-b2a0-042043a8e71c",
   "metadata": {},
   "outputs": [
    {
     "name": "stdout",
     "output_type": "stream",
     "text": [
      "mae 202.28700256347656\n",
      "mape 0.15008196234703064\n"
     ]
    }
   ],
   "source": [
    "print('mae', abs(y_true - out).mean().item())\n",
    "print('mape', (abs(y_true - out) / y_true).mean().item())"
   ]
  },
  {
   "cell_type": "code",
   "execution_count": 239,
   "id": "bdb1f379-23b2-4458-81f4-982d85f0a324",
   "metadata": {},
   "outputs": [
    {
     "data": {
      "image/png": "[encoded data removed]",
      "text/plain": [
       "<Figure size 720x360 with 1 Axes>"
      ]
     },
     "metadata": {
      "needs_background": "light"
     },
     "output_type": "display_data"
    }
   ],
   "source": [
    "plt.figure(figsize=(10,5))\n",
    "plt.plot(range(len(out)), out, label='predicted', color='tomato', lw=2)\n",
    "plt.plot(range(len(y_true)), y_true, label='true', color='gray')\n",
    "plt.xlabel('time step')\n",
    "plt.ylabel('# of cars')\n",
    "plt.title('2022/5/14')\n",
    "plt.legend()\n",
    "plt.grid()\n",
    "plt.show()"
   ]
  },
  {
   "cell_type": "code",
   "execution_count": 240,
   "id": "32d996ad-9152-4c11-b0ea-098678c74beb",
   "metadata": {},
   "outputs": [],
   "source": [
    "pred_start_date = '2022/5/11'\n",
    "pred_window = 1 * 24\n",
    "\n",
    "X_in, y_in, y_true = p_gen(zero_date, pred_start_date, pred_window, sec_id=[34])\n",
    "dataset_test = STDataset(X_in, y_in, \n",
    "                         time_step=time_step, \n",
    "                         space_window=space_window)"
   ]
  },
  {
   "cell_type": "code",
   "execution_count": 241,
   "id": "0356cef1-6f38-4c0e-b815-902f1156dbc0",
   "metadata": {},
   "outputs": [],
   "source": [
    "out = predict(model, dataset_test)\n",
    "out = out.view(pred_window, -1)"
   ]
  },
  {
   "cell_type": "code",
   "execution_count": 242,
   "id": "c11ee55b-c8b7-4e73-8e94-0e22f3fa0956",
   "metadata": {},
   "outputs": [
    {
     "name": "stdout",
     "output_type": "stream",
     "text": [
      "mae 340.6014709472656\n",
      "mape 0.21910633146762848\n"
     ]
    }
   ],
   "source": [
    "print('mae', abs(y_true - out).mean().item())\n",
    "print('mape', (abs(y_true - out) / y_true).mean().item())"
   ]
  },
  {
   "cell_type": "code",
   "execution_count": 243,
   "id": "ba5faacd-6e21-413c-86b1-82fdcd2fb8da",
   "metadata": {},
   "outputs": [
    {
     "data": {
      "image/png": "[encoded data removed]",
      "text/plain": [
       "<Figure size 720x360 with 1 Axes>"
      ]
     },
     "metadata": {
      "needs_background": "light"
     },
     "output_type": "display_data"
    }
   ],
   "source": [
    "plt.figure(figsize=(10,5))\n",
    "plt.plot(range(len(out)), out, label='predicted', color='tomato', lw=2)\n",
    "plt.plot(range(len(y_true)), y_true, label='true', color='gray')\n",
    "plt.title('2022/5/11')\n",
    "plt.legend()\n",
    "plt.grid()\n",
    "plt.show()"
   ]
  },
  {
   "cell_type": "markdown",
   "id": "c93691ac-4ca9-4ebb-a44d-2a6bb674fcc1",
   "metadata": {},
   "source": [
    "### GW"
   ]
  },
  {
   "cell_type": "code",
   "execution_count": 244,
   "id": "f2659b1a-3b70-42a3-b5f6-97ebe7162bbc",
   "metadata": {
    "tags": []
   },
   "outputs": [],
   "source": [
    "pred_start_date = '2022/4/29'\n",
    "pred_window = 9 * 24\n",
    "\n",
    "X_in, y_in, y_true = p_gen(zero_date, pred_start_date, pred_window, sec_id=[34])\n",
    "dataset_test = STDataset(X_in, y_in, \n",
    "                         time_step=time_step, \n",
    "                         space_window=space_window)"
   ]
  },
  {
   "cell_type": "code",
   "execution_count": 245,
   "id": "c9589189-c4a7-400a-a23d-831f69074efe",
   "metadata": {},
   "outputs": [],
   "source": [
    "out = predict(model, dataset_test)\n",
    "out = out.view(pred_window, -1)"
   ]
  },
  {
   "cell_type": "code",
   "execution_count": 246,
   "id": "88053229-0683-41c6-9659-0de65fee05cb",
   "metadata": {},
   "outputs": [
    {
     "name": "stdout",
     "output_type": "stream",
     "text": [
      "mae 378.5409851074219\n",
      "mape 0.20993874967098236\n"
     ]
    }
   ],
   "source": [
    "print('mae', abs(y_true - out).mean().item())\n",
    "print('mape', (abs(y_true - out) / y_true).mean().item())"
   ]
  },
  {
   "cell_type": "code",
   "execution_count": 247,
   "id": "3adc538e-71a2-4aff-bd8a-c3ebc172452b",
   "metadata": {},
   "outputs": [
    {
     "data": {
      "image/png": "[encoded data removed]",
      "text/plain": [
       "<Figure size 1080x360 with 1 Axes>"
      ]
     },
     "metadata": {
      "needs_background": "light"
     },
     "output_type": "display_data"
    }
   ],
   "source": [
    "plt.figure(figsize=(15,5))\n",
    "plt.plot(range(len(out)), out, label='predicted')\n",
    "plt.plot(range(len(y_true)), y_true, label='true')\n",
    "plt.legend()\n",
    "plt.grid()\n",
    "plt.show()"
   ]
  },
  {
   "cell_type": "markdown",
   "id": "4ba0c7ad-1fd2-4b14-b971-7a862d04c4d2",
   "metadata": {},
   "source": [
    "### 普通の1週間 (月~日)"
   ]
  },
  {
   "cell_type": "markdown",
   "id": "a9183cb4-dc56-4ed1-b48c-d9b1c3335582",
   "metadata": {},
   "source": [
    "#### 3月"
   ]
  },
  {
   "cell_type": "code",
   "execution_count": 112,
   "id": "b084ffb7-61cd-4b7d-8e61-dc3a6b8c0e32",
   "metadata": {},
   "outputs": [],
   "source": [
    "pred_start_date = '2022/3/21'\n",
    "pred_window = 7 * 24\n",
    "\n",
    "X_in, y_in, y_true = p_gen(zero_date, pred_start_date, pred_window, sec_id=[34])\n",
    "dataset_test = STDataset(X_in, y_in, \n",
    "                         time_step=time_step, \n",
    "                         space_window=space_window)"
   ]
  },
  {
   "cell_type": "code",
   "execution_count": 113,
   "id": "48e23537-e095-4f38-a04a-e412d6f031fe",
   "metadata": {},
   "outputs": [],
   "source": [
    "out = predict(model, dataset_test)\n",
    "out = out.view(pred_window, -1)"
   ]
  },
  {
   "cell_type": "code",
   "execution_count": 114,
   "id": "e64d3ed7-ea71-4986-8fdd-dd4600a4f408",
   "metadata": {},
   "outputs": [
    {
     "name": "stdout",
     "output_type": "stream",
     "text": [
      "mae 274.508056640625\n",
      "mape 0.16060082614421844\n"
     ]
    }
   ],
   "source": [
    "print('mae', abs(y_true - out).mean().item())\n",
    "print('mape', (abs(y_true - out) / y_true).mean().item())"
   ]
  },
  {
   "cell_type": "code",
   "execution_count": 115,
   "id": "3964736e-9e1b-4a74-a27e-c8f153d693b8",
   "metadata": {},
   "outputs": [
    {
     "data": {
      "image/png": "[encoded data removed]",
      "text/plain": [
       "<Figure size 1080x360 with 1 Axes>"
      ]
     },
     "metadata": {
      "needs_background": "light"
     },
     "output_type": "display_data"
    }
   ],
   "source": [
    "plt.figure(figsize=(15,5))\n",
    "plt.plot(range(len(out)), out, label='predicted')\n",
    "plt.plot(range(len(y_true)), y_true, label='true')\n",
    "plt.legend()\n",
    "plt.show()"
   ]
  },
  {
   "cell_type": "markdown",
   "id": "af5199d5-2347-477e-b63b-0df222caeb9a",
   "metadata": {},
   "source": [
    "#### 4月"
   ]
  },
  {
   "cell_type": "code",
   "execution_count": 116,
   "id": "bd50e4de-13fe-443f-93b2-6e29a3a0cc8e",
   "metadata": {},
   "outputs": [],
   "source": [
    "pred_start_date = '2022/4/4'\n",
    "pred_window = 7 * 24\n",
    "\n",
    "X_in, y_in, y_true = p_gen(zero_date, pred_start_date, pred_window, sec_id=[27])\n",
    "dataset_test = STDataset(X_in, y_in, \n",
    "                         time_step=time_step, \n",
    "                         space_window=space_window)"
   ]
  },
  {
   "cell_type": "code",
   "execution_count": 117,
   "id": "7f003cca-329d-4479-95e5-029c566ce262",
   "metadata": {},
   "outputs": [],
   "source": [
    "out = predict(model, dataset_test)\n",
    "out = out.view(pred_window, -1)"
   ]
  },
  {
   "cell_type": "code",
   "execution_count": 118,
   "id": "4f61a054-82bc-4a18-9e7c-f25035b26d3e",
   "metadata": {},
   "outputs": [
    {
     "name": "stdout",
     "output_type": "stream",
     "text": [
      "mae 252.14720153808594\n",
      "mape 0.15536610782146454\n"
     ]
    }
   ],
   "source": [
    "print('mae', abs(y_true - out).mean().item())\n",
    "print('mape', (abs(y_true - out) / y_true).mean().item())"
   ]
  },
  {
   "cell_type": "code",
   "execution_count": 120,
   "id": "ced0b93c-ee2e-43f6-8ac1-14d954265be8",
   "metadata": {},
   "outputs": [
    {
     "data": {
      "image/png": "[encoded data removed]",
      "text/plain": [
       "<Figure size 1080x360 with 1 Axes>"
      ]
     },
     "metadata": {
      "needs_background": "light"
     },
     "output_type": "display_data"
    }
   ],
   "source": [
    "plt.figure(figsize=(15,5))\n",
    "plt.plot(range(len(out)), out, label='predicted')\n",
    "plt.plot(range(len(y_true)), y_true, label='true')\n",
    "plt.legend()\n",
    "plt.show()"
   ]
  },
  {
   "cell_type": "markdown",
   "id": "15d7a4f6-c728-4892-a712-96888b234921",
   "metadata": {},
   "source": [
    "#### 5月"
   ]
  },
  {
   "cell_type": "code",
   "execution_count": 121,
   "id": "4cc0af9f-c780-4f6a-8225-77bcbfd25b89",
   "metadata": {},
   "outputs": [],
   "source": [
    "pred_start_date = '2022/5/23'\n",
    "pred_window = 7 * 24\n",
    "\n",
    "X_in, y_in, y_true = p_gen(zero_date, pred_start_date, pred_window, sec_id=[27])\n",
    "dataset_test = STDataset(X_in, y_in, \n",
    "                         time_step=time_step,\n",
    "                         space_window=space_window)"
   ]
  },
  {
   "cell_type": "code",
   "execution_count": 122,
   "id": "03be1c95-0a93-4586-a48a-c73d9136010d",
   "metadata": {},
   "outputs": [],
   "source": [
    "out = predict(model, dataset_test)\n",
    "out = out.view(pred_window, -1)"
   ]
  },
  {
   "cell_type": "code",
   "execution_count": 123,
   "id": "ff22f38f-ca03-4953-b0da-ba9df7783777",
   "metadata": {},
   "outputs": [
    {
     "name": "stdout",
     "output_type": "stream",
     "text": [
      "mae 267.24688720703125\n",
      "mape 0.15511812269687653\n"
     ]
    }
   ],
   "source": [
    "print('mae', abs(y_true - out).mean().item())\n",
    "print('mape', (abs(y_true - out) / y_true).mean().item())"
   ]
  },
  {
   "cell_type": "code",
   "execution_count": 124,
   "id": "63ac5705-9b77-4dc5-afcc-85002db197c5",
   "metadata": {},
   "outputs": [
    {
     "data": {
      "image/png": "[encoded data removed]",
      "text/plain": [
       "<Figure size 1080x360 with 1 Axes>"
      ]
     },
     "metadata": {
      "needs_background": "light"
     },
     "output_type": "display_data"
    }
   ],
   "source": [
    "plt.figure(figsize=(15,5))\n",
    "plt.plot(range(len(out)), out, label='predicted')\n",
    "plt.plot(range(len(y_true)), y_true, label='true')\n",
    "plt.legend()\n",
    "plt.show()"
   ]
  },
  {
   "cell_type": "code",
   "execution_count": null,
   "id": "5c2a7795-b450-4545-8863-548bfccc15c2",
   "metadata": {},
   "outputs": [],
   "source": []
  }
 ],
 "metadata": {
  "kernelspec": {
   "display_name": "Python 3 (ipykernel)",
   "language": "python",
   "name": "python3"
  },
  "language_info": {
   "codemirror_mode": {
    "name": "ipython",
    "version": 3
   },
   "file_extension": ".py",
   "mimetype": "text/x-python",
   "name": "python",
   "nbconvert_exporter": "python",
   "pygments_lexer": "ipython3",
   "version": "3.8.10"
  }
 },
 "nbformat": 4,
 "nbformat_minor": 5
}
