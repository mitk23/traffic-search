{
 "cells": [
  {
   "cell_type": "code",
   "execution_count": 1,
   "id": "85f9b686-4dee-4846-b006-9d3b39292662",
   "metadata": {},
   "outputs": [],
   "source": [
    "import datetime as dt\n",
    "import numpy as np\n",
    "import pandas as pd\n",
    "import matplotlib.pyplot as plt\n",
    "import seaborn as sns\n",
    "import tqdm\n",
    "\n",
    "import torch\n",
    "import torch.nn as nn\n",
    "import torch.nn.functional as F\n",
    "import torch.optim as optim"
   ]
  },
  {
   "cell_type": "code",
   "execution_count": 2,
   "id": "5a66af52-fa9b-44a1-8e3d-7c1ab733e773",
   "metadata": {},
   "outputs": [
    {
     "data": {
      "text/plain": [
       "device(type='cuda', index=1)"
      ]
     },
     "execution_count": 2,
     "metadata": {},
     "output_type": "execute_result"
    }
   ],
   "source": [
    "device = torch.device(\"cuda:1\" if torch.cuda.is_available() else \"cpu\")\n",
    "device"
   ]
  },
  {
   "cell_type": "code",
   "execution_count": 3,
   "id": "529b47c5-ece1-4061-b622-f0c26c9de6d1",
   "metadata": {},
   "outputs": [],
   "source": [
    "# 道路名\n",
    "# TARGET_ROAD='tateyama'\n",
    "TARGET_ROAD='kannetsu'\n",
    "\n",
    "# 交通量\n",
    "PROCESSED_DATA_DIR = '../Input_processed_data'\n",
    "TRAFFIC_DIR = f'{PROCESSED_DATA_DIR}/traffic'\n",
    "TRAFFIC_CSV = f'{TRAFFIC_DIR}/{TARGET_ROAD}_20220621all-merged_filled_15min.csv'"
   ]
  },
  {
   "cell_type": "code",
   "execution_count": 6,
   "id": "3b58e808-e64e-4d7d-836d-04fd532a1054",
   "metadata": {},
   "outputs": [
    {
     "name": "stderr",
     "output_type": "stream",
     "text": [
      "/tmp/ipykernel_704878/2438094643.py:1: DtypeWarning: Columns (44) have mixed types. Specify dtype option on import or set low_memory=False.\n",
      "  df = pd.read_csv(TRAFFIC_CSV, parse_dates=True, index_col='datetime',\n"
     ]
    }
   ],
   "source": [
    "df = pd.read_csv(TRAFFIC_CSV, parse_dates=True, index_col='datetime',\n",
    "                dtype={'start_code': str, 'end_code': str, 'road_code': str}).reset_index()"
   ]
  },
  {
   "cell_type": "code",
   "execution_count": 7,
   "id": "c81481f0-5c87-4aff-926f-7285d607613f",
   "metadata": {
    "tags": []
   },
   "outputs": [],
   "source": [
    "start_date='2021/5/1'\n",
    "end_date='2021/6/1'\n",
    "\n",
    "df_test = df.loc[(df['datetime'] >= pd.Timestamp(start_date)) & (df['datetime'] < pd.Timestamp(end_date))]\n",
    "df_test.reset_index(drop=True, inplace=True)"
   ]
  },
  {
   "cell_type": "code",
   "execution_count": 8,
   "id": "ef1cca7e-4c73-44bd-a62f-0f345247053a",
   "metadata": {},
   "outputs": [
    {
     "name": "stdout",
     "output_type": "stream",
     "text": [
      "<class 'pandas.core.frame.DataFrame'>\n",
      "RangeIndex: 187488 entries, 0 to 187487\n",
      "Data columns (total 52 columns):\n",
      " #   Column               Non-Null Count   Dtype         \n",
      "---  ------               --------------   -----         \n",
      " 0   datetime             187488 non-null  datetime64[ns]\n",
      " 1   index                187488 non-null  int64         \n",
      " 2   start_name           187488 non-null  object        \n",
      " 3   end_name             187488 non-null  object        \n",
      " 4   start_code           187488 non-null  object        \n",
      " 5   end_code             187488 non-null  object        \n",
      " 6   start_pref_code      187488 non-null  int64         \n",
      " 7   end_pref_code        187488 non-null  int64         \n",
      " 8   start_lat            187488 non-null  float64       \n",
      " 9   end_lat              187488 non-null  float64       \n",
      " 10  start_lng            187488 non-null  float64       \n",
      " 11  end_lng              187488 non-null  float64       \n",
      " 12  start_degree         187488 non-null  float64       \n",
      " 13  end_degree           187488 non-null  float64       \n",
      " 14  quarter              187488 non-null  object        \n",
      " 15  month                187488 non-null  int64         \n",
      " 16  day                  187488 non-null  int64         \n",
      " 17  dayofweek            187488 non-null  int64         \n",
      " 18  is_holiday           187488 non-null  int64         \n",
      " 19  hour                 187488 non-null  int64         \n",
      " 20  lane_count           187488 non-null  int64         \n",
      " 21  KP                   187488 non-null  float64       \n",
      " 22  direction            187488 non-null  object        \n",
      " 23  start_KP             187488 non-null  float64       \n",
      " 24  end_KP               187488 non-null  float64       \n",
      " 25  road_distance        187488 non-null  float64       \n",
      " 26  date                 187488 non-null  object        \n",
      " 27  pressure             187488 non-null  float64       \n",
      " 28  rainfall             187488 non-null  float64       \n",
      " 29  temperature          187488 non-null  float64       \n",
      " 30  humidity             187488 non-null  float64       \n",
      " 31  wind_speed           187488 non-null  float64       \n",
      " 32  daylight_hours       187488 non-null  float64       \n",
      " 33  snowfall             187488 non-null  float64       \n",
      " 34  deepest_snowfall     187488 non-null  float64       \n",
      " 35  weather_description  187488 non-null  object        \n",
      " 36  degree_sum           187488 non-null  float64       \n",
      " 37  limit_speed          187488 non-null  int64         \n",
      " 38  distance             187488 non-null  float64       \n",
      " 39  search_1h            187488 non-null  float64       \n",
      " 40  search_unspec_1d     187488 non-null  float64       \n",
      " 41  search_unspec_3d     187488 non-null  float64       \n",
      " 42  search_unspec_7d     187488 non-null  float64       \n",
      " 43  search_unspec_10d    187488 non-null  float64       \n",
      " 44  jam_type             803 non-null     object        \n",
      " 45  road_code            187488 non-null  object        \n",
      " 46  minute_quarter       187488 non-null  int64         \n",
      " 47  allCars              187488 non-null  float64       \n",
      " 48  jam_quantity         187488 non-null  int64         \n",
      " 49  search_15min         187488 non-null  float64       \n",
      " 50  OCC                  187488 non-null  float64       \n",
      " 51  speed                187403 non-null  float64       \n",
      "dtypes: datetime64[ns](1), float64(29), int64(12), object(10)\n",
      "memory usage: 74.4+ MB\n"
     ]
    }
   ],
   "source": [
    "df_test.info()"
   ]
  },
  {
   "cell_type": "code",
   "execution_count": 9,
   "id": "2898041e-0cc7-420f-9363-73a3edc61e7d",
   "metadata": {},
   "outputs": [],
   "source": [
    "def preprocess(df):\n",
    "    df['year'] = df['datetime'].dt.year\n",
    "    \n",
    "    df['jam_quantity'] = np.where(df['jam_quantity'] > 0, 1, 0)\n",
    "    \n",
    "    direction_map = {'上り': 0, '下り': 1}\n",
    "    df['direction'] = df['direction'].map(direction_map)\n",
    "    \n",
    "    df['quarter'] = df['quarter'].str[-1]\n",
    "    \n",
    "    drop_cols = ['road_code', 'weather_description', 'jam_type']\n",
    "    df.drop(drop_cols, axis=1, inplace=True)\n",
    "    \n",
    "    type_map = {\n",
    "        'direction': np.uint8,\n",
    "        'quarter': np.uint8,\n",
    "        'allCars': np.float32,\n",
    "        'speed': np.float32,\n",
    "        'jam_quantity': np.uint8,\n",
    "        'search_15min': int,\n",
    "        'search_1h': int,\n",
    "        'search_unspec_1d': int,\n",
    "        'search_unspec_3d': int,\n",
    "        'search_unspec_7d': int,\n",
    "        'search_unspec_10d': int,\n",
    "    }\n",
    "    df = df.astype(type_map)\n",
    "    \n",
    "    return df"
   ]
  },
  {
   "cell_type": "code",
   "execution_count": 10,
   "id": "9a480b6b-c458-4590-91b7-3452a081adc3",
   "metadata": {},
   "outputs": [],
   "source": [
    "df_test = preprocess(df_test.copy())"
   ]
  },
  {
   "cell_type": "code",
   "execution_count": 11,
   "id": "ff184931-4171-452e-990d-24704f99abc8",
   "metadata": {},
   "outputs": [
    {
     "name": "stdout",
     "output_type": "stream",
     "text": [
      "<class 'pandas.core.frame.DataFrame'>\n",
      "RangeIndex: 187488 entries, 0 to 187487\n",
      "Data columns (total 50 columns):\n",
      " #   Column             Non-Null Count   Dtype         \n",
      "---  ------             --------------   -----         \n",
      " 0   datetime           187488 non-null  datetime64[ns]\n",
      " 1   index              187488 non-null  int64         \n",
      " 2   start_name         187488 non-null  object        \n",
      " 3   end_name           187488 non-null  object        \n",
      " 4   start_code         187488 non-null  object        \n",
      " 5   end_code           187488 non-null  object        \n",
      " 6   start_pref_code    187488 non-null  int64         \n",
      " 7   end_pref_code      187488 non-null  int64         \n",
      " 8   start_lat          187488 non-null  float64       \n",
      " 9   end_lat            187488 non-null  float64       \n",
      " 10  start_lng          187488 non-null  float64       \n",
      " 11  end_lng            187488 non-null  float64       \n",
      " 12  start_degree       187488 non-null  float64       \n",
      " 13  end_degree         187488 non-null  float64       \n",
      " 14  quarter            187488 non-null  uint8         \n",
      " 15  month              187488 non-null  int64         \n",
      " 16  day                187488 non-null  int64         \n",
      " 17  dayofweek          187488 non-null  int64         \n",
      " 18  is_holiday         187488 non-null  int64         \n",
      " 19  hour               187488 non-null  int64         \n",
      " 20  lane_count         187488 non-null  int64         \n",
      " 21  KP                 187488 non-null  float64       \n",
      " 22  direction          187488 non-null  uint8         \n",
      " 23  start_KP           187488 non-null  float64       \n",
      " 24  end_KP             187488 non-null  float64       \n",
      " 25  road_distance      187488 non-null  float64       \n",
      " 26  date               187488 non-null  object        \n",
      " 27  pressure           187488 non-null  float64       \n",
      " 28  rainfall           187488 non-null  float64       \n",
      " 29  temperature        187488 non-null  float64       \n",
      " 30  humidity           187488 non-null  float64       \n",
      " 31  wind_speed         187488 non-null  float64       \n",
      " 32  daylight_hours     187488 non-null  float64       \n",
      " 33  snowfall           187488 non-null  float64       \n",
      " 34  deepest_snowfall   187488 non-null  float64       \n",
      " 35  degree_sum         187488 non-null  float64       \n",
      " 36  limit_speed        187488 non-null  int64         \n",
      " 37  distance           187488 non-null  float64       \n",
      " 38  search_1h          187488 non-null  int64         \n",
      " 39  search_unspec_1d   187488 non-null  int64         \n",
      " 40  search_unspec_3d   187488 non-null  int64         \n",
      " 41  search_unspec_7d   187488 non-null  int64         \n",
      " 42  search_unspec_10d  187488 non-null  int64         \n",
      " 43  minute_quarter     187488 non-null  int64         \n",
      " 44  allCars            187488 non-null  float32       \n",
      " 45  jam_quantity       187488 non-null  uint8         \n",
      " 46  search_15min       187488 non-null  int64         \n",
      " 47  OCC                187488 non-null  float64       \n",
      " 48  speed              187403 non-null  float32       \n",
      " 49  year               187488 non-null  int64         \n",
      "dtypes: datetime64[ns](1), float32(2), float64(21), int64(18), object(5), uint8(3)\n",
      "memory usage: 66.3+ MB\n"
     ]
    }
   ],
   "source": [
    "df_test.info()"
   ]
  },
  {
   "cell_type": "code",
   "execution_count": 12,
   "id": "692bbcac-4352-4bed-82b2-f2e11e2d39bd",
   "metadata": {},
   "outputs": [],
   "source": [
    "def fillna(df, col):\n",
    "    f = lambda gs: gs.interpolate(method='linear', axis=0)\n",
    "    df[col] = df.groupby(['start_code', 'end_code'])[col].apply(f)\n",
    "    return df"
   ]
  },
  {
   "cell_type": "code",
   "execution_count": 13,
   "id": "60933a1b-73ed-4d84-9b9d-64d202ac5452",
   "metadata": {},
   "outputs": [
    {
     "name": "stdout",
     "output_type": "stream",
     "text": [
      "<class 'pandas.core.frame.DataFrame'>\n",
      "RangeIndex: 187488 entries, 0 to 187487\n",
      "Data columns (total 50 columns):\n",
      " #   Column             Non-Null Count   Dtype         \n",
      "---  ------             --------------   -----         \n",
      " 0   datetime           187488 non-null  datetime64[ns]\n",
      " 1   index              187488 non-null  int64         \n",
      " 2   start_name         187488 non-null  object        \n",
      " 3   end_name           187488 non-null  object        \n",
      " 4   start_code         187488 non-null  object        \n",
      " 5   end_code           187488 non-null  object        \n",
      " 6   start_pref_code    187488 non-null  int64         \n",
      " 7   end_pref_code      187488 non-null  int64         \n",
      " 8   start_lat          187488 non-null  float64       \n",
      " 9   end_lat            187488 non-null  float64       \n",
      " 10  start_lng          187488 non-null  float64       \n",
      " 11  end_lng            187488 non-null  float64       \n",
      " 12  start_degree       187488 non-null  float64       \n",
      " 13  end_degree         187488 non-null  float64       \n",
      " 14  quarter            187488 non-null  uint8         \n",
      " 15  month              187488 non-null  int64         \n",
      " 16  day                187488 non-null  int64         \n",
      " 17  dayofweek          187488 non-null  int64         \n",
      " 18  is_holiday         187488 non-null  int64         \n",
      " 19  hour               187488 non-null  int64         \n",
      " 20  lane_count         187488 non-null  int64         \n",
      " 21  KP                 187488 non-null  float64       \n",
      " 22  direction          187488 non-null  uint8         \n",
      " 23  start_KP           187488 non-null  float64       \n",
      " 24  end_KP             187488 non-null  float64       \n",
      " 25  road_distance      187488 non-null  float64       \n",
      " 26  date               187488 non-null  object        \n",
      " 27  pressure           187488 non-null  float64       \n",
      " 28  rainfall           187488 non-null  float64       \n",
      " 29  temperature        187488 non-null  float64       \n",
      " 30  humidity           187488 non-null  float64       \n",
      " 31  wind_speed         187488 non-null  float64       \n",
      " 32  daylight_hours     187488 non-null  float64       \n",
      " 33  snowfall           187488 non-null  float64       \n",
      " 34  deepest_snowfall   187488 non-null  float64       \n",
      " 35  degree_sum         187488 non-null  float64       \n",
      " 36  limit_speed        187488 non-null  int64         \n",
      " 37  distance           187488 non-null  float64       \n",
      " 38  search_1h          187488 non-null  int64         \n",
      " 39  search_unspec_1d   187488 non-null  int64         \n",
      " 40  search_unspec_3d   187488 non-null  int64         \n",
      " 41  search_unspec_7d   187488 non-null  int64         \n",
      " 42  search_unspec_10d  187488 non-null  int64         \n",
      " 43  minute_quarter     187488 non-null  int64         \n",
      " 44  allCars            187488 non-null  float32       \n",
      " 45  jam_quantity       187488 non-null  uint8         \n",
      " 46  search_15min       187488 non-null  int64         \n",
      " 47  OCC                187488 non-null  float64       \n",
      " 48  speed              187488 non-null  float32       \n",
      " 49  year               187488 non-null  int64         \n",
      "dtypes: datetime64[ns](1), float32(2), float64(21), int64(18), object(5), uint8(3)\n",
      "memory usage: 66.3+ MB\n"
     ]
    }
   ],
   "source": [
    "df_test = fillna(df_test, 'speed')\n",
    "df_test.info()"
   ]
  },
  {
   "cell_type": "code",
   "execution_count": 19,
   "id": "0b39c58f-57dc-48c9-a557-0f5e71ead960",
   "metadata": {},
   "outputs": [],
   "source": [
    "usecols = ['hour', 'dayofweek', 'is_holiday', 'lane_count', 'allCars', 'speed', 'OCC', 'search_15min', 'search_1h', 'search_unspec_1d']\n",
    "target = 'jam_quantity'"
   ]
  },
  {
   "cell_type": "code",
   "execution_count": 20,
   "id": "dbce3814-436d-4547-a3fb-479f7fc14c0e",
   "metadata": {},
   "outputs": [],
   "source": [
    "df_X = df_test.loc[:, ['datetime', 'start_name', 'end_name'] + usecols]\n",
    "df_y = df_test.loc[:, target]\n",
    "\n",
    "df_X.sort_values('datetime', inplace=True)"
   ]
  },
  {
   "cell_type": "code",
   "execution_count": 21,
   "id": "e4c95e4f-08b3-4d08-8e43-08d08f5e3f3d",
   "metadata": {},
   "outputs": [
    {
     "name": "stdout",
     "output_type": "stream",
     "text": [
      "データ数（期間 x 区間数） x 特徴量数: (187488, 10)\n",
      "期間（15min x 31day）: 2976 (2976)\n",
      "区間数: 63\n"
     ]
    }
   ],
   "source": [
    "N_period = df_X.drop_duplicates(\"datetime\").shape[0]\n",
    "N_sec = df_X.drop_duplicates([\"start_name\", \"end_name\"]).shape[0]\n",
    "N, F = df_X.shape[0], len(usecols)\n",
    "\n",
    "print(f'データ数（期間 x 区間数） x 特徴量数: {(N, F)}')\n",
    "print(f'期間（15min x 31day）: {N_period} ({31 * 24 * 4})')\n",
    "print(f'区間数: {N_sec}')"
   ]
  },
  {
   "cell_type": "code",
   "execution_count": 22,
   "id": "f3123d82-b934-45f4-be75-603e8cd70e9a",
   "metadata": {},
   "outputs": [
    {
     "name": "stdout",
     "output_type": "stream",
     "text": [
      "(63, 2976, 10) (63, 2976)\n"
     ]
    }
   ],
   "source": [
    "X = np.empty((N_sec, N_period, F), dtype=np.float32)\n",
    "y = np.empty((N_sec, N_period), dtype=np.float32)\n",
    "\n",
    "print(X.shape, y.shape)"
   ]
  },
  {
   "cell_type": "code",
   "execution_count": 23,
   "id": "1174144f-e6b7-4b14-a513-239091d39383",
   "metadata": {},
   "outputs": [
    {
     "name": "stdout",
     "output_type": "stream",
     "text": [
      "(63, 2976, 10) (63, 2976)\n"
     ]
    }
   ],
   "source": [
    "group = df_test.groupby(['start_code', 'end_code'])\n",
    "for i, (g_key, df_g) in enumerate(group):\n",
    "    X[i] = df_g.loc[:, usecols].values\n",
    "    y[i] = df_g.loc[:, target].values\n",
    "\n",
    "print(X.shape, y.shape)"
   ]
  },
  {
   "cell_type": "code",
   "execution_count": 24,
   "id": "3ae885c7-444a-4ceb-be4c-2dc48a2248a0",
   "metadata": {},
   "outputs": [],
   "source": [
    "# 正規化\n",
    "mean = X.reshape(-1, F).mean(axis=0)\n",
    "std = X.reshape(-1, F).std(axis=0)\n",
    "\n",
    "X_norm = (X - mean) / std"
   ]
  },
  {
   "cell_type": "code",
   "execution_count": 25,
   "id": "0ae3bdf2-b682-49cf-bad4-efe91f223d89",
   "metadata": {},
   "outputs": [],
   "source": [
    "# A-B-C-D x 各区間10個ずつ\n",
    "batch_size = 2\n",
    "time_step = 3\n",
    "\n",
    "# AB0, AB1, AB2, ..., AB9\n",
    "# BC0, BC1, BC2, ..., BC9\n",
    "# CD0, CD1, CD2, ..., CD9\n",
    "\n",
    "# ABに限定するのであれば\n",
    "# [AB0, AB1, AB2], [AB1, AB2, AB3], ..., [AB7, AB8, AB9] -> 7個できる\n",
    "\n",
    "# バッチ数を区間数の倍数にすればいい？\n",
    "# [[AB0, AB1, AB2]\n",
    "# [BC0, BC1, BC2]\n",
    "# [CD0, CD1, CD2]]\n",
    "\n",
    "# 下みたいに区間に対応するラベルさえしっかり出力できるなら問題ない\n",
    "# [[AB0, AB1, AB2] -> AB3\n",
    "# [AB1, AB2, AB3] -> AB4\n",
    "# [AB5, AB6, AB7] -> AB8\n",
    "# [BC2, BC3, BC4] -> BC5\n",
    "# [BC7, BC8, BC9] -> BC10\n",
    "# [CD0, CD1, CD2]] -> CD3"
   ]
  },
  {
   "cell_type": "code",
   "execution_count": 28,
   "id": "d636d6b7-b897-4c86-b1a3-cfa44ea2b1b0",
   "metadata": {},
   "outputs": [
    {
     "name": "stdout",
     "output_type": "stream",
     "text": [
      "(63, 2380, 10) (63, 2380)\n",
      "(63, 596, 10) (63, 596)\n"
     ]
    }
   ],
   "source": [
    "train_ratio = 0.8\n",
    "ind_split = int(X_norm.shape[1] * train_ratio)\n",
    "X_train, X_val = X_norm[:, :ind_split], X_norm[:, ind_split:]\n",
    "y_train, y_val = y[:, :ind_split], y[:, ind_split:]\n",
    "\n",
    "print(X_train.shape, y_train.shape)\n",
    "print(X_val.shape, y_val.shape)"
   ]
  },
  {
   "cell_type": "code",
   "execution_count": 48,
   "id": "ebfa37b1-5392-4960-92b5-caa873f73718",
   "metadata": {},
   "outputs": [],
   "source": [
    "# LSTM用のtime step, 区間のstackの処理はdatasetに投げる\n",
    "# dataloaderはミニバッチに区切るだけ\n",
    "class LSTMData(torch.utils.data.Dataset):\n",
    "    def __init__(self, data_X, data_y, time_step):\n",
    "        X, y = self.__sliding_window(data_X, data_y, time_step)       \n",
    "        self.X = X\n",
    "        self.y = y\n",
    "        self.time_step = time_step\n",
    "\n",
    "        \n",
    "    def __len__(self):\n",
    "        return self.X.shape[0]\n",
    "\n",
    "\n",
    "    def __getitem__(self, index):\n",
    "        return self.X[index], self.y[index]\n",
    "\n",
    "    \n",
    "    def __sliding_window(self, data_X, data_y, time_step):\n",
    "        N_sections, N_periods, _ = data_X.shape\n",
    "        X = []\n",
    "        y = []\n",
    "        \n",
    "        for i in range(N_sections):\n",
    "            # 各区間ごとにtime step分だけ切り出す\n",
    "            for t in range(N_periods-time_step):\n",
    "                x_ = data_X[i, t:t+time_step]\n",
    "                y_ = data_y[i, t+time_step]\n",
    "                X.append(x_)\n",
    "                y.append(y_)\n",
    "        \n",
    "        X = torch.from_numpy(np.array(X, dtype=np.float32))\n",
    "        y = torch.from_numpy(np.array(y, dtype=np.uint8))\n",
    "        return X, y"
   ]
  },
  {
   "cell_type": "code",
   "execution_count": 30,
   "id": "43a17bfe-5110-4967-9810-f2b11c7bddfe",
   "metadata": {},
   "outputs": [],
   "source": [
    "class Net(nn.Module):\n",
    "    def __init__(self, input_dim, hidden_dim, output_dim, num_layers, batch_first=True):\n",
    "        super().__init__()\n",
    "        \n",
    "        self.input_dim = input_dim\n",
    "        self.hidden_dim = hidden_dim\n",
    "        self.output_dim = output_dim\n",
    "        self.num_layers = num_layers\n",
    "        \n",
    "        self.lstm = nn.LSTM(input_dim, hidden_dim, num_layers, batch_first=True)\n",
    "        self.fc = nn.Linear(hidden_dim, output_dim)\n",
    "    \n",
    "    def forward(self, x):\n",
    "        outs, (h, c) = self.lstm(x)\n",
    "        out = self.fc(h[0])\n",
    "        return out"
   ]
  },
  {
   "cell_type": "code",
   "execution_count": 51,
   "id": "b8d9c737-7283-4dc1-9425-a50759155593",
   "metadata": {},
   "outputs": [],
   "source": [
    "def train(n_epochs, optimizer, model, loss_fn, train_loader, val_loader):\n",
    "    model.train()\n",
    "    \n",
    "    train_losses = []\n",
    "    val_losses = []\n",
    "    \n",
    "    for epoch in range(1, n_epochs + 1):\n",
    "        train_loss = 0.0\n",
    "        val_loss = 0.0\n",
    "        \n",
    "        for data, target in train_loader:\n",
    "            data = data.to(device=device)\n",
    "            target = target.to(device=device)\n",
    "            \n",
    "            out = model(data)\n",
    "            \n",
    "            loss = loss_fn(out, target)\n",
    "            \n",
    "            optimizer.zero_grad()\n",
    "            loss.backward()\n",
    "            optimizer.step()\n",
    "            \n",
    "            train_loss += loss.item()\n",
    "            \n",
    "        with torch.no_grad():\n",
    "            for data, target in val_loader:\n",
    "                data = data.to(device=device)\n",
    "                target = target.to(device=device)\n",
    "\n",
    "                out = model(data)\n",
    "                loss = loss_fn(out, target)\n",
    "\n",
    "                val_loss += loss.item()\n",
    "        \n",
    "        train_losses.append(train_loss / len(train_loader))\n",
    "        val_losses.append(val_loss / len(val_loader))\n",
    "        \n",
    "        if epoch <= 3 or epoch % 50 == 0:\n",
    "            log = f'{dt.datetime.now()} | Epoch: {epoch}, Train Loss: {train_loss / len(train_loader)}, Valid Loss: {val_loss / len(val_loader)}'\n",
    "            print(log)\n",
    "            \n",
    "            with open('./logs_jam.txt', mode='a') as f:\n",
    "                f.write(log + '\\n')\n",
    "        \n",
    "    return train_losses, val_losses"
   ]
  },
  {
   "cell_type": "code",
   "execution_count": 52,
   "id": "d38b95f0-a275-4c54-96aa-64212e3d5f4a",
   "metadata": {},
   "outputs": [],
   "source": [
    "time_step = 12\n",
    "batch_size = 64\n",
    "\n",
    "dataset_train = LSTMData(X_train, y_train, time_step)\n",
    "dataset_valid = LSTMData(X_val, y_val, time_step)\n",
    "\n",
    "train_loader = torch.utils.data.DataLoader(dataset_train, batch_size=batch_size, shuffle=True)\n",
    "val_loader = torch.utils.data.DataLoader(dataset_valid, batch_size=batch_size, shuffle=False)"
   ]
  },
  {
   "cell_type": "code",
   "execution_count": 53,
   "id": "7100d936-bee1-4285-a69a-9b0f875d4d41",
   "metadata": {},
   "outputs": [
    {
     "name": "stdout",
     "output_type": "stream",
     "text": [
      "2022-07-21 17:49:42.817336 | Epoch: 1, Train Loss: 0.014042138176349146, Valid Loss: 0.006704302439194061\n",
      "2022-07-21 17:49:49.783694 | Epoch: 2, Train Loss: 0.008260724150650982, Valid Loss: 0.005993778709006342\n",
      "2022-07-21 17:49:56.754825 | Epoch: 3, Train Loss: 0.0077999682085283534, Valid Loss: 0.0060051832659543\n",
      "2022-07-21 18:00:51.906928 | Epoch: 100, Train Loss: 0.0005608973504087967, Valid Loss: 0.018378329794107754\n",
      "2022-07-21 18:06:31.590430 | Epoch: 150, Train Loss: 0.0004709791571400529, Valid Loss: 0.022369424873077703\n",
      "2022-07-21 18:12:07.366916 | Epoch: 200, Train Loss: 0.0007067382246639479, Valid Loss: 0.022633133532938218\n",
      "2022-07-21 18:17:43.184402 | Epoch: 250, Train Loss: 0.0003017610126834194, Valid Loss: 0.021393064902682713\n",
      "2022-07-21 18:23:18.768309 | Epoch: 300, Train Loss: 9.533357414327356e-05, Valid Loss: 0.02000047421523229\n",
      "2022-07-21 18:28:52.253990 | Epoch: 350, Train Loss: 0.0003104695155759381, Valid Loss: 0.02420411152802001\n",
      "2022-07-21 18:34:28.037443 | Epoch: 400, Train Loss: 4.87338948447906e-05, Valid Loss: 0.03211766269404461\n",
      "2022-07-21 18:40:11.348324 | Epoch: 450, Train Loss: 0.0001903253814830682, Valid Loss: 0.030522037264760785\n",
      "2022-07-21 18:45:49.320940 | Epoch: 500, Train Loss: 0.00017156005221584565, Valid Loss: 0.030361781735483373\n",
      "2022-07-21 18:51:25.331713 | Epoch: 550, Train Loss: 0.0004839035981639578, Valid Loss: 0.026328761542237244\n",
      "2022-07-21 18:57:03.842595 | Epoch: 600, Train Loss: 0.0004080045374476809, Valid Loss: 0.025822359816030933\n",
      "2022-07-21 19:02:40.697501 | Epoch: 650, Train Loss: 0.00013890862445981042, Valid Loss: 0.028600881781057744\n",
      "2022-07-21 19:08:17.438757 | Epoch: 700, Train Loss: 0.0004298587598600958, Valid Loss: 0.02342892560179363\n",
      "2022-07-21 19:13:53.032683 | Epoch: 750, Train Loss: 0.00041975949444279776, Valid Loss: 0.02629510127100786\n",
      "2022-07-21 19:19:28.475403 | Epoch: 800, Train Loss: 0.000210923191808584, Valid Loss: 0.025820218099065168\n",
      "2022-07-21 19:25:07.009057 | Epoch: 850, Train Loss: 0.000133189947176005, Valid Loss: 0.028380522952831905\n",
      "2022-07-21 19:30:44.750637 | Epoch: 900, Train Loss: 0.0002842562285669402, Valid Loss: 0.031546783233027995\n",
      "2022-07-21 19:36:23.752365 | Epoch: 950, Train Loss: 0.00023470394568444517, Valid Loss: 0.029785947539762592\n",
      "2022-07-21 19:41:59.453619 | Epoch: 1000, Train Loss: 0.0004292807751980403, Valid Loss: 0.0308616467067932\n",
      "2022-07-21 19:47:36.634063 | Epoch: 1050, Train Loss: 0.00014978507687972615, Valid Loss: 0.03308474493691357\n",
      "2022-07-21 19:53:14.483533 | Epoch: 1100, Train Loss: 0.00010012283585131004, Valid Loss: 0.0330345382504467\n",
      "2022-07-21 19:58:51.961199 | Epoch: 1150, Train Loss: 0.0003661734844378391, Valid Loss: 0.027739173429656556\n",
      "2022-07-21 20:04:28.074254 | Epoch: 1200, Train Loss: 0.00042871220861155087, Valid Loss: 0.030068172205322586\n",
      "2022-07-21 20:10:06.510936 | Epoch: 1250, Train Loss: 0.0002535624460607057, Valid Loss: 0.034673325186043956\n",
      "2022-07-21 20:15:47.630227 | Epoch: 1300, Train Loss: 0.00013682648367094598, Valid Loss: 0.0321720516903227\n",
      "2022-07-21 20:21:30.439400 | Epoch: 1350, Train Loss: 0.0006030698320962297, Valid Loss: 0.03323979153643106\n",
      "2022-07-21 20:27:13.515643 | Epoch: 1400, Train Loss: 0.00019863057277102697, Valid Loss: 0.026951288991737817\n",
      "2022-07-21 20:32:52.578741 | Epoch: 1450, Train Loss: 0.0005226216360532172, Valid Loss: 0.02762441004282695\n",
      "2022-07-21 20:38:32.012457 | Epoch: 1500, Train Loss: 0.0001241134933988766, Valid Loss: 0.03311297436159637\n",
      "2022-07-21 20:44:11.015180 | Epoch: 1550, Train Loss: 0.0006041129899317056, Valid Loss: 0.026330171141374842\n",
      "2022-07-21 20:49:49.518568 | Epoch: 1600, Train Loss: 9.76550274931114e-05, Valid Loss: 0.026660637106542668\n",
      "2022-07-21 20:55:26.830022 | Epoch: 1650, Train Loss: 0.0003239063596540306, Valid Loss: 0.024256897822644178\n",
      "2022-07-21 21:01:04.093851 | Epoch: 1700, Train Loss: 0.000727836386497076, Valid Loss: 0.027442132413951322\n",
      "2022-07-21 21:06:43.475648 | Epoch: 1750, Train Loss: 0.00032639939432530993, Valid Loss: 0.029267570220845727\n",
      "2022-07-21 21:12:22.665077 | Epoch: 1800, Train Loss: 0.00030934675509086923, Valid Loss: 0.029427537888046057\n",
      "2022-07-21 21:17:59.268383 | Epoch: 1850, Train Loss: 0.0003058874916123546, Valid Loss: 0.027322831413238567\n",
      "2022-07-21 21:23:37.935530 | Epoch: 1900, Train Loss: 8.870947830457411e-05, Valid Loss: 0.02737464567214048\n",
      "2022-07-21 21:29:15.330777 | Epoch: 1950, Train Loss: 0.0006806501488310025, Valid Loss: 0.02751814228955515\n",
      "2022-07-21 21:34:50.858861 | Epoch: 2000, Train Loss: 0.0001486264226640973, Valid Loss: 0.03243178334430755\n",
      "2022-07-21 21:40:28.476826 | Epoch: 2050, Train Loss: 0.0006872156166459263, Valid Loss: 0.027829080684612387\n",
      "2022-07-21 21:46:04.363545 | Epoch: 2100, Train Loss: 0.0002311878212749433, Valid Loss: 0.026267246295639618\n",
      "2022-07-21 21:51:42.090018 | Epoch: 2150, Train Loss: 0.00041080770120332903, Valid Loss: 0.021100644260741493\n",
      "2022-07-21 21:57:26.130991 | Epoch: 2200, Train Loss: 0.0003132942195745933, Valid Loss: 0.023617838578412664\n",
      "2022-07-21 22:03:07.153689 | Epoch: 2250, Train Loss: 0.00037022491029055544, Valid Loss: 0.026893430163330873\n",
      "2022-07-21 22:08:46.041016 | Epoch: 2300, Train Loss: 0.00047055719607130576, Valid Loss: 0.024959542642642624\n",
      "2022-07-21 22:14:24.793268 | Epoch: 2350, Train Loss: 0.000666888206156978, Valid Loss: 0.02521388098159598\n",
      "2022-07-21 22:20:03.564944 | Epoch: 2400, Train Loss: 0.0010102661721952525, Valid Loss: 0.023092692213390643\n",
      "2022-07-21 22:25:44.558070 | Epoch: 2450, Train Loss: 0.0008562421943751873, Valid Loss: 0.016516029771313234\n",
      "2022-07-21 22:31:23.013628 | Epoch: 2500, Train Loss: 0.0006972859301058025, Valid Loss: 0.019080368745131186\n",
      "2022-07-21 22:36:59.210650 | Epoch: 2550, Train Loss: 0.000695410485507059, Valid Loss: 0.01952251572568364\n",
      "2022-07-21 22:42:36.863071 | Epoch: 2600, Train Loss: 0.00048149602883477987, Valid Loss: 0.02011093518572569\n",
      "2022-07-21 22:48:15.232489 | Epoch: 2650, Train Loss: 0.0005076163169783621, Valid Loss: 0.0209685646136375\n",
      "2022-07-21 22:53:52.526642 | Epoch: 2700, Train Loss: 0.00047449161840097096, Valid Loss: 0.022533089923740528\n",
      "2022-07-21 22:59:29.249222 | Epoch: 2750, Train Loss: 0.0008103965264322542, Valid Loss: 0.01774030499949563\n",
      "2022-07-21 23:05:06.497986 | Epoch: 2800, Train Loss: 0.0010005213351154578, Valid Loss: 0.018113581128864655\n",
      "2022-07-21 23:10:44.604013 | Epoch: 2850, Train Loss: 0.0008625697837272784, Valid Loss: 0.0210386963501304\n",
      "2022-07-21 23:16:21.525331 | Epoch: 2900, Train Loss: 0.0006396313296506529, Valid Loss: 0.020239610330242252\n",
      "2022-07-21 23:21:56.597456 | Epoch: 2950, Train Loss: 0.000481845862956275, Valid Loss: 0.022135769245386988\n",
      "2022-07-21 23:27:35.174394 | Epoch: 3000, Train Loss: 0.0007874439645184556, Valid Loss: 0.021513161462366044\n"
     ]
    }
   ],
   "source": [
    "n_epochs = 3000\n",
    "input_dim = X_train.shape[-1]\n",
    "hidden_dim = 100\n",
    "out_dim = 2\n",
    "num_layers = 1\n",
    "\n",
    "model = Net(input_dim, hidden_dim, out_dim, num_layers).to(device=device)\n",
    "optimizer = optim.Adam(model.parameters())\n",
    "\n",
    "loss_fn = nn.CrossEntropyLoss()\n",
    "\n",
    "train_losses, val_losses = train(n_epochs, optimizer, model, loss_fn, train_loader, val_loader)"
   ]
  },
  {
   "cell_type": "code",
   "execution_count": 70,
   "id": "afb674a8-cb27-4040-ae77-1b140045fe1c",
   "metadata": {},
   "outputs": [
    {
     "data": {
      "image/png": "[encoded data removed]",
      "text/plain": [
       "<Figure size 504x360 with 1 Axes>"
      ]
     },
     "metadata": {
      "needs_background": "light"
     },
     "output_type": "display_data"
    }
   ],
   "source": [
    "fig, ax = plt.subplots(figsize=(7,5))\n",
    "ax.plot(range(len(train_losses)), train_losses)\n",
    "ax.plot(range(len(val_losses)), val_losses)\n",
    "plt.show()"
   ]
  },
  {
   "cell_type": "code",
   "execution_count": 66,
   "id": "68f4f16d-3e93-484d-b179-9a9c440f909c",
   "metadata": {},
   "outputs": [],
   "source": [
    "def validate(model, train_loader, val_loader):\n",
    "    model.eval()\n",
    "    \n",
    "    loss_dict = {\n",
    "        'train': [],\n",
    "        'valid': []\n",
    "    }\n",
    "    for name, loader in [('train', train_loader), ('valid', val_loader)]:    \n",
    "        with torch.no_grad():\n",
    "            tp, fp, fn, tn = 0, 0, 0, 0\n",
    "            total = 0\n",
    "            \n",
    "            for data, target in loader:\n",
    "                data = data.to(device=device)\n",
    "                target = target.to(device=device)\n",
    "                \n",
    "                out = model(data)\n",
    "                _, predicted = torch.max(out, dim=1)\n",
    "                _tp = ((predicted == 1) & (target == 1)).sum()\n",
    "                _fp = ((predicted == 1) & (target == 0)).sum()\n",
    "                _fn = ((predicted == 0) & (target == 1)).sum()\n",
    "                _tn = ((predicted == 0) & (target == 0)).sum()\n",
    "                \n",
    "                total += target.shape[0]\n",
    "                # correct += (target == predicted).sum()\n",
    "                tp += _tp\n",
    "                fp += _fp\n",
    "                fn += _fn\n",
    "                tn += _tn\n",
    "                \n",
    "                loss = loss_fn(out, target)\n",
    "                loss_dict[name].append(loss.item())\n",
    "            \n",
    "            acc = (tp + tn) / total\n",
    "            precision = tp / (tp + fp)\n",
    "            recall = tp / (tp + fn)\n",
    "            f1 = 2 * precision * recall / (precision + recall)\n",
    "            \n",
    "            print(f'{name} Accuracy: {acc:.3f}')\n",
    "            print(f'{name} Precision: {precision:.3f}')\n",
    "            print(f'{name} Recall: {recall:.3f}')\n",
    "            print(f'{name} f1: {f1:.3f}')\n",
    "    return loss_dict"
   ]
  },
  {
   "cell_type": "code",
   "execution_count": 65,
   "id": "313512b5-4c4d-48aa-ba0f-63c3d3e74035",
   "metadata": {},
   "outputs": [
    {
     "name": "stdout",
     "output_type": "stream",
     "text": [
      "train Accuracy: 1.000\n",
      "train Precision: 0.992\n",
      "train Recall: 0.989\n",
      "train f1: 0.990\n",
      "valid Accuracy: 0.998\n",
      "valid Precision: 0.652\n",
      "valid Recall: 0.469\n",
      "valid f1: 0.545\n"
     ]
    }
   ],
   "source": [
    "loss_dict = validate(model, train_loader, val_loader)"
   ]
  },
  {
   "cell_type": "code",
   "execution_count": 83,
   "id": "6e1396a4-e8ad-48f4-95b6-30bfc862fc4a",
   "metadata": {},
   "outputs": [
    {
     "name": "stdout",
     "output_type": "stream",
     "text": [
      "tensor([[-0.9403,  0.9315,  1.1769, -0.0476,  2.5836, -1.9690,  2.5864,  3.5268,\n",
      "          4.6305,  2.7856],\n",
      "        [-0.7957,  0.9315,  1.1769, -0.0476,  2.6572, -3.0978,  2.8593,  7.7675,\n",
      "          5.7147,  2.7856],\n",
      "        [-0.7957,  0.9315,  1.1769, -0.0476,  3.7302, -4.7100,  4.7699,  4.1792,\n",
      "          5.7147,  2.7856],\n",
      "        [-0.7957,  0.9315,  1.1769, -0.0476,  3.5460, -4.2918,  4.3605,  8.3112,\n",
      "          5.7147,  2.7856],\n",
      "        [-0.7957,  0.9315,  1.1769, -0.0476,  3.7440, -6.6003,  6.1345,  2.6569,\n",
      "          5.7147,  2.7856],\n",
      "        [-0.6510,  0.9315,  1.1769, -0.0476,  3.4263, -3.8699,  3.9511,  5.0491,\n",
      "          4.6924,  2.7856],\n",
      "        [-0.6510,  0.9315,  1.1769, -0.0476,  3.6013, -4.5119,  4.3605,  2.8744,\n",
      "          4.6924,  2.7856],\n",
      "        [-0.6510,  0.9315,  1.1769, -0.0476,  3.1868, -3.0149,  3.4052,  4.8317,\n",
      "          4.6924,  2.7856],\n",
      "        [-0.6510,  0.9315,  1.1769, -0.0476,  3.5690, -3.5150,  3.9511,  5.9190,\n",
      "          4.6924,  2.7856],\n",
      "        [-0.5063,  0.9315,  1.1769, -0.0476,  3.3250, -4.7268,  4.3605,  8.5287,\n",
      "          6.6750,  2.7856],\n",
      "        [-0.5063,  0.9315,  1.1769, -0.0476,  3.3848, -3.2579,  3.4052,  6.6802,\n",
      "          6.6750,  2.7856],\n",
      "        [-0.5063,  0.9315,  1.1769, -0.0476,  3.3204, -3.5574,  3.6781,  7.0064,\n",
      "          6.6750,  2.7856]])\n",
      "tensor([-1.4234,  1.7245], device='cuda:1')\n"
     ]
    }
   ],
   "source": [
    "with torch.no_grad():\n",
    "    for data, target in dataset_train:\n",
    "        if target == 1:\n",
    "            break\n",
    "    \n",
    "    out = model(data.to(device=device))\n",
    "    print(data)\n",
    "    print(out)"
   ]
  },
  {
   "cell_type": "code",
   "execution_count": null,
   "id": "ee121aa1-8a38-4b2d-a219-b6eb806a507e",
   "metadata": {},
   "outputs": [],
   "source": []
  }
 ],
 "metadata": {
  "kernelspec": {
   "display_name": "Python 3 (ipykernel)",
   "language": "python",
   "name": "python3"
  },
  "language_info": {
   "codemirror_mode": {
    "name": "ipython",
    "version": 3
   },
   "file_extension": ".py",
   "mimetype": "text/x-python",
   "name": "python",
   "nbconvert_exporter": "python",
   "pygments_lexer": "ipython3",
   "version": "3.8.10"
  }
 },
 "nbformat": 4,
 "nbformat_minor": 5
}
