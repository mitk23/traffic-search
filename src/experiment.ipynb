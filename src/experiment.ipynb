{
 "cells": [
  {
   "cell_type": "markdown",
   "id": "0720eb6c-8010-46c7-ad4f-69b1daa730a9",
   "metadata": {
    "tags": []
   },
   "source": [
    "# experiment procedure\n",
    "this notebook describes the procedure of the experiment shown in the paper, and to reproduce the result.\n",
    "\n",
    "TODO\n",
    "- predict.py"
   ]
  },
  {
   "cell_type": "markdown",
   "id": "6c357b00-02cb-4032-9c09-d5f4403fe082",
   "metadata": {},
   "source": [
    "### Input\n",
    "\n",
    "preprocessed table data \n",
    "stored in pickle format and containing the following columns (declared in `config.py`)\n",
    "- `datetime_id`: one-dimensional integer ID of datetime information\n",
    "- `road_id`: one-dimensional interger ID of road information\n",
    "- `search_1h`: Time-specified Search Count at one-hour interval\n",
    "- `search_unspec_1d`: Non-Time-specified Search Count at one-day interval\n",
    "- `allCars`: traffic volume at one-hour interval"
   ]
  },
  {
   "cell_type": "markdown",
   "id": "df35a433-55c7-435f-b60e-03d79a1f3097",
   "metadata": {},
   "source": [
    "## 0. preprocess raw traffic data, and create a dataset in pickle format"
   ]
  },
  {
   "cell_type": "code",
   "execution_count": 1,
   "id": "202982e8-fb6f-41e7-b78e-7c57ac019df1",
   "metadata": {
    "tags": []
   },
   "outputs": [],
   "source": [
    "# !python3.9 df_preprocess.py ./datasets_1h/all.pkl -s 2021/4/2 -e 2022/6/1\n",
    "# !python3.9 df_preprocess.py ./datasets_1h/mini.pkl -s 2021/4/2 -e 2021/6/1"
   ]
  },
  {
   "cell_type": "markdown",
   "id": "d43a0e9b-14b1-434c-8de6-2aa603db4727",
   "metadata": {
    "tags": []
   },
   "source": [
    "## 1. format and standardize the input into spatio-temporal dataset\n",
    "- represent the tabular input as a tensor ($D \\times T \\times S$)\n",
    "    - $D$: number of features\n",
    "    - $T$: time series length\n",
    "    - $S$: number of road segments on E17"
   ]
  },
  {
   "cell_type": "code",
   "execution_count": 2,
   "id": "05a11189-91f1-4c84-9cbf-60ce78f95e2a",
   "metadata": {},
   "outputs": [
    {
     "name": "stdout",
     "output_type": "stream",
     "text": [
      "usage: transformer.py [-h] [-s] [-v] [--scaler_path SCALER_PATH]\n",
      "                      input_path output_feature_path output_label_path\n",
      "\n",
      "positional arguments:\n",
      "  input_path            path of dataframe pickle\n",
      "  output_feature_path   path of dataframe pickle\n",
      "  output_label_path     path of dataframe pickle\n",
      "\n",
      "optional arguments:\n",
      "  -h, --help            show this help message and exit\n",
      "  -s, --scale           whether to standardize data\n",
      "  -v, --valid           set the scaler to validation mode (default: train)\n",
      "  --scaler_path SCALER_PATH\n",
      "                        path to save scaler\n"
     ]
    }
   ],
   "source": [
    "!python3.9 transformer.py -h"
   ]
  },
  {
   "cell_type": "code",
   "execution_count": 3,
   "id": "678e4fa5-582f-4b42-a377-2925b5236e7e",
   "metadata": {},
   "outputs": [],
   "source": [
    "# !python3.9 transformer.py -s <train data> --scaler_path <scaler file> <tensor file of standardized train features> <tensor file of train labels>\n",
    "# !python3.9 transformer.py -s -v <test data> --scaler_path <scaler file> <tensor file of standardized test features> <tensor file of test labels>"
   ]
  },
  {
   "cell_type": "markdown",
   "id": "8d41aa92-6edb-4ee7-940c-990101e90046",
   "metadata": {
    "tags": []
   },
   "source": [
    "## 2. training models"
   ]
  },
  {
   "cell_type": "code",
   "execution_count": 4,
   "id": "94070eac-05ee-4fba-a093-0d9df25825dc",
   "metadata": {},
   "outputs": [
    {
     "name": "stdout",
     "output_type": "stream",
     "text": [
      "usage: train.py [-h] [-e EPOCH] [-d {cpu,cuda,cuda:0,cuda:1,cuda:2,cuda:3}]\n",
      "                [--model_name MODEL_NAME] [--log_path LOG_PATH]\n",
      "                [--log_steps LOG_STEPS] [--background] [-r RANDOM_STATE]\n",
      "                [--lstm_dropout LSTM_DROPOUT]\n",
      "                {T-ED,ST-ED,TE-ED,STE-ED,STE-ED-S}\n",
      "\n",
      "positional arguments:\n",
      "  {T-ED,ST-ED,TE-ED,STE-ED,STE-ED-S}\n",
      "                        training model\n",
      "\n",
      "optional arguments:\n",
      "  -h, --help            show this help message and exit\n",
      "  -e EPOCH, --epoch EPOCH\n",
      "                        number of epochs\n",
      "  -d {cpu,cuda,cuda:0,cuda:1,cuda:2,cuda:3}, --device {cpu,cuda,cuda:0,cuda:1,cuda:2,cuda:3}\n",
      "                        device on which training and inference are run\n",
      "  --model_name MODEL_NAME\n",
      "                        file name of saved model's parameter\n",
      "  --log_path LOG_PATH   file name of model training log\n",
      "  --log_steps LOG_STEPS\n",
      "                        step size between epochs to output training logs\n",
      "  --background          whether to output log to file only, or to stdout as\n",
      "                        well\n",
      "  -r RANDOM_STATE, --random_state RANDOM_STATE\n",
      "                        seed of random number generator\n",
      "  --lstm_dropout LSTM_DROPOUT\n",
      "                        dropout ratio between LSTM\n"
     ]
    }
   ],
   "source": [
    "!python3.9 train.py -h"
   ]
  },
  {
   "cell_type": "markdown",
   "id": "1126927e-0ed5-4108-b10b-ec48c36467cf",
   "metadata": {
    "tags": []
   },
   "source": [
    "### 2.1 STE-ED-S"
   ]
  },
  {
   "cell_type": "code",
   "execution_count": 10,
   "id": "4e05c72b-d290-4573-8319-6cdd2516e878",
   "metadata": {
    "tags": []
   },
   "outputs": [],
   "source": [
    "# !python3.9 train.py STE-ED-S -d cuda:3 -e 1 -r 1000"
   ]
  },
  {
   "cell_type": "markdown",
   "id": "7c733f3c-b51c-4525-ba65-c1aa2e189c8f",
   "metadata": {
    "tags": []
   },
   "source": [
    "### 2.2 other DNNs"
   ]
  },
  {
   "cell_type": "code",
   "execution_count": 6,
   "id": "bee550d5-85b7-4a2a-a32d-1daba8998967",
   "metadata": {
    "tags": []
   },
   "outputs": [],
   "source": [
    "# !python3.9 train.py T-ED -d cuda:3 -e 10 -r 1000"
   ]
  },
  {
   "cell_type": "markdown",
   "id": "34280d1f-402d-4416-8eba-2a29836ab7e1",
   "metadata": {},
   "source": [
    "### 2.3 classical baselines"
   ]
  },
  {
   "cell_type": "code",
   "execution_count": 10,
   "id": "f80714e4-64b8-45c0-aa95-dbdd1cbc6bf3",
   "metadata": {},
   "outputs": [
    {
     "name": "stdout",
     "output_type": "stream",
     "text": [
      "-------------------- Train Loss: MAE = 472.626, RMSE = 674.248 --------------------\n",
      "-------------------- Test Loss: MAE = 496.209, RMSE = 700.697 --------------------\n",
      "saved result to results/ha_result.pkl\n",
      "-------------------- Train Loss: MAE = 137.353, RMSE = 244.623 --------------------\n",
      "-------------------- Test Loss: MAE = 159.868, RMSE = 285.426 --------------------\n",
      "saved result to results/pha_result.pkl\n"
     ]
    }
   ],
   "source": [
    "!python3.9 baseline.py HA --result results/ha_result.pkl --X_train datasets_1h/features_train.pkl --X_test datasets_1h/features_test.pkl\n",
    "!python3.9 baseline.py PeriodicHA --result results/pha_result.pkl --X_train datasets_1h/features_train.pkl --X_test datasets_1h/features_test.pkl\n",
    "# !python3.9 baseline.py PeriodicHA --result results/pha_result.pkl\n",
    "# !python3.9 baseline.py ARIMA --result results/arima.pkl\n",
    "# !python3.9 baseline.py RF --result results/rf.pkl\n",
    "# !python3.9 baseline.py SVR --result results/svr.pkl"
   ]
  },
  {
   "cell_type": "code",
   "execution_count": null,
   "id": "c1276b83-2764-4065-a18e-ab7ea304a071",
   "metadata": {},
   "outputs": [],
   "source": []
  }
 ],
 "metadata": {
  "kernelspec": {
   "display_name": "Python 3 (ipykernel)",
   "language": "python",
   "name": "python3"
  },
  "language_info": {
   "codemirror_mode": {
    "name": "ipython",
    "version": 3
   },
   "file_extension": ".py",
   "mimetype": "text/x-python",
   "name": "python",
   "nbconvert_exporter": "python",
   "pygments_lexer": "ipython3",
   "version": "3.9.5"
  }
 },
 "nbformat": 4,
 "nbformat_minor": 5
}
