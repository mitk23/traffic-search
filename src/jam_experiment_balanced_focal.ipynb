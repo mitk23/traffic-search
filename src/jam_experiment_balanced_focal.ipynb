{
 "cells": [
  {
   "cell_type": "code",
   "execution_count": 1,
   "id": "85f9b686-4dee-4846-b006-9d3b39292662",
   "metadata": {
    "tags": []
   },
   "outputs": [],
   "source": [
    "import time\n",
    "import itertools\n",
    "import datetime as dt\n",
    "\n",
    "import numpy as np\n",
    "import pandas as pd\n",
    "from pandas.api.types import CategoricalDtype\n",
    "import matplotlib.pyplot as plt\n",
    "plt.rcParams['font.family'] = 'Noto Sans CJK JP'\n",
    "import seaborn as sns\n",
    "import tqdm\n",
    "from sklearn.preprocessing import StandardScaler\n",
    "from sklearn.metrics import f1_score\n",
    "import torch\n",
    "import torch.nn as nn\n",
    "import torch.nn.functional as F\n",
    "import torch.optim as optim\n",
    "\n",
    "from utils.scaler import STMatrixStandardScaler\n",
    "from utils.helper import format_stmatrix, train_test_split, fix_seed\n",
    "from dataset import STDataset\n",
    "from trainer import Trainer\n",
    "from logger import Logger\n",
    "import config"
   ]
  },
  {
   "cell_type": "code",
   "execution_count": 2,
   "id": "5a66af52-fa9b-44a1-8e3d-7c1ab733e773",
   "metadata": {},
   "outputs": [
    {
     "data": {
      "text/plain": [
       "device(type='cuda', index=3)"
      ]
     },
     "execution_count": 2,
     "metadata": {},
     "output_type": "execute_result"
    }
   ],
   "source": [
    "device = torch.device(\"cuda:3\" if torch.cuda.is_available() else \"cpu\")\n",
    "device"
   ]
  },
  {
   "cell_type": "markdown",
   "id": "600f0112-9df1-4430-a141-c4b94a5a4962",
   "metadata": {
    "jp-MarkdownHeadingCollapsed": true,
    "tags": []
   },
   "source": [
    "## 前処理してデータセットを作成\n",
    "- 渋滞量 -> フラグに変換\n",
    "- 方向 -> 0/1に変換\n",
    "    - 上り: 0, 下り: 1\n",
    "- 四半期を数値化\n",
    "- 使用しないカラムを落とす\n",
    "    - 天気 + `index`, `data`, `road_code`, `jam_type`\n",
    "- 速度の欠損を埋める\n",
    "- OCC -> [0, 1]に変換\n",
    "- 型変換\n",
    "    - float64 -> float32\n",
    "    - 区間の名前, コード, 県コード, 0/1系, カレンダーデータをcategoryデータに\n",
    "    - degreeをint32"
   ]
  },
  {
   "cell_type": "code",
   "execution_count": 3,
   "id": "529b47c5-ece1-4061-b622-f0c26c9de6d1",
   "metadata": {},
   "outputs": [],
   "source": [
    "# 道路名\n",
    "# TARGET_ROAD='tateyama'\n",
    "TARGET_ROAD='kannetsu'\n",
    "\n",
    "# 交通量\n",
    "PROCESSED_DATA_DIR = '../Input_processed_data'\n",
    "TRAFFIC_DIR = f'{PROCESSED_DATA_DIR}/traffic'\n",
    "TRAFFIC_CSV = f'{TRAFFIC_DIR}/{TARGET_ROAD}_20220621all-merged_filled_1h.csv'"
   ]
  },
  {
   "cell_type": "code",
   "execution_count": 4,
   "id": "3b58e808-e64e-4d7d-836d-04fd532a1054",
   "metadata": {
    "tags": []
   },
   "outputs": [],
   "source": [
    "col_types = {'start_code': str, 'end_code': str, 'road_code': str, 'jam_type': str,}\n",
    "\n",
    "df = pd.read_csv(TRAFFIC_CSV, parse_dates=True, index_col='datetime', dtype=col_types).reset_index()"
   ]
  },
  {
   "cell_type": "code",
   "execution_count": 5,
   "id": "2898041e-0cc7-420f-9363-73a3edc61e7d",
   "metadata": {},
   "outputs": [],
   "source": [
    "def linear_interpolate(df, col):\n",
    "    '''\n",
    "    dfのcolカラム内の欠損を区間ごとに線形補間する\n",
    "    '''\n",
    "    f = lambda g: g.interpolate(method='linear', axis=0)\n",
    "    \n",
    "    df.sort_values('datetime', inplace=True)\n",
    "    df[col] = df.groupby(['start_code', 'end_code'])[col].apply(f)\n",
    "    return df\n",
    "\n",
    "\n",
    "def preprocess(df):\n",
    "    # 「年」情報を入れる\n",
    "    df['year'] = df['datetime'].dt.year\n",
    "    # 渋滞フラグ 0/1\n",
    "    df['jam_flag'] = np.where(df['speed'] < 40, 1, 0)\n",
    "    # 方向を数値化\n",
    "    direction_map = {'上り': 0, '下り': 1}\n",
    "    df['direction'] = df['direction'].map(direction_map)\n",
    "    # 四半期を数値化\n",
    "    df['quarter'] = df['quarter'].str[-1]\n",
    "    \n",
    "    # object型のカラム, いらないカラムを落とす\n",
    "    drop_cols = [\n",
    "        'index', 'date', 'road_code', 'pressure', 'rainfall', \n",
    "        'temperature', 'humidity', 'wind_speed', 'daylight_hours', \n",
    "        'snowfall', 'deepest_snowfall', 'weather_description', 'jam_type'\n",
    "    ]\n",
    "    df.drop(drop_cols, axis=1, inplace=True)\n",
    "    \n",
    "    # 速度の欠損を埋める\n",
    "    df = linear_interpolate(df, 'speed')\n",
    "    # OCCを[0,1]に変換\n",
    "    df['OCC'] = df['OCC'] / 100.0\n",
    "    \n",
    "    # 型変換\n",
    "    f64_cols = df.select_dtypes(include=[np.float64]).columns\n",
    "    df.loc[:, f64_cols] = df.loc[:, f64_cols].astype(np.float32)\n",
    "    i64_cols = df.select_dtypes(include=[int]).columns\n",
    "    df.loc[:, i64_cols] = df.loc[:, i64_cols].astype(np.int32)\n",
    "    \n",
    "    type_map = {\n",
    "        'start_name': 'category',\n",
    "        'end_name': 'category',\n",
    "        'start_code': 'category',\n",
    "        'end_code': 'category',\n",
    "        'start_pref_code': 'category',\n",
    "        'end_pref_code': 'category',\n",
    "        'direction': 'category',\n",
    "        'month': 'category',\n",
    "        'day': 'category',\n",
    "        'dayofweek': 'category',\n",
    "        'is_holiday': 'category',\n",
    "        'hour': 'category',\n",
    "        'quarter': 'category',\n",
    "        'jam_quantity': 'category',\n",
    "        'start_degree': np.int32,\n",
    "        'end_degree': np.int32,\n",
    "        'degree_sum': np.int32,\n",
    "    }\n",
    "    df = df.astype(type_map)\n",
    "    \n",
    "    return df"
   ]
  },
  {
   "cell_type": "code",
   "execution_count": 7,
   "id": "a23d5e8e-66a4-4c63-a76c-984f49cdec5b",
   "metadata": {},
   "outputs": [],
   "source": [
    "def create_dataset(df, start_date, end_date, pkl_name):\n",
    "    tmp = df.loc[(df['datetime'] >= pd.Timestamp(start_date)) & (df['datetime'] < pd.Timestamp(end_date))]\n",
    "    # tmp.reset_index(drop=True, inplace=True)\n",
    "    \n",
    "    tmp = preprocess(tmp.copy())\n",
    "    tmp.reset_index(drop=True, inplace=True)\n",
    "    \n",
    "    tmp.to_pickle(pkl_name)\n",
    "\n",
    "# whole dataset\n",
    "start_date = '2021/4/2'\n",
    "end_date = '2022/6/1'\n",
    "pkl_name = f'./datasets/jam/kannetsu_210402-220531.pkl'\n",
    "\n",
    "create_dataset(df, start_date, end_date, pkl_name)\n",
    "\n",
    "# mini dataset\n",
    "start_date = '2021/4/2'\n",
    "end_date = '2021/6/1'\n",
    "pkl_name = './datasets/jam/kannetsu_210402-210531.pkl'\n",
    "\n",
    "create_dataset(df, start_date, end_date, pkl_name)"
   ]
  },
  {
   "cell_type": "markdown",
   "id": "a27c7f12-2979-4952-8165-d5c01122d1f9",
   "metadata": {
    "jp-MarkdownHeadingCollapsed": true,
    "tags": []
   },
   "source": [
    "## データセットを読み込む"
   ]
  },
  {
   "cell_type": "code",
   "execution_count": 26,
   "id": "2840688e-38f3-4355-bd7e-e1655e966cc3",
   "metadata": {},
   "outputs": [],
   "source": [
    "# mini\n",
    "df_test = pd.read_pickle('./datasets/jam/kannetsu_210402-210531.pkl')\n",
    "# whole\n",
    "df_all = pd.read_pickle('./datasets/jam/kannetsu_210402-220531.pkl')"
   ]
  },
  {
   "cell_type": "code",
   "execution_count": 27,
   "id": "46a5f703-fc2c-4d76-9bb8-61bc9e565947",
   "metadata": {},
   "outputs": [],
   "source": [
    "dt_table = pd.read_pickle(f'{config.TABLES_DIR}/datetime_table.pkl')\n",
    "sec_table = pd.read_pickle(f'{config.TABLES_DIR}/section_table.pkl')"
   ]
  },
  {
   "cell_type": "code",
   "execution_count": 28,
   "id": "b9502253-a633-48b8-bc79-f90b5cf43d3b",
   "metadata": {},
   "outputs": [
    {
     "data": {
      "text/html": [
       "<div>\n",
       "<style scoped>\n",
       "    .dataframe tbody tr th:only-of-type {\n",
       "        vertical-align: middle;\n",
       "    }\n",
       "\n",
       "    .dataframe tbody tr th {\n",
       "        vertical-align: top;\n",
       "    }\n",
       "\n",
       "    .dataframe thead th {\n",
       "        text-align: right;\n",
       "    }\n",
       "</style>\n",
       "<table border=\"1\" class=\"dataframe\">\n",
       "  <thead>\n",
       "    <tr style=\"text-align: right;\">\n",
       "      <th></th>\n",
       "      <th>datetime</th>\n",
       "      <th>start_name</th>\n",
       "      <th>end_name</th>\n",
       "      <th>start_code</th>\n",
       "      <th>end_code</th>\n",
       "      <th>start_pref_code</th>\n",
       "      <th>end_pref_code</th>\n",
       "      <th>start_lat</th>\n",
       "      <th>end_lat</th>\n",
       "      <th>start_lng</th>\n",
       "      <th>...</th>\n",
       "      <th>search_unspec_1d</th>\n",
       "      <th>search_unspec_3d</th>\n",
       "      <th>search_unspec_7d</th>\n",
       "      <th>search_unspec_10d</th>\n",
       "      <th>allCars</th>\n",
       "      <th>jam_quantity</th>\n",
       "      <th>OCC</th>\n",
       "      <th>speed</th>\n",
       "      <th>year</th>\n",
       "      <th>jam_flag</th>\n",
       "    </tr>\n",
       "  </thead>\n",
       "  <tbody>\n",
       "    <tr>\n",
       "      <th>0</th>\n",
       "      <td>2021-04-02</td>\n",
       "      <td>所沢</td>\n",
       "      <td>大泉ＪＣＴ</td>\n",
       "      <td>1800006</td>\n",
       "      <td>1110210</td>\n",
       "      <td>11</td>\n",
       "      <td>13</td>\n",
       "      <td>35.806149</td>\n",
       "      <td>35.755821</td>\n",
       "      <td>139.535507</td>\n",
       "      <td>...</td>\n",
       "      <td>2156.0</td>\n",
       "      <td>2156.0</td>\n",
       "      <td>2156.0</td>\n",
       "      <td>2156.0</td>\n",
       "      <td>630.0</td>\n",
       "      <td>0</td>\n",
       "      <td>0.02</td>\n",
       "      <td>87.298416</td>\n",
       "      <td>2021</td>\n",
       "      <td>0</td>\n",
       "    </tr>\n",
       "    <tr>\n",
       "      <th>1</th>\n",
       "      <td>2021-04-02</td>\n",
       "      <td>小出</td>\n",
       "      <td>大和ＰＡ</td>\n",
       "      <td>1800156</td>\n",
       "      <td>1800151</td>\n",
       "      <td>15</td>\n",
       "      <td>15</td>\n",
       "      <td>37.213329</td>\n",
       "      <td>37.160999</td>\n",
       "      <td>138.975403</td>\n",
       "      <td>...</td>\n",
       "      <td>749.0</td>\n",
       "      <td>749.0</td>\n",
       "      <td>749.0</td>\n",
       "      <td>749.0</td>\n",
       "      <td>67.0</td>\n",
       "      <td>0</td>\n",
       "      <td>0.00</td>\n",
       "      <td>90.970146</td>\n",
       "      <td>2021</td>\n",
       "      <td>0</td>\n",
       "    </tr>\n",
       "    <tr>\n",
       "      <th>2</th>\n",
       "      <td>2021-04-02</td>\n",
       "      <td>六日町</td>\n",
       "      <td>塩沢石打</td>\n",
       "      <td>1800146</td>\n",
       "      <td>1800141</td>\n",
       "      <td>15</td>\n",
       "      <td>15</td>\n",
       "      <td>37.077942</td>\n",
       "      <td>36.990280</td>\n",
       "      <td>138.879288</td>\n",
       "      <td>...</td>\n",
       "      <td>705.0</td>\n",
       "      <td>705.0</td>\n",
       "      <td>705.0</td>\n",
       "      <td>705.0</td>\n",
       "      <td>60.0</td>\n",
       "      <td>0</td>\n",
       "      <td>0.00</td>\n",
       "      <td>87.633331</td>\n",
       "      <td>2021</td>\n",
       "      <td>0</td>\n",
       "    </tr>\n",
       "  </tbody>\n",
       "</table>\n",
       "<p>3 rows × 40 columns</p>\n",
       "</div>"
      ],
      "text/plain": [
       "    datetime start_name end_name start_code end_code start_pref_code  \\\n",
       "0 2021-04-02         所沢    大泉ＪＣＴ    1800006  1110210              11   \n",
       "1 2021-04-02         小出     大和ＰＡ    1800156  1800151              15   \n",
       "2 2021-04-02        六日町     塩沢石打    1800146  1800141              15   \n",
       "\n",
       "  end_pref_code  start_lat    end_lat   start_lng  ...  search_unspec_1d  \\\n",
       "0            13  35.806149  35.755821  139.535507  ...            2156.0   \n",
       "1            15  37.213329  37.160999  138.975403  ...             749.0   \n",
       "2            15  37.077942  36.990280  138.879288  ...             705.0   \n",
       "\n",
       "   search_unspec_3d  search_unspec_7d search_unspec_10d allCars jam_quantity  \\\n",
       "0            2156.0            2156.0            2156.0   630.0            0   \n",
       "1             749.0             749.0             749.0    67.0            0   \n",
       "2             705.0             705.0             705.0    60.0            0   \n",
       "\n",
       "    OCC      speed  year  jam_flag  \n",
       "0  0.02  87.298416  2021         0  \n",
       "1  0.00  90.970146  2021         0  \n",
       "2  0.00  87.633331  2021         0  \n",
       "\n",
       "[3 rows x 40 columns]"
      ]
     },
     "execution_count": 28,
     "metadata": {},
     "output_type": "execute_result"
    }
   ],
   "source": [
    "df_test.head(3)"
   ]
  },
  {
   "cell_type": "markdown",
   "id": "0f1e4d66-8ae9-4d1a-a770-d55c4c82dfce",
   "metadata": {
    "tags": []
   },
   "source": [
    "### 時間, 区間にembedding用のIDを割り振る"
   ]
  },
  {
   "cell_type": "code",
   "execution_count": null,
   "id": "0e91cfa6-79bd-4901-b38d-7e436704000d",
   "metadata": {},
   "outputs": [],
   "source": [
    "# 時間情報を管理するためのテーブルを作成 (month x hour x dayofweeks x is_holidays)\n",
    "# months = range(1, 12+1)\n",
    "# hours = range(24)\n",
    "# dayofweeks = range(1, 7+1)\n",
    "# is_holidays = (0, 1)\n",
    "\n",
    "# dt_table = pd.DataFrame(itertools.product(months, hours, dayofweeks, is_holidays), columns=['month', 'hour', 'dayofweek', 'is_holiday'], dtype='category')\n",
    "# dt_table = dt_table.query('dayofweek not in (6, 7) | is_holiday != 0').reset_index(drop=True)\n",
    "# dt_table = dt_table.reset_index().set_index(['month', 'hour', 'dayofweek', 'is_holiday']).astype('category')\n",
    "\n",
    "# dt_table.to_pickle('./datasets/datetime_table.pkl')\n",
    "\n",
    "# dt_table = pd.read_pickle('./datasets/datetime_table.pkl')"
   ]
  },
  {
   "cell_type": "code",
   "execution_count": null,
   "id": "48291632-a12e-4e3c-a8f5-9ba4e8f91aa0",
   "metadata": {},
   "outputs": [],
   "source": [
    "# 時間情報を管理するためのテーブルを作成 (hour x dayofweeks x is_holidays)\n",
    "# hours = range(24)\n",
    "# dayofweeks = range(1, 7+1)\n",
    "# is_holidays = (0, 1)\n",
    "\n",
    "# dt_table = pd.DataFrame(itertools.product(hours, dayofweeks, is_holidays), columns=['hour', 'dayofweek', 'is_holiday'], dtype='category')\n",
    "# dt_table = dt_table.query('dayofweek not in (6, 7) | is_holiday != 0').reset_index(drop=True)\n",
    "# dt_table = dt_table.reset_index().set_index(['hour', 'dayofweek', 'is_holiday']).astype('category')\n",
    "\n",
    "# dt_table.to_pickle('./datasets/mini_datetime_table.pkl')\n",
    "\n",
    "# dt_table = pd.read_pickle('./datasets/mini_datetime_table.pkl')"
   ]
  },
  {
   "cell_type": "code",
   "execution_count": null,
   "id": "c2b54d50-3eba-4d3e-93ea-768d54c39097",
   "metadata": {},
   "outputs": [],
   "source": [
    "# 区間情報を管理するためのテーブルを作成\n",
    "# sec_table = df_test[['start_name', 'end_name', 'direction', 'KP']].drop_duplicates()\n",
    "# 区間順にソート\n",
    "# sort_f = lambda g: g.sort_values('KP', ascending=(g.name == 1))\n",
    "# sec_table = sec_table.groupby('direction').apply(sort_f).reset_index(drop=True)\n",
    "\n",
    "# sec_table.to_pickle('./datasets/section_table.pkl')\n",
    "# sec_table.head(3)\n",
    "\n",
    "# sec_table = pd.read_pickle('./datasets/section_table.pkl')"
   ]
  },
  {
   "cell_type": "code",
   "execution_count": 29,
   "id": "d7ac6bbd-5e5d-4daa-b997-400b4b7672f4",
   "metadata": {},
   "outputs": [],
   "source": [
    "def datetime2id(df, dt_table):\n",
    "    time_col = ['hour', 'dayofweek', 'is_holiday']\n",
    "    f = lambda g: g.assign(datetime_id=dt_table.loc[g.name, 'index'])\n",
    "    df = df.groupby(time_col).apply(f)\n",
    "    df['datetime_id'] = df['datetime_id'].astype('category')\n",
    "    return df\n",
    "\n",
    "\n",
    "def section2id(df, sec_table):\n",
    "    f = lambda g: g.assign(section_id=sec_table.query(f'start_name == \"{g.name[0]}\" & end_name == \"{g.name[1]}\"').index.item())\n",
    "    df = df.groupby(['start_name', 'end_name']).apply(f)\n",
    "    df['section_id'] = df['section_id'].astype('category')\n",
    "    return df\n",
    "\n",
    "\n",
    "def identify(df, dt_table, sec_table):\n",
    "    df = datetime2id(df, dt_table)\n",
    "    df = section2id(df, sec_table)\n",
    "    return df"
   ]
  },
  {
   "cell_type": "code",
   "execution_count": 31,
   "id": "f8ae9e67-47b0-4274-b963-edf85e4b3786",
   "metadata": {},
   "outputs": [],
   "source": [
    "df_test = identify(df_test, dt_table, sec_table)\n",
    "df_test.to_pickle('./datasets/jam/kannetsu_210402-210531.pkl')\n",
    "\n",
    "df_all = identify(df_all, dt_table, sec_table)\n",
    "df_all.to_pickle('./datasets/jam/kannetsu_210402-220531.pkl')"
   ]
  },
  {
   "cell_type": "markdown",
   "id": "d43a0e9b-14b1-434c-8de6-2aa603db4727",
   "metadata": {
    "jp-MarkdownHeadingCollapsed": true,
    "tags": []
   },
   "source": [
    "## Spatial Temporal Matrixに整形\n",
    "- 区間数 x 時系列数 の行列\n",
    "- 実際は 区間数 x 時系列数 x 特徴量数 のテンソル"
   ]
  },
  {
   "cell_type": "code",
   "execution_count": 35,
   "id": "190b8871-8f2e-4a45-8523-ad908ed36a3e",
   "metadata": {},
   "outputs": [],
   "source": [
    "# # mini\n",
    "# df_test = pd.read_pickle('./datasets/jam/kannetsu_210402-210531.pkl')\n",
    "# # whole\n",
    "# df_all = pd.read_pickle('./datasets/jam/kannetsu_210402-220531.pkl')\n",
    "\n",
    "# df_test_tr = df_test[df_test['datetime'] < pd.Timestamp('2021/5/20')].reset_index(drop=True)\n",
    "# df_test_va = df_test[df_test['datetime'] >= pd.Timestamp('2021/5/20')].reset_index(drop=True)\n",
    "# df_test_tr.to_pickle('./datasets/jam/kannetsu_210402-210519.pkl')\n",
    "# df_test_va.to_pickle('./datasets/jam/kannetsu_210520-210531.pkl')\n",
    "\n",
    "# df_all_tr = df_all[df_all['datetime'] < pd.Timestamp('2022/3/1')].reset_index(drop=True)\n",
    "# df_all_va = df_all[df_all['datetime'] >= pd.Timestamp('2022/3/1')].reset_index(drop=True)\n",
    "# df_all_tr.to_pickle('./datasets/jam/kannetsu_210402-220228.pkl')\n",
    "# df_all_va.to_pickle('./datasets/jam/kannetsu_220301-220531.pkl')"
   ]
  },
  {
   "cell_type": "code",
   "execution_count": 3,
   "id": "388e22b3-fa73-4af8-83ae-dad170795ed8",
   "metadata": {},
   "outputs": [],
   "source": [
    "df_test_tr = pd.read_pickle('./datasets/jam/kannetsu_210402-210519.pkl')\n",
    "df_test_va = pd.read_pickle('./datasets/jam/kannetsu_210520-210531.pkl')\n",
    "\n",
    "df_all_tr = pd.read_pickle('./datasets/jam/kannetsu_210402-220228.pkl')\n",
    "df_all_va = pd.read_pickle('./datasets/jam/kannetsu_220301-220531.pkl')\n",
    "\n",
    "dt_table = pd.read_pickle(f'{config.TABLES_DIR}/datetime_table.pkl')\n",
    "sec_table = pd.read_pickle(f'{config.TABLES_DIR}/section_table.pkl')"
   ]
  },
  {
   "cell_type": "code",
   "execution_count": 5,
   "id": "0b39c58f-57dc-48c9-a557-0f5e71ead960",
   "metadata": {
    "tags": []
   },
   "outputs": [],
   "source": [
    "# 特徴量の元になる列\n",
    "time_col = ['datetime_id']\n",
    "section_col = ['section_id']\n",
    "search_col = ['search_1h', 'search_unspec_1d']\n",
    "traffic_col = ['allCars', 'speed', 'OCC', 'jam_quantity']\n",
    "\n",
    "feature_col = time_col + section_col + search_col + traffic_col\n",
    "\n",
    "# 予測対象\n",
    "target_col = 'jam_quantity'"
   ]
  },
  {
   "cell_type": "code",
   "execution_count": 6,
   "id": "9ff68889-a006-45c5-9066-4188cdf219b5",
   "metadata": {},
   "outputs": [],
   "source": [
    "df_all_tr[target_col] = df_all_tr[target_col].astype(np.int64)\n",
    "df_all_va[target_col] = df_all_va[target_col].astype(np.int64)\n",
    "\n",
    "df_test_tr[target_col] = df_test_tr[target_col].astype(np.int64)\n",
    "df_test_va[target_col] = df_test_va[target_col].astype(np.int64)"
   ]
  },
  {
   "cell_type": "code",
   "execution_count": 11,
   "id": "36cfca28-8fa1-49f8-a821-5b7c5f49d976",
   "metadata": {},
   "outputs": [
    {
     "name": "stdout",
     "output_type": "stream",
     "text": [
      "torch.Size([8, 1152, 63]) torch.Size([8, 288, 63]) torch.Size([1, 1152, 63]) torch.Size([1, 288, 63])\n"
     ]
    }
   ],
   "source": [
    "X_tr, y_tr = format_stmatrix(df_test_tr, sec_table, feature_col, target_col)\n",
    "X_va, y_va = format_stmatrix(df_test_va, sec_table, feature_col, target_col)\n",
    "print(X_tr.shape, X_va.shape, y_tr.shape, y_va.shape)"
   ]
  },
  {
   "cell_type": "code",
   "execution_count": 13,
   "id": "3ffac485-c759-4a8c-be33-a714e2b4ada5",
   "metadata": {},
   "outputs": [],
   "source": [
    "# torch.save(X_tr, './datasets/jam/features_train.pkl')\n",
    "# torch.save(X_va, './datasets/jam/features_test.pkl')\n",
    "# torch.save(y_tr, './datasets/jam/labels_train.pkl')\n",
    "# torch.save(y_va, './datasets/jam/labels_test.pkl')\n",
    "\n",
    "# torch.save(X_tr, './datasets/jam/mini_features_train.pkl')\n",
    "# torch.save(X_va, './datasets/jam/mini_features_test.pkl')\n",
    "# torch.save(y_tr, './datasets/jam/mini_labels_train.pkl')\n",
    "# torch.save(y_va, './datasets/jam/mini_labels_test.pkl')"
   ]
  },
  {
   "cell_type": "markdown",
   "id": "e376cb0a-2709-4e34-94af-8c23af4a418f",
   "metadata": {
    "jp-MarkdownHeadingCollapsed": true,
    "tags": []
   },
   "source": [
    "## 標準化・正規化\n",
    "- 標準化を行う\n",
    "- 時間特徴量（`month`, `hour`, `day_of_week`）はsin, cosで変換するのもやってみる\n",
    "- 検索数, 台数は上り・下り別でもやってみる"
   ]
  },
  {
   "cell_type": "code",
   "execution_count": 19,
   "id": "70b43f0a-daa0-4011-8eb4-a3d1c155acb6",
   "metadata": {},
   "outputs": [
    {
     "name": "stdout",
     "output_type": "stream",
     "text": [
      "torch.Size([8, 7992, 63]) torch.Size([8, 2208, 63])\n",
      "torch.Size([1, 7992, 63]) torch.Size([1, 2208, 63])\n"
     ]
    }
   ],
   "source": [
    "dt_table = pd.read_pickle(f'{config.TABLES_DIR}/datetime_table.pkl')\n",
    "sec_table = pd.read_pickle(f'{config.TABLES_DIR}/section_table.pkl')\n",
    "\n",
    "X_tr = torch.load('./datasets/jam/features_train.pkl')\n",
    "X_va = torch.load('./datasets/jam/features_test.pkl')\n",
    "y_tr = torch.load('./datasets/jam/labels_train.pkl')\n",
    "y_va = torch.load('./datasets/jam/labels_test.pkl')\n",
    "\n",
    "# X_tr = torch.load('./datasets/jam/mini_features_train.pkl')\n",
    "# X_va = torch.load('./datasets/jam/mini_features_test.pkl')\n",
    "# y_tr = torch.load('./datasets/jam/mini_labels_train.pkl')\n",
    "# y_va = torch.load('./datasets/jam/mini_labels_test.pkl')\n",
    "\n",
    "print(X_tr.shape, X_va.shape)\n",
    "print(y_tr.shape, y_va.shape)"
   ]
  },
  {
   "cell_type": "code",
   "execution_count": 18,
   "id": "d59f0469-e844-48d9-b897-4c4b2596f2ab",
   "metadata": {
    "tags": []
   },
   "outputs": [],
   "source": [
    "# ID列は飛ばして標準化\n",
    "skip_features = [0, 1, -1]\n",
    "scaler = STMatrixStandardScaler(skip_features=skip_features)\n",
    "\n",
    "scaler.fit(X_tr)\n",
    "X_tr_norm = scaler.transform(X_tr)\n",
    "\n",
    "scaler.fit(X_va)\n",
    "X_va_norm = scaler.transform(X_va)\n",
    "\n",
    "# torch.save(X_tr_norm, './datasets/jam/mini_features_train_norm.pkl')\n",
    "# torch.save(X_va_norm, './datasets/jam/mini_features_test_norm.pkl')"
   ]
  },
  {
   "cell_type": "markdown",
   "id": "393b4d27-83ee-4e74-8cbd-e2f88b5bc7e3",
   "metadata": {},
   "source": [
    "## データセットの定義"
   ]
  },
  {
   "cell_type": "code",
   "execution_count": 3,
   "id": "265d39fd-7d3b-47e2-96d6-aad31ba1ecfa",
   "metadata": {},
   "outputs": [
    {
     "name": "stdout",
     "output_type": "stream",
     "text": [
      "(288, 1) (63, 4)\n",
      "torch.Size([8, 7992, 63]) torch.Size([8, 2208, 63])\n",
      "torch.Size([1, 7992, 63]) torch.Size([1, 2208, 63])\n"
     ]
    }
   ],
   "source": [
    "dt_table = pd.read_pickle(f'{config.TABLES_DIR}/datetime_table.pkl')\n",
    "sec_table = pd.read_pickle(f'{config.TABLES_DIR}/section_table.pkl')\n",
    "\n",
    "X_tr = torch.load(f'{config.DATASET_DIR}/jam/features_train_norm.pkl')\n",
    "X_va = torch.load(f'{config.DATASET_DIR}/jam/features_test_norm.pkl')\n",
    "y_tr = torch.load(f'{config.DATASET_DIR}/jam/labels_train.pkl')\n",
    "y_va = torch.load(f'{config.DATASET_DIR}/jam/labels_test.pkl')\n",
    "\n",
    "# X_tr = torch.load(f'{config.MINI_DIR}/jam/mini_features_train_norm.pkl')\n",
    "# X_va = torch.load(f'{config.MINI_DIR}/jam/mini_features_test_norm.pkl')\n",
    "# y_tr = torch.load(f'{config.MINI_DIR}/jam/mini_labels_train.pkl')\n",
    "# y_va = torch.load(f'{config.MINI_DIR}/jam/mini_labels_test.pkl')\n",
    "\n",
    "print(dt_table.shape, sec_table.shape)\n",
    "print(X_tr.shape, X_va.shape)\n",
    "print(y_tr.shape, y_va.shape)"
   ]
  },
  {
   "cell_type": "code",
   "execution_count": 4,
   "id": "6731a3ac-b9fc-46dd-87d4-050fa49aee96",
   "metadata": {
    "tags": []
   },
   "outputs": [],
   "source": [
    "time_step = 168\n",
    "prediction_horizon = 24\n",
    "space_window = (-2, 2)\n",
    "static_col = config.STATIC_COL\n",
    "\n",
    "dataset_train = STDataset(X_tr, y_tr, \n",
    "                          time_step=time_step, \n",
    "                          prediction_horizon=prediction_horizon,\n",
    "                          space_window=space_window, \n",
    "                          static_col=static_col)\n",
    "\n",
    "dataset_valid = STDataset(X_va, y_va, \n",
    "                          time_step=time_step, \n",
    "                          prediction_horizon=prediction_horizon,\n",
    "                          space_window=space_window, \n",
    "                          static_col=static_col)"
   ]
  },
  {
   "cell_type": "markdown",
   "id": "b340b55f-dcc6-4f86-a1d9-ed3c02faaaf3",
   "metadata": {
    "tags": []
   },
   "source": [
    "## Networkの定義"
   ]
  },
  {
   "cell_type": "markdown",
   "id": "6bd3e7f1-34ea-4ac3-89be-9503a8dbc6bb",
   "metadata": {
    "jp-MarkdownHeadingCollapsed": true,
    "tags": []
   },
   "source": [
    "### HA"
   ]
  },
  {
   "cell_type": "code",
   "execution_count": 19,
   "id": "97f15fb8-0331-4e92-89d2-5b16b9c2a9c7",
   "metadata": {},
   "outputs": [],
   "source": [
    "class HA:\n",
    "    def forward(self, x):\n",
    "        out = x[:, -1].mean(dim=1)\n",
    "        return out\n",
    "    \n",
    "    def __call__(self, x):\n",
    "        return self.forward(x)"
   ]
  },
  {
   "cell_type": "markdown",
   "id": "68688362-29fa-473b-8071-f742d901baf0",
   "metadata": {
    "jp-MarkdownHeadingCollapsed": true,
    "tags": []
   },
   "source": [
    "### LSTM"
   ]
  },
  {
   "cell_type": "code",
   "execution_count": 10,
   "id": "43a17bfe-5110-4967-9810-f2b11c7bddfe",
   "metadata": {
    "tags": []
   },
   "outputs": [],
   "source": [
    "class SimpleLSTM(nn.Module):\n",
    "    def __init__(self, in_dim, hid_dim, num_layers, batch_first=True):\n",
    "        super().__init__()\n",
    "        \n",
    "        self.in_dim = in_dim\n",
    "        self.hid_dim = hid_dim\n",
    "        self.num_layers = num_layers\n",
    "        \n",
    "        self.lstm = nn.LSTM(in_dim, hid_dim, num_layers, batch_first=True)\n",
    "        self.fc = nn.Linear(hid_dim, 1)\n",
    "    \n",
    "    def forward(self, x):\n",
    "        x = x.permute(0, 2, 1)\n",
    "        outs, (h, c) = self.lstm(x)\n",
    "        out = self.fc(h[0])\n",
    "        return out\n",
    "    \n",
    "\n",
    "class LSTM(nn.Module):\n",
    "    def __init__(self, hid_dim, num_layers=1, batch_first=True):\n",
    "        super().__init__()\n",
    "        \n",
    "        self.hid_dim = hid_dim\n",
    "        self.num_layers = num_layers\n",
    "        \n",
    "        self.lstm = nn.LSTM(1, hid_dim, num_layers, batch_first=batch_first)\n",
    "        self.search_lstm = nn.LSTM(2, hid_dim, num_layers, batch_first=batch_first)\n",
    "        \n",
    "        self.fc = nn.Linear(hid_dim * 2, 1)\n",
    "        \n",
    "    def forward(self, x):\n",
    "        x = x.permute(0, 2, 1)\n",
    "        outs, (h, c) = self.lstm(x[..., -1:])\n",
    "        s_outs, (s_h, s_c) = self.search_lstm(x[..., -3:-1])\n",
    "        out = torch.cat([h[0], s_h[0]], dim=1)\n",
    "        out = self.fc(out)\n",
    "        return out"
   ]
  },
  {
   "cell_type": "markdown",
   "id": "66571ee8-675a-4eb0-b4b0-ebf2738a7725",
   "metadata": {
    "jp-MarkdownHeadingCollapsed": true,
    "tags": []
   },
   "source": [
    "### Embedding + LSTM"
   ]
  },
  {
   "cell_type": "code",
   "execution_count": null,
   "id": "66e5c740-7ac7-4b2a-bbcd-03ffb1150fe7",
   "metadata": {},
   "outputs": [],
   "source": [
    "class LSTM_Embedding(nn.Module):\n",
    "    def __init__(self, hid_dim, num_layers=1, batch_first=True):\n",
    "        super().__init__()\n",
    "        \n",
    "        self.hid_dim = hid_dim\n",
    "        self.num_layers = num_layers\n",
    "        \n",
    "        self.dt_n_embed = 32\n",
    "        self.road_n_embed = 16\n",
    "        self.n_embed = self.dt_n_embed + self.road_n_embed\n",
    "        self.dt_embed = nn.Embedding(len(dt_table), self.dt_n_embed)\n",
    "        self.road_embed = nn.Embedding(len(sec_table), self.road_n_embed)\n",
    "        \n",
    "        self.traffic_lstm = nn.LSTM(1, hid_dim, num_layers, batch_first=batch_first)\n",
    "        self.search_lstm = nn.LSTM(2, hid_dim, num_layers, batch_first=batch_first)\n",
    "        \n",
    "        self.cat_fc = nn.Linear(self.n_embed, 16)\n",
    "        self.fc1 = nn.Linear(hid_dim * 2 + 16, 32)\n",
    "        self.fc2 = nn.Linear(32, 1)\n",
    "        \n",
    "        \n",
    "    def forward(self, x):  \n",
    "        x_dy, x_st = x\n",
    "        \n",
    "        # categorical (datetime + road)\n",
    "        dt_emb = self.dt_embed(x_st[..., 0].to(dtype=torch.int64))\n",
    "        road_emb = self.road_embed(x_st[..., 1].to(dtype=torch.int64))\n",
    "        cat_emb = torch.cat([dt_emb, road_emb], dim=1)\n",
    "        cat_out = F.relu(self.cat_fc(cat_emb))\n",
    "        \n",
    "        # traffic\n",
    "        x_dy = x_dy.permute(0, 2, 1)\n",
    "        _, (traffic_h, _) = self.traffic_lstm(x_dy[..., -1:])\n",
    "        \n",
    "        # search\n",
    "        _, (search_h, _) = self.search_lstm(x_dy[..., -3:-1])\n",
    "        # linear\n",
    "        out = torch.cat([traffic_h[0], search_h[0], cat_out], dim=1)\n",
    "        out = F.relu(self.fc1(out))\n",
    "        out = self.fc2(out)\n",
    "        return out"
   ]
  },
  {
   "cell_type": "markdown",
   "id": "c706e125-cdf0-4590-9817-bc3deff9ada1",
   "metadata": {
    "jp-MarkdownHeadingCollapsed": true,
    "tags": []
   },
   "source": [
    "### Conv1d + LSTM"
   ]
  },
  {
   "cell_type": "code",
   "execution_count": 32,
   "id": "3cff1d03-a345-40f5-8970-df8f0bc6d44b",
   "metadata": {},
   "outputs": [],
   "source": [
    "class Conv1dLSTM(nn.Module):\n",
    "    def __init__(self, hid_dim, kernel_size, num_layers=1, batch_first=True):\n",
    "        super().__init__()\n",
    "        \n",
    "        self.hid_dim = hid_dim\n",
    "        self.kernel_size = kernel_size\n",
    "        self.num_layers = num_layers\n",
    "        \n",
    "        self.conv = nn.Conv1d(96, 96, 5)\n",
    "        self.lstm = nn.LSTM(1, hid_dim, num_layers, batch_first=batch_first)\n",
    "        \n",
    "        self.search_conv1 = nn.Conv1d(96, 96, 5)\n",
    "        self.search_conv2 = nn.Conv1d(96, 96, 5)\n",
    "        self.search_fc = nn.Linear(96*2, 64)\n",
    "        \n",
    "        self.fc1 = nn.Linear(hid_dim + 64, 32)\n",
    "        self.fc2 = nn.Linear(32, 1)\n",
    "    \n",
    "    def forward(self, x):\n",
    "        N, D, T, S = x.shape\n",
    "        \n",
    "        # traffic\n",
    "        out = F.relu(self.conv(x[:, -1]))\n",
    "        _, (h, c) = self.lstm(out)\n",
    "        \n",
    "        # search\n",
    "        s_out1 = F.relu(self.search_conv1(x[:, -3]))\n",
    "        s_out1 = s_out1.view(N, -1)\n",
    "        s_out2 = F.relu(self.search_conv2(x[:, -2]))\n",
    "        s_out2 = s_out2.view(N, -1)\n",
    "        s_out = torch.cat([s_out1, s_out2], dim=1)\n",
    "        s_out = F.relu(self.search_fc(s_out))\n",
    "        \n",
    "        # concat\n",
    "        out = torch.cat([h[0], s_out], dim=1)\n",
    "        out = F.relu(self.fc1(out))\n",
    "        out = self.fc2(out)\n",
    "        \n",
    "        return out"
   ]
  },
  {
   "cell_type": "markdown",
   "id": "097cac43-51a8-4f97-86df-21fba6e57ca0",
   "metadata": {
    "jp-MarkdownHeadingCollapsed": true,
    "tags": []
   },
   "source": [
    "### Conv2d + LSTM"
   ]
  },
  {
   "cell_type": "code",
   "execution_count": null,
   "id": "6806342f-9e74-435a-95de-eb5606575288",
   "metadata": {},
   "outputs": [],
   "source": [
    "class Conv2dLSTM(nn.Module):\n",
    "    def __init__(self, hid_dim, kernel_size, num_layers=1, batch_first=True):\n",
    "        super().__init__()\n",
    "        \n",
    "        self.hid_dim = hid_dim\n",
    "        self.kernel_size = kernel_size\n",
    "        self.num_layers = num_layers\n",
    "        self.padding = (4, 0)\n",
    "        \n",
    "        self.conv1 = nn.Conv2d(1, 32, (9, 3), padding=self.padding)\n",
    "        self.conv2 = nn.Conv2d(32, 16, (9, 3), padding=self.padding)\n",
    "        self.lstm = nn.LSTM(16, hid_dim, num_layers, batch_first=batch_first)\n",
    "        \n",
    "        self.search_conv1 = nn.Conv2d(2, 64, (9, 3), padding=self.padding)\n",
    "        self.search_conv2 = nn.Conv2d(64, 32, (9, 3), padding=self.padding)\n",
    "        self.search_fc = nn.Linear(32 * 96, 64)\n",
    "        \n",
    "        self.fc1 = nn.Linear(hid_dim + 64, 32)\n",
    "        self.fc2 = nn.Linear(32, 1)\n",
    "    \n",
    "    def forward(self, x):\n",
    "        N, D, T, S = x.shape   \n",
    "        # traffic\n",
    "        out = F.relu(self.conv1(x[:, -1:]))\n",
    "        out = F.relu(self.conv2(out))\n",
    "        out = out[..., 0].permute(0, 2, 1)\n",
    "        outs, (h, c) = self.lstm(out)\n",
    "        \n",
    "        # search feature\n",
    "        s_out = F.relu(self.search_conv1(x[:, -3:-1]))\n",
    "        s_out = F.relu(self.search_conv2(s_out))\n",
    "        s_out = s_out.view(N, -1)\n",
    "        s_out = F.relu(self.search_fc(s_out))\n",
    "        \n",
    "        # predict\n",
    "        out = torch.cat([h[0], s_out], dim=1)\n",
    "        out = F.relu(self.fc1(out))\n",
    "        out = self.fc2(out)\n",
    "        \n",
    "        return out"
   ]
  },
  {
   "cell_type": "markdown",
   "id": "5b51dab4-9100-4b0c-b7de-ec0801fc9f9d",
   "metadata": {
    "tags": []
   },
   "source": [
    "### Embedding + Conv2d + LSTM"
   ]
  },
  {
   "cell_type": "code",
   "execution_count": 16,
   "id": "a45890ff-5a2a-4c56-b3f5-71c4886ea799",
   "metadata": {},
   "outputs": [],
   "source": [
    "# normal\n",
    "# EMB_DIM = 16\n",
    "# CONV_DIM = 32 # 32->16\n",
    "# LSTM_DIM = 64\n",
    "# LSTM_LAYERS = 1\n",
    "# SEARCH_CONV_DIM = 64 # 64->32\n",
    "# SEARCH_FC_DIM = 32\n",
    "# FC1_DIM = 32\n",
    "\n",
    "# wide\n",
    "EMB_DIM = 16\n",
    "CONV_DIM = 64\n",
    "LSTM_DIM = 64\n",
    "LSTM_LAYERS = 1\n",
    "SEARCH_CONV_DIM = 64\n",
    "SEARCH_FC_DIM = 128\n",
    "FC1_DIM = 64\n",
    "\n",
    "# wide2\n",
    "# EMB_DIM = 16\n",
    "# CONV_DIM = 64\n",
    "# LSTM_DIM = 128\n",
    "# LSTM_LAYERS = 2\n",
    "# SEARCH_CONV_DIM = 64\n",
    "# SEARCH_FC_DIM = 128\n",
    "# FC1_DIM = 64"
   ]
  },
  {
   "cell_type": "code",
   "execution_count": 28,
   "id": "ab342350-7af9-4c19-9f91-d9d40422ebc6",
   "metadata": {
    "tags": []
   },
   "outputs": [],
   "source": [
    "class Conv2dLSTM_Embedding(nn.Module):\n",
    "    def __init__(self, hid_dim, kernel_size, padding=(4,0), num_layers=1, batch_first=True):\n",
    "        super().__init__()\n",
    "        \n",
    "        self.hid_dim = hid_dim\n",
    "        self.kernel_size = kernel_size\n",
    "        self.num_layers = num_layers\n",
    "        self.padding = padding\n",
    "        \n",
    "        # categorical\n",
    "        self.dt_n_embed = 32\n",
    "        self.road_n_embed = 16\n",
    "        self.n_embed = self.dt_n_embed + self.road_n_embed\n",
    "        self.dt_embed = nn.Embedding(len(dt_table), self.dt_n_embed)\n",
    "        self.road_embed = nn.Embedding(len(sec_table), self.road_n_embed)\n",
    "        self.cat_fc = nn.Linear(self.n_embed, EMB_DIM)\n",
    "        self.cat_bn = nn.BatchNorm1d(EMB_DIM)\n",
    "        \n",
    "        # traffic\n",
    "        self.conv1 = nn.Conv2d(4, CONV_DIM, (9, 3), padding=self.padding)\n",
    "        self.bn1 = nn.BatchNorm2d(CONV_DIM)\n",
    "        self.conv2 = nn.Conv2d(CONV_DIM, CONV_DIM, (9, 3), padding=self.padding)\n",
    "        self.bn2 = nn.BatchNorm2d(CONV_DIM)\n",
    "        self.lstm = nn.LSTM(CONV_DIM, hid_dim, num_layers, batch_first=batch_first)\n",
    "        \n",
    "        # search\n",
    "        self.search_conv1 = nn.Conv2d(2, SEARCH_CONV_DIM, (9, 3), padding=self.padding)\n",
    "        self.search_bn1 = nn.BatchNorm2d(SEARCH_CONV_DIM)\n",
    "        self.search_conv2 = nn.Conv2d(SEARCH_CONV_DIM, SEARCH_CONV_DIM, (9, 3), padding=self.padding)\n",
    "        self.search_bn2 = nn.BatchNorm2d(SEARCH_CONV_DIM)\n",
    "        self.search_fc = nn.Linear(SEARCH_CONV_DIM * 168, SEARCH_FC_DIM)\n",
    "        self.search_bn3 = nn.BatchNorm1d(SEARCH_FC_DIM)\n",
    "        \n",
    "        # linear (traffic + search + categorical)\n",
    "        self.fc1 = nn.Linear(hid_dim + SEARCH_FC_DIM + EMB_DIM, FC1_DIM)\n",
    "        self.bn3 = nn.BatchNorm1d(FC1_DIM)\n",
    "        self.fc2 = nn.Linear(FC1_DIM, 2)\n",
    "        \n",
    "        # dropout\n",
    "        self.embed_dropout = nn.Dropout(p=0.6)\n",
    "        self.dropout = nn.Dropout(p=0.4)\n",
    "        self.last_dropout = nn.Dropout(p=0.2)\n",
    "        \n",
    "    def forward(self, x):  \n",
    "        x_dy, x_st = x\n",
    "        N, D, T, S = x_dy.shape\n",
    "        \n",
    "        # categorical (datetime + road)\n",
    "        dt_emb = self.dt_embed(x_st[..., 0].to(dtype=torch.int64))\n",
    "        road_emb = self.road_embed(x_st[..., 1].to(dtype=torch.int64))\n",
    "        cat_emb = torch.cat([dt_emb, road_emb], dim=1)\n",
    "        cat_out = F.relu(self.cat_bn(self.cat_fc(cat_emb)))\n",
    "        cat_out = self.embed_dropout(cat_out)\n",
    "        \n",
    "        # traffic\n",
    "        out = F.relu(self.bn1(self.conv1(x_dy[:, -4:])))\n",
    "        # out = self.dropout(out)\n",
    "        out = F.relu(self.bn2(self.conv2(out)))\n",
    "        # out = self.dropout(out)\n",
    "        out = out[..., 0].permute(0, 2, 1)\n",
    "        outs, (h, c) = self.lstm(out)\n",
    "        h = self.dropout(h)\n",
    "        \n",
    "        # search\n",
    "        s_out = F.relu(self.search_bn1(self.search_conv1(x_dy[:, -6:-4])))\n",
    "        s_out = F.relu(self.search_bn2(self.search_conv2(s_out)))\n",
    "        # s_out = self.dropout(s_out)\n",
    "        s_out = s_out.view(N, -1)\n",
    "        s_out = F.relu(self.search_bn3(self.search_fc(s_out)))\n",
    "        s_out = self.dropout(s_out)\n",
    "        \n",
    "        # linear\n",
    "        out = torch.cat([h[0], s_out, cat_out], dim=1)\n",
    "        out = F.relu(self.bn3(self.fc1(out)))\n",
    "        out = self.last_dropout(out)\n",
    "        out = self.fc2(out)\n",
    "        \n",
    "        return out"
   ]
  },
  {
   "cell_type": "code",
   "execution_count": 17,
   "id": "2d0ac97d-6719-4879-acf5-9070a1e16dc0",
   "metadata": {
    "jupyter": {
     "source_hidden": true
    },
    "tags": []
   },
   "outputs": [],
   "source": [
    "class Conv2dLSTM_Embedding(nn.Module):\n",
    "    def __init__(self, hid_dim, kernel_size, padding=(4,0), num_layers=1, batch_first=True):\n",
    "        super().__init__()\n",
    "        \n",
    "        self.hid_dim = hid_dim\n",
    "        self.kernel_size = kernel_size\n",
    "        self.num_layers = num_layers\n",
    "        self.padding = padding\n",
    "        \n",
    "        # categorical\n",
    "        self.dt_n_embed = 32\n",
    "        self.road_n_embed = 16\n",
    "        self.n_embed = self.dt_n_embed + self.road_n_embed\n",
    "        self.dt_embed = nn.Embedding(len(dt_table), self.dt_n_embed)\n",
    "        self.road_embed = nn.Embedding(len(sec_table), self.road_n_embed)\n",
    "        self.cat_fc = nn.Linear(self.n_embed, EMB_DIM)\n",
    "        self.cat_bn = nn.BatchNorm1d(EMB_DIM)\n",
    "        \n",
    "        # traffic\n",
    "        self.conv1 = nn.Conv2d(4, CONV_DIM, (9, 3), padding=self.padding)\n",
    "        self.bn1 = nn.BatchNorm2d(CONV_DIM)\n",
    "        self.conv2 = nn.Conv2d(CONV_DIM, CONV_DIM, (9, 3), padding=self.padding)\n",
    "        self.bn2 = nn.BatchNorm2d(CONV_DIM)\n",
    "        self.lstm = nn.LSTM(CONV_DIM, hid_dim, num_layers, batch_first=batch_first)\n",
    "        \n",
    "        # search\n",
    "        self.search_conv1 = nn.Conv2d(2, SEARCH_CONV_DIM, (9, 3), padding=self.padding)\n",
    "        self.search_bn1 = nn.BatchNorm2d(SEARCH_CONV_DIM)\n",
    "        self.search_conv2 = nn.Conv2d(SEARCH_CONV_DIM, SEARCH_CONV_DIM, (9, 3), padding=self.padding)\n",
    "        self.search_bn2 = nn.BatchNorm2d(SEARCH_CONV_DIM)\n",
    "        self.search_fc = nn.Linear(SEARCH_CONV_DIM * 168, SEARCH_FC_DIM)\n",
    "        self.search_bn3 = nn.BatchNorm1d(SEARCH_FC_DIM)\n",
    "        \n",
    "        # linear (traffic + search + categorical)\n",
    "        self.fc1 = nn.Linear(hid_dim + SEARCH_FC_DIM + EMB_DIM, FC1_DIM)\n",
    "        self.bn3 = nn.BatchNorm1d(FC1_DIM)\n",
    "        self.fc2 = nn.Linear(FC1_DIM, 2)\n",
    "        \n",
    "        \n",
    "    def forward(self, x):  \n",
    "        x_dy, x_st = x\n",
    "        N, D, T, S = x_dy.shape\n",
    "        \n",
    "        # categorical (datetime + road)\n",
    "        dt_emb = self.dt_embed(x_st[..., 0].to(dtype=torch.int64))\n",
    "        road_emb = self.road_embed(x_st[..., 1].to(dtype=torch.int64))\n",
    "        cat_emb = torch.cat([dt_emb, road_emb], dim=1)\n",
    "        cat_out = F.relu(self.cat_bn(self.cat_fc(cat_emb)))\n",
    "        \n",
    "        # traffic\n",
    "        out = F.relu(self.bn1(self.conv1(x_dy[:, -4:])))\n",
    "        out = F.relu(self.bn2(self.conv2(out)))\n",
    "        out = out[..., 0].permute(0, 2, 1)\n",
    "        outs, (h, c) = self.lstm(out)\n",
    "        \n",
    "        # search\n",
    "        s_out = F.relu(self.search_bn1(self.search_conv1(x_dy[:, -6:-4])))\n",
    "        s_out = F.relu(self.search_bn2(self.search_conv2(s_out)))\n",
    "        s_out = s_out.view(N, -1)\n",
    "        s_out = F.relu(self.search_bn3(self.search_fc(s_out)))\n",
    "        \n",
    "        # linear\n",
    "        out = torch.cat([h[0], s_out, cat_out], dim=1)\n",
    "        out = F.relu(self.bn3(self.fc1(out)))\n",
    "        out = self.fc2(out)\n",
    "        \n",
    "        return out"
   ]
  },
  {
   "cell_type": "code",
   "execution_count": 5,
   "id": "ed4d691f-225e-4a0d-b66a-915f90746fe3",
   "metadata": {
    "jupyter": {
     "source_hidden": true
    },
    "tags": []
   },
   "outputs": [],
   "source": [
    "class Conv2dLSTM_Embedding(nn.Module):\n",
    "    def __init__(self, hid_dim, kernel_size, padding=(4,0), num_layers=1, batch_first=True):\n",
    "        super().__init__()\n",
    "        \n",
    "        self.hid_dim = hid_dim\n",
    "        self.kernel_size = kernel_size\n",
    "        self.num_layers = num_layers\n",
    "        self.padding = padding\n",
    "        \n",
    "        # categorical\n",
    "        self.dt_n_embed = 32\n",
    "        self.road_n_embed = 16\n",
    "        self.n_embed = self.dt_n_embed + self.road_n_embed\n",
    "        self.dt_embed = nn.Embedding(len(dt_table), self.dt_n_embed)\n",
    "        self.road_embed = nn.Embedding(len(sec_table), self.road_n_embed)\n",
    "        self.cat_fc = nn.Linear(self.n_embed, 16)\n",
    "        \n",
    "        # traffic\n",
    "        self.conv1 = nn.Conv2d(4, 32, (9, 3), padding=self.padding)\n",
    "        self.conv2 = nn.Conv2d(32, 16, (9, 3), padding=self.padding)\n",
    "        self.lstm = nn.LSTM(16, hid_dim, num_layers, batch_first=batch_first)\n",
    "        \n",
    "        # search\n",
    "        self.search_conv1 = nn.Conv2d(2, 64, (9, 3), padding=self.padding)\n",
    "        self.search_conv2 = nn.Conv2d(64, 32, (9, 3), padding=self.padding)\n",
    "        self.search_fc = nn.Linear(32 * 168, 64)\n",
    "        \n",
    "        # linear (traffic + search + categorical)\n",
    "        self.fc1 = nn.Linear(hid_dim + 64 + 16, 32)\n",
    "        self.fc2 = nn.Linear(32, 2)\n",
    "        \n",
    "        \n",
    "    def forward(self, x):  \n",
    "        x_dy, x_st = x\n",
    "        N, D, T, S = x_dy.shape\n",
    "        \n",
    "        # categorical (datetime + road)\n",
    "        dt_emb = self.dt_embed(x_st[..., 0].to(dtype=torch.int64))\n",
    "        road_emb = self.road_embed(x_st[..., 1].to(dtype=torch.int64))\n",
    "        cat_emb = torch.cat([dt_emb, road_emb], dim=1)\n",
    "        cat_out = F.relu(self.cat_fc(cat_emb))\n",
    "        \n",
    "        # traffic\n",
    "        out = F.relu(self.conv1(x_dy[:, -4:]))\n",
    "        out = F.relu(self.conv2(out))\n",
    "        out = out[..., 0].permute(0, 2, 1)\n",
    "        outs, (h, c) = self.lstm(out)\n",
    "        \n",
    "        # search\n",
    "        s_out = F.relu(self.search_conv1(x_dy[:, -6:-4]))\n",
    "        s_out = F.relu(self.search_conv2(s_out))\n",
    "        s_out = s_out.view(N, -1)\n",
    "        s_out = F.relu(self.search_fc(s_out))\n",
    "        \n",
    "        # linear\n",
    "        out = torch.cat([h[0], s_out, cat_out], dim=1)\n",
    "        out = F.relu(self.fc1(out))\n",
    "        out = self.fc2(out)\n",
    "        \n",
    "        return out"
   ]
  },
  {
   "cell_type": "markdown",
   "id": "8d41aa92-6edb-4ee7-940c-990101e90046",
   "metadata": {
    "tags": []
   },
   "source": [
    "## 学習"
   ]
  },
  {
   "cell_type": "code",
   "execution_count": 6,
   "id": "374b51aa-84d2-4c9d-89f3-cfd0e80bb358",
   "metadata": {
    "jupyter": {
     "source_hidden": true
    },
    "tags": []
   },
   "outputs": [],
   "source": [
    "class CTrainer(Trainer):\n",
    "    def __init__(\n",
    "        self,\n",
    "        model,\n",
    "        optimizer,\n",
    "        loss_fn,\n",
    "        device=None,\n",
    "        logger=None,\n",
    "        model_name=None,\n",
    "    ):\n",
    "        super().__init__(model, optimizer, loss_fn, device, logger, model_name)\n",
    "\n",
    "        self.train_accs = []\n",
    "        self.val_accs = []\n",
    "        self.best_acc = 0.0\n",
    "\n",
    "    def fit(\n",
    "        self,\n",
    "        train_loader,\n",
    "        val_loader,\n",
    "        n_epochs,\n",
    "        log_steps=None,\n",
    "        max_first_log_steps=3,\n",
    "        max_time=None,\n",
    "        save_epoch_steps=None,\n",
    "        random_seed=config.RANDOM_SEED,\n",
    "    ):\n",
    "        fix_seed(random_seed)\n",
    "        start = time.time()\n",
    "\n",
    "        for epoch in range(1, n_epochs + 1):\n",
    "            ## increment epoch\n",
    "            self.current_epoch += 1\n",
    "\n",
    "            ## train\n",
    "            self.model.train()\n",
    "            epoch_start = time.time()\n",
    "\n",
    "            train_loss, train_acc = self.__train_epoch(train_loader)\n",
    "            self.train_losses.append(train_loss)\n",
    "            self.train_accs.append(train_acc)\n",
    "            \n",
    "            train_time = time.time() - epoch_start\n",
    "\n",
    "            ## validate\n",
    "            self.model.eval()\n",
    "            epoch_start = time.time()\n",
    "\n",
    "            val_loss, val_acc = self.__valid_epoch(val_loader)\n",
    "            self.val_losses.append(val_loss)\n",
    "            self.val_accs.append(val_acc)\n",
    "\n",
    "            val_time = time.time() - epoch_start\n",
    "\n",
    "            ## logging\n",
    "            log_flag = (self.logger is not None) and (log_steps is not None)\n",
    "            if log_flag and (\n",
    "                (self.current_epoch <= max_first_log_steps)\n",
    "                or (self.current_epoch % log_steps == 0)\n",
    "            ):\n",
    "                message = f\"Epoch: {self.current_epoch} | Train Loss: {train_loss:.3f}, Train F1: {train_acc:.3f}, Train Time: {train_time:.2f} [sec] | Valid Loss: {val_loss:.3f}, Valid F1: {val_acc:.3f}, Valid Time: {val_time:.2f} [sec]\"\n",
    "                self.__logging(message)\n",
    "\n",
    "            if (self.model_name is not None) and (val_acc > self.best_acc):\n",
    "                self.best_acc = val_acc\n",
    "                self.save(self.model_name)\n",
    "\n",
    "            ## early stopping\n",
    "            if (max_time is not None) and (time.time() - start >= max_time):\n",
    "                break\n",
    "\n",
    "        return self.train_losses, self.val_losses\n",
    "\n",
    "    def validate(self, loader):\n",
    "        \"\"\"1epochだけ回して性能を評価\"\"\"\n",
    "        self.model.eval()\n",
    "\n",
    "        total_loss, total_acc = self.__valid_epoch(loader)\n",
    "        return total_loss, total_acc\n",
    "\n",
    "    def predict(self):\n",
    "        return\n",
    "\n",
    "    def __train_epoch(self, loader):\n",
    "        train_loss = 0.0\n",
    "        \n",
    "        ep_target = []\n",
    "        ep_predicted = []\n",
    "\n",
    "        for i_batch, (data, target) in enumerate(loader):\n",
    "            if isinstance(data, (list, tuple)):\n",
    "                data = map(lambda x: x.to(device=self.device), data)\n",
    "            else:\n",
    "                data = data.to(device=self.device)\n",
    "            target = target.to(device=self.device)\n",
    "            target_o = F.one_hot(target[:, 0].long(), num_classes=2).float()\n",
    "\n",
    "            out = self.model(data)\n",
    "            loss = self.loss_fn(out, target_o)\n",
    "\n",
    "            self.optimizer.zero_grad()\n",
    "            loss.backward()\n",
    "            self.optimizer.step()\n",
    "            \n",
    "            _, predicted = torch.max(out.detach(), dim=1)\n",
    "\n",
    "            train_loss += loss.item()\n",
    "            ep_target.append(target[:, 0])\n",
    "            ep_predicted.append(predicted)\n",
    "\n",
    "        train_loss /= len(loader)\n",
    "        \n",
    "        ep_target = torch.cat(ep_target).cpu()\n",
    "        ep_predicted = torch.cat(ep_predicted).cpu()\n",
    "        train_acc = f1_score(ep_target, ep_predicted)\n",
    "        \n",
    "        return train_loss, train_acc\n",
    "\n",
    "    def __valid_epoch(self, loader):\n",
    "        valid_loss = 0.0\n",
    "        \n",
    "        ep_target = []\n",
    "        ep_predicted = []\n",
    "        \n",
    "        with torch.no_grad():\n",
    "            for i_batch, (data, target) in enumerate(loader):\n",
    "                if isinstance(data, (list, tuple)):\n",
    "                    data = map(lambda x: x.to(device=self.device), data)\n",
    "                else:\n",
    "                    data = data.to(device=self.device)\n",
    "                target = target.to(device=self.device)\n",
    "                target_o = F.one_hot(target[:, 0].long(), num_classes=2).float()\n",
    "\n",
    "                out = self.model(data)\n",
    "                loss = self.loss_fn(out, target_o)\n",
    "                _, predicted = torch.max(out, dim=1)\n",
    "\n",
    "                valid_loss += loss.item()\n",
    "                ep_target.append(target[:, 0])\n",
    "                ep_predicted.append(predicted)\n",
    "\n",
    "            valid_loss /= len(loader)\n",
    "            \n",
    "            ep_target = torch.cat(ep_target).cpu()\n",
    "            ep_predicted = torch.cat(ep_predicted).cpu()\n",
    "            valid_acc = f1_score(ep_target, ep_predicted)\n",
    "            \n",
    "        return valid_loss, valid_acc\n",
    "    \n",
    "    def __logging(self, message):\n",
    "        self.logger.log(message)\n",
    "        return"
   ]
  },
  {
   "cell_type": "code",
   "execution_count": 7,
   "id": "e563c7d5-631f-41f3-b6a0-52afbdc0361b",
   "metadata": {},
   "outputs": [],
   "source": [
    "class BalancedLoader:\n",
    "    def __init__(self, dataset, batch_size):\n",
    "        self.features = dataset[:][0][0]\n",
    "        self.static_features = dataset[:][0][1]\n",
    "        self.labels = dataset[:][1]\n",
    "        assert batch_size % 2 == 0\n",
    "        self.batch_size = batch_size\n",
    "        self.n_samples = batch_size // 2\n",
    "        \n",
    "        label_counts = np.bincount(self.labels.view(-1).long())\n",
    "        if label_counts.shape[0] != 2:\n",
    "            raise ValueError(f'Expected 2 class but got {label_counts.shape[0]} class')\n",
    "        if label_counts.min() < self.n_samples:\n",
    "            raise ValueError('`n_samples` must be less than minor label data size')\n",
    "            \n",
    "        major_label = label_counts.argmax()\n",
    "        minor_label = label_counts.argmin()\n",
    "        self.major_indices = np.where(self.labels == major_label)[0]\n",
    "        self.minor_indices = np.where(self.labels == minor_label)[0]\n",
    "        \n",
    "        np.random.shuffle(self.major_indices)\n",
    "            \n",
    "    def __iter__(self):\n",
    "        count = 0\n",
    "        while count + self.n_samples < len(self.major_indices):\n",
    "            mini_major_indices = self.major_indices[count:count+self.n_samples]\n",
    "            mini_minor_indices = np.random.choice(self.minor_indices, self.n_samples, replace=False)\n",
    "            mini_indices = mini_major_indices.tolist() + mini_minor_indices.tolist()\n",
    "            \n",
    "            features = self.features[mini_indices]\n",
    "            static_features = self.static_features[mini_indices]\n",
    "            labels = self.labels[mini_indices]\n",
    "            yield (features, static_features),labels\n",
    "            \n",
    "            count += self.n_samples\n",
    "    \n",
    "    def __len__(self):\n",
    "        return len(self.labels) // self.batch_size"
   ]
  },
  {
   "cell_type": "code",
   "execution_count": 8,
   "id": "2e0c1ac2-2983-4ab5-a12b-d56380519ee7",
   "metadata": {},
   "outputs": [],
   "source": [
    "class FocalLoss(nn.Module):\n",
    "    def __init__(self, gamma):\n",
    "        super(FocalLoss, self).__init__()\n",
    "        self.gamma = gamma\n",
    "\n",
    "    def forward(self, outputs, targets): \n",
    "        bce_loss = F.binary_cross_entropy_with_logits(outputs, targets)\n",
    "        logpt = -bce_loss\n",
    "        pt = torch.exp(logpt)\n",
    "        focal_loss = -((1 - pt) ** self.gamma) * logpt\n",
    "        return focal_loss"
   ]
  },
  {
   "cell_type": "code",
   "execution_count": 29,
   "id": "fab3e372-219a-45e6-807f-802404cf8c5e",
   "metadata": {},
   "outputs": [],
   "source": [
    "batch_size = config.BATCH_SIZE\n",
    "\n",
    "train_loader = BalancedLoader(dataset_train, batch_size=batch_size)\n",
    "val_loader = torch.utils.data.DataLoader(dataset_valid, batch_size=batch_size, shuffle=False)"
   ]
  },
  {
   "cell_type": "markdown",
   "id": "e8f20561-15bc-4437-b2ad-c5849a05a66b",
   "metadata": {
    "jp-MarkdownHeadingCollapsed": true,
    "tags": []
   },
   "source": [
    "### HA"
   ]
  },
  {
   "cell_type": "code",
   "execution_count": 63,
   "id": "0bb15a1e-0309-42c6-8f9a-24c7eadb4444",
   "metadata": {},
   "outputs": [],
   "source": [
    "# data\n",
    "X_tr = torch.load('./datasets/features_train.pkl')\n",
    "X_va = torch.load('./datasets/features_test.pkl')\n",
    "\n",
    "# dataset\n",
    "time_step = 12\n",
    "prediction_horizon = 1\n",
    "space_window = None\n",
    "static_col = None\n",
    "\n",
    "dataset_train = STDataset(X_tr, y_tr, \n",
    "                          time_step=time_step, \n",
    "                          prediction_horizon=prediction_horizon,\n",
    "                          space_window=space_window, \n",
    "                          static_col=static_col)\n",
    "\n",
    "dataset_valid = STDataset(X_va, y_va, \n",
    "                          time_step=time_step, \n",
    "                          prediction_horizon=prediction_horizon,\n",
    "                          space_window=space_window, \n",
    "                          static_col=static_col)\n",
    "\n",
    "# loader\n",
    "batch_size = 256\n",
    "train_loader = torch.utils.data.DataLoader(dataset_train, batch_size=batch_size, shuffle=True)\n",
    "val_loader = torch.utils.data.DataLoader(dataset_valid, batch_size=batch_size, shuffle=False)"
   ]
  },
  {
   "cell_type": "code",
   "execution_count": 64,
   "id": "78145076-5255-4a6f-80a4-fc0e7cab6402",
   "metadata": {},
   "outputs": [
    {
     "name": "stdout",
     "output_type": "stream",
     "text": [
      "2022-08-14 03:45:28.889208 | Time Step: 12 | Loss: 56.652441359661495\n"
     ]
    }
   ],
   "source": [
    "model = HA()\n",
    "loss_fn = nn.L1Loss()\n",
    "\n",
    "logger = Logger(f'{config.LOG_DIR}/HA.log')\n",
    "\n",
    "val_loss = 0.0\n",
    "for d, t in val_loader:\n",
    "    out = model(d)\n",
    "    loss = loss_fn(out, t)\n",
    "    val_loss += loss.item()\n",
    "    \n",
    "val_loss /= len(val_loader)\n",
    "\n",
    "msg = f'Time Step: {time_step} | Loss: {val_loss}'\n",
    "logger.log(msg)"
   ]
  },
  {
   "cell_type": "markdown",
   "id": "5e034a2e-a655-4452-8193-95b577337d1a",
   "metadata": {
    "jp-MarkdownHeadingCollapsed": true,
    "tags": []
   },
   "source": [
    "---\n",
    "### LSTM"
   ]
  },
  {
   "cell_type": "code",
   "execution_count": 19,
   "id": "8c322e5d-ec12-4ce1-be2c-c78628467dbb",
   "metadata": {
    "tags": []
   },
   "outputs": [],
   "source": [
    "# hyper parameters\n",
    "n_epochs = 30\n",
    "hid_dim = 64\n",
    "\n",
    "# path\n",
    "log_path = './logs/LSTM.log'\n",
    "# log_path = None\n",
    "\n",
    "model = LSTM(hid_dim).to(device=device)\n",
    "model_name = 'LSTM'\n",
    "optimizer = optim.Adam(model.parameters())\n",
    "loss_fn = nn.L1Loss()\n",
    "\n",
    "logger = Logger(fname=log_path)\n",
    "trainer = Trainer(model, optimizer, loss_fn, device=device, logger=logger, model_name=model_name)"
   ]
  },
  {
   "cell_type": "code",
   "execution_count": 20,
   "id": "ed214934-0aab-4ae0-8701-4f692c8f670f",
   "metadata": {
    "tags": []
   },
   "outputs": [
    {
     "name": "stdout",
     "output_type": "stream",
     "text": [
      "2022-08-12 16:43:49.212220 | Epoch: 1 | Train Loss: 84.481, Train Time: 52.79 [sec] | Valid Loss: 26.293, Valid Time: 3.44 [sec]\n",
      "2022-08-12 16:44:45.271707 | Epoch: 2 | Train Loss: 20.682, Train Time: 52.62 [sec] | Valid Loss: 19.820, Valid Time: 3.44 [sec]\n",
      "2022-08-12 16:45:41.675216 | Epoch: 3 | Train Loss: 17.737, Train Time: 52.96 [sec] | Valid Loss: 18.742, Valid Time: 3.44 [sec]\n",
      "2022-08-12 16:46:38.149782 | Epoch: 4 | Train Loss: 17.210, Train Time: 53.03 [sec] | Valid Loss: 17.337, Valid Time: 3.44 [sec]\n",
      "2022-08-12 16:47:33.647089 | Epoch: 5 | Train Loss: 16.956, Train Time: 52.06 [sec] | Valid Loss: 18.391, Valid Time: 3.44 [sec]\n",
      "2022-08-12 16:52:14.797811 | Epoch: 10 | Train Loss: 16.408, Train Time: 52.68 [sec] | Valid Loss: 17.449, Valid Time: 3.43 [sec]\n",
      "2022-08-12 16:56:53.519520 | Epoch: 15 | Train Loss: 16.148, Train Time: 52.87 [sec] | Valid Loss: 17.652, Valid Time: 3.44 [sec]\n",
      "2022-08-12 17:01:33.893669 | Epoch: 20 | Train Loss: 16.012, Train Time: 52.45 [sec] | Valid Loss: 17.840, Valid Time: 3.43 [sec]\n",
      "2022-08-12 17:06:11.600662 | Epoch: 25 | Train Loss: 15.913, Train Time: 51.65 [sec] | Valid Loss: 17.444, Valid Time: 3.44 [sec]\n",
      "2022-08-12 17:10:51.170109 | Epoch: 30 | Train Loss: 15.844, Train Time: 52.61 [sec] | Valid Loss: 16.269, Valid Time: 3.42 [sec]\n"
     ]
    }
   ],
   "source": [
    "train_losses, val_losses = \\\n",
    "    trainer.fit(train_loader, val_loader, n_epochs, log_steps=5, max_first_log_steps=5)"
   ]
  },
  {
   "cell_type": "code",
   "execution_count": 26,
   "id": "2b1086e4-af21-4f62-9f76-a8dce73694e6",
   "metadata": {
    "tags": []
   },
   "outputs": [
    {
     "name": "stdout",
     "output_type": "stream",
     "text": [
      "2022-08-13 16:00:25.199092 | Epoch: 65 | Train Loss: 15.600, Train Time: 52.03 [sec] | Valid Loss: 17.158, Valid Time: 3.43 [sec]\n",
      "2022-08-13 16:05:01.422273 | Epoch: 70 | Train Loss: 15.582, Train Time: 51.30 [sec] | Valid Loss: 17.382, Valid Time: 3.42 [sec]\n"
     ]
    }
   ],
   "source": [
    "extra_epochs = 10\n",
    "\n",
    "train_losses, val_losses = \\\n",
    "    trainer.fit(train_loader, val_loader, extra_epochs, log_steps=5, max_first_log_steps=5)"
   ]
  },
  {
   "cell_type": "code",
   "execution_count": 24,
   "id": "9bfb0df9-effc-4d3d-8582-0ff50cf01601",
   "metadata": {},
   "outputs": [],
   "source": [
    "model_path = f'./models/LSTM_{trainer.current_epoch}.pth'\n",
    "torch.save(model.state_dict(), model_path)"
   ]
  },
  {
   "cell_type": "markdown",
   "id": "966341b2-e7b3-42a3-b1ab-b4f0c2786674",
   "metadata": {
    "jp-MarkdownHeadingCollapsed": true,
    "tags": []
   },
   "source": [
    "### LSTM + Embedding"
   ]
  },
  {
   "cell_type": "code",
   "execution_count": null,
   "id": "b900b657-b42a-44fc-9d7b-7299afc3059a",
   "metadata": {},
   "outputs": [],
   "source": [
    "# hyper parameters\n",
    "n_epochs = 50\n",
    "hid_dim = 64\n",
    "\n",
    "# path\n",
    "# log_path = './logs/mini_LSTM+Embedding.log'\n",
    "log_path = None\n",
    "\n",
    "# model\n",
    "model_name = 'Embedding+LSTM'\n",
    "model = LSTM_Embedding(hid_dim).to(device=device)\n",
    "optimizer = optim.Adam(model.parameters())\n",
    "loss_fn = nn.L1Loss()\n",
    "\n",
    "logger = Logger(fname=log_path)\n",
    "trainer = Trainer(model, optimizer, loss_fn, device=device, logger=logger, model_name=model_name)"
   ]
  },
  {
   "cell_type": "code",
   "execution_count": null,
   "id": "638ab74d-eb2c-4218-8980-cf59a29cc5a4",
   "metadata": {
    "tags": []
   },
   "outputs": [],
   "source": [
    "train_losses, val_losses = \\\n",
    "    trainer.fit(train_loader, val_loader, n_epochs, log_steps=5, max_first_log_steps=5)"
   ]
  },
  {
   "cell_type": "code",
   "execution_count": null,
   "id": "6b3ea05b-7349-48b4-9d0b-97ae231340a9",
   "metadata": {},
   "outputs": [],
   "source": [
    "model_path = f'./models/Embedding+LSTM_{trainer.current_epoch}.pth'\n",
    "torch.save(model.state_dict(), model_path)"
   ]
  },
  {
   "cell_type": "markdown",
   "id": "63958339-c869-45ba-aa05-7efb75ec1502",
   "metadata": {
    "jp-MarkdownHeadingCollapsed": true,
    "tags": []
   },
   "source": [
    "### Conv1d + LSTM"
   ]
  },
  {
   "cell_type": "code",
   "execution_count": 33,
   "id": "a533425d-b5de-4912-92ad-9d84b680629b",
   "metadata": {},
   "outputs": [],
   "source": [
    "# hyper parameters\n",
    "n_epochs = 20\n",
    "hid_dim = 64\n",
    "kernel_size = 5\n",
    "num_layers = 1\n",
    "\n",
    "# path\n",
    "log_path = './logs/Conv1d+LSTM.log'\n",
    "\n",
    "# model\n",
    "model_name = 'Conv1d+LSTM'\n",
    "model = Conv1dLSTM(hid_dim, kernel_size, num_layers).to(device=device)\n",
    "optimizer = optim.Adam(model.parameters())\n",
    "loss_fn = nn.L1Loss()\n",
    "\n",
    "logger = Logger(fname=log_path)\n",
    "trainer = Trainer(model, optimizer, loss_fn, device=device, logger=logger, model_name=model_name)"
   ]
  },
  {
   "cell_type": "code",
   "execution_count": 34,
   "id": "4396a77b",
   "metadata": {
    "tags": []
   },
   "outputs": [
    {
     "name": "stdout",
     "output_type": "stream",
     "text": [
      "2022-08-13 16:13:24.592070 | Epoch: 1 | Train Loss: 26.649, Train Time: 68.92 [sec] | Valid Loss: 19.661, Valid Time: 4.41 [sec]\n",
      "2022-08-13 16:14:39.701245 | Epoch: 2 | Train Loss: 16.388, Train Time: 70.71 [sec] | Valid Loss: 17.128, Valid Time: 4.40 [sec]\n",
      "2022-08-13 16:15:54.422551 | Epoch: 3 | Train Loss: 15.679, Train Time: 70.32 [sec] | Valid Loss: 16.343, Valid Time: 4.40 [sec]\n",
      "2022-08-13 16:17:08.979779 | Epoch: 4 | Train Loss: 15.335, Train Time: 70.15 [sec] | Valid Loss: 18.859, Valid Time: 4.40 [sec]\n",
      "2022-08-13 16:18:23.644423 | Epoch: 5 | Train Loss: 15.126, Train Time: 70.27 [sec] | Valid Loss: 15.086, Valid Time: 4.40 [sec]\n",
      "2022-08-13 16:24:37.372779 | Epoch: 10 | Train Loss: 14.589, Train Time: 70.28 [sec] | Valid Loss: 14.881, Valid Time: 4.41 [sec]\n",
      "2022-08-13 16:30:46.669056 | Epoch: 15 | Train Loss: 14.322, Train Time: 68.70 [sec] | Valid Loss: 16.136, Valid Time: 4.41 [sec]\n",
      "2022-08-13 16:36:49.950481 | Epoch: 20 | Train Loss: 14.125, Train Time: 68.48 [sec] | Valid Loss: 16.484, Valid Time: 4.41 [sec]\n"
     ]
    }
   ],
   "source": [
    "train_losses, val_losses = \\\n",
    "    trainer.fit(train_loader, val_loader, n_epochs, log_steps=5, max_first_log_steps=5)"
   ]
  },
  {
   "cell_type": "code",
   "execution_count": 38,
   "id": "e15fb416-665a-4d1e-9382-b81b052a09bd",
   "metadata": {
    "tags": []
   },
   "outputs": [
    {
     "name": "stdout",
     "output_type": "stream",
     "text": [
      "2022-08-14 03:53:57.373291 | Epoch: 45 | Train Loss: 13.623, Train Time: 69.93 [sec] | Valid Loss: 16.044, Valid Time: 4.41 [sec]\n",
      "2022-08-14 04:00:11.166217 | Epoch: 50 | Train Loss: 13.556, Train Time: 70.18 [sec] | Valid Loss: 17.094, Valid Time: 4.42 [sec]\n"
     ]
    }
   ],
   "source": [
    "extra_epochs = 10\n",
    "\n",
    "train_losses, val_losses = \\\n",
    "    trainer.fit(train_loader, val_loader, extra_epochs, log_steps=5, max_first_log_steps=5)"
   ]
  },
  {
   "cell_type": "code",
   "execution_count": 36,
   "id": "e78d8435-604f-4be3-91e1-3754bf1cbcef",
   "metadata": {},
   "outputs": [],
   "source": [
    "model_path = f'./models/Conv1d+LSTM_{trainer.current_epoch}.pth'\n",
    "torch.save(model.state_dict(), model_path)"
   ]
  },
  {
   "cell_type": "markdown",
   "id": "376c297e-d59c-4970-a59b-0f8eaf1a131d",
   "metadata": {
    "jp-MarkdownHeadingCollapsed": true,
    "tags": []
   },
   "source": [
    "### Conv2d + LSTM"
   ]
  },
  {
   "cell_type": "code",
   "execution_count": null,
   "id": "538bb6ae-7404-4e3c-b0e0-1e6abd100484",
   "metadata": {},
   "outputs": [],
   "source": [
    "# hyper parameters\n",
    "n_epochs = 40\n",
    "hid_dim = 64\n",
    "kernel_size = 5\n",
    "num_layers = 1\n",
    "\n",
    "# path\n",
    "# log_path = './logs/Conv2d+LSTM.log'\n",
    "log_path = None\n",
    "\n",
    "# model\n",
    "model_name = 'Conv2d+LSTM'\n",
    "model = Conv2dLSTM(hid_dim, kernel_size).to(device=device)\n",
    "optimizer = optim.Adam(model.parameters())\n",
    "loss_fn = nn.L1Loss()\n",
    "\n",
    "logger = Logger(fname=log_path)\n",
    "trainer = Trainer(model, optimizer, loss_fn, device=device, logger=logger, model_name=model_name)"
   ]
  },
  {
   "cell_type": "code",
   "execution_count": null,
   "id": "f06c60da-bd73-4904-81b3-b89d423d5c1b",
   "metadata": {
    "tags": []
   },
   "outputs": [],
   "source": [
    "train_losses, val_losses = \\\n",
    "    trainer.fit(train_loader, val_loader, n_epochs, log_steps=5, max_first_log_steps=5)"
   ]
  },
  {
   "cell_type": "code",
   "execution_count": null,
   "id": "35e0e123-67ad-41a1-ab89-d32639986f71",
   "metadata": {
    "tags": []
   },
   "outputs": [],
   "source": [
    "train_losses, val_losses = \\\n",
    "    trainer.fit(train_loader, val_loader, 30, log_steps=5, max_first_log_steps=5)"
   ]
  },
  {
   "cell_type": "code",
   "execution_count": null,
   "id": "dd601fe1-728d-48c5-87a1-fcbecea70a73",
   "metadata": {},
   "outputs": [],
   "source": [
    "model_path = f'./models/Conv2d+LSTM_traffic_{trainer.current_epoch}.pth'\n",
    "torch.save(model.state_dict(), model_path)"
   ]
  },
  {
   "cell_type": "markdown",
   "id": "fa32ba5d-0574-4885-8555-1500b56f3bc1",
   "metadata": {
    "tags": []
   },
   "source": [
    "### Embedding + Conv2d + LSTM"
   ]
  },
  {
   "cell_type": "code",
   "execution_count": 30,
   "id": "3301e107-e3b5-4ffe-9912-3e912e8a15e7",
   "metadata": {},
   "outputs": [],
   "source": [
    "# hyper parameters\n",
    "n_epochs = 50\n",
    "hid_dim = LSTM_DIM\n",
    "kernel_size = 5\n",
    "num_layers = 1\n",
    "\n",
    "# path\n",
    "model_name = 'jam/bn_drop2_balanced_focal_Embedding+Conv2d+LSTM'\n",
    "log_path = f'./logs/{model_name}.log'\n",
    "# log_path = None\n",
    "\n",
    "# model\n",
    "model = Conv2dLSTM_Embedding(hid_dim, kernel_size).to(device=device)\n",
    "optimizer = optim.Adam(model.parameters())\n",
    "loss_fn = FocalLoss(gamma=2.0)\n",
    "\n",
    "logger = Logger(fname=log_path)\n",
    "trainer = CTrainer(model, optimizer, loss_fn, device=device, logger=logger, model_name=model_name)"
   ]
  },
  {
   "cell_type": "code",
   "execution_count": 31,
   "id": "aec76554-06f5-4f69-a371-287f1a3cec86",
   "metadata": {
    "tags": []
   },
   "outputs": [
    {
     "name": "stdout",
     "output_type": "stream",
     "text": [
      "2022-08-16 08:26:59.868241 | Epoch: 1 | Train Loss: 0.004, Train F1: 0.966, Train Time: 62.00 [sec] | Valid Loss: 0.011, Valid F1: 0.182, Valid Time: 4.02 [sec]\n",
      "2022-08-16 08:28:06.167396 | Epoch: 2 | Train Loss: 0.000, Train F1: 0.986, Train Time: 62.21 [sec] | Valid Loss: 0.007, Valid F1: 0.223, Valid Time: 4.07 [sec]\n",
      "2022-08-16 08:29:11.896019 | Epoch: 3 | Train Loss: 0.000, Train F1: 0.990, Train Time: 61.48 [sec] | Valid Loss: 0.006, Valid F1: 0.256, Valid Time: 4.24 [sec]\n",
      "2022-08-16 08:30:18.671336 | Epoch: 4 | Train Loss: 0.000, Train F1: 0.992, Train Time: 62.62 [sec] | Valid Loss: 0.005, Valid F1: 0.260, Valid Time: 4.14 [sec]\n",
      "2022-08-16 08:31:25.519668 | Epoch: 5 | Train Loss: 0.000, Train F1: 0.993, Train Time: 62.64 [sec] | Valid Loss: 0.006, Valid F1: 0.270, Valid Time: 4.20 [sec]\n",
      "2022-08-16 08:32:41.050675 | Epoch: 6 | Train Loss: 0.000, Train F1: 0.994, Train Time: 71.32 [sec] | Valid Loss: 0.004, Valid F1: 0.257, Valid Time: 4.20 [sec]\n",
      "2022-08-16 08:33:56.654845 | Epoch: 7 | Train Loss: 0.000, Train F1: 0.995, Train Time: 71.52 [sec] | Valid Loss: 0.005, Valid F1: 0.271, Valid Time: 4.08 [sec]\n",
      "2022-08-16 08:35:12.865902 | Epoch: 8 | Train Loss: 0.000, Train F1: 0.996, Train Time: 72.01 [sec] | Valid Loss: 0.005, Valid F1: 0.288, Valid Time: 4.19 [sec]\n",
      "2022-08-16 08:36:28.289014 | Epoch: 9 | Train Loss: 0.000, Train F1: 0.997, Train Time: 71.16 [sec] | Valid Loss: 0.005, Valid F1: 0.268, Valid Time: 4.25 [sec]\n",
      "2022-08-16 08:37:44.041251 | Epoch: 10 | Train Loss: 0.000, Train F1: 0.997, Train Time: 71.68 [sec] | Valid Loss: 0.004, Valid F1: 0.276, Valid Time: 4.07 [sec]\n",
      "2022-08-16 08:38:59.966055 | Epoch: 11 | Train Loss: 0.000, Train F1: 0.997, Train Time: 71.72 [sec] | Valid Loss: 0.004, Valid F1: 0.263, Valid Time: 4.21 [sec]\n",
      "2022-08-16 08:40:16.018158 | Epoch: 12 | Train Loss: 0.000, Train F1: 0.998, Train Time: 71.88 [sec] | Valid Loss: 0.005, Valid F1: 0.269, Valid Time: 4.17 [sec]\n",
      "2022-08-16 08:41:32.232892 | Epoch: 13 | Train Loss: 0.000, Train F1: 0.998, Train Time: 72.01 [sec] | Valid Loss: 0.005, Valid F1: 0.251, Valid Time: 4.20 [sec]\n",
      "2022-08-16 08:42:48.447690 | Epoch: 14 | Train Loss: 0.000, Train F1: 0.998, Train Time: 71.91 [sec] | Valid Loss: 0.006, Valid F1: 0.241, Valid Time: 4.30 [sec]\n",
      "2022-08-16 08:44:04.954216 | Epoch: 15 | Train Loss: 0.000, Train F1: 0.998, Train Time: 72.33 [sec] | Valid Loss: 0.004, Valid F1: 0.257, Valid Time: 4.18 [sec]\n",
      "2022-08-16 08:45:21.524567 | Epoch: 16 | Train Loss: 0.000, Train F1: 0.998, Train Time: 72.29 [sec] | Valid Loss: 0.006, Valid F1: 0.259, Valid Time: 4.28 [sec]\n",
      "2022-08-16 08:46:38.211312 | Epoch: 17 | Train Loss: 0.000, Train F1: 0.999, Train Time: 72.45 [sec] | Valid Loss: 0.004, Valid F1: 0.256, Valid Time: 4.24 [sec]\n",
      "2022-08-16 08:47:54.610291 | Epoch: 18 | Train Loss: 0.000, Train F1: 0.999, Train Time: 72.20 [sec] | Valid Loss: 0.006, Valid F1: 0.231, Valid Time: 4.20 [sec]\n",
      "2022-08-16 08:49:11.129104 | Epoch: 19 | Train Loss: 0.000, Train F1: 0.999, Train Time: 72.47 [sec] | Valid Loss: 0.005, Valid F1: 0.247, Valid Time: 4.05 [sec]\n",
      "2022-08-16 08:50:27.789970 | Epoch: 20 | Train Loss: 0.000, Train F1: 0.999, Train Time: 72.37 [sec] | Valid Loss: 0.006, Valid F1: 0.251, Valid Time: 4.29 [sec]\n",
      "2022-08-16 08:51:44.198646 | Epoch: 21 | Train Loss: 0.000, Train F1: 0.999, Train Time: 71.97 [sec] | Valid Loss: 0.006, Valid F1: 0.227, Valid Time: 4.43 [sec]\n",
      "2022-08-16 08:53:00.250384 | Epoch: 22 | Train Loss: 0.000, Train F1: 0.999, Train Time: 71.87 [sec] | Valid Loss: 0.007, Valid F1: 0.211, Valid Time: 4.18 [sec]\n",
      "2022-08-16 08:54:16.389167 | Epoch: 23 | Train Loss: 0.000, Train F1: 0.999, Train Time: 71.82 [sec] | Valid Loss: 0.006, Valid F1: 0.232, Valid Time: 4.32 [sec]\n",
      "2022-08-16 08:55:32.408457 | Epoch: 24 | Train Loss: 0.000, Train F1: 0.999, Train Time: 71.83 [sec] | Valid Loss: 0.008, Valid F1: 0.224, Valid Time: 4.19 [sec]\n",
      "2022-08-16 08:56:48.436438 | Epoch: 25 | Train Loss: 0.000, Train F1: 0.999, Train Time: 71.80 [sec] | Valid Loss: 0.007, Valid F1: 0.233, Valid Time: 4.23 [sec]\n",
      "2022-08-16 08:58:04.516959 | Epoch: 26 | Train Loss: 0.000, Train F1: 0.999, Train Time: 71.73 [sec] | Valid Loss: 0.008, Valid F1: 0.223, Valid Time: 4.35 [sec]\n",
      "2022-08-16 08:59:20.613688 | Epoch: 27 | Train Loss: 0.000, Train F1: 0.999, Train Time: 71.74 [sec] | Valid Loss: 0.007, Valid F1: 0.222, Valid Time: 4.35 [sec]\n",
      "2022-08-16 09:00:36.167790 | Epoch: 28 | Train Loss: 0.000, Train F1: 0.999, Train Time: 71.40 [sec] | Valid Loss: 0.008, Valid F1: 0.225, Valid Time: 4.15 [sec]\n",
      "2022-08-16 09:01:52.653087 | Epoch: 29 | Train Loss: 0.000, Train F1: 0.999, Train Time: 72.15 [sec] | Valid Loss: 0.007, Valid F1: 0.225, Valid Time: 4.34 [sec]\n",
      "2022-08-16 09:03:08.541361 | Epoch: 30 | Train Loss: 0.000, Train F1: 0.999, Train Time: 71.69 [sec] | Valid Loss: 0.006, Valid F1: 0.245, Valid Time: 4.20 [sec]\n",
      "2022-08-16 09:04:24.471828 | Epoch: 31 | Train Loss: 0.000, Train F1: 0.999, Train Time: 71.86 [sec] | Valid Loss: 0.007, Valid F1: 0.208, Valid Time: 4.07 [sec]\n",
      "2022-08-16 09:05:40.676000 | Epoch: 32 | Train Loss: 0.000, Train F1: 0.999, Train Time: 72.02 [sec] | Valid Loss: 0.008, Valid F1: 0.207, Valid Time: 4.19 [sec]\n",
      "2022-08-16 09:06:56.723635 | Epoch: 33 | Train Loss: 0.000, Train F1: 0.999, Train Time: 71.66 [sec] | Valid Loss: 0.008, Valid F1: 0.213, Valid Time: 4.39 [sec]\n",
      "2022-08-16 09:08:12.504960 | Epoch: 34 | Train Loss: 0.000, Train F1: 0.999, Train Time: 71.68 [sec] | Valid Loss: 0.008, Valid F1: 0.205, Valid Time: 4.10 [sec]\n",
      "2022-08-16 09:09:28.986588 | Epoch: 35 | Train Loss: 0.000, Train F1: 0.999, Train Time: 72.12 [sec] | Valid Loss: 0.009, Valid F1: 0.207, Valid Time: 4.36 [sec]\n",
      "2022-08-16 09:10:45.289884 | Epoch: 36 | Train Loss: 0.000, Train F1: 0.999, Train Time: 72.06 [sec] | Valid Loss: 0.008, Valid F1: 0.229, Valid Time: 4.24 [sec]\n",
      "2022-08-16 09:12:01.199575 | Epoch: 37 | Train Loss: 0.000, Train F1: 0.999, Train Time: 71.84 [sec] | Valid Loss: 0.008, Valid F1: 0.225, Valid Time: 4.07 [sec]\n",
      "2022-08-16 09:13:17.390232 | Epoch: 38 | Train Loss: 0.000, Train F1: 0.999, Train Time: 71.99 [sec] | Valid Loss: 0.009, Valid F1: 0.227, Valid Time: 4.20 [sec]\n",
      "2022-08-16 09:14:33.908180 | Epoch: 39 | Train Loss: 0.000, Train F1: 0.999, Train Time: 72.17 [sec] | Valid Loss: 0.007, Valid F1: 0.225, Valid Time: 4.34 [sec]\n",
      "2022-08-16 09:15:50.008213 | Epoch: 40 | Train Loss: 0.000, Train F1: 0.999, Train Time: 71.91 [sec] | Valid Loss: 0.007, Valid F1: 0.217, Valid Time: 4.19 [sec]\n",
      "2022-08-16 09:17:06.027466 | Epoch: 41 | Train Loss: 0.000, Train F1: 0.999, Train Time: 71.78 [sec] | Valid Loss: 0.009, Valid F1: 0.206, Valid Time: 4.23 [sec]\n",
      "2022-08-16 09:18:22.129125 | Epoch: 42 | Train Loss: 0.000, Train F1: 1.000, Train Time: 71.77 [sec] | Valid Loss: 0.007, Valid F1: 0.236, Valid Time: 4.33 [sec]\n",
      "2022-08-16 09:19:38.068270 | Epoch: 43 | Train Loss: 0.000, Train F1: 1.000, Train Time: 71.83 [sec] | Valid Loss: 0.010, Valid F1: 0.206, Valid Time: 4.11 [sec]\n",
      "2022-08-16 09:20:53.957560 | Epoch: 44 | Train Loss: 0.000, Train F1: 0.999, Train Time: 71.71 [sec] | Valid Loss: 0.009, Valid F1: 0.194, Valid Time: 4.18 [sec]\n",
      "2022-08-16 09:22:09.921483 | Epoch: 45 | Train Loss: 0.000, Train F1: 0.999, Train Time: 71.77 [sec] | Valid Loss: 0.007, Valid F1: 0.213, Valid Time: 4.19 [sec]\n",
      "2022-08-16 09:23:25.626865 | Epoch: 46 | Train Loss: 0.000, Train F1: 1.000, Train Time: 71.67 [sec] | Valid Loss: 0.008, Valid F1: 0.205, Valid Time: 4.04 [sec]\n",
      "2022-08-16 09:24:41.479541 | Epoch: 47 | Train Loss: 0.000, Train F1: 0.999, Train Time: 71.52 [sec] | Valid Loss: 0.008, Valid F1: 0.225, Valid Time: 4.33 [sec]\n",
      "2022-08-16 09:25:58.058098 | Epoch: 48 | Train Loss: 0.000, Train F1: 1.000, Train Time: 72.09 [sec] | Valid Loss: 0.008, Valid F1: 0.221, Valid Time: 4.49 [sec]\n",
      "2022-08-16 09:27:14.277574 | Epoch: 49 | Train Loss: 0.000, Train F1: 1.000, Train Time: 72.12 [sec] | Valid Loss: 0.009, Valid F1: 0.180, Valid Time: 4.10 [sec]\n",
      "2022-08-16 09:28:30.746152 | Epoch: 50 | Train Loss: 0.000, Train F1: 1.000, Train Time: 72.26 [sec] | Valid Loss: 0.009, Valid F1: 0.200, Valid Time: 4.20 [sec]\n"
     ]
    }
   ],
   "source": [
    "train_losses, val_losses = \\\n",
    "    trainer.fit(train_loader, val_loader, n_epochs, log_steps=1)"
   ]
  },
  {
   "cell_type": "code",
   "execution_count": null,
   "id": "ab6cded3-39d6-40b0-b316-30a2b017a4a6",
   "metadata": {
    "collapsed": true,
    "jupyter": {
     "outputs_hidden": true
    },
    "tags": []
   },
   "outputs": [
    {
     "name": "stdout",
     "output_type": "stream",
     "text": [
      "2022-08-14 17:23:03.000391 | Epoch: 21 | Train Loss: 0.012, Train F1: 0.722, Train Time: 29.47 [sec] | Valid Loss: 0.039, Valid F1: 0.168, Valid Time: 4.26 [sec]\n",
      "2022-08-14 17:23:36.853433 | Epoch: 22 | Train Loss: 0.012, Train F1: 0.732, Train Time: 29.51 [sec] | Valid Loss: 0.038, Valid F1: 0.256, Valid Time: 4.33 [sec]\n",
      "2022-08-14 17:24:10.281479 | Epoch: 23 | Train Loss: 0.011, Train F1: 0.739, Train Time: 29.11 [sec] | Valid Loss: 0.042, Valid F1: 0.217, Valid Time: 4.31 [sec]\n",
      "2022-08-14 17:24:44.096840 | Epoch: 24 | Train Loss: 0.011, Train F1: 0.753, Train Time: 29.49 [sec] | Valid Loss: 0.043, Valid F1: 0.237, Valid Time: 4.32 [sec]\n",
      "2022-08-14 17:25:17.973425 | Epoch: 25 | Train Loss: 0.010, Train F1: 0.765, Train Time: 29.54 [sec] | Valid Loss: 0.041, Valid F1: 0.225, Valid Time: 4.34 [sec]\n",
      "2022-08-14 17:25:51.438863 | Epoch: 26 | Train Loss: 0.010, Train F1: 0.776, Train Time: 29.23 [sec] | Valid Loss: 0.043, Valid F1: 0.170, Valid Time: 4.23 [sec]\n",
      "2022-08-14 17:26:25.099145 | Epoch: 27 | Train Loss: 0.009, Train F1: 0.784, Train Time: 29.43 [sec] | Valid Loss: 0.046, Valid F1: 0.233, Valid Time: 4.23 [sec]\n",
      "2022-08-14 17:26:58.745359 | Epoch: 28 | Train Loss: 0.009, Train F1: 0.800, Train Time: 29.42 [sec] | Valid Loss: 0.043, Valid F1: 0.241, Valid Time: 4.22 [sec]\n",
      "2022-08-14 17:27:31.745946 | Epoch: 29 | Train Loss: 0.008, Train F1: 0.806, Train Time: 28.79 [sec] | Valid Loss: 0.047, Valid F1: 0.232, Valid Time: 4.21 [sec]\n",
      "2022-08-14 17:28:05.378846 | Epoch: 30 | Train Loss: 0.008, Train F1: 0.814, Train Time: 29.42 [sec] | Valid Loss: 0.050, Valid F1: 0.215, Valid Time: 4.22 [sec]\n",
      "2022-08-14 17:28:39.151569 | Epoch: 31 | Train Loss: 0.008, Train F1: 0.823, Train Time: 29.44 [sec] | Valid Loss: 0.048, Valid F1: 0.233, Valid Time: 4.33 [sec]\n",
      "2022-08-14 17:29:12.532446 | Epoch: 32 | Train Loss: 0.007, Train F1: 0.834, Train Time: 29.06 [sec] | Valid Loss: 0.050, Valid F1: 0.234, Valid Time: 4.32 [sec]\n",
      "2022-08-14 17:29:45.326252 | Epoch: 33 | Train Loss: 0.007, Train F1: 0.841, Train Time: 28.47 [sec] | Valid Loss: 0.052, Valid F1: 0.223, Valid Time: 4.32 [sec]\n",
      "2022-08-14 17:30:18.913828 | Epoch: 34 | Train Loss: 0.007, Train F1: 0.845, Train Time: 29.27 [sec] | Valid Loss: 0.054, Valid F1: 0.211, Valid Time: 4.31 [sec]\n",
      "2022-08-14 17:30:52.478786 | Epoch: 35 | Train Loss: 0.006, Train F1: 0.856, Train Time: 29.25 [sec] | Valid Loss: 0.055, Valid F1: 0.229, Valid Time: 4.32 [sec]\n",
      "2022-08-14 17:31:24.666791 | Epoch: 36 | Train Loss: 0.006, Train F1: 0.867, Train Time: 27.89 [sec] | Valid Loss: 0.058, Valid F1: 0.219, Valid Time: 4.30 [sec]\n",
      "2022-08-14 17:31:58.083600 | Epoch: 37 | Train Loss: 0.006, Train F1: 0.872, Train Time: 29.11 [sec] | Valid Loss: 0.060, Valid F1: 0.197, Valid Time: 4.31 [sec]\n"
     ]
    }
   ],
   "source": [
    "extra_epochs = 20\n",
    "\n",
    "train_losses, val_losses = \\\n",
    "    trainer.fit(train_loader, val_loader, extra_epochs, log_steps=1)"
   ]
  },
  {
   "cell_type": "markdown",
   "id": "95806d53-47b4-4009-b34f-c4706e0fb947",
   "metadata": {
    "tags": []
   },
   "source": [
    "### 学習曲線"
   ]
  },
  {
   "cell_type": "code",
   "execution_count": 33,
   "id": "afb674a8-cb27-4040-ae77-1b140045fe1c",
   "metadata": {
    "tags": []
   },
   "outputs": [
    {
     "data": {
      "image/png": "[encoded data removed]",
      "text/plain": [
       "<Figure size 504x360 with 1 Axes>"
      ]
     },
     "metadata": {
      "needs_background": "light"
     },
     "output_type": "display_data"
    }
   ],
   "source": [
    "fig, ax = plt.subplots(figsize=(7,5))\n",
    "ax.plot(range(len(trainer.train_losses)), trainer.train_losses)\n",
    "ax.plot(range(len(trainer.val_losses)), trainer.val_losses)\n",
    "plt.show()"
   ]
  },
  {
   "cell_type": "code",
   "execution_count": 34,
   "id": "b5b4a332-4ec9-44f8-bf34-ef879b124eef",
   "metadata": {
    "tags": []
   },
   "outputs": [
    {
     "data": {
      "image/png": "[encoded data removed]",
      "text/plain": [
       "<Figure size 504x360 with 1 Axes>"
      ]
     },
     "metadata": {
      "needs_background": "light"
     },
     "output_type": "display_data"
    }
   ],
   "source": [
    "fig, ax = plt.subplots(figsize=(7,5))\n",
    "ax.plot(range(len(trainer.train_accs)), trainer.train_accs)\n",
    "ax.plot(range(len(trainer.val_accs)), trainer.val_accs)\n",
    "plt.show()"
   ]
  },
  {
   "cell_type": "code",
   "execution_count": null,
   "id": "313512b5-4c4d-48aa-ba0f-63c3d3e74035",
   "metadata": {},
   "outputs": [],
   "source": [
    "print(trainer.validate(train_loader))\n",
    "print(trainer.validate(val_loader))"
   ]
  },
  {
   "cell_type": "markdown",
   "id": "4849861c-36f1-4999-8a66-566bac30fc34",
   "metadata": {},
   "source": [
    "## 予測結果"
   ]
  },
  {
   "cell_type": "code",
   "execution_count": null,
   "id": "aeb058e7-c2b5-4f58-97c9-cd0639102317",
   "metadata": {},
   "outputs": [],
   "source": [
    "start_date = pd.Timestamp('2022/5/1') - dt.timedelta(minutes=15) * time_step\n",
    "end_date = pd.Timestamp('2022/5/9') - dt.timedelta(minutes=15)"
   ]
  },
  {
   "cell_type": "code",
   "execution_count": null,
   "id": "8fa995b0-32cd-4ee1-b6af-fe3de2fd3070",
   "metadata": {},
   "outputs": [],
   "source": [
    "S = sec_table.shape[0]\n",
    "T = int((end_date - start_date).total_seconds() // (60 * 15))\n",
    "D = len(feature_col)\n",
    "\n",
    "X_test = torch.empty((S, T, D), dtype=torch.float32)\n",
    "y_test = torch.empty((S, T, 1), dtype=torch.float32)\n",
    "\n",
    "for sec_id, (s_name, e_name, *_) in sec_table.iterrows():\n",
    "    query = f'start_name == \"{s_name}\" & end_name == \"{e_name}\"'\n",
    "    df_sec = df_all.query(f'start_name == \"{s_name}\" & end_name == \"{e_name}\"')\n",
    "    df_sec = df_sec[(df_sec['datetime'] >= start_date) & (df_sec['datetime'] < end_date)]\n",
    "    \n",
    "    data = df_sec.loc[:, feature_col].values\n",
    "    target = df_sec.loc[:, target_col].values\n",
    "    \n",
    "    X_test[sec_id] = torch.from_numpy(data)\n",
    "    y_test[sec_id, :, 0] = torch.from_numpy(target)\n",
    "    \n",
    "X_test = scaler.transform(X_test)\n",
    "\n",
    "dataset_test = STDataset(X_test, y_test, time_step=time_step, prediction_horizon=prediction_horizon)"
   ]
  },
  {
   "cell_type": "code",
   "execution_count": null,
   "id": "80ea87be-7c0d-4929-9726-a313eceb9c31",
   "metadata": {},
   "outputs": [],
   "source": [
    "data = dataset_test[:][0].to(device=device)\n",
    "\n",
    "with torch.no_grad():\n",
    "    pred = model(data)\n",
    "\n",
    "pred = pred.view(S, -1).to(device='cpu')\n",
    "target = dataset_test[:][1].view(S, -1).to(device='cpu')\n",
    "\n",
    "plot_sections = [27, 36]\n",
    "fig, axes = plt.subplots(len(plot_sections), 1, figsize=(15, 7))\n",
    "for i, sec_id in enumerate(plot_sections):\n",
    "    axes[i].plot(target[sec_id], label='true')    \n",
    "    axes[i].plot(pred[sec_id], label='pred')\n",
    "    \n",
    "    title = f'{sec_table.loc[sec_id, \"start_name\"]} ~ {sec_table.loc[sec_id, \"end_name\"]}'\n",
    "    axes[i].set_title(title)"
   ]
  },
  {
   "cell_type": "code",
   "execution_count": null,
   "id": "bfe87e3f-1a43-4d7e-baf0-c1d0827e346d",
   "metadata": {},
   "outputs": [],
   "source": []
  },
  {
   "cell_type": "code",
   "execution_count": null,
   "id": "ceb5a7dd-2786-4b7f-8db8-1b8fd9747d07",
   "metadata": {},
   "outputs": [],
   "source": []
  },
  {
   "cell_type": "code",
   "execution_count": null,
   "id": "70220b82-63db-44ff-94e5-670621ccdf62",
   "metadata": {},
   "outputs": [],
   "source": [
    "tmp_train = df_test[(df_test['start_name'] == '鶴ヶ島') & (df_test['direction'] == 1)]\n",
    "tmp_train = tmp_train.loc[:, key_col + features]\n",
    "\n",
    "# 時系列長\n",
    "N_period = tmp_train.drop_duplicates(\"datetime\").shape[0]\n",
    "# 区間数\n",
    "N_sec = tmp_train.drop_duplicates([\"start_name\", \"end_name\"]).shape[0]\n",
    "# 特徴量数\n",
    "D = len(features)\n",
    "\n",
    "tmp_train_value = tmp_train[features].values.reshape(1, N_period, D)\n",
    "tmp_train_norm = (tmp_train_value - X_mean) / X_std"
   ]
  },
  {
   "cell_type": "code",
   "execution_count": null,
   "id": "2c6c00c2-90d7-4da0-963f-7f631e0a5dbe",
   "metadata": {},
   "outputs": [],
   "source": [
    "tmp_X = []\n",
    "\n",
    "for i in range(N_sec):\n",
    "    for t in range(time_step, N_period - 24):\n",
    "        time_pred = t + 24\n",
    "        time_input = (t - time_step, t + time_step + 1)\n",
    "        x_ = tmp_train_norm[i, time_input[0] : time_input[1]]\n",
    "        tmp_X.append(x_)\n",
    "\n",
    "tmp_X = torch.from_numpy(np.array(tmp_X, dtype=np.float32))"
   ]
  },
  {
   "cell_type": "code",
   "execution_count": null,
   "id": "f1369b62-c2ce-4512-a50c-e050ade2ed96",
   "metadata": {},
   "outputs": [],
   "source": [
    "tmp_pred = model(tmp_X.to(device=device))"
   ]
  },
  {
   "cell_type": "code",
   "execution_count": null,
   "id": "741a600e-c0c8-4e35-ab44-0070998eb449",
   "metadata": {},
   "outputs": [],
   "source": [
    "ys = np.arange(time_step, N_period - 24) + 24\n",
    "tmp_y = tmp_train.iloc[ys, -1].values.reshape(-1, 1)\n",
    "tmp_y = torch.from_numpy(tmp_y).to(device=device)"
   ]
  },
  {
   "cell_type": "code",
   "execution_count": null,
   "id": "75c7908b-8ca8-45f2-ab77-9f9571a38319",
   "metadata": {},
   "outputs": [],
   "source": [
    "tmp_y[-10:]"
   ]
  },
  {
   "cell_type": "code",
   "execution_count": null,
   "id": "bfc7632f-df57-4347-a9e6-bf336e0cfdd9",
   "metadata": {},
   "outputs": [],
   "source": [
    "tmp_pred[-10:]"
   ]
  },
  {
   "cell_type": "code",
   "execution_count": null,
   "id": "1f122439-cf23-4510-9a91-ab1dfab22159",
   "metadata": {
    "tags": []
   },
   "outputs": [],
   "source": [
    "with torch.no_grad():\n",
    "    i = 0\n",
    "    for data, target in dataset_train:\n",
    "        if i >= 10:\n",
    "            break\n",
    "        i += 1\n",
    "        print(f'------- {i} -------')\n",
    "        out = model(data.to(device=device))\n",
    "        print(target)\n",
    "        print(out)\n",
    "        print(torch.sqrt(nn.functional.mse_loss(out, target.to(device=device))).item())\n",
    "        print()"
   ]
  },
  {
   "cell_type": "code",
   "execution_count": null,
   "id": "105cdb92-cd84-4abb-97f8-65ea5a5f3cf3",
   "metadata": {
    "tags": []
   },
   "outputs": [],
   "source": [
    "n_epochs = 3000\n",
    "in_dim = X_train.shape[-1]\n",
    "hid_dim = 100\n",
    "out_dim = 1\n",
    "num_layers = 1\n",
    "\n",
    "model = Net(in_dim, hid_dim, out_dim, num_layers).to(device=device)\n",
    "optimizer = optim.Adam(model.parameters())\n",
    "\n",
    "loss_fn = nn.MSELoss()\n",
    "\n",
    "losses = []\n",
    "\n",
    "for epoch in range(n_epochs):\n",
    "    total_loss = 0\n",
    "    for data, target in train_loader:\n",
    "        data = data.to(device=device)\n",
    "        target = target.unsqueeze(1).to(device=device)\n",
    "        \n",
    "        out = model(data)\n",
    "        loss = loss_fn(out, target)\n",
    "        total_loss += loss\n",
    "        \n",
    "        optimizer.zero_grad()\n",
    "        loss.backward()\n",
    "        optimizer.step()\n",
    "    \n",
    "    losses.append(total_loss)\n",
    "\n",
    "    if epoch < 3 or (epoch + 1) % 100 == 0:\n",
    "        print(f'{dt.datetime.now()} | Epoch {epoch+1} | Loss: {loss}')"
   ]
  }
 ],
 "metadata": {
  "kernelspec": {
   "display_name": "Python 3 (ipykernel)",
   "language": "python",
   "name": "python3"
  },
  "language_info": {
   "codemirror_mode": {
    "name": "ipython",
    "version": 3
   },
   "file_extension": ".py",
   "mimetype": "text/x-python",
   "name": "python",
   "nbconvert_exporter": "python",
   "pygments_lexer": "ipython3",
   "version": "3.8.10"
  }
 },
 "nbformat": 4,
 "nbformat_minor": 5
}
