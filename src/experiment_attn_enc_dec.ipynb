{
 "cells": [
  {
   "cell_type": "code",
   "execution_count": 1,
   "id": "85f9b686-4dee-4846-b006-9d3b39292662",
   "metadata": {
    "tags": []
   },
   "outputs": [],
   "source": [
    "import itertools\n",
    "import datetime as dt\n",
    "\n",
    "import numpy as np\n",
    "import pandas as pd\n",
    "from pandas.api.types import CategoricalDtype\n",
    "import matplotlib.pyplot as plt\n",
    "plt.rcParams['font.family'] = 'Noto Sans CJK JP'\n",
    "import seaborn as sns\n",
    "import tqdm\n",
    "from sklearn.preprocessing import StandardScaler\n",
    "import torch\n",
    "import torch.nn as nn\n",
    "import torch.nn.functional as F\n",
    "import torch.optim as optim\n",
    "\n",
    "from utils.scaler import STMatrixStandardScaler\n",
    "from utils.helper import format_stmatrix, train_test_split, fix_seed, seed_worker\n",
    "# from dataset import STDataset\n",
    "from encdec.dataset import STDataset\n",
    "# from trainer import Trainer\n",
    "from encdec.trainer import Trainer\n",
    "from logger import Logger\n",
    "import config"
   ]
  },
  {
   "cell_type": "code",
   "execution_count": 2,
   "id": "5a66af52-fa9b-44a1-8e3d-7c1ab733e773",
   "metadata": {},
   "outputs": [
    {
     "data": {
      "text/plain": [
       "device(type='cuda', index=2)"
      ]
     },
     "execution_count": 2,
     "metadata": {},
     "output_type": "execute_result"
    }
   ],
   "source": [
    "device = torch.device(\"cuda:2\" if torch.cuda.is_available() else \"cpu\")\n",
    "device"
   ]
  },
  {
   "cell_type": "markdown",
   "id": "600f0112-9df1-4430-a141-c4b94a5a4962",
   "metadata": {
    "jp-MarkdownHeadingCollapsed": true,
    "tags": []
   },
   "source": [
    "## 前処理してデータセットを作成\n",
    "- 渋滞量 -> フラグに変換\n",
    "- 方向 -> 0/1に変換\n",
    "    - 上り: 0, 下り: 1\n",
    "- 四半期を数値化\n",
    "- 使用しないカラムを落とす\n",
    "    - 天気 + `index`, `data`, `road_code`, `jam_type`\n",
    "- 速度の欠損を埋める\n",
    "- OCC -> [0, 1]に変換\n",
    "- 型変換\n",
    "    - float64 -> float32\n",
    "    - 区間の名前, コード, 県コード, 0/1系, カレンダーデータをcategoryデータに\n",
    "    - degreeをint32"
   ]
  },
  {
   "cell_type": "code",
   "execution_count": null,
   "id": "529b47c5-ece1-4061-b622-f0c26c9de6d1",
   "metadata": {},
   "outputs": [],
   "source": [
    "# 道路名\n",
    "# TARGET_ROAD='tateyama'\n",
    "TARGET_ROAD='kannetsu'\n",
    "\n",
    "# 交通量\n",
    "PROCESSED_DATA_DIR = '../Input_processed_data'\n",
    "TRAFFIC_DIR = f'{PROCESSED_DATA_DIR}/traffic'\n",
    "TRAFFIC_CSV = f'{TRAFFIC_DIR}/{TARGET_ROAD}_20220621all-merged_filled_1h.csv'"
   ]
  },
  {
   "cell_type": "code",
   "execution_count": null,
   "id": "3b58e808-e64e-4d7d-836d-04fd532a1054",
   "metadata": {
    "tags": []
   },
   "outputs": [],
   "source": [
    "col_types = {'start_code': str, 'end_code': str, 'road_code': str, 'jam_type': str,}\n",
    "\n",
    "df = pd.read_csv(TRAFFIC_CSV, parse_dates=True, index_col='datetime', dtype=col_types).reset_index()"
   ]
  },
  {
   "cell_type": "code",
   "execution_count": null,
   "id": "2898041e-0cc7-420f-9363-73a3edc61e7d",
   "metadata": {},
   "outputs": [],
   "source": [
    "def linear_interpolate(df, col):\n",
    "    '''\n",
    "    dfのcolカラム内の欠損を区間ごとに線形補間する\n",
    "    '''\n",
    "    f = lambda g: g.interpolate(method='linear', axis=0)\n",
    "    \n",
    "    df.sort_values('datetime', inplace=True)\n",
    "    df[col] = df.groupby(['start_code', 'end_code'])[col].apply(f)\n",
    "    return df\n",
    "\n",
    "\n",
    "def preprocess(df):\n",
    "    # 「年」情報を入れる\n",
    "    df['year'] = df['datetime'].dt.year\n",
    "    # 渋滞フラグ 0/1\n",
    "    df['jam_quantity'] = np.where(df['speed'] < 40, 1, 0)\n",
    "    # 方向を数値化\n",
    "    direction_map = {'上り': 0, '下り': 1}\n",
    "    df['direction'] = df['direction'].map(direction_map)\n",
    "    # 四半期を数値化\n",
    "    df['quarter'] = df['quarter'].str[-1]\n",
    "    \n",
    "    # object型のカラム, いらないカラムを落とす\n",
    "    drop_cols = [\n",
    "        'index', 'date', 'road_code', 'pressure', 'rainfall', \n",
    "        'temperature', 'humidity', 'wind_speed', 'daylight_hours', \n",
    "        'snowfall', 'deepest_snowfall', 'weather_description', 'jam_type'\n",
    "    ]\n",
    "    df.drop(drop_cols, axis=1, inplace=True)\n",
    "    \n",
    "    # 速度の欠損を埋める\n",
    "    df = linear_interpolate(df, 'speed')\n",
    "    # OCCを[0,1]に変換\n",
    "    df['OCC'] = df['OCC'] / 100.0\n",
    "    \n",
    "    # 型変換\n",
    "    f64_cols = df.select_dtypes(include=[np.float64]).columns\n",
    "    df.loc[:, f64_cols] = df.loc[:, f64_cols].astype(np.float32)\n",
    "    i64_cols = df.select_dtypes(include=[int]).columns\n",
    "    df.loc[:, i64_cols] = df.loc[:, i64_cols].astype(np.int32)\n",
    "    \n",
    "    type_map = {\n",
    "        'start_name': 'category',\n",
    "        'end_name': 'category',\n",
    "        'start_code': 'category',\n",
    "        'end_code': 'category',\n",
    "        'start_pref_code': 'category',\n",
    "        'end_pref_code': 'category',\n",
    "        'direction': 'category',\n",
    "        'month': 'category',\n",
    "        'day': 'category',\n",
    "        'dayofweek': 'category',\n",
    "        'is_holiday': 'category',\n",
    "        'hour': 'category',\n",
    "        'quarter': 'category',\n",
    "        'jam_quantity': 'category',\n",
    "        'start_degree': np.int32,\n",
    "        'end_degree': np.int32,\n",
    "        'degree_sum': np.int32,\n",
    "    }\n",
    "    df = df.astype(type_map)\n",
    "    \n",
    "    return df"
   ]
  },
  {
   "cell_type": "code",
   "execution_count": null,
   "id": "a23d5e8e-66a4-4c63-a76c-984f49cdec5b",
   "metadata": {},
   "outputs": [],
   "source": [
    "def create_dataset(df, start_date, end_date, pkl_name):\n",
    "    tmp = df.loc[(df['datetime'] >= pd.Timestamp(start_date)) & (df['datetime'] < pd.Timestamp(end_date))]\n",
    "    # tmp.reset_index(drop=True, inplace=True)\n",
    "    \n",
    "    tmp = preprocess(tmp.copy())\n",
    "    tmp.reset_index(drop=True, inplace=True)\n",
    "    \n",
    "    tmp.to_pickle(pkl_name)\n",
    "\n",
    "# whole dataset\n",
    "start_date = '2021/4/2'\n",
    "end_date = '2022/6/1'\n",
    "pkl_name = './datasets_1h/kannetsu_210402-220531.pkl'\n",
    "\n",
    "create_dataset(df, start_date, end_date, pkl_name)\n",
    "\n",
    "# mini dataset\n",
    "start_date = '2021/4/2'\n",
    "end_date = '2021/6/1'\n",
    "pkl_name = './datasets_1h/kannetsu_210402-210531.pkl'\n",
    "\n",
    "create_dataset(df, start_date, end_date, pkl_name)"
   ]
  },
  {
   "cell_type": "markdown",
   "id": "a27c7f12-2979-4952-8165-d5c01122d1f9",
   "metadata": {
    "jp-MarkdownHeadingCollapsed": true,
    "tags": []
   },
   "source": [
    "## データセットを読み込む"
   ]
  },
  {
   "cell_type": "code",
   "execution_count": null,
   "id": "2840688e-38f3-4355-bd7e-e1655e966cc3",
   "metadata": {},
   "outputs": [],
   "source": [
    "# mini\n",
    "df_test = pd.read_pickle('./datasets_1h/kannetsu_210402-210531.pkl')\n",
    "# whole\n",
    "df_all = pd.read_pickle('./datasets_1h/kannetsu_210402-220531.pkl')"
   ]
  },
  {
   "cell_type": "code",
   "execution_count": null,
   "id": "46a5f703-fc2c-4d76-9bb8-61bc9e565947",
   "metadata": {},
   "outputs": [],
   "source": [
    "dt_table = pd.read_pickle(f'{config.TABLES_DIR}/datetime_table.pkl')\n",
    "sec_table = pd.read_pickle(f'{config.TABLES_DIR}/section_table.pkl')"
   ]
  },
  {
   "cell_type": "code",
   "execution_count": null,
   "id": "b9502253-a633-48b8-bc79-f90b5cf43d3b",
   "metadata": {},
   "outputs": [],
   "source": [
    "df_test.head(3)"
   ]
  },
  {
   "cell_type": "markdown",
   "id": "0f1e4d66-8ae9-4d1a-a770-d55c4c82dfce",
   "metadata": {
    "jp-MarkdownHeadingCollapsed": true,
    "tags": []
   },
   "source": [
    "### 時間, 区間にembedding用のIDを割り振る"
   ]
  },
  {
   "cell_type": "code",
   "execution_count": null,
   "id": "0e91cfa6-79bd-4901-b38d-7e436704000d",
   "metadata": {},
   "outputs": [],
   "source": [
    "# 時間情報を管理するためのテーブルを作成 (month x hour x dayofweeks x is_holidays)\n",
    "# months = range(1, 12+1)\n",
    "# hours = range(24)\n",
    "# dayofweeks = range(1, 7+1)\n",
    "# is_holidays = (0, 1)\n",
    "\n",
    "# dt_table = pd.DataFrame(itertools.product(months, hours, dayofweeks, is_holidays), columns=['month', 'hour', 'dayofweek', 'is_holiday'], dtype='category')\n",
    "# dt_table = dt_table.query('dayofweek not in (6, 7) | is_holiday != 0').reset_index(drop=True)\n",
    "# dt_table = dt_table.reset_index().set_index(['month', 'hour', 'dayofweek', 'is_holiday']).astype('category')\n",
    "\n",
    "# dt_table.to_pickle('./datasets/datetime_table.pkl')\n",
    "\n",
    "# dt_table = pd.read_pickle('./datasets/datetime_table.pkl')"
   ]
  },
  {
   "cell_type": "code",
   "execution_count": null,
   "id": "48291632-a12e-4e3c-a8f5-9ba4e8f91aa0",
   "metadata": {},
   "outputs": [],
   "source": [
    "# 時間情報を管理するためのテーブルを作成 (hour x dayofweeks x is_holidays)\n",
    "# hours = range(24)\n",
    "# dayofweeks = range(1, 7+1)\n",
    "# is_holidays = (0, 1)\n",
    "\n",
    "# dt_table = pd.DataFrame(itertools.product(hours, dayofweeks, is_holidays), columns=['hour', 'dayofweek', 'is_holiday'], dtype='category')\n",
    "# dt_table = dt_table.query('dayofweek not in (6, 7) | is_holiday != 0').reset_index(drop=True)\n",
    "# dt_table = dt_table.reset_index().set_index(['hour', 'dayofweek', 'is_holiday']).astype('category')\n",
    "\n",
    "# dt_table.to_pickle('./datasets/mini_datetime_table.pkl')\n",
    "\n",
    "# dt_table = pd.read_pickle('./datasets/mini_datetime_table.pkl')"
   ]
  },
  {
   "cell_type": "code",
   "execution_count": null,
   "id": "c2b54d50-3eba-4d3e-93ea-768d54c39097",
   "metadata": {},
   "outputs": [],
   "source": [
    "# 区間情報を管理するためのテーブルを作成\n",
    "# sec_table = df_test[['start_name', 'end_name', 'direction', 'KP']].drop_duplicates()\n",
    "# 区間順にソート\n",
    "# sort_f = lambda g: g.sort_values('KP', ascending=(g.name == 1))\n",
    "# sec_table = sec_table.groupby('direction').apply(sort_f).reset_index(drop=True)\n",
    "\n",
    "# sec_table.to_pickle('./datasets/section_table.pkl')\n",
    "# sec_table.head(3)\n",
    "\n",
    "# sec_table = pd.read_pickle('./datasets/section_table.pkl')"
   ]
  },
  {
   "cell_type": "code",
   "execution_count": null,
   "id": "d7ac6bbd-5e5d-4daa-b997-400b4b7672f4",
   "metadata": {},
   "outputs": [],
   "source": [
    "def datetime2id(df, dt_table):\n",
    "    time_col = ['hour', 'dayofweek', 'is_holiday']\n",
    "    f = lambda g: g.assign(datetime_id=dt_table.loc[g.name, 'index'])\n",
    "    df = df.groupby(time_col).apply(f)\n",
    "    df['datetime_id'] = df['datetime_id'].astype('category')\n",
    "    return df\n",
    "\n",
    "\n",
    "def section2id(df, sec_table):\n",
    "    f = lambda g: g.assign(section_id=sec_table.query(f'start_name == \"{g.name[0]}\" & end_name == \"{g.name[1]}\"').index.item())\n",
    "    df = df.groupby(['start_name', 'end_name']).apply(f)\n",
    "    df['section_id'] = df['section_id'].astype('category')\n",
    "    return df\n",
    "\n",
    "\n",
    "def identify(df, dt_table, sec_table):\n",
    "    df = datetime2id(df, dt_table)\n",
    "    df = section2id(df, sec_table)\n",
    "    return df"
   ]
  },
  {
   "cell_type": "code",
   "execution_count": null,
   "id": "f8ae9e67-47b0-4274-b963-edf85e4b3786",
   "metadata": {},
   "outputs": [],
   "source": [
    "df_test = identify(df_test, dt_table, sec_table)\n",
    "df_test.to_pickle('./datasets_1h/kannetsu_210402-210531.pkl')\n",
    "\n",
    "df_all = identify(df_all, dt_table, sec_table)\n",
    "df_all.to_pickle('./datasets_1h/kannetsu_210402-220531.pkl')"
   ]
  },
  {
   "cell_type": "markdown",
   "id": "e0a41bef-baf7-4240-a8cd-184ee4e8b9f1",
   "metadata": {
    "jp-MarkdownHeadingCollapsed": true,
    "tags": []
   },
   "source": [
    "## Train, Testに分割"
   ]
  },
  {
   "cell_type": "code",
   "execution_count": null,
   "id": "cded5add-616d-47ab-b199-ade684840ebb",
   "metadata": {},
   "outputs": [],
   "source": [
    "# train: 2021/4/2 - 2022/2/28\n",
    "# test: 2022/3/1 - 2022/5/31\n",
    "df_all = pd.read_pickle('./datasets_1h/kannetsu_210402-220531.pkl')\n",
    "\n",
    "sep_date = '2022/3/1'\n",
    "df_train = df_all.loc[df_all['datetime'] < pd.Timestamp(sep_date)]\n",
    "df_test = df_all.loc[df_all['datetime'] >= pd.Timestamp(sep_date)]\n",
    "\n",
    "df_train.to_pickle('./datasets_1h/kannetsu_210402-220228.pkl')\n",
    "df_test.to_pickle('./datasets_1h/kannetsu_220301-220531.pkl')"
   ]
  },
  {
   "cell_type": "code",
   "execution_count": null,
   "id": "c491ee0e-e075-4465-94ce-420715a72ab0",
   "metadata": {},
   "outputs": [],
   "source": [
    "# train: 2021/4/2 - 2021/5/19\n",
    "# test: 2021/5/20 - 2021/5/31\n",
    "df_mini = pd.read_pickle('./datasets_1h/kannetsu_210402-210531.pkl')\n",
    "\n",
    "sep_date = '2021/5/20'\n",
    "df_train = df_mini.loc[df_mini['datetime'] < pd.Timestamp(sep_date)]\n",
    "df_test = df_mini.loc[df_mini['datetime'] >= pd.Timestamp(sep_date)]\n",
    "\n",
    "df_train.to_pickle('./datasets_1h/kannetsu_210402-210519.pkl')\n",
    "df_test.to_pickle('./datasets_1h/kannetsu_210520-210531.pkl')"
   ]
  },
  {
   "cell_type": "markdown",
   "id": "d43a0e9b-14b1-434c-8de6-2aa603db4727",
   "metadata": {
    "jp-MarkdownHeadingCollapsed": true,
    "tags": []
   },
   "source": [
    "## Spatial Temporal Matrixに整形\n",
    "- 区間数 x 時系列数 の行列\n",
    "- 実際は 区間数 x 時系列数 x 特徴量数 のテンソル"
   ]
  },
  {
   "cell_type": "code",
   "execution_count": null,
   "id": "388e22b3-fa73-4af8-83ae-dad170795ed8",
   "metadata": {},
   "outputs": [],
   "source": [
    "df_test_tr = pd.read_pickle('./datasets_1h/kannetsu_210402-210519.pkl')\n",
    "df_test_va = pd.read_pickle('./datasets_1h/kannetsu_210520-210531.pkl')\n",
    "\n",
    "df_all_tr = pd.read_pickle('./datasets_1h/kannetsu_210402-220228.pkl')\n",
    "df_all_va = pd.read_pickle('./datasets_1h/kannetsu_220301-220531.pkl')\n",
    "\n",
    "dt_table = pd.read_pickle(f'{config.TABLES_DIR}/datetime_table.pkl')\n",
    "sec_table = pd.read_pickle(f'{config.TABLES_DIR}/section_table.pkl')"
   ]
  },
  {
   "cell_type": "code",
   "execution_count": null,
   "id": "0b39c58f-57dc-48c9-a557-0f5e71ead960",
   "metadata": {
    "tags": []
   },
   "outputs": [],
   "source": [
    "# 特徴量の元になる列\n",
    "# time_col = ['month', 'hour', 'dayofweek', 'is_holiday']\n",
    "# section_col = ['direction', 'lane_count', 'KP']\n",
    "time_col = ['datetime_id']\n",
    "section_col = ['section_id']\n",
    "search_col = ['search_1h', 'search_unspec_1d']\n",
    "traffic_col = ['allCars']\n",
    "\n",
    "feature_col = time_col + section_col + search_col + traffic_col\n",
    "# feature_col = time_col + section_col + traffic_col\n",
    "# feature_col = search_col + traffic_col\n",
    "\n",
    "# 予測対象\n",
    "target_col = 'allCars'"
   ]
  },
  {
   "cell_type": "code",
   "execution_count": null,
   "id": "36cfca28-8fa1-49f8-a821-5b7c5f49d976",
   "metadata": {},
   "outputs": [],
   "source": [
    "X_tr, y_tr = format_stmatrix(df_all_tr, sec_table, feature_col, config.TARGET_COL)\n",
    "X_va, y_va = format_stmatrix(df_all_va, sec_table, feature_col, config.TARGET_COL)\n",
    "print(X_tr.shape, X_va.shape, y_tr.shape, y_va.shape)"
   ]
  },
  {
   "cell_type": "code",
   "execution_count": null,
   "id": "3ffac485-c759-4a8c-be33-a714e2b4ada5",
   "metadata": {},
   "outputs": [],
   "source": [
    "# torch.save(X_tr, './datasets_1h/features_train.pkl')\n",
    "# torch.save(X_va, './datasets_1h/features_test.pkl')\n",
    "# torch.save(y_tr, './datasets_1h/labels_train.pkl')\n",
    "# torch.save(y_va, './datasets_1h/labels_test.pkl')\n",
    "\n",
    "# torch.save(X_tr, f'datasets_1h/mini_features_train.pkl')\n",
    "# torch.save(X_va, f'datasets_1h/mini_features_test.pkl')\n",
    "# torch.save(y_tr, f'datasets_1h/mini_labels_train.pkl')\n",
    "# torch.save(y_va, f'datasets_1h/mini_labels_test.pkl')"
   ]
  },
  {
   "cell_type": "markdown",
   "id": "e376cb0a-2709-4e34-94af-8c23af4a418f",
   "metadata": {
    "jp-MarkdownHeadingCollapsed": true,
    "tags": []
   },
   "source": [
    "## 標準化・正規化\n",
    "- 標準化を行う\n",
    "- 時間特徴量（`month`, `hour`, `day_of_week`）はsin, cosで変換するのもやってみる\n",
    "- 検索数, 台数は上り・下り別でもやってみる"
   ]
  },
  {
   "cell_type": "code",
   "execution_count": null,
   "id": "70b43f0a-daa0-4011-8eb4-a3d1c155acb6",
   "metadata": {},
   "outputs": [],
   "source": [
    "dt_table = pd.read_pickle(f'{config.TABLES_DIR}/datetime_table.pkl')\n",
    "sec_table = pd.read_pickle(f'{config.TABLES_DIR}/section_table.pkl')\n",
    "\n",
    "X_tr = torch.load('./datasets_1h/features_train.pkl')\n",
    "X_va = torch.load('./datasets_1h/features_test.pkl')\n",
    "y_tr = torch.load('./datasets_1h/labels_train.pkl')\n",
    "y_va = torch.load('./datasets_1h/labels_test.pkl')\n",
    "\n",
    "# X_tr = torch.load(f'datasets_1h/mini_features_train.pkl')\n",
    "# X_va = torch.load(f'datasets_1h/mini_features_test.pkl')\n",
    "# y_tr = torch.load(f'datasets_1h/mini_labels_train.pkl')\n",
    "# y_va = torch.load(f'datasets_1h/mini_labels_test.pkl')\n",
    "\n",
    "print(X_tr.shape, X_va.shape)\n",
    "print(y_tr.shape, y_va.shape)"
   ]
  },
  {
   "cell_type": "code",
   "execution_count": null,
   "id": "d59f0469-e844-48d9-b897-4c4b2596f2ab",
   "metadata": {
    "tags": []
   },
   "outputs": [],
   "source": [
    "# ID列は飛ばして標準化\n",
    "skip_features = [0, 1]\n",
    "scaler = STMatrixStandardScaler(skip_features=skip_features)\n",
    "\n",
    "scaler.fit(X_tr)\n",
    "X_tr_norm = scaler.transform(X_tr)\n",
    "\n",
    "scaler.fit(X_va)\n",
    "X_va_norm = scaler.transform(X_va)\n",
    "\n",
    "# torch.save(X_tr_norm, f'datasets_1h/features_train_norm.pkl')\n",
    "# torch.save(X_va_norm, f'datasets_1h/features_test_norm.pkl')"
   ]
  },
  {
   "cell_type": "markdown",
   "id": "393b4d27-83ee-4e74-8cbd-e2f88b5bc7e3",
   "metadata": {},
   "source": [
    "## データセットの定義"
   ]
  },
  {
   "cell_type": "code",
   "execution_count": 3,
   "id": "265d39fd-7d3b-47e2-96d6-aad31ba1ecfa",
   "metadata": {},
   "outputs": [
    {
     "name": "stdout",
     "output_type": "stream",
     "text": [
      "(288, 1) (63, 4)\n",
      "torch.Size([5, 7992, 63]) torch.Size([5, 2208, 63])\n",
      "torch.Size([1, 7992, 63]) torch.Size([1, 2208, 63])\n"
     ]
    }
   ],
   "source": [
    "dt_table = pd.read_pickle(f'{config.TABLES_DIR}/datetime_table.pkl')\n",
    "sec_table = pd.read_pickle(f'{config.TABLES_DIR}/section_table.pkl')\n",
    "\n",
    "X_tr = torch.load(f'{config.DATASET_DIR}_1h/features_train_norm.pkl')\n",
    "X_va = torch.load(f'{config.DATASET_DIR}_1h/features_test_norm.pkl')\n",
    "y_tr = torch.load(f'{config.DATASET_DIR}_1h/labels_train.pkl')\n",
    "y_va = torch.load(f'{config.DATASET_DIR}_1h/labels_test.pkl')\n",
    "\n",
    "# X_tr = torch.load(f'datasets_1h/mini_features_train_norm.pkl')\n",
    "# X_va = torch.load(f'datasets_1h/mini_features_test_norm.pkl')\n",
    "# y_tr = torch.load(f'datasets_1h/mini_labels_train.pkl')\n",
    "# y_va = torch.load(f'datasets_1h/mini_labels_test.pkl')\n",
    "\n",
    "print(dt_table.shape, sec_table.shape)\n",
    "print(X_tr.shape, X_va.shape)\n",
    "print(y_tr.shape, y_va.shape)"
   ]
  },
  {
   "cell_type": "code",
   "execution_count": 4,
   "id": "00a7120d-d3fc-41cf-a2cc-59d55670cda0",
   "metadata": {
    "tags": []
   },
   "outputs": [],
   "source": [
    "time_step = 7 * 24\n",
    "space_window = (-2, 2)\n",
    "\n",
    "dataset_train = STDataset(X_tr, y_tr, \n",
    "                          time_step=time_step, \n",
    "                          space_window=space_window)\n",
    "\n",
    "dataset_valid = STDataset(X_va, y_va, \n",
    "                          time_step=time_step, \n",
    "                          space_window=space_window)"
   ]
  },
  {
   "cell_type": "markdown",
   "id": "b340b55f-dcc6-4f86-a1d9-ed3c02faaaf3",
   "metadata": {
    "tags": []
   },
   "source": [
    "## Networkの定義"
   ]
  },
  {
   "cell_type": "code",
   "execution_count": 5,
   "id": "9720bd9c-4969-455e-87d0-0ddab4b9ae74",
   "metadata": {},
   "outputs": [],
   "source": [
    "TRAFFIC_CONV = 64\n",
    "TRAFFIC_HIDDEN = 128\n",
    "TRAFFIC_LSTM_LAYERS = 2\n",
    "TRAFFIC_KERNEL = (7,5)\n",
    "\n",
    "SEARCH_CONV = 64\n",
    "SEARCH_HIDDEN = 128\n",
    "SEARCH_LSTM_LAYERS = 2\n",
    "SEARCH_KERNEL = (7,5)\n",
    "\n",
    "UNSPEC_SEARCH_HIDDEN = 64\n",
    "UNSPEC_SEARCH_KERNEL = 5\n",
    "\n",
    "DATETIME_EMB = 32\n",
    "ROAD_EMB = 16\n",
    "\n",
    "FC_EMB = 32"
   ]
  },
  {
   "cell_type": "code",
   "execution_count": 384,
   "id": "58fb1a7f-1930-4809-a140-d6f1e29be293",
   "metadata": {
    "tags": []
   },
   "outputs": [],
   "source": [
    "class LSTMEncoder(nn.Module):\n",
    "    def __init__(self, bidirectional=True):\n",
    "        super().__init__()\n",
    "        \n",
    "        self.bidirectional = bidirectional\n",
    "        self.lstm = nn.LSTM(1, TRAFFIC_HIDDEN, TRAFFIC_LSTM_LAYERS, bidirectional=bidirectional, dropout=0.4, batch_first=True)\n",
    "    \n",
    "    def forward(self, x):\n",
    "        N, T, S = x.shape\n",
    "        x = x[..., [S // 2]]\n",
    "        # N x T x 1 -> N x T x H, (L x N x H, L x N x H)\n",
    "        outs, (h, c) = self.lstm(x)\n",
    "        \n",
    "        if self.bidirectional:\n",
    "            # 2*L_t x N x H_t -> L_t x N x 2*H_t\n",
    "            L2, N, H_t = h.shape\n",
    "            h = h.transpose(0,1).reshape(N, L2 // 2, -1).transpose(0,1).contiguous()\n",
    "            c = h.transpose(0,1).reshape(N, L2 // 2, -1).transpose(0,1).contiguous()    \n",
    "        \n",
    "        return outs, (h, c)\n",
    "    \n",
    "\n",
    "class LSTMDecoder(nn.Module):\n",
    "    def __init__(self, bidirectional=True):\n",
    "        super().__init__()\n",
    "        \n",
    "        self.dropout_ratio = 0.3\n",
    "        \n",
    "        self.hid_dim = 2 * TRAFFIC_HIDDEN if bidirectional else TRAFFIC_HIDDEN\n",
    "        \n",
    "        self.lstm = nn.LSTM(1, self.hid_dim, TRAFFIC_LSTM_LAYERS, dropout=self.dropout_ratio, batch_first=True)\n",
    "        self.fc1 = nn.Linear(self.hid_dim, FC_EMB)\n",
    "        self.fc2 = nn.Linear(FC_EMB, 1)\n",
    "\n",
    "    def forward(self, x, state):\n",
    "        N, _, P = x.shape\n",
    "        \n",
    "        # N x C=1 x P -> N x P x C=1\n",
    "        x = x.permute(0, 2, 1)\n",
    "        # N x P x C, (L x N x H_t, L x N x H_t) -> N x P x H_t, (L x N x H_t, L x N x H_t)\n",
    "        outs, state = self.lstm(x, state)\n",
    "        outs = F.relu(self.fc1(outs))\n",
    "        outs = self.fc2(outs)\n",
    "\n",
    "        return outs, state\n",
    "    \n",
    "    def generate(self, trf_enc, start_value=-1.0):\n",
    "        with torch.no_grad():\n",
    "            # N x 1 x 1\n",
    "            N = trf_enc[0].shape[1]\n",
    "            out = torch.tensor(start_value).repeat(N).unsqueeze(-1).unsqueeze(-1)\n",
    "            out = out.to(trf_enc[0].device)\n",
    "            \n",
    "            state = trf_enc\n",
    "            \n",
    "            generated = []\n",
    "\n",
    "            for i in range(24):\n",
    "                out, state = self.forward(out, state)\n",
    "                generated.append(out)\n",
    "        \n",
    "        # N x P x 1\n",
    "        generated = torch.cat(generated, dim=1)\n",
    "        # N x P x 1 -> N x P\n",
    "        generated = generated[..., 0]\n",
    "        return generated\n",
    "    \n",
    "\n",
    "class LSTMOnlyEncoderDecoder(nn.Module):\n",
    "    def __init__(self, bidirectional=True):\n",
    "        super().__init__()\n",
    "        \n",
    "        self.encoder = LSTMEncoder(bidirectional=bidirectional)\n",
    "        self.decoder = LSTMDecoder(bidirectional=bidirectional)\n",
    "        \n",
    "    def forward(self, features, decoder_xs):\n",
    "        dt, rd, sr, un_sr, trf = features\n",
    "        \n",
    "        outs_trf, state_trf = self.encoder(trf)\n",
    "        outs, _ = self.decoder(decoder_xs, state_trf)\n",
    "        outs = outs[..., 0]\n",
    "        return outs\n",
    "    \n",
    "    def generate(self, features, start_value=-1.0):\n",
    "        dt, rd, sr, un_sr, trf = features\n",
    "        \n",
    "        outs_trf, state_trf = self.encoder(trf)    \n",
    "        generated = self.decoder.generate(state_trf, start_value)\n",
    "        return generated"
   ]
  },
  {
   "cell_type": "code",
   "execution_count": 385,
   "id": "c133fd4f-c770-43ff-a474-9310a6ca376a",
   "metadata": {},
   "outputs": [
    {
     "name": "stdout",
     "output_type": "stream",
     "text": [
      "torch.Size([16, 168, 5]) torch.Size([16, 1, 24])\n"
     ]
    }
   ],
   "source": [
    "(dt, rd, sr, un_sr, trf), labels = dataset_train[:16]\n",
    "print(trf.shape, labels.shape)"
   ]
  },
  {
   "cell_type": "code",
   "execution_count": 386,
   "id": "e5677be3-bb12-4269-83c4-45d20e1bdd15",
   "metadata": {},
   "outputs": [
    {
     "name": "stdout",
     "output_type": "stream",
     "text": [
      "torch.Size([16, 168, 256]) torch.Size([2, 16, 256])\n",
      "torch.Size([16, 24, 1])\n",
      "torch.Size([16, 24])\n"
     ]
    }
   ],
   "source": [
    "(outs_trf, state_trf) = LSTMEncoder()(trf)\n",
    "print(outs_trf.shape, state_trf[0].shape)\n",
    "\n",
    "decoded, _ = LSTMDecoder()(labels, state_trf)\n",
    "print(decoded.shape)\n",
    "\n",
    "predicted = LSTMOnlyEncoderDecoder().generate((dt, rd, sr, un_sr, trf))\n",
    "print(predicted.shape)"
   ]
  },
  {
   "cell_type": "code",
   "execution_count": 387,
   "id": "eda27573-7e41-4fe1-b124-776a8b9c510e",
   "metadata": {},
   "outputs": [],
   "source": [
    "features, labels = dataset_train[:16]"
   ]
  },
  {
   "cell_type": "code",
   "execution_count": 388,
   "id": "2fbf221b-3152-444c-b961-282619b5f9af",
   "metadata": {},
   "outputs": [],
   "source": [
    "decoder_xs = torch.full_like(labels, -1)\n",
    "decoder_xs[..., 1:] = labels[..., :-1]"
   ]
  },
  {
   "cell_type": "code",
   "execution_count": 389,
   "id": "f8673a56-0cd2-45e8-87c5-b548131fc50c",
   "metadata": {},
   "outputs": [
    {
     "data": {
      "text/plain": [
       "torch.Size([16, 24])"
      ]
     },
     "execution_count": 389,
     "metadata": {},
     "output_type": "execute_result"
    }
   ],
   "source": [
    "out = LSTMOnlyEncoderDecoder()((dt, rd, sr, un_sr, trf), decoder_xs)\n",
    "out.shape"
   ]
  },
  {
   "cell_type": "code",
   "execution_count": 400,
   "id": "b1c8960e-726f-46ba-8066-58af61dba69c",
   "metadata": {},
   "outputs": [],
   "source": [
    "class CNNLSTMEncoder(nn.Module):\n",
    "    def __init__(self, bidirectional=True):\n",
    "        super().__init__()\n",
    "        \n",
    "        self.bidirectional = bidirectional\n",
    "        \n",
    "        self.conv = nn.Conv2d(1, TRAFFIC_CONV, TRAFFIC_KERNEL, padding=(TRAFFIC_KERNEL[0]//2, 0), padding_mode='replicate')\n",
    "        self.lstm = nn.LSTM(TRAFFIC_CONV, TRAFFIC_HIDDEN, TRAFFIC_LSTM_LAYERS, bidirectional=bidirectional, dropout=0.4, batch_first=True)\n",
    "    \n",
    "    def forward(self, x):\n",
    "        N, T, S = x.shape\n",
    "        \n",
    "        out = F.relu(self.conv(x.unsqueeze(1)))\n",
    "        # N x C x T -> N x T x C\n",
    "        out = out[..., 0].permute(0, 2, 1)\n",
    "        # N x T x C -> N x T x H, (L x N x H, L x N x H)\n",
    "        outs, (h, c) = self.lstm(out)\n",
    "        \n",
    "        if self.bidirectional:\n",
    "            # 2*L_t x N x H_t -> L_t x N x 2*H_t\n",
    "            L2, N, H_t = h.shape\n",
    "            h = h.transpose(0,1).reshape(N, L2 // 2, -1).transpose(0,1).contiguous()\n",
    "            c = h.transpose(0,1).reshape(N, L2 // 2, -1).transpose(0,1).contiguous()\n",
    "        \n",
    "        return outs, (h, c)\n",
    "    \n",
    "\n",
    "class CNNLSTMEncoderDecoder(LSTMOnlyEncoderDecoder):\n",
    "    def __init__(self, bidirectional=True):\n",
    "        super().__init__()\n",
    "        \n",
    "        self.encoder = CNNLSTMEncoder(bidirectional=bidirectional)\n",
    "        self.decoder = LSTMDecoder(bidirectional=bidirectional)"
   ]
  },
  {
   "cell_type": "code",
   "execution_count": 401,
   "id": "0e9b1d52-d9e7-4f57-a81a-cd247146772c",
   "metadata": {},
   "outputs": [
    {
     "name": "stdout",
     "output_type": "stream",
     "text": [
      "torch.Size([16, 168, 5]) torch.Size([16, 1, 24])\n"
     ]
    }
   ],
   "source": [
    "(dt, rd, sr, un_sr, trf), labels = dataset_train[:16]\n",
    "print(trf.shape, labels.shape)"
   ]
  },
  {
   "cell_type": "code",
   "execution_count": 402,
   "id": "d6509e36-c3ff-4b37-94e3-d0de96214f22",
   "metadata": {},
   "outputs": [
    {
     "name": "stdout",
     "output_type": "stream",
     "text": [
      "torch.Size([16, 168, 256]) torch.Size([2, 16, 256])\n",
      "torch.Size([16, 24, 1])\n",
      "torch.Size([16, 24])\n"
     ]
    }
   ],
   "source": [
    "(outs_trf, state_trf) = CNNLSTMEncoder()(trf)\n",
    "print(outs_trf.shape, state_trf[0].shape)\n",
    "\n",
    "decoded, _ = LSTMDecoder()(labels, state_trf)\n",
    "print(decoded.shape)\n",
    "\n",
    "predicted = LSTMOnlyEncoderDecoder().generate((dt, rd, sr, un_sr, trf))\n",
    "print(predicted.shape)"
   ]
  },
  {
   "cell_type": "code",
   "execution_count": 403,
   "id": "918a5424-9679-4872-9711-0f6b89075c62",
   "metadata": {},
   "outputs": [],
   "source": [
    "features, labels = dataset_train[:16]"
   ]
  },
  {
   "cell_type": "code",
   "execution_count": 404,
   "id": "8ddddfbb-91c3-4031-83e5-e1b39c02371d",
   "metadata": {},
   "outputs": [],
   "source": [
    "decoder_xs = torch.full_like(labels, -1)\n",
    "decoder_xs[..., 1:] = labels[..., :-1]"
   ]
  },
  {
   "cell_type": "code",
   "execution_count": 405,
   "id": "67fb2a06-de2a-427b-aeb9-9108a3c75451",
   "metadata": {},
   "outputs": [
    {
     "data": {
      "text/plain": [
       "torch.Size([16, 24])"
      ]
     },
     "execution_count": 405,
     "metadata": {},
     "output_type": "execute_result"
    }
   ],
   "source": [
    "out = CNNLSTMEncoderDecoder()((dt, rd, sr, un_sr, trf), decoder_xs)\n",
    "out.shape"
   ]
  },
  {
   "cell_type": "code",
   "execution_count": 410,
   "id": "24700f3b-c7c1-44c7-81cc-9e1d8d51196d",
   "metadata": {},
   "outputs": [],
   "source": [
    "class LSTMEmbeddingDecoder(nn.Module):\n",
    "    def __init__(self, bidirectional=True):\n",
    "        super().__init__()\n",
    "        \n",
    "        self.dropout_ratio = 0.3\n",
    "        \n",
    "        self.hid_dim = 2 * TRAFFIC_HIDDEN if bidirectional else TRAFFIC_HIDDEN\n",
    "        \n",
    "        self.datetime_embedding = CategoricalEmbedding(config.DT_TABLE_SIZE, DATETIME_EMB)\n",
    "        self.road_embedding = CategoricalEmbedding(config.SEC_TABLE_SIZE, ROAD_EMB)\n",
    "        self.emb_dropout = nn.Dropout(p=0.4)\n",
    "        \n",
    "        self.lstm = nn.LSTM(1, self.hid_dim, TRAFFIC_LSTM_LAYERS, dropout=self.dropout_ratio, batch_first=True)\n",
    "        self.fc1 = nn.Linear(self.hid_dim + DATETIME_EMB + ROAD_EMB, FC_EMB)\n",
    "        self.fc2 = nn.Linear(FC_EMB, 1)\n",
    "\n",
    "    def forward(self, x, state, dt, rd):\n",
    "        N, _, P = x.shape\n",
    "        \n",
    "        # N x C=1 x P -> N x P x C=1\n",
    "        x = x.permute(0, 2, 1)\n",
    "        # N x P x C, (L x N x H_t, L x N x H_t) -> N x P x H_t, (L x N x H_t, L x N x H_t)\n",
    "        outs, state = self.lstm(x, state)\n",
    "        \n",
    "        # N x P -> N x P x H_d\n",
    "        dt_emb = self.datetime_embedding(dt)\n",
    "        dt_emb = self.emb_dropout(dt_emb)\n",
    "        # N x 1 -> N x 1 x H_r\n",
    "        rd_emb = self.road_embedding(rd)\n",
    "        rd_emb = self.emb_dropout(rd_emb)\n",
    "        \n",
    "        outs = torch.cat([\n",
    "            dt_emb, \n",
    "            rd_emb.repeat(1, P, 1), \n",
    "            outs\n",
    "        ], dim=-1)\n",
    "        \n",
    "        outs = F.relu(self.fc1(outs))\n",
    "        outs = self.fc2(outs)\n",
    "\n",
    "        return outs, state\n",
    "    \n",
    "    def generate(self, trf_enc, dt, rd, start_value=-1.0):\n",
    "        with torch.no_grad():\n",
    "            # N x 1 x 1\n",
    "            N = trf_enc[0].shape[1]\n",
    "            out = torch.tensor(start_value).repeat(N).unsqueeze(-1).unsqueeze(-1)\n",
    "            out = out.to(trf_enc[0].device)\n",
    "            \n",
    "            state = trf_enc\n",
    "            \n",
    "            generated = []\n",
    "\n",
    "            for i in range(24):\n",
    "                out, state = self.forward(out, state, dt[:, [i]], rd)\n",
    "                generated.append(out)\n",
    "        \n",
    "        # N x P x 1\n",
    "        generated = torch.cat(generated, dim=1)\n",
    "        # N x P x 1 -> N x P\n",
    "        generated = generated[..., 0]\n",
    "        return generated\n",
    "    \n",
    "\n",
    "class CNNLSTMEmbeddingEncoderDecoder(nn.Module):\n",
    "    def __init__(self, bidirectional=True):\n",
    "        super().__init__()\n",
    "        \n",
    "        self.encoder = CNNLSTMEncoder(bidirectional=bidirectional)\n",
    "        self.decoder = LSTMEmbeddingDecoder(bidirectional=bidirectional)\n",
    "        \n",
    "    def forward(self, features, decoder_xs):\n",
    "        dt, rd, sr, un_sr, trf = features\n",
    "        \n",
    "        outs_trf, state_trf = self.encoder(trf)\n",
    "        outs, _ = self.decoder(decoder_xs, state_trf, dt, rd)\n",
    "        outs = outs[..., 0]\n",
    "        return outs\n",
    "    \n",
    "    def generate(self, features, start_value=-1.0):\n",
    "        dt, rd, sr, un_sr, trf = features\n",
    "        \n",
    "        outs_trf, state_trf = self.encoder(trf)    \n",
    "        generated = self.decoder.generate(state_trf, dt, rd, start_value)\n",
    "        return generated"
   ]
  },
  {
   "cell_type": "code",
   "execution_count": 411,
   "id": "e3f07a64-9ac0-4a1a-92a0-3fc9891443a3",
   "metadata": {},
   "outputs": [
    {
     "name": "stdout",
     "output_type": "stream",
     "text": [
      "torch.Size([16, 168, 5]) torch.Size([16, 1, 24])\n"
     ]
    }
   ],
   "source": [
    "(dt, rd, sr, un_sr, trf), labels = dataset_train[:16]\n",
    "print(trf.shape, labels.shape)"
   ]
  },
  {
   "cell_type": "code",
   "execution_count": 412,
   "id": "2af0fe10-18af-4773-8716-1be2699afa81",
   "metadata": {},
   "outputs": [
    {
     "name": "stdout",
     "output_type": "stream",
     "text": [
      "torch.Size([16, 168, 256]) torch.Size([2, 16, 256])\n",
      "torch.Size([16, 24, 1])\n",
      "torch.Size([16, 24])\n"
     ]
    }
   ],
   "source": [
    "(outs_trf, state_trf) = CNNLSTMEncoder()(trf)\n",
    "print(outs_trf.shape, state_trf[0].shape)\n",
    "\n",
    "decoded, _ = LSTMEmbeddingDecoder()(labels, state_trf, dt, rd)\n",
    "print(decoded.shape)\n",
    "\n",
    "predicted = CNNLSTMEmbeddingEncoderDecoder().generate((dt, rd, sr, un_sr, trf))\n",
    "print(predicted.shape)"
   ]
  },
  {
   "cell_type": "code",
   "execution_count": 413,
   "id": "fa2d9f27-0642-43e0-a1ce-a9410d90accf",
   "metadata": {},
   "outputs": [],
   "source": [
    "features, labels = dataset_train[:16]"
   ]
  },
  {
   "cell_type": "code",
   "execution_count": 414,
   "id": "92776351-9407-4cf3-a341-1f2b834f0966",
   "metadata": {},
   "outputs": [],
   "source": [
    "decoder_xs = torch.full_like(labels, -1)\n",
    "decoder_xs[..., 1:] = labels[..., :-1]"
   ]
  },
  {
   "cell_type": "code",
   "execution_count": 415,
   "id": "83552ea0-481d-4477-847e-4f3a03f31873",
   "metadata": {},
   "outputs": [
    {
     "data": {
      "text/plain": [
       "torch.Size([16, 24])"
      ]
     },
     "execution_count": 415,
     "metadata": {},
     "output_type": "execute_result"
    }
   ],
   "source": [
    "out = CNNLSTMEncoderDecoder()((dt, rd, sr, un_sr, trf), decoder_xs)\n",
    "out.shape"
   ]
  },
  {
   "cell_type": "markdown",
   "id": "a4af1ea9-e99d-43ae-9552-bd810721018c",
   "metadata": {
    "tags": []
   },
   "source": [
    "### Attention Encoder-Decoder"
   ]
  },
  {
   "cell_type": "code",
   "execution_count": 22,
   "id": "8dd6c6e3-fc6b-4e33-8171-19e966137abf",
   "metadata": {},
   "outputs": [],
   "source": [
    "class TrafficSearchEncoder(nn.Module):\n",
    "    def __init__(self, conv_dim, kernel, lstm_dim, lstm_layers, bidirectional=True):\n",
    "        super().__init__()\n",
    "        \n",
    "        self.bidirectional = bidirectional\n",
    "        \n",
    "        self.conv = nn.Conv2d(1, conv_dim, kernel, padding=(kernel[0]//2, 0), padding_mode='replicate')\n",
    "        # self.lstm = nn.LSTM(conv_dim, lstm_dim, lstm_layers, bidirectional=bidirectional, batch_first=True)\n",
    "        self.lstm = nn.LSTM(conv_dim, lstm_dim, lstm_layers, bidirectional=bidirectional, dropout=0.4, batch_first=True)\n",
    "        \n",
    "    \n",
    "    def forward(self, x):\n",
    "        N, T, S = x.shape\n",
    "        \n",
    "        out = F.relu(self.conv(x.unsqueeze(1)))\n",
    "        # N x C x T -> N x T x C\n",
    "        out = out[..., 0].permute(0, 2, 1)\n",
    "        # N x T x C -> N x T x H, (L x N x H, L x N x H)\n",
    "        outs, (h, c) = self.lstm(out)\n",
    "        \n",
    "        return outs, (h, c)\n",
    "\n",
    "    \n",
    "class SearchUnspecEncoder(nn.Module):\n",
    "    def __init__(self):\n",
    "        super().__init__()\n",
    "        \n",
    "        self.conv = nn.Conv1d(1, UNSPEC_SEARCH_HIDDEN, UNSPEC_SEARCH_KERNEL, padding_mode='replicate')\n",
    "        # self.dropout = nn.Dropout(p=0)\n",
    "        self.dropout = nn.Dropout(p=0.4)\n",
    "    \n",
    "    def forward(self, x):\n",
    "        N, T, S = x.shape\n",
    "        out = F.relu(self.conv(x))\n",
    "        # N x C x T -> N x T x C\n",
    "        out = out.permute(0, 2, 1)\n",
    "        out = self.dropout(out)\n",
    "        \n",
    "        return out\n",
    "\n",
    "    \n",
    "class Encoder(nn.Module):\n",
    "    def __init__(self, include_search=True, bidirectional=True):\n",
    "        super().__init__()\n",
    "        \n",
    "        self.include_search = include_search\n",
    "        self.bidirectional = bidirectional\n",
    "        \n",
    "        self.traffic_encoder = TrafficSearchEncoder(TRAFFIC_CONV, TRAFFIC_KERNEL, TRAFFIC_HIDDEN, TRAFFIC_LSTM_LAYERS, bidirectional=bidirectional)\n",
    "        if include_search:\n",
    "            self.search_encoder = TrafficSearchEncoder(SEARCH_CONV, SEARCH_KERNEL, SEARCH_HIDDEN, SEARCH_LSTM_LAYERS, bidirectional=bidirectional)\n",
    "            self.unspec_search_encoder = SearchUnspecEncoder()\n",
    "        \n",
    "    def forward(self, x_trf, x_sr, x_un_sr):\n",
    "        # N x T x S -> N x T x H_t, (bi*L_t x N x H_t, bi*L_t x N x H_t)\n",
    "        outs_trf, state_trf = self.traffic_encoder(x_trf)\n",
    "        if self.bidirectional:\n",
    "            # 2*L_t x N x H_t -> L_t x N x 2*H_t\n",
    "            L2, N, H_t = state_trf[0].shape\n",
    "            h = state_trf[0].transpose(0,1).reshape(N, L2 // 2, -1).transpose(0,1).contiguous()\n",
    "            c = state_trf[1].transpose(0,1).reshape(N, L2 // 2, -1).transpose(0,1).contiguous()\n",
    "            state_trf = (h, c)\n",
    "        \n",
    "        if self.include_search:\n",
    "            # N x P x S -> N x P x H_s, (L_s x N x H_s, L_s x N x H_s) \n",
    "            outs_sr, state_sr = self.search_encoder(x_sr)\n",
    "            # N x 1 x S -> N x 1 x H_u\n",
    "            out_un_sr = self.unspec_search_encoder(x_un_sr)\n",
    "            return (outs_trf, state_trf), outs_sr, out_un_sr\n",
    "        return outs_trf, state_trf"
   ]
  },
  {
   "cell_type": "code",
   "execution_count": 23,
   "id": "cf4c3742-ebe5-4e1b-91ca-8d2e6ff316fe",
   "metadata": {},
   "outputs": [],
   "source": [
    "class CategoricalEmbedding(nn.Module):\n",
    "    def __init__(self, category_size, emb_size):\n",
    "        super().__init__()\n",
    "\n",
    "        self.category_size = category_size\n",
    "        self.emb_size = emb_size\n",
    "        self.embedding = nn.Embedding(category_size, emb_size)\n",
    "\n",
    "    def forward(self, x):\n",
    "        out = self.embedding(x.to(dtype=torch.int64))\n",
    "        return out"
   ]
  },
  {
   "cell_type": "code",
   "execution_count": 41,
   "id": "18265635-b996-4dec-9429-3d07957b3825",
   "metadata": {},
   "outputs": [],
   "source": [
    "# https://github.com/sooftware/attentions/blob/master/attentions.py\n",
    "class DotProductAttention(nn.Module):\n",
    "    def __init__(self, scaled=False):\n",
    "        super().__init__()\n",
    "        \n",
    "        self.scaled = scaled\n",
    "\n",
    "    def forward(self, query, value):\n",
    "        # query: N x P x H\n",
    "        # value: N x T x H\n",
    "       \n",
    "        # (N x P x H) x (N x H x T) -> N x P x T\n",
    "        score = torch.bmm(query, value.transpose(1, 2))\n",
    "        if self.scaled:\n",
    "            D = value.shape[-1]\n",
    "            score /= np.sqrt(D)\n",
    "        attn = F.softmax(score, dim=-1)\n",
    "        # (N x P x T) x (N x T x H) -> N x P x H\n",
    "        context = torch.bmm(attn, value)\n",
    "        \n",
    "        return context, attn"
   ]
  },
  {
   "cell_type": "code",
   "execution_count": 105,
   "id": "bdd0dca3-cb37-417f-8523-ea77c807959d",
   "metadata": {},
   "outputs": [],
   "source": [
    "class TrafficDecoder(nn.Module):\n",
    "    def __init__(self, bidirectional=True):\n",
    "        super().__init__()\n",
    "        \n",
    "        self.dropout_ratio = 0.3\n",
    "        \n",
    "        self.hid_dim = 2 * TRAFFIC_HIDDEN if bidirectional else TRAFFIC_HIDDEN\n",
    "        self.bnorm = nn.BatchNorm1d(1)\n",
    "        # self.lstm = nn.LSTM(1, self.hid_dim, TRAFFIC_LSTM_LAYERS, batch_first=True)\n",
    "        self.lstm = nn.LSTM(1, self.hid_dim, TRAFFIC_LSTM_LAYERS, dropout=self.dropout_ratio, batch_first=True)\n",
    "\n",
    "    def forward(self, x, state):\n",
    "        N, _, P = x.shape\n",
    "        # normalize\n",
    "        x = self.bnorm(x)\n",
    "        # N x C=1 x P -> N x P x C=1\n",
    "        x = x.permute(0, 2, 1)\n",
    "        # N x P x C, (L x N x H_t, L x N x H_t) -> N x P x H_t, (L x N x H_t, L x N x H_t)\n",
    "        outs, state = self.lstm(x, state)\n",
    "        return outs, state\n",
    "    \n",
    "    \n",
    "class AttentionTrafficDecoder(nn.Module):\n",
    "    def __init__(self, bidirectional=True):\n",
    "        super().__init__()\n",
    "        \n",
    "        self.dropout_ratio = 0.3\n",
    "        \n",
    "        self.hid_dim = 2 * TRAFFIC_HIDDEN if bidirectional else TRAFFIC_HIDDEN\n",
    "        self.bnorm = nn.BatchNorm1d(1)\n",
    "        self.lstm1 = nn.LSTM(1, self.hid_dim, dropout=self.dropout_ratio, batch_first=True)\n",
    "        self.attention = DotProductAttention()\n",
    "        self.lstm2 = nn.LSTM(self.hid_dim, self.hid_dim, TRAFFIC_LSTM_LAYERS-1, dropout=self.dropout_ratio, batch_first=True)\n",
    "\n",
    "    def forward(self, x, enc_out, state):\n",
    "        N, _, P = x.shape\n",
    "        \n",
    "        # normalize\n",
    "        x = self.bnorm(x)\n",
    "        \n",
    "        # N x C=1 x P -> N x P x C=1\n",
    "        x = x.permute(0, 2, 1)\n",
    "        # L x N x H_t -> (1 x N x H_t, L-1 x N x H_t)\n",
    "        state1 = (state[0][:1], state[1][:1])\n",
    "        state2 = (state[0][1:], state[1][1:])\n",
    "        \n",
    "        # N x P x C, (L x N x H_t, L x N x H_t) -> N x P x H_t, (L x N x H_t, L x N x H_t)\n",
    "        outs, state1 = self.lstm1(x, state1)\n",
    "        contexts, attn_weight = self.attention(outs, enc_out)\n",
    "        outs, state2 = self.lstm2(contexts, state2)\n",
    "        \n",
    "        # (1 x N x H_t, L-1 x N x H_t) -> L x N x H_t\n",
    "        state = (\n",
    "            torch.cat([state1[0], state2[0]], dim=0),\n",
    "            torch.cat([state1[1], state2[1]], dim=0),\n",
    "        )\n",
    "        \n",
    "        return outs, state, contexts"
   ]
  },
  {
   "cell_type": "code",
   "execution_count": 97,
   "id": "3318b4af-6b19-432f-b47f-5fb85df4e88c",
   "metadata": {},
   "outputs": [],
   "source": [
    "class AffineDecoder(nn.Module):\n",
    "    def __init__(self, include_search=True, bidirectional=True):\n",
    "        super().__init__()\n",
    "        \n",
    "        self.include_search = include_search\n",
    "        self.bidirectional = bidirectional\n",
    "        \n",
    "        if include_search:\n",
    "            if bidirectional:\n",
    "                self.n_dim = 2*TRAFFIC_HIDDEN + 2*SEARCH_HIDDEN + UNSPEC_SEARCH_HIDDEN + DATETIME_EMB + ROAD_EMB\n",
    "            else:\n",
    "                self.n_dim = TRAFFIC_HIDDEN + SEARCH_HIDDEN + UNSPEC_SEARCH_HIDDEN + DATETIME_EMB + ROAD_EMB\n",
    "        else:\n",
    "            if bidirectional:\n",
    "                self.n_dim = 2*TRAFFIC_HIDDEN + DATETIME_EMB + ROAD_EMB\n",
    "            else:\n",
    "                self.n_dim = TRAFFIC_HIDDEN + DATETIME_EMB + ROAD_EMB\n",
    "        \n",
    "        self.datetime_embedding = CategoricalEmbedding(config.DT_TABLE_SIZE, DATETIME_EMB)\n",
    "        self.road_embedding = CategoricalEmbedding(config.SEC_TABLE_SIZE, ROAD_EMB)\n",
    "        # self.emb_dropout = nn.Dropout(p=0)\n",
    "        self.emb_dropout = nn.Dropout(p=0.4)\n",
    "        \n",
    "        self.fc1 = nn.Linear(self.n_dim, FC_EMB)\n",
    "        self.fc2 = nn.Linear(FC_EMB, 1)\n",
    "        \n",
    "    def forward(self, trf_dec, sr_enc, un_sr_enc, dt, rd):\n",
    "        # traffic_dec: N x P x H_t\n",
    "        N, P, H_t = trf_dec.shape\n",
    "        \n",
    "        # N x P -> N x P x H_d\n",
    "        dt_emb = self.datetime_embedding(dt)\n",
    "        dt_emb = self.emb_dropout(dt_emb)\n",
    "        # N x 1 -> N x 1 x H_r\n",
    "        rd_emb = self.road_embedding(rd)\n",
    "        rd_emb = self.emb_dropout(rd_emb)\n",
    "        \n",
    "        if self.include_search:\n",
    "            outs = torch.cat([\n",
    "                dt_emb, \n",
    "                rd_emb.repeat(1, P, 1), \n",
    "                sr_enc, \n",
    "                un_sr_enc.repeat(1, P, 1),\n",
    "                trf_dec\n",
    "            ], dim=-1)\n",
    "        else:\n",
    "            outs = torch.cat([\n",
    "                dt_emb, \n",
    "                rd_emb.repeat(1, P, 1), \n",
    "                trf_dec\n",
    "            ], dim=-1)\n",
    "        # N x P x SUM -> N x P x H_fc\n",
    "        outs = F.relu(self.fc1(outs))\n",
    "        # N x P x H_fc -> N x P x 1\n",
    "        outs = self.fc2(outs)\n",
    "        \n",
    "        return outs\n",
    "    \n",
    "    \n",
    "class AttentionAffineDecoder(nn.Module):\n",
    "    def __init__(self, include_search=True, bidirectional=True):\n",
    "        super().__init__()\n",
    "        \n",
    "        self.include_search = include_search\n",
    "        self.bidirectional = bidirectional\n",
    "        \n",
    "        if include_search:\n",
    "            if bidirectional:\n",
    "                self.n_dim = 4*TRAFFIC_HIDDEN + 2*SEARCH_HIDDEN + UNSPEC_SEARCH_HIDDEN + DATETIME_EMB + ROAD_EMB\n",
    "            else:\n",
    "                self.n_dim = 3*TRAFFIC_HIDDEN + SEARCH_HIDDEN + UNSPEC_SEARCH_HIDDEN + DATETIME_EMB + ROAD_EMB\n",
    "        else:\n",
    "            if bidirectional:\n",
    "                self.n_dim = 4*TRAFFIC_HIDDEN + DATETIME_EMB + ROAD_EMB\n",
    "            else:\n",
    "                self.n_dim = 3*TRAFFIC_HIDDEN + DATETIME_EMB + ROAD_EMB\n",
    "        \n",
    "        self.datetime_embedding = CategoricalEmbedding(config.DT_TABLE_SIZE, DATETIME_EMB)\n",
    "        self.road_embedding = CategoricalEmbedding(config.SEC_TABLE_SIZE, ROAD_EMB)\n",
    "        # self.emb_dropout = nn.Dropout(p=0)\n",
    "        self.emb_dropout = nn.Dropout(p=0.4)\n",
    "        \n",
    "        self.fc1 = nn.Linear(self.n_dim, FC_EMB)\n",
    "        self.fc2 = nn.Linear(FC_EMB, 1)\n",
    "        \n",
    "    def forward(self, trf_dec, trf_cxt, sr_enc, un_sr_enc, dt, rd):\n",
    "        # traffic_dec: N x P x H_t\n",
    "        N, P, H_t = trf_dec.shape\n",
    "        \n",
    "        # N x P -> N x P x H_d\n",
    "        dt_emb = self.datetime_embedding(dt)\n",
    "        dt_emb = self.emb_dropout(dt_emb)\n",
    "        # N x 1 -> N x 1 x H_r\n",
    "        rd_emb = self.road_embedding(rd)\n",
    "        rd_emb = self.emb_dropout(rd_emb)\n",
    "        \n",
    "        if self.include_search:\n",
    "            outs = torch.cat([\n",
    "                dt_emb, \n",
    "                rd_emb.repeat(1, P, 1), \n",
    "                sr_enc, \n",
    "                un_sr_enc.repeat(1, P, 1),\n",
    "                trf_dec,\n",
    "                trf_cxt\n",
    "            ], dim=-1)\n",
    "        else:\n",
    "            outs = torch.cat([\n",
    "                dt_emb, \n",
    "                rd_emb.repeat(1, P, 1), \n",
    "                trf_dec,\n",
    "                trf_cxt\n",
    "            ], dim=-1)\n",
    "        # N x P x SUM -> N x P x H_fc\n",
    "        outs = F.relu(self.fc1(outs))\n",
    "        # N x P x H_fc -> N x P x 1\n",
    "        outs = self.fc2(outs)\n",
    "        \n",
    "        return outs"
   ]
  },
  {
   "cell_type": "code",
   "execution_count": 90,
   "id": "043357ae-268d-4733-9c7c-1b1d54845207",
   "metadata": {},
   "outputs": [],
   "source": [
    "class AttentionDecoder(nn.Module):\n",
    "    def __init__(self, include_search=True, bidirectional=True, scaled=False):\n",
    "        super().__init__()\n",
    "        \n",
    "        self.include_search = include_search\n",
    "        \n",
    "        self.traffic_decoder = TrafficDecoder(bidirectional)\n",
    "        self.attention = DotProductAttention(scaled)\n",
    "        self.affine_decoder = AffineDecoder(include_search=include_search, bidirectional=bidirectional)\n",
    "    \n",
    "    def forward(self, x, trf_enc_out, trf_enc_state, sr_enc, un_sr_enc, dt, rd):\n",
    "        # N x 1 x P, (L x N x H_t, L x N x H_t) -> N x P x H_t, (L x N x H_t, L x N x H_t)\n",
    "        outs_trf, state_trf = self.traffic_decoder(x, trf_enc_state)\n",
    "        outs_trf, attn_weight = self.attention(outs_trf, trf_enc_out)\n",
    "        outs = self.affine_decoder(outs_trf, sr_enc, un_sr_enc, dt, rd)\n",
    "        # N x P x 1 -> N x P\n",
    "        outs = outs[..., 0]\n",
    "        return outs\n",
    "    \n",
    "    def generate(self, trf_enc_out, trf_enc_state, sr_enc, un_sr_enc, dt, rd, start_value=-1.0):\n",
    "        with torch.no_grad():\n",
    "            # N x 1 x 1\n",
    "            N = trf_enc_out.shape[0]\n",
    "            out = torch.tensor(start_value).repeat(N).unsqueeze(-1).unsqueeze(-1)\n",
    "            out = out.to(trf_enc_out.device)\n",
    "            \n",
    "            state = trf_enc_state\n",
    "            \n",
    "            generated = []\n",
    "\n",
    "            for i in range(24):\n",
    "                out, state = self.traffic_decoder(out, state)\n",
    "                out, attn = self.attention(out, trf_enc_out)\n",
    "                if self.include_search:\n",
    "                    out = self.affine_decoder(out, sr_enc[:, [i]], un_sr_enc, dt[:, [i]], rd)\n",
    "                else:\n",
    "                    out = self.affine_decoder(out, None, None, dt[:, [i]], rd)\n",
    "\n",
    "                generated.append(out)\n",
    "        \n",
    "        # N x P x 1\n",
    "        generated = torch.cat(generated, dim=1)\n",
    "        # N x P x 1 -> N x P\n",
    "        generated = generated[..., 0]\n",
    "        return generated\n",
    "    \n",
    "    \n",
    "class AttentionDecoder(nn.Module):\n",
    "    def __init__(self, include_search=True, bidirectional=True, scaled=False):\n",
    "        super().__init__()\n",
    "        \n",
    "        self.include_search = include_search\n",
    "        \n",
    "        self.traffic_decoder = AttentionTrafficDecoder(bidirectional)\n",
    "        self.affine_decoder = AttentionAffineDecoder(include_search=include_search, bidirectional=bidirectional)\n",
    "    \n",
    "    def forward(self, x, trf_enc_out, trf_enc_state, sr_enc, un_sr_enc, dt, rd):\n",
    "        # N x 1 x P, (L x N x H_t, L x N x H_t) -> N x P x H_t, (L x N x H_t, L x N x H_t)\n",
    "        outs_trf, state_trf, cxts_trf = self.traffic_decoder(x, trf_enc_out, trf_enc_state)\n",
    "        outs = self.affine_decoder(outs_trf, cxts_trf, sr_enc, un_sr_enc, dt, rd)\n",
    "        # N x P x 1 -> N x P\n",
    "        outs = outs[..., 0]\n",
    "        return outs\n",
    "    \n",
    "    def generate(self, trf_enc_out, trf_enc_state, sr_enc, un_sr_enc, dt, rd, start_value=-1.0):\n",
    "        with torch.no_grad():\n",
    "            # N x 1 x 1\n",
    "            N = trf_enc_out.shape[0]\n",
    "            out = torch.tensor(start_value).repeat(N).unsqueeze(-1).unsqueeze(-1)\n",
    "            out = out.to(trf_enc_out.device)\n",
    "            \n",
    "            state = trf_enc_state\n",
    "            \n",
    "            generated = []\n",
    "\n",
    "            for i in range(24):\n",
    "                out, state, context = self.traffic_decoder(out, trf_enc_out, state)\n",
    "                if self.include_search:\n",
    "                    out = self.affine_decoder(out, context, sr_enc[:, [i]], un_sr_enc, dt[:, [i]], rd)\n",
    "                else:\n",
    "                    out = self.affine_decoder(out, context, None, None, dt[:, [i]], rd)\n",
    "\n",
    "                generated.append(out)\n",
    "        \n",
    "        # N x P x 1\n",
    "        generated = torch.cat(generated, dim=1)\n",
    "        # N x P x 1 -> N x P\n",
    "        generated = generated[..., 0]\n",
    "        return generated"
   ]
  },
  {
   "cell_type": "code",
   "execution_count": 91,
   "id": "bb50e3a3-8028-49cc-86d9-ffe29339d292",
   "metadata": {
    "tags": []
   },
   "outputs": [],
   "source": [
    "class AttentionEncoderDecoder(nn.Module):\n",
    "    def __init__(self, include_search=True, bidirectional=True, scaled=False):\n",
    "        super().__init__()\n",
    "        \n",
    "        self.include_search = include_search\n",
    "        \n",
    "        self.encoder = Encoder(include_search=include_search, bidirectional=bidirectional)\n",
    "        self.decoder = AttentionDecoder(include_search=include_search, bidirectional=bidirectional, scaled=scaled)\n",
    "        \n",
    "    def forward(self, features, decoder_xs):\n",
    "        dt, rd, sr, un_sr, trf = features\n",
    "        \n",
    "        if self.include_search:\n",
    "            (outs_trf, state_trf), outs_sr, outs_un_sr = self.encoder(trf, sr, un_sr)\n",
    "        else:\n",
    "            outs_trf, state_trf = self.encoder(trf, sr, un_sr)\n",
    "            outs_sr, outs_un_sr = None, None\n",
    "            \n",
    "        # outs = self.decoder(decoder_xs, outs_trf, state_trf, outs_sr, outs_un_sr, dt, rd)\n",
    "        outs = self.decoder(decoder_xs, outs_trf, state_trf, outs_sr, outs_un_sr, dt, rd)\n",
    "\n",
    "        return outs\n",
    "    \n",
    "    def generate(self, features, start_value=-1.0):\n",
    "        dt, rd, sr, un_sr, trf = features\n",
    "        \n",
    "        if self.include_search:\n",
    "            (outs_trf, state_trf), outs_sr, outs_un_sr = self.encoder(trf, sr, un_sr)\n",
    "        else:\n",
    "            outs_trf, state_trf = self.encoder(trf, sr, un_sr)\n",
    "            DotProductAttentions_sr, outs_un_sr = None, None\n",
    "        \n",
    "        generated = self.decoder.generate(outs_trf, state_trf, outs_sr, outs_un_sr, dt, rd, start_value)\n",
    "        return generated"
   ]
  },
  {
   "cell_type": "code",
   "execution_count": 92,
   "id": "d8bf64f4-75d8-4ff7-80f4-e5bc326345ef",
   "metadata": {},
   "outputs": [
    {
     "name": "stdout",
     "output_type": "stream",
     "text": [
      "torch.Size([16, 168, 5]) torch.Size([16, 1, 24])\n"
     ]
    }
   ],
   "source": [
    "(dt, rd, sr, un_sr, trf), labels = dataset_train[:16]\n",
    "print(trf.shape, labels.shape)"
   ]
  },
  {
   "cell_type": "code",
   "execution_count": 93,
   "id": "7a735cd0-6e7d-4e57-8e90-dce993ddddda",
   "metadata": {},
   "outputs": [
    {
     "name": "stdout",
     "output_type": "stream",
     "text": [
      "torch.Size([16, 168, 256]) torch.Size([4, 16, 256]) torch.Size([16, 24, 256]) torch.Size([16, 1, 64])\n"
     ]
    }
   ],
   "source": [
    "(outs_trf, state_trf), outs_sr, outs_un_sr = Encoder(include_search=True, bidirectional=True)(trf, sr, un_sr)\n",
    "print(outs_trf.shape, state_trf[0].shape, outs_sr.shape, outs_un_sr.shape)\n",
    "\n",
    "# (outs_trf, state_trf) = WithoutEncoder(bidirectional=False)(trf)\n",
    "# print(outs_trf.shape, state_trf[0].shape)"
   ]
  },
  {
   "cell_type": "code",
   "execution_count": 96,
   "id": "76790725-b8f1-48f1-84e5-67455549a4a7",
   "metadata": {},
   "outputs": [
    {
     "data": {
      "text/plain": [
       "torch.Size([16, 24, 256])"
      ]
     },
     "execution_count": 96,
     "metadata": {},
     "output_type": "execute_result"
    }
   ],
   "source": [
    "AttentionTrafficDecoder()(labels, outs_trf, state_trf)[-1].shape"
   ]
  },
  {
   "cell_type": "code",
   "execution_count": 98,
   "id": "cd9ac8ea-2db1-4726-8dc2-b1d6ad012847",
   "metadata": {
    "tags": []
   },
   "outputs": [
    {
     "name": "stdout",
     "output_type": "stream",
     "text": [
      "torch.Size([16, 24])\n"
     ]
    }
   ],
   "source": [
    "predicted = AttentionDecoder(include_search=True, bidirectional=True).generate(outs_trf, state_trf, outs_sr, outs_un_sr, dt, rd)\n",
    "print(predicted.shape)\n",
    "\n",
    "# predicted = WithoutDecoder(bidirectional=False).generate(state_trf, dt, rd)"
   ]
  },
  {
   "cell_type": "code",
   "execution_count": 99,
   "id": "78b3c09d-5697-41b0-8fb7-b3efca25b689",
   "metadata": {},
   "outputs": [
    {
     "name": "stdout",
     "output_type": "stream",
     "text": [
      "torch.Size([16, 24])\n"
     ]
    }
   ],
   "source": [
    "predicted = AttentionEncoderDecoder(include_search=True, bidirectional=True).generate((dt, rd, sr, un_sr, trf))\n",
    "print(predicted.shape)"
   ]
  },
  {
   "cell_type": "code",
   "execution_count": 100,
   "id": "e0735f29-d3a5-4993-b123-fc30448b86c9",
   "metadata": {},
   "outputs": [],
   "source": [
    "features, labels = dataset_train[:16]"
   ]
  },
  {
   "cell_type": "code",
   "execution_count": 101,
   "id": "218660b8-f9d8-4ab5-be3a-c18579df3e30",
   "metadata": {},
   "outputs": [],
   "source": [
    "decoder_xs = torch.full_like(labels, -1)\n",
    "decoder_xs[..., 1:] = labels[..., :-1]"
   ]
  },
  {
   "cell_type": "code",
   "execution_count": 102,
   "id": "0be0aee6-d215-4969-9b78-cf98730a4def",
   "metadata": {},
   "outputs": [
    {
     "data": {
      "text/plain": [
       "torch.Size([16, 24])"
      ]
     },
     "execution_count": 102,
     "metadata": {},
     "output_type": "execute_result"
    }
   ],
   "source": [
    "out = AttentionEncoderDecoder(include_search=True)((dt, rd, sr, un_sr, trf), decoder_xs)\n",
    "out.shape"
   ]
  },
  {
   "cell_type": "markdown",
   "id": "8d41aa92-6edb-4ee7-940c-990101e90046",
   "metadata": {
    "tags": []
   },
   "source": [
    "## 学習"
   ]
  },
  {
   "cell_type": "code",
   "execution_count": 114,
   "id": "a84a9747-5ddb-40a2-a058-55a7a2b4cec8",
   "metadata": {},
   "outputs": [],
   "source": [
    "def get_loader(dataset, batch_size=config.BATCH_SIZE, shuffle=False):\n",
    "    g = torch.Generator()\n",
    "    g.manual_seed(config.RANDOM_SEED)\n",
    "\n",
    "    dataloader = torch.utils.data.DataLoader(dataset, batch_size, shuffle=True, worker_init_fn=seed_worker, generator=g)\n",
    "    return dataloader\n",
    "\n",
    "\n",
    "def train(n_epochs, model, model_name=None, log_path=None):\n",
    "    train_loader = get_loader(dataset_train)\n",
    "    val_loader = get_loader(dataset_valid)\n",
    "    \n",
    "    # hyper parameters\n",
    "    n_epochs = 100\n",
    "\n",
    "    # model\n",
    "    model = model.to(device)\n",
    "    optimizer = optim.Adam(model.parameters())\n",
    "    loss_fn = nn.L1Loss()\n",
    "\n",
    "    logger = Logger(fname=log_path)\n",
    "    trainer = Trainer(model, optimizer, loss_fn, device=device, logger=logger, model_name=model_name)\n",
    "    \n",
    "    train_losses, val_losses = \\\n",
    "        trainer.fit(train_loader, val_loader, n_epochs, log_steps=1)\n",
    "\n",
    "    return trainer"
   ]
  },
  {
   "cell_type": "markdown",
   "id": "87a0a0d0-df1a-40a8-8d72-5f315f3a57b9",
   "metadata": {
    "tags": []
   },
   "source": [
    "### 検索あり"
   ]
  },
  {
   "cell_type": "code",
   "execution_count": 115,
   "id": "8f748352-ddca-43f2-8372-a58731428d08",
   "metadata": {},
   "outputs": [
    {
     "name": "stdout",
     "output_type": "stream",
     "text": [
      "============================== LSTM layers: 2 ==============================\n",
      "2022-09-06 16:45:46.197038 | Epoch: 1 | Train Loss: 862.608, Train Time: 2.77 [sec] | Valid Loss: 812.813, Valid Time: 0.85 [sec]\n",
      "2022-09-06 16:45:49.813160 | Epoch: 2 | Train Loss: 688.783, Train Time: 2.77 [sec] | Valid Loss: 679.429, Valid Time: 0.85 [sec]\n",
      "2022-09-06 16:45:53.431324 | Epoch: 3 | Train Loss: 501.836, Train Time: 2.77 [sec] | Valid Loss: 424.176, Valid Time: 0.85 [sec]\n",
      "2022-09-06 16:45:57.228728 | Epoch: 4 | Train Loss: 287.317, Train Time: 2.95 [sec] | Valid Loss: 296.158, Valid Time: 0.85 [sec]\n",
      "2022-09-06 16:46:00.871012 | Epoch: 5 | Train Loss: 188.078, Train Time: 2.79 [sec] | Valid Loss: 237.490, Valid Time: 0.85 [sec]\n",
      "2022-09-06 16:46:04.520556 | Epoch: 6 | Train Loss: 142.680, Train Time: 2.80 [sec] | Valid Loss: 214.647, Valid Time: 0.85 [sec]\n",
      "2022-09-06 16:46:08.163246 | Epoch: 7 | Train Loss: 120.447, Train Time: 2.79 [sec] | Valid Loss: 277.072, Valid Time: 0.85 [sec]\n",
      "2022-09-06 16:46:11.994255 | Epoch: 8 | Train Loss: 105.445, Train Time: 2.98 [sec] | Valid Loss: 215.761, Valid Time: 0.85 [sec]\n",
      "2022-09-06 16:46:15.648923 | Epoch: 9 | Train Loss: 96.436, Train Time: 2.80 [sec] | Valid Loss: 161.255, Valid Time: 0.86 [sec]\n",
      "2022-09-06 16:46:19.313371 | Epoch: 10 | Train Loss: 89.441, Train Time: 2.81 [sec] | Valid Loss: 158.488, Valid Time: 0.86 [sec]\n",
      "2022-09-06 16:46:22.979405 | Epoch: 11 | Train Loss: 84.847, Train Time: 2.81 [sec] | Valid Loss: 155.679, Valid Time: 0.85 [sec]\n",
      "2022-09-06 16:46:26.830944 | Epoch: 12 | Train Loss: 83.972, Train Time: 2.81 [sec] | Valid Loss: 180.287, Valid Time: 1.04 [sec]\n",
      "2022-09-06 16:46:30.504988 | Epoch: 13 | Train Loss: 81.036, Train Time: 2.81 [sec] | Valid Loss: 145.981, Valid Time: 0.86 [sec]\n",
      "2022-09-06 16:46:34.173366 | Epoch: 14 | Train Loss: 80.012, Train Time: 2.81 [sec] | Valid Loss: 200.093, Valid Time: 0.85 [sec]\n",
      "2022-09-06 16:46:37.878944 | Epoch: 15 | Train Loss: 80.063, Train Time: 2.85 [sec] | Valid Loss: 143.693, Valid Time: 0.86 [sec]\n",
      "2022-09-06 16:46:41.605325 | Epoch: 16 | Train Loss: 74.469, Train Time: 2.87 [sec] | Valid Loss: 138.211, Valid Time: 0.85 [sec]\n",
      "2022-09-06 16:46:45.330511 | Epoch: 17 | Train Loss: 76.280, Train Time: 2.87 [sec] | Valid Loss: 222.077, Valid Time: 0.86 [sec]\n",
      "2022-09-06 16:46:49.036639 | Epoch: 18 | Train Loss: 75.142, Train Time: 2.85 [sec] | Valid Loss: 145.446, Valid Time: 0.86 [sec]\n",
      "2022-09-06 16:46:52.752203 | Epoch: 19 | Train Loss: 72.568, Train Time: 2.86 [sec] | Valid Loss: 184.934, Valid Time: 0.86 [sec]\n",
      "2022-09-06 16:46:56.646785 | Epoch: 20 | Train Loss: 71.815, Train Time: 3.04 [sec] | Valid Loss: 156.677, Valid Time: 0.86 [sec]\n",
      "2022-09-06 16:47:00.371617 | Epoch: 21 | Train Loss: 72.221, Train Time: 2.87 [sec] | Valid Loss: 129.717, Valid Time: 0.86 [sec]\n",
      "2022-09-06 16:47:04.090981 | Epoch: 22 | Train Loss: 72.247, Train Time: 2.86 [sec] | Valid Loss: 130.339, Valid Time: 0.86 [sec]\n",
      "2022-09-06 16:47:07.823351 | Epoch: 23 | Train Loss: 68.761, Train Time: 2.88 [sec] | Valid Loss: 137.603, Valid Time: 0.86 [sec]\n",
      "2022-09-06 16:47:11.551881 | Epoch: 24 | Train Loss: 68.949, Train Time: 2.87 [sec] | Valid Loss: 167.009, Valid Time: 0.86 [sec]\n",
      "2022-09-06 16:47:15.288190 | Epoch: 25 | Train Loss: 68.100, Train Time: 2.88 [sec] | Valid Loss: 137.132, Valid Time: 0.86 [sec]\n",
      "2022-09-06 16:47:19.010911 | Epoch: 26 | Train Loss: 70.341, Train Time: 2.86 [sec] | Valid Loss: 133.164, Valid Time: 0.86 [sec]\n",
      "2022-09-06 16:47:22.737452 | Epoch: 27 | Train Loss: 69.874, Train Time: 2.87 [sec] | Valid Loss: 147.301, Valid Time: 0.85 [sec]\n",
      "2022-09-06 16:47:26.471192 | Epoch: 28 | Train Loss: 67.886, Train Time: 2.88 [sec] | Valid Loss: 137.218, Valid Time: 0.86 [sec]\n",
      "2022-09-06 16:47:30.375973 | Epoch: 29 | Train Loss: 63.500, Train Time: 3.05 [sec] | Valid Loss: 143.238, Valid Time: 0.86 [sec]\n",
      "2022-09-06 16:47:34.109377 | Epoch: 30 | Train Loss: 67.000, Train Time: 2.88 [sec] | Valid Loss: 145.093, Valid Time: 0.85 [sec]\n",
      "2022-09-06 16:47:37.838270 | Epoch: 31 | Train Loss: 62.137, Train Time: 2.87 [sec] | Valid Loss: 132.264, Valid Time: 0.85 [sec]\n",
      "2022-09-06 16:47:41.557473 | Epoch: 32 | Train Loss: 67.921, Train Time: 2.86 [sec] | Valid Loss: 131.967, Valid Time: 0.86 [sec]\n",
      "2022-09-06 16:47:45.261911 | Epoch: 33 | Train Loss: 64.265, Train Time: 2.85 [sec] | Valid Loss: 145.816, Valid Time: 0.86 [sec]\n",
      "2022-09-06 16:47:48.976911 | Epoch: 34 | Train Loss: 64.286, Train Time: 2.86 [sec] | Valid Loss: 125.316, Valid Time: 0.85 [sec]\n",
      "2022-09-06 16:47:52.698486 | Epoch: 35 | Train Loss: 63.134, Train Time: 2.87 [sec] | Valid Loss: 121.986, Valid Time: 0.86 [sec]\n",
      "2022-09-06 16:47:56.416769 | Epoch: 36 | Train Loss: 61.008, Train Time: 2.86 [sec] | Valid Loss: 123.098, Valid Time: 0.86 [sec]\n",
      "2022-09-06 16:48:00.314044 | Epoch: 37 | Train Loss: 62.344, Train Time: 2.86 [sec] | Valid Loss: 118.356, Valid Time: 1.03 [sec]\n",
      "2022-09-06 16:48:04.035763 | Epoch: 38 | Train Loss: 61.622, Train Time: 2.86 [sec] | Valid Loss: 148.162, Valid Time: 0.86 [sec]\n",
      "2022-09-06 16:48:07.755899 | Epoch: 39 | Train Loss: 61.282, Train Time: 2.86 [sec] | Valid Loss: 138.257, Valid Time: 0.86 [sec]\n",
      "2022-09-06 16:48:11.476572 | Epoch: 40 | Train Loss: 63.195, Train Time: 2.87 [sec] | Valid Loss: 122.508, Valid Time: 0.85 [sec]\n",
      "2022-09-06 16:48:15.203210 | Epoch: 41 | Train Loss: 62.862, Train Time: 2.87 [sec] | Valid Loss: 164.841, Valid Time: 0.86 [sec]\n",
      "2022-09-06 16:48:18.927067 | Epoch: 42 | Train Loss: 60.048, Train Time: 2.87 [sec] | Valid Loss: 135.291, Valid Time: 0.86 [sec]\n",
      "2022-09-06 16:48:22.664008 | Epoch: 43 | Train Loss: 63.280, Train Time: 2.88 [sec] | Valid Loss: 124.325, Valid Time: 0.86 [sec]\n",
      "2022-09-06 16:48:26.389716 | Epoch: 44 | Train Loss: 60.826, Train Time: 2.87 [sec] | Valid Loss: 154.250, Valid Time: 0.86 [sec]\n",
      "2022-09-06 16:48:30.118964 | Epoch: 45 | Train Loss: 60.317, Train Time: 2.87 [sec] | Valid Loss: 132.460, Valid Time: 0.86 [sec]\n",
      "2022-09-06 16:48:33.994074 | Epoch: 46 | Train Loss: 61.571, Train Time: 3.02 [sec] | Valid Loss: 124.380, Valid Time: 0.85 [sec]\n",
      "2022-09-06 16:48:37.718061 | Epoch: 47 | Train Loss: 58.990, Train Time: 2.87 [sec] | Valid Loss: 118.860, Valid Time: 0.86 [sec]\n",
      "2022-09-06 16:48:41.451371 | Epoch: 48 | Train Loss: 58.425, Train Time: 2.88 [sec] | Valid Loss: 120.709, Valid Time: 0.86 [sec]\n",
      "2022-09-06 16:48:45.174592 | Epoch: 49 | Train Loss: 58.941, Train Time: 2.87 [sec] | Valid Loss: 152.641, Valid Time: 0.86 [sec]\n",
      "2022-09-06 16:48:48.879542 | Epoch: 50 | Train Loss: 58.472, Train Time: 2.84 [sec] | Valid Loss: 136.547, Valid Time: 0.87 [sec]\n",
      "2022-09-06 16:48:52.569369 | Epoch: 51 | Train Loss: 61.441, Train Time: 2.83 [sec] | Valid Loss: 126.565, Valid Time: 0.86 [sec]\n",
      "2022-09-06 16:48:56.239559 | Epoch: 52 | Train Loss: 58.710, Train Time: 2.81 [sec] | Valid Loss: 152.307, Valid Time: 0.86 [sec]\n",
      "2022-09-06 16:48:59.900643 | Epoch: 53 | Train Loss: 61.451, Train Time: 2.80 [sec] | Valid Loss: 135.475, Valid Time: 0.86 [sec]\n",
      "2022-09-06 16:49:03.611009 | Epoch: 54 | Train Loss: 59.822, Train Time: 2.85 [sec] | Valid Loss: 134.620, Valid Time: 0.86 [sec]\n",
      "2022-09-06 16:49:07.509349 | Epoch: 55 | Train Loss: 58.768, Train Time: 3.04 [sec] | Valid Loss: 137.744, Valid Time: 0.86 [sec]\n",
      "2022-09-06 16:49:11.226544 | Epoch: 56 | Train Loss: 59.417, Train Time: 2.86 [sec] | Valid Loss: 154.885, Valid Time: 0.86 [sec]\n",
      "2022-09-06 16:49:14.947404 | Epoch: 57 | Train Loss: 58.107, Train Time: 2.87 [sec] | Valid Loss: 117.362, Valid Time: 0.85 [sec]\n",
      "2022-09-06 16:49:18.666855 | Epoch: 58 | Train Loss: 56.149, Train Time: 2.86 [sec] | Valid Loss: 128.749, Valid Time: 0.85 [sec]\n",
      "2022-09-06 16:49:22.400237 | Epoch: 59 | Train Loss: 55.914, Train Time: 2.88 [sec] | Valid Loss: 138.948, Valid Time: 0.86 [sec]\n",
      "2022-09-06 16:49:26.115054 | Epoch: 60 | Train Loss: 57.552, Train Time: 2.86 [sec] | Valid Loss: 113.225, Valid Time: 0.86 [sec]\n",
      "2022-09-06 16:49:29.818476 | Epoch: 61 | Train Loss: 56.752, Train Time: 2.85 [sec] | Valid Loss: 113.169, Valid Time: 0.86 [sec]\n",
      "2022-09-06 16:49:33.530357 | Epoch: 62 | Train Loss: 55.803, Train Time: 2.85 [sec] | Valid Loss: 111.284, Valid Time: 0.86 [sec]\n",
      "2022-09-06 16:49:37.418108 | Epoch: 63 | Train Loss: 55.315, Train Time: 2.85 [sec] | Valid Loss: 114.100, Valid Time: 1.03 [sec]\n",
      "2022-09-06 16:49:41.133947 | Epoch: 64 | Train Loss: 55.033, Train Time: 2.86 [sec] | Valid Loss: 117.595, Valid Time: 0.86 [sec]\n",
      "2022-09-06 16:49:44.854280 | Epoch: 65 | Train Loss: 54.592, Train Time: 2.86 [sec] | Valid Loss: 121.931, Valid Time: 0.85 [sec]\n",
      "2022-09-06 16:49:48.563365 | Epoch: 66 | Train Loss: 55.942, Train Time: 2.85 [sec] | Valid Loss: 151.485, Valid Time: 0.86 [sec]\n",
      "2022-09-06 16:49:52.281285 | Epoch: 67 | Train Loss: 55.172, Train Time: 2.86 [sec] | Valid Loss: 117.196, Valid Time: 0.86 [sec]\n",
      "2022-09-06 16:49:55.995775 | Epoch: 68 | Train Loss: 53.600, Train Time: 2.86 [sec] | Valid Loss: 122.639, Valid Time: 0.85 [sec]\n",
      "2022-09-06 16:49:59.712510 | Epoch: 69 | Train Loss: 55.505, Train Time: 2.86 [sec] | Valid Loss: 121.586, Valid Time: 0.86 [sec]\n",
      "2022-09-06 16:50:03.412411 | Epoch: 70 | Train Loss: 54.453, Train Time: 2.84 [sec] | Valid Loss: 147.755, Valid Time: 0.86 [sec]\n",
      "2022-09-06 16:50:07.089146 | Epoch: 71 | Train Loss: 53.871, Train Time: 2.82 [sec] | Valid Loss: 151.523, Valid Time: 0.86 [sec]\n",
      "2022-09-06 16:50:10.940662 | Epoch: 72 | Train Loss: 55.166, Train Time: 2.99 [sec] | Valid Loss: 195.411, Valid Time: 0.86 [sec]\n",
      "2022-09-06 16:50:14.614128 | Epoch: 73 | Train Loss: 56.213, Train Time: 2.82 [sec] | Valid Loss: 146.296, Valid Time: 0.86 [sec]\n",
      "2022-09-06 16:50:18.292828 | Epoch: 74 | Train Loss: 55.211, Train Time: 2.82 [sec] | Valid Loss: 117.826, Valid Time: 0.86 [sec]\n",
      "2022-09-06 16:50:21.961150 | Epoch: 75 | Train Loss: 53.671, Train Time: 2.81 [sec] | Valid Loss: 127.980, Valid Time: 0.86 [sec]\n",
      "2022-09-06 16:50:25.621086 | Epoch: 76 | Train Loss: 53.643, Train Time: 2.80 [sec] | Valid Loss: 129.004, Valid Time: 0.86 [sec]\n",
      "2022-09-06 16:50:29.282500 | Epoch: 77 | Train Loss: 55.364, Train Time: 2.81 [sec] | Valid Loss: 113.390, Valid Time: 0.85 [sec]\n",
      "2022-09-06 16:50:32.941353 | Epoch: 78 | Train Loss: 52.950, Train Time: 2.81 [sec] | Valid Loss: 129.406, Valid Time: 0.85 [sec]\n",
      "2022-09-06 16:50:36.604135 | Epoch: 79 | Train Loss: 52.323, Train Time: 2.81 [sec] | Valid Loss: 121.218, Valid Time: 0.86 [sec]\n",
      "2022-09-06 16:50:40.279612 | Epoch: 80 | Train Loss: 54.301, Train Time: 2.82 [sec] | Valid Loss: 109.342, Valid Time: 0.86 [sec]\n",
      "2022-09-06 16:50:44.124671 | Epoch: 81 | Train Loss: 55.408, Train Time: 2.99 [sec] | Valid Loss: 145.696, Valid Time: 0.85 [sec]\n",
      "2022-09-06 16:50:47.791613 | Epoch: 82 | Train Loss: 53.250, Train Time: 2.81 [sec] | Valid Loss: 115.156, Valid Time: 0.86 [sec]\n",
      "2022-09-06 16:50:51.457864 | Epoch: 83 | Train Loss: 52.769, Train Time: 2.81 [sec] | Valid Loss: 110.058, Valid Time: 0.85 [sec]\n",
      "2022-09-06 16:50:55.127534 | Epoch: 84 | Train Loss: 52.379, Train Time: 2.81 [sec] | Valid Loss: 139.936, Valid Time: 0.86 [sec]\n",
      "2022-09-06 16:50:58.803742 | Epoch: 85 | Train Loss: 52.554, Train Time: 2.82 [sec] | Valid Loss: 144.358, Valid Time: 0.86 [sec]\n",
      "2022-09-06 16:51:02.474680 | Epoch: 86 | Train Loss: 52.170, Train Time: 2.82 [sec] | Valid Loss: 116.055, Valid Time: 0.85 [sec]\n",
      "2022-09-06 16:51:06.157407 | Epoch: 87 | Train Loss: 51.162, Train Time: 2.83 [sec] | Valid Loss: 131.505, Valid Time: 0.86 [sec]\n",
      "2022-09-06 16:51:09.839888 | Epoch: 88 | Train Loss: 51.279, Train Time: 2.82 [sec] | Valid Loss: 155.010, Valid Time: 0.86 [sec]\n",
      "2022-09-06 16:51:13.498378 | Epoch: 89 | Train Loss: 53.180, Train Time: 2.80 [sec] | Valid Loss: 123.366, Valid Time: 0.85 [sec]\n",
      "2022-09-06 16:51:17.340996 | Epoch: 90 | Train Loss: 51.179, Train Time: 2.99 [sec] | Valid Loss: 125.446, Valid Time: 0.86 [sec]\n",
      "2022-09-06 16:51:21.004250 | Epoch: 91 | Train Loss: 50.996, Train Time: 2.81 [sec] | Valid Loss: 108.697, Valid Time: 0.86 [sec]\n",
      "2022-09-06 16:51:24.669720 | Epoch: 92 | Train Loss: 50.551, Train Time: 2.81 [sec] | Valid Loss: 161.686, Valid Time: 0.85 [sec]\n",
      "2022-09-06 16:51:28.330551 | Epoch: 93 | Train Loss: 51.287, Train Time: 2.80 [sec] | Valid Loss: 111.082, Valid Time: 0.86 [sec]\n",
      "2022-09-06 16:51:32.167124 | Epoch: 94 | Train Loss: 52.937, Train Time: 2.98 [sec] | Valid Loss: 118.481, Valid Time: 0.85 [sec]\n",
      "2022-09-06 16:51:35.830259 | Epoch: 95 | Train Loss: 53.109, Train Time: 2.81 [sec] | Valid Loss: 122.921, Valid Time: 0.86 [sec]\n",
      "2022-09-06 16:51:39.503786 | Epoch: 96 | Train Loss: 51.134, Train Time: 2.82 [sec] | Valid Loss: 117.640, Valid Time: 0.85 [sec]\n",
      "2022-09-06 16:51:43.175947 | Epoch: 97 | Train Loss: 50.283, Train Time: 2.82 [sec] | Valid Loss: 109.804, Valid Time: 0.86 [sec]\n",
      "2022-09-06 16:51:47.027946 | Epoch: 98 | Train Loss: 48.462, Train Time: 2.82 [sec] | Valid Loss: 109.782, Valid Time: 1.03 [sec]\n",
      "2022-09-06 16:51:50.690796 | Epoch: 99 | Train Loss: 51.998, Train Time: 2.81 [sec] | Valid Loss: 112.337, Valid Time: 0.86 [sec]\n",
      "2022-09-06 16:51:54.342492 | Epoch: 100 | Train Loss: 50.468, Train Time: 2.79 [sec] | Valid Loss: 156.793, Valid Time: 0.86 [sec]\n",
      "============================== (LSTM layers = 2) best loss: 108.697 ==============================\n",
      "============================== LSTM layers: 3 ==============================\n",
      "2022-09-06 16:51:59.215833 | Epoch: 1 | Train Loss: 878.015, Train Time: 3.87 [sec] | Valid Loss: 844.971, Valid Time: 0.96 [sec]\n",
      "2022-09-06 16:52:04.050847 | Epoch: 2 | Train Loss: 705.508, Train Time: 3.88 [sec] | Valid Loss: 686.849, Valid Time: 0.96 [sec]\n",
      "2022-09-06 16:52:09.072783 | Epoch: 3 | Train Loss: 526.895, Train Time: 4.06 [sec] | Valid Loss: 454.673, Valid Time: 0.96 [sec]\n",
      "2022-09-06 16:52:13.928739 | Epoch: 4 | Train Loss: 323.847, Train Time: 3.90 [sec] | Valid Loss: 287.522, Valid Time: 0.96 [sec]\n",
      "2022-09-06 16:52:18.790561 | Epoch: 5 | Train Loss: 225.671, Train Time: 3.90 [sec] | Valid Loss: 216.161, Valid Time: 0.96 [sec]\n",
      "2022-09-06 16:52:23.650993 | Epoch: 6 | Train Loss: 172.410, Train Time: 3.90 [sec] | Valid Loss: 181.595, Valid Time: 0.96 [sec]\n",
      "2022-09-06 16:52:28.686254 | Epoch: 7 | Train Loss: 130.429, Train Time: 4.08 [sec] | Valid Loss: 224.079, Valid Time: 0.96 [sec]\n",
      "2022-09-06 16:52:33.547757 | Epoch: 8 | Train Loss: 107.792, Train Time: 3.90 [sec] | Valid Loss: 171.016, Valid Time: 0.96 [sec]\n",
      "2022-09-06 16:52:38.409884 | Epoch: 9 | Train Loss: 95.154, Train Time: 3.90 [sec] | Valid Loss: 155.750, Valid Time: 0.96 [sec]\n",
      "2022-09-06 16:52:43.272944 | Epoch: 10 | Train Loss: 87.414, Train Time: 3.90 [sec] | Valid Loss: 148.288, Valid Time: 0.96 [sec]\n",
      "2022-09-06 16:52:48.315481 | Epoch: 11 | Train Loss: 81.358, Train Time: 3.91 [sec] | Valid Loss: 143.131, Valid Time: 1.14 [sec]\n",
      "2022-09-06 16:52:53.182631 | Epoch: 12 | Train Loss: 77.711, Train Time: 3.90 [sec] | Valid Loss: 155.336, Valid Time: 0.96 [sec]\n",
      "2022-09-06 16:52:58.043881 | Epoch: 13 | Train Loss: 77.214, Train Time: 3.90 [sec] | Valid Loss: 136.913, Valid Time: 0.96 [sec]\n",
      "2022-09-06 16:53:02.905534 | Epoch: 14 | Train Loss: 74.920, Train Time: 3.90 [sec] | Valid Loss: 156.182, Valid Time: 0.96 [sec]\n",
      "2022-09-06 16:53:07.770057 | Epoch: 15 | Train Loss: 73.733, Train Time: 3.90 [sec] | Valid Loss: 129.714, Valid Time: 0.96 [sec]\n",
      "2022-09-06 16:53:12.805437 | Epoch: 16 | Train Loss: 69.338, Train Time: 4.08 [sec] | Valid Loss: 126.928, Valid Time: 0.96 [sec]\n",
      "2022-09-06 16:53:17.666871 | Epoch: 17 | Train Loss: 72.607, Train Time: 3.90 [sec] | Valid Loss: 193.927, Valid Time: 0.96 [sec]\n",
      "2022-09-06 16:54:55.520678 | Epoch: 37 | Train Loss: 57.892, Train Time: 3.89 [sec] | Valid Loss: 114.404, Valid Time: 0.96 [sec]\n",
      "2022-09-06 16:55:00.545719 | Epoch: 38 | Train Loss: 57.645, Train Time: 4.07 [sec] | Valid Loss: 139.456, Valid Time: 0.96 [sec]\n",
      "2022-09-06 16:55:05.398103 | Epoch: 39 | Train Loss: 56.664, Train Time: 3.89 [sec] | Valid Loss: 131.850, Valid Time: 0.96 [sec]\n",
      "2022-09-06 16:55:10.252399 | Epoch: 40 | Train Loss: 58.649, Train Time: 3.90 [sec] | Valid Loss: 121.158, Valid Time: 0.96 [sec]\n",
      "2022-09-06 16:55:15.110191 | Epoch: 41 | Train Loss: 58.993, Train Time: 3.90 [sec] | Valid Loss: 162.468, Valid Time: 0.96 [sec]\n",
      "2022-09-06 16:55:20.136881 | Epoch: 42 | Train Loss: 56.485, Train Time: 4.07 [sec] | Valid Loss: 131.995, Valid Time: 0.96 [sec]\n",
      "2022-09-06 16:55:24.987828 | Epoch: 43 | Train Loss: 58.240, Train Time: 3.89 [sec] | Valid Loss: 127.790, Valid Time: 0.96 [sec]\n",
      "2022-09-06 16:55:29.839698 | Epoch: 44 | Train Loss: 56.535, Train Time: 3.89 [sec] | Valid Loss: 149.329, Valid Time: 0.96 [sec]\n",
      "2022-09-06 16:55:34.689614 | Epoch: 45 | Train Loss: 55.620, Train Time: 3.89 [sec] | Valid Loss: 131.775, Valid Time: 0.96 [sec]\n",
      "2022-09-06 16:55:39.541385 | Epoch: 46 | Train Loss: 56.189, Train Time: 3.89 [sec] | Valid Loss: 120.306, Valid Time: 0.96 [sec]\n",
      "2022-09-06 16:55:44.564279 | Epoch: 47 | Train Loss: 54.335, Train Time: 4.07 [sec] | Valid Loss: 118.103, Valid Time: 0.96 [sec]\n",
      "2022-09-06 16:55:49.418772 | Epoch: 48 | Train Loss: 53.904, Train Time: 3.89 [sec] | Valid Loss: 118.761, Valid Time: 0.96 [sec]\n",
      "2022-09-06 16:55:54.265094 | Epoch: 49 | Train Loss: 54.712, Train Time: 3.89 [sec] | Valid Loss: 148.094, Valid Time: 0.96 [sec]\n",
      "2022-09-06 16:55:59.119473 | Epoch: 50 | Train Loss: 54.072, Train Time: 3.89 [sec] | Valid Loss: 127.969, Valid Time: 0.96 [sec]\n",
      "2022-09-06 16:56:04.150336 | Epoch: 51 | Train Loss: 56.391, Train Time: 4.07 [sec] | Valid Loss: 118.466, Valid Time: 0.96 [sec]\n",
      "2022-09-06 16:56:08.996477 | Epoch: 52 | Train Loss: 54.193, Train Time: 3.89 [sec] | Valid Loss: 144.416, Valid Time: 0.96 [sec]\n",
      "2022-09-06 16:56:13.848011 | Epoch: 53 | Train Loss: 56.729, Train Time: 3.89 [sec] | Valid Loss: 130.074, Valid Time: 0.96 [sec]\n",
      "2022-09-06 16:56:18.704343 | Epoch: 54 | Train Loss: 54.857, Train Time: 3.89 [sec] | Valid Loss: 135.024, Valid Time: 0.96 [sec]\n",
      "2022-09-06 16:56:23.738413 | Epoch: 55 | Train Loss: 53.949, Train Time: 3.90 [sec] | Valid Loss: 131.537, Valid Time: 1.14 [sec]\n",
      "2022-09-06 16:56:28.599747 | Epoch: 56 | Train Loss: 54.476, Train Time: 3.90 [sec] | Valid Loss: 140.177, Valid Time: 0.96 [sec]\n",
      "2022-09-06 16:56:33.452264 | Epoch: 57 | Train Loss: 53.564, Train Time: 3.89 [sec] | Valid Loss: 112.761, Valid Time: 0.96 [sec]\n",
      "2022-09-06 16:56:38.306088 | Epoch: 58 | Train Loss: 51.520, Train Time: 3.89 [sec] | Valid Loss: 126.489, Valid Time: 0.96 [sec]\n",
      "2022-09-06 16:56:43.162646 | Epoch: 59 | Train Loss: 51.375, Train Time: 3.90 [sec] | Valid Loss: 134.577, Valid Time: 0.96 [sec]\n",
      "2022-09-06 16:56:48.188712 | Epoch: 60 | Train Loss: 52.309, Train Time: 4.06 [sec] | Valid Loss: 111.738, Valid Time: 0.96 [sec]\n",
      "2022-09-06 16:56:53.032706 | Epoch: 61 | Train Loss: 51.909, Train Time: 3.89 [sec] | Valid Loss: 112.772, Valid Time: 0.96 [sec]\n",
      "2022-09-06 16:56:57.880803 | Epoch: 62 | Train Loss: 51.413, Train Time: 3.89 [sec] | Valid Loss: 111.666, Valid Time: 0.96 [sec]\n",
      "2022-09-06 16:57:02.733269 | Epoch: 63 | Train Loss: 50.973, Train Time: 3.89 [sec] | Valid Loss: 113.946, Valid Time: 0.96 [sec]\n",
      "2022-09-06 16:57:07.762150 | Epoch: 64 | Train Loss: 51.018, Train Time: 4.07 [sec] | Valid Loss: 118.982, Valid Time: 0.96 [sec]\n",
      "2022-09-06 16:57:12.620384 | Epoch: 65 | Train Loss: 49.725, Train Time: 3.90 [sec] | Valid Loss: 120.050, Valid Time: 0.96 [sec]\n",
      "2022-09-06 16:57:17.473358 | Epoch: 66 | Train Loss: 51.439, Train Time: 3.89 [sec] | Valid Loss: 143.666, Valid Time: 0.96 [sec]\n",
      "2022-09-06 16:57:22.332625 | Epoch: 67 | Train Loss: 50.548, Train Time: 3.90 [sec] | Valid Loss: 117.382, Valid Time: 0.96 [sec]\n",
      "2022-09-06 16:57:27.184430 | Epoch: 68 | Train Loss: 49.077, Train Time: 3.89 [sec] | Valid Loss: 122.700, Valid Time: 0.96 [sec]\n",
      "2022-09-06 16:57:32.211071 | Epoch: 69 | Train Loss: 50.392, Train Time: 4.07 [sec] | Valid Loss: 119.856, Valid Time: 0.96 [sec]\n",
      "2022-09-06 16:57:37.066431 | Epoch: 70 | Train Loss: 49.636, Train Time: 3.90 [sec] | Valid Loss: 138.495, Valid Time: 0.96 [sec]\n",
      "2022-09-06 16:57:41.918327 | Epoch: 71 | Train Loss: 49.575, Train Time: 3.89 [sec] | Valid Loss: 147.477, Valid Time: 0.96 [sec]\n",
      "2022-09-06 16:57:46.766964 | Epoch: 72 | Train Loss: 50.193, Train Time: 3.89 [sec] | Valid Loss: 182.156, Valid Time: 0.96 [sec]\n",
      "2022-09-06 16:57:51.795390 | Epoch: 73 | Train Loss: 51.717, Train Time: 4.07 [sec] | Valid Loss: 147.509, Valid Time: 0.96 [sec]\n",
      "2022-09-06 16:57:56.646417 | Epoch: 74 | Train Loss: 50.477, Train Time: 3.89 [sec] | Valid Loss: 122.111, Valid Time: 0.96 [sec]\n",
      "2022-09-06 16:58:01.498893 | Epoch: 75 | Train Loss: 48.945, Train Time: 3.89 [sec] | Valid Loss: 127.997, Valid Time: 0.96 [sec]\n",
      "2022-09-06 16:58:06.352701 | Epoch: 76 | Train Loss: 48.817, Train Time: 3.89 [sec] | Valid Loss: 133.092, Valid Time: 0.96 [sec]\n",
      "2022-09-06 16:58:11.388678 | Epoch: 77 | Train Loss: 49.786, Train Time: 3.89 [sec] | Valid Loss: 112.185, Valid Time: 1.14 [sec]\n",
      "2022-09-06 16:58:16.242795 | Epoch: 78 | Train Loss: 48.127, Train Time: 3.89 [sec] | Valid Loss: 129.834, Valid Time: 0.96 [sec]\n",
      "2022-09-06 16:58:21.097483 | Epoch: 79 | Train Loss: 47.593, Train Time: 3.89 [sec] | Valid Loss: 117.883, Valid Time: 0.96 [sec]\n",
      "2022-09-06 16:58:25.953427 | Epoch: 80 | Train Loss: 49.375, Train Time: 3.89 [sec] | Valid Loss: 113.067, Valid Time: 0.96 [sec]\n",
      "2022-09-06 16:58:30.809029 | Epoch: 81 | Train Loss: 50.112, Train Time: 3.89 [sec] | Valid Loss: 137.635, Valid Time: 0.96 [sec]\n",
      "2022-09-06 16:58:35.837365 | Epoch: 82 | Train Loss: 47.800, Train Time: 4.07 [sec] | Valid Loss: 114.740, Valid Time: 0.96 [sec]\n",
      "2022-09-06 16:58:40.686661 | Epoch: 83 | Train Loss: 47.704, Train Time: 3.89 [sec] | Valid Loss: 108.131, Valid Time: 0.96 [sec]\n",
      "2022-09-06 16:58:45.541756 | Epoch: 84 | Train Loss: 47.307, Train Time: 3.89 [sec] | Valid Loss: 133.642, Valid Time: 0.96 [sec]\n",
      "2022-09-06 16:58:50.395213 | Epoch: 85 | Train Loss: 47.351, Train Time: 3.89 [sec] | Valid Loss: 132.988, Valid Time: 0.96 [sec]\n",
      "2022-09-06 16:58:55.428554 | Epoch: 86 | Train Loss: 47.344, Train Time: 4.07 [sec] | Valid Loss: 118.311, Valid Time: 0.96 [sec]\n",
      "2022-09-06 16:59:00.284364 | Epoch: 87 | Train Loss: 46.334, Train Time: 3.89 [sec] | Valid Loss: 130.390, Valid Time: 0.96 [sec]\n",
      "2022-09-06 16:59:05.138907 | Epoch: 88 | Train Loss: 46.261, Train Time: 3.89 [sec] | Valid Loss: 143.523, Valid Time: 0.96 [sec]\n",
      "2022-09-06 16:59:09.993866 | Epoch: 89 | Train Loss: 47.816, Train Time: 3.90 [sec] | Valid Loss: 120.634, Valid Time: 0.96 [sec]\n",
      "2022-09-06 16:59:14.853306 | Epoch: 90 | Train Loss: 46.277, Train Time: 3.90 [sec] | Valid Loss: 122.610, Valid Time: 0.96 [sec]\n",
      "2022-09-06 16:59:19.881759 | Epoch: 91 | Train Loss: 45.885, Train Time: 4.07 [sec] | Valid Loss: 109.160, Valid Time: 0.96 [sec]\n",
      "2022-09-06 16:59:24.730905 | Epoch: 92 | Train Loss: 45.594, Train Time: 3.89 [sec] | Valid Loss: 152.116, Valid Time: 0.96 [sec]\n",
      "2022-09-06 16:59:29.578281 | Epoch: 93 | Train Loss: 45.951, Train Time: 3.89 [sec] | Valid Loss: 114.642, Valid Time: 0.96 [sec]\n",
      "2022-09-06 16:59:34.435464 | Epoch: 94 | Train Loss: 47.626, Train Time: 3.90 [sec] | Valid Loss: 118.195, Valid Time: 0.96 [sec]\n",
      "2022-09-06 16:59:39.463285 | Epoch: 95 | Train Loss: 47.790, Train Time: 4.07 [sec] | Valid Loss: 124.900, Valid Time: 0.96 [sec]\n",
      "2022-09-06 16:59:44.309743 | Epoch: 96 | Train Loss: 46.243, Train Time: 3.89 [sec] | Valid Loss: 119.954, Valid Time: 0.96 [sec]\n",
      "2022-09-06 16:59:49.164003 | Epoch: 97 | Train Loss: 45.178, Train Time: 3.89 [sec] | Valid Loss: 112.997, Valid Time: 0.96 [sec]\n",
      "2022-09-06 16:59:54.012764 | Epoch: 98 | Train Loss: 43.691, Train Time: 3.89 [sec] | Valid Loss: 113.108, Valid Time: 0.96 [sec]\n",
      "2022-09-06 16:59:59.038467 | Epoch: 99 | Train Loss: 46.411, Train Time: 3.89 [sec] | Valid Loss: 116.018, Valid Time: 1.14 [sec]\n",
      "2022-09-06 17:00:03.888999 | Epoch: 100 | Train Loss: 45.327, Train Time: 3.89 [sec] | Valid Loss: 148.947, Valid Time: 0.96 [sec]\n",
      "============================== (LSTM layers = 3) best loss: 108.131 ==============================\n",
      "============================== LSTM layers: 4 ==============================\n",
      "2022-09-06 17:00:10.005762 | Epoch: 1 | Train Loss: 857.038, Train Time: 4.99 [sec] | Valid Loss: 805.439, Valid Time: 1.07 [sec]\n",
      "2022-09-06 17:00:16.060236 | Epoch: 2 | Train Loss: 676.434, Train Time: 4.99 [sec] | Valid Loss: 645.427, Valid Time: 1.06 [sec]\n",
      "2022-09-06 17:00:22.139494 | Epoch: 3 | Train Loss: 473.634, Train Time: 5.01 [sec] | Valid Loss: 401.905, Valid Time: 1.07 [sec]\n",
      "2022-09-06 17:00:28.393735 | Epoch: 4 | Train Loss: 291.737, Train Time: 5.19 [sec] | Valid Loss: 281.469, Valid Time: 1.06 [sec]\n",
      "2022-09-06 17:00:34.481662 | Epoch: 5 | Train Loss: 214.126, Train Time: 5.02 [sec] | Valid Loss: 217.439, Valid Time: 1.07 [sec]\n",
      "2022-09-06 17:00:40.570059 | Epoch: 6 | Train Loss: 169.306, Train Time: 5.02 [sec] | Valid Loss: 174.423, Valid Time: 1.07 [sec]\n",
      "2022-09-06 17:00:46.664664 | Epoch: 7 | Train Loss: 137.293, Train Time: 5.03 [sec] | Valid Loss: 182.182, Valid Time: 1.07 [sec]\n",
      "2022-09-06 17:00:52.940281 | Epoch: 8 | Train Loss: 110.418, Train Time: 5.20 [sec] | Valid Loss: 161.252, Valid Time: 1.07 [sec]\n",
      "2022-09-06 17:00:59.033470 | Epoch: 9 | Train Loss: 96.170, Train Time: 5.02 [sec] | Valid Loss: 148.893, Valid Time: 1.07 [sec]\n",
      "2022-09-06 17:01:05.117710 | Epoch: 10 | Train Loss: 91.441, Train Time: 5.02 [sec] | Valid Loss: 146.650, Valid Time: 1.07 [sec]\n",
      "2022-09-06 17:01:11.208338 | Epoch: 11 | Train Loss: 83.623, Train Time: 5.02 [sec] | Valid Loss: 139.558, Valid Time: 1.07 [sec]\n",
      "2022-09-06 17:01:17.302634 | Epoch: 12 | Train Loss: 79.908, Train Time: 5.02 [sec] | Valid Loss: 163.809, Valid Time: 1.07 [sec]\n",
      "2022-09-06 17:01:23.578767 | Epoch: 13 | Train Loss: 79.745, Train Time: 5.21 [sec] | Valid Loss: 136.389, Valid Time: 1.07 [sec]\n",
      "2022-09-06 17:01:29.677133 | Epoch: 14 | Train Loss: 76.893, Train Time: 5.03 [sec] | Valid Loss: 177.249, Valid Time: 1.07 [sec]\n",
      "2022-09-06 17:01:35.772486 | Epoch: 15 | Train Loss: 75.999, Train Time: 5.03 [sec] | Valid Loss: 136.133, Valid Time: 1.07 [sec]\n",
      "2022-09-06 17:01:41.863701 | Epoch: 16 | Train Loss: 70.802, Train Time: 5.02 [sec] | Valid Loss: 130.351, Valid Time: 1.07 [sec]\n",
      "2022-09-06 17:01:48.129210 | Epoch: 17 | Train Loss: 73.377, Train Time: 5.19 [sec] | Valid Loss: 198.289, Valid Time: 1.07 [sec]\n",
      "2022-09-06 17:01:54.211080 | Epoch: 18 | Train Loss: 71.630, Train Time: 5.02 [sec] | Valid Loss: 137.410, Valid Time: 1.07 [sec]\n",
      "2022-09-06 17:02:00.296092 | Epoch: 19 | Train Loss: 69.631, Train Time: 5.02 [sec] | Valid Loss: 156.741, Valid Time: 1.06 [sec]\n",
      "2022-09-06 17:02:06.387324 | Epoch: 20 | Train Loss: 67.977, Train Time: 5.02 [sec] | Valid Loss: 146.056, Valid Time: 1.07 [sec]\n",
      "2022-09-06 17:02:12.666640 | Epoch: 21 | Train Loss: 68.507, Train Time: 5.03 [sec] | Valid Loss: 123.578, Valid Time: 1.25 [sec]\n",
      "2022-09-06 17:02:18.754385 | Epoch: 22 | Train Loss: 67.728, Train Time: 5.02 [sec] | Valid Loss: 125.508, Valid Time: 1.07 [sec]\n",
      "2022-09-06 17:02:24.849175 | Epoch: 23 | Train Loss: 64.441, Train Time: 5.02 [sec] | Valid Loss: 124.920, Valid Time: 1.08 [sec]\n",
      "2022-09-06 17:02:30.944721 | Epoch: 24 | Train Loss: 65.402, Train Time: 5.02 [sec] | Valid Loss: 146.245, Valid Time: 1.07 [sec]\n",
      "2022-09-06 17:02:37.044283 | Epoch: 25 | Train Loss: 64.794, Train Time: 5.03 [sec] | Valid Loss: 121.194, Valid Time: 1.07 [sec]\n",
      "2022-09-06 17:02:43.310495 | Epoch: 26 | Train Loss: 65.945, Train Time: 5.20 [sec] | Valid Loss: 132.667, Valid Time: 1.07 [sec]\n",
      "2022-09-06 17:02:49.398871 | Epoch: 27 | Train Loss: 66.343, Train Time: 5.02 [sec] | Valid Loss: 139.092, Valid Time: 1.07 [sec]\n",
      "2022-09-06 17:02:55.488941 | Epoch: 28 | Train Loss: 63.488, Train Time: 5.02 [sec] | Valid Loss: 120.857, Valid Time: 1.07 [sec]\n",
      "2022-09-06 17:03:01.583603 | Epoch: 29 | Train Loss: 59.622, Train Time: 5.03 [sec] | Valid Loss: 128.861, Valid Time: 1.07 [sec]\n",
      "2022-09-06 17:03:07.857036 | Epoch: 30 | Train Loss: 62.669, Train Time: 5.20 [sec] | Valid Loss: 134.474, Valid Time: 1.07 [sec]\n",
      "2022-09-06 17:03:13.952490 | Epoch: 31 | Train Loss: 58.166, Train Time: 5.02 [sec] | Valid Loss: 119.839, Valid Time: 1.07 [sec]\n",
      "2022-09-06 17:03:20.047696 | Epoch: 32 | Train Loss: 63.803, Train Time: 5.02 [sec] | Valid Loss: 140.080, Valid Time: 1.07 [sec]\n",
      "2022-09-06 17:03:26.146253 | Epoch: 33 | Train Loss: 60.511, Train Time: 5.03 [sec] | Valid Loss: 129.988, Valid Time: 1.07 [sec]\n",
      "2022-09-06 17:03:32.417154 | Epoch: 34 | Train Loss: 60.232, Train Time: 5.02 [sec] | Valid Loss: 118.126, Valid Time: 1.25 [sec]\n",
      "2022-09-06 17:03:38.509240 | Epoch: 35 | Train Loss: 58.980, Train Time: 5.02 [sec] | Valid Loss: 116.223, Valid Time: 1.07 [sec]\n",
      "2022-09-06 17:03:44.606798 | Epoch: 36 | Train Loss: 56.885, Train Time: 5.03 [sec] | Valid Loss: 118.123, Valid Time: 1.07 [sec]\n",
      "2022-09-06 17:03:50.695263 | Epoch: 37 | Train Loss: 58.457, Train Time: 5.02 [sec] | Valid Loss: 111.255, Valid Time: 1.07 [sec]\n",
      "2022-09-06 17:03:56.797894 | Epoch: 38 | Train Loss: 57.323, Train Time: 5.03 [sec] | Valid Loss: 147.905, Valid Time: 1.07 [sec]\n",
      "2022-09-06 17:04:03.062991 | Epoch: 39 | Train Loss: 56.989, Train Time: 5.19 [sec] | Valid Loss: 133.372, Valid Time: 1.07 [sec]\n",
      "2022-09-06 17:04:09.152613 | Epoch: 40 | Train Loss: 59.402, Train Time: 5.02 [sec] | Valid Loss: 118.708, Valid Time: 1.07 [sec]\n",
      "2022-09-06 17:04:15.240594 | Epoch: 41 | Train Loss: 58.903, Train Time: 5.02 [sec] | Valid Loss: 158.618, Valid Time: 1.07 [sec]\n",
      "2022-09-06 17:04:21.330242 | Epoch: 42 | Train Loss: 56.443, Train Time: 5.02 [sec] | Valid Loss: 125.577, Valid Time: 1.07 [sec]\n",
      "2022-09-06 17:04:27.593951 | Epoch: 43 | Train Loss: 58.584, Train Time: 5.19 [sec] | Valid Loss: 114.751, Valid Time: 1.07 [sec]\n",
      "2022-09-06 17:04:33.680148 | Epoch: 44 | Train Loss: 56.847, Train Time: 5.02 [sec] | Valid Loss: 143.032, Valid Time: 1.07 [sec]\n",
      "2022-09-06 17:04:39.771518 | Epoch: 45 | Train Loss: 55.503, Train Time: 5.02 [sec] | Valid Loss: 119.419, Valid Time: 1.07 [sec]\n",
      "2022-09-06 17:04:45.866436 | Epoch: 46 | Train Loss: 57.093, Train Time: 5.02 [sec] | Valid Loss: 120.864, Valid Time: 1.07 [sec]\n",
      "2022-09-06 17:04:51.960505 | Epoch: 47 | Train Loss: 54.542, Train Time: 5.02 [sec] | Valid Loss: 113.503, Valid Time: 1.07 [sec]\n",
      "2022-09-06 17:04:58.218359 | Epoch: 48 | Train Loss: 53.808, Train Time: 5.19 [sec] | Valid Loss: 114.957, Valid Time: 1.07 [sec]\n",
      "2022-09-06 17:05:04.302019 | Epoch: 49 | Train Loss: 54.512, Train Time: 5.01 [sec] | Valid Loss: 141.300, Valid Time: 1.07 [sec]\n",
      "2022-09-06 17:05:10.391110 | Epoch: 50 | Train Loss: 53.691, Train Time: 5.02 [sec] | Valid Loss: 123.655, Valid Time: 1.07 [sec]\n",
      "2022-09-06 17:05:16.480619 | Epoch: 51 | Train Loss: 56.443, Train Time: 5.02 [sec] | Valid Loss: 124.367, Valid Time: 1.07 [sec]\n",
      "2022-09-06 17:05:22.742745 | Epoch: 52 | Train Loss: 54.102, Train Time: 5.20 [sec] | Valid Loss: 131.677, Valid Time: 1.07 [sec]\n",
      "2022-09-06 17:05:28.828059 | Epoch: 53 | Train Loss: 56.385, Train Time: 5.02 [sec] | Valid Loss: 119.732, Valid Time: 1.07 [sec]\n",
      "2022-09-06 17:05:34.917301 | Epoch: 54 | Train Loss: 55.028, Train Time: 5.02 [sec] | Valid Loss: 123.131, Valid Time: 1.07 [sec]\n",
      "2022-09-06 17:05:41.002722 | Epoch: 55 | Train Loss: 53.729, Train Time: 5.02 [sec] | Valid Loss: 122.740, Valid Time: 1.07 [sec]\n",
      "2022-09-06 17:05:47.272629 | Epoch: 56 | Train Loss: 54.536, Train Time: 5.02 [sec] | Valid Loss: 131.676, Valid Time: 1.25 [sec]\n",
      "2022-09-06 17:05:53.353681 | Epoch: 57 | Train Loss: 53.674, Train Time: 5.01 [sec] | Valid Loss: 111.231, Valid Time: 1.07 [sec]\n",
      "2022-09-06 17:05:59.436821 | Epoch: 58 | Train Loss: 51.503, Train Time: 5.01 [sec] | Valid Loss: 119.437, Valid Time: 1.07 [sec]\n",
      "2022-09-06 17:06:05.522303 | Epoch: 59 | Train Loss: 51.408, Train Time: 5.02 [sec] | Valid Loss: 123.655, Valid Time: 1.07 [sec]\n",
      "2022-09-06 17:06:11.613058 | Epoch: 60 | Train Loss: 52.618, Train Time: 5.02 [sec] | Valid Loss: 109.546, Valid Time: 1.07 [sec]\n",
      "2022-09-06 17:06:17.875731 | Epoch: 61 | Train Loss: 51.651, Train Time: 5.19 [sec] | Valid Loss: 109.161, Valid Time: 1.07 [sec]\n",
      "2022-09-06 17:06:23.965205 | Epoch: 62 | Train Loss: 51.251, Train Time: 5.02 [sec] | Valid Loss: 110.789, Valid Time: 1.07 [sec]\n",
      "2022-09-06 17:06:30.053723 | Epoch: 63 | Train Loss: 50.742, Train Time: 5.02 [sec] | Valid Loss: 110.542, Valid Time: 1.07 [sec]\n",
      "2022-09-06 17:06:36.139708 | Epoch: 64 | Train Loss: 50.922, Train Time: 5.02 [sec] | Valid Loss: 115.310, Valid Time: 1.07 [sec]\n",
      "2022-09-06 17:06:42.399306 | Epoch: 65 | Train Loss: 49.656, Train Time: 5.19 [sec] | Valid Loss: 116.881, Valid Time: 1.07 [sec]\n",
      "2022-09-06 17:06:48.473886 | Epoch: 66 | Train Loss: 50.816, Train Time: 5.01 [sec] | Valid Loss: 135.574, Valid Time: 1.07 [sec]\n",
      "2022-09-06 17:06:54.552653 | Epoch: 67 | Train Loss: 50.308, Train Time: 5.01 [sec] | Valid Loss: 113.291, Valid Time: 1.07 [sec]\n",
      "2022-09-06 17:07:00.628681 | Epoch: 68 | Train Loss: 48.894, Train Time: 5.01 [sec] | Valid Loss: 117.767, Valid Time: 1.07 [sec]\n",
      "2022-09-06 17:07:06.716407 | Epoch: 69 | Train Loss: 50.105, Train Time: 5.02 [sec] | Valid Loss: 114.361, Valid Time: 1.07 [sec]\n",
      "2022-09-06 17:07:12.978037 | Epoch: 70 | Train Loss: 49.458, Train Time: 5.19 [sec] | Valid Loss: 134.957, Valid Time: 1.07 [sec]\n",
      "2022-09-06 17:07:19.063148 | Epoch: 71 | Train Loss: 48.541, Train Time: 5.02 [sec] | Valid Loss: 135.745, Valid Time: 1.07 [sec]\n",
      "2022-09-06 17:07:25.150540 | Epoch: 72 | Train Loss: 49.369, Train Time: 5.02 [sec] | Valid Loss: 154.150, Valid Time: 1.07 [sec]\n",
      "2022-09-06 17:07:31.237078 | Epoch: 73 | Train Loss: 50.666, Train Time: 5.02 [sec] | Valid Loss: 127.619, Valid Time: 1.07 [sec]\n",
      "2022-09-06 17:07:37.492389 | Epoch: 74 | Train Loss: 49.613, Train Time: 5.19 [sec] | Valid Loss: 107.976, Valid Time: 1.07 [sec]\n",
      "2022-09-06 17:07:43.577652 | Epoch: 75 | Train Loss: 48.452, Train Time: 5.02 [sec] | Valid Loss: 119.103, Valid Time: 1.07 [sec]\n",
      "2022-09-06 17:07:49.668338 | Epoch: 76 | Train Loss: 48.342, Train Time: 5.02 [sec] | Valid Loss: 119.811, Valid Time: 1.07 [sec]\n",
      "2022-09-06 17:07:55.758582 | Epoch: 77 | Train Loss: 49.613, Train Time: 5.02 [sec] | Valid Loss: 114.919, Valid Time: 1.07 [sec]\n",
      "2022-09-06 17:08:02.031461 | Epoch: 78 | Train Loss: 47.897, Train Time: 5.02 [sec] | Valid Loss: 126.558, Valid Time: 1.25 [sec]\n",
      "2022-09-06 17:08:08.123493 | Epoch: 79 | Train Loss: 47.034, Train Time: 5.02 [sec] | Valid Loss: 115.732, Valid Time: 1.07 [sec]\n",
      "2022-09-06 17:08:14.222911 | Epoch: 80 | Train Loss: 48.596, Train Time: 5.03 [sec] | Valid Loss: 109.170, Valid Time: 1.07 [sec]\n",
      "2022-09-06 17:08:20.316561 | Epoch: 81 | Train Loss: 49.305, Train Time: 5.03 [sec] | Valid Loss: 128.551, Valid Time: 1.07 [sec]\n",
      "2022-09-06 17:08:26.415658 | Epoch: 82 | Train Loss: 47.645, Train Time: 5.03 [sec] | Valid Loss: 112.385, Valid Time: 1.07 [sec]\n",
      "2022-09-06 17:08:32.680442 | Epoch: 83 | Train Loss: 47.244, Train Time: 5.20 [sec] | Valid Loss: 110.634, Valid Time: 1.07 [sec]\n",
      "2022-09-06 17:08:38.769073 | Epoch: 84 | Train Loss: 47.011, Train Time: 5.02 [sec] | Valid Loss: 121.831, Valid Time: 1.07 [sec]\n",
      "2022-09-06 17:08:44.857262 | Epoch: 85 | Train Loss: 46.865, Train Time: 5.02 [sec] | Valid Loss: 126.421, Valid Time: 1.07 [sec]\n",
      "2022-09-06 17:08:50.946634 | Epoch: 86 | Train Loss: 46.596, Train Time: 5.02 [sec] | Valid Loss: 112.328, Valid Time: 1.07 [sec]\n",
      "2022-09-06 17:08:57.218391 | Epoch: 87 | Train Loss: 45.425, Train Time: 5.20 [sec] | Valid Loss: 114.560, Valid Time: 1.07 [sec]\n",
      "2022-09-06 17:09:03.309261 | Epoch: 88 | Train Loss: 45.807, Train Time: 5.02 [sec] | Valid Loss: 129.270, Valid Time: 1.07 [sec]\n",
      "2022-09-06 17:09:09.400603 | Epoch: 89 | Train Loss: 47.161, Train Time: 5.03 [sec] | Valid Loss: 113.692, Valid Time: 1.06 [sec]\n",
      "2022-09-06 17:09:15.487236 | Epoch: 90 | Train Loss: 45.580, Train Time: 5.02 [sec] | Valid Loss: 120.663, Valid Time: 1.06 [sec]\n",
      "2022-09-06 17:09:21.582734 | Epoch: 91 | Train Loss: 45.146, Train Time: 5.03 [sec] | Valid Loss: 106.832, Valid Time: 1.07 [sec]\n",
      "2022-09-06 17:09:27.854703 | Epoch: 92 | Train Loss: 44.688, Train Time: 5.20 [sec] | Valid Loss: 135.916, Valid Time: 1.07 [sec]\n",
      "2022-09-06 17:09:33.942422 | Epoch: 93 | Train Loss: 45.621, Train Time: 5.02 [sec] | Valid Loss: 108.953, Valid Time: 1.07 [sec]\n",
      "2022-09-06 17:09:40.035520 | Epoch: 94 | Train Loss: 46.540, Train Time: 5.02 [sec] | Valid Loss: 120.551, Valid Time: 1.07 [sec]\n",
      "2022-09-06 17:09:46.133217 | Epoch: 95 | Train Loss: 46.658, Train Time: 5.02 [sec] | Valid Loss: 117.231, Valid Time: 1.07 [sec]\n",
      "2022-09-06 17:09:52.404399 | Epoch: 96 | Train Loss: 45.258, Train Time: 5.20 [sec] | Valid Loss: 116.177, Valid Time: 1.07 [sec]\n",
      "2022-09-06 17:09:58.492006 | Epoch: 97 | Train Loss: 44.143, Train Time: 5.02 [sec] | Valid Loss: 106.356, Valid Time: 1.07 [sec]\n",
      "2022-09-06 17:10:04.585066 | Epoch: 98 | Train Loss: 42.977, Train Time: 5.02 [sec] | Valid Loss: 107.970, Valid Time: 1.07 [sec]\n",
      "2022-09-06 17:10:10.680123 | Epoch: 99 | Train Loss: 45.540, Train Time: 5.03 [sec] | Valid Loss: 114.671, Valid Time: 1.07 [sec]\n",
      "2022-09-06 17:10:16.952238 | Epoch: 100 | Train Loss: 44.206, Train Time: 5.03 [sec] | Valid Loss: 134.007, Valid Time: 1.25 [sec]\n",
      "============================== (LSTM layers = 4) best loss: 106.356 ==============================\n"
     ]
    }
   ],
   "source": [
    "n_epochs = 100\n",
    "\n",
    "# model_name = 'EncDec'\n",
    "# log_path = f'./logs/{model_name}.log'\n",
    "model_name, log_path = None, None\n",
    "\n",
    "lstm_layers_list = range(2,4+1)\n",
    "\n",
    "trainer_list = []\n",
    "for lstm_layers in lstm_layers_list:\n",
    "    print('='*30, f'LSTM layers: {lstm_layers}', '='*30)\n",
    "    TRAFFIC_LSTM_LAYERS = SEARCH_LSTM_LAYERS = lstm_layers\n",
    "    \n",
    "    model = AttentionEncoderDecoder().to(device)\n",
    "    trainer = train(n_epochs, model, model_name, log_path)\n",
    "    \n",
    "    print('='*30, f'(LSTM layers = {lstm_layers}) best loss: {min(trainer.val_losses):.3f}', '='*30)\n",
    "    trainer_list.append(trainer)"
   ]
  },
  {
   "cell_type": "code",
   "execution_count": 117,
   "id": "53095a77-9500-42ca-8e1c-cfbefa8f4137",
   "metadata": {},
   "outputs": [
    {
     "data": {
      "text/plain": [
       "[108.69652593703498, 108.1311267671131, 106.35618772960845]"
      ]
     },
     "execution_count": 117,
     "metadata": {},
     "output_type": "execute_result"
    }
   ],
   "source": [
    "[min(trainer.val_losses) for trainer in trainer_list]"
   ]
  },
  {
   "cell_type": "code",
   "execution_count": 39,
   "id": "fab3e372-219a-45e6-807f-802404cf8c5e",
   "metadata": {},
   "outputs": [],
   "source": [
    "batch_size = config.BATCH_SIZE\n",
    "\n",
    "g = torch.Generator()\n",
    "g.manual_seed(config.RANDOM_SEED)\n",
    "\n",
    "train_loader = torch.utils.data.DataLoader(dataset_train, batch_size=batch_size, shuffle=True, worker_init_fn=seed_worker, generator=g)\n",
    "val_loader = torch.utils.data.DataLoader(dataset_valid, batch_size=batch_size, shuffle=False)"
   ]
  },
  {
   "cell_type": "code",
   "execution_count": 40,
   "id": "4a1bec0a-9a5e-4020-b722-f6c7592955a1",
   "metadata": {
    "tags": []
   },
   "outputs": [],
   "source": [
    "# hyper parameters\n",
    "n_epochs = 100\n",
    "\n",
    "# path\n",
    "model_name = 'AttnEncDec'\n",
    "log_path = f'./logs/{model_name}.log'\n",
    "# model_name, log_path = None, None\n",
    "\n",
    "# model\n",
    "model = AttentionEncoderDecoder().to(device)\n",
    "optimizer = optim.Adam(model.parameters())\n",
    "loss_fn = nn.L1Loss()\n",
    "\n",
    "logger = Logger(fname=log_path)\n",
    "trainer = Trainer(model, optimizer, loss_fn, device=device, logger=logger, model_name=model_name)"
   ]
  },
  {
   "cell_type": "code",
   "execution_count": 41,
   "id": "334eaf5c-6f2f-421a-8916-d94e344d16d7",
   "metadata": {
    "tags": []
   },
   "outputs": [
    {
     "name": "stdout",
     "output_type": "stream",
     "text": [
      "2022-09-06 05:45:41.016648 | Epoch: 1 | Train Loss: 858.906, Train Time: 2.67 [sec] | Valid Loss: 797.499, Valid Time: 0.74 [sec]\n",
      "2022-09-06 05:45:44.530197 | Epoch: 2 | Train Loss: 686.263, Train Time: 2.76 [sec] | Valid Loss: 683.215, Valid Time: 0.74 [sec]\n",
      "2022-09-06 05:45:47.945949 | Epoch: 3 | Train Loss: 597.385, Train Time: 2.67 [sec] | Valid Loss: 560.065, Valid Time: 0.74 [sec]\n",
      "2022-09-06 05:45:51.381086 | Epoch: 4 | Train Loss: 495.646, Train Time: 2.68 [sec] | Valid Loss: 492.113, Valid Time: 0.74 [sec]\n",
      "2022-09-06 05:45:54.820676 | Epoch: 5 | Train Loss: 408.136, Train Time: 2.69 [sec] | Valid Loss: 357.224, Valid Time: 0.74 [sec]\n",
      "2022-09-06 05:45:58.366901 | Epoch: 6 | Train Loss: 233.409, Train Time: 2.79 [sec] | Valid Loss: 283.149, Valid Time: 0.74 [sec]\n",
      "2022-09-06 05:46:01.834016 | Epoch: 7 | Train Loss: 161.463, Train Time: 2.71 [sec] | Valid Loss: 232.586, Valid Time: 0.74 [sec]\n",
      "2022-09-06 05:46:05.301083 | Epoch: 8 | Train Loss: 126.104, Train Time: 2.71 [sec] | Valid Loss: 193.621, Valid Time: 0.74 [sec]\n",
      "2022-09-06 05:46:08.869531 | Epoch: 9 | Train Loss: 106.054, Train Time: 2.82 [sec] | Valid Loss: 172.134, Valid Time: 0.74 [sec]\n",
      "2022-09-06 05:46:12.352710 | Epoch: 10 | Train Loss: 93.115, Train Time: 2.73 [sec] | Valid Loss: 180.488, Valid Time: 0.74 [sec]\n",
      "2022-09-06 05:46:15.822142 | Epoch: 11 | Train Loss: 86.127, Train Time: 2.73 [sec] | Valid Loss: 154.464, Valid Time: 0.74 [sec]\n",
      "2022-09-06 05:46:19.315176 | Epoch: 12 | Train Loss: 80.371, Train Time: 2.74 [sec] | Valid Loss: 151.707, Valid Time: 0.74 [sec]\n",
      "2022-09-06 05:46:22.901250 | Epoch: 13 | Train Loss: 76.906, Train Time: 2.83 [sec] | Valid Loss: 181.403, Valid Time: 0.74 [sec]\n",
      "2022-09-06 05:46:26.373351 | Epoch: 14 | Train Loss: 74.009, Train Time: 2.73 [sec] | Valid Loss: 150.510, Valid Time: 0.74 [sec]\n",
      "2022-09-06 05:46:29.872032 | Epoch: 15 | Train Loss: 71.838, Train Time: 2.74 [sec] | Valid Loss: 139.937, Valid Time: 0.74 [sec]\n",
      "2022-09-06 05:46:33.462569 | Epoch: 16 | Train Loss: 70.254, Train Time: 2.84 [sec] | Valid Loss: 200.118, Valid Time: 0.74 [sec]\n",
      "2022-09-06 05:46:36.938793 | Epoch: 17 | Train Loss: 68.174, Train Time: 2.73 [sec] | Valid Loss: 157.265, Valid Time: 0.74 [sec]\n",
      "2022-09-06 05:46:40.422403 | Epoch: 18 | Train Loss: 67.042, Train Time: 2.74 [sec] | Valid Loss: 132.076, Valid Time: 0.74 [sec]\n",
      "2022-09-06 05:46:44.010944 | Epoch: 19 | Train Loss: 65.627, Train Time: 2.83 [sec] | Valid Loss: 144.712, Valid Time: 0.74 [sec]\n",
      "2022-09-06 05:46:47.468695 | Epoch: 20 | Train Loss: 64.228, Train Time: 2.72 [sec] | Valid Loss: 148.080, Valid Time: 0.74 [sec]\n",
      "2022-09-06 05:46:50.929513 | Epoch: 21 | Train Loss: 64.077, Train Time: 2.72 [sec] | Valid Loss: 139.241, Valid Time: 0.74 [sec]\n",
      "2022-09-06 05:46:54.421987 | Epoch: 22 | Train Loss: 62.753, Train Time: 2.75 [sec] | Valid Loss: 151.813, Valid Time: 0.74 [sec]\n",
      "2022-09-06 05:46:57.916244 | Epoch: 23 | Train Loss: 62.258, Train Time: 2.75 [sec] | Valid Loss: 147.653, Valid Time: 0.74 [sec]\n",
      "2022-09-06 05:47:01.520212 | Epoch: 24 | Train Loss: 61.335, Train Time: 2.85 [sec] | Valid Loss: 149.188, Valid Time: 0.75 [sec]\n",
      "2022-09-06 05:47:05.022025 | Epoch: 25 | Train Loss: 60.661, Train Time: 2.76 [sec] | Valid Loss: 175.410, Valid Time: 0.74 [sec]\n",
      "2022-09-06 05:47:08.634146 | Epoch: 26 | Train Loss: 60.111, Train Time: 2.77 [sec] | Valid Loss: 140.765, Valid Time: 0.84 [sec]\n",
      "2022-09-06 05:47:12.138727 | Epoch: 27 | Train Loss: 59.339, Train Time: 2.76 [sec] | Valid Loss: 148.109, Valid Time: 0.75 [sec]\n",
      "2022-09-06 05:47:15.653194 | Epoch: 28 | Train Loss: 59.791, Train Time: 2.77 [sec] | Valid Loss: 138.083, Valid Time: 0.74 [sec]\n",
      "2022-09-06 05:47:19.269744 | Epoch: 29 | Train Loss: 59.386, Train Time: 2.87 [sec] | Valid Loss: 143.543, Valid Time: 0.74 [sec]\n",
      "2022-09-06 05:47:22.793542 | Epoch: 30 | Train Loss: 58.229, Train Time: 2.78 [sec] | Valid Loss: 138.422, Valid Time: 0.75 [sec]\n",
      "2022-09-06 05:47:26.394156 | Epoch: 31 | Train Loss: 57.774, Train Time: 2.76 [sec] | Valid Loss: 140.477, Valid Time: 0.84 [sec]\n",
      "2022-09-06 05:47:29.903105 | Epoch: 32 | Train Loss: 57.183, Train Time: 2.76 [sec] | Valid Loss: 124.533, Valid Time: 0.75 [sec]\n",
      "2022-09-06 05:47:33.417630 | Epoch: 33 | Train Loss: 56.880, Train Time: 2.75 [sec] | Valid Loss: 122.878, Valid Time: 0.75 [sec]\n",
      "2022-09-06 05:47:37.046301 | Epoch: 34 | Train Loss: 56.913, Train Time: 2.87 [sec] | Valid Loss: 125.364, Valid Time: 0.74 [sec]\n",
      "2022-09-06 05:47:40.549421 | Epoch: 35 | Train Loss: 56.453, Train Time: 2.76 [sec] | Valid Loss: 125.336, Valid Time: 0.74 [sec]\n",
      "2022-09-06 05:47:44.172104 | Epoch: 36 | Train Loss: 55.894, Train Time: 2.78 [sec] | Valid Loss: 132.766, Valid Time: 0.85 [sec]\n",
      "2022-09-06 05:47:47.694792 | Epoch: 37 | Train Loss: 55.699, Train Time: 2.77 [sec] | Valid Loss: 137.172, Valid Time: 0.75 [sec]\n",
      "2022-09-06 05:47:51.221978 | Epoch: 38 | Train Loss: 55.097, Train Time: 2.78 [sec] | Valid Loss: 122.675, Valid Time: 0.74 [sec]\n",
      "2022-09-06 05:47:54.862853 | Epoch: 39 | Train Loss: 54.538, Train Time: 2.78 [sec] | Valid Loss: 129.230, Valid Time: 0.85 [sec]\n",
      "2022-09-06 05:47:58.385441 | Epoch: 40 | Train Loss: 54.224, Train Time: 2.78 [sec] | Valid Loss: 127.114, Valid Time: 0.75 [sec]\n",
      "2022-09-06 05:48:01.922254 | Epoch: 41 | Train Loss: 54.371, Train Time: 2.79 [sec] | Valid Loss: 146.988, Valid Time: 0.75 [sec]\n",
      "2022-09-06 05:48:05.465805 | Epoch: 42 | Train Loss: 53.796, Train Time: 2.80 [sec] | Valid Loss: 128.271, Valid Time: 0.75 [sec]\n",
      "2022-09-06 05:48:09.006693 | Epoch: 43 | Train Loss: 53.489, Train Time: 2.79 [sec] | Valid Loss: 134.231, Valid Time: 0.75 [sec]\n",
      "2022-09-06 05:48:12.653332 | Epoch: 44 | Train Loss: 53.604, Train Time: 2.80 [sec] | Valid Loss: 126.446, Valid Time: 0.84 [sec]\n",
      "2022-09-06 05:48:16.200936 | Epoch: 45 | Train Loss: 53.253, Train Time: 2.80 [sec] | Valid Loss: 126.404, Valid Time: 0.75 [sec]\n",
      "2022-09-06 05:48:19.745727 | Epoch: 46 | Train Loss: 53.217, Train Time: 2.80 [sec] | Valid Loss: 143.366, Valid Time: 0.75 [sec]\n",
      "2022-09-06 05:48:23.271576 | Epoch: 47 | Train Loss: 52.706, Train Time: 2.78 [sec] | Valid Loss: 117.383, Valid Time: 0.75 [sec]\n",
      "2022-09-06 05:48:26.910233 | Epoch: 48 | Train Loss: 52.564, Train Time: 2.78 [sec] | Valid Loss: 133.354, Valid Time: 0.84 [sec]\n",
      "2022-09-06 05:48:30.441486 | Epoch: 49 | Train Loss: 52.458, Train Time: 2.78 [sec] | Valid Loss: 120.765, Valid Time: 0.75 [sec]\n",
      "2022-09-06 05:48:33.971718 | Epoch: 50 | Train Loss: 51.879, Train Time: 2.78 [sec] | Valid Loss: 125.311, Valid Time: 0.75 [sec]\n",
      "2022-09-06 05:48:37.598160 | Epoch: 51 | Train Loss: 51.784, Train Time: 2.88 [sec] | Valid Loss: 115.031, Valid Time: 0.75 [sec]\n",
      "2022-09-06 05:48:41.136993 | Epoch: 52 | Train Loss: 52.273, Train Time: 2.78 [sec] | Valid Loss: 116.331, Valid Time: 0.75 [sec]\n",
      "2022-09-06 05:48:44.665035 | Epoch: 53 | Train Loss: 51.189, Train Time: 2.78 [sec] | Valid Loss: 124.762, Valid Time: 0.75 [sec]\n",
      "2022-09-06 05:48:48.195056 | Epoch: 54 | Train Loss: 51.316, Train Time: 2.79 [sec] | Valid Loss: 120.141, Valid Time: 0.74 [sec]\n",
      "2022-09-06 05:48:51.832062 | Epoch: 55 | Train Loss: 50.794, Train Time: 2.79 [sec] | Valid Loss: 116.552, Valid Time: 0.85 [sec]\n",
      "2022-09-06 05:48:55.367071 | Epoch: 56 | Train Loss: 51.376, Train Time: 2.79 [sec] | Valid Loss: 119.780, Valid Time: 0.75 [sec]\n",
      "2022-09-06 05:48:58.903074 | Epoch: 57 | Train Loss: 50.091, Train Time: 2.79 [sec] | Valid Loss: 123.260, Valid Time: 0.75 [sec]\n",
      "2022-09-06 05:49:02.432602 | Epoch: 58 | Train Loss: 50.100, Train Time: 2.78 [sec] | Valid Loss: 123.266, Valid Time: 0.75 [sec]\n",
      "2022-09-06 05:49:05.966705 | Epoch: 59 | Train Loss: 50.365, Train Time: 2.79 [sec] | Valid Loss: 114.876, Valid Time: 0.74 [sec]\n",
      "2022-09-06 05:49:09.619213 | Epoch: 60 | Train Loss: 50.076, Train Time: 2.89 [sec] | Valid Loss: 118.603, Valid Time: 0.75 [sec]\n",
      "2022-09-06 05:49:13.158904 | Epoch: 61 | Train Loss: 49.533, Train Time: 2.79 [sec] | Valid Loss: 114.980, Valid Time: 0.75 [sec]\n",
      "2022-09-06 05:49:16.775001 | Epoch: 62 | Train Loss: 49.353, Train Time: 2.77 [sec] | Valid Loss: 125.672, Valid Time: 0.84 [sec]\n",
      "2022-09-06 05:49:20.295250 | Epoch: 63 | Train Loss: 49.341, Train Time: 2.77 [sec] | Valid Loss: 137.329, Valid Time: 0.75 [sec]\n",
      "2022-09-06 05:49:23.809519 | Epoch: 64 | Train Loss: 49.468, Train Time: 2.77 [sec] | Valid Loss: 128.021, Valid Time: 0.75 [sec]\n",
      "2022-09-06 05:49:27.423118 | Epoch: 65 | Train Loss: 49.358, Train Time: 2.87 [sec] | Valid Loss: 114.893, Valid Time: 0.75 [sec]\n",
      "2022-09-06 05:49:30.942185 | Epoch: 66 | Train Loss: 48.822, Train Time: 2.77 [sec] | Valid Loss: 122.401, Valid Time: 0.75 [sec]\n",
      "2022-09-06 05:49:34.570894 | Epoch: 67 | Train Loss: 48.672, Train Time: 2.79 [sec] | Valid Loss: 126.166, Valid Time: 0.84 [sec]\n",
      "2022-09-06 05:49:38.097623 | Epoch: 68 | Train Loss: 48.681, Train Time: 2.78 [sec] | Valid Loss: 115.256, Valid Time: 0.74 [sec]\n",
      "2022-09-06 05:49:41.626827 | Epoch: 69 | Train Loss: 48.281, Train Time: 2.78 [sec] | Valid Loss: 139.963, Valid Time: 0.75 [sec]\n",
      "2022-09-06 05:49:45.255492 | Epoch: 70 | Train Loss: 47.991, Train Time: 2.88 [sec] | Valid Loss: 114.394, Valid Time: 0.75 [sec]\n",
      "2022-09-06 05:49:48.791826 | Epoch: 71 | Train Loss: 48.317, Train Time: 2.78 [sec] | Valid Loss: 109.721, Valid Time: 0.75 [sec]\n",
      "2022-09-06 05:49:52.339945 | Epoch: 72 | Train Loss: 47.773, Train Time: 2.79 [sec] | Valid Loss: 148.659, Valid Time: 0.75 [sec]\n",
      "2022-09-06 05:49:55.871673 | Epoch: 73 | Train Loss: 47.938, Train Time: 2.79 [sec] | Valid Loss: 117.038, Valid Time: 0.75 [sec]\n",
      "2022-09-06 05:49:59.497340 | Epoch: 74 | Train Loss: 47.205, Train Time: 2.88 [sec] | Valid Loss: 122.912, Valid Time: 0.75 [sec]\n",
      "2022-09-06 05:50:03.032627 | Epoch: 75 | Train Loss: 47.037, Train Time: 2.79 [sec] | Valid Loss: 124.227, Valid Time: 0.75 [sec]\n",
      "2022-09-06 05:50:06.567445 | Epoch: 76 | Train Loss: 47.239, Train Time: 2.79 [sec] | Valid Loss: 117.563, Valid Time: 0.75 [sec]\n",
      "2022-09-06 05:50:10.093330 | Epoch: 77 | Train Loss: 47.578, Train Time: 2.78 [sec] | Valid Loss: 111.094, Valid Time: 0.75 [sec]\n",
      "2022-09-06 05:50:13.605307 | Epoch: 78 | Train Loss: 46.754, Train Time: 2.76 [sec] | Valid Loss: 110.315, Valid Time: 0.75 [sec]\n",
      "2022-09-06 05:50:17.210928 | Epoch: 79 | Train Loss: 46.766, Train Time: 2.86 [sec] | Valid Loss: 128.236, Valid Time: 0.74 [sec]\n",
      "2022-09-06 05:50:20.723741 | Epoch: 80 | Train Loss: 46.326, Train Time: 2.77 [sec] | Valid Loss: 110.160, Valid Time: 0.74 [sec]\n",
      "2022-09-06 05:50:24.244106 | Epoch: 81 | Train Loss: 46.485, Train Time: 2.78 [sec] | Valid Loss: 111.340, Valid Time: 0.74 [sec]\n",
      "2022-09-06 05:50:27.750445 | Epoch: 82 | Train Loss: 46.727, Train Time: 2.76 [sec] | Valid Loss: 111.778, Valid Time: 0.75 [sec]\n",
      "2022-09-06 05:50:31.263939 | Epoch: 83 | Train Loss: 46.626, Train Time: 2.77 [sec] | Valid Loss: 125.215, Valid Time: 0.75 [sec]\n",
      "2022-09-06 05:50:34.882960 | Epoch: 84 | Train Loss: 45.924, Train Time: 2.87 [sec] | Valid Loss: 123.154, Valid Time: 0.75 [sec]\n",
      "2022-09-06 05:50:38.402732 | Epoch: 85 | Train Loss: 45.758, Train Time: 2.77 [sec] | Valid Loss: 129.840, Valid Time: 0.75 [sec]\n",
      "2022-09-06 05:50:41.922103 | Epoch: 86 | Train Loss: 45.665, Train Time: 2.77 [sec] | Valid Loss: 111.337, Valid Time: 0.74 [sec]\n",
      "2022-09-06 05:50:45.452706 | Epoch: 87 | Train Loss: 46.301, Train Time: 2.78 [sec] | Valid Loss: 110.338, Valid Time: 0.75 [sec]\n",
      "2022-09-06 05:50:48.976366 | Epoch: 88 | Train Loss: 45.194, Train Time: 2.78 [sec] | Valid Loss: 112.819, Valid Time: 0.75 [sec]\n",
      "2022-09-06 05:50:52.604438 | Epoch: 89 | Train Loss: 45.235, Train Time: 2.88 [sec] | Valid Loss: 111.617, Valid Time: 0.75 [sec]\n",
      "2022-09-06 05:50:56.131683 | Epoch: 90 | Train Loss: 45.279, Train Time: 2.78 [sec] | Valid Loss: 115.311, Valid Time: 0.74 [sec]\n",
      "2022-09-06 05:50:59.663595 | Epoch: 91 | Train Loss: 45.167, Train Time: 2.78 [sec] | Valid Loss: 114.791, Valid Time: 0.75 [sec]\n",
      "2022-09-06 05:51:03.196905 | Epoch: 92 | Train Loss: 44.974, Train Time: 2.79 [sec] | Valid Loss: 119.369, Valid Time: 0.75 [sec]\n",
      "2022-09-06 05:51:06.700894 | Epoch: 93 | Train Loss: 44.561, Train Time: 2.76 [sec] | Valid Loss: 118.105, Valid Time: 0.74 [sec]\n",
      "2022-09-06 05:51:10.307681 | Epoch: 94 | Train Loss: 44.683, Train Time: 2.86 [sec] | Valid Loss: 115.834, Valid Time: 0.75 [sec]\n",
      "2022-09-06 05:51:13.820237 | Epoch: 95 | Train Loss: 44.795, Train Time: 2.77 [sec] | Valid Loss: 123.526, Valid Time: 0.75 [sec]\n",
      "2022-09-06 05:51:17.328978 | Epoch: 96 | Train Loss: 44.601, Train Time: 2.76 [sec] | Valid Loss: 116.008, Valid Time: 0.75 [sec]\n",
      "2022-09-06 05:51:20.846547 | Epoch: 97 | Train Loss: 44.684, Train Time: 2.77 [sec] | Valid Loss: 111.067, Valid Time: 0.75 [sec]\n",
      "2022-09-06 05:51:24.356163 | Epoch: 98 | Train Loss: 44.158, Train Time: 2.76 [sec] | Valid Loss: 119.828, Valid Time: 0.75 [sec]\n",
      "2022-09-06 05:51:27.970063 | Epoch: 99 | Train Loss: 44.308, Train Time: 2.87 [sec] | Valid Loss: 110.655, Valid Time: 0.74 [sec]\n",
      "2022-09-06 05:51:31.494062 | Epoch: 100 | Train Loss: 43.949, Train Time: 2.78 [sec] | Valid Loss: 113.117, Valid Time: 0.75 [sec]\n"
     ]
    }
   ],
   "source": [
    "train_losses, val_losses = \\\n",
    "    trainer.fit(train_loader, val_loader, n_epochs, log_steps=1)"
   ]
  },
  {
   "cell_type": "code",
   "execution_count": 42,
   "id": "e13fcaf5-9c86-4b04-8f67-f971b40e8055",
   "metadata": {},
   "outputs": [
    {
     "data": {
      "text/plain": [
       "109.7213757832845"
      ]
     },
     "execution_count": 42,
     "metadata": {},
     "output_type": "execute_result"
    }
   ],
   "source": [
    "min(trainer.val_losses)"
   ]
  },
  {
   "cell_type": "code",
   "execution_count": 36,
   "id": "fca1181b-4f25-4366-acd1-5ce41e8ff003",
   "metadata": {
    "collapsed": true,
    "jupyter": {
     "outputs_hidden": true
    },
    "tags": []
   },
   "outputs": [
    {
     "name": "stdout",
     "output_type": "stream",
     "text": [
      "2022-09-06 05:38:12.591943 | Epoch: 151 | Train Loss: 38.383, Train Time: 2.74 [sec] | Valid Loss: 141.686, Valid Time: 0.74 [sec]\n",
      "2022-09-06 05:38:16.127538 | Epoch: 152 | Train Loss: 38.119, Train Time: 2.70 [sec] | Valid Loss: 140.977, Valid Time: 0.84 [sec]\n",
      "2022-09-06 05:38:19.578716 | Epoch: 153 | Train Loss: 37.855, Train Time: 2.71 [sec] | Valid Loss: 118.873, Valid Time: 0.74 [sec]\n",
      "2022-09-06 05:38:23.038013 | Epoch: 154 | Train Loss: 38.487, Train Time: 2.72 [sec] | Valid Loss: 115.021, Valid Time: 0.74 [sec]\n",
      "2022-09-06 05:38:26.488933 | Epoch: 155 | Train Loss: 37.958, Train Time: 2.71 [sec] | Valid Loss: 129.245, Valid Time: 0.74 [sec]\n",
      "2022-09-06 05:38:29.949596 | Epoch: 156 | Train Loss: 37.677, Train Time: 2.72 [sec] | Valid Loss: 127.416, Valid Time: 0.74 [sec]\n",
      "2022-09-06 05:38:33.516280 | Epoch: 157 | Train Loss: 37.837, Train Time: 2.83 [sec] | Valid Loss: 135.666, Valid Time: 0.74 [sec]\n",
      "2022-09-06 05:38:36.992846 | Epoch: 158 | Train Loss: 37.496, Train Time: 2.74 [sec] | Valid Loss: 125.806, Valid Time: 0.74 [sec]\n",
      "2022-09-06 05:38:40.478280 | Epoch: 159 | Train Loss: 37.474, Train Time: 2.75 [sec] | Valid Loss: 125.610, Valid Time: 0.74 [sec]\n",
      "2022-09-06 05:38:43.969329 | Epoch: 160 | Train Loss: 37.335, Train Time: 2.75 [sec] | Valid Loss: 135.660, Valid Time: 0.74 [sec]\n",
      "2022-09-06 05:38:47.460034 | Epoch: 161 | Train Loss: 37.331, Train Time: 2.75 [sec] | Valid Loss: 122.206, Valid Time: 0.74 [sec]\n",
      "2022-09-06 05:38:51.062939 | Epoch: 162 | Train Loss: 37.498, Train Time: 2.86 [sec] | Valid Loss: 148.957, Valid Time: 0.74 [sec]\n",
      "2022-09-06 05:38:54.569855 | Epoch: 163 | Train Loss: 37.641, Train Time: 2.76 [sec] | Valid Loss: 119.825, Valid Time: 0.75 [sec]\n",
      "2022-09-06 05:38:58.070210 | Epoch: 164 | Train Loss: 37.011, Train Time: 2.76 [sec] | Valid Loss: 125.158, Valid Time: 0.74 [sec]\n",
      "2022-09-06 05:39:01.590347 | Epoch: 165 | Train Loss: 37.174, Train Time: 2.77 [sec] | Valid Loss: 128.320, Valid Time: 0.75 [sec]\n",
      "2022-09-06 05:39:05.106795 | Epoch: 166 | Train Loss: 36.699, Train Time: 2.77 [sec] | Valid Loss: 133.807, Valid Time: 0.75 [sec]\n",
      "2022-09-06 05:39:08.718752 | Epoch: 167 | Train Loss: 36.869, Train Time: 2.87 [sec] | Valid Loss: 142.305, Valid Time: 0.75 [sec]\n",
      "2022-09-06 05:39:12.236783 | Epoch: 168 | Train Loss: 37.361, Train Time: 2.77 [sec] | Valid Loss: 123.583, Valid Time: 0.75 [sec]\n",
      "2022-09-06 05:39:15.750136 | Epoch: 169 | Train Loss: 36.555, Train Time: 2.77 [sec] | Valid Loss: 128.501, Valid Time: 0.74 [sec]\n",
      "2022-09-06 05:39:19.282824 | Epoch: 170 | Train Loss: 36.644, Train Time: 2.79 [sec] | Valid Loss: 129.284, Valid Time: 0.75 [sec]\n",
      "2022-09-06 05:39:22.824201 | Epoch: 171 | Train Loss: 37.692, Train Time: 2.80 [sec] | Valid Loss: 135.342, Valid Time: 0.75 [sec]\n",
      "2022-09-06 05:39:26.457088 | Epoch: 172 | Train Loss: 36.441, Train Time: 2.89 [sec] | Valid Loss: 121.027, Valid Time: 0.75 [sec]\n",
      "2022-09-06 05:39:29.999212 | Epoch: 173 | Train Loss: 36.216, Train Time: 2.80 [sec] | Valid Loss: 128.585, Valid Time: 0.74 [sec]\n",
      "2022-09-06 05:39:33.536855 | Epoch: 174 | Train Loss: 36.296, Train Time: 2.79 [sec] | Valid Loss: 133.224, Valid Time: 0.74 [sec]\n",
      "2022-09-06 05:39:37.075210 | Epoch: 175 | Train Loss: 36.391, Train Time: 2.79 [sec] | Valid Loss: 124.763, Valid Time: 0.75 [sec]\n",
      "2022-09-06 05:39:40.613396 | Epoch: 176 | Train Loss: 36.061, Train Time: 2.79 [sec] | Valid Loss: 132.496, Valid Time: 0.75 [sec]\n",
      "2022-09-06 05:39:44.256259 | Epoch: 177 | Train Loss: 35.914, Train Time: 2.90 [sec] | Valid Loss: 124.124, Valid Time: 0.74 [sec]\n",
      "2022-09-06 05:39:47.790918 | Epoch: 178 | Train Loss: 36.173, Train Time: 2.79 [sec] | Valid Loss: 124.202, Valid Time: 0.75 [sec]\n",
      "2022-09-06 05:39:51.331780 | Epoch: 179 | Train Loss: 36.074, Train Time: 2.80 [sec] | Valid Loss: 129.192, Valid Time: 0.74 [sec]\n",
      "2022-09-06 05:39:54.882995 | Epoch: 180 | Train Loss: 36.018, Train Time: 2.80 [sec] | Valid Loss: 118.009, Valid Time: 0.75 [sec]\n",
      "2022-09-06 05:39:58.426237 | Epoch: 181 | Train Loss: 35.766, Train Time: 2.80 [sec] | Valid Loss: 124.315, Valid Time: 0.75 [sec]\n",
      "2022-09-06 05:40:02.058521 | Epoch: 182 | Train Loss: 35.532, Train Time: 2.89 [sec] | Valid Loss: 126.764, Valid Time: 0.75 [sec]\n",
      "2022-09-06 05:40:05.579421 | Epoch: 183 | Train Loss: 35.739, Train Time: 2.78 [sec] | Valid Loss: 125.902, Valid Time: 0.75 [sec]\n",
      "2022-09-06 05:40:09.094438 | Epoch: 184 | Train Loss: 36.076, Train Time: 2.77 [sec] | Valid Loss: 128.858, Valid Time: 0.74 [sec]\n",
      "2022-09-06 05:40:12.611946 | Epoch: 185 | Train Loss: 35.429, Train Time: 2.77 [sec] | Valid Loss: 123.758, Valid Time: 0.75 [sec]\n",
      "2022-09-06 05:40:16.132313 | Epoch: 186 | Train Loss: 35.317, Train Time: 2.78 [sec] | Valid Loss: 130.604, Valid Time: 0.74 [sec]\n",
      "2022-09-06 05:40:19.764662 | Epoch: 187 | Train Loss: 35.745, Train Time: 2.89 [sec] | Valid Loss: 120.259, Valid Time: 0.75 [sec]\n",
      "2022-09-06 05:40:23.285046 | Epoch: 188 | Train Loss: 34.986, Train Time: 2.78 [sec] | Valid Loss: 132.771, Valid Time: 0.74 [sec]\n",
      "2022-09-06 05:40:26.804219 | Epoch: 189 | Train Loss: 35.439, Train Time: 2.77 [sec] | Valid Loss: 130.881, Valid Time: 0.74 [sec]\n",
      "2022-09-06 05:40:30.322561 | Epoch: 190 | Train Loss: 35.202, Train Time: 2.77 [sec] | Valid Loss: 124.859, Valid Time: 0.74 [sec]\n",
      "2022-09-06 05:40:33.839168 | Epoch: 191 | Train Loss: 34.686, Train Time: 2.77 [sec] | Valid Loss: 120.248, Valid Time: 0.75 [sec]\n",
      "2022-09-06 05:40:37.459403 | Epoch: 192 | Train Loss: 35.044, Train Time: 2.87 [sec] | Valid Loss: 120.146, Valid Time: 0.75 [sec]\n",
      "2022-09-06 05:40:40.998802 | Epoch: 193 | Train Loss: 34.742, Train Time: 2.79 [sec] | Valid Loss: 131.312, Valid Time: 0.75 [sec]\n",
      "2022-09-06 05:40:44.523922 | Epoch: 194 | Train Loss: 34.878, Train Time: 2.78 [sec] | Valid Loss: 127.024, Valid Time: 0.74 [sec]\n",
      "2022-09-06 05:40:48.060316 | Epoch: 195 | Train Loss: 34.738, Train Time: 2.79 [sec] | Valid Loss: 123.092, Valid Time: 0.75 [sec]\n",
      "2022-09-06 05:40:51.590751 | Epoch: 196 | Train Loss: 34.707, Train Time: 2.78 [sec] | Valid Loss: 124.209, Valid Time: 0.75 [sec]\n",
      "2022-09-06 05:40:55.228368 | Epoch: 197 | Train Loss: 34.768, Train Time: 2.89 [sec] | Valid Loss: 124.093, Valid Time: 0.75 [sec]\n",
      "2022-09-06 05:40:58.756646 | Epoch: 198 | Train Loss: 34.395, Train Time: 2.78 [sec] | Valid Loss: 134.598, Valid Time: 0.74 [sec]\n",
      "2022-09-06 05:41:02.268238 | Epoch: 199 | Train Loss: 34.676, Train Time: 2.77 [sec] | Valid Loss: 128.536, Valid Time: 0.74 [sec]\n",
      "2022-09-06 05:41:05.770957 | Epoch: 200 | Train Loss: 34.620, Train Time: 2.76 [sec] | Valid Loss: 130.839, Valid Time: 0.75 [sec]\n"
     ]
    }
   ],
   "source": [
    "extra_epochs = 50\n",
    "\n",
    "train_losses, val_losses = \\\n",
    "    trainer.fit(train_loader, val_loader, extra_epochs, log_steps=1)"
   ]
  },
  {
   "cell_type": "markdown",
   "id": "7c733f3c-b51c-4525-ba65-c1aa2e189c8f",
   "metadata": {
    "tags": []
   },
   "source": [
    "### 検索無し"
   ]
  },
  {
   "cell_type": "code",
   "execution_count": 43,
   "id": "eaf5d0e5-c0a1-41e9-8df4-1930be82386d",
   "metadata": {},
   "outputs": [],
   "source": [
    "batch_size = config.BATCH_SIZE\n",
    "\n",
    "g = torch.Generator()\n",
    "g.manual_seed(config.RANDOM_SEED)\n",
    "\n",
    "train_loader = torch.utils.data.DataLoader(dataset_train, batch_size=batch_size, shuffle=True, worker_init_fn=seed_worker, generator=g)\n",
    "val_loader = torch.utils.data.DataLoader(dataset_valid, batch_size=batch_size, shuffle=False)"
   ]
  },
  {
   "cell_type": "code",
   "execution_count": 44,
   "id": "11299da6-a388-40f2-a802-e3f69faa81dc",
   "metadata": {},
   "outputs": [],
   "source": [
    "# hyper parameters\n",
    "n_epochs = 100\n",
    "\n",
    "# path\n",
    "model_name = 'without_search/AttnEncDec'\n",
    "log_path = f'./logs/{model_name}.log'\n",
    "# model_name, log_path = None, None\n",
    "\n",
    "# model\n",
    "model = AttentionEncoderDecoder(include_search=False).to(device)\n",
    "optimizer = optim.Adam(model.parameters())\n",
    "loss_fn = nn.L1Loss()\n",
    "\n",
    "logger = Logger(fname=log_path)\n",
    "trainer = Trainer(model, optimizer, loss_fn, device=device, logger=logger, model_name=model_name)"
   ]
  },
  {
   "cell_type": "code",
   "execution_count": 45,
   "id": "4d6fa357-24e0-454b-b800-c29c9cb619dd",
   "metadata": {
    "tags": []
   },
   "outputs": [
    {
     "name": "stdout",
     "output_type": "stream",
     "text": [
      "2022-09-06 05:51:59.343693 | Epoch: 1 | Train Loss: 913.133, Train Time: 2.44 [sec] | Valid Loss: 925.548, Valid Time: 0.78 [sec]\n",
      "2022-09-06 05:52:02.440274 | Epoch: 2 | Train Loss: 811.415, Train Time: 2.42 [sec] | Valid Loss: 795.944, Valid Time: 0.67 [sec]\n",
      "2022-09-06 05:52:05.536106 | Epoch: 3 | Train Loss: 707.808, Train Time: 2.42 [sec] | Valid Loss: 718.046, Valid Time: 0.67 [sec]\n",
      "2022-09-06 05:52:08.752169 | Epoch: 4 | Train Loss: 669.038, Train Time: 2.42 [sec] | Valid Loss: 693.570, Valid Time: 0.78 [sec]\n",
      "2022-09-06 05:52:11.853423 | Epoch: 5 | Train Loss: 595.923, Train Time: 2.43 [sec] | Valid Loss: 560.916, Valid Time: 0.67 [sec]\n",
      "2022-09-06 05:52:14.971909 | Epoch: 6 | Train Loss: 405.072, Train Time: 2.44 [sec] | Valid Loss: 418.222, Valid Time: 0.67 [sec]\n",
      "2022-09-06 05:52:18.096066 | Epoch: 7 | Train Loss: 265.286, Train Time: 2.45 [sec] | Valid Loss: 348.920, Valid Time: 0.67 [sec]\n",
      "2022-09-06 05:52:21.219485 | Epoch: 8 | Train Loss: 182.114, Train Time: 2.45 [sec] | Valid Loss: 238.025, Valid Time: 0.67 [sec]\n",
      "2022-09-06 05:52:24.344274 | Epoch: 9 | Train Loss: 138.047, Train Time: 2.45 [sec] | Valid Loss: 242.162, Valid Time: 0.67 [sec]\n",
      "2022-09-06 05:52:27.584711 | Epoch: 10 | Train Loss: 113.771, Train Time: 2.57 [sec] | Valid Loss: 192.248, Valid Time: 0.67 [sec]\n",
      "2022-09-06 05:52:30.723362 | Epoch: 11 | Train Loss: 97.639, Train Time: 2.46 [sec] | Valid Loss: 174.568, Valid Time: 0.67 [sec]\n",
      "2022-09-06 05:52:33.865932 | Epoch: 12 | Train Loss: 86.637, Train Time: 2.46 [sec] | Valid Loss: 161.359, Valid Time: 0.67 [sec]\n",
      "2022-09-06 05:52:37.112952 | Epoch: 13 | Train Loss: 79.837, Train Time: 2.57 [sec] | Valid Loss: 147.454, Valid Time: 0.67 [sec]\n",
      "2022-09-06 05:52:40.257417 | Epoch: 14 | Train Loss: 73.916, Train Time: 2.46 [sec] | Valid Loss: 140.660, Valid Time: 0.67 [sec]\n",
      "2022-09-06 05:52:43.405539 | Epoch: 15 | Train Loss: 70.554, Train Time: 2.47 [sec] | Valid Loss: 145.152, Valid Time: 0.67 [sec]\n",
      "2022-09-06 05:52:46.539451 | Epoch: 16 | Train Loss: 68.038, Train Time: 2.46 [sec] | Valid Loss: 139.488, Valid Time: 0.67 [sec]\n",
      "2022-09-06 05:52:49.694318 | Epoch: 17 | Train Loss: 65.847, Train Time: 2.47 [sec] | Valid Loss: 141.383, Valid Time: 0.67 [sec]\n",
      "2022-09-06 05:52:52.958886 | Epoch: 18 | Train Loss: 64.843, Train Time: 2.59 [sec] | Valid Loss: 147.911, Valid Time: 0.67 [sec]\n",
      "2022-09-06 05:52:56.107785 | Epoch: 19 | Train Loss: 63.004, Train Time: 2.48 [sec] | Valid Loss: 139.002, Valid Time: 0.67 [sec]\n",
      "2022-09-06 05:52:59.268501 | Epoch: 20 | Train Loss: 62.016, Train Time: 2.48 [sec] | Valid Loss: 146.466, Valid Time: 0.67 [sec]\n",
      "2022-09-06 05:53:02.537385 | Epoch: 21 | Train Loss: 61.415, Train Time: 2.48 [sec] | Valid Loss: 132.741, Valid Time: 0.79 [sec]\n",
      "2022-09-06 05:53:05.697008 | Epoch: 22 | Train Loss: 60.276, Train Time: 2.48 [sec] | Valid Loss: 128.027, Valid Time: 0.67 [sec]\n",
      "2022-09-06 05:53:08.862311 | Epoch: 23 | Train Loss: 60.033, Train Time: 2.48 [sec] | Valid Loss: 136.042, Valid Time: 0.67 [sec]\n",
      "2022-09-06 05:53:12.010548 | Epoch: 24 | Train Loss: 58.614, Train Time: 2.48 [sec] | Valid Loss: 148.216, Valid Time: 0.67 [sec]\n",
      "2022-09-06 05:53:15.165676 | Epoch: 25 | Train Loss: 58.271, Train Time: 2.48 [sec] | Valid Loss: 146.572, Valid Time: 0.67 [sec]\n",
      "2022-09-06 05:53:18.319318 | Epoch: 26 | Train Loss: 57.441, Train Time: 2.48 [sec] | Valid Loss: 129.644, Valid Time: 0.67 [sec]\n",
      "2022-09-06 05:53:21.590564 | Epoch: 27 | Train Loss: 56.991, Train Time: 2.60 [sec] | Valid Loss: 147.174, Valid Time: 0.68 [sec]\n",
      "2022-09-06 05:53:24.753734 | Epoch: 28 | Train Loss: 56.642, Train Time: 2.49 [sec] | Valid Loss: 124.153, Valid Time: 0.67 [sec]\n",
      "2022-09-06 05:53:27.926084 | Epoch: 29 | Train Loss: 56.078, Train Time: 2.49 [sec] | Valid Loss: 131.456, Valid Time: 0.67 [sec]\n",
      "2022-09-06 05:53:31.202757 | Epoch: 30 | Train Loss: 55.551, Train Time: 2.49 [sec] | Valid Loss: 124.346, Valid Time: 0.79 [sec]\n",
      "2022-09-06 05:53:34.362631 | Epoch: 31 | Train Loss: 55.787, Train Time: 2.49 [sec] | Valid Loss: 123.227, Valid Time: 0.67 [sec]\n",
      "2022-09-06 05:53:37.529835 | Epoch: 32 | Train Loss: 55.039, Train Time: 2.49 [sec] | Valid Loss: 143.141, Valid Time: 0.67 [sec]\n",
      "2022-09-06 05:53:40.682633 | Epoch: 33 | Train Loss: 54.026, Train Time: 2.48 [sec] | Valid Loss: 132.044, Valid Time: 0.67 [sec]\n",
      "2022-09-06 05:53:43.836473 | Epoch: 34 | Train Loss: 54.009, Train Time: 2.48 [sec] | Valid Loss: 124.252, Valid Time: 0.67 [sec]\n",
      "2022-09-06 05:53:47.116631 | Epoch: 35 | Train Loss: 53.788, Train Time: 2.61 [sec] | Valid Loss: 135.985, Valid Time: 0.67 [sec]\n",
      "2022-09-06 05:53:50.272334 | Epoch: 36 | Train Loss: 53.635, Train Time: 2.48 [sec] | Valid Loss: 127.340, Valid Time: 0.67 [sec]\n",
      "2022-09-06 05:53:53.425636 | Epoch: 37 | Train Loss: 52.837, Train Time: 2.48 [sec] | Valid Loss: 124.305, Valid Time: 0.67 [sec]\n",
      "2022-09-06 05:53:56.569068 | Epoch: 38 | Train Loss: 52.627, Train Time: 2.47 [sec] | Valid Loss: 160.131, Valid Time: 0.67 [sec]\n",
      "2022-09-06 05:53:59.715313 | Epoch: 39 | Train Loss: 52.740, Train Time: 2.47 [sec] | Valid Loss: 168.722, Valid Time: 0.67 [sec]\n",
      "2022-09-06 05:54:02.862325 | Epoch: 40 | Train Loss: 51.709, Train Time: 2.47 [sec] | Valid Loss: 127.613, Valid Time: 0.67 [sec]\n",
      "2022-09-06 05:54:06.127062 | Epoch: 41 | Train Loss: 52.187, Train Time: 2.59 [sec] | Valid Loss: 126.692, Valid Time: 0.67 [sec]\n",
      "2022-09-06 05:54:09.272605 | Epoch: 42 | Train Loss: 52.212, Train Time: 2.47 [sec] | Valid Loss: 131.586, Valid Time: 0.67 [sec]\n",
      "2022-09-06 05:54:12.422371 | Epoch: 43 | Train Loss: 51.486, Train Time: 2.48 [sec] | Valid Loss: 118.537, Valid Time: 0.67 [sec]\n",
      "2022-09-06 05:54:15.581352 | Epoch: 44 | Train Loss: 51.268, Train Time: 2.48 [sec] | Valid Loss: 124.373, Valid Time: 0.67 [sec]\n",
      "2022-09-06 05:54:18.841149 | Epoch: 45 | Train Loss: 50.343, Train Time: 2.59 [sec] | Valid Loss: 135.675, Valid Time: 0.67 [sec]\n",
      "2022-09-06 05:54:21.985568 | Epoch: 46 | Train Loss: 50.613, Train Time: 2.47 [sec] | Valid Loss: 118.156, Valid Time: 0.67 [sec]\n",
      "2022-09-06 05:54:25.140187 | Epoch: 47 | Train Loss: 49.900, Train Time: 2.47 [sec] | Valid Loss: 125.523, Valid Time: 0.67 [sec]\n",
      "2022-09-06 05:54:28.288701 | Epoch: 48 | Train Loss: 49.662, Train Time: 2.48 [sec] | Valid Loss: 128.401, Valid Time: 0.67 [sec]\n",
      "2022-09-06 05:54:31.555572 | Epoch: 49 | Train Loss: 49.489, Train Time: 2.59 [sec] | Valid Loss: 132.527, Valid Time: 0.67 [sec]\n",
      "2022-09-06 05:54:34.702933 | Epoch: 50 | Train Loss: 49.408, Train Time: 2.48 [sec] | Valid Loss: 127.945, Valid Time: 0.67 [sec]\n",
      "2022-09-06 05:54:37.852419 | Epoch: 51 | Train Loss: 48.956, Train Time: 2.48 [sec] | Valid Loss: 120.688, Valid Time: 0.67 [sec]\n",
      "2022-09-06 05:54:41.002463 | Epoch: 52 | Train Loss: 48.572, Train Time: 2.48 [sec] | Valid Loss: 131.112, Valid Time: 0.67 [sec]\n",
      "2022-09-06 05:54:44.155206 | Epoch: 53 | Train Loss: 48.775, Train Time: 2.48 [sec] | Valid Loss: 129.601, Valid Time: 0.67 [sec]\n",
      "2022-09-06 05:54:47.412964 | Epoch: 54 | Train Loss: 48.557, Train Time: 2.58 [sec] | Valid Loss: 121.962, Valid Time: 0.67 [sec]\n",
      "2022-09-06 05:54:50.553883 | Epoch: 55 | Train Loss: 47.863, Train Time: 2.47 [sec] | Valid Loss: 131.010, Valid Time: 0.67 [sec]\n",
      "2022-09-06 05:54:53.692854 | Epoch: 56 | Train Loss: 47.989, Train Time: 2.47 [sec] | Valid Loss: 117.191, Valid Time: 0.67 [sec]\n",
      "2022-09-06 05:54:56.843995 | Epoch: 57 | Train Loss: 47.731, Train Time: 2.47 [sec] | Valid Loss: 116.614, Valid Time: 0.67 [sec]\n",
      "2022-09-06 05:55:00.109632 | Epoch: 58 | Train Loss: 47.456, Train Time: 2.58 [sec] | Valid Loss: 131.280, Valid Time: 0.67 [sec]\n",
      "2022-09-06 05:55:03.252746 | Epoch: 59 | Train Loss: 47.383, Train Time: 2.47 [sec] | Valid Loss: 118.958, Valid Time: 0.67 [sec]\n",
      "2022-09-06 05:55:06.395655 | Epoch: 60 | Train Loss: 47.363, Train Time: 2.47 [sec] | Valid Loss: 134.894, Valid Time: 0.67 [sec]\n",
      "2022-09-06 05:55:09.651248 | Epoch: 61 | Train Loss: 47.020, Train Time: 2.58 [sec] | Valid Loss: 115.909, Valid Time: 0.67 [sec]\n",
      "2022-09-06 05:55:12.801987 | Epoch: 62 | Train Loss: 46.819, Train Time: 2.47 [sec] | Valid Loss: 121.399, Valid Time: 0.67 [sec]\n",
      "2022-09-06 05:55:15.942074 | Epoch: 63 | Train Loss: 47.123, Train Time: 2.47 [sec] | Valid Loss: 125.169, Valid Time: 0.67 [sec]\n",
      "2022-09-06 05:55:19.080704 | Epoch: 64 | Train Loss: 46.450, Train Time: 2.47 [sec] | Valid Loss: 126.496, Valid Time: 0.67 [sec]\n",
      "2022-09-06 05:55:22.220461 | Epoch: 65 | Train Loss: 46.038, Train Time: 2.47 [sec] | Valid Loss: 117.465, Valid Time: 0.67 [sec]\n",
      "2022-09-06 05:55:25.480022 | Epoch: 66 | Train Loss: 46.059, Train Time: 2.59 [sec] | Valid Loss: 116.567, Valid Time: 0.67 [sec]\n",
      "2022-09-06 05:55:28.619298 | Epoch: 67 | Train Loss: 46.448, Train Time: 2.47 [sec] | Valid Loss: 119.340, Valid Time: 0.67 [sec]\n",
      "2022-09-06 05:55:31.759734 | Epoch: 68 | Train Loss: 45.615, Train Time: 2.47 [sec] | Valid Loss: 115.774, Valid Time: 0.67 [sec]\n",
      "2022-09-06 05:55:34.917853 | Epoch: 69 | Train Loss: 45.288, Train Time: 2.48 [sec] | Valid Loss: 141.698, Valid Time: 0.67 [sec]\n",
      "2022-09-06 05:55:38.181751 | Epoch: 70 | Train Loss: 45.247, Train Time: 2.59 [sec] | Valid Loss: 126.659, Valid Time: 0.67 [sec]\n",
      "2022-09-06 05:55:41.317787 | Epoch: 71 | Train Loss: 45.413, Train Time: 2.46 [sec] | Valid Loss: 115.668, Valid Time: 0.67 [sec]\n",
      "2022-09-06 05:55:44.459245 | Epoch: 72 | Train Loss: 44.801, Train Time: 2.46 [sec] | Valid Loss: 115.091, Valid Time: 0.67 [sec]\n",
      "2022-09-06 05:55:47.606444 | Epoch: 73 | Train Loss: 45.063, Train Time: 2.46 [sec] | Valid Loss: 119.063, Valid Time: 0.67 [sec]\n",
      "2022-09-06 05:55:50.857521 | Epoch: 74 | Train Loss: 44.361, Train Time: 2.58 [sec] | Valid Loss: 128.296, Valid Time: 0.67 [sec]\n",
      "2022-09-06 05:55:53.986381 | Epoch: 75 | Train Loss: 44.542, Train Time: 2.46 [sec] | Valid Loss: 120.316, Valid Time: 0.67 [sec]\n",
      "2022-09-06 05:55:57.118177 | Epoch: 76 | Train Loss: 44.485, Train Time: 2.46 [sec] | Valid Loss: 125.016, Valid Time: 0.67 [sec]\n",
      "2022-09-06 05:56:00.256311 | Epoch: 77 | Train Loss: 44.599, Train Time: 2.47 [sec] | Valid Loss: 113.724, Valid Time: 0.67 [sec]\n",
      "2022-09-06 05:56:03.399183 | Epoch: 78 | Train Loss: 44.096, Train Time: 2.46 [sec] | Valid Loss: 116.756, Valid Time: 0.67 [sec]\n",
      "2022-09-06 05:56:06.654343 | Epoch: 79 | Train Loss: 43.922, Train Time: 2.58 [sec] | Valid Loss: 117.781, Valid Time: 0.67 [sec]\n",
      "2022-09-06 05:56:09.787101 | Epoch: 80 | Train Loss: 43.971, Train Time: 2.46 [sec] | Valid Loss: 132.895, Valid Time: 0.67 [sec]\n",
      "2022-09-06 05:56:13.044757 | Epoch: 81 | Train Loss: 43.879, Train Time: 2.47 [sec] | Valid Loss: 118.225, Valid Time: 0.79 [sec]\n",
      "2022-09-06 05:56:16.180765 | Epoch: 82 | Train Loss: 43.787, Train Time: 2.46 [sec] | Valid Loss: 118.824, Valid Time: 0.67 [sec]\n",
      "2022-09-06 05:56:19.325325 | Epoch: 83 | Train Loss: 44.693, Train Time: 2.47 [sec] | Valid Loss: 128.174, Valid Time: 0.67 [sec]\n",
      "2022-09-06 05:56:22.582126 | Epoch: 84 | Train Loss: 43.332, Train Time: 2.58 [sec] | Valid Loss: 125.747, Valid Time: 0.67 [sec]\n",
      "2022-09-06 05:56:25.723243 | Epoch: 85 | Train Loss: 43.072, Train Time: 2.47 [sec] | Valid Loss: 128.688, Valid Time: 0.67 [sec]\n",
      "2022-09-06 05:56:28.870835 | Epoch: 86 | Train Loss: 43.074, Train Time: 2.47 [sec] | Valid Loss: 119.230, Valid Time: 0.67 [sec]\n",
      "2022-09-06 05:56:32.129274 | Epoch: 87 | Train Loss: 43.078, Train Time: 2.59 [sec] | Valid Loss: 114.768, Valid Time: 0.67 [sec]\n",
      "2022-09-06 05:56:35.269265 | Epoch: 88 | Train Loss: 42.510, Train Time: 2.47 [sec] | Valid Loss: 118.435, Valid Time: 0.67 [sec]\n",
      "2022-09-06 05:56:38.404228 | Epoch: 89 | Train Loss: 42.463, Train Time: 2.46 [sec] | Valid Loss: 112.647, Valid Time: 0.67 [sec]\n",
      "2022-09-06 05:56:41.665581 | Epoch: 90 | Train Loss: 42.647, Train Time: 2.58 [sec] | Valid Loss: 116.801, Valid Time: 0.67 [sec]\n",
      "2022-09-06 05:56:44.795638 | Epoch: 91 | Train Loss: 42.141, Train Time: 2.46 [sec] | Valid Loss: 133.547, Valid Time: 0.67 [sec]\n",
      "2022-09-06 05:56:47.928646 | Epoch: 92 | Train Loss: 42.472, Train Time: 2.46 [sec] | Valid Loss: 131.735, Valid Time: 0.67 [sec]\n",
      "2022-09-06 05:56:51.058957 | Epoch: 93 | Train Loss: 42.088, Train Time: 2.46 [sec] | Valid Loss: 117.218, Valid Time: 0.67 [sec]\n",
      "2022-09-06 05:56:54.192747 | Epoch: 94 | Train Loss: 42.140, Train Time: 2.46 [sec] | Valid Loss: 123.064, Valid Time: 0.67 [sec]\n",
      "2022-09-06 05:56:57.325180 | Epoch: 95 | Train Loss: 41.864, Train Time: 2.46 [sec] | Valid Loss: 129.928, Valid Time: 0.67 [sec]\n",
      "2022-09-06 05:57:00.571809 | Epoch: 96 | Train Loss: 41.901, Train Time: 2.58 [sec] | Valid Loss: 117.889, Valid Time: 0.67 [sec]\n",
      "2022-09-06 05:57:03.705800 | Epoch: 97 | Train Loss: 41.529, Train Time: 2.46 [sec] | Valid Loss: 118.545, Valid Time: 0.67 [sec]\n",
      "2022-09-06 05:57:06.837310 | Epoch: 98 | Train Loss: 41.428, Train Time: 2.46 [sec] | Valid Loss: 113.719, Valid Time: 0.67 [sec]\n",
      "2022-09-06 05:57:09.968390 | Epoch: 99 | Train Loss: 41.538, Train Time: 2.46 [sec] | Valid Loss: 122.275, Valid Time: 0.67 [sec]\n",
      "2022-09-06 05:57:13.106929 | Epoch: 100 | Train Loss: 41.149, Train Time: 2.47 [sec] | Valid Loss: 117.743, Valid Time: 0.67 [sec]\n"
     ]
    }
   ],
   "source": [
    "train_losses, val_losses = \\\n",
    "    trainer.fit(train_loader, val_loader, n_epochs, log_steps=1)"
   ]
  },
  {
   "cell_type": "code",
   "execution_count": 46,
   "id": "59e2c91c-1762-45bc-a679-02ac79ed51bb",
   "metadata": {},
   "outputs": [
    {
     "data": {
      "text/plain": [
       "112.64650417509533"
      ]
     },
     "execution_count": 46,
     "metadata": {},
     "output_type": "execute_result"
    }
   ],
   "source": [
    "min(trainer.val_losses)"
   ]
  },
  {
   "cell_type": "code",
   "execution_count": 39,
   "id": "09ce9635-1019-45e2-a911-77cbeee181c2",
   "metadata": {
    "collapsed": true,
    "jupyter": {
     "outputs_hidden": true
    },
    "tags": []
   },
   "outputs": [
    {
     "name": "stdout",
     "output_type": "stream",
     "text": [
      "2022-09-05 00:09:04.842521 | Epoch: 101 | Train Loss: 44.934, Train Time: 2.36 [sec] | Valid Loss: 116.677, Valid Time: 0.60 [sec]\n",
      "2022-09-05 00:09:07.870697 | Epoch: 102 | Train Loss: 44.608, Train Time: 2.43 [sec] | Valid Loss: 117.186, Valid Time: 0.60 [sec]\n",
      "2022-09-05 00:09:10.790990 | Epoch: 103 | Train Loss: 44.455, Train Time: 2.32 [sec] | Valid Loss: 116.610, Valid Time: 0.60 [sec]\n",
      "2022-09-05 00:09:13.715225 | Epoch: 104 | Train Loss: 44.470, Train Time: 2.32 [sec] | Valid Loss: 119.880, Valid Time: 0.60 [sec]\n",
      "2022-09-05 00:09:16.750895 | Epoch: 105 | Train Loss: 44.367, Train Time: 2.43 [sec] | Valid Loss: 132.535, Valid Time: 0.60 [sec]\n",
      "2022-09-05 00:09:19.682644 | Epoch: 106 | Train Loss: 44.910, Train Time: 2.33 [sec] | Valid Loss: 123.965, Valid Time: 0.60 [sec]\n",
      "2022-09-05 00:09:22.617766 | Epoch: 107 | Train Loss: 44.326, Train Time: 2.33 [sec] | Valid Loss: 121.662, Valid Time: 0.60 [sec]\n",
      "2022-09-05 00:09:25.665179 | Epoch: 108 | Train Loss: 43.885, Train Time: 2.45 [sec] | Valid Loss: 124.820, Valid Time: 0.60 [sec]\n",
      "2022-09-05 00:09:28.611865 | Epoch: 109 | Train Loss: 44.064, Train Time: 2.34 [sec] | Valid Loss: 123.976, Valid Time: 0.60 [sec]\n",
      "2022-09-05 00:09:31.556960 | Epoch: 110 | Train Loss: 43.897, Train Time: 2.34 [sec] | Valid Loss: 119.715, Valid Time: 0.60 [sec]\n",
      "2022-09-05 00:09:34.599067 | Epoch: 111 | Train Loss: 43.633, Train Time: 2.44 [sec] | Valid Loss: 119.262, Valid Time: 0.60 [sec]\n",
      "2022-09-05 00:09:37.533061 | Epoch: 112 | Train Loss: 43.859, Train Time: 2.33 [sec] | Valid Loss: 118.918, Valid Time: 0.60 [sec]\n",
      "2022-09-05 00:09:40.582210 | Epoch: 113 | Train Loss: 43.778, Train Time: 2.34 [sec] | Valid Loss: 118.742, Valid Time: 0.71 [sec]\n",
      "2022-09-05 00:09:43.522871 | Epoch: 114 | Train Loss: 43.777, Train Time: 2.34 [sec] | Valid Loss: 114.210, Valid Time: 0.60 [sec]\n",
      "2022-09-05 00:09:46.482153 | Epoch: 115 | Train Loss: 43.696, Train Time: 2.35 [sec] | Valid Loss: 123.692, Valid Time: 0.60 [sec]\n",
      "2022-09-05 00:09:49.557814 | Epoch: 116 | Train Loss: 43.641, Train Time: 2.47 [sec] | Valid Loss: 116.622, Valid Time: 0.61 [sec]\n",
      "2022-09-05 00:09:52.520405 | Epoch: 117 | Train Loss: 43.369, Train Time: 2.36 [sec] | Valid Loss: 119.303, Valid Time: 0.61 [sec]\n",
      "2022-09-05 00:09:55.488281 | Epoch: 118 | Train Loss: 43.092, Train Time: 2.36 [sec] | Valid Loss: 128.910, Valid Time: 0.61 [sec]\n",
      "2022-09-05 00:09:58.568608 | Epoch: 119 | Train Loss: 42.713, Train Time: 2.47 [sec] | Valid Loss: 121.422, Valid Time: 0.61 [sec]\n",
      "2022-09-05 00:10:01.552083 | Epoch: 120 | Train Loss: 42.811, Train Time: 2.38 [sec] | Valid Loss: 117.687, Valid Time: 0.61 [sec]\n",
      "2022-09-05 00:10:04.553064 | Epoch: 121 | Train Loss: 43.168, Train Time: 2.39 [sec] | Valid Loss: 120.109, Valid Time: 0.61 [sec]\n",
      "2022-09-05 00:10:07.678899 | Epoch: 122 | Train Loss: 42.908, Train Time: 2.52 [sec] | Valid Loss: 114.330, Valid Time: 0.61 [sec]\n",
      "2022-09-05 00:10:10.694326 | Epoch: 123 | Train Loss: 42.638, Train Time: 2.41 [sec] | Valid Loss: 113.757, Valid Time: 0.61 [sec]\n",
      "2022-09-05 00:10:13.831873 | Epoch: 124 | Train Loss: 42.772, Train Time: 2.41 [sec] | Valid Loss: 117.514, Valid Time: 0.72 [sec]\n",
      "2022-09-05 00:10:16.855646 | Epoch: 125 | Train Loss: 42.791, Train Time: 2.42 [sec] | Valid Loss: 114.594, Valid Time: 0.61 [sec]\n",
      "2022-09-05 00:10:19.884984 | Epoch: 126 | Train Loss: 43.127, Train Time: 2.42 [sec] | Valid Loss: 124.627, Valid Time: 0.61 [sec]\n",
      "2022-09-05 00:10:23.024026 | Epoch: 127 | Train Loss: 42.645, Train Time: 2.53 [sec] | Valid Loss: 118.556, Valid Time: 0.61 [sec]\n",
      "2022-09-05 00:10:26.048316 | Epoch: 128 | Train Loss: 42.303, Train Time: 2.42 [sec] | Valid Loss: 115.733, Valid Time: 0.61 [sec]\n",
      "2022-09-05 00:10:29.072804 | Epoch: 129 | Train Loss: 42.217, Train Time: 2.42 [sec] | Valid Loss: 114.177, Valid Time: 0.61 [sec]\n",
      "2022-09-05 00:10:32.202997 | Epoch: 130 | Train Loss: 42.292, Train Time: 2.52 [sec] | Valid Loss: 131.619, Valid Time: 0.61 [sec]\n",
      "2022-09-05 00:10:35.231376 | Epoch: 131 | Train Loss: 41.902, Train Time: 2.42 [sec] | Valid Loss: 123.171, Valid Time: 0.61 [sec]\n",
      "2022-09-05 00:10:38.259052 | Epoch: 132 | Train Loss: 41.563, Train Time: 2.42 [sec] | Valid Loss: 120.007, Valid Time: 0.61 [sec]\n",
      "2022-09-05 00:10:41.397066 | Epoch: 133 | Train Loss: 41.605, Train Time: 2.53 [sec] | Valid Loss: 119.977, Valid Time: 0.61 [sec]\n",
      "2022-09-05 00:10:44.415927 | Epoch: 134 | Train Loss: 41.874, Train Time: 2.41 [sec] | Valid Loss: 117.880, Valid Time: 0.61 [sec]\n",
      "2022-09-05 00:10:47.446967 | Epoch: 135 | Train Loss: 41.519, Train Time: 2.42 [sec] | Valid Loss: 117.298, Valid Time: 0.61 [sec]\n",
      "2022-09-05 00:10:50.587926 | Epoch: 136 | Train Loss: 41.756, Train Time: 2.53 [sec] | Valid Loss: 116.328, Valid Time: 0.61 [sec]\n",
      "2022-09-05 00:10:53.622329 | Epoch: 137 | Train Loss: 41.560, Train Time: 2.43 [sec] | Valid Loss: 126.555, Valid Time: 0.61 [sec]\n",
      "2022-09-05 00:10:56.762352 | Epoch: 138 | Train Loss: 41.570, Train Time: 2.42 [sec] | Valid Loss: 116.315, Valid Time: 0.72 [sec]\n",
      "2022-09-05 00:10:59.795471 | Epoch: 139 | Train Loss: 41.414, Train Time: 2.42 [sec] | Valid Loss: 126.261, Valid Time: 0.61 [sec]\n",
      "2022-09-05 00:11:02.825591 | Epoch: 140 | Train Loss: 41.374, Train Time: 2.42 [sec] | Valid Loss: 116.929, Valid Time: 0.61 [sec]\n",
      "2022-09-05 00:11:05.970128 | Epoch: 141 | Train Loss: 40.921, Train Time: 2.54 [sec] | Valid Loss: 116.641, Valid Time: 0.61 [sec]\n",
      "2022-09-05 00:11:09.001570 | Epoch: 142 | Train Loss: 41.441, Train Time: 2.42 [sec] | Valid Loss: 118.585, Valid Time: 0.61 [sec]\n",
      "2022-09-05 00:11:12.040309 | Epoch: 143 | Train Loss: 41.166, Train Time: 2.43 [sec] | Valid Loss: 116.322, Valid Time: 0.61 [sec]\n",
      "2022-09-05 00:11:15.212981 | Epoch: 144 | Train Loss: 40.821, Train Time: 2.57 [sec] | Valid Loss: 117.462, Valid Time: 0.61 [sec]\n",
      "2022-09-05 00:11:18.307427 | Epoch: 145 | Train Loss: 41.056, Train Time: 2.49 [sec] | Valid Loss: 114.608, Valid Time: 0.61 [sec]\n",
      "2022-09-05 00:11:21.395591 | Epoch: 146 | Train Loss: 41.152, Train Time: 2.48 [sec] | Valid Loss: 115.514, Valid Time: 0.61 [sec]\n",
      "2022-09-05 00:11:24.588514 | Epoch: 147 | Train Loss: 41.158, Train Time: 2.58 [sec] | Valid Loss: 113.816, Valid Time: 0.61 [sec]\n",
      "2022-09-05 00:11:27.677154 | Epoch: 148 | Train Loss: 41.003, Train Time: 2.48 [sec] | Valid Loss: 114.277, Valid Time: 0.61 [sec]\n",
      "2022-09-05 00:11:30.760241 | Epoch: 149 | Train Loss: 40.793, Train Time: 2.47 [sec] | Valid Loss: 120.958, Valid Time: 0.61 [sec]\n",
      "2022-09-05 00:11:33.957782 | Epoch: 150 | Train Loss: 40.518, Train Time: 2.59 [sec] | Valid Loss: 111.964, Valid Time: 0.61 [sec]\n"
     ]
    }
   ],
   "source": [
    "extra_epochs = 50\n",
    "\n",
    "train_losses, val_losses = \\\n",
    "    trainer.fit(train_loader, val_loader, extra_epochs, log_steps=1)"
   ]
  },
  {
   "cell_type": "markdown",
   "id": "95806d53-47b4-4009-b34f-c4706e0fb947",
   "metadata": {
    "tags": []
   },
   "source": [
    "### 学習曲線"
   ]
  },
  {
   "cell_type": "code",
   "execution_count": 47,
   "id": "afb674a8-cb27-4040-ae77-1b140045fe1c",
   "metadata": {
    "tags": []
   },
   "outputs": [
    {
     "data": {
      "image/png": "[encoded data removed]",
      "text/plain": [
       "<Figure size 504x360 with 1 Axes>"
      ]
     },
     "metadata": {
      "needs_background": "light"
     },
     "output_type": "display_data"
    }
   ],
   "source": [
    "fig, ax = plt.subplots(figsize=(7,5))\n",
    "ax.plot(range(len(trainer.train_losses)), trainer.train_losses)\n",
    "ax.plot(range(len(trainer.val_losses)), trainer.val_losses)\n",
    "plt.show()"
   ]
  },
  {
   "cell_type": "code",
   "execution_count": 430,
   "id": "313512b5-4c4d-48aa-ba0f-63c3d3e74035",
   "metadata": {},
   "outputs": [
    {
     "name": "stdout",
     "output_type": "stream",
     "text": [
      "78.99893493652344\n",
      "109.23197791689918\n"
     ]
    }
   ],
   "source": [
    "print(trainer.validate(train_loader))\n",
    "print(trainer.validate(val_loader))"
   ]
  },
  {
   "cell_type": "markdown",
   "id": "4849861c-36f1-4999-8a66-566bac30fc34",
   "metadata": {},
   "source": [
    "## 予測結果"
   ]
  },
  {
   "cell_type": "code",
   "execution_count": 48,
   "id": "7ecae45a-6d47-45a4-a85d-21ff4dad208a",
   "metadata": {},
   "outputs": [],
   "source": [
    "model_name = 'AttnEncDec'"
   ]
  },
  {
   "cell_type": "code",
   "execution_count": 50,
   "id": "b5a0f628-db8a-4f43-8db2-cc780092a7d7",
   "metadata": {},
   "outputs": [
    {
     "data": {
      "text/plain": [
       "AttentionEncoderDecoder(\n",
       "  (encoder): Encoder(\n",
       "    (traffic_encoder): TrafficSearchEncoder(\n",
       "      (conv): Conv2d(1, 64, kernel_size=(7, 5), stride=(1, 1), padding=(3, 0), padding_mode=replicate)\n",
       "      (lstm): LSTM(64, 128, num_layers=2, batch_first=True, dropout=0.4, bidirectional=True)\n",
       "    )\n",
       "    (search_encoder): TrafficSearchEncoder(\n",
       "      (conv): Conv2d(1, 64, kernel_size=(7, 5), stride=(1, 1), padding=(3, 0), padding_mode=replicate)\n",
       "      (lstm): LSTM(64, 128, num_layers=2, batch_first=True, dropout=0.4, bidirectional=True)\n",
       "    )\n",
       "    (unspec_search_encoder): SearchUnspecEncoder(\n",
       "      (conv): Conv1d(1, 64, kernel_size=(5,), stride=(1,), padding_mode=replicate)\n",
       "      (dropout): Dropout(p=0.4, inplace=False)\n",
       "    )\n",
       "  )\n",
       "  (decoder): AttentionDecoder(\n",
       "    (traffic_decoder): TrafficDecoder(\n",
       "      (lstm): LSTM(1, 256, num_layers=2, batch_first=True, dropout=0.3)\n",
       "    )\n",
       "    (attention): DotProductAttention()\n",
       "    (affine_decoder): AffineDecoder(\n",
       "      (datetime_embedding): CategoricalEmbedding(\n",
       "        (embedding): Embedding(288, 32)\n",
       "      )\n",
       "      (road_embedding): CategoricalEmbedding(\n",
       "        (embedding): Embedding(63, 16)\n",
       "      )\n",
       "      (emb_dropout): Dropout(p=0.4, inplace=False)\n",
       "      (fc1): Linear(in_features=624, out_features=32, bias=True)\n",
       "      (fc2): Linear(in_features=32, out_features=1, bias=True)\n",
       "    )\n",
       "  )\n",
       ")"
      ]
     },
     "execution_count": 50,
     "metadata": {},
     "output_type": "execute_result"
    }
   ],
   "source": [
    "model = AttentionEncoderDecoder().to(device=device)\n",
    "model.load_state_dict(torch.load(f'{config.MODEL_DIR}/{model_name}_71.pth'))\n",
    "model.eval()"
   ]
  },
  {
   "cell_type": "code",
   "execution_count": 51,
   "id": "8c54ec10-4c33-42d4-84d8-316396f0d9ce",
   "metadata": {},
   "outputs": [],
   "source": [
    "def pred_data_generator(X_test, y_test, time_step, prediction_horizon=24):\n",
    "    def create(zero_date, pred_start_date, pred_window, sec_id):\n",
    "        pred_start_ind = int((pd.Timestamp(pred_start_date) - pd.Timestamp(zero_date)).total_seconds() / (60 * 60))\n",
    "        pred_end_ind = pred_start_ind + pred_window\n",
    "\n",
    "        in_start_ind = pred_start_ind - prediction_horizon - time_step + 1\n",
    "        in_end_ind = pred_end_ind\n",
    "        \n",
    "        X_in = X_test[:, in_start_ind:in_end_ind, sec_id]\n",
    "        y_in = y_test[:, in_start_ind:in_end_ind, sec_id]\n",
    "        y_true = y_test[0, pred_start_ind:pred_end_ind, sec_id]\n",
    "        \n",
    "        return X_in, y_in, y_true\n",
    "    return create"
   ]
  },
  {
   "cell_type": "code",
   "execution_count": 52,
   "id": "f08cd02b-eb16-4544-897d-9f794f3ab1eb",
   "metadata": {},
   "outputs": [],
   "source": [
    "def predict(model, dataset, device=device):\n",
    "    model.eval()\n",
    "\n",
    "    with torch.no_grad():\n",
    "        data, _ = dataset[:]\n",
    "        if isinstance(data, (list, tuple)):\n",
    "            data = map(lambda x: x.to(device=device), data)\n",
    "        else:\n",
    "            data = data.to(device=device)\n",
    "        out = model.generate(data).detach().cpu()\n",
    "\n",
    "    return out"
   ]
  },
  {
   "cell_type": "code",
   "execution_count": 53,
   "id": "4ffe235f-3eb0-4a3d-97ce-5236c7f0eb67",
   "metadata": {},
   "outputs": [],
   "source": [
    "p_gen = pred_data_generator(X_va, y_va, time_step=time_step)\n",
    "zero_date = '2022/3/1'"
   ]
  },
  {
   "cell_type": "code",
   "execution_count": 54,
   "id": "f8dbb7c8-d71f-40de-bc2b-b3bf8d67369d",
   "metadata": {},
   "outputs": [],
   "source": [
    "pred_start_date = '2022/5/3'\n",
    "pred_window = 1 * 24\n",
    "\n",
    "X_in, y_in, y_true = p_gen(zero_date, pred_start_date, pred_window, sec_id=[34])\n",
    "dataset_test = STDataset(X_in, y_in, time_step=time_step, space_window=space_window)"
   ]
  },
  {
   "cell_type": "code",
   "execution_count": 55,
   "id": "a60df226-56fd-4784-8ec0-d991e0f67fcd",
   "metadata": {},
   "outputs": [],
   "source": [
    "out = predict(model, dataset_test)\n",
    "out = out.view(pred_window, -1)"
   ]
  },
  {
   "cell_type": "code",
   "execution_count": 56,
   "id": "1c566f7a-7594-4a0d-9b7c-4cf79de87c95",
   "metadata": {},
   "outputs": [
    {
     "name": "stdout",
     "output_type": "stream",
     "text": [
      "mae 561.1781616210938\n",
      "mape 0.2749384045600891\n"
     ]
    }
   ],
   "source": [
    "print('mae', abs(y_true - out).mean().item())\n",
    "print('mape', (abs(y_true - out) / y_true).mean().item())"
   ]
  },
  {
   "cell_type": "code",
   "execution_count": 57,
   "id": "87c6e29d-54f8-4a7c-9c3e-db55c0be132b",
   "metadata": {},
   "outputs": [
    {
     "data": {
      "image/png": "[encoded data removed]",
      "text/plain": [
       "<Figure size 720x360 with 1 Axes>"
      ]
     },
     "metadata": {
      "needs_background": "light"
     },
     "output_type": "display_data"
    }
   ],
   "source": [
    "plt.figure(figsize=(10,5))\n",
    "plt.plot(range(len(out)), out, label='predicted', color='tomato', lw=2)\n",
    "plt.plot(range(len(y_true)), y_true, label='true', color='gray')\n",
    "plt.xlabel('time step')\n",
    "plt.ylabel('# of cars')\n",
    "plt.title('2022/5/3')\n",
    "plt.legend()\n",
    "plt.grid()\n",
    "plt.show()"
   ]
  },
  {
   "cell_type": "code",
   "execution_count": 58,
   "id": "e62f1967-6c83-4eed-817c-46d576155c0f",
   "metadata": {},
   "outputs": [],
   "source": [
    "pred_start_date = '2022/5/14'\n",
    "pred_window = 1 * 24 \n",
    "\n",
    "X_in, y_in, y_true = p_gen(zero_date, pred_start_date, pred_window, sec_id=[34])\n",
    "dataset_test = STDataset(X_in, y_in, \n",
    "                         time_step=time_step,\n",
    "                         space_window=space_window)"
   ]
  },
  {
   "cell_type": "code",
   "execution_count": 59,
   "id": "957196b3-3e17-4fb7-a4dd-46b646691286",
   "metadata": {},
   "outputs": [],
   "source": [
    "out = predict(model, dataset_test)\n",
    "out = out.view(pred_window, -1)"
   ]
  },
  {
   "cell_type": "code",
   "execution_count": 60,
   "id": "3e1813c7-cb25-40d1-b2a0-042043a8e71c",
   "metadata": {},
   "outputs": [
    {
     "name": "stdout",
     "output_type": "stream",
     "text": [
      "mae 203.79884338378906\n",
      "mape 0.15087412297725677\n"
     ]
    }
   ],
   "source": [
    "print('mae', abs(y_true - out).mean().item())\n",
    "print('mape', (abs(y_true - out) / y_true).mean().item())"
   ]
  },
  {
   "cell_type": "code",
   "execution_count": 61,
   "id": "bdb1f379-23b2-4458-81f4-982d85f0a324",
   "metadata": {},
   "outputs": [
    {
     "data": {
      "image/png": "[encoded data removed]",
      "text/plain": [
       "<Figure size 720x360 with 1 Axes>"
      ]
     },
     "metadata": {
      "needs_background": "light"
     },
     "output_type": "display_data"
    }
   ],
   "source": [
    "plt.figure(figsize=(10,5))\n",
    "plt.plot(range(len(out)), out, label='predicted', color='tomato', lw=2)\n",
    "plt.plot(range(len(y_true)), y_true, label='true', color='gray')\n",
    "plt.xlabel('time step')\n",
    "plt.ylabel('# of cars')\n",
    "plt.title('2022/5/14')\n",
    "plt.legend()\n",
    "plt.grid()\n",
    "plt.show()"
   ]
  },
  {
   "cell_type": "code",
   "execution_count": 62,
   "id": "32d996ad-9152-4c11-b0ea-098678c74beb",
   "metadata": {},
   "outputs": [],
   "source": [
    "pred_start_date = '2022/5/11'\n",
    "pred_window = 1 * 24\n",
    "\n",
    "X_in, y_in, y_true = p_gen(zero_date, pred_start_date, pred_window, sec_id=[34])\n",
    "dataset_test = STDataset(X_in, y_in, \n",
    "                         time_step=time_step, \n",
    "                         space_window=space_window)"
   ]
  },
  {
   "cell_type": "code",
   "execution_count": 63,
   "id": "0356cef1-6f38-4c0e-b815-902f1156dbc0",
   "metadata": {},
   "outputs": [],
   "source": [
    "out = predict(model, dataset_test)\n",
    "out = out.view(pred_window, -1)"
   ]
  },
  {
   "cell_type": "code",
   "execution_count": 64,
   "id": "c11ee55b-c8b7-4e73-8e94-0e22f3fa0956",
   "metadata": {},
   "outputs": [
    {
     "name": "stdout",
     "output_type": "stream",
     "text": [
      "mae 397.349365234375\n",
      "mape 0.24398772418498993\n"
     ]
    }
   ],
   "source": [
    "print('mae', abs(y_true - out).mean().item())\n",
    "print('mape', (abs(y_true - out) / y_true).mean().item())"
   ]
  },
  {
   "cell_type": "code",
   "execution_count": 65,
   "id": "ba5faacd-6e21-413c-86b1-82fdcd2fb8da",
   "metadata": {},
   "outputs": [
    {
     "data": {
      "image/png": "[encoded data removed]",
      "text/plain": [
       "<Figure size 720x360 with 1 Axes>"
      ]
     },
     "metadata": {
      "needs_background": "light"
     },
     "output_type": "display_data"
    }
   ],
   "source": [
    "plt.figure(figsize=(10,5))\n",
    "plt.plot(range(len(out)), out, label='predicted', color='tomato', lw=2)\n",
    "plt.plot(range(len(y_true)), y_true, label='true', color='gray')\n",
    "plt.title('2022/5/11')\n",
    "plt.legend()\n",
    "plt.grid()\n",
    "plt.show()"
   ]
  },
  {
   "cell_type": "markdown",
   "id": "c93691ac-4ca9-4ebb-a44d-2a6bb674fcc1",
   "metadata": {},
   "source": [
    "### GW"
   ]
  },
  {
   "cell_type": "code",
   "execution_count": 66,
   "id": "f2659b1a-3b70-42a3-b5f6-97ebe7162bbc",
   "metadata": {
    "tags": []
   },
   "outputs": [],
   "source": [
    "pred_start_date = '2022/4/29'\n",
    "pred_window = 9 * 24\n",
    "\n",
    "X_in, y_in, y_true = p_gen(zero_date, pred_start_date, pred_window, sec_id=[34])\n",
    "dataset_test = STDataset(X_in, y_in, \n",
    "                         time_step=time_step, \n",
    "                         space_window=space_window)"
   ]
  },
  {
   "cell_type": "code",
   "execution_count": 67,
   "id": "c9589189-c4a7-400a-a23d-831f69074efe",
   "metadata": {},
   "outputs": [],
   "source": [
    "out = predict(model, dataset_test)\n",
    "out = out.view(pred_window, -1)"
   ]
  },
  {
   "cell_type": "code",
   "execution_count": 68,
   "id": "88053229-0683-41c6-9659-0de65fee05cb",
   "metadata": {},
   "outputs": [
    {
     "name": "stdout",
     "output_type": "stream",
     "text": [
      "mae 375.3688659667969\n",
      "mape 0.23512548208236694\n"
     ]
    }
   ],
   "source": [
    "print('mae', abs(y_true - out).mean().item())\n",
    "print('mape', (abs(y_true - out) / y_true).mean().item())"
   ]
  },
  {
   "cell_type": "code",
   "execution_count": 69,
   "id": "3adc538e-71a2-4aff-bd8a-c3ebc172452b",
   "metadata": {},
   "outputs": [
    {
     "data": {
      "image/png": "[encoded data removed]",
      "text/plain": [
       "<Figure size 1080x360 with 1 Axes>"
      ]
     },
     "metadata": {
      "needs_background": "light"
     },
     "output_type": "display_data"
    }
   ],
   "source": [
    "plt.figure(figsize=(15,5))\n",
    "plt.plot(range(len(out)), out, label='predicted')\n",
    "plt.plot(range(len(y_true)), y_true, label='true')\n",
    "plt.legend()\n",
    "plt.grid()\n",
    "plt.show()"
   ]
  },
  {
   "cell_type": "markdown",
   "id": "4ba0c7ad-1fd2-4b14-b971-7a862d04c4d2",
   "metadata": {},
   "source": [
    "### 普通の1週間 (月~日)"
   ]
  },
  {
   "cell_type": "markdown",
   "id": "a9183cb4-dc56-4ed1-b48c-d9b1c3335582",
   "metadata": {},
   "source": [
    "#### 3月"
   ]
  },
  {
   "cell_type": "code",
   "execution_count": 70,
   "id": "b084ffb7-61cd-4b7d-8e61-dc3a6b8c0e32",
   "metadata": {},
   "outputs": [],
   "source": [
    "pred_start_date = '2022/3/21'\n",
    "pred_window = 7 * 24\n",
    "\n",
    "X_in, y_in, y_true = p_gen(zero_date, pred_start_date, pred_window, sec_id=[34])\n",
    "dataset_test = STDataset(X_in, y_in, \n",
    "                         time_step=time_step, \n",
    "                         space_window=space_window)"
   ]
  },
  {
   "cell_type": "code",
   "execution_count": 71,
   "id": "48e23537-e095-4f38-a04a-e412d6f031fe",
   "metadata": {},
   "outputs": [],
   "source": [
    "out = predict(model, dataset_test)\n",
    "out = out.view(pred_window, -1)"
   ]
  },
  {
   "cell_type": "code",
   "execution_count": 72,
   "id": "e64d3ed7-ea71-4986-8fdd-dd4600a4f408",
   "metadata": {},
   "outputs": [
    {
     "name": "stdout",
     "output_type": "stream",
     "text": [
      "mae 271.20513916015625\n",
      "mape 0.16003327071666718\n"
     ]
    }
   ],
   "source": [
    "print('mae', abs(y_true - out).mean().item())\n",
    "print('mape', (abs(y_true - out) / y_true).mean().item())"
   ]
  },
  {
   "cell_type": "code",
   "execution_count": 73,
   "id": "3964736e-9e1b-4a74-a27e-c8f153d693b8",
   "metadata": {},
   "outputs": [
    {
     "data": {
      "image/png": "[encoded data removed]",
      "text/plain": [
       "<Figure size 1080x360 with 1 Axes>"
      ]
     },
     "metadata": {
      "needs_background": "light"
     },
     "output_type": "display_data"
    }
   ],
   "source": [
    "plt.figure(figsize=(15,5))\n",
    "plt.plot(range(len(out)), out, label='predicted')\n",
    "plt.plot(range(len(y_true)), y_true, label='true')\n",
    "plt.legend()\n",
    "plt.show()"
   ]
  },
  {
   "cell_type": "markdown",
   "id": "af5199d5-2347-477e-b63b-0df222caeb9a",
   "metadata": {},
   "source": [
    "#### 4月"
   ]
  },
  {
   "cell_type": "code",
   "execution_count": 74,
   "id": "bd50e4de-13fe-443f-93b2-6e29a3a0cc8e",
   "metadata": {},
   "outputs": [],
   "source": [
    "pred_start_date = '2022/4/4'\n",
    "pred_window = 7 * 24\n",
    "\n",
    "X_in, y_in, y_true = p_gen(zero_date, pred_start_date, pred_window, sec_id=[27])\n",
    "dataset_test = STDataset(X_in, y_in, \n",
    "                         time_step=time_step, \n",
    "                         space_window=space_window)"
   ]
  },
  {
   "cell_type": "code",
   "execution_count": 75,
   "id": "7f003cca-329d-4479-95e5-029c566ce262",
   "metadata": {},
   "outputs": [],
   "source": [
    "out = predict(model, dataset_test)\n",
    "out = out.view(pred_window, -1)"
   ]
  },
  {
   "cell_type": "code",
   "execution_count": 76,
   "id": "4f61a054-82bc-4a18-9e7c-f25035b26d3e",
   "metadata": {},
   "outputs": [
    {
     "name": "stdout",
     "output_type": "stream",
     "text": [
      "mae 330.1689758300781\n",
      "mape 0.19710420072078705\n"
     ]
    }
   ],
   "source": [
    "print('mae', abs(y_true - out).mean().item())\n",
    "print('mape', (abs(y_true - out) / y_true).mean().item())"
   ]
  },
  {
   "cell_type": "code",
   "execution_count": 77,
   "id": "ced0b93c-ee2e-43f6-8ac1-14d954265be8",
   "metadata": {},
   "outputs": [
    {
     "data": {
      "image/png": "[encoded data removed]",
      "text/plain": [
       "<Figure size 1080x360 with 1 Axes>"
      ]
     },
     "metadata": {
      "needs_background": "light"
     },
     "output_type": "display_data"
    }
   ],
   "source": [
    "plt.figure(figsize=(15,5))\n",
    "plt.plot(range(len(out)), out, label='predicted')\n",
    "plt.plot(range(len(y_true)), y_true, label='true')\n",
    "plt.legend()\n",
    "plt.show()"
   ]
  },
  {
   "cell_type": "markdown",
   "id": "15d7a4f6-c728-4892-a712-96888b234921",
   "metadata": {},
   "source": [
    "#### 5月"
   ]
  },
  {
   "cell_type": "code",
   "execution_count": 78,
   "id": "4cc0af9f-c780-4f6a-8225-77bcbfd25b89",
   "metadata": {},
   "outputs": [],
   "source": [
    "pred_start_date = '2022/5/23'\n",
    "pred_window = 7 * 24\n",
    "\n",
    "X_in, y_in, y_true = p_gen(zero_date, pred_start_date, pred_window, sec_id=[27])\n",
    "dataset_test = STDataset(X_in, y_in, \n",
    "                         time_step=time_step,\n",
    "                         space_window=space_window)"
   ]
  },
  {
   "cell_type": "code",
   "execution_count": 79,
   "id": "03be1c95-0a93-4586-a48a-c73d9136010d",
   "metadata": {},
   "outputs": [],
   "source": [
    "out = predict(model, dataset_test)\n",
    "out = out.view(pred_window, -1)"
   ]
  },
  {
   "cell_type": "code",
   "execution_count": 80,
   "id": "ff22f38f-ca03-4953-b0da-ba9df7783777",
   "metadata": {},
   "outputs": [
    {
     "name": "stdout",
     "output_type": "stream",
     "text": [
      "mae 313.9779052734375\n",
      "mape 0.18489550054073334\n"
     ]
    }
   ],
   "source": [
    "print('mae', abs(y_true - out).mean().item())\n",
    "print('mape', (abs(y_true - out) / y_true).mean().item())"
   ]
  },
  {
   "cell_type": "code",
   "execution_count": 81,
   "id": "63ac5705-9b77-4dc5-afcc-85002db197c5",
   "metadata": {},
   "outputs": [
    {
     "data": {
      "image/png": "[encoded data removed]",
      "text/plain": [
       "<Figure size 1080x360 with 1 Axes>"
      ]
     },
     "metadata": {
      "needs_background": "light"
     },
     "output_type": "display_data"
    }
   ],
   "source": [
    "plt.figure(figsize=(15,5))\n",
    "plt.plot(range(len(out)), out, label='predicted')\n",
    "plt.plot(range(len(y_true)), y_true, label='true')\n",
    "plt.legend()\n",
    "plt.show()"
   ]
  },
  {
   "cell_type": "code",
   "execution_count": null,
   "id": "5c2a7795-b450-4545-8863-548bfccc15c2",
   "metadata": {},
   "outputs": [],
   "source": []
  }
 ],
 "metadata": {
  "kernelspec": {
   "display_name": "Python 3 (ipykernel)",
   "language": "python",
   "name": "python3"
  },
  "language_info": {
   "codemirror_mode": {
    "name": "ipython",
    "version": 3
   },
   "file_extension": ".py",
   "mimetype": "text/x-python",
   "name": "python",
   "nbconvert_exporter": "python",
   "pygments_lexer": "ipython3",
   "version": "3.8.10"
  }
 },
 "nbformat": 4,
 "nbformat_minor": 5
}
