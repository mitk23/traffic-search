{
 "cells": [
  {
   "cell_type": "code",
   "execution_count": 29,
   "id": "85f9b686-4dee-4846-b006-9d3b39292662",
   "metadata": {},
   "outputs": [],
   "source": [
    "import datetime as dt\n",
    "import numpy as np\n",
    "import pandas as pd\n",
    "import matplotlib.pyplot as plt\n",
    "import seaborn as sns\n",
    "import tqdm\n",
    "\n",
    "from sklearn.preprocessing import StandardScaler\n",
    "\n",
    "import torch\n",
    "import torch.nn as nn\n",
    "import torch.nn.functional as F\n",
    "import torch.optim as optim"
   ]
  },
  {
   "cell_type": "code",
   "execution_count": 2,
   "id": "5a66af52-fa9b-44a1-8e3d-7c1ab733e773",
   "metadata": {},
   "outputs": [
    {
     "data": {
      "text/plain": [
       "device(type='cuda')"
      ]
     },
     "execution_count": 2,
     "metadata": {},
     "output_type": "execute_result"
    }
   ],
   "source": [
    "device = torch.device(\"cuda\" if torch.cuda.is_available() else \"cpu\")\n",
    "device"
   ]
  },
  {
   "cell_type": "code",
   "execution_count": 3,
   "id": "529b47c5-ece1-4061-b622-f0c26c9de6d1",
   "metadata": {},
   "outputs": [],
   "source": [
    "# 道路名\n",
    "# TARGET_ROAD='tateyama'\n",
    "TARGET_ROAD='kannetsu'\n",
    "\n",
    "# 交通量\n",
    "PROCESSED_DATA_DIR = '../Input_processed_data'\n",
    "TRAFFIC_DIR = f'{PROCESSED_DATA_DIR}/traffic'\n",
    "TRAFFIC_CSV = f'{TRAFFIC_DIR}/{TARGET_ROAD}_20220621all-merged_filled_15min.csv'"
   ]
  },
  {
   "cell_type": "code",
   "execution_count": 5,
   "id": "3b58e808-e64e-4d7d-836d-04fd532a1054",
   "metadata": {
    "tags": []
   },
   "outputs": [],
   "source": [
    "col_types = {\n",
    "    'start_code': str,\n",
    "    'end_code': str,\n",
    "    'road_code': str,\n",
    "    'jam_type': str,\n",
    "}\n",
    "\n",
    "df = pd.read_csv(TRAFFIC_CSV, parse_dates=True, index_col='datetime', dtype=col_types).reset_index()"
   ]
  },
  {
   "cell_type": "code",
   "execution_count": 71,
   "id": "c81481f0-5c87-4aff-926f-7285d607613f",
   "metadata": {
    "tags": []
   },
   "outputs": [],
   "source": [
    "start_date='2021/5/1'\n",
    "end_date='2021/8/1'\n",
    "\n",
    "df_test = df.loc[(df['datetime'] >= pd.Timestamp(start_date)) & (df['datetime'] < pd.Timestamp(end_date))]\n",
    "df_test.reset_index(drop=True, inplace=True)"
   ]
  },
  {
   "cell_type": "code",
   "execution_count": 72,
   "id": "ef1cca7e-4c73-44bd-a62f-0f345247053a",
   "metadata": {
    "tags": []
   },
   "outputs": [
    {
     "name": "stdout",
     "output_type": "stream",
     "text": [
      "<class 'pandas.core.frame.DataFrame'>\n",
      "RangeIndex: 556416 entries, 0 to 556415\n",
      "Data columns (total 52 columns):\n",
      " #   Column               Non-Null Count   Dtype         \n",
      "---  ------               --------------   -----         \n",
      " 0   datetime             556416 non-null  datetime64[ns]\n",
      " 1   index                556416 non-null  int64         \n",
      " 2   start_name           556416 non-null  object        \n",
      " 3   end_name             556416 non-null  object        \n",
      " 4   start_code           556416 non-null  object        \n",
      " 5   end_code             556416 non-null  object        \n",
      " 6   start_pref_code      556416 non-null  int64         \n",
      " 7   end_pref_code        556416 non-null  int64         \n",
      " 8   start_lat            556416 non-null  float64       \n",
      " 9   end_lat              556416 non-null  float64       \n",
      " 10  start_lng            556416 non-null  float64       \n",
      " 11  end_lng              556416 non-null  float64       \n",
      " 12  start_degree         556416 non-null  float64       \n",
      " 13  end_degree           556416 non-null  float64       \n",
      " 14  quarter              556416 non-null  object        \n",
      " 15  month                556416 non-null  int64         \n",
      " 16  day                  556416 non-null  int64         \n",
      " 17  dayofweek            556416 non-null  int64         \n",
      " 18  is_holiday           556416 non-null  int64         \n",
      " 19  hour                 556416 non-null  int64         \n",
      " 20  lane_count           556416 non-null  int64         \n",
      " 21  KP                   556416 non-null  float64       \n",
      " 22  direction            556416 non-null  object        \n",
      " 23  start_KP             556416 non-null  float64       \n",
      " 24  end_KP               556416 non-null  float64       \n",
      " 25  road_distance        556416 non-null  float64       \n",
      " 26  date                 556416 non-null  object        \n",
      " 27  pressure             556416 non-null  float64       \n",
      " 28  rainfall             556416 non-null  float64       \n",
      " 29  temperature          556416 non-null  float64       \n",
      " 30  humidity             556416 non-null  float64       \n",
      " 31  wind_speed           556416 non-null  float64       \n",
      " 32  daylight_hours       556416 non-null  float64       \n",
      " 33  snowfall             556416 non-null  float64       \n",
      " 34  deepest_snowfall     556416 non-null  float64       \n",
      " 35  weather_description  556416 non-null  object        \n",
      " 36  degree_sum           556416 non-null  float64       \n",
      " 37  limit_speed          556416 non-null  int64         \n",
      " 38  distance             556416 non-null  float64       \n",
      " 39  search_1h            556416 non-null  float64       \n",
      " 40  search_unspec_1d     556416 non-null  float64       \n",
      " 41  search_unspec_3d     556416 non-null  float64       \n",
      " 42  search_unspec_7d     556416 non-null  float64       \n",
      " 43  search_unspec_10d    556416 non-null  float64       \n",
      " 44  jam_type             2067 non-null    object        \n",
      " 45  road_code            556416 non-null  object        \n",
      " 46  minute_quarter       556416 non-null  int64         \n",
      " 47  allCars              556416 non-null  float64       \n",
      " 48  jam_quantity         556416 non-null  int64         \n",
      " 49  search_15min         556416 non-null  float64       \n",
      " 50  OCC                  556416 non-null  float64       \n",
      " 51  speed                556227 non-null  float64       \n",
      "dtypes: datetime64[ns](1), float64(29), int64(12), object(10)\n",
      "memory usage: 220.7+ MB\n"
     ]
    }
   ],
   "source": [
    "df_test.info()"
   ]
  },
  {
   "cell_type": "code",
   "execution_count": 73,
   "id": "2898041e-0cc7-420f-9363-73a3edc61e7d",
   "metadata": {},
   "outputs": [],
   "source": [
    "def linear_interpolate(df, col):\n",
    "    '''\n",
    "    dfのcolカラム内の欠損を区間ごとに線形補間する\n",
    "    '''\n",
    "    f = lambda g: g.interpolate(method='linear', axis=0)\n",
    "    \n",
    "    df.sort_values('datetime', inplace=True)\n",
    "    df[col] = df.groupby(['start_code', 'end_code'])[col].apply(f)\n",
    "    return df\n",
    "\n",
    "\n",
    "def preprocess(df):\n",
    "    # 「年」情報を入れる\n",
    "    df['year'] = df['datetime'].dt.year\n",
    "    # 渋滞フラグ 0/1\n",
    "    df['jam_quantity'] = np.where(df['jam_quantity'] > 0, 1, 0)\n",
    "    # 方向を数値化\n",
    "    direction_map = {'上り': 0, '下り': 1}\n",
    "    df['direction'] = df['direction'].map(direction_map)\n",
    "    # 四半期を数値化\n",
    "    df['quarter'] = df['quarter'].str[-1]\n",
    "    # object型のカラムを落とす\n",
    "    drop_cols = ['road_code', 'weather_description', 'jam_type']\n",
    "    df.drop(drop_cols, axis=1, inplace=True)\n",
    "    \n",
    "    # 速度の欠損を埋める\n",
    "    df = linear_interpolate(df, 'speed')\n",
    "    \n",
    "    # 型変換\n",
    "    type_map = {\n",
    "        'direction': np.uint8,\n",
    "        'quarter': np.uint8,\n",
    "        'jam_quantity': np.uint8,\n",
    "        'search_15min': int,\n",
    "        'search_1h': int,\n",
    "        'search_unspec_1d': int,\n",
    "        'search_unspec_3d': int,\n",
    "        'search_unspec_7d': int,\n",
    "        'search_unspec_10d': int,\n",
    "        'allCars': np.float32,\n",
    "        'speed': np.float32,\n",
    "    }\n",
    "    df = df.astype(type_map)\n",
    "    \n",
    "    return df"
   ]
  },
  {
   "cell_type": "code",
   "execution_count": 74,
   "id": "9a480b6b-c458-4590-91b7-3452a081adc3",
   "metadata": {},
   "outputs": [
    {
     "name": "stdout",
     "output_type": "stream",
     "text": [
      "<class 'pandas.core.frame.DataFrame'>\n",
      "Int64Index: 556416 entries, 0 to 556415\n",
      "Data columns (total 50 columns):\n",
      " #   Column             Non-Null Count   Dtype         \n",
      "---  ------             --------------   -----         \n",
      " 0   datetime           556416 non-null  datetime64[ns]\n",
      " 1   index              556416 non-null  int64         \n",
      " 2   start_name         556416 non-null  object        \n",
      " 3   end_name           556416 non-null  object        \n",
      " 4   start_code         556416 non-null  object        \n",
      " 5   end_code           556416 non-null  object        \n",
      " 6   start_pref_code    556416 non-null  int64         \n",
      " 7   end_pref_code      556416 non-null  int64         \n",
      " 8   start_lat          556416 non-null  float64       \n",
      " 9   end_lat            556416 non-null  float64       \n",
      " 10  start_lng          556416 non-null  float64       \n",
      " 11  end_lng            556416 non-null  float64       \n",
      " 12  start_degree       556416 non-null  float64       \n",
      " 13  end_degree         556416 non-null  float64       \n",
      " 14  quarter            556416 non-null  uint8         \n",
      " 15  month              556416 non-null  int64         \n",
      " 16  day                556416 non-null  int64         \n",
      " 17  dayofweek          556416 non-null  int64         \n",
      " 18  is_holiday         556416 non-null  int64         \n",
      " 19  hour               556416 non-null  int64         \n",
      " 20  lane_count         556416 non-null  int64         \n",
      " 21  KP                 556416 non-null  float64       \n",
      " 22  direction          556416 non-null  uint8         \n",
      " 23  start_KP           556416 non-null  float64       \n",
      " 24  end_KP             556416 non-null  float64       \n",
      " 25  road_distance      556416 non-null  float64       \n",
      " 26  date               556416 non-null  object        \n",
      " 27  pressure           556416 non-null  float64       \n",
      " 28  rainfall           556416 non-null  float64       \n",
      " 29  temperature        556416 non-null  float64       \n",
      " 30  humidity           556416 non-null  float64       \n",
      " 31  wind_speed         556416 non-null  float64       \n",
      " 32  daylight_hours     556416 non-null  float64       \n",
      " 33  snowfall           556416 non-null  float64       \n",
      " 34  deepest_snowfall   556416 non-null  float64       \n",
      " 35  degree_sum         556416 non-null  float64       \n",
      " 36  limit_speed        556416 non-null  int64         \n",
      " 37  distance           556416 non-null  float64       \n",
      " 38  search_1h          556416 non-null  int64         \n",
      " 39  search_unspec_1d   556416 non-null  int64         \n",
      " 40  search_unspec_3d   556416 non-null  int64         \n",
      " 41  search_unspec_7d   556416 non-null  int64         \n",
      " 42  search_unspec_10d  556416 non-null  int64         \n",
      " 43  minute_quarter     556416 non-null  int64         \n",
      " 44  allCars            556416 non-null  float32       \n",
      " 45  jam_quantity       556416 non-null  uint8         \n",
      " 46  search_15min       556416 non-null  int64         \n",
      " 47  OCC                556416 non-null  float64       \n",
      " 48  speed              556416 non-null  float32       \n",
      " 49  year               556416 non-null  int64         \n",
      "dtypes: datetime64[ns](1), float32(2), float64(21), int64(18), object(5), uint8(3)\n",
      "memory usage: 201.1+ MB\n"
     ]
    }
   ],
   "source": [
    "df_test = preprocess(df_test.copy())\n",
    "df_test.info()"
   ]
  },
  {
   "cell_type": "code",
   "execution_count": 75,
   "id": "0b39c58f-57dc-48c9-a557-0f5e71ead960",
   "metadata": {},
   "outputs": [],
   "source": [
    "key_col = ['datetime', 'start_name', 'end_name']\n",
    "features = [\n",
    "    'hour', 'dayofweek', 'is_holiday', 'lane_count', \n",
    "    'search_15min', 'search_1h', 'search_unspec_1d', 'allCars'\n",
    "]\n",
    "target = 'allCars'"
   ]
  },
  {
   "cell_type": "code",
   "execution_count": 76,
   "id": "dbce3814-436d-4547-a3fb-479f7fc14c0e",
   "metadata": {},
   "outputs": [
    {
     "name": "stdout",
     "output_type": "stream",
     "text": [
      "(63, 8832, 8) (63, 8832)\n"
     ]
    }
   ],
   "source": [
    "# 特徴量を絞る\n",
    "df_X = df_test.loc[:, key_col + features]\n",
    "df_y = df_test.loc[:, target]\n",
    "\n",
    "# データ数\n",
    "N = df_X.shape[0]\n",
    "# 時系列長\n",
    "N_period = df_X.drop_duplicates(\"datetime\").shape[0]\n",
    "# 区間数\n",
    "N_sec = df_X.drop_duplicates([\"start_name\", \"end_name\"]).shape[0]\n",
    "# 特徴量数\n",
    "D = len(features)\n",
    "\n",
    "# numpy配列を準備\n",
    "X = np.empty((N_sec, N_period, D), dtype=np.float32)\n",
    "y = np.empty((N_sec, N_period), dtype=np.float32)\n",
    "\n",
    "print(X.shape, y.shape)"
   ]
  },
  {
   "cell_type": "code",
   "execution_count": 77,
   "id": "1174144f-e6b7-4b14-a513-239091d39383",
   "metadata": {},
   "outputs": [
    {
     "name": "stdout",
     "output_type": "stream",
     "text": [
      "(63, 8832, 8) (63, 8832)\n"
     ]
    }
   ],
   "source": [
    "# 区間別に時系列情報をnumpy配列に格納する\n",
    "group = df_X.groupby(['start_name', 'end_name'])\n",
    "for i, (g_key, df_g) in enumerate(group):\n",
    "    X[i] = df_g.loc[:, features].values\n",
    "    y[i] = df_g.loc[:, target].values\n",
    "\n",
    "print(X.shape, y.shape)"
   ]
  },
  {
   "cell_type": "code",
   "execution_count": 78,
   "id": "3ae885c7-444a-4ceb-be4c-2dc48a2248a0",
   "metadata": {},
   "outputs": [],
   "source": [
    "# 標準化\n",
    "X_mean = X.reshape(-1, D).mean(axis=0)\n",
    "X_std = X.reshape(-1, D).std(axis=0)\n",
    "\n",
    "X_norm = (X - X_mean) / X_std"
   ]
  },
  {
   "cell_type": "code",
   "execution_count": 79,
   "id": "d636d6b7-b897-4c86-b1a3-cfa44ea2b1b0",
   "metadata": {},
   "outputs": [
    {
     "name": "stdout",
     "output_type": "stream",
     "text": [
      "(63, 7065, 8) (63, 7065)\n",
      "(63, 1767, 8) (63, 1767)\n"
     ]
    }
   ],
   "source": [
    "# train, validに分割\n",
    "train_ratio = 0.8\n",
    "ind_split = int(X_norm.shape[1] * train_ratio)\n",
    "X_train, X_val = X_norm[:, :ind_split], X_norm[:, ind_split:]\n",
    "y_train, y_val = y[:, :ind_split], y[:, ind_split:]\n",
    "\n",
    "print(X_train.shape, y_train.shape)\n",
    "print(X_val.shape, y_val.shape)"
   ]
  },
  {
   "cell_type": "code",
   "execution_count": 36,
   "id": "0ae3bdf2-b682-49cf-bad4-efe91f223d89",
   "metadata": {},
   "outputs": [],
   "source": [
    "# A-B-C-D x 各区間10個ずつ\n",
    "# batch_size = 2\n",
    "# time_step = 3\n",
    "\n",
    "# AB0, AB1, AB2, ..., AB9\n",
    "# BC0, BC1, BC2, ..., BC9\n",
    "# CD0, CD1, CD2, ..., CD9\n",
    "\n",
    "# ABに限定するのであれば\n",
    "# [AB0, AB1, AB2], [AB1, AB2, AB3], ..., [AB7, AB8, AB9] -> 7個できる\n",
    "\n",
    "# バッチ数を区間数の倍数にすればいい？\n",
    "# [[AB0, AB1, AB2]\n",
    "# [BC0, BC1, BC2]\n",
    "# [CD0, CD1, CD2]]\n",
    "\n",
    "# 下みたいに区間に対応するラベルさえしっかり出力できるなら問題ない\n",
    "# [[AB0, AB1, AB2] -> AB3\n",
    "# [AB1, AB2, AB3] -> AB4\n",
    "# [AB5, AB6, AB7] -> AB8\n",
    "# [BC2, BC3, BC4] -> BC5\n",
    "# [BC7, BC8, BC9] -> BC10\n",
    "# [CD0, CD1, CD2]] -> CD3"
   ]
  },
  {
   "cell_type": "code",
   "execution_count": 80,
   "id": "ebfa37b1-5392-4960-92b5-caa873f73718",
   "metadata": {},
   "outputs": [],
   "source": [
    "# LSTM用のtime step, 区間のstackの処理はdatasetに投げる\n",
    "# dataloaderはミニバッチに区切るだけ\n",
    "class LSTMData(torch.utils.data.Dataset):\n",
    "    def __init__(self, data_X, data_y, time_step):\n",
    "        X, y = self.__sliding_window(data_X, data_y, time_step)       \n",
    "        self.X = X\n",
    "        self.y = y\n",
    "        self.time_step = time_step\n",
    "\n",
    "        \n",
    "    def __len__(self):\n",
    "        return self.X.shape[0]\n",
    "\n",
    "\n",
    "    def __getitem__(self, index):\n",
    "        return self.X[index], self.y[index]\n",
    "\n",
    "    \n",
    "    def __sliding_window(self, data_X, data_y, time_step):\n",
    "        N_sections, N_periods, _ = data_X.shape\n",
    "        X = []\n",
    "        y = []\n",
    "        \n",
    "        for i in range(N_sections):\n",
    "            # 各区間ごとにtime step分だけ切り出す\n",
    "            for t in range(N_periods-time_step):\n",
    "                x_ = data_X[i, t:t+time_step]\n",
    "                y_ = data_y[i, t+time_step]\n",
    "                X.append(x_)\n",
    "                y.append(y_)\n",
    "        \n",
    "        X = torch.from_numpy(np.array(X, dtype=np.float32))\n",
    "        y = torch.from_numpy(np.array(y, dtype=np.float32))\n",
    "        return X, y"
   ]
  },
  {
   "cell_type": "code",
   "execution_count": 81,
   "id": "43a17bfe-5110-4967-9810-f2b11c7bddfe",
   "metadata": {},
   "outputs": [],
   "source": [
    "class Net(nn.Module):\n",
    "    def __init__(self, in_dim, hid_dim, out_dim, num_layers, batch_first=True):\n",
    "        super().__init__()\n",
    "        \n",
    "        self.in_dim = in_dim\n",
    "        self.hid_dim = hid_dim\n",
    "        self.out_dim = out_dim\n",
    "        self.num_layers = num_layers\n",
    "        \n",
    "        self.lstm = nn.LSTM(in_dim, hid_dim, num_layers, batch_first=True)\n",
    "        self.fc = nn.Linear(hid_dim, out_dim)\n",
    "    \n",
    "    def forward(self, x):\n",
    "        outs, (h, c) = self.lstm(x)\n",
    "        out = self.fc(h[0])\n",
    "        return out"
   ]
  },
  {
   "cell_type": "code",
   "execution_count": 82,
   "id": "b8d9c737-7283-4dc1-9425-a50759155593",
   "metadata": {},
   "outputs": [],
   "source": [
    "def train(n_epochs, optimizer, model, loss_fn, train_loader, val_loader):\n",
    "    model.train()\n",
    "    \n",
    "    train_losses = []\n",
    "    val_losses = []\n",
    "    \n",
    "    for epoch in range(1, n_epochs + 1):\n",
    "        train_loss = 0.0\n",
    "        val_loss = 0.0\n",
    "        \n",
    "        for data, target in train_loader:\n",
    "            data = data.to(device=device)\n",
    "            target = target.unsqueeze(1).to(device=device)\n",
    "            \n",
    "            out = model(data)\n",
    "            loss = loss_fn(out, target)\n",
    "            \n",
    "            optimizer.zero_grad()\n",
    "            loss.backward()\n",
    "            optimizer.step()\n",
    "            \n",
    "            train_loss += loss.item()\n",
    "            \n",
    "        with torch.no_grad():\n",
    "            for data, target in val_loader:\n",
    "                data = data.to(device=device)\n",
    "                target = target.unsqueeze(1).to(device=device)\n",
    "\n",
    "                out = model(data)\n",
    "                loss = loss_fn(out, target)\n",
    "\n",
    "                val_loss += loss.item()\n",
    "        \n",
    "        train_losses.append(train_loss / len(train_loader))\n",
    "        val_losses.append(val_loss / len(val_loader))\n",
    "        \n",
    "        if epoch <= 3 or epoch % 50 == 0:\n",
    "            log = f'{dt.datetime.now()} | Epoch: {epoch}, Train Loss: {train_loss / len(train_loader)}, Valid Loss: {val_loss / len(val_loader)}'\n",
    "            print(log)\n",
    "            \n",
    "            with open('./logs_cars.txt', mode='a') as f:\n",
    "                f.write(log + '\\n')\n",
    "        \n",
    "    return train_losses, val_losses\n",
    "            \n",
    "\n",
    "def validate(model, train_loader, val_loader):\n",
    "    model.eval()\n",
    "    \n",
    "    loss_dict = {\n",
    "        'train': [],\n",
    "        'valid': []\n",
    "    }\n",
    "    for name, loader in [('train', train_loader), ('valid', val_loader)]:    \n",
    "        with torch.no_grad():\n",
    "            total_loss = 0.0\n",
    "            for data, target in loader:\n",
    "                data = data.to(device=device)\n",
    "                target = target.unsqueeze(1).to(device=device)\n",
    "                \n",
    "                out = model(data)\n",
    "                loss = loss_fn(out, target)\n",
    "                \n",
    "                total_loss += loss.item()\n",
    "                loss_dict[name].append(loss.item())\n",
    "               \n",
    "            print(f'{name} Accuracy: {total_loss / len(loader) :.3f}')\n",
    "    return loss_dict"
   ]
  },
  {
   "cell_type": "code",
   "execution_count": 83,
   "id": "d38b95f0-a275-4c54-96aa-64212e3d5f4a",
   "metadata": {},
   "outputs": [],
   "source": [
    "time_step = 12\n",
    "batch_size = 64\n",
    "\n",
    "dataset_train = LSTMData(X_train, y_train, time_step)\n",
    "dataset_valid = LSTMData(X_val, y_val, time_step)\n",
    "\n",
    "train_loader = torch.utils.data.DataLoader(dataset_train, batch_size=batch_size, shuffle=True)\n",
    "val_loader = torch.utils.data.DataLoader(dataset_valid, batch_size=batch_size, shuffle=False)"
   ]
  },
  {
   "cell_type": "code",
   "execution_count": null,
   "id": "7100d936-bee1-4285-a69a-9b0f875d4d41",
   "metadata": {},
   "outputs": [
    {
     "name": "stdout",
     "output_type": "stream",
     "text": [
      "2022-07-22 10:42:59.366980 | Epoch: 1, Train Loss: 90.74953823482443, Valid Loss: 44.092248659994866\n"
     ]
    }
   ],
   "source": [
    "n_epochs = 300\n",
    "in_dim = D\n",
    "hid_dim = 100\n",
    "out_dim = 1\n",
    "num_layers = 1\n",
    "\n",
    "model = Net(in_dim, hid_dim, out_dim, num_layers).to(device=device)\n",
    "optimizer = optim.Adam(model.parameters())\n",
    "\n",
    "loss_fn = nn.L1Loss()\n",
    "\n",
    "train_losses, val_losses = train(n_epochs, optimizer, model, loss_fn, train_loader, val_loader)"
   ]
  },
  {
   "cell_type": "code",
   "execution_count": 69,
   "id": "afb674a8-cb27-4040-ae77-1b140045fe1c",
   "metadata": {},
   "outputs": [
    {
     "data": {
      "image/png": "[encoded data removed]",
      "text/plain": [
       "<Figure size 504x360 with 1 Axes>"
      ]
     },
     "metadata": {
      "needs_background": "light"
     },
     "output_type": "display_data"
    }
   ],
   "source": [
    "fig, ax = plt.subplots(figsize=(7,5))\n",
    "ax.plot(range(len(train_losses)), train_losses)\n",
    "ax.plot(range(len(val_losses)), val_losses)\n",
    "ax.set_yscale('log')\n",
    "# ax.set_ylim(0, 1e3)\n",
    "plt.show()"
   ]
  },
  {
   "cell_type": "code",
   "execution_count": 70,
   "id": "313512b5-4c4d-48aa-ba0f-63c3d3e74035",
   "metadata": {},
   "outputs": [
    {
     "name": "stdout",
     "output_type": "stream",
     "text": [
      "train Accuracy: 10.380\n",
      "valid Accuracy: 16.120\n"
     ]
    }
   ],
   "source": [
    "loss_dict = validate(model, train_loader, val_loader)"
   ]
  },
  {
   "cell_type": "code",
   "execution_count": 399,
   "id": "1f122439-cf23-4510-9a91-ab1dfab22159",
   "metadata": {
    "tags": []
   },
   "outputs": [
    {
     "name": "stdout",
     "output_type": "stream",
     "text": [
      "------- 1 -------\n",
      "tensor(126.)\n",
      "tensor([115.0645], device='cuda:0')\n",
      "10.935508728027344\n",
      "\n",
      "------- 2 -------\n",
      "tensor(134.)\n",
      "tensor([134.9498], device='cuda:0')\n",
      "0.9497833251953125\n",
      "\n",
      "------- 3 -------\n",
      "tensor(170.)\n",
      "tensor([168.9665], device='cuda:0')\n",
      "1.0334625244140625\n",
      "\n",
      "------- 4 -------\n",
      "tensor(198.)\n",
      "tensor([204.4083], device='cuda:0')\n",
      "6.4083099365234375\n",
      "\n",
      "------- 5 -------\n",
      "tensor(179.)\n",
      "tensor([184.3132], device='cuda:0')\n",
      "5.313201904296875\n",
      "\n",
      "------- 6 -------\n",
      "tensor(202.)\n",
      "tensor([209.7910], device='cuda:0')\n",
      "7.79095458984375\n",
      "\n",
      "------- 7 -------\n",
      "tensor(224.)\n",
      "tensor([240.2662], device='cuda:0')\n",
      "16.266204833984375\n",
      "\n",
      "------- 8 -------\n",
      "tensor(317.)\n",
      "tensor([303.8457], device='cuda:0')\n",
      "13.154327392578125\n",
      "\n",
      "------- 9 -------\n",
      "tensor(383.)\n",
      "tensor([374.0816], device='cuda:0')\n",
      "8.918426513671875\n",
      "\n",
      "------- 10 -------\n",
      "tensor(440.)\n",
      "tensor([439.5305], device='cuda:0')\n",
      "0.469482421875\n",
      "\n"
     ]
    },
    {
     "name": "stderr",
     "output_type": "stream",
     "text": [
      "/tmp/ipykernel_65/1850680170.py:11: UserWarning: Using a target size (torch.Size([])) that is different to the input size (torch.Size([1])). This will likely lead to incorrect results due to broadcasting. Please ensure they have the same size.\n",
      "  print(torch.sqrt(nn.functional.mse_loss(out, target.to(device=device))).item())\n"
     ]
    }
   ],
   "source": [
    "with torch.no_grad():\n",
    "    i = 0\n",
    "    for data, target in dataset_train:\n",
    "        if i >= 10:\n",
    "            break\n",
    "        i += 1\n",
    "        print(f'------- {i} -------')\n",
    "        out = model(data.to(device=device))\n",
    "        print(target)\n",
    "        print(out)\n",
    "        print(torch.sqrt(nn.functional.mse_loss(out, target.to(device=device))).item())\n",
    "        print()"
   ]
  },
  {
   "cell_type": "code",
   "execution_count": 339,
   "id": "105cdb92-cd84-4abb-97f8-65ea5a5f3cf3",
   "metadata": {
    "collapsed": true,
    "jupyter": {
     "outputs_hidden": true
    },
    "tags": []
   },
   "outputs": [
    {
     "name": "stdout",
     "output_type": "stream",
     "text": [
      "2022-07-21 17:24:34.155558 | Epoch 1 | Loss: 65953.34375\n",
      "2022-07-21 17:24:40.475783 | Epoch 2 | Loss: 6871.1943359375\n",
      "2022-07-21 17:24:46.874386 | Epoch 3 | Loss: 11021.1640625\n"
     ]
    },
    {
     "ename": "KeyboardInterrupt",
     "evalue": "",
     "output_type": "error",
     "traceback": [
      "\u001b[0;31m---------------------------------------------------------------------------\u001b[0m",
      "\u001b[0;31mKeyboardInterrupt\u001b[0m                         Traceback (most recent call last)",
      "Input \u001b[0;32mIn [339]\u001b[0m, in \u001b[0;36m<cell line: 14>\u001b[0;34m()\u001b[0m\n\u001b[1;32m     14\u001b[0m \u001b[38;5;28;01mfor\u001b[39;00m epoch \u001b[38;5;129;01min\u001b[39;00m \u001b[38;5;28mrange\u001b[39m(n_epochs):\n\u001b[1;32m     15\u001b[0m     total_loss \u001b[38;5;241m=\u001b[39m \u001b[38;5;241m0\u001b[39m\n\u001b[0;32m---> 16\u001b[0m     \u001b[38;5;28;01mfor\u001b[39;00m data, target \u001b[38;5;129;01min\u001b[39;00m train_loader:\n\u001b[1;32m     17\u001b[0m         data \u001b[38;5;241m=\u001b[39m data\u001b[38;5;241m.\u001b[39mto(device\u001b[38;5;241m=\u001b[39mdevice)\n\u001b[1;32m     18\u001b[0m         target \u001b[38;5;241m=\u001b[39m target\u001b[38;5;241m.\u001b[39munsqueeze(\u001b[38;5;241m1\u001b[39m)\u001b[38;5;241m.\u001b[39mto(device\u001b[38;5;241m=\u001b[39mdevice)\n",
      "File \u001b[0;32m/usr/local/lib/python3.8/dist-packages/torch/utils/data/dataloader.py:652\u001b[0m, in \u001b[0;36m_BaseDataLoaderIter.__next__\u001b[0;34m(self)\u001b[0m\n\u001b[1;32m    649\u001b[0m \u001b[38;5;28;01mif\u001b[39;00m \u001b[38;5;28mself\u001b[39m\u001b[38;5;241m.\u001b[39m_sampler_iter \u001b[38;5;129;01mis\u001b[39;00m \u001b[38;5;28;01mNone\u001b[39;00m:\n\u001b[1;32m    650\u001b[0m     \u001b[38;5;66;03m# TODO(https://github.com/pytorch/pytorch/issues/76750)\u001b[39;00m\n\u001b[1;32m    651\u001b[0m     \u001b[38;5;28mself\u001b[39m\u001b[38;5;241m.\u001b[39m_reset()  \u001b[38;5;66;03m# type: ignore[call-arg]\u001b[39;00m\n\u001b[0;32m--> 652\u001b[0m data \u001b[38;5;241m=\u001b[39m \u001b[38;5;28;43mself\u001b[39;49m\u001b[38;5;241;43m.\u001b[39;49m\u001b[43m_next_data\u001b[49m\u001b[43m(\u001b[49m\u001b[43m)\u001b[49m\n\u001b[1;32m    653\u001b[0m \u001b[38;5;28mself\u001b[39m\u001b[38;5;241m.\u001b[39m_num_yielded \u001b[38;5;241m+\u001b[39m\u001b[38;5;241m=\u001b[39m \u001b[38;5;241m1\u001b[39m\n\u001b[1;32m    654\u001b[0m \u001b[38;5;28;01mif\u001b[39;00m \u001b[38;5;28mself\u001b[39m\u001b[38;5;241m.\u001b[39m_dataset_kind \u001b[38;5;241m==\u001b[39m _DatasetKind\u001b[38;5;241m.\u001b[39mIterable \u001b[38;5;129;01mand\u001b[39;00m \\\n\u001b[1;32m    655\u001b[0m         \u001b[38;5;28mself\u001b[39m\u001b[38;5;241m.\u001b[39m_IterableDataset_len_called \u001b[38;5;129;01mis\u001b[39;00m \u001b[38;5;129;01mnot\u001b[39;00m \u001b[38;5;28;01mNone\u001b[39;00m \u001b[38;5;129;01mand\u001b[39;00m \\\n\u001b[1;32m    656\u001b[0m         \u001b[38;5;28mself\u001b[39m\u001b[38;5;241m.\u001b[39m_num_yielded \u001b[38;5;241m>\u001b[39m \u001b[38;5;28mself\u001b[39m\u001b[38;5;241m.\u001b[39m_IterableDataset_len_called:\n",
      "File \u001b[0;32m/usr/local/lib/python3.8/dist-packages/torch/utils/data/dataloader.py:692\u001b[0m, in \u001b[0;36m_SingleProcessDataLoaderIter._next_data\u001b[0;34m(self)\u001b[0m\n\u001b[1;32m    690\u001b[0m \u001b[38;5;28;01mdef\u001b[39;00m \u001b[38;5;21m_next_data\u001b[39m(\u001b[38;5;28mself\u001b[39m):\n\u001b[1;32m    691\u001b[0m     index \u001b[38;5;241m=\u001b[39m \u001b[38;5;28mself\u001b[39m\u001b[38;5;241m.\u001b[39m_next_index()  \u001b[38;5;66;03m# may raise StopIteration\u001b[39;00m\n\u001b[0;32m--> 692\u001b[0m     data \u001b[38;5;241m=\u001b[39m \u001b[38;5;28;43mself\u001b[39;49m\u001b[38;5;241;43m.\u001b[39;49m\u001b[43m_dataset_fetcher\u001b[49m\u001b[38;5;241;43m.\u001b[39;49m\u001b[43mfetch\u001b[49m\u001b[43m(\u001b[49m\u001b[43mindex\u001b[49m\u001b[43m)\u001b[49m  \u001b[38;5;66;03m# may raise StopIteration\u001b[39;00m\n\u001b[1;32m    693\u001b[0m     \u001b[38;5;28;01mif\u001b[39;00m \u001b[38;5;28mself\u001b[39m\u001b[38;5;241m.\u001b[39m_pin_memory:\n\u001b[1;32m    694\u001b[0m         data \u001b[38;5;241m=\u001b[39m _utils\u001b[38;5;241m.\u001b[39mpin_memory\u001b[38;5;241m.\u001b[39mpin_memory(data, \u001b[38;5;28mself\u001b[39m\u001b[38;5;241m.\u001b[39m_pin_memory_device)\n",
      "File \u001b[0;32m/usr/local/lib/python3.8/dist-packages/torch/utils/data/_utils/fetch.py:52\u001b[0m, in \u001b[0;36m_MapDatasetFetcher.fetch\u001b[0;34m(self, possibly_batched_index)\u001b[0m\n\u001b[1;32m     50\u001b[0m \u001b[38;5;28;01melse\u001b[39;00m:\n\u001b[1;32m     51\u001b[0m     data \u001b[38;5;241m=\u001b[39m \u001b[38;5;28mself\u001b[39m\u001b[38;5;241m.\u001b[39mdataset[possibly_batched_index]\n\u001b[0;32m---> 52\u001b[0m \u001b[38;5;28;01mreturn\u001b[39;00m \u001b[38;5;28;43mself\u001b[39;49m\u001b[38;5;241;43m.\u001b[39;49m\u001b[43mcollate_fn\u001b[49m\u001b[43m(\u001b[49m\u001b[43mdata\u001b[49m\u001b[43m)\u001b[49m\n",
      "File \u001b[0;32m/usr/local/lib/python3.8/dist-packages/torch/utils/data/_utils/collate.py:175\u001b[0m, in \u001b[0;36mdefault_collate\u001b[0;34m(batch)\u001b[0m\n\u001b[1;32m    172\u001b[0m transposed \u001b[38;5;241m=\u001b[39m \u001b[38;5;28mlist\u001b[39m(\u001b[38;5;28mzip\u001b[39m(\u001b[38;5;241m*\u001b[39mbatch))  \u001b[38;5;66;03m# It may be accessed twice, so we use a list.\u001b[39;00m\n\u001b[1;32m    174\u001b[0m \u001b[38;5;28;01mif\u001b[39;00m \u001b[38;5;28misinstance\u001b[39m(elem, \u001b[38;5;28mtuple\u001b[39m):\n\u001b[0;32m--> 175\u001b[0m     \u001b[38;5;28;01mreturn\u001b[39;00m [default_collate(samples) \u001b[38;5;28;01mfor\u001b[39;00m samples \u001b[38;5;129;01min\u001b[39;00m transposed]  \u001b[38;5;66;03m# Backwards compatibility.\u001b[39;00m\n\u001b[1;32m    176\u001b[0m \u001b[38;5;28;01melse\u001b[39;00m:\n\u001b[1;32m    177\u001b[0m     \u001b[38;5;28;01mtry\u001b[39;00m:\n",
      "File \u001b[0;32m/usr/local/lib/python3.8/dist-packages/torch/utils/data/_utils/collate.py:175\u001b[0m, in \u001b[0;36m<listcomp>\u001b[0;34m(.0)\u001b[0m\n\u001b[1;32m    172\u001b[0m transposed \u001b[38;5;241m=\u001b[39m \u001b[38;5;28mlist\u001b[39m(\u001b[38;5;28mzip\u001b[39m(\u001b[38;5;241m*\u001b[39mbatch))  \u001b[38;5;66;03m# It may be accessed twice, so we use a list.\u001b[39;00m\n\u001b[1;32m    174\u001b[0m \u001b[38;5;28;01mif\u001b[39;00m \u001b[38;5;28misinstance\u001b[39m(elem, \u001b[38;5;28mtuple\u001b[39m):\n\u001b[0;32m--> 175\u001b[0m     \u001b[38;5;28;01mreturn\u001b[39;00m [\u001b[43mdefault_collate\u001b[49m\u001b[43m(\u001b[49m\u001b[43msamples\u001b[49m\u001b[43m)\u001b[49m \u001b[38;5;28;01mfor\u001b[39;00m samples \u001b[38;5;129;01min\u001b[39;00m transposed]  \u001b[38;5;66;03m# Backwards compatibility.\u001b[39;00m\n\u001b[1;32m    176\u001b[0m \u001b[38;5;28;01melse\u001b[39;00m:\n\u001b[1;32m    177\u001b[0m     \u001b[38;5;28;01mtry\u001b[39;00m:\n",
      "File \u001b[0;32m/usr/local/lib/python3.8/dist-packages/torch/utils/data/_utils/collate.py:141\u001b[0m, in \u001b[0;36mdefault_collate\u001b[0;34m(batch)\u001b[0m\n\u001b[1;32m    139\u001b[0m         storage \u001b[38;5;241m=\u001b[39m elem\u001b[38;5;241m.\u001b[39mstorage()\u001b[38;5;241m.\u001b[39m_new_shared(numel, device\u001b[38;5;241m=\u001b[39melem\u001b[38;5;241m.\u001b[39mdevice)\n\u001b[1;32m    140\u001b[0m         out \u001b[38;5;241m=\u001b[39m elem\u001b[38;5;241m.\u001b[39mnew(storage)\u001b[38;5;241m.\u001b[39mresize_(\u001b[38;5;28mlen\u001b[39m(batch), \u001b[38;5;241m*\u001b[39m\u001b[38;5;28mlist\u001b[39m(elem\u001b[38;5;241m.\u001b[39msize()))\n\u001b[0;32m--> 141\u001b[0m     \u001b[38;5;28;01mreturn\u001b[39;00m \u001b[43mtorch\u001b[49m\u001b[38;5;241;43m.\u001b[39;49m\u001b[43mstack\u001b[49m\u001b[43m(\u001b[49m\u001b[43mbatch\u001b[49m\u001b[43m,\u001b[49m\u001b[43m \u001b[49m\u001b[38;5;241;43m0\u001b[39;49m\u001b[43m,\u001b[49m\u001b[43m \u001b[49m\u001b[43mout\u001b[49m\u001b[38;5;241;43m=\u001b[39;49m\u001b[43mout\u001b[49m\u001b[43m)\u001b[49m\n\u001b[1;32m    142\u001b[0m \u001b[38;5;28;01melif\u001b[39;00m elem_type\u001b[38;5;241m.\u001b[39m\u001b[38;5;18m__module__\u001b[39m \u001b[38;5;241m==\u001b[39m \u001b[38;5;124m'\u001b[39m\u001b[38;5;124mnumpy\u001b[39m\u001b[38;5;124m'\u001b[39m \u001b[38;5;129;01mand\u001b[39;00m elem_type\u001b[38;5;241m.\u001b[39m\u001b[38;5;18m__name__\u001b[39m \u001b[38;5;241m!=\u001b[39m \u001b[38;5;124m'\u001b[39m\u001b[38;5;124mstr_\u001b[39m\u001b[38;5;124m'\u001b[39m \\\n\u001b[1;32m    143\u001b[0m         \u001b[38;5;129;01mand\u001b[39;00m elem_type\u001b[38;5;241m.\u001b[39m\u001b[38;5;18m__name__\u001b[39m \u001b[38;5;241m!=\u001b[39m \u001b[38;5;124m'\u001b[39m\u001b[38;5;124mstring_\u001b[39m\u001b[38;5;124m'\u001b[39m:\n\u001b[1;32m    144\u001b[0m     \u001b[38;5;28;01mif\u001b[39;00m elem_type\u001b[38;5;241m.\u001b[39m\u001b[38;5;18m__name__\u001b[39m \u001b[38;5;241m==\u001b[39m \u001b[38;5;124m'\u001b[39m\u001b[38;5;124mndarray\u001b[39m\u001b[38;5;124m'\u001b[39m \u001b[38;5;129;01mor\u001b[39;00m elem_type\u001b[38;5;241m.\u001b[39m\u001b[38;5;18m__name__\u001b[39m \u001b[38;5;241m==\u001b[39m \u001b[38;5;124m'\u001b[39m\u001b[38;5;124mmemmap\u001b[39m\u001b[38;5;124m'\u001b[39m:\n\u001b[1;32m    145\u001b[0m         \u001b[38;5;66;03m# array of string classes and object\u001b[39;00m\n",
      "\u001b[0;31mKeyboardInterrupt\u001b[0m: "
     ]
    }
   ],
   "source": [
    "n_epochs = 3000\n",
    "in_dim = X_train.shape[-1]\n",
    "hid_dim = 100\n",
    "out_dim = 1\n",
    "num_layers = 1\n",
    "\n",
    "model = Net(in_dim, hid_dim, out_dim, num_layers).to(device=device)\n",
    "optimizer = optim.Adam(model.parameters())\n",
    "\n",
    "loss_fn = nn.MSELoss()\n",
    "\n",
    "losses = []\n",
    "\n",
    "for epoch in range(n_epochs):\n",
    "    total_loss = 0\n",
    "    for data, target in train_loader:\n",
    "        data = data.to(device=device)\n",
    "        target = target.unsqueeze(1).to(device=device)\n",
    "        \n",
    "        out = model(data)\n",
    "        loss = loss_fn(out, target)\n",
    "        total_loss += loss\n",
    "        \n",
    "        optimizer.zero_grad()\n",
    "        loss.backward()\n",
    "        optimizer.step()\n",
    "    \n",
    "    losses.append(total_loss)\n",
    "\n",
    "    if epoch < 3 or (epoch + 1) % 100 == 0:\n",
    "        print(f'{dt.datetime.now()} | Epoch {epoch+1} | Loss: {loss}')"
   ]
  }
 ],
 "metadata": {
  "kernelspec": {
   "display_name": "Python 3 (ipykernel)",
   "language": "python",
   "name": "python3"
  },
  "language_info": {
   "codemirror_mode": {
    "name": "ipython",
    "version": 3
   },
   "file_extension": ".py",
   "mimetype": "text/x-python",
   "name": "python",
   "nbconvert_exporter": "python",
   "pygments_lexer": "ipython3",
   "version": "3.8.10"
  }
 },
 "nbformat": 4,
 "nbformat_minor": 5
}
