{
 "cells": [
  {
   "cell_type": "code",
   "execution_count": 1,
   "id": "85f9b686-4dee-4846-b006-9d3b39292662",
   "metadata": {},
   "outputs": [],
   "source": [
    "import datetime as dt\n",
    "import numpy as np\n",
    "import pandas as pd\n",
    "import matplotlib.pyplot as plt\n",
    "import seaborn as sns\n",
    "import tqdm\n",
    "\n",
    "from sklearn.preprocessing import StandardScaler\n",
    "from sklearn.metrics import confusion_matrix, accuracy_score, precision_score, recall_score, f1_score\n",
    "\n",
    "import torch\n",
    "import torch.nn as nn\n",
    "import torch.nn.functional as F\n",
    "import torch.optim as optim"
   ]
  },
  {
   "cell_type": "code",
   "execution_count": 3,
   "id": "5a66af52-fa9b-44a1-8e3d-7c1ab733e773",
   "metadata": {},
   "outputs": [
    {
     "data": {
      "text/plain": [
       "device(type='cuda', index=3)"
      ]
     },
     "execution_count": 3,
     "metadata": {},
     "output_type": "execute_result"
    }
   ],
   "source": [
    "device = torch.device(\"cuda:3\" if torch.cuda.is_available() else \"cpu\")\n",
    "device"
   ]
  },
  {
   "cell_type": "code",
   "execution_count": 2,
   "id": "529b47c5-ece1-4061-b622-f0c26c9de6d1",
   "metadata": {},
   "outputs": [],
   "source": [
    "# 道路名\n",
    "# TARGET_ROAD='tateyama'\n",
    "TARGET_ROAD='kannetsu'\n",
    "\n",
    "# 交通量\n",
    "PROCESSED_DATA_DIR = '../Input_processed_data'\n",
    "TRAFFIC_DIR = f'{PROCESSED_DATA_DIR}/traffic'\n",
    "TRAFFIC_CSV = f'{TRAFFIC_DIR}/{TARGET_ROAD}_20220621all-merged_filled_1h.csv'"
   ]
  },
  {
   "cell_type": "code",
   "execution_count": 3,
   "id": "3b58e808-e64e-4d7d-836d-04fd532a1054",
   "metadata": {
    "tags": []
   },
   "outputs": [],
   "source": [
    "col_types = {\n",
    "    'start_code': str,\n",
    "    'end_code': str,\n",
    "    'road_code': str,\n",
    "    'jam_type': str,\n",
    "}\n",
    "\n",
    "df = pd.read_csv(TRAFFIC_CSV, parse_dates=True, index_col='datetime', dtype=col_types).reset_index()"
   ]
  },
  {
   "cell_type": "code",
   "execution_count": null,
   "id": "967758d6-a98e-4166-8bbe-13c8cf15efb0",
   "metadata": {},
   "outputs": [],
   "source": [
    "def linear_interpolate(df, col):\n",
    "    '''\n",
    "    dfのcolカラム内の欠損を区間ごとに線形補間する\n",
    "    '''\n",
    "    f = lambda g: g.interpolate(method='linear', axis=0)\n",
    "    \n",
    "    df.sort_values('datetime', inplace=True)\n",
    "    df[col] = df.groupby(['start_code', 'end_code'])[col].apply(f)\n",
    "    return df\n",
    "\n",
    "\n",
    "def preprocess(df):\n",
    "    # 「年」情報を入れる\n",
    "    df['year'] = df['datetime'].dt.year\n",
    "    # 渋滞フラグ 0/1\n",
    "    df['jam_quantity'] = np.where(df['speed'] < 40, 1, 0)\n",
    "    # 方向を数値化\n",
    "    direction_map = {'上り': 0, '下り': 1}\n",
    "    df['direction'] = df['direction'].map(direction_map)\n",
    "    # 四半期を数値化\n",
    "    df['quarter'] = df['quarter'].str[-1]\n",
    "    \n",
    "    # object型のカラム, いらないカラムを落とす\n",
    "    drop_cols = [\n",
    "        'index', 'date', 'road_code', 'pressure', 'rainfall', \n",
    "        'temperature', 'humidity', 'wind_speed', 'daylight_hours', \n",
    "        'snowfall', 'deepest_snowfall', 'weather_description', 'jam_type'\n",
    "    ]\n",
    "    df.drop(drop_cols, axis=1, inplace=True)\n",
    "    \n",
    "    # 速度の欠損を埋める\n",
    "    df = linear_interpolate(df, 'speed')\n",
    "    # OCCを[0,1]に変換\n",
    "    df['OCC'] = df['OCC'] / 100.0\n",
    "    \n",
    "    # 型変換\n",
    "    f64_cols = df.select_dtypes(include=[np.float64]).columns\n",
    "    df.loc[:, f64_cols] = df.loc[:, f64_cols].astype(np.float32)\n",
    "    i64_cols = df.select_dtypes(include=[int]).columns\n",
    "    df.loc[:, i64_cols] = df.loc[:, i64_cols].astype(np.int32)\n",
    "    \n",
    "    type_map = {\n",
    "        'start_name': 'category',\n",
    "        'end_name': 'category',\n",
    "        'start_code': 'category',\n",
    "        'end_code': 'category',\n",
    "        'start_pref_code': 'category',\n",
    "        'end_pref_code': 'category',\n",
    "        'direction': 'category',\n",
    "        'month': 'category',\n",
    "        'day': 'category',\n",
    "        'dayofweek': 'category',\n",
    "        'is_holiday': 'category',\n",
    "        'hour': 'category',\n",
    "        'quarter': 'category',\n",
    "        'jam_quantity': 'category',\n",
    "        'start_degree': np.int32,\n",
    "        'end_degree': np.int32,\n",
    "        'degree_sum': np.int32,\n",
    "    }\n",
    "    df = df.astype(type_map)\n",
    "    \n",
    "    return df"
   ]
  },
  {
   "cell_type": "code",
   "execution_count": null,
   "id": "32b3218f-3684-4be0-a119-a9d7291777d5",
   "metadata": {},
   "outputs": [],
   "source": [
    "def create_dataset(df, start_date, end_date, pkl_name):\n",
    "    tmp = df.loc[(df['datetime'] >= pd.Timestamp(start_date)) & (df['datetime'] < pd.Timestamp(end_date))]\n",
    "    # tmp.reset_index(drop=True, inplace=True)\n",
    "    \n",
    "    tmp = preprocess(tmp.copy())\n",
    "    tmp.reset_index(drop=True, inplace=True)\n",
    "    \n",
    "    tmp.to_pickle(pkl_name)\n",
    "\n",
    "# whole dataset\n",
    "start_date = '2021/4/2'\n",
    "end_date = '2022/6/1'\n",
    "pkl_name = './datasets/kannetsu_210402-220531.pkl'\n",
    "\n",
    "create_dataset(df, start_date, end_date, pkl_name)\n",
    "\n",
    "# mini dataset\n",
    "start_date = '2021/4/2'\n",
    "end_date = '2021/6/1'\n",
    "pkl_name = './datasets/kannetsu_210402-210531.pkl'\n",
    "\n",
    "create_dataset(df, start_date, end_date, pkl_name)"
   ]
  },
  {
   "cell_type": "code",
   "execution_count": 96,
   "id": "c81481f0-5c87-4aff-926f-7285d607613f",
   "metadata": {
    "tags": []
   },
   "outputs": [],
   "source": [
    "start_date='2021/5/1'\n",
    "end_date='2022/5/1'\n",
    "\n",
    "df_test = df.loc[(df['datetime'] >= pd.Timestamp(start_date)) & (df['datetime'] < pd.Timestamp(end_date))]\n",
    "df_test.reset_index(drop=True, inplace=True)"
   ]
  },
  {
   "cell_type": "code",
   "execution_count": 97,
   "id": "ef1cca7e-4c73-44bd-a62f-0f345247053a",
   "metadata": {
    "tags": []
   },
   "outputs": [
    {
     "name": "stdout",
     "output_type": "stream",
     "text": [
      "<class 'pandas.core.frame.DataFrame'>\n",
      "RangeIndex: 551880 entries, 0 to 551879\n",
      "Data columns (total 51 columns):\n",
      " #   Column               Non-Null Count   Dtype         \n",
      "---  ------               --------------   -----         \n",
      " 0   datetime             551880 non-null  datetime64[ns]\n",
      " 1   index                551880 non-null  int64         \n",
      " 2   start_name           551880 non-null  object        \n",
      " 3   end_name             551880 non-null  object        \n",
      " 4   start_code           551880 non-null  object        \n",
      " 5   end_code             551880 non-null  object        \n",
      " 6   start_pref_code      551880 non-null  int64         \n",
      " 7   end_pref_code        551880 non-null  int64         \n",
      " 8   start_lat            551880 non-null  float64       \n",
      " 9   end_lat              551880 non-null  float64       \n",
      " 10  start_lng            551880 non-null  float64       \n",
      " 11  end_lng              551880 non-null  float64       \n",
      " 12  start_degree         551880 non-null  float64       \n",
      " 13  end_degree           551880 non-null  float64       \n",
      " 14  quarter              551880 non-null  object        \n",
      " 15  month                551880 non-null  int64         \n",
      " 16  day                  551880 non-null  int64         \n",
      " 17  dayofweek            551880 non-null  int64         \n",
      " 18  is_holiday           551880 non-null  int64         \n",
      " 19  hour                 551880 non-null  int64         \n",
      " 20  lane_count           551880 non-null  int64         \n",
      " 21  KP                   551880 non-null  float64       \n",
      " 22  direction            551880 non-null  object        \n",
      " 23  start_KP             551880 non-null  float64       \n",
      " 24  end_KP               551880 non-null  float64       \n",
      " 25  road_distance        551880 non-null  float64       \n",
      " 26  date                 551880 non-null  object        \n",
      " 27  pressure             551880 non-null  float64       \n",
      " 28  rainfall             551880 non-null  float64       \n",
      " 29  temperature          551880 non-null  float64       \n",
      " 30  humidity             551880 non-null  float64       \n",
      " 31  wind_speed           551880 non-null  float64       \n",
      " 32  daylight_hours       551880 non-null  float64       \n",
      " 33  snowfall             551880 non-null  float64       \n",
      " 34  deepest_snowfall     551880 non-null  float64       \n",
      " 35  weather_description  551880 non-null  object        \n",
      " 36  degree_sum           551880 non-null  float64       \n",
      " 37  limit_speed          551880 non-null  int64         \n",
      " 38  distance             551880 non-null  float64       \n",
      " 39  search_5min          551880 non-null  float64       \n",
      " 40  search_1h            551880 non-null  float64       \n",
      " 41  search_unspec_1d     551880 non-null  float64       \n",
      " 42  search_unspec_3d     551880 non-null  float64       \n",
      " 43  search_unspec_7d     551880 non-null  float64       \n",
      " 44  search_unspec_10d    551880 non-null  float64       \n",
      " 45  jam_type             2947 non-null    object        \n",
      " 46  road_code            551880 non-null  object        \n",
      " 47  allCars              551880 non-null  float64       \n",
      " 48  jam_quantity         551880 non-null  int64         \n",
      " 49  OCC                  551880 non-null  float64       \n",
      " 50  speed                550878 non-null  float64       \n",
      "dtypes: datetime64[ns](1), float64(29), int64(11), object(10)\n",
      "memory usage: 214.7+ MB\n"
     ]
    }
   ],
   "source": [
    "df_test.info()"
   ]
  },
  {
   "cell_type": "code",
   "execution_count": 98,
   "id": "2898041e-0cc7-420f-9363-73a3edc61e7d",
   "metadata": {},
   "outputs": [],
   "source": [
    "def linear_interpolate(df, col):\n",
    "    '''\n",
    "    dfのcolカラム内の欠損を区間ごとに線形補間する\n",
    "    '''\n",
    "    f = lambda g: g.interpolate(method='linear', axis=0)\n",
    "    \n",
    "    df.sort_values('datetime', inplace=True)\n",
    "    df[col] = df.groupby(['start_code', 'end_code'])[col].apply(f)\n",
    "    return df\n",
    "\n",
    "\n",
    "def judge_jam(df, road=TARGET_ROAD):\n",
    "    assert road in {'tateyama', 'kannetsu'}, 'road should be tateyama or kannetsu'\n",
    "    \n",
    "    sp = df_test['speed']\n",
    "    df['jam_flag'] = np.where(sp < 40, 1, 0)\n",
    "    return df\n",
    "\n",
    "\n",
    "def preprocess(df):\n",
    "    # 「年」情報を入れる\n",
    "    df['year'] = df['datetime'].dt.year\n",
    "    # 渋滞フラグ 0/1\n",
    "    df['jam_flag'] = np.where(df['speed'] < 40, 1, 0)\n",
    "    # 方向を数値化\n",
    "    direction_map = {'上り': 0, '下り': 1}\n",
    "    df['direction'] = df['direction'].map(direction_map)\n",
    "    # 四半期を数値化\n",
    "    df['quarter'] = df['quarter'].str[-1]\n",
    "    # object型のカラムを落とす\n",
    "    drop_cols = ['road_code', 'weather_description', 'jam_type']\n",
    "    df.drop(drop_cols, axis=1, inplace=True)\n",
    "    \n",
    "    # 速度の欠損を埋める\n",
    "    df = linear_interpolate(df, 'speed')\n",
    "    \n",
    "    # 型変換\n",
    "    type_map = {\n",
    "        'direction': np.uint8,\n",
    "        'quarter': np.uint8,\n",
    "        'jam_quantity': np.uint8,\n",
    "        'search_1h': int,\n",
    "        'search_unspec_1d': int,\n",
    "        'search_unspec_3d': int,\n",
    "        'search_unspec_7d': int,\n",
    "        'search_unspec_10d': int,\n",
    "        'allCars': np.float32,\n",
    "        'speed': np.float32,\n",
    "    }\n",
    "    df = df.astype(type_map)\n",
    "    \n",
    "    return df"
   ]
  },
  {
   "cell_type": "code",
   "execution_count": 99,
   "id": "9a480b6b-c458-4590-91b7-3452a081adc3",
   "metadata": {},
   "outputs": [
    {
     "name": "stdout",
     "output_type": "stream",
     "text": [
      "<class 'pandas.core.frame.DataFrame'>\n",
      "Int64Index: 551880 entries, 0 to 551879\n",
      "Data columns (total 50 columns):\n",
      " #   Column             Non-Null Count   Dtype         \n",
      "---  ------             --------------   -----         \n",
      " 0   datetime           551880 non-null  datetime64[ns]\n",
      " 1   index              551880 non-null  int64         \n",
      " 2   start_name         551880 non-null  object        \n",
      " 3   end_name           551880 non-null  object        \n",
      " 4   start_code         551880 non-null  object        \n",
      " 5   end_code           551880 non-null  object        \n",
      " 6   start_pref_code    551880 non-null  int64         \n",
      " 7   end_pref_code      551880 non-null  int64         \n",
      " 8   start_lat          551880 non-null  float64       \n",
      " 9   end_lat            551880 non-null  float64       \n",
      " 10  start_lng          551880 non-null  float64       \n",
      " 11  end_lng            551880 non-null  float64       \n",
      " 12  start_degree       551880 non-null  float64       \n",
      " 13  end_degree         551880 non-null  float64       \n",
      " 14  quarter            551880 non-null  uint8         \n",
      " 15  month              551880 non-null  int64         \n",
      " 16  day                551880 non-null  int64         \n",
      " 17  dayofweek          551880 non-null  int64         \n",
      " 18  is_holiday         551880 non-null  int64         \n",
      " 19  hour               551880 non-null  int64         \n",
      " 20  lane_count         551880 non-null  int64         \n",
      " 21  KP                 551880 non-null  float64       \n",
      " 22  direction          551880 non-null  uint8         \n",
      " 23  start_KP           551880 non-null  float64       \n",
      " 24  end_KP             551880 non-null  float64       \n",
      " 25  road_distance      551880 non-null  float64       \n",
      " 26  date               551880 non-null  object        \n",
      " 27  pressure           551880 non-null  float64       \n",
      " 28  rainfall           551880 non-null  float64       \n",
      " 29  temperature        551880 non-null  float64       \n",
      " 30  humidity           551880 non-null  float64       \n",
      " 31  wind_speed         551880 non-null  float64       \n",
      " 32  daylight_hours     551880 non-null  float64       \n",
      " 33  snowfall           551880 non-null  float64       \n",
      " 34  deepest_snowfall   551880 non-null  float64       \n",
      " 35  degree_sum         551880 non-null  float64       \n",
      " 36  limit_speed        551880 non-null  int64         \n",
      " 37  distance           551880 non-null  float64       \n",
      " 38  search_5min        551880 non-null  float64       \n",
      " 39  search_1h          551880 non-null  int64         \n",
      " 40  search_unspec_1d   551880 non-null  int64         \n",
      " 41  search_unspec_3d   551880 non-null  int64         \n",
      " 42  search_unspec_7d   551880 non-null  int64         \n",
      " 43  search_unspec_10d  551880 non-null  int64         \n",
      " 44  allCars            551880 non-null  float32       \n",
      " 45  jam_quantity       551880 non-null  uint8         \n",
      " 46  OCC                551880 non-null  float64       \n",
      " 47  speed              551880 non-null  float32       \n",
      " 48  year               551880 non-null  int64         \n",
      " 49  jam_flag           551880 non-null  int64         \n",
      "dtypes: datetime64[ns](1), float32(2), float64(22), int64(17), object(5), uint8(3)\n",
      "memory usage: 199.5+ MB\n"
     ]
    }
   ],
   "source": [
    "df_test = preprocess(df_test.copy())\n",
    "df_test.info()"
   ]
  },
  {
   "cell_type": "code",
   "execution_count": 100,
   "id": "0b39c58f-57dc-48c9-a557-0f5e71ead960",
   "metadata": {},
   "outputs": [],
   "source": [
    "key_col = ['datetime', 'start_name', 'end_name']\n",
    "features = [\n",
    "    'hour', 'dayofweek', 'is_holiday', 'lane_count', \n",
    "    'search_1h', 'search_unspec_1d', 'allCars', 'speed', 'OCC', 'jam_flag'\n",
    "]\n",
    "target = 'jam_flag'"
   ]
  },
  {
   "cell_type": "code",
   "execution_count": 101,
   "id": "dbce3814-436d-4547-a3fb-479f7fc14c0e",
   "metadata": {},
   "outputs": [
    {
     "name": "stdout",
     "output_type": "stream",
     "text": [
      "(63, 8760, 10) (63, 8760)\n"
     ]
    }
   ],
   "source": [
    "# 特徴量を絞る\n",
    "df_X = df_test.loc[:, key_col + features]\n",
    "df_y = df_test.loc[:, target]\n",
    "\n",
    "# データ数\n",
    "N = df_X.shape[0]\n",
    "# 時系列長\n",
    "N_period = df_X.drop_duplicates(\"datetime\").shape[0]\n",
    "# 区間数\n",
    "N_sec = df_X.drop_duplicates([\"start_name\", \"end_name\"]).shape[0]\n",
    "# 特徴量数\n",
    "D = len(features)\n",
    "\n",
    "# numpy配列を準備\n",
    "X = np.empty((N_sec, N_period, D), dtype=np.float32)\n",
    "y = np.empty((N_sec, N_period), dtype=np.float32)\n",
    "\n",
    "print(X.shape, y.shape)"
   ]
  },
  {
   "cell_type": "code",
   "execution_count": 102,
   "id": "1174144f-e6b7-4b14-a513-239091d39383",
   "metadata": {},
   "outputs": [
    {
     "name": "stdout",
     "output_type": "stream",
     "text": [
      "(63, 8760, 10) (63, 8760)\n"
     ]
    }
   ],
   "source": [
    "# 区間別に時系列情報をnumpy配列に格納する\n",
    "group = df_X.groupby(['start_name', 'end_name'])\n",
    "for i, (g_key, df_g) in enumerate(group):\n",
    "    X[i] = df_g.loc[:, features].values\n",
    "    y[i] = df_g.loc[:, target].values\n",
    "\n",
    "print(X.shape, y.shape)"
   ]
  },
  {
   "cell_type": "code",
   "execution_count": 103,
   "id": "3ae885c7-444a-4ceb-be4c-2dc48a2248a0",
   "metadata": {},
   "outputs": [],
   "source": [
    "# 標準化\n",
    "# scaler = StandardScaler()\n",
    "# scaler.fit(X)\n",
    "# X_norm = X.transform(X)\n",
    "X_mean = X.reshape(-1, D).mean(axis=0)\n",
    "X_std = X.reshape(-1, D).std(axis=0)\n",
    "\n",
    "X_norm = (X - X_mean) / X_std"
   ]
  },
  {
   "cell_type": "code",
   "execution_count": 429,
   "id": "04afb85d-d29b-4a54-8584-37c3bc3ece0e",
   "metadata": {},
   "outputs": [],
   "source": [
    "# 渋滞発生回数が0のものは除く\n",
    "compress_condition = y.sum(axis=1) > 3\n",
    "\n",
    "X_norm = X_norm[compress_condition > 0, ...]\n",
    "y = y[compress_condition > 0, ...]"
   ]
  },
  {
   "cell_type": "code",
   "execution_count": 430,
   "id": "d636d6b7-b897-4c86-b1a3-cfa44ea2b1b0",
   "metadata": {},
   "outputs": [
    {
     "name": "stdout",
     "output_type": "stream",
     "text": [
      "(43, 7008, 10) (43, 7008)\n",
      "(43, 1752, 10) (43, 1752)\n"
     ]
    }
   ],
   "source": [
    "# train, validに分割\n",
    "train_ratio = 0.8\n",
    "ind_split = int(X_norm.shape[1] * train_ratio)\n",
    "X_train, X_val = X_norm[:, :ind_split], X_norm[:, ind_split:]\n",
    "y_train, y_val = y[:, :ind_split], y[:, ind_split:]\n",
    "\n",
    "print(X_train.shape, y_train.shape)\n",
    "print(X_val.shape, y_val.shape)"
   ]
  },
  {
   "cell_type": "code",
   "execution_count": 105,
   "id": "0ae3bdf2-b682-49cf-bad4-efe91f223d89",
   "metadata": {},
   "outputs": [],
   "source": [
    "# A-B-C-D x 各区間10個ずつ\n",
    "# batch_size = 2\n",
    "# time_step = 3\n",
    "\n",
    "# AB0, AB1, AB2, ..., AB9\n",
    "# BC0, BC1, BC2, ..., BC9\n",
    "# CD0, CD1, CD2, ..., CD9\n",
    "\n",
    "# ABに限定するのであれば\n",
    "# [AB0, AB1, AB2], [AB1, AB2, AB3], ..., [AB7, AB8, AB9] -> 7個できる\n",
    "\n",
    "# バッチ数を区間数の倍数にすればいい？\n",
    "# [[AB0, AB1, AB2]\n",
    "# [BC0, BC1, BC2]\n",
    "# [CD0, CD1, CD2]]\n",
    "\n",
    "# 下みたいに区間に対応するラベルさえしっかり出力できるなら問題ない\n",
    "# [[AB0, AB1, AB2] -> AB3\n",
    "# [AB1, AB2, AB3] -> AB4\n",
    "# [AB5, AB6, AB7] -> AB8\n",
    "# [BC2, BC3, BC4] -> BC5\n",
    "# [BC7, BC8, BC9] -> BC10\n",
    "# [CD0, CD1, CD2]] -> CD3"
   ]
  },
  {
   "cell_type": "code",
   "execution_count": 448,
   "id": "ebfa37b1-5392-4960-92b5-caa873f73718",
   "metadata": {},
   "outputs": [],
   "source": [
    "# LSTM用のtime step, 区間のstackの処理はdatasetに投げる\n",
    "# dataloaderはミニバッチに区切るだけ\n",
    "class LSTMData(torch.utils.data.Dataset):\n",
    "    def __init__(self, data_X, data_y, time_step):\n",
    "        X, y = self.__sliding_window(data_X, data_y, time_step)       \n",
    "        self.X = X\n",
    "        self.y = y\n",
    "        self.time_step = time_step\n",
    "\n",
    "        \n",
    "    def __len__(self):\n",
    "        return self.X.shape[0]\n",
    "\n",
    "\n",
    "    def __getitem__(self, index):\n",
    "        return self.X[index], self.y[index]\n",
    "\n",
    "    \n",
    "    def __sliding_window(self, data_X, data_y, time_step):\n",
    "        N_sections, N_periods, _ = data_X.shape\n",
    "        X = []\n",
    "        y = []\n",
    "        \n",
    "        for i in range(N_sections):\n",
    "            # 各区間ごとにtime step分だけ切り出す\n",
    "            for t in range(time_step, N_periods-24):\n",
    "                time_pred = t + 24\n",
    "                time_input = (t - time_step, t + 1)\n",
    "                x_ = data_X[i, time_input[0] : time_input[1]]\n",
    "                y_ = data_y[i, time_pred]\n",
    "                X.append(x_)\n",
    "                y.append(y_)\n",
    "        \n",
    "        X = torch.from_numpy(np.array(X, dtype=np.float32))\n",
    "        y = torch.from_numpy(np.array(y, dtype=np.int64))\n",
    "        return X, y"
   ]
  },
  {
   "cell_type": "code",
   "execution_count": 539,
   "id": "611787c4-adb9-4c7c-84c6-82cd10bc6e2a",
   "metadata": {
    "tags": []
   },
   "outputs": [],
   "source": [
    "class BalancedLoader:\n",
    "    def __init__(self, dataset, batch_size):\n",
    "        self.features = dataset[:][0]\n",
    "        self.labels = dataset[:][1]\n",
    "        assert batch_size % 2 == 0\n",
    "        self.batch_size = batch_size\n",
    "        self.n_samples = batch_size // 2\n",
    "        \n",
    "        label_counts = np.bincount(self.labels)\n",
    "        if label_counts.shape[0] != 2:\n",
    "            raise ValueError(f'Expected 2 class but got {label_counts.shape[0]} class')\n",
    "        if label_counts.min() < self.n_samples:\n",
    "            raise ValueError('`n_samples` must be less than minor label data size')\n",
    "            \n",
    "        major_label = label_counts.argmax()\n",
    "        minor_label = label_counts.argmin()\n",
    "        self.major_indices = np.where(self.labels == major_label)[0]\n",
    "        self.minor_indices = np.where(self.labels == minor_label)[0]\n",
    "        \n",
    "        np.random.shuffle(self.major_indices)\n",
    "            \n",
    "    def __iter__(self):\n",
    "        count = 0\n",
    "        while count + self.n_samples < len(self.major_indices):\n",
    "            mini_major_indices = self.major_indices[count:count+self.n_samples]\n",
    "            mini_minor_indices = np.random.choice(self.minor_indices, self.n_samples, replace=False)\n",
    "            mini_indices = mini_major_indices.tolist() + mini_minor_indices.tolist()\n",
    "            \n",
    "            features = self.features[mini_indices]\n",
    "            labels = self.labels[mini_indices]\n",
    "            yield features, labels\n",
    "            \n",
    "            count += self.n_samples\n",
    "    \n",
    "    def __len__(self):\n",
    "        return len(self.labels) // self.batch_size"
   ]
  },
  {
   "cell_type": "code",
   "execution_count": 433,
   "id": "43a17bfe-5110-4967-9810-f2b11c7bddfe",
   "metadata": {},
   "outputs": [],
   "source": [
    "class Net(nn.Module):\n",
    "    def __init__(self, in_dim, hid_dim, out_dim, num_layers, batch_first=True):\n",
    "        super().__init__()\n",
    "        \n",
    "        self.in_dim = in_dim\n",
    "        self.hid_dim = hid_dim\n",
    "        self.out_dim = out_dim\n",
    "        self.num_layers = num_layers\n",
    "        \n",
    "        self.lstm = nn.LSTM(in_dim, hid_dim, num_layers, batch_first=True)\n",
    "        self.fc = nn.Linear(hid_dim, out_dim)\n",
    "    \n",
    "    def forward(self, x):\n",
    "        outs, (h, c) = self.lstm(x)\n",
    "        out = self.fc(h[0])\n",
    "        return out\n",
    "    \n",
    "\n",
    "class DropNet(nn.Module):\n",
    "    def __init__(self, in_dim, hid_dim, out_dim, num_layers, dropout=0.2, batch_first=True):\n",
    "        super().__init__()\n",
    "        \n",
    "        self.in_dim = in_dim\n",
    "        self.hid_dim = hid_dim\n",
    "        self.out_dim = out_dim\n",
    "        self.num_layers = num_layers\n",
    "        self.dropout_ratio = dropout\n",
    "        \n",
    "        self.lstm = nn.LSTM(in_dim, hid_dim, num_layers, batch_first=True)\n",
    "        self.dropout1 = nn.Dropout(p=dropout)\n",
    "        self.fc1 = nn.Linear(hid_dim, hid_dim // 4)\n",
    "        self.dropout2 = nn.Dropout(p=dropout)\n",
    "        self.fc2 = nn.Linear(hid_dim // 4, out_dim)\n",
    "        \n",
    "        self.dropout = nn.Dropout(p=dropout)\n",
    "    \n",
    "    def forward(self, x):\n",
    "        outs, (h, c) = self.lstm(x)\n",
    "        out = self.dropout1(h[0])\n",
    "        out = self.fc1(out)\n",
    "        out = self.dropout2(out)\n",
    "        out = self.fc2(out)\n",
    "        return out"
   ]
  },
  {
   "cell_type": "code",
   "execution_count": 434,
   "id": "b8d9c737-7283-4dc1-9425-a50759155593",
   "metadata": {},
   "outputs": [],
   "source": [
    "def train(n_epochs, optimizer, model, loss_fn, train_loader, val_loader, file_output=True):\n",
    "    model.train()\n",
    "    \n",
    "    train_losses = []\n",
    "    val_losses = []\n",
    "    \n",
    "    for epoch in range(1, n_epochs + 1):\n",
    "        train_loss = 0.0\n",
    "        val_loss = 0.0\n",
    "        \n",
    "        for data, target in train_loader:\n",
    "            data = data.to(device=device)\n",
    "            target = target.to(device=device)\n",
    "            target = F.one_hot(target, num_classes=2).float()\n",
    "            \n",
    "            out = model(data)\n",
    "            loss = loss_fn(out, target)\n",
    "            \n",
    "            optimizer.zero_grad()\n",
    "            loss.backward()\n",
    "            optimizer.step()\n",
    "            \n",
    "            train_loss += loss.item()\n",
    "            \n",
    "        with torch.no_grad():\n",
    "            for data, target in val_loader:\n",
    "                data = data.to(device=device)\n",
    "                target = target.to(device=device)\n",
    "                target = F.one_hot(target, num_classes=2).float()\n",
    "\n",
    "                out = model(data)\n",
    "                loss = loss_fn(out, target)\n",
    "\n",
    "                val_loss += loss.item()\n",
    "        \n",
    "        train_losses.append(train_loss / len(train_loader))\n",
    "        val_losses.append(val_loss / len(val_loader))\n",
    "        \n",
    "        if epoch <= 3 or epoch % 10 == 0:\n",
    "            log = f'{dt.datetime.now()} | Epoch: {epoch}, Train Loss: {train_loss / len(train_loader)}, Valid Loss: {val_loss / len(val_loader)}'\n",
    "            print(log)\n",
    "            \n",
    "            if file_output:\n",
    "                with open('./logs_cars.txt', mode='a') as f:\n",
    "                    f.write(log + '\\n')\n",
    "        \n",
    "    return train_losses, val_losses\n",
    "            \n",
    "\n",
    "def validate(model, train_loader, val_loader):\n",
    "    model.eval()\n",
    "    \n",
    "    loss_dict = {\n",
    "        'train': [],\n",
    "        'valid': []\n",
    "    }\n",
    "    for name, loader in [('train', train_loader), ('valid', val_loader)]:    \n",
    "        with torch.no_grad():\n",
    "            tp, fp, fn, tn = 0, 0, 0, 0\n",
    "            for data, target in loader:\n",
    "                data = data.to(device=device)\n",
    "                target = target.to(device=device)\n",
    "                \n",
    "                out = model(data)\n",
    "                _, predicted = torch.max(out, dim=1)\n",
    "                tp += ((predicted == 1) & (target == 1)).sum()\n",
    "                fp += ((predicted == 1) & (target == 0)).sum()\n",
    "                fn += ((predicted == 0) & (target == 1)).sum()\n",
    "                tn += ((predicted == 0) & (target == 0)).sum()\n",
    "\n",
    "            accuracy = (tp + tn) / (tp + fp + fn + tn)\n",
    "            precision = tp / (tp + fp)\n",
    "            recall = tp / (tp + fn)\n",
    "            f1 = 2 * precision * recall / (precision + recall)\n",
    "               \n",
    "            print(f'{name} Accuracy: {accuracy:.3f}')\n",
    "            print(f'{name} Precision: {precision:.3f}')\n",
    "            print(f'{name} Recall: {recall:.3f}')\n",
    "            print(f'{name} F1 Score: {f1:.3f}')\n",
    "    return loss_dict"
   ]
  },
  {
   "cell_type": "code",
   "execution_count": 435,
   "id": "d38b95f0-a275-4c54-96aa-64212e3d5f4a",
   "metadata": {},
   "outputs": [],
   "source": [
    "time_step = 6\n",
    "batch_size = 256\n",
    "\n",
    "dataset_train = LSTMData(X_train, y_train, time_step)\n",
    "dataset_valid = LSTMData(X_val, y_val, time_step)\n",
    "\n",
    "train_loader = torch.utils.data.DataLoader(dataset_train, batch_size=batch_size, shuffle=True)\n",
    "val_loader = torch.utils.data.DataLoader(dataset_valid, batch_size=batch_size, shuffle=False)"
   ]
  },
  {
   "cell_type": "code",
   "execution_count": 446,
   "id": "7100d936-bee1-4285-a69a-9b0f875d4d41",
   "metadata": {
    "tags": []
   },
   "outputs": [
    {
     "name": "stdout",
     "output_type": "stream",
     "text": [
      "2022-07-30 09:26:54.020494 | Epoch: 1, Train Loss: 0.19972445009400874, Valid Loss: 0.15968470053119055\n",
      "2022-07-30 09:26:58.242132 | Epoch: 2, Train Loss: 0.09536364662427436, Valid Loss: 0.11597020121543178\n",
      "2022-07-30 09:27:02.128759 | Epoch: 3, Train Loss: 0.06699817393320144, Valid Loss: 0.09718669384926513\n",
      "2022-07-30 09:27:29.621375 | Epoch: 10, Train Loss: 0.027218887410693726, Valid Loss: 0.08107169138408488\n",
      "2022-07-30 09:28:08.784791 | Epoch: 20, Train Loss: 0.015234904639913316, Valid Loss: 0.07918859077280192\n"
     ]
    }
   ],
   "source": [
    "n_epochs = 20\n",
    "in_dim = D\n",
    "hid_dim = 64\n",
    "out_dim = 2\n",
    "num_layers = 1\n",
    "\n",
    "model = Net(in_dim, hid_dim, out_dim, num_layers).to(device=device)\n",
    "optimizer = optim.Adam(model.parameters())\n",
    "\n",
    "# loss_weights = torch.tensor([1.0, 100.0]).to(device=device)\n",
    "# loss_fn = nn.BCEWithLogitsLoss(weight=loss_weights)\n",
    "loss_fn = nn.BCEWithLogitsLoss()\n",
    "\n",
    "train_losses, val_losses = train(n_epochs, optimizer, model, loss_fn, train_loader, val_loader)"
   ]
  },
  {
   "cell_type": "code",
   "execution_count": 438,
   "id": "afb674a8-cb27-4040-ae77-1b140045fe1c",
   "metadata": {
    "collapsed": true,
    "jupyter": {
     "outputs_hidden": true
    },
    "tags": []
   },
   "outputs": [
    {
     "data": {
      "image/png": "[encoded data removed]",
      "text/plain": [
       "<Figure size 504x360 with 1 Axes>"
      ]
     },
     "metadata": {
      "needs_background": "light"
     },
     "output_type": "display_data"
    }
   ],
   "source": [
    "fig, ax = plt.subplots(figsize=(7,5))\n",
    "ax.plot(range(len(train_losses)), train_losses)\n",
    "ax.plot(range(len(val_losses)), val_losses)\n",
    "# ax.set_yscale('log')\n",
    "# ax.set_ylim(0, 1e3)\n",
    "plt.show()"
   ]
  },
  {
   "cell_type": "code",
   "execution_count": 439,
   "id": "313512b5-4c4d-48aa-ba0f-63c3d3e74035",
   "metadata": {},
   "outputs": [
    {
     "name": "stdout",
     "output_type": "stream",
     "text": [
      "train Accuracy: 0.996\n",
      "train Precision: 0.658\n",
      "train Recall: 0.386\n",
      "train F1 Score: 0.487\n",
      "valid Accuracy: 0.995\n",
      "valid Precision: 0.375\n",
      "valid Recall: 0.182\n",
      "valid F1 Score: 0.245\n"
     ]
    }
   ],
   "source": [
    "loss_dict = validate(model, train_loader, val_loader)"
   ]
  },
  {
   "cell_type": "code",
   "execution_count": null,
   "id": "03fa5f65-e10f-4616-84c3-923c0c42bbfc",
   "metadata": {},
   "outputs": [],
   "source": []
  },
  {
   "cell_type": "code",
   "execution_count": null,
   "id": "c02c73a4-0207-4837-9713-3183f4956c0d",
   "metadata": {},
   "outputs": [],
   "source": []
  },
  {
   "cell_type": "code",
   "execution_count": null,
   "id": "23320e90-1eea-49ea-8ae5-377cd3c39149",
   "metadata": {},
   "outputs": [],
   "source": []
  },
  {
   "cell_type": "code",
   "execution_count": null,
   "id": "adfcc1a5-a0e4-4650-9e59-fb2cd26199cf",
   "metadata": {},
   "outputs": [],
   "source": []
  },
  {
   "cell_type": "code",
   "execution_count": null,
   "id": "6e710906-c697-4868-9700-ddab7f03c37b",
   "metadata": {},
   "outputs": [],
   "source": []
  },
  {
   "cell_type": "code",
   "execution_count": null,
   "id": "4df02acf-6fc1-49b2-b713-2b267cb704c4",
   "metadata": {},
   "outputs": [],
   "source": []
  },
  {
   "cell_type": "code",
   "execution_count": null,
   "id": "bb2b0cfc-b97b-47bd-a324-fa4c19269908",
   "metadata": {},
   "outputs": [],
   "source": []
  },
  {
   "cell_type": "markdown",
   "id": "d164e144-00e7-48f0-9d69-c30efc393368",
   "metadata": {},
   "source": [
    "## balanced"
   ]
  },
  {
   "cell_type": "code",
   "execution_count": 469,
   "id": "3fd6bc73-7c84-4672-99d2-2e90690f1b29",
   "metadata": {},
   "outputs": [],
   "source": [
    "class FocalLoss(nn.Module):\n",
    "    def __init__(self, gamma):\n",
    "        super(FocalLoss, self).__init__()\n",
    "        self.gamma = gamma\n",
    "\n",
    "    def forward(self, outputs, targets): \n",
    "        bce_loss = F.binary_cross_entropy_with_logits(outputs, targets)\n",
    "        logpt = -bce_loss\n",
    "        pt = torch.exp(logpt)\n",
    "        focal_loss = -((1 - pt) ** self.gamma) * logpt\n",
    "        return focal_loss"
   ]
  },
  {
   "cell_type": "code",
   "execution_count": 465,
   "id": "2144aed8-dc25-4d7d-9a6b-e9b46a92ad0b",
   "metadata": {},
   "outputs": [],
   "source": [
    "time_step = 168\n",
    "batch_size = 512\n",
    "\n",
    "dataset_train = LSTMData(X_train, y_train, time_step)\n",
    "dataset_valid = LSTMData(X_val, y_val, time_step)\n",
    "\n",
    "train_loader = BalancedLoader(dataset_train, batch_size=batch_size, shuffle=True)\n",
    "val_loader = torch.utils.data.DataLoader(dataset_valid, batch_size=batch_size, shuffle=False)"
   ]
  },
  {
   "cell_type": "code",
   "execution_count": 512,
   "id": "7cc24422-3233-4a17-ac3a-a46e5a9d8e4e",
   "metadata": {
    "tags": []
   },
   "outputs": [
    {
     "name": "stdout",
     "output_type": "stream",
     "text": [
      "2022-08-03 07:17:21.760237 | Epoch: 1, Train Loss: 0.01477026361914857, Valid Loss: 0.015908721381144846\n",
      "2022-08-03 07:17:31.510796 | Epoch: 2, Train Loss: 0.0033780624932602137, Valid Loss: 0.0067851323877455415\n",
      "2022-08-03 07:17:41.181359 | Epoch: 3, Train Loss: 0.001989645339666945, Valid Loss: 0.006257541537063203\n"
     ]
    }
   ],
   "source": [
    "n_epochs = 7\n",
    "in_dim = D\n",
    "hid_dim = 64\n",
    "out_dim = 2\n",
    "num_layers = 2\n",
    "\n",
    "# model_balanced = DropNet(in_dim, hid_dim, out_dim, num_layers, dropout=0.25).to(device=device)\n",
    "model_balanced = Net(in_dim, hid_dim, out_dim, num_layers).to(device=device)\n",
    "optimizer = optim.Adam(model_balanced.parameters())\n",
    "\n",
    "# weights = torch.tensor([1.0, 100.0]).to(device=device)\n",
    "# loss_fn = nn.BCEWithLogitsLoss()\n",
    "loss_fn = FocalLoss(gamma=2.0)\n",
    "\n",
    "train_losses, val_losses = train(n_epochs, optimizer, model_balanced, loss_fn, train_loader, val_loader)"
   ]
  },
  {
   "cell_type": "code",
   "execution_count": 516,
   "id": "2de1aeca-3bb5-4d5c-ac71-35f2d63d338d",
   "metadata": {
    "collapsed": true,
    "jupyter": {
     "outputs_hidden": true
    },
    "tags": []
   },
   "outputs": [
    {
     "data": {
      "image/png": "[encoded data removed]",
      "text/plain": [
       "<Figure size 504x360 with 1 Axes>"
      ]
     },
     "metadata": {
      "needs_background": "light"
     },
     "output_type": "display_data"
    }
   ],
   "source": [
    "fig, ax = plt.subplots(figsize=(7,5))\n",
    "ax.plot(range(len(train_losses)), train_losses)\n",
    "ax.plot(range(len(val_losses)), val_losses)\n",
    "# ax.set_yscale('log')\n",
    "# ax.set_ylim(0, 1e3)\n",
    "plt.show()"
   ]
  },
  {
   "cell_type": "code",
   "execution_count": 513,
   "id": "4094811c-ab77-456a-b1d2-8813cb075281",
   "metadata": {},
   "outputs": [
    {
     "name": "stdout",
     "output_type": "stream",
     "text": [
      "train Accuracy: 0.976\n",
      "train Precision: 0.961\n",
      "train Recall: 0.993\n",
      "train F1 Score: 0.976\n",
      "valid Accuracy: 0.963\n",
      "valid Precision: 0.076\n",
      "valid Recall: 0.633\n",
      "valid F1 Score: 0.136\n"
     ]
    }
   ],
   "source": [
    "loss_dict = validate(model_balanced, train_loader, val_loader)"
   ]
  },
  {
   "cell_type": "code",
   "execution_count": 514,
   "id": "de6a771d-2448-4c2a-81c7-ab05dc2ef8ba",
   "metadata": {
    "tags": []
   },
   "outputs": [
    {
     "name": "stdout",
     "output_type": "stream",
     "text": [
      "2022-08-03 07:19:05.400998 | Epoch: 1, Train Loss: 0.2348312511058938, Valid Loss: 0.13698274995002782\n",
      "2022-08-03 07:19:15.934642 | Epoch: 2, Train Loss: 0.16714058652899577, Valid Loss: 0.14056305350580564\n",
      "2022-08-03 07:19:26.094362 | Epoch: 3, Train Loss: 0.14371327998948996, Valid Loss: 0.11810220218136568\n"
     ]
    }
   ],
   "source": [
    "n_epochs = 7\n",
    "in_dim = D\n",
    "hid_dim = 64\n",
    "out_dim = 2\n",
    "num_layers = 2\n",
    "\n",
    "# model_balanced = DropNet(in_dim, hid_dim, out_dim, num_layers, dropout=0.25).to(device=device)\n",
    "model_balanced = Net(in_dim, hid_dim, out_dim, num_layers).to(device=device)\n",
    "optimizer = optim.Adam(model_balanced.parameters())\n",
    "\n",
    "# weights = torch.tensor([1.0, 100.0]).to(device=device)\n",
    "loss_fn = nn.BCEWithLogitsLoss()\n",
    "# loss_fn = FocalLoss(gamma=2.0)\n",
    "\n",
    "train_losses, val_losses = train(n_epochs, optimizer, model_balanced, loss_fn, train_loader, val_loader)"
   ]
  },
  {
   "cell_type": "code",
   "execution_count": 515,
   "id": "c338a184-fd40-4880-94de-5ae321cfde30",
   "metadata": {},
   "outputs": [
    {
     "name": "stdout",
     "output_type": "stream",
     "text": [
      "train Accuracy: 0.947\n",
      "train Precision: 0.950\n",
      "train Recall: 0.944\n",
      "train F1 Score: 0.947\n",
      "valid Accuracy: 0.955\n",
      "valid Precision: 0.066\n",
      "valid Recall: 0.682\n",
      "valid F1 Score: 0.121\n"
     ]
    }
   ],
   "source": [
    "loss_dict = validate(model_balanced, train_loader, val_loader)"
   ]
  },
  {
   "cell_type": "code",
   "execution_count": 458,
   "id": "70220b82-63db-44ff-94e5-670621ccdf62",
   "metadata": {},
   "outputs": [
    {
     "ename": "TypeError",
     "evalue": "can only concatenate list (not \"Tensor\") to list",
     "output_type": "error",
     "traceback": [
      "\u001b[0;31m---------------------------------------------------------------------------\u001b[0m",
      "\u001b[0;31mTypeError\u001b[0m                                 Traceback (most recent call last)",
      "Input \u001b[0;32mIn [458]\u001b[0m, in \u001b[0;36m<cell line: 2>\u001b[0;34m()\u001b[0m\n\u001b[1;32m      1\u001b[0m tmp_train \u001b[38;5;241m=\u001b[39m df_test[(df_test[\u001b[38;5;124m'\u001b[39m\u001b[38;5;124mstart_name\u001b[39m\u001b[38;5;124m'\u001b[39m] \u001b[38;5;241m==\u001b[39m \u001b[38;5;124m'\u001b[39m\u001b[38;5;124m鶴ヶ島\u001b[39m\u001b[38;5;124m'\u001b[39m) \u001b[38;5;241m&\u001b[39m (df_test[\u001b[38;5;124m'\u001b[39m\u001b[38;5;124mdirection\u001b[39m\u001b[38;5;124m'\u001b[39m] \u001b[38;5;241m==\u001b[39m \u001b[38;5;241m1\u001b[39m)]\n\u001b[0;32m----> 2\u001b[0m tmp_train \u001b[38;5;241m=\u001b[39m tmp_train\u001b[38;5;241m.\u001b[39mloc[:, \u001b[43mkey_col\u001b[49m\u001b[43m \u001b[49m\u001b[38;5;241;43m+\u001b[39;49m\u001b[43m \u001b[49m\u001b[43mfeatures\u001b[49m]\n\u001b[1;32m      4\u001b[0m \u001b[38;5;66;03m# 時系列長\u001b[39;00m\n\u001b[1;32m      5\u001b[0m N_period \u001b[38;5;241m=\u001b[39m tmp_train\u001b[38;5;241m.\u001b[39mdrop_duplicates(\u001b[38;5;124m\"\u001b[39m\u001b[38;5;124mdatetime\u001b[39m\u001b[38;5;124m\"\u001b[39m)\u001b[38;5;241m.\u001b[39mshape[\u001b[38;5;241m0\u001b[39m]\n",
      "\u001b[0;31mTypeError\u001b[0m: can only concatenate list (not \"Tensor\") to list"
     ]
    }
   ],
   "source": [
    "tmp_train = df_test[(df_test['start_name'] == '鶴ヶ島') & (df_test['direction'] == 1)]\n",
    "tmp_train = tmp_train.loc[:, key_col + features]\n",
    "\n",
    "# 時系列長\n",
    "N_period = tmp_train.drop_duplicates(\"datetime\").shape[0]\n",
    "# 区間数\n",
    "N_sec = tmp_train.drop_duplicates([\"start_name\", \"end_name\"]).shape[0]\n",
    "# 特徴量数\n",
    "D = len(features)\n",
    "\n",
    "tmp_train_value = tmp_train[features].values.reshape(1, N_period, D)\n",
    "tmp_train_norm = (tmp_train_value - X_mean) / X_std"
   ]
  },
  {
   "cell_type": "code",
   "execution_count": 193,
   "id": "2c6c00c2-90d7-4da0-963f-7f631e0a5dbe",
   "metadata": {},
   "outputs": [],
   "source": [
    "tmp_X = []\n",
    "\n",
    "for i in range(N_sec):\n",
    "    for t in range(time_step, N_period - 24):\n",
    "        time_pred = t + 24\n",
    "        time_input = (t - time_step, t + time_step + 1)\n",
    "        x_ = tmp_train_norm[i, time_input[0] : time_input[1]]\n",
    "        tmp_X.append(x_)\n",
    "\n",
    "tmp_X = torch.from_numpy(np.array(tmp_X, dtype=np.float32))"
   ]
  },
  {
   "cell_type": "code",
   "execution_count": 136,
   "id": "f1369b62-c2ce-4512-a50c-e050ade2ed96",
   "metadata": {},
   "outputs": [],
   "source": [
    "tmp_pred = model(tmp_X.to(device=device))\n",
    "_, predicted = torch.max(tmp_pred, dim=1)\n",
    "predicted = predicted.to(device='cpu')"
   ]
  },
  {
   "cell_type": "code",
   "execution_count": 137,
   "id": "741a600e-c0c8-4e35-ab44-0070998eb449",
   "metadata": {},
   "outputs": [],
   "source": [
    "ys = np.arange(time_step, N_period - 24) + 24\n",
    "tmp_y = tmp_train.iloc[ys, -1].values.reshape(-1, 1)\n",
    "tmp_y = torch.from_numpy(tmp_y).to(device='cpu')"
   ]
  },
  {
   "cell_type": "code",
   "execution_count": 138,
   "id": "e0756b7f-3196-450f-91ab-70c68bccb47c",
   "metadata": {},
   "outputs": [
    {
     "data": {
      "text/plain": [
       "(tensor([0, 0, 0, 0, 0, 1, 1, 1, 1, 1]),\n",
       " tensor([[0],\n",
       "         [0],\n",
       "         [0],\n",
       "         [0],\n",
       "         [0],\n",
       "         [0],\n",
       "         [0],\n",
       "         [1],\n",
       "         [1],\n",
       "         [0]]))"
      ]
     },
     "execution_count": 138,
     "metadata": {},
     "output_type": "execute_result"
    }
   ],
   "source": [
    "predicted[:10], tmp_y[:10]"
   ]
  },
  {
   "cell_type": "code",
   "execution_count": 399,
   "id": "1f122439-cf23-4510-9a91-ab1dfab22159",
   "metadata": {
    "tags": []
   },
   "outputs": [
    {
     "name": "stdout",
     "output_type": "stream",
     "text": [
      "------- 1 -------\n",
      "tensor(126.)\n",
      "tensor([115.0645], device='cuda:0')\n",
      "10.935508728027344\n",
      "\n",
      "------- 2 -------\n",
      "tensor(134.)\n",
      "tensor([134.9498], device='cuda:0')\n",
      "0.9497833251953125\n",
      "\n",
      "------- 3 -------\n",
      "tensor(170.)\n",
      "tensor([168.9665], device='cuda:0')\n",
      "1.0334625244140625\n",
      "\n",
      "------- 4 -------\n",
      "tensor(198.)\n",
      "tensor([204.4083], device='cuda:0')\n",
      "6.4083099365234375\n",
      "\n",
      "------- 5 -------\n",
      "tensor(179.)\n",
      "tensor([184.3132], device='cuda:0')\n",
      "5.313201904296875\n",
      "\n",
      "------- 6 -------\n",
      "tensor(202.)\n",
      "tensor([209.7910], device='cuda:0')\n",
      "7.79095458984375\n",
      "\n",
      "------- 7 -------\n",
      "tensor(224.)\n",
      "tensor([240.2662], device='cuda:0')\n",
      "16.266204833984375\n",
      "\n",
      "------- 8 -------\n",
      "tensor(317.)\n",
      "tensor([303.8457], device='cuda:0')\n",
      "13.154327392578125\n",
      "\n",
      "------- 9 -------\n",
      "tensor(383.)\n",
      "tensor([374.0816], device='cuda:0')\n",
      "8.918426513671875\n",
      "\n",
      "------- 10 -------\n",
      "tensor(440.)\n",
      "tensor([439.5305], device='cuda:0')\n",
      "0.469482421875\n",
      "\n"
     ]
    },
    {
     "name": "stderr",
     "output_type": "stream",
     "text": [
      "/tmp/ipykernel_65/1850680170.py:11: UserWarning: Using a target size (torch.Size([])) that is different to the input size (torch.Size([1])). This will likely lead to incorrect results due to broadcasting. Please ensure they have the same size.\n",
      "  print(torch.sqrt(nn.functional.mse_loss(out, target.to(device=device))).item())\n"
     ]
    }
   ],
   "source": [
    "with torch.no_grad():\n",
    "    i = 0\n",
    "    for data, target in dataset_train:\n",
    "        if i >= 10:\n",
    "            break\n",
    "        i += 1\n",
    "        print(f'------- {i} -------')\n",
    "        out = model(data.to(device=device))\n",
    "        print(target)\n",
    "        print(out)\n",
    "        print(torch.sqrt(nn.functional.mse_loss(out, target.to(device=device))).item())\n",
    "        print()"
   ]
  },
  {
   "cell_type": "code",
   "execution_count": 339,
   "id": "105cdb92-cd84-4abb-97f8-65ea5a5f3cf3",
   "metadata": {
    "collapsed": true,
    "jupyter": {
     "outputs_hidden": true
    },
    "tags": []
   },
   "outputs": [
    {
     "name": "stdout",
     "output_type": "stream",
     "text": [
      "2022-07-21 17:24:34.155558 | Epoch 1 | Loss: 65953.34375\n",
      "2022-07-21 17:24:40.475783 | Epoch 2 | Loss: 6871.1943359375\n",
      "2022-07-21 17:24:46.874386 | Epoch 3 | Loss: 11021.1640625\n"
     ]
    },
    {
     "ename": "KeyboardInterrupt",
     "evalue": "",
     "output_type": "error",
     "traceback": [
      "\u001b[0;31m---------------------------------------------------------------------------\u001b[0m",
      "\u001b[0;31mKeyboardInterrupt\u001b[0m                         Traceback (most recent call last)",
      "Input \u001b[0;32mIn [339]\u001b[0m, in \u001b[0;36m<cell line: 14>\u001b[0;34m()\u001b[0m\n\u001b[1;32m     14\u001b[0m \u001b[38;5;28;01mfor\u001b[39;00m epoch \u001b[38;5;129;01min\u001b[39;00m \u001b[38;5;28mrange\u001b[39m(n_epochs):\n\u001b[1;32m     15\u001b[0m     total_loss \u001b[38;5;241m=\u001b[39m \u001b[38;5;241m0\u001b[39m\n\u001b[0;32m---> 16\u001b[0m     \u001b[38;5;28;01mfor\u001b[39;00m data, target \u001b[38;5;129;01min\u001b[39;00m train_loader:\n\u001b[1;32m     17\u001b[0m         data \u001b[38;5;241m=\u001b[39m data\u001b[38;5;241m.\u001b[39mto(device\u001b[38;5;241m=\u001b[39mdevice)\n\u001b[1;32m     18\u001b[0m         target \u001b[38;5;241m=\u001b[39m target\u001b[38;5;241m.\u001b[39munsqueeze(\u001b[38;5;241m1\u001b[39m)\u001b[38;5;241m.\u001b[39mto(device\u001b[38;5;241m=\u001b[39mdevice)\n",
      "File \u001b[0;32m/usr/local/lib/python3.8/dist-packages/torch/utils/data/dataloader.py:652\u001b[0m, in \u001b[0;36m_BaseDataLoaderIter.__next__\u001b[0;34m(self)\u001b[0m\n\u001b[1;32m    649\u001b[0m \u001b[38;5;28;01mif\u001b[39;00m \u001b[38;5;28mself\u001b[39m\u001b[38;5;241m.\u001b[39m_sampler_iter \u001b[38;5;129;01mis\u001b[39;00m \u001b[38;5;28;01mNone\u001b[39;00m:\n\u001b[1;32m    650\u001b[0m     \u001b[38;5;66;03m# TODO(https://github.com/pytorch/pytorch/issues/76750)\u001b[39;00m\n\u001b[1;32m    651\u001b[0m     \u001b[38;5;28mself\u001b[39m\u001b[38;5;241m.\u001b[39m_reset()  \u001b[38;5;66;03m# type: ignore[call-arg]\u001b[39;00m\n\u001b[0;32m--> 652\u001b[0m data \u001b[38;5;241m=\u001b[39m \u001b[38;5;28;43mself\u001b[39;49m\u001b[38;5;241;43m.\u001b[39;49m\u001b[43m_next_data\u001b[49m\u001b[43m(\u001b[49m\u001b[43m)\u001b[49m\n\u001b[1;32m    653\u001b[0m \u001b[38;5;28mself\u001b[39m\u001b[38;5;241m.\u001b[39m_num_yielded \u001b[38;5;241m+\u001b[39m\u001b[38;5;241m=\u001b[39m \u001b[38;5;241m1\u001b[39m\n\u001b[1;32m    654\u001b[0m \u001b[38;5;28;01mif\u001b[39;00m \u001b[38;5;28mself\u001b[39m\u001b[38;5;241m.\u001b[39m_dataset_kind \u001b[38;5;241m==\u001b[39m _DatasetKind\u001b[38;5;241m.\u001b[39mIterable \u001b[38;5;129;01mand\u001b[39;00m \\\n\u001b[1;32m    655\u001b[0m         \u001b[38;5;28mself\u001b[39m\u001b[38;5;241m.\u001b[39m_IterableDataset_len_called \u001b[38;5;129;01mis\u001b[39;00m \u001b[38;5;129;01mnot\u001b[39;00m \u001b[38;5;28;01mNone\u001b[39;00m \u001b[38;5;129;01mand\u001b[39;00m \\\n\u001b[1;32m    656\u001b[0m         \u001b[38;5;28mself\u001b[39m\u001b[38;5;241m.\u001b[39m_num_yielded \u001b[38;5;241m>\u001b[39m \u001b[38;5;28mself\u001b[39m\u001b[38;5;241m.\u001b[39m_IterableDataset_len_called:\n",
      "File \u001b[0;32m/usr/local/lib/python3.8/dist-packages/torch/utils/data/dataloader.py:692\u001b[0m, in \u001b[0;36m_SingleProcessDataLoaderIter._next_data\u001b[0;34m(self)\u001b[0m\n\u001b[1;32m    690\u001b[0m \u001b[38;5;28;01mdef\u001b[39;00m \u001b[38;5;21m_next_data\u001b[39m(\u001b[38;5;28mself\u001b[39m):\n\u001b[1;32m    691\u001b[0m     index \u001b[38;5;241m=\u001b[39m \u001b[38;5;28mself\u001b[39m\u001b[38;5;241m.\u001b[39m_next_index()  \u001b[38;5;66;03m# may raise StopIteration\u001b[39;00m\n\u001b[0;32m--> 692\u001b[0m     data \u001b[38;5;241m=\u001b[39m \u001b[38;5;28;43mself\u001b[39;49m\u001b[38;5;241;43m.\u001b[39;49m\u001b[43m_dataset_fetcher\u001b[49m\u001b[38;5;241;43m.\u001b[39;49m\u001b[43mfetch\u001b[49m\u001b[43m(\u001b[49m\u001b[43mindex\u001b[49m\u001b[43m)\u001b[49m  \u001b[38;5;66;03m# may raise StopIteration\u001b[39;00m\n\u001b[1;32m    693\u001b[0m     \u001b[38;5;28;01mif\u001b[39;00m \u001b[38;5;28mself\u001b[39m\u001b[38;5;241m.\u001b[39m_pin_memory:\n\u001b[1;32m    694\u001b[0m         data \u001b[38;5;241m=\u001b[39m _utils\u001b[38;5;241m.\u001b[39mpin_memory\u001b[38;5;241m.\u001b[39mpin_memory(data, \u001b[38;5;28mself\u001b[39m\u001b[38;5;241m.\u001b[39m_pin_memory_device)\n",
      "File \u001b[0;32m/usr/local/lib/python3.8/dist-packages/torch/utils/data/_utils/fetch.py:52\u001b[0m, in \u001b[0;36m_MapDatasetFetcher.fetch\u001b[0;34m(self, possibly_batched_index)\u001b[0m\n\u001b[1;32m     50\u001b[0m \u001b[38;5;28;01melse\u001b[39;00m:\n\u001b[1;32m     51\u001b[0m     data \u001b[38;5;241m=\u001b[39m \u001b[38;5;28mself\u001b[39m\u001b[38;5;241m.\u001b[39mdataset[possibly_batched_index]\n\u001b[0;32m---> 52\u001b[0m \u001b[38;5;28;01mreturn\u001b[39;00m \u001b[38;5;28;43mself\u001b[39;49m\u001b[38;5;241;43m.\u001b[39;49m\u001b[43mcollate_fn\u001b[49m\u001b[43m(\u001b[49m\u001b[43mdata\u001b[49m\u001b[43m)\u001b[49m\n",
      "File \u001b[0;32m/usr/local/lib/python3.8/dist-packages/torch/utils/data/_utils/collate.py:175\u001b[0m, in \u001b[0;36mdefault_collate\u001b[0;34m(batch)\u001b[0m\n\u001b[1;32m    172\u001b[0m transposed \u001b[38;5;241m=\u001b[39m \u001b[38;5;28mlist\u001b[39m(\u001b[38;5;28mzip\u001b[39m(\u001b[38;5;241m*\u001b[39mbatch))  \u001b[38;5;66;03m# It may be accessed twice, so we use a list.\u001b[39;00m\n\u001b[1;32m    174\u001b[0m \u001b[38;5;28;01mif\u001b[39;00m \u001b[38;5;28misinstance\u001b[39m(elem, \u001b[38;5;28mtuple\u001b[39m):\n\u001b[0;32m--> 175\u001b[0m     \u001b[38;5;28;01mreturn\u001b[39;00m [default_collate(samples) \u001b[38;5;28;01mfor\u001b[39;00m samples \u001b[38;5;129;01min\u001b[39;00m transposed]  \u001b[38;5;66;03m# Backwards compatibility.\u001b[39;00m\n\u001b[1;32m    176\u001b[0m \u001b[38;5;28;01melse\u001b[39;00m:\n\u001b[1;32m    177\u001b[0m     \u001b[38;5;28;01mtry\u001b[39;00m:\n",
      "File \u001b[0;32m/usr/local/lib/python3.8/dist-packages/torch/utils/data/_utils/collate.py:175\u001b[0m, in \u001b[0;36m<listcomp>\u001b[0;34m(.0)\u001b[0m\n\u001b[1;32m    172\u001b[0m transposed \u001b[38;5;241m=\u001b[39m \u001b[38;5;28mlist\u001b[39m(\u001b[38;5;28mzip\u001b[39m(\u001b[38;5;241m*\u001b[39mbatch))  \u001b[38;5;66;03m# It may be accessed twice, so we use a list.\u001b[39;00m\n\u001b[1;32m    174\u001b[0m \u001b[38;5;28;01mif\u001b[39;00m \u001b[38;5;28misinstance\u001b[39m(elem, \u001b[38;5;28mtuple\u001b[39m):\n\u001b[0;32m--> 175\u001b[0m     \u001b[38;5;28;01mreturn\u001b[39;00m [\u001b[43mdefault_collate\u001b[49m\u001b[43m(\u001b[49m\u001b[43msamples\u001b[49m\u001b[43m)\u001b[49m \u001b[38;5;28;01mfor\u001b[39;00m samples \u001b[38;5;129;01min\u001b[39;00m transposed]  \u001b[38;5;66;03m# Backwards compatibility.\u001b[39;00m\n\u001b[1;32m    176\u001b[0m \u001b[38;5;28;01melse\u001b[39;00m:\n\u001b[1;32m    177\u001b[0m     \u001b[38;5;28;01mtry\u001b[39;00m:\n",
      "File \u001b[0;32m/usr/local/lib/python3.8/dist-packages/torch/utils/data/_utils/collate.py:141\u001b[0m, in \u001b[0;36mdefault_collate\u001b[0;34m(batch)\u001b[0m\n\u001b[1;32m    139\u001b[0m         storage \u001b[38;5;241m=\u001b[39m elem\u001b[38;5;241m.\u001b[39mstorage()\u001b[38;5;241m.\u001b[39m_new_shared(numel, device\u001b[38;5;241m=\u001b[39melem\u001b[38;5;241m.\u001b[39mdevice)\n\u001b[1;32m    140\u001b[0m         out \u001b[38;5;241m=\u001b[39m elem\u001b[38;5;241m.\u001b[39mnew(storage)\u001b[38;5;241m.\u001b[39mresize_(\u001b[38;5;28mlen\u001b[39m(batch), \u001b[38;5;241m*\u001b[39m\u001b[38;5;28mlist\u001b[39m(elem\u001b[38;5;241m.\u001b[39msize()))\n\u001b[0;32m--> 141\u001b[0m     \u001b[38;5;28;01mreturn\u001b[39;00m \u001b[43mtorch\u001b[49m\u001b[38;5;241;43m.\u001b[39;49m\u001b[43mstack\u001b[49m\u001b[43m(\u001b[49m\u001b[43mbatch\u001b[49m\u001b[43m,\u001b[49m\u001b[43m \u001b[49m\u001b[38;5;241;43m0\u001b[39;49m\u001b[43m,\u001b[49m\u001b[43m \u001b[49m\u001b[43mout\u001b[49m\u001b[38;5;241;43m=\u001b[39;49m\u001b[43mout\u001b[49m\u001b[43m)\u001b[49m\n\u001b[1;32m    142\u001b[0m \u001b[38;5;28;01melif\u001b[39;00m elem_type\u001b[38;5;241m.\u001b[39m\u001b[38;5;18m__module__\u001b[39m \u001b[38;5;241m==\u001b[39m \u001b[38;5;124m'\u001b[39m\u001b[38;5;124mnumpy\u001b[39m\u001b[38;5;124m'\u001b[39m \u001b[38;5;129;01mand\u001b[39;00m elem_type\u001b[38;5;241m.\u001b[39m\u001b[38;5;18m__name__\u001b[39m \u001b[38;5;241m!=\u001b[39m \u001b[38;5;124m'\u001b[39m\u001b[38;5;124mstr_\u001b[39m\u001b[38;5;124m'\u001b[39m \\\n\u001b[1;32m    143\u001b[0m         \u001b[38;5;129;01mand\u001b[39;00m elem_type\u001b[38;5;241m.\u001b[39m\u001b[38;5;18m__name__\u001b[39m \u001b[38;5;241m!=\u001b[39m \u001b[38;5;124m'\u001b[39m\u001b[38;5;124mstring_\u001b[39m\u001b[38;5;124m'\u001b[39m:\n\u001b[1;32m    144\u001b[0m     \u001b[38;5;28;01mif\u001b[39;00m elem_type\u001b[38;5;241m.\u001b[39m\u001b[38;5;18m__name__\u001b[39m \u001b[38;5;241m==\u001b[39m \u001b[38;5;124m'\u001b[39m\u001b[38;5;124mndarray\u001b[39m\u001b[38;5;124m'\u001b[39m \u001b[38;5;129;01mor\u001b[39;00m elem_type\u001b[38;5;241m.\u001b[39m\u001b[38;5;18m__name__\u001b[39m \u001b[38;5;241m==\u001b[39m \u001b[38;5;124m'\u001b[39m\u001b[38;5;124mmemmap\u001b[39m\u001b[38;5;124m'\u001b[39m:\n\u001b[1;32m    145\u001b[0m         \u001b[38;5;66;03m# array of string classes and object\u001b[39;00m\n",
      "\u001b[0;31mKeyboardInterrupt\u001b[0m: "
     ]
    }
   ],
   "source": [
    "n_epochs = 3000\n",
    "in_dim = X_train.shape[-1]\n",
    "hid_dim = 100\n",
    "out_dim = 1\n",
    "num_layers = 1\n",
    "\n",
    "model = Net(in_dim, hid_dim, out_dim, num_layers).to(device=device)\n",
    "optimizer = optim.Adam(model.parameters())\n",
    "\n",
    "loss_fn = nn.MSELoss()\n",
    "\n",
    "losses = []\n",
    "\n",
    "for epoch in range(n_epochs):\n",
    "    total_loss = 0\n",
    "    for data, target in train_loader:\n",
    "        data = data.to(device=device)\n",
    "        target = target.unsqueeze(1).to(device=device)\n",
    "        \n",
    "        out = model(data)\n",
    "        loss = loss_fn(out, target)\n",
    "        total_loss += loss\n",
    "        \n",
    "        optimizer.zero_grad()\n",
    "        loss.backward()\n",
    "        optimizer.step()\n",
    "    \n",
    "    losses.append(total_loss)\n",
    "\n",
    "    if epoch < 3 or (epoch + 1) % 100 == 0:\n",
    "        print(f'{dt.datetime.now()} | Epoch {epoch+1} | Loss: {loss}')"
   ]
  }
 ],
 "metadata": {
  "kernelspec": {
   "display_name": "Python 3 (ipykernel)",
   "language": "python",
   "name": "python3"
  },
  "language_info": {
   "codemirror_mode": {
    "name": "ipython",
    "version": 3
   },
   "file_extension": ".py",
   "mimetype": "text/x-python",
   "name": "python",
   "nbconvert_exporter": "python",
   "pygments_lexer": "ipython3",
   "version": "3.8.10"
  }
 },
 "nbformat": 4,
 "nbformat_minor": 5
}
