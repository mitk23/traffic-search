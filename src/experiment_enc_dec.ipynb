{
 "cells": [
  {
   "cell_type": "code",
   "execution_count": 1,
   "id": "85f9b686-4dee-4846-b006-9d3b39292662",
   "metadata": {
    "tags": []
   },
   "outputs": [],
   "source": [
    "import itertools\n",
    "import datetime as dt\n",
    "\n",
    "import numpy as np\n",
    "import pandas as pd\n",
    "from pandas.api.types import CategoricalDtype\n",
    "import matplotlib.pyplot as plt\n",
    "plt.rcParams['font.family'] = 'Noto Sans CJK JP'\n",
    "import seaborn as sns\n",
    "import tqdm\n",
    "from sklearn.preprocessing import StandardScaler\n",
    "import torch\n",
    "import torch.nn as nn\n",
    "import torch.nn.functional as F\n",
    "import torch.optim as optim\n",
    "\n",
    "from utils.scaler import STMatrixStandardScaler\n",
    "from utils.helper import format_stmatrix, train_test_split, fix_seed\n",
    "from dataset import STDataset\n",
    "# from trainer import Trainer\n",
    "from logger import Logger\n",
    "from modules import Embedding_Conv2dLSTM\n",
    "import config"
   ]
  },
  {
   "cell_type": "code",
   "execution_count": 2,
   "id": "5a66af52-fa9b-44a1-8e3d-7c1ab733e773",
   "metadata": {},
   "outputs": [
    {
     "data": {
      "text/plain": [
       "device(type='cuda', index=3)"
      ]
     },
     "execution_count": 2,
     "metadata": {},
     "output_type": "execute_result"
    }
   ],
   "source": [
    "device = torch.device(\"cuda:3\" if torch.cuda.is_available() else \"cpu\")\n",
    "device"
   ]
  },
  {
   "cell_type": "markdown",
   "id": "600f0112-9df1-4430-a141-c4b94a5a4962",
   "metadata": {
    "jp-MarkdownHeadingCollapsed": true,
    "tags": []
   },
   "source": [
    "## 前処理してデータセットを作成\n",
    "- 渋滞量 -> フラグに変換\n",
    "- 方向 -> 0/1に変換\n",
    "    - 上り: 0, 下り: 1\n",
    "- 四半期を数値化\n",
    "- 使用しないカラムを落とす\n",
    "    - 天気 + `index`, `data`, `road_code`, `jam_type`\n",
    "- 速度の欠損を埋める\n",
    "- OCC -> [0, 1]に変換\n",
    "- 型変換\n",
    "    - float64 -> float32\n",
    "    - 区間の名前, コード, 県コード, 0/1系, カレンダーデータをcategoryデータに\n",
    "    - degreeをint32"
   ]
  },
  {
   "cell_type": "code",
   "execution_count": 4,
   "id": "529b47c5-ece1-4061-b622-f0c26c9de6d1",
   "metadata": {},
   "outputs": [],
   "source": [
    "# 道路名\n",
    "# TARGET_ROAD='tateyama'\n",
    "TARGET_ROAD='kannetsu'\n",
    "\n",
    "# 交通量\n",
    "PROCESSED_DATA_DIR = '../Input_processed_data'\n",
    "TRAFFIC_DIR = f'{PROCESSED_DATA_DIR}/traffic'\n",
    "TRAFFIC_CSV = f'{TRAFFIC_DIR}/{TARGET_ROAD}_20220621all-merged_filled_1h.csv'"
   ]
  },
  {
   "cell_type": "code",
   "execution_count": 5,
   "id": "3b58e808-e64e-4d7d-836d-04fd532a1054",
   "metadata": {
    "tags": []
   },
   "outputs": [],
   "source": [
    "col_types = {'start_code': str, 'end_code': str, 'road_code': str, 'jam_type': str,}\n",
    "\n",
    "df = pd.read_csv(TRAFFIC_CSV, parse_dates=True, index_col='datetime', dtype=col_types).reset_index()"
   ]
  },
  {
   "cell_type": "code",
   "execution_count": 7,
   "id": "2898041e-0cc7-420f-9363-73a3edc61e7d",
   "metadata": {},
   "outputs": [],
   "source": [
    "def linear_interpolate(df, col):\n",
    "    '''\n",
    "    dfのcolカラム内の欠損を区間ごとに線形補間する\n",
    "    '''\n",
    "    f = lambda g: g.interpolate(method='linear', axis=0)\n",
    "    \n",
    "    df.sort_values('datetime', inplace=True)\n",
    "    df[col] = df.groupby(['start_code', 'end_code'])[col].apply(f)\n",
    "    return df\n",
    "\n",
    "\n",
    "def preprocess(df):\n",
    "    # 「年」情報を入れる\n",
    "    df['year'] = df['datetime'].dt.year\n",
    "    # 渋滞フラグ 0/1\n",
    "    df['jam_quantity'] = np.where(df['speed'] < 40, 1, 0)\n",
    "    # 方向を数値化\n",
    "    direction_map = {'上り': 0, '下り': 1}\n",
    "    df['direction'] = df['direction'].map(direction_map)\n",
    "    # 四半期を数値化\n",
    "    df['quarter'] = df['quarter'].str[-1]\n",
    "    \n",
    "    # object型のカラム, いらないカラムを落とす\n",
    "    drop_cols = [\n",
    "        'index', 'date', 'road_code', 'pressure', 'rainfall', \n",
    "        'temperature', 'humidity', 'wind_speed', 'daylight_hours', \n",
    "        'snowfall', 'deepest_snowfall', 'weather_description', 'jam_type'\n",
    "    ]\n",
    "    df.drop(drop_cols, axis=1, inplace=True)\n",
    "    \n",
    "    # 速度の欠損を埋める\n",
    "    df = linear_interpolate(df, 'speed')\n",
    "    # OCCを[0,1]に変換\n",
    "    df['OCC'] = df['OCC'] / 100.0\n",
    "    \n",
    "    # 型変換\n",
    "    f64_cols = df.select_dtypes(include=[np.float64]).columns\n",
    "    df.loc[:, f64_cols] = df.loc[:, f64_cols].astype(np.float32)\n",
    "    i64_cols = df.select_dtypes(include=[int]).columns\n",
    "    df.loc[:, i64_cols] = df.loc[:, i64_cols].astype(np.int32)\n",
    "    \n",
    "    type_map = {\n",
    "        'start_name': 'category',\n",
    "        'end_name': 'category',\n",
    "        'start_code': 'category',\n",
    "        'end_code': 'category',\n",
    "        'start_pref_code': 'category',\n",
    "        'end_pref_code': 'category',\n",
    "        'direction': 'category',\n",
    "        'month': 'category',\n",
    "        'day': 'category',\n",
    "        'dayofweek': 'category',\n",
    "        'is_holiday': 'category',\n",
    "        'hour': 'category',\n",
    "        'quarter': 'category',\n",
    "        'jam_quantity': 'category',\n",
    "        'start_degree': np.int32,\n",
    "        'end_degree': np.int32,\n",
    "        'degree_sum': np.int32,\n",
    "    }\n",
    "    df = df.astype(type_map)\n",
    "    \n",
    "    return df"
   ]
  },
  {
   "cell_type": "code",
   "execution_count": 8,
   "id": "a23d5e8e-66a4-4c63-a76c-984f49cdec5b",
   "metadata": {},
   "outputs": [],
   "source": [
    "def create_dataset(df, start_date, end_date, pkl_name):\n",
    "    tmp = df.loc[(df['datetime'] >= pd.Timestamp(start_date)) & (df['datetime'] < pd.Timestamp(end_date))]\n",
    "    # tmp.reset_index(drop=True, inplace=True)\n",
    "    \n",
    "    tmp = preprocess(tmp.copy())\n",
    "    tmp.reset_index(drop=True, inplace=True)\n",
    "    \n",
    "    tmp.to_pickle(pkl_name)\n",
    "\n",
    "# whole dataset\n",
    "start_date = '2021/4/2'\n",
    "end_date = '2022/6/1'\n",
    "pkl_name = './datasets_1h/kannetsu_210402-220531.pkl'\n",
    "\n",
    "create_dataset(df, start_date, end_date, pkl_name)\n",
    "\n",
    "# mini dataset\n",
    "start_date = '2021/4/2'\n",
    "end_date = '2021/6/1'\n",
    "pkl_name = './datasets_1h/kannetsu_210402-210531.pkl'\n",
    "\n",
    "create_dataset(df, start_date, end_date, pkl_name)"
   ]
  },
  {
   "cell_type": "markdown",
   "id": "a27c7f12-2979-4952-8165-d5c01122d1f9",
   "metadata": {
    "jp-MarkdownHeadingCollapsed": true,
    "tags": []
   },
   "source": [
    "## データセットを読み込む"
   ]
  },
  {
   "cell_type": "code",
   "execution_count": 10,
   "id": "2840688e-38f3-4355-bd7e-e1655e966cc3",
   "metadata": {},
   "outputs": [],
   "source": [
    "# mini\n",
    "df_test = pd.read_pickle('./datasets_1h/kannetsu_210402-210531.pkl')\n",
    "# whole\n",
    "df_all = pd.read_pickle('./datasets_1h/kannetsu_210402-220531.pkl')"
   ]
  },
  {
   "cell_type": "code",
   "execution_count": 13,
   "id": "46a5f703-fc2c-4d76-9bb8-61bc9e565947",
   "metadata": {},
   "outputs": [],
   "source": [
    "dt_table = pd.read_pickle(f'{config.TABLES_DIR}/datetime_table.pkl')\n",
    "sec_table = pd.read_pickle(f'{config.TABLES_DIR}/section_table.pkl')"
   ]
  },
  {
   "cell_type": "code",
   "execution_count": 14,
   "id": "b9502253-a633-48b8-bc79-f90b5cf43d3b",
   "metadata": {},
   "outputs": [
    {
     "data": {
      "text/html": [
       "<div>\n",
       "<style scoped>\n",
       "    .dataframe tbody tr th:only-of-type {\n",
       "        vertical-align: middle;\n",
       "    }\n",
       "\n",
       "    .dataframe tbody tr th {\n",
       "        vertical-align: top;\n",
       "    }\n",
       "\n",
       "    .dataframe thead th {\n",
       "        text-align: right;\n",
       "    }\n",
       "</style>\n",
       "<table border=\"1\" class=\"dataframe\">\n",
       "  <thead>\n",
       "    <tr style=\"text-align: right;\">\n",
       "      <th></th>\n",
       "      <th>datetime</th>\n",
       "      <th>start_name</th>\n",
       "      <th>end_name</th>\n",
       "      <th>start_code</th>\n",
       "      <th>end_code</th>\n",
       "      <th>start_pref_code</th>\n",
       "      <th>end_pref_code</th>\n",
       "      <th>start_lat</th>\n",
       "      <th>end_lat</th>\n",
       "      <th>start_lng</th>\n",
       "      <th>...</th>\n",
       "      <th>search_1h</th>\n",
       "      <th>search_unspec_1d</th>\n",
       "      <th>search_unspec_3d</th>\n",
       "      <th>search_unspec_7d</th>\n",
       "      <th>search_unspec_10d</th>\n",
       "      <th>allCars</th>\n",
       "      <th>jam_quantity</th>\n",
       "      <th>OCC</th>\n",
       "      <th>speed</th>\n",
       "      <th>year</th>\n",
       "    </tr>\n",
       "  </thead>\n",
       "  <tbody>\n",
       "    <tr>\n",
       "      <th>0</th>\n",
       "      <td>2021-04-02</td>\n",
       "      <td>所沢</td>\n",
       "      <td>大泉ＪＣＴ</td>\n",
       "      <td>1800006</td>\n",
       "      <td>1110210</td>\n",
       "      <td>11</td>\n",
       "      <td>13</td>\n",
       "      <td>35.806149</td>\n",
       "      <td>35.755821</td>\n",
       "      <td>139.535507</td>\n",
       "      <td>...</td>\n",
       "      <td>4.0</td>\n",
       "      <td>2156.0</td>\n",
       "      <td>2156.0</td>\n",
       "      <td>2156.0</td>\n",
       "      <td>2156.0</td>\n",
       "      <td>630.0</td>\n",
       "      <td>0</td>\n",
       "      <td>0.02</td>\n",
       "      <td>87.298416</td>\n",
       "      <td>2021</td>\n",
       "    </tr>\n",
       "    <tr>\n",
       "      <th>1</th>\n",
       "      <td>2021-04-02</td>\n",
       "      <td>小出</td>\n",
       "      <td>大和ＰＡ</td>\n",
       "      <td>1800156</td>\n",
       "      <td>1800151</td>\n",
       "      <td>15</td>\n",
       "      <td>15</td>\n",
       "      <td>37.213329</td>\n",
       "      <td>37.160999</td>\n",
       "      <td>138.975403</td>\n",
       "      <td>...</td>\n",
       "      <td>1.0</td>\n",
       "      <td>749.0</td>\n",
       "      <td>749.0</td>\n",
       "      <td>749.0</td>\n",
       "      <td>749.0</td>\n",
       "      <td>67.0</td>\n",
       "      <td>0</td>\n",
       "      <td>0.00</td>\n",
       "      <td>90.970146</td>\n",
       "      <td>2021</td>\n",
       "    </tr>\n",
       "    <tr>\n",
       "      <th>2</th>\n",
       "      <td>2021-04-02</td>\n",
       "      <td>六日町</td>\n",
       "      <td>塩沢石打</td>\n",
       "      <td>1800146</td>\n",
       "      <td>1800141</td>\n",
       "      <td>15</td>\n",
       "      <td>15</td>\n",
       "      <td>37.077942</td>\n",
       "      <td>36.990280</td>\n",
       "      <td>138.879288</td>\n",
       "      <td>...</td>\n",
       "      <td>1.0</td>\n",
       "      <td>705.0</td>\n",
       "      <td>705.0</td>\n",
       "      <td>705.0</td>\n",
       "      <td>705.0</td>\n",
       "      <td>60.0</td>\n",
       "      <td>0</td>\n",
       "      <td>0.00</td>\n",
       "      <td>87.633331</td>\n",
       "      <td>2021</td>\n",
       "    </tr>\n",
       "  </tbody>\n",
       "</table>\n",
       "<p>3 rows × 39 columns</p>\n",
       "</div>"
      ],
      "text/plain": [
       "    datetime start_name end_name start_code end_code start_pref_code  \\\n",
       "0 2021-04-02         所沢    大泉ＪＣＴ    1800006  1110210              11   \n",
       "1 2021-04-02         小出     大和ＰＡ    1800156  1800151              15   \n",
       "2 2021-04-02        六日町     塩沢石打    1800146  1800141              15   \n",
       "\n",
       "  end_pref_code  start_lat    end_lat   start_lng  ...  search_1h  \\\n",
       "0            13  35.806149  35.755821  139.535507  ...        4.0   \n",
       "1            15  37.213329  37.160999  138.975403  ...        1.0   \n",
       "2            15  37.077942  36.990280  138.879288  ...        1.0   \n",
       "\n",
       "   search_unspec_1d  search_unspec_3d search_unspec_7d search_unspec_10d  \\\n",
       "0            2156.0            2156.0           2156.0            2156.0   \n",
       "1             749.0             749.0            749.0             749.0   \n",
       "2             705.0             705.0            705.0             705.0   \n",
       "\n",
       "  allCars jam_quantity   OCC      speed  year  \n",
       "0   630.0            0  0.02  87.298416  2021  \n",
       "1    67.0            0  0.00  90.970146  2021  \n",
       "2    60.0            0  0.00  87.633331  2021  \n",
       "\n",
       "[3 rows x 39 columns]"
      ]
     },
     "execution_count": 14,
     "metadata": {},
     "output_type": "execute_result"
    }
   ],
   "source": [
    "df_test.head(3)"
   ]
  },
  {
   "cell_type": "markdown",
   "id": "0f1e4d66-8ae9-4d1a-a770-d55c4c82dfce",
   "metadata": {
    "jp-MarkdownHeadingCollapsed": true,
    "tags": []
   },
   "source": [
    "### 時間, 区間にembedding用のIDを割り振る"
   ]
  },
  {
   "cell_type": "code",
   "execution_count": null,
   "id": "0e91cfa6-79bd-4901-b38d-7e436704000d",
   "metadata": {},
   "outputs": [],
   "source": [
    "# 時間情報を管理するためのテーブルを作成 (month x hour x dayofweeks x is_holidays)\n",
    "# months = range(1, 12+1)\n",
    "# hours = range(24)\n",
    "# dayofweeks = range(1, 7+1)\n",
    "# is_holidays = (0, 1)\n",
    "\n",
    "# dt_table = pd.DataFrame(itertools.product(months, hours, dayofweeks, is_holidays), columns=['month', 'hour', 'dayofweek', 'is_holiday'], dtype='category')\n",
    "# dt_table = dt_table.query('dayofweek not in (6, 7) | is_holiday != 0').reset_index(drop=True)\n",
    "# dt_table = dt_table.reset_index().set_index(['month', 'hour', 'dayofweek', 'is_holiday']).astype('category')\n",
    "\n",
    "# dt_table.to_pickle('./datasets/datetime_table.pkl')\n",
    "\n",
    "# dt_table = pd.read_pickle('./datasets/datetime_table.pkl')"
   ]
  },
  {
   "cell_type": "code",
   "execution_count": null,
   "id": "48291632-a12e-4e3c-a8f5-9ba4e8f91aa0",
   "metadata": {},
   "outputs": [],
   "source": [
    "# 時間情報を管理するためのテーブルを作成 (hour x dayofweeks x is_holidays)\n",
    "# hours = range(24)\n",
    "# dayofweeks = range(1, 7+1)\n",
    "# is_holidays = (0, 1)\n",
    "\n",
    "# dt_table = pd.DataFrame(itertools.product(hours, dayofweeks, is_holidays), columns=['hour', 'dayofweek', 'is_holiday'], dtype='category')\n",
    "# dt_table = dt_table.query('dayofweek not in (6, 7) | is_holiday != 0').reset_index(drop=True)\n",
    "# dt_table = dt_table.reset_index().set_index(['hour', 'dayofweek', 'is_holiday']).astype('category')\n",
    "\n",
    "# dt_table.to_pickle('./datasets/mini_datetime_table.pkl')\n",
    "\n",
    "# dt_table = pd.read_pickle('./datasets/mini_datetime_table.pkl')"
   ]
  },
  {
   "cell_type": "code",
   "execution_count": null,
   "id": "c2b54d50-3eba-4d3e-93ea-768d54c39097",
   "metadata": {},
   "outputs": [],
   "source": [
    "# 区間情報を管理するためのテーブルを作成\n",
    "# sec_table = df_test[['start_name', 'end_name', 'direction', 'KP']].drop_duplicates()\n",
    "# 区間順にソート\n",
    "# sort_f = lambda g: g.sort_values('KP', ascending=(g.name == 1))\n",
    "# sec_table = sec_table.groupby('direction').apply(sort_f).reset_index(drop=True)\n",
    "\n",
    "# sec_table.to_pickle('./datasets/section_table.pkl')\n",
    "# sec_table.head(3)\n",
    "\n",
    "# sec_table = pd.read_pickle('./datasets/section_table.pkl')"
   ]
  },
  {
   "cell_type": "code",
   "execution_count": 15,
   "id": "d7ac6bbd-5e5d-4daa-b997-400b4b7672f4",
   "metadata": {},
   "outputs": [],
   "source": [
    "def datetime2id(df, dt_table):\n",
    "    time_col = ['hour', 'dayofweek', 'is_holiday']\n",
    "    f = lambda g: g.assign(datetime_id=dt_table.loc[g.name, 'index'])\n",
    "    df = df.groupby(time_col).apply(f)\n",
    "    df['datetime_id'] = df['datetime_id'].astype('category')\n",
    "    return df\n",
    "\n",
    "\n",
    "def section2id(df, sec_table):\n",
    "    f = lambda g: g.assign(section_id=sec_table.query(f'start_name == \"{g.name[0]}\" & end_name == \"{g.name[1]}\"').index.item())\n",
    "    df = df.groupby(['start_name', 'end_name']).apply(f)\n",
    "    df['section_id'] = df['section_id'].astype('category')\n",
    "    return df\n",
    "\n",
    "\n",
    "def identify(df, dt_table, sec_table):\n",
    "    df = datetime2id(df, dt_table)\n",
    "    df = section2id(df, sec_table)\n",
    "    return df"
   ]
  },
  {
   "cell_type": "code",
   "execution_count": 16,
   "id": "f8ae9e67-47b0-4274-b963-edf85e4b3786",
   "metadata": {},
   "outputs": [],
   "source": [
    "df_test = identify(df_test, dt_table, sec_table)\n",
    "df_test.to_pickle('./datasets_1h/kannetsu_210402-210531.pkl')\n",
    "\n",
    "df_all = identify(df_all, dt_table, sec_table)\n",
    "df_all.to_pickle('./datasets_1h/kannetsu_210402-220531.pkl')"
   ]
  },
  {
   "cell_type": "markdown",
   "id": "e0a41bef-baf7-4240-a8cd-184ee4e8b9f1",
   "metadata": {
    "jp-MarkdownHeadingCollapsed": true,
    "tags": []
   },
   "source": [
    "## Train, Testに分割"
   ]
  },
  {
   "cell_type": "code",
   "execution_count": 32,
   "id": "cded5add-616d-47ab-b199-ade684840ebb",
   "metadata": {},
   "outputs": [],
   "source": [
    "# train: 2021/4/2 - 2022/2/28\n",
    "# test: 2022/3/1 - 2022/5/31\n",
    "df_all = pd.read_pickle('./datasets_1h/kannetsu_210402-220531.pkl')\n",
    "\n",
    "sep_date = '2022/3/1'\n",
    "df_train = df_all.loc[df_all['datetime'] < pd.Timestamp(sep_date)]\n",
    "df_test = df_all.loc[df_all['datetime'] >= pd.Timestamp(sep_date)]\n",
    "\n",
    "df_train.to_pickle('./datasets_1h/kannetsu_210402-220228.pkl')\n",
    "df_test.to_pickle('./datasets_1h/kannetsu_220301-220531.pkl')"
   ]
  },
  {
   "cell_type": "code",
   "execution_count": 33,
   "id": "c491ee0e-e075-4465-94ce-420715a72ab0",
   "metadata": {},
   "outputs": [],
   "source": [
    "# train: 2021/4/2 - 2021/5/19\n",
    "# test: 2021/5/20 - 2021/5/31\n",
    "df_mini = pd.read_pickle('./datasets_1h/kannetsu_210402-210531.pkl')\n",
    "\n",
    "sep_date = '2021/5/20'\n",
    "df_train = df_mini.loc[df_mini['datetime'] < pd.Timestamp(sep_date)]\n",
    "df_test = df_mini.loc[df_mini['datetime'] >= pd.Timestamp(sep_date)]\n",
    "\n",
    "df_train.to_pickle('./datasets_1h/kannetsu_210402-210519.pkl')\n",
    "df_test.to_pickle('./datasets_1h/kannetsu_210520-210531.pkl')"
   ]
  },
  {
   "cell_type": "markdown",
   "id": "d43a0e9b-14b1-434c-8de6-2aa603db4727",
   "metadata": {
    "jp-MarkdownHeadingCollapsed": true,
    "tags": []
   },
   "source": [
    "## Spatial Temporal Matrixに整形\n",
    "- 区間数 x 時系列数 の行列\n",
    "- 実際は 区間数 x 時系列数 x 特徴量数 のテンソル"
   ]
  },
  {
   "cell_type": "code",
   "execution_count": 34,
   "id": "388e22b3-fa73-4af8-83ae-dad170795ed8",
   "metadata": {},
   "outputs": [],
   "source": [
    "df_test_tr = pd.read_pickle('./datasets_1h/kannetsu_210402-210519.pkl')\n",
    "df_test_va = pd.read_pickle('./datasets_1h/kannetsu_210520-210531.pkl')\n",
    "\n",
    "df_all_tr = pd.read_pickle('./datasets_1h/kannetsu_210402-220228.pkl')\n",
    "df_all_va = pd.read_pickle('./datasets_1h/kannetsu_220301-220531.pkl')\n",
    "\n",
    "dt_table = pd.read_pickle(f'{config.TABLES_DIR}/datetime_table.pkl')\n",
    "sec_table = pd.read_pickle(f'{config.TABLES_DIR}/section_table.pkl')"
   ]
  },
  {
   "cell_type": "code",
   "execution_count": 41,
   "id": "0b39c58f-57dc-48c9-a557-0f5e71ead960",
   "metadata": {
    "tags": []
   },
   "outputs": [],
   "source": [
    "# 特徴量の元になる列\n",
    "# time_col = ['month', 'hour', 'dayofweek', 'is_holiday']\n",
    "# section_col = ['direction', 'lane_count', 'KP']\n",
    "time_col = ['datetime_id']\n",
    "section_col = ['section_id']\n",
    "search_col = ['search_1h', 'search_unspec_1d']\n",
    "traffic_col = ['allCars']\n",
    "\n",
    "feature_col = time_col + section_col + search_col + traffic_col\n",
    "# feature_col = time_col + section_col + traffic_col\n",
    "# feature_col = search_col + traffic_col\n",
    "\n",
    "# 予測対象\n",
    "target_col = 'allCars'"
   ]
  },
  {
   "cell_type": "code",
   "execution_count": 44,
   "id": "36cfca28-8fa1-49f8-a821-5b7c5f49d976",
   "metadata": {},
   "outputs": [
    {
     "name": "stdout",
     "output_type": "stream",
     "text": [
      "torch.Size([5, 7992, 63]) torch.Size([5, 2208, 63]) torch.Size([1, 7992, 63]) torch.Size([1, 2208, 63])\n"
     ]
    }
   ],
   "source": [
    "X_tr, y_tr = format_stmatrix(df_all_tr, sec_table, feature_col, config.TARGET_COL)\n",
    "X_va, y_va = format_stmatrix(df_all_va, sec_table, feature_col, config.TARGET_COL)\n",
    "print(X_tr.shape, X_va.shape, y_tr.shape, y_va.shape)"
   ]
  },
  {
   "cell_type": "code",
   "execution_count": 47,
   "id": "3ffac485-c759-4a8c-be33-a714e2b4ada5",
   "metadata": {},
   "outputs": [],
   "source": [
    "# torch.save(X_tr, './datasets_1h/features_train.pkl')\n",
    "# torch.save(X_va, './datasets_1h/features_test.pkl')\n",
    "# torch.save(y_tr, './datasets_1h/labels_train.pkl')\n",
    "# torch.save(y_va, './datasets_1h/labels_test.pkl')\n",
    "\n",
    "# torch.save(X_tr, f'datasets_1h/mini_features_train.pkl')\n",
    "# torch.save(X_va, f'datasets_1h/mini_features_test.pkl')\n",
    "# torch.save(y_tr, f'datasets_1h/mini_labels_train.pkl')\n",
    "# torch.save(y_va, f'datasets_1h/mini_labels_test.pkl')"
   ]
  },
  {
   "cell_type": "markdown",
   "id": "e376cb0a-2709-4e34-94af-8c23af4a418f",
   "metadata": {
    "jp-MarkdownHeadingCollapsed": true,
    "tags": []
   },
   "source": [
    "## 標準化・正規化\n",
    "- 標準化を行う\n",
    "- 時間特徴量（`month`, `hour`, `day_of_week`）はsin, cosで変換するのもやってみる\n",
    "- 検索数, 台数は上り・下り別でもやってみる"
   ]
  },
  {
   "cell_type": "code",
   "execution_count": 51,
   "id": "70b43f0a-daa0-4011-8eb4-a3d1c155acb6",
   "metadata": {},
   "outputs": [
    {
     "name": "stdout",
     "output_type": "stream",
     "text": [
      "torch.Size([5, 7992, 63]) torch.Size([5, 2208, 63])\n",
      "torch.Size([1, 7992, 63]) torch.Size([1, 2208, 63])\n"
     ]
    }
   ],
   "source": [
    "dt_table = pd.read_pickle(f'{config.TABLES_DIR}/datetime_table.pkl')\n",
    "sec_table = pd.read_pickle(f'{config.TABLES_DIR}/section_table.pkl')\n",
    "\n",
    "X_tr = torch.load('./datasets_1h/features_train.pkl')\n",
    "X_va = torch.load('./datasets_1h/features_test.pkl')\n",
    "y_tr = torch.load('./datasets_1h/labels_train.pkl')\n",
    "y_va = torch.load('./datasets_1h/labels_test.pkl')\n",
    "\n",
    "# X_tr = torch.load(f'datasets_1h/mini_features_train.pkl')\n",
    "# X_va = torch.load(f'datasets_1h/mini_features_test.pkl')\n",
    "# y_tr = torch.load(f'datasets_1h/mini_labels_train.pkl')\n",
    "# y_va = torch.load(f'datasets_1h/mini_labels_test.pkl')\n",
    "\n",
    "print(X_tr.shape, X_va.shape)\n",
    "print(y_tr.shape, y_va.shape)"
   ]
  },
  {
   "cell_type": "code",
   "execution_count": 52,
   "id": "d59f0469-e844-48d9-b897-4c4b2596f2ab",
   "metadata": {
    "tags": []
   },
   "outputs": [],
   "source": [
    "# ID列は飛ばして標準化\n",
    "skip_features = [0, 1]\n",
    "scaler = STMatrixStandardScaler(skip_features=skip_features)\n",
    "\n",
    "scaler.fit(X_tr)\n",
    "X_tr_norm = scaler.transform(X_tr)\n",
    "\n",
    "scaler.fit(X_va)\n",
    "X_va_norm = scaler.transform(X_va)\n",
    "\n",
    "# torch.save(X_tr_norm, f'datasets_1h/features_train_norm.pkl')\n",
    "# torch.save(X_va_norm, f'datasets_1h/features_test_norm.pkl')"
   ]
  },
  {
   "cell_type": "markdown",
   "id": "393b4d27-83ee-4e74-8cbd-e2f88b5bc7e3",
   "metadata": {},
   "source": [
    "## データセットの定義"
   ]
  },
  {
   "cell_type": "code",
   "execution_count": 3,
   "id": "265d39fd-7d3b-47e2-96d6-aad31ba1ecfa",
   "metadata": {},
   "outputs": [
    {
     "name": "stdout",
     "output_type": "stream",
     "text": [
      "(288, 1) (63, 4)\n",
      "torch.Size([5, 7992, 63]) torch.Size([5, 2208, 63])\n",
      "torch.Size([1, 7992, 63]) torch.Size([1, 2208, 63])\n"
     ]
    }
   ],
   "source": [
    "dt_table = pd.read_pickle(f'{config.TABLES_DIR}/datetime_table.pkl')\n",
    "sec_table = pd.read_pickle(f'{config.TABLES_DIR}/section_table.pkl')\n",
    "\n",
    "X_tr = torch.load(f'{config.DATASET_DIR}_1h/features_train_norm.pkl')\n",
    "X_va = torch.load(f'{config.DATASET_DIR}_1h/features_test_norm.pkl')\n",
    "y_tr = torch.load(f'{config.DATASET_DIR}_1h/labels_train.pkl')\n",
    "y_va = torch.load(f'{config.DATASET_DIR}_1h/labels_test.pkl')\n",
    "\n",
    "# X_tr = torch.load(f'datasets_1h/mini_features_train_norm.pkl')\n",
    "# X_va = torch.load(f'datasets_1h/mini_features_test_norm.pkl')\n",
    "# y_tr = torch.load(f'datasets_1h/mini_labels_train.pkl')\n",
    "# y_va = torch.load(f'datasets_1h/mini_labels_test.pkl')\n",
    "\n",
    "print(dt_table.shape, sec_table.shape)\n",
    "print(X_tr.shape, X_va.shape)\n",
    "print(y_tr.shape, y_va.shape)"
   ]
  },
  {
   "cell_type": "code",
   "execution_count": 4,
   "id": "d42da8b9-b106-4535-b6c1-6c1f8d5240f6",
   "metadata": {},
   "outputs": [],
   "source": [
    "from encdec.dataset import STDataset as STD"
   ]
  },
  {
   "cell_type": "code",
   "execution_count": 15,
   "id": "00a7120d-d3fc-41cf-a2cc-59d55670cda0",
   "metadata": {
    "tags": []
   },
   "outputs": [],
   "source": [
    "time_step = 7 * 24\n",
    "space_window = (-2, 2)\n",
    "\n",
    "dataset_train = STD(X_tr, y_tr, \n",
    "                          time_step=time_step, \n",
    "                          space_window=space_window)\n",
    "\n",
    "dataset_valid = STD(X_va, y_va, \n",
    "                          time_step=time_step, \n",
    "                          space_window=space_window)"
   ]
  },
  {
   "cell_type": "markdown",
   "id": "b340b55f-dcc6-4f86-a1d9-ed3c02faaaf3",
   "metadata": {
    "tags": []
   },
   "source": [
    "## Networkの定義"
   ]
  },
  {
   "cell_type": "markdown",
   "id": "6bd3e7f1-34ea-4ac3-89be-9503a8dbc6bb",
   "metadata": {
    "jp-MarkdownHeadingCollapsed": true,
    "tags": []
   },
   "source": [
    "### HA"
   ]
  },
  {
   "cell_type": "code",
   "execution_count": 19,
   "id": "97f15fb8-0331-4e92-89d2-5b16b9c2a9c7",
   "metadata": {},
   "outputs": [],
   "source": [
    "class HA:\n",
    "    def forward(self, x):\n",
    "        out = x[:, -1].mean(dim=1)\n",
    "        return out\n",
    "    \n",
    "    def __call__(self, x):\n",
    "        return self.forward(x)"
   ]
  },
  {
   "cell_type": "markdown",
   "id": "68688362-29fa-473b-8071-f742d901baf0",
   "metadata": {
    "jp-MarkdownHeadingCollapsed": true,
    "tags": []
   },
   "source": [
    "### LSTM"
   ]
  },
  {
   "cell_type": "code",
   "execution_count": 10,
   "id": "43a17bfe-5110-4967-9810-f2b11c7bddfe",
   "metadata": {
    "tags": []
   },
   "outputs": [],
   "source": [
    "class SimpleLSTM(nn.Module):\n",
    "    def __init__(self, in_dim, hid_dim, num_layers, batch_first=True):\n",
    "        super().__init__()\n",
    "        \n",
    "        self.in_dim = in_dim\n",
    "        self.hid_dim = hid_dim\n",
    "        self.num_layers = num_layers\n",
    "        \n",
    "        self.lstm = nn.LSTM(in_dim, hid_dim, num_layers, batch_first=True)\n",
    "        self.fc = nn.Linear(hid_dim, 1)\n",
    "    \n",
    "    def forward(self, x):\n",
    "        x = x.permute(0, 2, 1)\n",
    "        outs, (h, c) = self.lstm(x)\n",
    "        out = self.fc(h[0])\n",
    "        return out\n",
    "    \n",
    "\n",
    "class LSTM(nn.Module):\n",
    "    def __init__(self, hid_dim, num_layers=1, batch_first=True):\n",
    "        super().__init__()\n",
    "        \n",
    "        self.hid_dim = hid_dim\n",
    "        self.num_layers = num_layers\n",
    "        \n",
    "        self.lstm = nn.LSTM(1, hid_dim, num_layers, batch_first=batch_first)\n",
    "        self.search_lstm = nn.LSTM(2, hid_dim, num_layers, batch_first=batch_first)\n",
    "        \n",
    "        self.fc = nn.Linear(hid_dim * 2, 1)\n",
    "        \n",
    "    def forward(self, x):\n",
    "        x = x.permute(0, 2, 1)\n",
    "        outs, (h, c) = self.lstm(x[..., -1:])\n",
    "        s_outs, (s_h, s_c) = self.search_lstm(x[..., -3:-1])\n",
    "        out = torch.cat([h[0], s_h[0]], dim=1)\n",
    "        out = self.fc(out)\n",
    "        return out"
   ]
  },
  {
   "cell_type": "markdown",
   "id": "66571ee8-675a-4eb0-b4b0-ebf2738a7725",
   "metadata": {
    "jp-MarkdownHeadingCollapsed": true,
    "tags": []
   },
   "source": [
    "### Embedding + LSTM"
   ]
  },
  {
   "cell_type": "code",
   "execution_count": null,
   "id": "66e5c740-7ac7-4b2a-bbcd-03ffb1150fe7",
   "metadata": {},
   "outputs": [],
   "source": [
    "class LSTM_Embedding(nn.Module):\n",
    "    def __init__(self, hid_dim, num_layers=1, batch_first=True):\n",
    "        super().__init__()\n",
    "        \n",
    "        self.hid_dim = hid_dim\n",
    "        self.num_layers = num_layers\n",
    "        \n",
    "        self.dt_n_embed = 32\n",
    "        self.road_n_embed = 16\n",
    "        self.n_embed = self.dt_n_embed + self.road_n_embed\n",
    "        self.dt_embed = nn.Embedding(len(dt_table), self.dt_n_embed)\n",
    "        self.road_embed = nn.Embedding(len(sec_table), self.road_n_embed)\n",
    "        \n",
    "        self.traffic_lstm = nn.LSTM(1, hid_dim, num_layers, batch_first=batch_first)\n",
    "        self.search_lstm = nn.LSTM(2, hid_dim, num_layers, batch_first=batch_first)\n",
    "        \n",
    "        self.cat_fc = nn.Linear(self.n_embed, 16)\n",
    "        self.fc1 = nn.Linear(hid_dim * 2 + 16, 32)\n",
    "        self.fc2 = nn.Linear(32, 1)\n",
    "        \n",
    "        \n",
    "    def forward(self, x):  \n",
    "        x_dy, x_st = x\n",
    "        \n",
    "        # categorical (datetime + road)\n",
    "        dt_emb = self.dt_embed(x_st[..., 0].to(dtype=torch.int64))\n",
    "        road_emb = self.road_embed(x_st[..., 1].to(dtype=torch.int64))\n",
    "        cat_emb = torch.cat([dt_emb, road_emb], dim=1)\n",
    "        cat_out = F.relu(self.cat_fc(cat_emb))\n",
    "        \n",
    "        # traffic\n",
    "        x_dy = x_dy.permute(0, 2, 1)\n",
    "        _, (traffic_h, _) = self.traffic_lstm(x_dy[..., -1:])\n",
    "        \n",
    "        # search\n",
    "        _, (search_h, _) = self.search_lstm(x_dy[..., -3:-1])\n",
    "        # linear\n",
    "        out = torch.cat([traffic_h[0], search_h[0], cat_out], dim=1)\n",
    "        out = F.relu(self.fc1(out))\n",
    "        out = self.fc2(out)\n",
    "        return out"
   ]
  },
  {
   "cell_type": "markdown",
   "id": "c706e125-cdf0-4590-9817-bc3deff9ada1",
   "metadata": {
    "jp-MarkdownHeadingCollapsed": true,
    "tags": []
   },
   "source": [
    "### Conv1d + LSTM"
   ]
  },
  {
   "cell_type": "code",
   "execution_count": 32,
   "id": "3cff1d03-a345-40f5-8970-df8f0bc6d44b",
   "metadata": {},
   "outputs": [],
   "source": [
    "class Conv1dLSTM(nn.Module):\n",
    "    def __init__(self, hid_dim, kernel_size, num_layers=1, batch_first=True):\n",
    "        super().__init__()\n",
    "        \n",
    "        self.hid_dim = hid_dim\n",
    "        self.kernel_size = kernel_size\n",
    "        self.num_layers = num_layers\n",
    "        \n",
    "        self.conv = nn.Conv1d(96, 96, 5)\n",
    "        self.lstm = nn.LSTM(1, hid_dim, num_layers, batch_first=batch_first)\n",
    "        \n",
    "        self.search_conv1 = nn.Conv1d(96, 96, 5)\n",
    "        self.search_conv2 = nn.Conv1d(96, 96, 5)\n",
    "        self.search_fc = nn.Linear(96*2, 64)\n",
    "        \n",
    "        self.fc1 = nn.Linear(hid_dim + 64, 32)\n",
    "        self.fc2 = nn.Linear(32, 1)\n",
    "    \n",
    "    def forward(self, x):\n",
    "        N, D, T, S = x.shape\n",
    "        \n",
    "        # traffic\n",
    "        out = F.relu(self.conv(x[:, -1]))\n",
    "        _, (h, c) = self.lstm(out)\n",
    "        \n",
    "        # search\n",
    "        s_out1 = F.relu(self.search_conv1(x[:, -3]))\n",
    "        s_out1 = s_out1.view(N, -1)\n",
    "        s_out2 = F.relu(self.search_conv2(x[:, -2]))\n",
    "        s_out2 = s_out2.view(N, -1)\n",
    "        s_out = torch.cat([s_out1, s_out2], dim=1)\n",
    "        s_out = F.relu(self.search_fc(s_out))\n",
    "        \n",
    "        # concat\n",
    "        out = torch.cat([h[0], s_out], dim=1)\n",
    "        out = F.relu(self.fc1(out))\n",
    "        out = self.fc2(out)\n",
    "        \n",
    "        return out"
   ]
  },
  {
   "cell_type": "markdown",
   "id": "097cac43-51a8-4f97-86df-21fba6e57ca0",
   "metadata": {
    "jp-MarkdownHeadingCollapsed": true,
    "tags": []
   },
   "source": [
    "### Conv2d + LSTM"
   ]
  },
  {
   "cell_type": "code",
   "execution_count": null,
   "id": "6806342f-9e74-435a-95de-eb5606575288",
   "metadata": {},
   "outputs": [],
   "source": [
    "class Conv2dLSTM(nn.Module):\n",
    "    def __init__(self, hid_dim, kernel_size, num_layers=1, batch_first=True):\n",
    "        super().__init__()\n",
    "        \n",
    "        self.hid_dim = hid_dim\n",
    "        self.kernel_size = kernel_size\n",
    "        self.num_layers = num_layers\n",
    "        self.padding = (4, 0)\n",
    "        \n",
    "        self.conv1 = nn.Conv2d(1, 32, (9, 3), padding=self.padding)\n",
    "        self.conv2 = nn.Conv2d(32, 16, (9, 3), padding=self.padding)\n",
    "        self.lstm = nn.LSTM(16, hid_dim, num_layers, batch_first=batch_first)\n",
    "        \n",
    "        self.search_conv1 = nn.Conv2d(2, 64, (9, 3), padding=self.padding)\n",
    "        self.search_conv2 = nn.Conv2d(64, 32, (9, 3), padding=self.padding)\n",
    "        self.search_fc = nn.Linear(32 * 96, 64)\n",
    "        \n",
    "        self.fc1 = nn.Linear(hid_dim + 64, 32)\n",
    "        self.fc2 = nn.Linear(32, 1)\n",
    "    \n",
    "    def forward(self, x):\n",
    "        N, D, T, S = x.shape   \n",
    "        # traffic\n",
    "        out = F.relu(self.conv1(x[:, -1:]))\n",
    "        out = F.relu(self.conv2(out))\n",
    "        out = out[..., 0].permute(0, 2, 1)\n",
    "        outs, (h, c) = self.lstm(out)\n",
    "        \n",
    "        # search feature\n",
    "        s_out = F.relu(self.search_conv1(x[:, -3:-1]))\n",
    "        s_out = F.relu(self.search_conv2(s_out))\n",
    "        s_out = s_out.view(N, -1)\n",
    "        s_out = F.relu(self.search_fc(s_out))\n",
    "        \n",
    "        # predict\n",
    "        out = torch.cat([h[0], s_out], dim=1)\n",
    "        out = F.relu(self.fc1(out))\n",
    "        out = self.fc2(out)\n",
    "        \n",
    "        return out"
   ]
  },
  {
   "cell_type": "markdown",
   "id": "5b51dab4-9100-4b0c-b7de-ec0801fc9f9d",
   "metadata": {
    "jp-MarkdownHeadingCollapsed": true,
    "tags": []
   },
   "source": [
    "### Embedding + Conv2d + LSTM"
   ]
  },
  {
   "cell_type": "code",
   "execution_count": 6,
   "id": "ed4d691f-225e-4a0d-b66a-915f90746fe3",
   "metadata": {
    "tags": []
   },
   "outputs": [],
   "source": [
    "class Conv2dLSTM_Embedding(nn.Module):\n",
    "    def __init__(self, hid_dim, kernel_size, padding=(4,0), num_layers=1, batch_first=True):\n",
    "        super().__init__()\n",
    "        \n",
    "        self.hid_dim = hid_dim\n",
    "        self.kernel_size = kernel_size\n",
    "        self.num_layers = num_layers\n",
    "        self.padding = padding\n",
    "        \n",
    "        # categorical\n",
    "        self.dt_n_embed = 32\n",
    "        self.road_n_embed = 16\n",
    "        self.n_embed = self.dt_n_embed + self.road_n_embed\n",
    "        self.dt_embed = nn.Embedding(len(dt_table), self.dt_n_embed)\n",
    "        self.road_embed = nn.Embedding(len(sec_table), self.road_n_embed)\n",
    "        self.cat_fc = nn.Linear(self.n_embed, 16)\n",
    "        \n",
    "        # traffic\n",
    "        self.conv1 = nn.Conv2d(1, 32, (9, 3), padding=self.padding)\n",
    "        self.conv2 = nn.Conv2d(32, 16, (9, 3), padding=self.padding)\n",
    "        self.lstm = nn.LSTM(16, hid_dim, num_layers, batch_first=batch_first)\n",
    "        \n",
    "        # search\n",
    "        self.search_conv1 = nn.Conv2d(2, 64, (9, 3), padding=self.padding)\n",
    "        self.search_conv2 = nn.Conv2d(64, 32, (9, 3), padding=self.padding)\n",
    "        self.search_fc = nn.Linear(32 * 96, 64)\n",
    "        \n",
    "        # linear (traffic + search + categorical)\n",
    "        self.fc1 = nn.Linear(hid_dim + 64 + 16, 32)\n",
    "        self.fc2 = nn.Linear(32, 1)\n",
    "        \n",
    "        \n",
    "    def forward(self, x):  \n",
    "        x_dy, x_st = x\n",
    "        N, D, T, S = x_dy.shape\n",
    "        \n",
    "        # categorical (datetime + road)\n",
    "        dt_emb = self.dt_embed(x_st[..., 0].to(dtype=torch.int64))\n",
    "        road_emb = self.road_embed(x_st[..., 1].to(dtype=torch.int64))\n",
    "        cat_emb = torch.cat([dt_emb, road_emb], dim=1)\n",
    "        cat_out = F.relu(self.cat_fc(cat_emb))\n",
    "        \n",
    "        # traffic\n",
    "        out = F.relu(self.conv1(x_dy[:, -1:]))\n",
    "        out = F.relu(self.conv2(out))\n",
    "        out = out[..., 0].permute(0, 2, 1)\n",
    "        outs, (h, c) = self.lstm(out)\n",
    "        \n",
    "        # search\n",
    "        s_out = F.relu(self.search_conv1(x_dy[:, -3:-1]))\n",
    "        s_out = F.relu(self.search_conv2(s_out))\n",
    "        s_out = s_out.view(N, -1)\n",
    "        s_out = F.relu(self.search_fc(s_out))\n",
    "        \n",
    "        # linear\n",
    "        out = torch.cat([h[0], s_out, cat_out], dim=1)\n",
    "        out = F.relu(self.fc1(out))\n",
    "        out = self.fc2(out)\n",
    "        \n",
    "        return out"
   ]
  },
  {
   "cell_type": "markdown",
   "id": "a4af1ea9-e99d-43ae-9552-bd810721018c",
   "metadata": {
    "jp-MarkdownHeadingCollapsed": true,
    "tags": []
   },
   "source": [
    "### Encoder-Decoder"
   ]
  },
  {
   "cell_type": "code",
   "execution_count": 6,
   "id": "9720bd9c-4969-455e-87d0-0ddab4b9ae74",
   "metadata": {},
   "outputs": [],
   "source": [
    "TRAFFIC_CONV = 64\n",
    "TRAFFIC_HIDDEN = 128\n",
    "TRAFFIC_LSTM_LAYERS = 2\n",
    "TRAFFIC_KERNEL = (7,5)\n",
    "\n",
    "SEARCH_CONV = 64\n",
    "SEARCH_HIDDEN = 128\n",
    "SEARCH_LSTM_LAYERS = 2\n",
    "SEARCH_KERNEL = (7,5)\n",
    "\n",
    "UNSPEC_SEARCH_HIDDEN = 64\n",
    "UNSPEC_SEARCH_KERNEL = 5\n",
    "\n",
    "DATETIME_EMB = 32\n",
    "ROAD_EMB = 16\n",
    "\n",
    "FC_EMB = 32"
   ]
  },
  {
   "cell_type": "code",
   "execution_count": 35,
   "id": "8dd6c6e3-fc6b-4e33-8171-19e966137abf",
   "metadata": {},
   "outputs": [],
   "source": [
    "class TrafficSearchEncoder(nn.Module):\n",
    "    def __init__(self, conv_dim, kernel, lstm_dim, lstm_layers):\n",
    "        super().__init__()\n",
    "        \n",
    "        self.conv = nn.Conv2d(1, conv_dim, kernel, padding=(kernel[0]//2, 0), padding_mode='replicate')\n",
    "        self.lstm = nn.LSTM(conv_dim, lstm_dim, lstm_layers, batch_first=True)\n",
    "    \n",
    "    def forward(self, x):\n",
    "        N, T, S = x.shape\n",
    "        \n",
    "        out = F.relu(self.conv(x.unsqueeze(1)))\n",
    "        # N x C x T -> N x T x C\n",
    "        out = out[..., 0].permute(0, 2, 1)\n",
    "        # N x T x C -> N x T x H_t, (L x N x H_t, L x N x H_t)\n",
    "        outs, (h, c) = self.lstm(out)\n",
    "\n",
    "        return outs, (h, c)\n",
    "\n",
    "    \n",
    "class SearchUnspecEncoder(nn.Module):\n",
    "    def __init__(self):\n",
    "        super().__init__()\n",
    "        \n",
    "        self.conv = nn.Conv1d(1, UNSPEC_SEARCH_HIDDEN, UNSPEC_SEARCH_KERNEL, padding_mode='replicate')\n",
    "    \n",
    "    def forward(self, x):\n",
    "        N, T, S = x.shape\n",
    "        out = F.relu(self.conv(x))\n",
    "        # N x C x T -> N x T x C\n",
    "        out = out.permute(0, 2, 1)\n",
    "        return out\n",
    "\n",
    "    \n",
    "class Encoder(nn.Module):\n",
    "    def __init__(self):\n",
    "        super().__init__()\n",
    "        \n",
    "        self.traffic_encoder = TrafficSearchEncoder(TRAFFIC_CONV, TRAFFIC_KERNEL, TRAFFIC_HIDDEN, TRAFFIC_LSTM_LAYERS)\n",
    "        self.search_encoder = TrafficSearchEncoder(SEARCH_CONV, SEARCH_KERNEL, SEARCH_HIDDEN, SEARCH_LSTM_LAYERS)\n",
    "        self.unspec_search_encoder = SearchUnspecEncoder()\n",
    "        \n",
    "    def forward(self, x_trf, x_sr, x_un_sr):\n",
    "        # N x T x S -> N x T x H_t, (L_t x N x H_t, L_t x N x H_t)\n",
    "        outs_trf, state_trf = self.traffic_encoder(x_trf)\n",
    "        # N x P x S -> N x P x H_s, (L_s x N x H_s, L_s x N x H_s) \n",
    "        outs_sr, state_sr = self.search_encoder(x_sr)\n",
    "        # N x 1 x S -> N x P x H_u\n",
    "        out_un_sr = self.unspec_search_encoder(x_un_sr)\n",
    "\n",
    "        return (outs_trf, state_trf), outs_sr, out_un_sr\n",
    "    \n",
    "\n",
    "class WithoutEncoder(nn.Module):\n",
    "    def __init__(self):\n",
    "        super().__init__()\n",
    "        \n",
    "        self.traffic_encoder = TrafficSearchEncoder(TRAFFIC_CONV, TRAFFIC_KERNEL, TRAFFIC_HIDDEN, TRAFFIC_LSTM_LAYERS)\n",
    "        \n",
    "    def forward(self, x_trf):\n",
    "        # N x T x S -> N x T x H_t, (L_t x N x H_t, L_t x N x H_t)\n",
    "        outs_trf, state_trf = self.traffic_encoder(x_trf)\n",
    "        return outs_trf, state_trf"
   ]
  },
  {
   "cell_type": "code",
   "execution_count": 22,
   "id": "cf4c3742-ebe5-4e1b-91ca-8d2e6ff316fe",
   "metadata": {},
   "outputs": [],
   "source": [
    "class CategoricalEmbedding(nn.Module):\n",
    "    def __init__(self, category_size, emb_size):\n",
    "        super().__init__()\n",
    "\n",
    "        self.category_size = category_size\n",
    "        self.emb_size = emb_size\n",
    "        self.embedding = nn.Embedding(category_size, emb_size)\n",
    "\n",
    "    def forward(self, x):\n",
    "        out = self.embedding(x.to(dtype=torch.int64))\n",
    "        return out"
   ]
  },
  {
   "cell_type": "code",
   "execution_count": 23,
   "id": "bdd0dca3-cb37-417f-8523-ea77c807959d",
   "metadata": {},
   "outputs": [],
   "source": [
    "class TrafficDecoder(nn.Module):\n",
    "    def __init__(self):\n",
    "        super().__init__()\n",
    "        self.lstm = nn.LSTM(1, TRAFFIC_HIDDEN, TRAFFIC_LSTM_LAYERS, batch_first=True)\n",
    "        \n",
    "    def forward(self, x, encoded):\n",
    "        N, _, P = x.shape\n",
    "        h, c = encoded\n",
    "        state = (h[0].repeat(2,1,1), c[0].repeat(2,1,1))\n",
    "        \n",
    "        # N x C=1 x P -> N x P x C=1\n",
    "        x = x.permute(0, 2, 1)\n",
    "        # N x P x C, (L x N x H_t, L x N x H_t) -> N x P x H_t, (L x N x H_t, L x N x H_t)\n",
    "        outs, state = self.lstm(x, state)\n",
    "        return outs, state"
   ]
  },
  {
   "cell_type": "code",
   "execution_count": 37,
   "id": "b1de7b3c-12de-405c-a1d2-9d732ea8f9c2",
   "metadata": {},
   "outputs": [],
   "source": [
    "class AffineDecoder(nn.Module):\n",
    "    def __init__(self):\n",
    "        super().__init__()\n",
    "        \n",
    "        self.n_dim = TRAFFIC_HIDDEN + SEARCH_HIDDEN + UNSPEC_SEARCH_HIDDEN + DATETIME_EMB + ROAD_EMB\n",
    "        \n",
    "        self.datetime_embedding = CategoricalEmbedding(config.DT_TABLE_SIZE, DATETIME_EMB)\n",
    "        self.road_embedding = CategoricalEmbedding(config.SEC_TABLE_SIZE, ROAD_EMB)\n",
    "        \n",
    "        self.fc1 = nn.Linear(self.n_dim, FC_EMB)\n",
    "        self.fc2 = nn.Linear(FC_EMB, 1)\n",
    "        \n",
    "    def forward(self, trf_dec, sr_enc, un_sr_enc, dt, rd):\n",
    "        # traffic_dec: N x P x H_t\n",
    "        N, P, H_t = trf_dec.shape\n",
    "        # search_enc: N x P x H_s\n",
    "        _, _, H_s = sr_enc.shape\n",
    "        # un_search_enc: N x 1 x H_u\n",
    "        _, _, H_u = un_sr_enc.shape\n",
    "        \n",
    "        # N x P -> N x P x H_d\n",
    "        dt_emb = self.datetime_embedding(dt)\n",
    "        # N x 1 -> N x 1 x H_r\n",
    "        rd_emb = self.road_embedding(rd)\n",
    "        \n",
    "        outs = torch.cat([\n",
    "            dt_emb, \n",
    "            rd_emb.repeat(1, P, 1), \n",
    "            sr_enc, \n",
    "            un_sr_enc.repeat(1, P, 1),\n",
    "            trf_dec\n",
    "        ], dim=-1)\n",
    "        # N x P x SUM -> N x P x H_fc\n",
    "        outs = F.relu(self.fc1(outs))\n",
    "        # N x P x H_fc -> N x P x 1\n",
    "        outs = self.fc2(outs)\n",
    "        \n",
    "        return outs \n",
    "    \n",
    "\n",
    "class WithoutAffineDecoder(nn.Module):\n",
    "    def __init__(self):\n",
    "        super().__init__()\n",
    "        \n",
    "        self.n_dim = TRAFFIC_HIDDEN + DATETIME_EMB + ROAD_EMB\n",
    "        \n",
    "        self.datetime_embedding = CategoricalEmbedding(config.DT_TABLE_SIZE, DATETIME_EMB)\n",
    "        self.road_embedding = CategoricalEmbedding(config.SEC_TABLE_SIZE, ROAD_EMB)\n",
    "        \n",
    "        self.fc1 = nn.Linear(self.n_dim, FC_EMB)\n",
    "        self.fc2 = nn.Linear(FC_EMB, 1)\n",
    "        \n",
    "    def forward(self, trf_dec, dt, rd):\n",
    "        # traffic_dec: N x P x H_t\n",
    "        N, P, H_t = trf_dec.shape\n",
    "        \n",
    "        # N x P -> N x P x H_d\n",
    "        dt_emb = self.datetime_embedding(dt)\n",
    "        # N x 1 -> N x 1 x H_r\n",
    "        rd_emb = self.road_embedding(rd)\n",
    "        \n",
    "        outs = torch.cat([\n",
    "            dt_emb, \n",
    "            rd_emb.repeat(1, P, 1), \n",
    "            trf_dec\n",
    "        ], dim=-1)\n",
    "        # N x P x SUM -> N x P x H_fc\n",
    "        outs = F.relu(self.fc1(outs))\n",
    "        # N x P x H_fc -> N x P x 1\n",
    "        outs = self.fc2(outs)\n",
    "        \n",
    "        return outs "
   ]
  },
  {
   "cell_type": "code",
   "execution_count": 38,
   "id": "043357ae-268d-4733-9c7c-1b1d54845207",
   "metadata": {},
   "outputs": [],
   "source": [
    "class Decoder(nn.Module):\n",
    "    def __init__(self):\n",
    "        super().__init__()\n",
    "        \n",
    "        self.traffic_decoder = TrafficDecoder()\n",
    "        self.affine_decoder = AffineDecoder()\n",
    "    \n",
    "    def forward(self, x, trf_enc, sr_enc, un_sr_enc, dt, rd):\n",
    "        # N x 1 x P, (L x N x H_t, L x N x H_t) -> N x P x H_t, (L x N x H_t, L x N x H_t)\n",
    "        outs_trf, state_trf = self.traffic_decoder(x, trf_enc)\n",
    "        outs = self.affine_decoder(outs_trf, sr_enc, un_sr_enc, dt, rd)\n",
    "        # N x P x 1 -> N x P\n",
    "        outs = outs[..., 0]\n",
    "        return outs\n",
    "    \n",
    "    def generate(self, trf_enc, sr_enc, un_sr_enc, dt, rd, start_value=-1.0):\n",
    "        with torch.no_grad():\n",
    "            # N x 1 x 1\n",
    "            N = sr_enc.shape[0]\n",
    "            out = torch.tensor(start_value).repeat(N).unsqueeze(-1).unsqueeze(-1)\n",
    "            out = out.to(sr_enc.device)\n",
    "            generated = []\n",
    "\n",
    "            for i in range(24):\n",
    "                x = out\n",
    "                out_trf, state_trf = self.traffic_decoder(x, trf_enc)\n",
    "                out = self.affine_decoder(out_trf, sr_enc[:, [i]], un_sr_enc, dt[:, [i]], rd)\n",
    "\n",
    "                generated.append(out)\n",
    "        \n",
    "        # N x P x 1\n",
    "        generated = torch.cat(generated, dim=1)\n",
    "        # N x P x 1 -> N x P\n",
    "        generated = generated[..., 0]\n",
    "        return generated\n",
    "    \n",
    "\n",
    "class WithoutDecoder(nn.Module):\n",
    "    def __init__(self):\n",
    "        super().__init__()\n",
    "        \n",
    "        self.traffic_decoder = TrafficDecoder()\n",
    "        self.affine_decoder = WithoutAffineDecoder()\n",
    "    \n",
    "    def forward(self, x, trf_enc, dt, rd):\n",
    "        # N x 1 x P, (L x N x H_t, L x N x H_t) -> N x P x H_t, (L x N x H_t, L x N x H_t)\n",
    "        outs_trf, state_trf = self.traffic_decoder(x, trf_enc)\n",
    "        outs = self.affine_decoder(outs_trf, dt, rd)\n",
    "        # N x P x 1 -> N x P\n",
    "        outs = outs[..., 0]\n",
    "        return outs\n",
    "    \n",
    "    def generate(self, trf_enc, dt, rd, start_value=-1.0):\n",
    "        with torch.no_grad():\n",
    "            # N x 1 x 1\n",
    "            N = dt.shape[0]\n",
    "            out = torch.tensor(start_value).repeat(N).unsqueeze(-1).unsqueeze(-1)\n",
    "            out = out.to(dt.device)\n",
    "            generated = []\n",
    "\n",
    "            for i in range(24):\n",
    "                x = out\n",
    "                out_trf, state_trf = self.traffic_decoder(x, trf_enc)\n",
    "                out = self.affine_decoder(out_trf, dt[:, [i]], rd)\n",
    "\n",
    "                generated.append(out)\n",
    "        \n",
    "        # N x P x 1\n",
    "        generated = torch.cat(generated, dim=1)\n",
    "        # N x P x 1 -> N x P\n",
    "        generated = generated[..., 0]\n",
    "        return generated"
   ]
  },
  {
   "cell_type": "code",
   "execution_count": 49,
   "id": "bb50e3a3-8028-49cc-86d9-ffe29339d292",
   "metadata": {
    "tags": []
   },
   "outputs": [],
   "source": [
    "class EncoderDecoder(nn.Module):\n",
    "    def __init__(self):\n",
    "        super().__init__()\n",
    "        \n",
    "        self.encoder = Encoder()\n",
    "        self.decoder = Decoder()\n",
    "        \n",
    "    def forward(self, features, decoder_xs):\n",
    "        dt, rd, sr, un_sr, trf = features\n",
    "        \n",
    "        (outs_trf, state_trf), outs_sr, outs_un_sr = self.encoder(trf, sr, un_sr)\n",
    "        outs = self.decoder(decoder_xs, state_trf, outs_sr, outs_un_sr, dt, rd)\n",
    "\n",
    "        return outs\n",
    "    \n",
    "    def generate(self, features, start_value=-1.0):\n",
    "        dt, rd, sr, un_sr, trf = features\n",
    "        \n",
    "        (outs_trf, state_trf), outs_sr, outs_un_sr = self.encoder(trf, sr, un_sr)\n",
    "        generated = self.decoder.generate(state_trf, outs_sr, outs_un_sr, dt, rd, start_value)\n",
    "        return generated\n",
    "    \n",
    "    \n",
    "class WithoutEncoderDecoder(nn.Module):\n",
    "    def __init__(self):\n",
    "        super().__init__()\n",
    "        \n",
    "        self.encoder = WithoutEncoder()\n",
    "        self.decoder = WithoutDecoder()\n",
    "        \n",
    "    def forward(self, features, decoder_xs):\n",
    "        dt, rd, sr, un_sr, trf = features\n",
    "        \n",
    "        outs_trf, state_trf= self.encoder(trf)\n",
    "        outs = self.decoder(decoder_xs, state_trf, dt, rd)\n",
    "\n",
    "        return outs\n",
    "    \n",
    "    def generate(self, features, start_value=-1.0):\n",
    "        dt, rd, sr, un_sr, trf = features\n",
    "        \n",
    "        outs_trf, state_trf = self.encoder(trf)\n",
    "        generated = self.decoder.generate(state_trf, dt, rd, start_value)\n",
    "        return generated"
   ]
  },
  {
   "cell_type": "code",
   "execution_count": 30,
   "id": "d8bf64f4-75d8-4ff7-80f4-e5bc326345ef",
   "metadata": {},
   "outputs": [
    {
     "name": "stdout",
     "output_type": "stream",
     "text": [
      "torch.Size([16, 168, 5]) torch.Size([16, 1, 24])\n"
     ]
    }
   ],
   "source": [
    "(dt, rd, sr, un_sr, trf), labels = dataset_train[:16]\n",
    "print(trf.shape, labels.shape)"
   ]
  },
  {
   "cell_type": "code",
   "execution_count": 42,
   "id": "7a735cd0-6e7d-4e57-8e90-dce993ddddda",
   "metadata": {},
   "outputs": [],
   "source": [
    "(outs_trf, state_trf) = WithoutEncoder()(trf)"
   ]
  },
  {
   "cell_type": "code",
   "execution_count": 43,
   "id": "cd9ac8ea-2db1-4726-8dc2-b1d6ad012847",
   "metadata": {},
   "outputs": [],
   "source": [
    "predicted = WithoutDecoder().generate(state_trf, dt, rd)"
   ]
  },
  {
   "cell_type": "code",
   "execution_count": 51,
   "id": "78b3c09d-5697-41b0-8fb7-b3efca25b689",
   "metadata": {},
   "outputs": [],
   "source": [
    "predicted = WithoutEncoderDecoder().generate((dt, rd, sr, un_sr, trf))"
   ]
  },
  {
   "cell_type": "code",
   "execution_count": 31,
   "id": "e0735f29-d3a5-4993-b123-fc30448b86c9",
   "metadata": {},
   "outputs": [],
   "source": [
    "features, labels = dataset_train[:16]"
   ]
  },
  {
   "cell_type": "code",
   "execution_count": 32,
   "id": "218660b8-f9d8-4ab5-be3a-c18579df3e30",
   "metadata": {},
   "outputs": [],
   "source": [
    "decoder_xs = torch.full_like(labels, -1)\n",
    "decoder_xs[..., 1:] = labels[..., :-1]"
   ]
  },
  {
   "cell_type": "code",
   "execution_count": 40,
   "id": "0be0aee6-d215-4969-9b78-cf98730a4def",
   "metadata": {},
   "outputs": [
    {
     "data": {
      "text/plain": [
       "torch.Size([16, 24])"
      ]
     },
     "execution_count": 40,
     "metadata": {},
     "output_type": "execute_result"
    }
   ],
   "source": [
    "out = WithoutEncoderDecoder()((dt, rd, sr, un_sr, trf), decoder_xs)\n",
    "out.shape"
   ]
  },
  {
   "cell_type": "code",
   "execution_count": 21,
   "id": "28e01b30-9c91-48fc-bb54-e18a32b945a2",
   "metadata": {},
   "outputs": [
    {
     "data": {
      "text/plain": [
       "tensor(270.7314, grad_fn=<L1LossBackward0>)"
      ]
     },
     "execution_count": 21,
     "metadata": {},
     "output_type": "execute_result"
    }
   ],
   "source": [
    "nn.L1Loss()(out, labels.view(16, -1))"
   ]
  },
  {
   "cell_type": "markdown",
   "id": "8d41aa92-6edb-4ee7-940c-990101e90046",
   "metadata": {
    "tags": []
   },
   "source": [
    "## 学習"
   ]
  },
  {
   "cell_type": "code",
   "execution_count": 17,
   "id": "fab3e372-219a-45e6-807f-802404cf8c5e",
   "metadata": {},
   "outputs": [],
   "source": [
    "batch_size = config.BATCH_SIZE\n",
    "\n",
    "train_loader = torch.utils.data.DataLoader(dataset_train, batch_size=batch_size, shuffle=True)\n",
    "val_loader = torch.utils.data.DataLoader(dataset_valid, batch_size=batch_size, shuffle=False)"
   ]
  },
  {
   "cell_type": "code",
   "execution_count": 18,
   "id": "7d1dbeaa-a324-435e-b29d-e4771b38051e",
   "metadata": {},
   "outputs": [],
   "source": [
    "from encdec.trainer import Trainer\n",
    "from encdec.modules import EncoderDecoder, WithoutEncoderDecoder"
   ]
  },
  {
   "cell_type": "code",
   "execution_count": 19,
   "id": "4a1bec0a-9a5e-4020-b722-f6c7592955a1",
   "metadata": {},
   "outputs": [],
   "source": [
    "# hyper parameters\n",
    "n_epochs = 10\n",
    "\n",
    "# path\n",
    "# model_name = 'Embedding+LSTM'\n",
    "# log_path = './logs/mini_LSTM+Embedding.log'\n",
    "model_name, log_path = None, None\n",
    "\n",
    "# model\n",
    "model = WithoutEncoderDecoder().to(device)\n",
    "optimizer = optim.Adam(model.parameters())\n",
    "loss_fn = nn.L1Loss()\n",
    "\n",
    "logger = Logger(fname=log_path)\n",
    "trainer = Trainer(model, optimizer, loss_fn, device=device, logger=logger, model_name=model_name)"
   ]
  },
  {
   "cell_type": "code",
   "execution_count": 20,
   "id": "334eaf5c-6f2f-421a-8916-d94e344d16d7",
   "metadata": {
    "tags": []
   },
   "outputs": [
    {
     "name": "stdout",
     "output_type": "stream",
     "text": [
      "2022-09-02 11:02:16.528291 | Epoch: 1 | Train Loss: 38.256, Train Time: 2.01 [sec] | Valid Loss: 39.664, Valid Time: 0.63 [sec]\n",
      "2022-09-02 11:02:19.251163 | Epoch: 2 | Train Loss: 34.963, Train Time: 2.10 [sec] | Valid Loss: 35.157, Valid Time: 0.63 [sec]\n",
      "2022-09-02 11:02:21.868990 | Epoch: 3 | Train Loss: 29.876, Train Time: 1.99 [sec] | Valid Loss: 30.548, Valid Time: 0.63 [sec]\n",
      "2022-09-02 11:02:24.587014 | Epoch: 4 | Train Loss: 24.284, Train Time: 2.00 [sec] | Valid Loss: 28.097, Valid Time: 0.72 [sec]\n",
      "2022-09-02 11:02:27.217918 | Epoch: 5 | Train Loss: 19.376, Train Time: 2.00 [sec] | Valid Loss: 27.682, Valid Time: 0.63 [sec]\n",
      "2022-09-02 11:02:29.849707 | Epoch: 6 | Train Loss: 14.688, Train Time: 2.00 [sec] | Valid Loss: 28.722, Valid Time: 0.63 [sec]\n",
      "2022-09-02 11:02:32.621708 | Epoch: 7 | Train Loss: 10.720, Train Time: 2.14 [sec] | Valid Loss: 28.906, Valid Time: 0.63 [sec]\n",
      "2022-09-02 11:02:35.305550 | Epoch: 8 | Train Loss: 7.988, Train Time: 2.05 [sec] | Valid Loss: 32.029, Valid Time: 0.63 [sec]\n",
      "2022-09-02 11:02:38.109088 | Epoch: 9 | Train Loss: 6.178, Train Time: 2.17 [sec] | Valid Loss: 33.574, Valid Time: 0.63 [sec]\n",
      "2022-09-02 11:02:40.789393 | Epoch: 10 | Train Loss: 5.166, Train Time: 2.05 [sec] | Valid Loss: 38.691, Valid Time: 0.63 [sec]\n"
     ]
    }
   ],
   "source": [
    "train_losses, val_losses = \\\n",
    "    trainer.fit(train_loader, val_loader, n_epochs, log_steps=1)"
   ]
  },
  {
   "cell_type": "code",
   "execution_count": 21,
   "id": "e13fcaf5-9c86-4b04-8f67-f971b40e8055",
   "metadata": {},
   "outputs": [
    {
     "data": {
      "text/plain": [
       "27.681519625479716"
      ]
     },
     "execution_count": 21,
     "metadata": {},
     "output_type": "execute_result"
    }
   ],
   "source": [
    "min(trainer.val_losses)"
   ]
  },
  {
   "cell_type": "code",
   "execution_count": 22,
   "id": "a5c631a3-2598-4357-81e5-384c35112e43",
   "metadata": {},
   "outputs": [],
   "source": [
    "# hyper parameters\n",
    "n_epochs = 10\n",
    "\n",
    "# path\n",
    "# model_name = 'Embedding+LSTM'\n",
    "# log_path = './logs/mini_LSTM+Embedding.log'\n",
    "model_name, log_path = None, None\n",
    "\n",
    "# model\n",
    "model = EncoderDecoder().to(device)\n",
    "optimizer = optim.Adam(model.parameters())\n",
    "loss_fn = nn.L1Loss()\n",
    "\n",
    "logger = Logger(fname=log_path)\n",
    "trainer = Trainer(model, optimizer, loss_fn, device=device, logger=logger, model_name=model_name)"
   ]
  },
  {
   "cell_type": "code",
   "execution_count": 23,
   "id": "b5932314-e01c-4a71-9888-830f699c26d5",
   "metadata": {
    "tags": []
   },
   "outputs": [
    {
     "name": "stdout",
     "output_type": "stream",
     "text": [
      "2022-09-02 11:02:48.235900 | Epoch: 1 | Train Loss: 37.633, Train Time: 2.37 [sec] | Valid Loss: 37.906, Valid Time: 0.69 [sec]\n",
      "2022-09-02 11:02:51.203040 | Epoch: 2 | Train Loss: 32.017, Train Time: 2.28 [sec] | Valid Loss: 32.145, Valid Time: 0.69 [sec]\n",
      "2022-09-02 11:02:54.176685 | Epoch: 3 | Train Loss: 24.848, Train Time: 2.29 [sec] | Valid Loss: 26.864, Valid Time: 0.69 [sec]\n",
      "2022-09-02 11:02:57.249226 | Epoch: 4 | Train Loss: 17.894, Train Time: 2.38 [sec] | Valid Loss: 22.944, Valid Time: 0.69 [sec]\n",
      "2022-09-02 11:03:00.223373 | Epoch: 5 | Train Loss: 12.767, Train Time: 2.28 [sec] | Valid Loss: 20.753, Valid Time: 0.69 [sec]\n",
      "2022-09-02 11:03:03.214479 | Epoch: 6 | Train Loss: 9.633, Train Time: 2.30 [sec] | Valid Loss: 22.688, Valid Time: 0.69 [sec]\n",
      "2022-09-02 11:03:06.213141 | Epoch: 7 | Train Loss: 7.495, Train Time: 2.31 [sec] | Valid Loss: 25.270, Valid Time: 0.69 [sec]\n",
      "2022-09-02 11:03:09.309628 | Epoch: 8 | Train Loss: 6.002, Train Time: 2.41 [sec] | Valid Loss: 26.746, Valid Time: 0.69 [sec]\n",
      "2022-09-02 11:03:12.322037 | Epoch: 9 | Train Loss: 5.011, Train Time: 2.32 [sec] | Valid Loss: 31.086, Valid Time: 0.70 [sec]\n",
      "2022-09-02 11:03:15.342964 | Epoch: 10 | Train Loss: 4.328, Train Time: 2.32 [sec] | Valid Loss: 34.805, Valid Time: 0.70 [sec]\n"
     ]
    }
   ],
   "source": [
    "train_losses, val_losses = \\\n",
    "    trainer.fit(train_loader, val_loader, n_epochs, log_steps=1)"
   ]
  },
  {
   "cell_type": "code",
   "execution_count": 24,
   "id": "485ff50b-d460-463c-a2ea-0f1191d21381",
   "metadata": {},
   "outputs": [
    {
     "data": {
      "text/plain": [
       "20.75347114027592"
      ]
     },
     "execution_count": 24,
     "metadata": {},
     "output_type": "execute_result"
    }
   ],
   "source": [
    "min(trainer.val_losses)"
   ]
  },
  {
   "cell_type": "code",
   "execution_count": null,
   "id": "fca1181b-4f25-4366-acd1-5ce41e8ff003",
   "metadata": {
    "tags": []
   },
   "outputs": [],
   "source": [
    "extra_epochs = 20\n",
    "\n",
    "train_losses, val_losses = \\\n",
    "    trainer.fit(train_loader, val_loader, extra_epochs, log_steps=1)"
   ]
  },
  {
   "cell_type": "code",
   "execution_count": 19,
   "id": "8c322e5d-ec12-4ce1-be2c-c78628467dbb",
   "metadata": {
    "tags": []
   },
   "outputs": [],
   "source": [
    "# hyper parameters\n",
    "n_epochs = 30\n",
    "hid_dim = 64\n",
    "\n",
    "# path\n",
    "log_path = './logs/LSTM.log'\n",
    "# log_path = None\n",
    "\n",
    "model = LSTM(hid_dim).to(device=device)\n",
    "model_name = 'LSTM'\n",
    "optimizer = optim.Adam(model.parameters())\n",
    "loss_fn = nn.L1Loss()\n",
    "\n",
    "logger = Logger(fname=log_path)\n",
    "trainer = Trainer(model, optimizer, loss_fn, device=device, logger=logger, model_name=model_name)"
   ]
  },
  {
   "cell_type": "code",
   "execution_count": 20,
   "id": "ed214934-0aab-4ae0-8701-4f692c8f670f",
   "metadata": {
    "tags": []
   },
   "outputs": [
    {
     "name": "stdout",
     "output_type": "stream",
     "text": [
      "2022-08-12 16:43:49.212220 | Epoch: 1 | Train Loss: 84.481, Train Time: 52.79 [sec] | Valid Loss: 26.293, Valid Time: 3.44 [sec]\n",
      "2022-08-12 16:44:45.271707 | Epoch: 2 | Train Loss: 20.682, Train Time: 52.62 [sec] | Valid Loss: 19.820, Valid Time: 3.44 [sec]\n",
      "2022-08-12 16:45:41.675216 | Epoch: 3 | Train Loss: 17.737, Train Time: 52.96 [sec] | Valid Loss: 18.742, Valid Time: 3.44 [sec]\n",
      "2022-08-12 16:46:38.149782 | Epoch: 4 | Train Loss: 17.210, Train Time: 53.03 [sec] | Valid Loss: 17.337, Valid Time: 3.44 [sec]\n",
      "2022-08-12 16:47:33.647089 | Epoch: 5 | Train Loss: 16.956, Train Time: 52.06 [sec] | Valid Loss: 18.391, Valid Time: 3.44 [sec]\n",
      "2022-08-12 16:52:14.797811 | Epoch: 10 | Train Loss: 16.408, Train Time: 52.68 [sec] | Valid Loss: 17.449, Valid Time: 3.43 [sec]\n",
      "2022-08-12 16:56:53.519520 | Epoch: 15 | Train Loss: 16.148, Train Time: 52.87 [sec] | Valid Loss: 17.652, Valid Time: 3.44 [sec]\n",
      "2022-08-12 17:01:33.893669 | Epoch: 20 | Train Loss: 16.012, Train Time: 52.45 [sec] | Valid Loss: 17.840, Valid Time: 3.43 [sec]\n",
      "2022-08-12 17:06:11.600662 | Epoch: 25 | Train Loss: 15.913, Train Time: 51.65 [sec] | Valid Loss: 17.444, Valid Time: 3.44 [sec]\n",
      "2022-08-12 17:10:51.170109 | Epoch: 30 | Train Loss: 15.844, Train Time: 52.61 [sec] | Valid Loss: 16.269, Valid Time: 3.42 [sec]\n"
     ]
    }
   ],
   "source": [
    "train_losses, val_losses = \\\n",
    "    trainer.fit(train_loader, val_loader, n_epochs, log_steps=5, max_first_log_steps=5)"
   ]
  },
  {
   "cell_type": "code",
   "execution_count": 26,
   "id": "2b1086e4-af21-4f62-9f76-a8dce73694e6",
   "metadata": {
    "tags": []
   },
   "outputs": [
    {
     "name": "stdout",
     "output_type": "stream",
     "text": [
      "2022-08-13 16:00:25.199092 | Epoch: 65 | Train Loss: 15.600, Train Time: 52.03 [sec] | Valid Loss: 17.158, Valid Time: 3.43 [sec]\n",
      "2022-08-13 16:05:01.422273 | Epoch: 70 | Train Loss: 15.582, Train Time: 51.30 [sec] | Valid Loss: 17.382, Valid Time: 3.42 [sec]\n"
     ]
    }
   ],
   "source": [
    "extra_epochs = 10\n",
    "\n",
    "train_losses, val_losses = \\\n",
    "    trainer.fit(train_loader, val_loader, extra_epochs, log_steps=5, max_first_log_steps=5)"
   ]
  },
  {
   "cell_type": "code",
   "execution_count": 24,
   "id": "9bfb0df9-effc-4d3d-8582-0ff50cf01601",
   "metadata": {},
   "outputs": [],
   "source": [
    "model_path = f'./models/LSTM_{trainer.current_epoch}.pth'\n",
    "torch.save(model.state_dict(), model_path)"
   ]
  },
  {
   "cell_type": "markdown",
   "id": "95806d53-47b4-4009-b34f-c4706e0fb947",
   "metadata": {
    "tags": []
   },
   "source": [
    "### 学習曲線"
   ]
  },
  {
   "cell_type": "code",
   "execution_count": 14,
   "id": "afb674a8-cb27-4040-ae77-1b140045fe1c",
   "metadata": {
    "tags": []
   },
   "outputs": [
    {
     "data": {
      "image/png": "[encoded data removed]",
      "text/plain": [
       "<Figure size 504x360 with 1 Axes>"
      ]
     },
     "metadata": {
      "needs_background": "light"
     },
     "output_type": "display_data"
    }
   ],
   "source": [
    "fig, ax = plt.subplots(figsize=(7,5))\n",
    "ax.plot(range(len(trainer.train_losses)), trainer.train_losses)\n",
    "ax.plot(range(len(trainer.val_losses)), trainer.val_losses)\n",
    "plt.show()"
   ]
  },
  {
   "cell_type": "code",
   "execution_count": 19,
   "id": "313512b5-4c4d-48aa-ba0f-63c3d3e74035",
   "metadata": {},
   "outputs": [
    {
     "name": "stdout",
     "output_type": "stream",
     "text": [
      "27.23999923070272\n",
      "27.54495426965138\n"
     ]
    }
   ],
   "source": [
    "print(trainer.validate(train_loader))\n",
    "print(trainer.validate(val_loader))"
   ]
  },
  {
   "cell_type": "markdown",
   "id": "4849861c-36f1-4999-8a66-566bac30fc34",
   "metadata": {},
   "source": [
    "## 予測結果"
   ]
  },
  {
   "cell_type": "code",
   "execution_count": 38,
   "id": "b6bf4606-7aca-407c-b634-cd7b2a966324",
   "metadata": {},
   "outputs": [
    {
     "ename": "NameError",
     "evalue": "name 'Conv2dLSTM_Embedding' is not defined",
     "output_type": "error",
     "traceback": [
      "\u001b[0;31m---------------------------------------------------------------------------\u001b[0m",
      "\u001b[0;31mNameError\u001b[0m                                 Traceback (most recent call last)",
      "Input \u001b[0;32mIn [38]\u001b[0m, in \u001b[0;36m<cell line: 1>\u001b[0;34m()\u001b[0m\n\u001b[0;32m----> 1\u001b[0m model \u001b[38;5;241m=\u001b[39m \u001b[43mConv2dLSTM_Embedding\u001b[49m(hid_dim, kernel_size)\u001b[38;5;241m.\u001b[39mto(device\u001b[38;5;241m=\u001b[39mdevice)\n\u001b[1;32m      2\u001b[0m model\u001b[38;5;241m.\u001b[39mload_state_dict(torch\u001b[38;5;241m.\u001b[39mload(\u001b[38;5;124mf\u001b[39m\u001b[38;5;124m'\u001b[39m\u001b[38;5;132;01m{\u001b[39;00mconfig\u001b[38;5;241m.\u001b[39mMODEL_DIR\u001b[38;5;132;01m}\u001b[39;00m\u001b[38;5;124m/\u001b[39m\u001b[38;5;132;01m{\u001b[39;00mmodel_name\u001b[38;5;132;01m}\u001b[39;00m\u001b[38;5;124m_13.pth\u001b[39m\u001b[38;5;124m'\u001b[39m))\n\u001b[1;32m      3\u001b[0m model\u001b[38;5;241m.\u001b[39meval()\n",
      "\u001b[0;31mNameError\u001b[0m: name 'Conv2dLSTM_Embedding' is not defined"
     ]
    }
   ],
   "source": [
    "model = Conv2dLSTM_Embedding(hid_dim, kernel_size).to(device=device)\n",
    "model.load_state_dict(torch.load(f'{config.MODEL_DIR}/{model_name}_13.pth'))\n",
    "model.eval()"
   ]
  },
  {
   "cell_type": "code",
   "execution_count": 199,
   "id": "df2a1a14-2bb3-42cc-aea9-9abdeb89ff84",
   "metadata": {},
   "outputs": [],
   "source": [
    "def pred_data_generator(X_test, y_test, time_step, prediction_horizon):\n",
    "    def create(zero_date, pred_start_date, pred_window, sec_id):\n",
    "        pred_start_ind = int((pd.Timestamp(pred_start_date) - pd.Timestamp(zero_date)).total_seconds() / \n",
    "        pred_end_ind = pred_start_ind + pred_window\n",
    "\n",
    "        in_start_ind = pred_start_ind - prediction_horizon - time_step + 1\n",
    "        in_end_ind = pred_end_ind\n",
    "        \n",
    "        X_in = X_test[:, in_start_ind:in_end_ind, sec_id]\n",
    "        y_in = y_test[:, in_start_ind:in_end_ind, sec_id]\n",
    "        y_true = y_test[0, pred_start_ind:pred_end_ind, sec_id]\n",
    "        \n",
    "        return X_in, y_in, y_true\n",
    "    return create"
   ]
  },
  {
   "cell_type": "code",
   "execution_count": 200,
   "id": "5ad5c353-045c-4e8c-a908-3c19bc44af4b",
   "metadata": {},
   "outputs": [],
   "source": [
    "def predict(model, dataset, device=device):\n",
    "    model.eval()\n",
    "\n",
    "    with torch.no_grad():\n",
    "        data, _ = dataset[:]\n",
    "        if isinstance(data, (list, tuple)):\n",
    "            data = map(lambda x: x.to(device=device), data)\n",
    "        else:\n",
    "            data = data.to(device=device)\n",
    "        out = model(data).detach().cpu()\n",
    "\n",
    "    return out"
   ]
  },
  {
   "cell_type": "code",
   "execution_count": 239,
   "id": "91bc9789-26f7-4927-85bf-76b061bc8442",
   "metadata": {},
   "outputs": [],
   "source": [
    "p_gen = pred_data_generator(X_va, y_va, time_step=time_step, prediction_horizon=prediction_horizon)\n",
    "zero_date = '2022/3/1'"
   ]
  },
  {
   "cell_type": "markdown",
   "id": "c93691ac-4ca9-4ebb-a44d-2a6bb674fcc1",
   "metadata": {},
   "source": [
    "### GW"
   ]
  },
  {
   "cell_type": "code",
   "execution_count": 240,
   "id": "f2659b1a-3b70-42a3-b5f6-97ebe7162bbc",
   "metadata": {},
   "outputs": [],
   "source": [
    "pred_start_date = '2022/4/29'\n",
    "pred_window = 9 * 24 * (60 // 15)\n",
    "\n",
    "X_in, y_in, y_true = p_gen(zero_date, pred_start_date, pred_window, sec_id=[27])\n",
    "dataset_test = STDataset(X_in, y_in, \n",
    "                         time_step=time_step, \n",
    "                         prediction_horizon=prediction_horizon,\n",
    "                         space_window=space_window, \n",
    "                         static_col=static_col)"
   ]
  },
  {
   "cell_type": "code",
   "execution_count": 241,
   "id": "c9589189-c4a7-400a-a23d-831f69074efe",
   "metadata": {},
   "outputs": [],
   "source": [
    "out = predict(model, dataset_test)"
   ]
  },
  {
   "cell_type": "code",
   "execution_count": 242,
   "id": "3adc538e-71a2-4aff-bd8a-c3ebc172452b",
   "metadata": {},
   "outputs": [
    {
     "data": {
      "image/png": "[encoded data removed]",
      "text/plain": [
       "<Figure size 1080x360 with 1 Axes>"
      ]
     },
     "metadata": {
      "needs_background": "light"
     },
     "output_type": "display_data"
    }
   ],
   "source": [
    "plt.figure(figsize=(15,5))\n",
    "plt.plot(range(len(out)), out, label='predicted')\n",
    "plt.plot(range(len(y_true)), y_true, label='true')\n",
    "plt.legend()\n",
    "plt.show()"
   ]
  },
  {
   "cell_type": "markdown",
   "id": "4ba0c7ad-1fd2-4b14-b971-7a862d04c4d2",
   "metadata": {},
   "source": [
    "### 普通の1週間 (月~日)"
   ]
  },
  {
   "cell_type": "markdown",
   "id": "a9183cb4-dc56-4ed1-b48c-d9b1c3335582",
   "metadata": {},
   "source": [
    "#### 3月"
   ]
  },
  {
   "cell_type": "code",
   "execution_count": 228,
   "id": "b084ffb7-61cd-4b7d-8e61-dc3a6b8c0e32",
   "metadata": {},
   "outputs": [],
   "source": [
    "pred_start_date = '2022/3/7'\n",
    "pred_window = 7 * 24 * (60 // 15)\n",
    "\n",
    "X_in, y_in, y_true = p_gen(zero_date, pred_start_date, pred_window, sec_id=[27])\n",
    "dataset_test = STDataset(X_in, y_in, \n",
    "                         time_step=time_step, \n",
    "                         prediction_horizon=prediction_horizon,\n",
    "                         space_window=space_window, \n",
    "                         static_col=static_col)"
   ]
  },
  {
   "cell_type": "code",
   "execution_count": 229,
   "id": "1ecbb89b-917a-4230-bd71-cee6731caef0",
   "metadata": {},
   "outputs": [],
   "source": [
    "out = predict(model, dataset_test)"
   ]
  },
  {
   "cell_type": "code",
   "execution_count": 231,
   "id": "3964736e-9e1b-4a74-a27e-c8f153d693b8",
   "metadata": {},
   "outputs": [
    {
     "data": {
      "image/png": "[encoded data removed]",
      "text/plain": [
       "<Figure size 1080x360 with 1 Axes>"
      ]
     },
     "metadata": {
      "needs_background": "light"
     },
     "output_type": "display_data"
    }
   ],
   "source": [
    "plt.figure(figsize=(15,5))\n",
    "plt.plot(range(len(out)), out, label='predicted')\n",
    "plt.plot(range(len(y_true)), y_true, label='true')\n",
    "plt.legend()\n",
    "plt.show()"
   ]
  },
  {
   "cell_type": "markdown",
   "id": "af5199d5-2347-477e-b63b-0df222caeb9a",
   "metadata": {},
   "source": [
    "#### 4月"
   ]
  },
  {
   "cell_type": "code",
   "execution_count": 233,
   "id": "bd50e4de-13fe-443f-93b2-6e29a3a0cc8e",
   "metadata": {},
   "outputs": [],
   "source": [
    "pred_start_date = '2022/4/4'\n",
    "pred_window = 7 * 24 * (60 // 15)\n",
    "\n",
    "X_in, y_in, y_true = p_gen(zero_date, pred_start_date, pred_window, sec_id=[27])\n",
    "dataset_test = STDataset(X_in, y_in, \n",
    "                         time_step=time_step, \n",
    "                         prediction_horizon=prediction_horizon,\n",
    "                         space_window=space_window, \n",
    "                         static_col=static_col)"
   ]
  },
  {
   "cell_type": "code",
   "execution_count": 234,
   "id": "d31ea88b-9087-4a2f-95cb-dc91927843ee",
   "metadata": {},
   "outputs": [],
   "source": [
    "out = predict(model, dataset_test)"
   ]
  },
  {
   "cell_type": "code",
   "execution_count": 235,
   "id": "ced0b93c-ee2e-43f6-8ac1-14d954265be8",
   "metadata": {},
   "outputs": [
    {
     "data": {
      "image/png": "[encoded data removed]",
      "text/plain": [
       "<Figure size 1080x360 with 1 Axes>"
      ]
     },
     "metadata": {
      "needs_background": "light"
     },
     "output_type": "display_data"
    }
   ],
   "source": [
    "plt.figure(figsize=(15,5))\n",
    "plt.plot(range(len(out)), out, label='predicted')\n",
    "plt.plot(range(len(y_true)), y_true, label='true')\n",
    "plt.legend()\n",
    "plt.show()"
   ]
  },
  {
   "cell_type": "markdown",
   "id": "15d7a4f6-c728-4892-a712-96888b234921",
   "metadata": {},
   "source": [
    "#### 5月"
   ]
  },
  {
   "cell_type": "code",
   "execution_count": null,
   "id": "4cc0af9f-c780-4f6a-8225-77bcbfd25b89",
   "metadata": {},
   "outputs": [],
   "source": [
    "pred_start_date = '2022/5/23'\n",
    "pred_window = 7 * 24 * (60 // 15)\n",
    "\n",
    "X_in, y_in, y_true = p_gen(zero_date, pred_start_date, pred_window, sec_id=[27])\n",
    "dataset_test = STDataset(X_in, y_in, \n",
    "                         time_step=time_step, \n",
    "                         prediction_horizon=prediction_horizon,\n",
    "                         space_window=space_window, \n",
    "                         static_col=static_col)"
   ]
  },
  {
   "cell_type": "code",
   "execution_count": null,
   "id": "2f53dbee-33c1-4a61-abc5-b3cf2421f54c",
   "metadata": {},
   "outputs": [],
   "source": [
    "out = predict(model, dataset_test)"
   ]
  },
  {
   "cell_type": "code",
   "execution_count": null,
   "id": "63ac5705-9b77-4dc5-afcc-85002db197c5",
   "metadata": {},
   "outputs": [
    {
     "data": {
      "image/png": "[encoded data removed]",
      "text/plain": [
       "<Figure size 1080x360 with 1 Axes>"
      ]
     },
     "metadata": {
      "needs_background": "light"
     },
     "output_type": "display_data"
    }
   ],
   "source": [
    "plt.figure(figsize=(15,5))\n",
    "plt.plot(range(len(out)), out, label='predicted')\n",
    "plt.plot(range(len(y_true)), y_true, label='true')\n",
    "plt.legend()\n",
    "plt.show()"
   ]
  }
 ],
 "metadata": {
  "kernelspec": {
   "display_name": "Python 3 (ipykernel)",
   "language": "python",
   "name": "python3"
  },
  "language_info": {
   "codemirror_mode": {
    "name": "ipython",
    "version": 3
   },
   "file_extension": ".py",
   "mimetype": "text/x-python",
   "name": "python",
   "nbconvert_exporter": "python",
   "pygments_lexer": "ipython3",
   "version": "3.8.10"
  }
 },
 "nbformat": 4,
 "nbformat_minor": 5
}
