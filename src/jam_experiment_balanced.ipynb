{
 "cells": [
  {
   "cell_type": "code",
   "execution_count": 1,
   "id": "85f9b686-4dee-4846-b006-9d3b39292662",
   "metadata": {
    "tags": []
   },
   "outputs": [],
   "source": [
    "import time\n",
    "import itertools\n",
    "import datetime as dt\n",
    "\n",
    "import numpy as np\n",
    "import pandas as pd\n",
    "from pandas.api.types import CategoricalDtype\n",
    "import matplotlib.pyplot as plt\n",
    "plt.rcParams['font.family'] = 'Noto Sans CJK JP'\n",
    "import seaborn as sns\n",
    "import tqdm\n",
    "from sklearn.preprocessing import StandardScaler\n",
    "from sklearn.metrics import f1_score\n",
    "import torch\n",
    "import torch.nn as nn\n",
    "import torch.nn.functional as F\n",
    "import torch.optim as optim\n",
    "\n",
    "from utils.scaler import STMatrixStandardScaler\n",
    "from utils.helper import format_stmatrix, train_test_split, fix_seed\n",
    "from dataset import STDataset\n",
    "from trainer import Trainer\n",
    "from logger import Logger\n",
    "import config"
   ]
  },
  {
   "cell_type": "code",
   "execution_count": 103,
   "id": "5a66af52-fa9b-44a1-8e3d-7c1ab733e773",
   "metadata": {},
   "outputs": [
    {
     "data": {
      "text/plain": [
       "device(type='cuda', index=3)"
      ]
     },
     "execution_count": 103,
     "metadata": {},
     "output_type": "execute_result"
    }
   ],
   "source": [
    "device = torch.device(\"cuda:3\" if torch.cuda.is_available() else \"cpu\")\n",
    "device"
   ]
  },
  {
   "cell_type": "markdown",
   "id": "600f0112-9df1-4430-a141-c4b94a5a4962",
   "metadata": {
    "jp-MarkdownHeadingCollapsed": true,
    "tags": []
   },
   "source": [
    "## 前処理してデータセットを作成\n",
    "- 渋滞量 -> フラグに変換\n",
    "- 方向 -> 0/1に変換\n",
    "    - 上り: 0, 下り: 1\n",
    "- 四半期を数値化\n",
    "- 使用しないカラムを落とす\n",
    "    - 天気 + `index`, `data`, `road_code`, `jam_type`\n",
    "- 速度の欠損を埋める\n",
    "- OCC -> [0, 1]に変換\n",
    "- 型変換\n",
    "    - float64 -> float32\n",
    "    - 区間の名前, コード, 県コード, 0/1系, カレンダーデータをcategoryデータに\n",
    "    - degreeをint32"
   ]
  },
  {
   "cell_type": "code",
   "execution_count": 3,
   "id": "529b47c5-ece1-4061-b622-f0c26c9de6d1",
   "metadata": {},
   "outputs": [],
   "source": [
    "# 道路名\n",
    "# TARGET_ROAD='tateyama'\n",
    "TARGET_ROAD='kannetsu'\n",
    "\n",
    "# 交通量\n",
    "PROCESSED_DATA_DIR = '../Input_processed_data'\n",
    "TRAFFIC_DIR = f'{PROCESSED_DATA_DIR}/traffic'\n",
    "TRAFFIC_CSV = f'{TRAFFIC_DIR}/{TARGET_ROAD}_20220621all-merged_filled_1h.csv'"
   ]
  },
  {
   "cell_type": "code",
   "execution_count": 4,
   "id": "3b58e808-e64e-4d7d-836d-04fd532a1054",
   "metadata": {
    "tags": []
   },
   "outputs": [],
   "source": [
    "col_types = {'start_code': str, 'end_code': str, 'road_code': str, 'jam_type': str,}\n",
    "\n",
    "df = pd.read_csv(TRAFFIC_CSV, parse_dates=True, index_col='datetime', dtype=col_types).reset_index()"
   ]
  },
  {
   "cell_type": "code",
   "execution_count": 5,
   "id": "2898041e-0cc7-420f-9363-73a3edc61e7d",
   "metadata": {},
   "outputs": [],
   "source": [
    "def linear_interpolate(df, col):\n",
    "    '''\n",
    "    dfのcolカラム内の欠損を区間ごとに線形補間する\n",
    "    '''\n",
    "    f = lambda g: g.interpolate(method='linear', axis=0)\n",
    "    \n",
    "    df.sort_values('datetime', inplace=True)\n",
    "    df[col] = df.groupby(['start_code', 'end_code'])[col].apply(f)\n",
    "    return df\n",
    "\n",
    "\n",
    "def preprocess(df):\n",
    "    # 「年」情報を入れる\n",
    "    df['year'] = df['datetime'].dt.year\n",
    "    # 渋滞フラグ 0/1\n",
    "    df['jam_flag'] = np.where(df['speed'] < 40, 1, 0)\n",
    "    # 方向を数値化\n",
    "    direction_map = {'上り': 0, '下り': 1}\n",
    "    df['direction'] = df['direction'].map(direction_map)\n",
    "    # 四半期を数値化\n",
    "    df['quarter'] = df['quarter'].str[-1]\n",
    "    \n",
    "    # object型のカラム, いらないカラムを落とす\n",
    "    drop_cols = [\n",
    "        'index', 'date', 'road_code', 'pressure', 'rainfall', \n",
    "        'temperature', 'humidity', 'wind_speed', 'daylight_hours', \n",
    "        'snowfall', 'deepest_snowfall', 'weather_description', 'jam_type'\n",
    "    ]\n",
    "    df.drop(drop_cols, axis=1, inplace=True)\n",
    "    \n",
    "    # 速度の欠損を埋める\n",
    "    df = linear_interpolate(df, 'speed')\n",
    "    # OCCを[0,1]に変換\n",
    "    df['OCC'] = df['OCC'] / 100.0\n",
    "    \n",
    "    # 型変換\n",
    "    f64_cols = df.select_dtypes(include=[np.float64]).columns\n",
    "    df.loc[:, f64_cols] = df.loc[:, f64_cols].astype(np.float32)\n",
    "    i64_cols = df.select_dtypes(include=[int]).columns\n",
    "    df.loc[:, i64_cols] = df.loc[:, i64_cols].astype(np.int32)\n",
    "    \n",
    "    type_map = {\n",
    "        'start_name': 'category',\n",
    "        'end_name': 'category',\n",
    "        'start_code': 'category',\n",
    "        'end_code': 'category',\n",
    "        'start_pref_code': 'category',\n",
    "        'end_pref_code': 'category',\n",
    "        'direction': 'category',\n",
    "        'month': 'category',\n",
    "        'day': 'category',\n",
    "        'dayofweek': 'category',\n",
    "        'is_holiday': 'category',\n",
    "        'hour': 'category',\n",
    "        'quarter': 'category',\n",
    "        'jam_quantity': 'category',\n",
    "        'start_degree': np.int32,\n",
    "        'end_degree': np.int32,\n",
    "        'degree_sum': np.int32,\n",
    "    }\n",
    "    df = df.astype(type_map)\n",
    "    \n",
    "    return df"
   ]
  },
  {
   "cell_type": "code",
   "execution_count": 7,
   "id": "a23d5e8e-66a4-4c63-a76c-984f49cdec5b",
   "metadata": {},
   "outputs": [],
   "source": [
    "def create_dataset(df, start_date, end_date, pkl_name):\n",
    "    tmp = df.loc[(df['datetime'] >= pd.Timestamp(start_date)) & (df['datetime'] < pd.Timestamp(end_date))]\n",
    "    # tmp.reset_index(drop=True, inplace=True)\n",
    "    \n",
    "    tmp = preprocess(tmp.copy())\n",
    "    tmp.reset_index(drop=True, inplace=True)\n",
    "    \n",
    "    tmp.to_pickle(pkl_name)\n",
    "\n",
    "# whole dataset\n",
    "start_date = '2021/4/2'\n",
    "end_date = '2022/6/1'\n",
    "pkl_name = f'./datasets/jam/kannetsu_210402-220531.pkl'\n",
    "\n",
    "create_dataset(df, start_date, end_date, pkl_name)\n",
    "\n",
    "# mini dataset\n",
    "start_date = '2021/4/2'\n",
    "end_date = '2021/6/1'\n",
    "pkl_name = './datasets/jam/kannetsu_210402-210531.pkl'\n",
    "\n",
    "create_dataset(df, start_date, end_date, pkl_name)"
   ]
  },
  {
   "cell_type": "markdown",
   "id": "a27c7f12-2979-4952-8165-d5c01122d1f9",
   "metadata": {
    "jp-MarkdownHeadingCollapsed": true,
    "tags": []
   },
   "source": [
    "## データセットを読み込む"
   ]
  },
  {
   "cell_type": "code",
   "execution_count": 26,
   "id": "2840688e-38f3-4355-bd7e-e1655e966cc3",
   "metadata": {},
   "outputs": [],
   "source": [
    "# mini\n",
    "df_test = pd.read_pickle('./datasets/jam/kannetsu_210402-210531.pkl')\n",
    "# whole\n",
    "df_all = pd.read_pickle('./datasets/jam/kannetsu_210402-220531.pkl')"
   ]
  },
  {
   "cell_type": "code",
   "execution_count": 27,
   "id": "46a5f703-fc2c-4d76-9bb8-61bc9e565947",
   "metadata": {},
   "outputs": [],
   "source": [
    "dt_table = pd.read_pickle(f'{config.TABLES_DIR}/datetime_table.pkl')\n",
    "sec_table = pd.read_pickle(f'{config.TABLES_DIR}/section_table.pkl')"
   ]
  },
  {
   "cell_type": "code",
   "execution_count": 28,
   "id": "b9502253-a633-48b8-bc79-f90b5cf43d3b",
   "metadata": {},
   "outputs": [
    {
     "data": {
      "text/html": [
       "<div>\n",
       "<style scoped>\n",
       "    .dataframe tbody tr th:only-of-type {\n",
       "        vertical-align: middle;\n",
       "    }\n",
       "\n",
       "    .dataframe tbody tr th {\n",
       "        vertical-align: top;\n",
       "    }\n",
       "\n",
       "    .dataframe thead th {\n",
       "        text-align: right;\n",
       "    }\n",
       "</style>\n",
       "<table border=\"1\" class=\"dataframe\">\n",
       "  <thead>\n",
       "    <tr style=\"text-align: right;\">\n",
       "      <th></th>\n",
       "      <th>datetime</th>\n",
       "      <th>start_name</th>\n",
       "      <th>end_name</th>\n",
       "      <th>start_code</th>\n",
       "      <th>end_code</th>\n",
       "      <th>start_pref_code</th>\n",
       "      <th>end_pref_code</th>\n",
       "      <th>start_lat</th>\n",
       "      <th>end_lat</th>\n",
       "      <th>start_lng</th>\n",
       "      <th>...</th>\n",
       "      <th>search_unspec_1d</th>\n",
       "      <th>search_unspec_3d</th>\n",
       "      <th>search_unspec_7d</th>\n",
       "      <th>search_unspec_10d</th>\n",
       "      <th>allCars</th>\n",
       "      <th>jam_quantity</th>\n",
       "      <th>OCC</th>\n",
       "      <th>speed</th>\n",
       "      <th>year</th>\n",
       "      <th>jam_flag</th>\n",
       "    </tr>\n",
       "  </thead>\n",
       "  <tbody>\n",
       "    <tr>\n",
       "      <th>0</th>\n",
       "      <td>2021-04-02</td>\n",
       "      <td>所沢</td>\n",
       "      <td>大泉ＪＣＴ</td>\n",
       "      <td>1800006</td>\n",
       "      <td>1110210</td>\n",
       "      <td>11</td>\n",
       "      <td>13</td>\n",
       "      <td>35.806149</td>\n",
       "      <td>35.755821</td>\n",
       "      <td>139.535507</td>\n",
       "      <td>...</td>\n",
       "      <td>2156.0</td>\n",
       "      <td>2156.0</td>\n",
       "      <td>2156.0</td>\n",
       "      <td>2156.0</td>\n",
       "      <td>630.0</td>\n",
       "      <td>0</td>\n",
       "      <td>0.02</td>\n",
       "      <td>87.298416</td>\n",
       "      <td>2021</td>\n",
       "      <td>0</td>\n",
       "    </tr>\n",
       "    <tr>\n",
       "      <th>1</th>\n",
       "      <td>2021-04-02</td>\n",
       "      <td>小出</td>\n",
       "      <td>大和ＰＡ</td>\n",
       "      <td>1800156</td>\n",
       "      <td>1800151</td>\n",
       "      <td>15</td>\n",
       "      <td>15</td>\n",
       "      <td>37.213329</td>\n",
       "      <td>37.160999</td>\n",
       "      <td>138.975403</td>\n",
       "      <td>...</td>\n",
       "      <td>749.0</td>\n",
       "      <td>749.0</td>\n",
       "      <td>749.0</td>\n",
       "      <td>749.0</td>\n",
       "      <td>67.0</td>\n",
       "      <td>0</td>\n",
       "      <td>0.00</td>\n",
       "      <td>90.970146</td>\n",
       "      <td>2021</td>\n",
       "      <td>0</td>\n",
       "    </tr>\n",
       "    <tr>\n",
       "      <th>2</th>\n",
       "      <td>2021-04-02</td>\n",
       "      <td>六日町</td>\n",
       "      <td>塩沢石打</td>\n",
       "      <td>1800146</td>\n",
       "      <td>1800141</td>\n",
       "      <td>15</td>\n",
       "      <td>15</td>\n",
       "      <td>37.077942</td>\n",
       "      <td>36.990280</td>\n",
       "      <td>138.879288</td>\n",
       "      <td>...</td>\n",
       "      <td>705.0</td>\n",
       "      <td>705.0</td>\n",
       "      <td>705.0</td>\n",
       "      <td>705.0</td>\n",
       "      <td>60.0</td>\n",
       "      <td>0</td>\n",
       "      <td>0.00</td>\n",
       "      <td>87.633331</td>\n",
       "      <td>2021</td>\n",
       "      <td>0</td>\n",
       "    </tr>\n",
       "  </tbody>\n",
       "</table>\n",
       "<p>3 rows × 40 columns</p>\n",
       "</div>"
      ],
      "text/plain": [
       "    datetime start_name end_name start_code end_code start_pref_code  \\\n",
       "0 2021-04-02         所沢    大泉ＪＣＴ    1800006  1110210              11   \n",
       "1 2021-04-02         小出     大和ＰＡ    1800156  1800151              15   \n",
       "2 2021-04-02        六日町     塩沢石打    1800146  1800141              15   \n",
       "\n",
       "  end_pref_code  start_lat    end_lat   start_lng  ...  search_unspec_1d  \\\n",
       "0            13  35.806149  35.755821  139.535507  ...            2156.0   \n",
       "1            15  37.213329  37.160999  138.975403  ...             749.0   \n",
       "2            15  37.077942  36.990280  138.879288  ...             705.0   \n",
       "\n",
       "   search_unspec_3d  search_unspec_7d search_unspec_10d allCars jam_quantity  \\\n",
       "0            2156.0            2156.0            2156.0   630.0            0   \n",
       "1             749.0             749.0             749.0    67.0            0   \n",
       "2             705.0             705.0             705.0    60.0            0   \n",
       "\n",
       "    OCC      speed  year  jam_flag  \n",
       "0  0.02  87.298416  2021         0  \n",
       "1  0.00  90.970146  2021         0  \n",
       "2  0.00  87.633331  2021         0  \n",
       "\n",
       "[3 rows x 40 columns]"
      ]
     },
     "execution_count": 28,
     "metadata": {},
     "output_type": "execute_result"
    }
   ],
   "source": [
    "df_test.head(3)"
   ]
  },
  {
   "cell_type": "markdown",
   "id": "0f1e4d66-8ae9-4d1a-a770-d55c4c82dfce",
   "metadata": {
    "tags": []
   },
   "source": [
    "### 時間, 区間にembedding用のIDを割り振る"
   ]
  },
  {
   "cell_type": "code",
   "execution_count": null,
   "id": "0e91cfa6-79bd-4901-b38d-7e436704000d",
   "metadata": {},
   "outputs": [],
   "source": [
    "# 時間情報を管理するためのテーブルを作成 (month x hour x dayofweeks x is_holidays)\n",
    "# months = range(1, 12+1)\n",
    "# hours = range(24)\n",
    "# dayofweeks = range(1, 7+1)\n",
    "# is_holidays = (0, 1)\n",
    "\n",
    "# dt_table = pd.DataFrame(itertools.product(months, hours, dayofweeks, is_holidays), columns=['month', 'hour', 'dayofweek', 'is_holiday'], dtype='category')\n",
    "# dt_table = dt_table.query('dayofweek not in (6, 7) | is_holiday != 0').reset_index(drop=True)\n",
    "# dt_table = dt_table.reset_index().set_index(['month', 'hour', 'dayofweek', 'is_holiday']).astype('category')\n",
    "\n",
    "# dt_table.to_pickle('./datasets/datetime_table.pkl')\n",
    "\n",
    "# dt_table = pd.read_pickle('./datasets/datetime_table.pkl')"
   ]
  },
  {
   "cell_type": "code",
   "execution_count": null,
   "id": "48291632-a12e-4e3c-a8f5-9ba4e8f91aa0",
   "metadata": {},
   "outputs": [],
   "source": [
    "# 時間情報を管理するためのテーブルを作成 (hour x dayofweeks x is_holidays)\n",
    "# hours = range(24)\n",
    "# dayofweeks = range(1, 7+1)\n",
    "# is_holidays = (0, 1)\n",
    "\n",
    "# dt_table = pd.DataFrame(itertools.product(hours, dayofweeks, is_holidays), columns=['hour', 'dayofweek', 'is_holiday'], dtype='category')\n",
    "# dt_table = dt_table.query('dayofweek not in (6, 7) | is_holiday != 0').reset_index(drop=True)\n",
    "# dt_table = dt_table.reset_index().set_index(['hour', 'dayofweek', 'is_holiday']).astype('category')\n",
    "\n",
    "# dt_table.to_pickle('./datasets/mini_datetime_table.pkl')\n",
    "\n",
    "# dt_table = pd.read_pickle('./datasets/mini_datetime_table.pkl')"
   ]
  },
  {
   "cell_type": "code",
   "execution_count": null,
   "id": "c2b54d50-3eba-4d3e-93ea-768d54c39097",
   "metadata": {},
   "outputs": [],
   "source": [
    "# 区間情報を管理するためのテーブルを作成\n",
    "# sec_table = df_test[['start_name', 'end_name', 'direction', 'KP']].drop_duplicates()\n",
    "# 区間順にソート\n",
    "# sort_f = lambda g: g.sort_values('KP', ascending=(g.name == 1))\n",
    "# sec_table = sec_table.groupby('direction').apply(sort_f).reset_index(drop=True)\n",
    "\n",
    "# sec_table.to_pickle('./datasets/section_table.pkl')\n",
    "# sec_table.head(3)\n",
    "\n",
    "# sec_table = pd.read_pickle('./datasets/section_table.pkl')"
   ]
  },
  {
   "cell_type": "code",
   "execution_count": 29,
   "id": "d7ac6bbd-5e5d-4daa-b997-400b4b7672f4",
   "metadata": {},
   "outputs": [],
   "source": [
    "def datetime2id(df, dt_table):\n",
    "    time_col = ['hour', 'dayofweek', 'is_holiday']\n",
    "    f = lambda g: g.assign(datetime_id=dt_table.loc[g.name, 'index'])\n",
    "    df = df.groupby(time_col).apply(f)\n",
    "    df['datetime_id'] = df['datetime_id'].astype('category')\n",
    "    return df\n",
    "\n",
    "\n",
    "def section2id(df, sec_table):\n",
    "    f = lambda g: g.assign(section_id=sec_table.query(f'start_name == \"{g.name[0]}\" & end_name == \"{g.name[1]}\"').index.item())\n",
    "    df = df.groupby(['start_name', 'end_name']).apply(f)\n",
    "    df['section_id'] = df['section_id'].astype('category')\n",
    "    return df\n",
    "\n",
    "\n",
    "def identify(df, dt_table, sec_table):\n",
    "    df = datetime2id(df, dt_table)\n",
    "    df = section2id(df, sec_table)\n",
    "    return df"
   ]
  },
  {
   "cell_type": "code",
   "execution_count": 31,
   "id": "f8ae9e67-47b0-4274-b963-edf85e4b3786",
   "metadata": {},
   "outputs": [],
   "source": [
    "df_test = identify(df_test, dt_table, sec_table)\n",
    "df_test.to_pickle('./datasets/jam/kannetsu_210402-210531.pkl')\n",
    "\n",
    "df_all = identify(df_all, dt_table, sec_table)\n",
    "df_all.to_pickle('./datasets/jam/kannetsu_210402-220531.pkl')"
   ]
  },
  {
   "cell_type": "markdown",
   "id": "d43a0e9b-14b1-434c-8de6-2aa603db4727",
   "metadata": {
    "jp-MarkdownHeadingCollapsed": true,
    "tags": []
   },
   "source": [
    "## Spatial Temporal Matrixに整形\n",
    "- 区間数 x 時系列数 の行列\n",
    "- 実際は 区間数 x 時系列数 x 特徴量数 のテンソル"
   ]
  },
  {
   "cell_type": "code",
   "execution_count": 35,
   "id": "190b8871-8f2e-4a45-8523-ad908ed36a3e",
   "metadata": {},
   "outputs": [],
   "source": [
    "# # mini\n",
    "# df_test = pd.read_pickle('./datasets/jam/kannetsu_210402-210531.pkl')\n",
    "# # whole\n",
    "# df_all = pd.read_pickle('./datasets/jam/kannetsu_210402-220531.pkl')\n",
    "\n",
    "# df_test_tr = df_test[df_test['datetime'] < pd.Timestamp('2021/5/20')].reset_index(drop=True)\n",
    "# df_test_va = df_test[df_test['datetime'] >= pd.Timestamp('2021/5/20')].reset_index(drop=True)\n",
    "# df_test_tr.to_pickle('./datasets/jam/kannetsu_210402-210519.pkl')\n",
    "# df_test_va.to_pickle('./datasets/jam/kannetsu_210520-210531.pkl')\n",
    "\n",
    "# df_all_tr = df_all[df_all['datetime'] < pd.Timestamp('2022/3/1')].reset_index(drop=True)\n",
    "# df_all_va = df_all[df_all['datetime'] >= pd.Timestamp('2022/3/1')].reset_index(drop=True)\n",
    "# df_all_tr.to_pickle('./datasets/jam/kannetsu_210402-220228.pkl')\n",
    "# df_all_va.to_pickle('./datasets/jam/kannetsu_220301-220531.pkl')"
   ]
  },
  {
   "cell_type": "code",
   "execution_count": 3,
   "id": "388e22b3-fa73-4af8-83ae-dad170795ed8",
   "metadata": {},
   "outputs": [],
   "source": [
    "df_test_tr = pd.read_pickle('./datasets/jam/kannetsu_210402-210519.pkl')\n",
    "df_test_va = pd.read_pickle('./datasets/jam/kannetsu_210520-210531.pkl')\n",
    "\n",
    "df_all_tr = pd.read_pickle('./datasets/jam/kannetsu_210402-220228.pkl')\n",
    "df_all_va = pd.read_pickle('./datasets/jam/kannetsu_220301-220531.pkl')\n",
    "\n",
    "dt_table = pd.read_pickle(f'{config.TABLES_DIR}/datetime_table.pkl')\n",
    "sec_table = pd.read_pickle(f'{config.TABLES_DIR}/section_table.pkl')"
   ]
  },
  {
   "cell_type": "code",
   "execution_count": 5,
   "id": "0b39c58f-57dc-48c9-a557-0f5e71ead960",
   "metadata": {
    "tags": []
   },
   "outputs": [],
   "source": [
    "# 特徴量の元になる列\n",
    "time_col = ['datetime_id']\n",
    "section_col = ['section_id']\n",
    "search_col = ['search_1h', 'search_unspec_1d']\n",
    "traffic_col = ['allCars', 'speed', 'OCC', 'jam_quantity']\n",
    "\n",
    "feature_col = time_col + section_col + search_col + traffic_col\n",
    "\n",
    "# 予測対象\n",
    "target_col = 'jam_quantity'"
   ]
  },
  {
   "cell_type": "code",
   "execution_count": 6,
   "id": "9ff68889-a006-45c5-9066-4188cdf219b5",
   "metadata": {},
   "outputs": [],
   "source": [
    "df_all_tr[target_col] = df_all_tr[target_col].astype(np.int64)\n",
    "df_all_va[target_col] = df_all_va[target_col].astype(np.int64)\n",
    "\n",
    "df_test_tr[target_col] = df_test_tr[target_col].astype(np.int64)\n",
    "df_test_va[target_col] = df_test_va[target_col].astype(np.int64)"
   ]
  },
  {
   "cell_type": "code",
   "execution_count": 11,
   "id": "36cfca28-8fa1-49f8-a821-5b7c5f49d976",
   "metadata": {},
   "outputs": [
    {
     "name": "stdout",
     "output_type": "stream",
     "text": [
      "torch.Size([8, 1152, 63]) torch.Size([8, 288, 63]) torch.Size([1, 1152, 63]) torch.Size([1, 288, 63])\n"
     ]
    }
   ],
   "source": [
    "X_tr, y_tr = format_stmatrix(df_test_tr, sec_table, feature_col, target_col)\n",
    "X_va, y_va = format_stmatrix(df_test_va, sec_table, feature_col, target_col)\n",
    "print(X_tr.shape, X_va.shape, y_tr.shape, y_va.shape)"
   ]
  },
  {
   "cell_type": "code",
   "execution_count": 13,
   "id": "3ffac485-c759-4a8c-be33-a714e2b4ada5",
   "metadata": {},
   "outputs": [],
   "source": [
    "# torch.save(X_tr, './datasets/jam/features_train.pkl')\n",
    "# torch.save(X_va, './datasets/jam/features_test.pkl')\n",
    "# torch.save(y_tr, './datasets/jam/labels_train.pkl')\n",
    "# torch.save(y_va, './datasets/jam/labels_test.pkl')\n",
    "\n",
    "# torch.save(X_tr, './datasets/jam/mini_features_train.pkl')\n",
    "# torch.save(X_va, './datasets/jam/mini_features_test.pkl')\n",
    "# torch.save(y_tr, './datasets/jam/mini_labels_train.pkl')\n",
    "# torch.save(y_va, './datasets/jam/mini_labels_test.pkl')"
   ]
  },
  {
   "cell_type": "markdown",
   "id": "e376cb0a-2709-4e34-94af-8c23af4a418f",
   "metadata": {
    "jp-MarkdownHeadingCollapsed": true,
    "tags": []
   },
   "source": [
    "## 標準化・正規化\n",
    "- 標準化を行う\n",
    "- 時間特徴量（`month`, `hour`, `day_of_week`）はsin, cosで変換するのもやってみる\n",
    "- 検索数, 台数は上り・下り別でもやってみる"
   ]
  },
  {
   "cell_type": "code",
   "execution_count": 19,
   "id": "70b43f0a-daa0-4011-8eb4-a3d1c155acb6",
   "metadata": {},
   "outputs": [
    {
     "name": "stdout",
     "output_type": "stream",
     "text": [
      "torch.Size([8, 7992, 63]) torch.Size([8, 2208, 63])\n",
      "torch.Size([1, 7992, 63]) torch.Size([1, 2208, 63])\n"
     ]
    }
   ],
   "source": [
    "dt_table = pd.read_pickle(f'{config.TABLES_DIR}/datetime_table.pkl')\n",
    "sec_table = pd.read_pickle(f'{config.TABLES_DIR}/section_table.pkl')\n",
    "\n",
    "X_tr = torch.load('./datasets/jam/features_train.pkl')\n",
    "X_va = torch.load('./datasets/jam/features_test.pkl')\n",
    "y_tr = torch.load('./datasets/jam/labels_train.pkl')\n",
    "y_va = torch.load('./datasets/jam/labels_test.pkl')\n",
    "\n",
    "# X_tr = torch.load('./datasets/jam/mini_features_train.pkl')\n",
    "# X_va = torch.load('./datasets/jam/mini_features_test.pkl')\n",
    "# y_tr = torch.load('./datasets/jam/mini_labels_train.pkl')\n",
    "# y_va = torch.load('./datasets/jam/mini_labels_test.pkl')\n",
    "\n",
    "print(X_tr.shape, X_va.shape)\n",
    "print(y_tr.shape, y_va.shape)"
   ]
  },
  {
   "cell_type": "code",
   "execution_count": 18,
   "id": "d59f0469-e844-48d9-b897-4c4b2596f2ab",
   "metadata": {
    "tags": []
   },
   "outputs": [],
   "source": [
    "# ID列は飛ばして標準化\n",
    "skip_features = [0, 1, -1]\n",
    "scaler = STMatrixStandardScaler(skip_features=skip_features)\n",
    "\n",
    "scaler.fit(X_tr)\n",
    "X_tr_norm = scaler.transform(X_tr)\n",
    "\n",
    "scaler.fit(X_va)\n",
    "X_va_norm = scaler.transform(X_va)\n",
    "\n",
    "# torch.save(X_tr_norm, './datasets/jam/mini_features_train_norm.pkl')\n",
    "# torch.save(X_va_norm, './datasets/jam/mini_features_test_norm.pkl')"
   ]
  },
  {
   "cell_type": "markdown",
   "id": "393b4d27-83ee-4e74-8cbd-e2f88b5bc7e3",
   "metadata": {},
   "source": [
    "## データセットの定義"
   ]
  },
  {
   "cell_type": "code",
   "execution_count": 3,
   "id": "265d39fd-7d3b-47e2-96d6-aad31ba1ecfa",
   "metadata": {},
   "outputs": [
    {
     "name": "stdout",
     "output_type": "stream",
     "text": [
      "(288, 1) (63, 4)\n",
      "torch.Size([8, 7992, 63]) torch.Size([8, 2208, 63])\n",
      "torch.Size([1, 7992, 63]) torch.Size([1, 2208, 63])\n"
     ]
    }
   ],
   "source": [
    "dt_table = pd.read_pickle(f'{config.TABLES_DIR}/datetime_table.pkl')\n",
    "sec_table = pd.read_pickle(f'{config.TABLES_DIR}/section_table.pkl')\n",
    "\n",
    "X_tr = torch.load(f'{config.DATASET_DIR}/jam/features_train_norm.pkl')\n",
    "X_va = torch.load(f'{config.DATASET_DIR}/jam/features_test_norm.pkl')\n",
    "y_tr = torch.load(f'{config.DATASET_DIR}/jam/labels_train.pkl')\n",
    "y_va = torch.load(f'{config.DATASET_DIR}/jam/labels_test.pkl')\n",
    "\n",
    "# X_tr = torch.load(f'{config.MINI_DIR}/jam/mini_features_train_norm.pkl')\n",
    "# X_va = torch.load(f'{config.MINI_DIR}/jam/mini_features_test_norm.pkl')\n",
    "# y_tr = torch.load(f'{config.MINI_DIR}/jam/mini_labels_train.pkl')\n",
    "# y_va = torch.load(f'{config.MINI_DIR}/jam/mini_labels_test.pkl')\n",
    "\n",
    "print(dt_table.shape, sec_table.shape)\n",
    "print(X_tr.shape, X_va.shape)\n",
    "print(y_tr.shape, y_va.shape)"
   ]
  },
  {
   "cell_type": "code",
   "execution_count": 4,
   "id": "6731a3ac-b9fc-46dd-87d4-050fa49aee96",
   "metadata": {
    "tags": []
   },
   "outputs": [],
   "source": [
    "time_step = 168\n",
    "prediction_horizon = 24\n",
    "space_window = (-2, 2)\n",
    "static_col = config.STATIC_COL\n",
    "\n",
    "dataset_train = STDataset(X_tr, y_tr, \n",
    "                          time_step=time_step, \n",
    "                          prediction_horizon=prediction_horizon,\n",
    "                          space_window=space_window, \n",
    "                          static_col=static_col)\n",
    "\n",
    "dataset_valid = STDataset(X_va, y_va, \n",
    "                          time_step=time_step, \n",
    "                          prediction_horizon=prediction_horizon,\n",
    "                          space_window=space_window, \n",
    "                          static_col=static_col)"
   ]
  },
  {
   "cell_type": "markdown",
   "id": "b340b55f-dcc6-4f86-a1d9-ed3c02faaaf3",
   "metadata": {
    "tags": []
   },
   "source": [
    "## Networkの定義"
   ]
  },
  {
   "cell_type": "markdown",
   "id": "6bd3e7f1-34ea-4ac3-89be-9503a8dbc6bb",
   "metadata": {
    "jp-MarkdownHeadingCollapsed": true,
    "tags": []
   },
   "source": [
    "### HA"
   ]
  },
  {
   "cell_type": "code",
   "execution_count": 19,
   "id": "97f15fb8-0331-4e92-89d2-5b16b9c2a9c7",
   "metadata": {},
   "outputs": [],
   "source": [
    "class HA:\n",
    "    def forward(self, x):\n",
    "        out = x[:, -1].mean(dim=1)\n",
    "        return out\n",
    "    \n",
    "    def __call__(self, x):\n",
    "        return self.forward(x)"
   ]
  },
  {
   "cell_type": "markdown",
   "id": "68688362-29fa-473b-8071-f742d901baf0",
   "metadata": {
    "jp-MarkdownHeadingCollapsed": true,
    "tags": []
   },
   "source": [
    "### LSTM"
   ]
  },
  {
   "cell_type": "code",
   "execution_count": 10,
   "id": "43a17bfe-5110-4967-9810-f2b11c7bddfe",
   "metadata": {
    "tags": []
   },
   "outputs": [],
   "source": [
    "class SimpleLSTM(nn.Module):\n",
    "    def __init__(self, in_dim, hid_dim, num_layers, batch_first=True):\n",
    "        super().__init__()\n",
    "        \n",
    "        self.in_dim = in_dim\n",
    "        self.hid_dim = hid_dim\n",
    "        self.num_layers = num_layers\n",
    "        \n",
    "        self.lstm = nn.LSTM(in_dim, hid_dim, num_layers, batch_first=True)\n",
    "        self.fc = nn.Linear(hid_dim, 1)\n",
    "    \n",
    "    def forward(self, x):\n",
    "        x = x.permute(0, 2, 1)\n",
    "        outs, (h, c) = self.lstm(x)\n",
    "        out = self.fc(h[0])\n",
    "        return out\n",
    "    \n",
    "\n",
    "class LSTM(nn.Module):\n",
    "    def __init__(self, hid_dim, num_layers=1, batch_first=True):\n",
    "        super().__init__()\n",
    "        \n",
    "        self.hid_dim = hid_dim\n",
    "        self.num_layers = num_layers\n",
    "        \n",
    "        self.lstm = nn.LSTM(1, hid_dim, num_layers, batch_first=batch_first)\n",
    "        self.search_lstm = nn.LSTM(2, hid_dim, num_layers, batch_first=batch_first)\n",
    "        \n",
    "        self.fc = nn.Linear(hid_dim * 2, 1)\n",
    "        \n",
    "    def forward(self, x):\n",
    "        x = x.permute(0, 2, 1)\n",
    "        outs, (h, c) = self.lstm(x[..., -1:])\n",
    "        s_outs, (s_h, s_c) = self.search_lstm(x[..., -3:-1])\n",
    "        out = torch.cat([h[0], s_h[0]], dim=1)\n",
    "        out = self.fc(out)\n",
    "        return out"
   ]
  },
  {
   "cell_type": "markdown",
   "id": "66571ee8-675a-4eb0-b4b0-ebf2738a7725",
   "metadata": {
    "jp-MarkdownHeadingCollapsed": true,
    "tags": []
   },
   "source": [
    "### Embedding + LSTM"
   ]
  },
  {
   "cell_type": "code",
   "execution_count": null,
   "id": "66e5c740-7ac7-4b2a-bbcd-03ffb1150fe7",
   "metadata": {},
   "outputs": [],
   "source": [
    "class LSTM_Embedding(nn.Module):\n",
    "    def __init__(self, hid_dim, num_layers=1, batch_first=True):\n",
    "        super().__init__()\n",
    "        \n",
    "        self.hid_dim = hid_dim\n",
    "        self.num_layers = num_layers\n",
    "        \n",
    "        self.dt_n_embed = 32\n",
    "        self.road_n_embed = 16\n",
    "        self.n_embed = self.dt_n_embed + self.road_n_embed\n",
    "        self.dt_embed = nn.Embedding(len(dt_table), self.dt_n_embed)\n",
    "        self.road_embed = nn.Embedding(len(sec_table), self.road_n_embed)\n",
    "        \n",
    "        self.traffic_lstm = nn.LSTM(1, hid_dim, num_layers, batch_first=batch_first)\n",
    "        self.search_lstm = nn.LSTM(2, hid_dim, num_layers, batch_first=batch_first)\n",
    "        \n",
    "        self.cat_fc = nn.Linear(self.n_embed, 16)\n",
    "        self.fc1 = nn.Linear(hid_dim * 2 + 16, 32)\n",
    "        self.fc2 = nn.Linear(32, 1)\n",
    "        \n",
    "        \n",
    "    def forward(self, x):  \n",
    "        x_dy, x_st = x\n",
    "        \n",
    "        # categorical (datetime + road)\n",
    "        dt_emb = self.dt_embed(x_st[..., 0].to(dtype=torch.int64))\n",
    "        road_emb = self.road_embed(x_st[..., 1].to(dtype=torch.int64))\n",
    "        cat_emb = torch.cat([dt_emb, road_emb], dim=1)\n",
    "        cat_out = F.relu(self.cat_fc(cat_emb))\n",
    "        \n",
    "        # traffic\n",
    "        x_dy = x_dy.permute(0, 2, 1)\n",
    "        _, (traffic_h, _) = self.traffic_lstm(x_dy[..., -1:])\n",
    "        \n",
    "        # search\n",
    "        _, (search_h, _) = self.search_lstm(x_dy[..., -3:-1])\n",
    "        # linear\n",
    "        out = torch.cat([traffic_h[0], search_h[0], cat_out], dim=1)\n",
    "        out = F.relu(self.fc1(out))\n",
    "        out = self.fc2(out)\n",
    "        return out"
   ]
  },
  {
   "cell_type": "markdown",
   "id": "c706e125-cdf0-4590-9817-bc3deff9ada1",
   "metadata": {
    "jp-MarkdownHeadingCollapsed": true,
    "tags": []
   },
   "source": [
    "### Conv1d + LSTM"
   ]
  },
  {
   "cell_type": "code",
   "execution_count": 32,
   "id": "3cff1d03-a345-40f5-8970-df8f0bc6d44b",
   "metadata": {},
   "outputs": [],
   "source": [
    "class Conv1dLSTM(nn.Module):\n",
    "    def __init__(self, hid_dim, kernel_size, num_layers=1, batch_first=True):\n",
    "        super().__init__()\n",
    "        \n",
    "        self.hid_dim = hid_dim\n",
    "        self.kernel_size = kernel_size\n",
    "        self.num_layers = num_layers\n",
    "        \n",
    "        self.conv = nn.Conv1d(96, 96, 5)\n",
    "        self.lstm = nn.LSTM(1, hid_dim, num_layers, batch_first=batch_first)\n",
    "        \n",
    "        self.search_conv1 = nn.Conv1d(96, 96, 5)\n",
    "        self.search_conv2 = nn.Conv1d(96, 96, 5)\n",
    "        self.search_fc = nn.Linear(96*2, 64)\n",
    "        \n",
    "        self.fc1 = nn.Linear(hid_dim + 64, 32)\n",
    "        self.fc2 = nn.Linear(32, 1)\n",
    "    \n",
    "    def forward(self, x):\n",
    "        N, D, T, S = x.shape\n",
    "        \n",
    "        # traffic\n",
    "        out = F.relu(self.conv(x[:, -1]))\n",
    "        _, (h, c) = self.lstm(out)\n",
    "        \n",
    "        # search\n",
    "        s_out1 = F.relu(self.search_conv1(x[:, -3]))\n",
    "        s_out1 = s_out1.view(N, -1)\n",
    "        s_out2 = F.relu(self.search_conv2(x[:, -2]))\n",
    "        s_out2 = s_out2.view(N, -1)\n",
    "        s_out = torch.cat([s_out1, s_out2], dim=1)\n",
    "        s_out = F.relu(self.search_fc(s_out))\n",
    "        \n",
    "        # concat\n",
    "        out = torch.cat([h[0], s_out], dim=1)\n",
    "        out = F.relu(self.fc1(out))\n",
    "        out = self.fc2(out)\n",
    "        \n",
    "        return out"
   ]
  },
  {
   "cell_type": "markdown",
   "id": "097cac43-51a8-4f97-86df-21fba6e57ca0",
   "metadata": {
    "jp-MarkdownHeadingCollapsed": true,
    "tags": []
   },
   "source": [
    "### Conv2d + LSTM"
   ]
  },
  {
   "cell_type": "code",
   "execution_count": null,
   "id": "6806342f-9e74-435a-95de-eb5606575288",
   "metadata": {},
   "outputs": [],
   "source": [
    "class Conv2dLSTM(nn.Module):\n",
    "    def __init__(self, hid_dim, kernel_size, num_layers=1, batch_first=True):\n",
    "        super().__init__()\n",
    "        \n",
    "        self.hid_dim = hid_dim\n",
    "        self.kernel_size = kernel_size\n",
    "        self.num_layers = num_layers\n",
    "        self.padding = (4, 0)\n",
    "        \n",
    "        self.conv1 = nn.Conv2d(1, 32, (9, 3), padding=self.padding)\n",
    "        self.conv2 = nn.Conv2d(32, 16, (9, 3), padding=self.padding)\n",
    "        self.lstm = nn.LSTM(16, hid_dim, num_layers, batch_first=batch_first)\n",
    "        \n",
    "        self.search_conv1 = nn.Conv2d(2, 64, (9, 3), padding=self.padding)\n",
    "        self.search_conv2 = nn.Conv2d(64, 32, (9, 3), padding=self.padding)\n",
    "        self.search_fc = nn.Linear(32 * 96, 64)\n",
    "        \n",
    "        self.fc1 = nn.Linear(hid_dim + 64, 32)\n",
    "        self.fc2 = nn.Linear(32, 1)\n",
    "    \n",
    "    def forward(self, x):\n",
    "        N, D, T, S = x.shape   \n",
    "        # traffic\n",
    "        out = F.relu(self.conv1(x[:, -1:]))\n",
    "        out = F.relu(self.conv2(out))\n",
    "        out = out[..., 0].permute(0, 2, 1)\n",
    "        outs, (h, c) = self.lstm(out)\n",
    "        \n",
    "        # search feature\n",
    "        s_out = F.relu(self.search_conv1(x[:, -3:-1]))\n",
    "        s_out = F.relu(self.search_conv2(s_out))\n",
    "        s_out = s_out.view(N, -1)\n",
    "        s_out = F.relu(self.search_fc(s_out))\n",
    "        \n",
    "        # predict\n",
    "        out = torch.cat([h[0], s_out], dim=1)\n",
    "        out = F.relu(self.fc1(out))\n",
    "        out = self.fc2(out)\n",
    "        \n",
    "        return out"
   ]
  },
  {
   "cell_type": "markdown",
   "id": "5b51dab4-9100-4b0c-b7de-ec0801fc9f9d",
   "metadata": {
    "tags": []
   },
   "source": [
    "### Embedding + Conv2d + LSTM"
   ]
  },
  {
   "cell_type": "code",
   "execution_count": 87,
   "id": "eebd97df-8e97-40a7-a5a3-8d18f5b718d5",
   "metadata": {},
   "outputs": [],
   "source": [
    "# normal\n",
    "# EMB_DIM = 16\n",
    "# CONV_DIM = 32 # 32->16\n",
    "# LSTM_DIM = 64\n",
    "# LSTM_LAYERS = 1\n",
    "# SEARCH_CONV_DIM = 64 # 64->32\n",
    "# SEARCH_FC_DIM = 32\n",
    "# FC1_DIM = 32\n",
    "\n",
    "# wide\n",
    "# EMB_DIM = 16\n",
    "# CONV_DIM = 64\n",
    "# LSTM_DIM = 64\n",
    "# LSTM_LAYERS = 1\n",
    "# SEARCH_CONV_DIM = 64\n",
    "# SEARCH_FC_DIM = 128\n",
    "# FC1_DIM = 64\n",
    "\n",
    "# wide2\n",
    "EMB_DIM = 16\n",
    "CONV_DIM = 64\n",
    "LSTM_DIM = 128\n",
    "LSTM_LAYERS = 2\n",
    "SEARCH_CONV_DIM = 64\n",
    "SEARCH_FC_DIM = 128\n",
    "FC1_DIM = 128"
   ]
  },
  {
   "cell_type": "code",
   "execution_count": 104,
   "id": "d2828b31-7957-4701-a335-3ec18f50f86c",
   "metadata": {
    "tags": []
   },
   "outputs": [],
   "source": [
    "class Conv2dLSTM_Embedding(nn.Module):\n",
    "    def __init__(self, hid_dim, kernel_size, padding=(4,0), num_layers=1, batch_first=True):\n",
    "        super().__init__()\n",
    "        \n",
    "        self.hid_dim = hid_dim\n",
    "        self.kernel_size = kernel_size\n",
    "        self.num_layers = num_layers\n",
    "        self.padding = padding\n",
    "        \n",
    "        # categorical\n",
    "        self.dt_n_embed = 32\n",
    "        self.road_n_embed = 16\n",
    "        self.n_embed = self.dt_n_embed + self.road_n_embed\n",
    "        self.dt_embed = nn.Embedding(len(dt_table), self.dt_n_embed)\n",
    "        self.road_embed = nn.Embedding(len(sec_table), self.road_n_embed)\n",
    "        self.cat_fc = nn.Linear(self.n_embed, EMB_DIM)\n",
    "        self.cat_bn = nn.BatchNorm1d(EMB_DIM)\n",
    "        \n",
    "        # traffic\n",
    "        self.conv1 = nn.Conv2d(4, CONV_DIM, (9, 3), padding=self.padding)\n",
    "        self.bn1 = nn.BatchNorm2d(CONV_DIM)\n",
    "        self.conv2 = nn.Conv2d(CONV_DIM, CONV_DIM, (9, 3), padding=self.padding)\n",
    "        self.bn2 = nn.BatchNorm2d(CONV_DIM)\n",
    "        self.lstm = nn.LSTM(CONV_DIM, hid_dim, num_layers, batch_first=batch_first)\n",
    "        \n",
    "        # search\n",
    "        self.search_conv1 = nn.Conv2d(2, SEARCH_CONV_DIM, (9, 3), padding=self.padding)\n",
    "        self.search_bn1 = nn.BatchNorm2d(SEARCH_CONV_DIM)\n",
    "        self.search_conv2 = nn.Conv2d(SEARCH_CONV_DIM, SEARCH_CONV_DIM, (9, 3), padding=self.padding)\n",
    "        self.search_bn2 = nn.BatchNorm2d(SEARCH_CONV_DIM)\n",
    "        self.search_fc = nn.Linear(SEARCH_CONV_DIM * 168, SEARCH_FC_DIM)\n",
    "        self.search_bn3 = nn.BatchNorm1d(SEARCH_FC_DIM)\n",
    "        \n",
    "        # linear (traffic + search + categorical)\n",
    "        self.fc1 = nn.Linear(hid_dim + SEARCH_FC_DIM + EMB_DIM, FC1_DIM)\n",
    "        self.bn3 = nn.BatchNorm1d(FC1_DIM)\n",
    "        self.fc2 = nn.Linear(FC1_DIM, 2)\n",
    "        \n",
    "        # dropout\n",
    "        self.embed_dropout = nn.Dropout(p=0.8)\n",
    "        self.dropout = nn.Dropout(p=0.6)\n",
    "        self.last_dropout = nn.Dropout(p=0.3)\n",
    "        \n",
    "    def forward(self, x):  \n",
    "        x_dy, x_st = x\n",
    "        N, D, T, S = x_dy.shape\n",
    "        \n",
    "        # categorical (datetime + road)\n",
    "        dt_emb = self.dt_embed(x_st[..., 0].to(dtype=torch.int64))\n",
    "        road_emb = self.road_embed(x_st[..., 1].to(dtype=torch.int64))\n",
    "        cat_emb = torch.cat([dt_emb, road_emb], dim=1)\n",
    "        cat_out = F.relu(self.cat_bn(self.cat_fc(cat_emb)))\n",
    "        cat_out = self.embed_dropout(cat_out)\n",
    "        \n",
    "        # traffic\n",
    "        out = F.relu(self.bn1(self.conv1(x_dy[:, -4:])))\n",
    "        out = self.dropout(out)\n",
    "        out = F.relu(self.bn2(self.conv2(out)))\n",
    "        out = self.dropout(out)\n",
    "        out = out[..., 0].permute(0, 2, 1)\n",
    "        outs, (h, c) = self.lstm(out)\n",
    "        h = self.dropout(h)\n",
    "        \n",
    "        # search\n",
    "        s_out = F.relu(self.search_bn1(self.search_conv1(x_dy[:, -6:-4])))\n",
    "        s_out = self.dropout(s_out)\n",
    "        s_out = F.relu(self.search_bn2(self.search_conv2(s_out)))\n",
    "        s_out = self.dropout(s_out)\n",
    "        s_out = s_out.view(N, -1)\n",
    "        s_out = F.relu(self.search_bn3(self.search_fc(s_out)))\n",
    "        s_out = self.dropout(s_out)\n",
    "        \n",
    "        # linear\n",
    "        out = torch.cat([h[0], s_out, cat_out], dim=1)\n",
    "        out = F.relu(self.bn3(self.fc1(out)))\n",
    "        out = self.last_dropout(out)\n",
    "        out = self.fc2(out)\n",
    "        \n",
    "        return out"
   ]
  },
  {
   "cell_type": "code",
   "execution_count": 5,
   "id": "ed4d691f-225e-4a0d-b66a-915f90746fe3",
   "metadata": {
    "jupyter": {
     "source_hidden": true
    },
    "tags": []
   },
   "outputs": [],
   "source": [
    "class Conv2dLSTM_Embedding(nn.Module):\n",
    "    def __init__(self, hid_dim, kernel_size, padding=(4,0), num_layers=1, batch_first=True):\n",
    "        super().__init__()\n",
    "        \n",
    "        self.hid_dim = hid_dim\n",
    "        self.kernel_size = kernel_size\n",
    "        self.num_layers = num_layers\n",
    "        self.padding = padding\n",
    "        \n",
    "        # categorical\n",
    "        self.dt_n_embed = 32\n",
    "        self.road_n_embed = 16\n",
    "        self.n_embed = self.dt_n_embed + self.road_n_embed\n",
    "        self.dt_embed = nn.Embedding(len(dt_table), self.dt_n_embed)\n",
    "        self.road_embed = nn.Embedding(len(sec_table), self.road_n_embed)\n",
    "        self.cat_fc = nn.Linear(self.n_embed, 16)\n",
    "        \n",
    "        # traffic\n",
    "        self.conv1 = nn.Conv2d(4, 32, (9, 3), padding=self.padding)\n",
    "        self.conv2 = nn.Conv2d(32, 16, (9, 3), padding=self.padding)\n",
    "        self.lstm = nn.LSTM(16, hid_dim, num_layers, batch_first=batch_first)\n",
    "        \n",
    "        # search\n",
    "        self.search_conv1 = nn.Conv2d(2, 64, (9, 3), padding=self.padding)\n",
    "        self.search_conv2 = nn.Conv2d(64, 32, (9, 3), padding=self.padding)\n",
    "        self.search_fc = nn.Linear(32 * 168, 64)\n",
    "        \n",
    "        # linear (traffic + search + categorical)\n",
    "        self.fc1 = nn.Linear(hid_dim + 64 + 16, 32)\n",
    "        self.fc2 = nn.Linear(32, 2)\n",
    "        \n",
    "        \n",
    "    def forward(self, x):  \n",
    "        x_dy, x_st = x\n",
    "        N, D, T, S = x_dy.shape\n",
    "        \n",
    "        # categorical (datetime + road)\n",
    "        dt_emb = self.dt_embed(x_st[..., 0].to(dtype=torch.int64))\n",
    "        road_emb = self.road_embed(x_st[..., 1].to(dtype=torch.int64))\n",
    "        cat_emb = torch.cat([dt_emb, road_emb], dim=1)\n",
    "        cat_out = F.relu(self.cat_fc(cat_emb))\n",
    "        \n",
    "        # traffic\n",
    "        out = F.relu(self.conv1(x_dy[:, -4:]))\n",
    "        out = F.relu(self.conv2(out))\n",
    "        out = out[..., 0].permute(0, 2, 1)\n",
    "        outs, (h, c) = self.lstm(out)\n",
    "        \n",
    "        # search\n",
    "        s_out = F.relu(self.search_conv1(x_dy[:, -6:-4]))\n",
    "        s_out = F.relu(self.search_conv2(s_out))\n",
    "        s_out = s_out.view(N, -1)\n",
    "        s_out = F.relu(self.search_fc(s_out))\n",
    "        \n",
    "        # linear\n",
    "        out = torch.cat([h[0], s_out, cat_out], dim=1)\n",
    "        out = F.relu(self.fc1(out))\n",
    "        out = self.fc2(out)\n",
    "        \n",
    "        return out"
   ]
  },
  {
   "cell_type": "markdown",
   "id": "8d41aa92-6edb-4ee7-940c-990101e90046",
   "metadata": {
    "tags": []
   },
   "source": [
    "## 学習"
   ]
  },
  {
   "cell_type": "code",
   "execution_count": 60,
   "id": "374b51aa-84d2-4c9d-89f3-cfd0e80bb358",
   "metadata": {
    "jupyter": {
     "source_hidden": true
    },
    "tags": []
   },
   "outputs": [],
   "source": [
    "class CTrainer(Trainer):\n",
    "    def __init__(\n",
    "        self,\n",
    "        model,\n",
    "        optimizer,\n",
    "        loss_fn,\n",
    "        device=None,\n",
    "        logger=None,\n",
    "        model_name=None,\n",
    "    ):\n",
    "        super().__init__(model, optimizer, loss_fn, device, logger, model_name)\n",
    "\n",
    "        self.train_accs = []\n",
    "        self.val_accs = []\n",
    "        self.best_acc = 0.0\n",
    "\n",
    "    def fit(\n",
    "        self,\n",
    "        train_loader,\n",
    "        val_loader,\n",
    "        n_epochs,\n",
    "        log_steps=None,\n",
    "        max_first_log_steps=3,\n",
    "        max_time=None,\n",
    "        save_epoch_steps=None,\n",
    "        random_seed=config.RANDOM_SEED,\n",
    "    ):\n",
    "        fix_seed(random_seed)\n",
    "        start = time.time()\n",
    "\n",
    "        for epoch in range(1, n_epochs + 1):\n",
    "            ## increment epoch\n",
    "            self.current_epoch += 1\n",
    "\n",
    "            ## train\n",
    "            self.model.train()\n",
    "            epoch_start = time.time()\n",
    "\n",
    "            train_loss, train_acc = self.__train_epoch(train_loader)\n",
    "            self.train_losses.append(train_loss)\n",
    "            self.train_accs.append(train_acc)\n",
    "            \n",
    "            train_time = time.time() - epoch_start\n",
    "\n",
    "            ## validate\n",
    "            self.model.eval()\n",
    "            epoch_start = time.time()\n",
    "\n",
    "            val_loss, val_acc = self.__valid_epoch(val_loader)\n",
    "            self.val_losses.append(val_loss)\n",
    "            self.val_accs.append(val_acc)\n",
    "\n",
    "            val_time = time.time() - epoch_start\n",
    "\n",
    "            ## logging\n",
    "            log_flag = (self.logger is not None) and (log_steps is not None)\n",
    "            if log_flag and (\n",
    "                (self.current_epoch <= max_first_log_steps)\n",
    "                or (self.current_epoch % log_steps == 0)\n",
    "            ):\n",
    "                message = f\"Epoch: {self.current_epoch} | Train Loss: {train_loss:.3f}, Train F1: {train_acc:.3f}, Train Time: {train_time:.2f} [sec] | Valid Loss: {val_loss:.3f}, Valid F1: {val_acc:.3f}, Valid Time: {val_time:.2f} [sec]\"\n",
    "                self.__logging(message)\n",
    "\n",
    "            if (self.model_name is not None) and (val_acc > self.best_acc):\n",
    "                self.best_acc = val_acc\n",
    "                self.save(self.model_name)\n",
    "\n",
    "            ## early stopping\n",
    "            if (max_time is not None) and (time.time() - start >= max_time):\n",
    "                break\n",
    "\n",
    "        return self.train_losses, self.val_losses\n",
    "\n",
    "    def validate(self, loader):\n",
    "        \"\"\"1epochだけ回して性能を評価\"\"\"\n",
    "        self.model.eval()\n",
    "\n",
    "        total_loss, total_acc = self.__valid_epoch(loader)\n",
    "        return total_loss, total_acc\n",
    "\n",
    "    def predict(self):\n",
    "        return\n",
    "\n",
    "    def __train_epoch(self, loader):\n",
    "        train_loss = 0.0\n",
    "        \n",
    "        ep_target = []\n",
    "        ep_predicted = []\n",
    "\n",
    "        for i_batch, (data, target) in enumerate(loader):\n",
    "            if isinstance(data, (list, tuple)):\n",
    "                data = map(lambda x: x.to(device=self.device), data)\n",
    "            else:\n",
    "                data = data.to(device=self.device)\n",
    "            target = target.to(device=self.device)\n",
    "            target_o = F.one_hot(target[:, 0].long(), num_classes=2).float()\n",
    "\n",
    "            out = self.model(data)\n",
    "            loss = self.loss_fn(out, target_o)\n",
    "\n",
    "            self.optimizer.zero_grad()\n",
    "            loss.backward()\n",
    "            self.optimizer.step()\n",
    "            \n",
    "            _, predicted = torch.max(out.detach(), dim=1)\n",
    "\n",
    "            train_loss += loss.item()\n",
    "            ep_target.append(target[:, 0])\n",
    "            ep_predicted.append(predicted)\n",
    "\n",
    "        train_loss /= len(loader)\n",
    "        \n",
    "        ep_target = torch.cat(ep_target).cpu()\n",
    "        ep_predicted = torch.cat(ep_predicted).cpu()\n",
    "        train_acc = f1_score(ep_target, ep_predicted)\n",
    "        \n",
    "        return train_loss, train_acc\n",
    "\n",
    "    def __valid_epoch(self, loader):\n",
    "        valid_loss = 0.0\n",
    "        \n",
    "        ep_target = []\n",
    "        ep_predicted = []\n",
    "        \n",
    "        with torch.no_grad():\n",
    "            for i_batch, (data, target) in enumerate(loader):\n",
    "                if isinstance(data, (list, tuple)):\n",
    "                    data = map(lambda x: x.to(device=self.device), data)\n",
    "                else:\n",
    "                    data = data.to(device=self.device)\n",
    "                target = target.to(device=self.device)\n",
    "                target_o = F.one_hot(target[:, 0].long(), num_classes=2).float()\n",
    "\n",
    "                out = self.model(data)\n",
    "                loss = self.loss_fn(out, target_o)\n",
    "                _, predicted = torch.max(out, dim=1)\n",
    "\n",
    "                valid_loss += loss.item()\n",
    "                ep_target.append(target[:, 0])\n",
    "                ep_predicted.append(predicted)\n",
    "\n",
    "            valid_loss /= len(loader)\n",
    "            \n",
    "            ep_target = torch.cat(ep_target).cpu()\n",
    "            ep_predicted = torch.cat(ep_predicted).cpu()\n",
    "            valid_acc = f1_score(ep_target, ep_predicted)\n",
    "            \n",
    "        return valid_loss, valid_acc\n",
    "    \n",
    "    def __logging(self, message):\n",
    "        self.logger.log(message)\n",
    "        return"
   ]
  },
  {
   "cell_type": "code",
   "execution_count": 61,
   "id": "9b31cd8c-e2d7-4ca6-ad97-5e7eb75add5f",
   "metadata": {},
   "outputs": [],
   "source": [
    "class BalancedLoader:\n",
    "    def __init__(self, dataset, batch_size):\n",
    "        self.features = dataset[:][0][0]\n",
    "        self.static_features = dataset[:][0][1]\n",
    "        self.labels = dataset[:][1]\n",
    "        assert batch_size % 2 == 0\n",
    "        self.batch_size = batch_size\n",
    "        self.n_samples = batch_size // 2\n",
    "        \n",
    "        label_counts = np.bincount(self.labels.view(-1).long())\n",
    "        if label_counts.shape[0] != 2:\n",
    "            raise ValueError(f'Expected 2 class but got {label_counts.shape[0]} class')\n",
    "        if label_counts.min() < self.n_samples:\n",
    "            raise ValueError('`n_samples` must be less than minor label data size')\n",
    "            \n",
    "        major_label = label_counts.argmax()\n",
    "        minor_label = label_counts.argmin()\n",
    "        self.major_indices = np.where(self.labels == major_label)[0]\n",
    "        self.minor_indices = np.where(self.labels == minor_label)[0]\n",
    "        \n",
    "        np.random.shuffle(self.major_indices)\n",
    "            \n",
    "    def __iter__(self):\n",
    "        count = 0\n",
    "        while count + self.n_samples < len(self.major_indices):\n",
    "            mini_major_indices = self.major_indices[count:count+self.n_samples]\n",
    "            mini_minor_indices = np.random.choice(self.minor_indices, self.n_samples, replace=False)\n",
    "            mini_indices = mini_major_indices.tolist() + mini_minor_indices.tolist()\n",
    "            \n",
    "            features = self.features[mini_indices]\n",
    "            static_features = self.static_features[mini_indices]\n",
    "            labels = self.labels[mini_indices]\n",
    "            yield (features, static_features),labels\n",
    "            \n",
    "            count += self.n_samples\n",
    "    \n",
    "    def __len__(self):\n",
    "        return len(self.labels) // self.batch_size"
   ]
  },
  {
   "cell_type": "code",
   "execution_count": 89,
   "id": "fab3e372-219a-45e6-807f-802404cf8c5e",
   "metadata": {},
   "outputs": [],
   "source": [
    "batch_size = config.BATCH_SIZE\n",
    "\n",
    "train_loader = BalancedLoader(dataset_train, batch_size=batch_size)\n",
    "val_loader = torch.utils.data.DataLoader(dataset_valid, batch_size=batch_size, shuffle=False)"
   ]
  },
  {
   "cell_type": "markdown",
   "id": "e8f20561-15bc-4437-b2ad-c5849a05a66b",
   "metadata": {
    "jp-MarkdownHeadingCollapsed": true,
    "tags": []
   },
   "source": [
    "### HA"
   ]
  },
  {
   "cell_type": "code",
   "execution_count": 63,
   "id": "0bb15a1e-0309-42c6-8f9a-24c7eadb4444",
   "metadata": {},
   "outputs": [],
   "source": [
    "# data\n",
    "X_tr = torch.load('./datasets/features_train.pkl')\n",
    "X_va = torch.load('./datasets/features_test.pkl')\n",
    "\n",
    "# dataset\n",
    "time_step = 12\n",
    "prediction_horizon = 1\n",
    "space_window = None\n",
    "static_col = None\n",
    "\n",
    "dataset_train = STDataset(X_tr, y_tr, \n",
    "                          time_step=time_step, \n",
    "                          prediction_horizon=prediction_horizon,\n",
    "                          space_window=space_window, \n",
    "                          static_col=static_col)\n",
    "\n",
    "dataset_valid = STDataset(X_va, y_va, \n",
    "                          time_step=time_step, \n",
    "                          prediction_horizon=prediction_horizon,\n",
    "                          space_window=space_window, \n",
    "                          static_col=static_col)\n",
    "\n",
    "# loader\n",
    "batch_size = 256\n",
    "train_loader = torch.utils.data.DataLoader(dataset_train, batch_size=batch_size, shuffle=True)\n",
    "val_loader = torch.utils.data.DataLoader(dataset_valid, batch_size=batch_size, shuffle=False)"
   ]
  },
  {
   "cell_type": "code",
   "execution_count": 64,
   "id": "78145076-5255-4a6f-80a4-fc0e7cab6402",
   "metadata": {},
   "outputs": [
    {
     "name": "stdout",
     "output_type": "stream",
     "text": [
      "2022-08-14 03:45:28.889208 | Time Step: 12 | Loss: 56.652441359661495\n"
     ]
    }
   ],
   "source": [
    "model = HA()\n",
    "loss_fn = nn.L1Loss()\n",
    "\n",
    "logger = Logger(f'{config.LOG_DIR}/HA.log')\n",
    "\n",
    "val_loss = 0.0\n",
    "for d, t in val_loader:\n",
    "    out = model(d)\n",
    "    loss = loss_fn(out, t)\n",
    "    val_loss += loss.item()\n",
    "    \n",
    "val_loss /= len(val_loader)\n",
    "\n",
    "msg = f'Time Step: {time_step} | Loss: {val_loss}'\n",
    "logger.log(msg)"
   ]
  },
  {
   "cell_type": "markdown",
   "id": "5e034a2e-a655-4452-8193-95b577337d1a",
   "metadata": {
    "jp-MarkdownHeadingCollapsed": true,
    "tags": []
   },
   "source": [
    "---\n",
    "### LSTM"
   ]
  },
  {
   "cell_type": "code",
   "execution_count": 19,
   "id": "8c322e5d-ec12-4ce1-be2c-c78628467dbb",
   "metadata": {
    "tags": []
   },
   "outputs": [],
   "source": [
    "# hyper parameters\n",
    "n_epochs = 30\n",
    "hid_dim = 64\n",
    "\n",
    "# path\n",
    "log_path = './logs/LSTM.log'\n",
    "# log_path = None\n",
    "\n",
    "model = LSTM(hid_dim).to(device=device)\n",
    "model_name = 'LSTM'\n",
    "optimizer = optim.Adam(model.parameters())\n",
    "loss_fn = nn.L1Loss()\n",
    "\n",
    "logger = Logger(fname=log_path)\n",
    "trainer = Trainer(model, optimizer, loss_fn, device=device, logger=logger, model_name=model_name)"
   ]
  },
  {
   "cell_type": "code",
   "execution_count": 20,
   "id": "ed214934-0aab-4ae0-8701-4f692c8f670f",
   "metadata": {
    "tags": []
   },
   "outputs": [
    {
     "name": "stdout",
     "output_type": "stream",
     "text": [
      "2022-08-12 16:43:49.212220 | Epoch: 1 | Train Loss: 84.481, Train Time: 52.79 [sec] | Valid Loss: 26.293, Valid Time: 3.44 [sec]\n",
      "2022-08-12 16:44:45.271707 | Epoch: 2 | Train Loss: 20.682, Train Time: 52.62 [sec] | Valid Loss: 19.820, Valid Time: 3.44 [sec]\n",
      "2022-08-12 16:45:41.675216 | Epoch: 3 | Train Loss: 17.737, Train Time: 52.96 [sec] | Valid Loss: 18.742, Valid Time: 3.44 [sec]\n",
      "2022-08-12 16:46:38.149782 | Epoch: 4 | Train Loss: 17.210, Train Time: 53.03 [sec] | Valid Loss: 17.337, Valid Time: 3.44 [sec]\n",
      "2022-08-12 16:47:33.647089 | Epoch: 5 | Train Loss: 16.956, Train Time: 52.06 [sec] | Valid Loss: 18.391, Valid Time: 3.44 [sec]\n",
      "2022-08-12 16:52:14.797811 | Epoch: 10 | Train Loss: 16.408, Train Time: 52.68 [sec] | Valid Loss: 17.449, Valid Time: 3.43 [sec]\n",
      "2022-08-12 16:56:53.519520 | Epoch: 15 | Train Loss: 16.148, Train Time: 52.87 [sec] | Valid Loss: 17.652, Valid Time: 3.44 [sec]\n",
      "2022-08-12 17:01:33.893669 | Epoch: 20 | Train Loss: 16.012, Train Time: 52.45 [sec] | Valid Loss: 17.840, Valid Time: 3.43 [sec]\n",
      "2022-08-12 17:06:11.600662 | Epoch: 25 | Train Loss: 15.913, Train Time: 51.65 [sec] | Valid Loss: 17.444, Valid Time: 3.44 [sec]\n",
      "2022-08-12 17:10:51.170109 | Epoch: 30 | Train Loss: 15.844, Train Time: 52.61 [sec] | Valid Loss: 16.269, Valid Time: 3.42 [sec]\n"
     ]
    }
   ],
   "source": [
    "train_losses, val_losses = \\\n",
    "    trainer.fit(train_loader, val_loader, n_epochs, log_steps=5, max_first_log_steps=5)"
   ]
  },
  {
   "cell_type": "code",
   "execution_count": 26,
   "id": "2b1086e4-af21-4f62-9f76-a8dce73694e6",
   "metadata": {
    "tags": []
   },
   "outputs": [
    {
     "name": "stdout",
     "output_type": "stream",
     "text": [
      "2022-08-13 16:00:25.199092 | Epoch: 65 | Train Loss: 15.600, Train Time: 52.03 [sec] | Valid Loss: 17.158, Valid Time: 3.43 [sec]\n",
      "2022-08-13 16:05:01.422273 | Epoch: 70 | Train Loss: 15.582, Train Time: 51.30 [sec] | Valid Loss: 17.382, Valid Time: 3.42 [sec]\n"
     ]
    }
   ],
   "source": [
    "extra_epochs = 10\n",
    "\n",
    "train_losses, val_losses = \\\n",
    "    trainer.fit(train_loader, val_loader, extra_epochs, log_steps=5, max_first_log_steps=5)"
   ]
  },
  {
   "cell_type": "code",
   "execution_count": 24,
   "id": "9bfb0df9-effc-4d3d-8582-0ff50cf01601",
   "metadata": {},
   "outputs": [],
   "source": [
    "model_path = f'./models/LSTM_{trainer.current_epoch}.pth'\n",
    "torch.save(model.state_dict(), model_path)"
   ]
  },
  {
   "cell_type": "markdown",
   "id": "966341b2-e7b3-42a3-b1ab-b4f0c2786674",
   "metadata": {
    "jp-MarkdownHeadingCollapsed": true,
    "tags": []
   },
   "source": [
    "### LSTM + Embedding"
   ]
  },
  {
   "cell_type": "code",
   "execution_count": null,
   "id": "b900b657-b42a-44fc-9d7b-7299afc3059a",
   "metadata": {},
   "outputs": [],
   "source": [
    "# hyper parameters\n",
    "n_epochs = 50\n",
    "hid_dim = 64\n",
    "\n",
    "# path\n",
    "# log_path = './logs/mini_LSTM+Embedding.log'\n",
    "log_path = None\n",
    "\n",
    "# model\n",
    "model_name = 'Embedding+LSTM'\n",
    "model = LSTM_Embedding(hid_dim).to(device=device)\n",
    "optimizer = optim.Adam(model.parameters())\n",
    "loss_fn = nn.L1Loss()\n",
    "\n",
    "logger = Logger(fname=log_path)\n",
    "trainer = Trainer(model, optimizer, loss_fn, device=device, logger=logger, model_name=model_name)"
   ]
  },
  {
   "cell_type": "code",
   "execution_count": null,
   "id": "638ab74d-eb2c-4218-8980-cf59a29cc5a4",
   "metadata": {
    "tags": []
   },
   "outputs": [],
   "source": [
    "train_losses, val_losses = \\\n",
    "    trainer.fit(train_loader, val_loader, n_epochs, log_steps=5, max_first_log_steps=5)"
   ]
  },
  {
   "cell_type": "code",
   "execution_count": null,
   "id": "6b3ea05b-7349-48b4-9d0b-97ae231340a9",
   "metadata": {},
   "outputs": [],
   "source": [
    "model_path = f'./models/Embedding+LSTM_{trainer.current_epoch}.pth'\n",
    "torch.save(model.state_dict(), model_path)"
   ]
  },
  {
   "cell_type": "markdown",
   "id": "63958339-c869-45ba-aa05-7efb75ec1502",
   "metadata": {
    "jp-MarkdownHeadingCollapsed": true,
    "tags": []
   },
   "source": [
    "### Conv1d + LSTM"
   ]
  },
  {
   "cell_type": "code",
   "execution_count": 33,
   "id": "a533425d-b5de-4912-92ad-9d84b680629b",
   "metadata": {},
   "outputs": [],
   "source": [
    "# hyper parameters\n",
    "n_epochs = 20\n",
    "hid_dim = 64\n",
    "kernel_size = 5\n",
    "num_layers = 1\n",
    "\n",
    "# path\n",
    "log_path = './logs/Conv1d+LSTM.log'\n",
    "\n",
    "# model\n",
    "model_name = 'Conv1d+LSTM'\n",
    "model = Conv1dLSTM(hid_dim, kernel_size, num_layers).to(device=device)\n",
    "optimizer = optim.Adam(model.parameters())\n",
    "loss_fn = nn.L1Loss()\n",
    "\n",
    "logger = Logger(fname=log_path)\n",
    "trainer = Trainer(model, optimizer, loss_fn, device=device, logger=logger, model_name=model_name)"
   ]
  },
  {
   "cell_type": "code",
   "execution_count": 34,
   "id": "4396a77b",
   "metadata": {
    "tags": []
   },
   "outputs": [
    {
     "name": "stdout",
     "output_type": "stream",
     "text": [
      "2022-08-13 16:13:24.592070 | Epoch: 1 | Train Loss: 26.649, Train Time: 68.92 [sec] | Valid Loss: 19.661, Valid Time: 4.41 [sec]\n",
      "2022-08-13 16:14:39.701245 | Epoch: 2 | Train Loss: 16.388, Train Time: 70.71 [sec] | Valid Loss: 17.128, Valid Time: 4.40 [sec]\n",
      "2022-08-13 16:15:54.422551 | Epoch: 3 | Train Loss: 15.679, Train Time: 70.32 [sec] | Valid Loss: 16.343, Valid Time: 4.40 [sec]\n",
      "2022-08-13 16:17:08.979779 | Epoch: 4 | Train Loss: 15.335, Train Time: 70.15 [sec] | Valid Loss: 18.859, Valid Time: 4.40 [sec]\n",
      "2022-08-13 16:18:23.644423 | Epoch: 5 | Train Loss: 15.126, Train Time: 70.27 [sec] | Valid Loss: 15.086, Valid Time: 4.40 [sec]\n",
      "2022-08-13 16:24:37.372779 | Epoch: 10 | Train Loss: 14.589, Train Time: 70.28 [sec] | Valid Loss: 14.881, Valid Time: 4.41 [sec]\n",
      "2022-08-13 16:30:46.669056 | Epoch: 15 | Train Loss: 14.322, Train Time: 68.70 [sec] | Valid Loss: 16.136, Valid Time: 4.41 [sec]\n",
      "2022-08-13 16:36:49.950481 | Epoch: 20 | Train Loss: 14.125, Train Time: 68.48 [sec] | Valid Loss: 16.484, Valid Time: 4.41 [sec]\n"
     ]
    }
   ],
   "source": [
    "train_losses, val_losses = \\\n",
    "    trainer.fit(train_loader, val_loader, n_epochs, log_steps=5, max_first_log_steps=5)"
   ]
  },
  {
   "cell_type": "code",
   "execution_count": 38,
   "id": "e15fb416-665a-4d1e-9382-b81b052a09bd",
   "metadata": {
    "tags": []
   },
   "outputs": [
    {
     "name": "stdout",
     "output_type": "stream",
     "text": [
      "2022-08-14 03:53:57.373291 | Epoch: 45 | Train Loss: 13.623, Train Time: 69.93 [sec] | Valid Loss: 16.044, Valid Time: 4.41 [sec]\n",
      "2022-08-14 04:00:11.166217 | Epoch: 50 | Train Loss: 13.556, Train Time: 70.18 [sec] | Valid Loss: 17.094, Valid Time: 4.42 [sec]\n"
     ]
    }
   ],
   "source": [
    "extra_epochs = 10\n",
    "\n",
    "train_losses, val_losses = \\\n",
    "    trainer.fit(train_loader, val_loader, extra_epochs, log_steps=5, max_first_log_steps=5)"
   ]
  },
  {
   "cell_type": "code",
   "execution_count": 36,
   "id": "e78d8435-604f-4be3-91e1-3754bf1cbcef",
   "metadata": {},
   "outputs": [],
   "source": [
    "model_path = f'./models/Conv1d+LSTM_{trainer.current_epoch}.pth'\n",
    "torch.save(model.state_dict(), model_path)"
   ]
  },
  {
   "cell_type": "markdown",
   "id": "376c297e-d59c-4970-a59b-0f8eaf1a131d",
   "metadata": {
    "jp-MarkdownHeadingCollapsed": true,
    "tags": []
   },
   "source": [
    "### Conv2d + LSTM"
   ]
  },
  {
   "cell_type": "code",
   "execution_count": null,
   "id": "538bb6ae-7404-4e3c-b0e0-1e6abd100484",
   "metadata": {},
   "outputs": [],
   "source": [
    "# hyper parameters\n",
    "n_epochs = 40\n",
    "hid_dim = 64\n",
    "kernel_size = 5\n",
    "num_layers = 1\n",
    "\n",
    "# path\n",
    "# log_path = './logs/Conv2d+LSTM.log'\n",
    "log_path = None\n",
    "\n",
    "# model\n",
    "model_name = 'Conv2d+LSTM'\n",
    "model = Conv2dLSTM(hid_dim, kernel_size).to(device=device)\n",
    "optimizer = optim.Adam(model.parameters())\n",
    "loss_fn = nn.L1Loss()\n",
    "\n",
    "logger = Logger(fname=log_path)\n",
    "trainer = Trainer(model, optimizer, loss_fn, device=device, logger=logger, model_name=model_name)"
   ]
  },
  {
   "cell_type": "code",
   "execution_count": null,
   "id": "f06c60da-bd73-4904-81b3-b89d423d5c1b",
   "metadata": {
    "tags": []
   },
   "outputs": [],
   "source": [
    "train_losses, val_losses = \\\n",
    "    trainer.fit(train_loader, val_loader, n_epochs, log_steps=5, max_first_log_steps=5)"
   ]
  },
  {
   "cell_type": "code",
   "execution_count": null,
   "id": "35e0e123-67ad-41a1-ab89-d32639986f71",
   "metadata": {
    "tags": []
   },
   "outputs": [],
   "source": [
    "train_losses, val_losses = \\\n",
    "    trainer.fit(train_loader, val_loader, 30, log_steps=5, max_first_log_steps=5)"
   ]
  },
  {
   "cell_type": "code",
   "execution_count": null,
   "id": "dd601fe1-728d-48c5-87a1-fcbecea70a73",
   "metadata": {},
   "outputs": [],
   "source": [
    "model_path = f'./models/Conv2d+LSTM_traffic_{trainer.current_epoch}.pth'\n",
    "torch.save(model.state_dict(), model_path)"
   ]
  },
  {
   "cell_type": "markdown",
   "id": "fa32ba5d-0574-4885-8555-1500b56f3bc1",
   "metadata": {
    "tags": []
   },
   "source": [
    "### Embedding + Conv2d + LSTM"
   ]
  },
  {
   "cell_type": "code",
   "execution_count": 90,
   "id": "3301e107-e3b5-4ffe-9912-3e912e8a15e7",
   "metadata": {},
   "outputs": [],
   "source": [
    "# hyper parameters\n",
    "n_epochs = 50\n",
    "hid_dim = LSTM_DIM\n",
    "kernel_size = 5\n",
    "num_layers = LSTM_LAYERS\n",
    "\n",
    "# path\n",
    "model_name = 'jam/wide_bn_drop3_balanced_Conv2d+LSTM'\n",
    "log_path = f'./logs/{model_name}.log'\n",
    "# log_path = None\n",
    "\n",
    "# model\n",
    "model = Conv2dLSTM_Embedding(hid_dim, kernel_size).to(device=device)\n",
    "optimizer = optim.Adam(model.parameters())\n",
    "loss_fn = nn.BCEWithLogitsLoss()\n",
    "\n",
    "logger = Logger(fname=log_path)\n",
    "trainer = CTrainer(model, optimizer, loss_fn, device=device, logger=logger, model_name=model_name)"
   ]
  },
  {
   "cell_type": "code",
   "execution_count": 91,
   "id": "aec76554-06f5-4f69-a371-287f1a3cec86",
   "metadata": {
    "tags": []
   },
   "outputs": [
    {
     "name": "stdout",
     "output_type": "stream",
     "text": [
      "2022-08-16 18:53:38.907600 | Epoch: 1 | Train Loss: 0.284, Train F1: 0.948, Train Time: 61.17 [sec] | Valid Loss: 0.153, Valid F1: 0.141, Valid Time: 4.54 [sec]\n",
      "2022-08-16 18:54:45.050696 | Epoch: 2 | Train Loss: 0.163, Train F1: 0.973, Train Time: 61.40 [sec] | Valid Loss: 0.113, Valid F1: 0.178, Valid Time: 4.73 [sec]\n",
      "2022-08-16 18:55:51.221105 | Epoch: 3 | Train Loss: 0.128, Train F1: 0.980, Train Time: 61.44 [sec] | Valid Loss: 0.108, Valid F1: 0.186, Valid Time: 4.72 [sec]\n",
      "2022-08-16 18:56:57.140758 | Epoch: 4 | Train Loss: 0.109, Train F1: 0.983, Train Time: 61.34 [sec] | Valid Loss: 0.084, Valid F1: 0.220, Valid Time: 4.57 [sec]\n",
      "2022-08-16 18:58:03.146848 | Epoch: 5 | Train Loss: 0.099, Train F1: 0.985, Train Time: 61.30 [sec] | Valid Loss: 0.089, Valid F1: 0.216, Valid Time: 4.69 [sec]\n",
      "2022-08-16 18:59:09.168349 | Epoch: 6 | Train Loss: 0.090, Train F1: 0.986, Train Time: 61.30 [sec] | Valid Loss: 0.081, Valid F1: 0.229, Valid Time: 4.72 [sec]\n",
      "2022-08-16 19:00:15.187057 | Epoch: 7 | Train Loss: 0.084, Train F1: 0.987, Train Time: 61.44 [sec] | Valid Loss: 0.083, Valid F1: 0.223, Valid Time: 4.56 [sec]\n",
      "2022-08-16 19:01:21.314626 | Epoch: 8 | Train Loss: 0.079, Train F1: 0.988, Train Time: 61.44 [sec] | Valid Loss: 0.077, Valid F1: 0.240, Valid Time: 4.69 [sec]\n",
      "2022-08-16 19:02:27.457533 | Epoch: 9 | Train Loss: 0.074, Train F1: 0.989, Train Time: 61.41 [sec] | Valid Loss: 0.078, Valid F1: 0.241, Valid Time: 4.72 [sec]\n",
      "2022-08-16 19:03:33.632698 | Epoch: 10 | Train Loss: 0.071, Train F1: 0.989, Train Time: 61.58 [sec] | Valid Loss: 0.077, Valid F1: 0.238, Valid Time: 4.58 [sec]\n",
      "2022-08-16 19:04:39.297271 | Epoch: 11 | Train Loss: 0.068, Train F1: 0.990, Train Time: 60.99 [sec] | Valid Loss: 0.071, Valid F1: 0.255, Valid Time: 4.67 [sec]\n",
      "2022-08-16 19:05:45.414784 | Epoch: 12 | Train Loss: 0.065, Train F1: 0.990, Train Time: 61.38 [sec] | Valid Loss: 0.078, Valid F1: 0.249, Valid Time: 4.72 [sec]\n",
      "2022-08-16 19:06:51.555585 | Epoch: 13 | Train Loss: 0.063, Train F1: 0.991, Train Time: 61.56 [sec] | Valid Loss: 0.072, Valid F1: 0.263, Valid Time: 4.58 [sec]\n",
      "2022-08-16 19:07:57.720915 | Epoch: 14 | Train Loss: 0.061, Train F1: 0.991, Train Time: 61.47 [sec] | Valid Loss: 0.071, Valid F1: 0.264, Valid Time: 4.68 [sec]\n",
      "2022-08-16 19:09:03.950259 | Epoch: 15 | Train Loss: 0.059, Train F1: 0.991, Train Time: 61.52 [sec] | Valid Loss: 0.071, Valid F1: 0.254, Valid Time: 4.70 [sec]\n",
      "2022-08-16 19:10:10.127796 | Epoch: 16 | Train Loss: 0.056, Train F1: 0.992, Train Time: 61.62 [sec] | Valid Loss: 0.069, Valid F1: 0.253, Valid Time: 4.56 [sec]\n",
      "2022-08-16 19:11:16.085345 | Epoch: 17 | Train Loss: 0.055, Train F1: 0.992, Train Time: 61.28 [sec] | Valid Loss: 0.070, Valid F1: 0.257, Valid Time: 4.67 [sec]\n",
      "2022-08-16 19:12:22.492538 | Epoch: 18 | Train Loss: 0.054, Train F1: 0.992, Train Time: 61.71 [sec] | Valid Loss: 0.068, Valid F1: 0.255, Valid Time: 4.70 [sec]\n",
      "2022-08-16 19:13:28.574077 | Epoch: 19 | Train Loss: 0.053, Train F1: 0.992, Train Time: 61.51 [sec] | Valid Loss: 0.069, Valid F1: 0.258, Valid Time: 4.57 [sec]\n",
      "2022-08-16 19:14:34.938158 | Epoch: 20 | Train Loss: 0.052, Train F1: 0.992, Train Time: 61.63 [sec] | Valid Loss: 0.070, Valid F1: 0.261, Valid Time: 4.74 [sec]\n",
      "2022-08-16 19:15:41.069643 | Epoch: 21 | Train Loss: 0.050, Train F1: 0.993, Train Time: 61.44 [sec] | Valid Loss: 0.071, Valid F1: 0.252, Valid Time: 4.69 [sec]\n",
      "2022-08-16 19:16:46.796269 | Epoch: 22 | Train Loss: 0.050, Train F1: 0.993, Train Time: 61.16 [sec] | Valid Loss: 0.071, Valid F1: 0.254, Valid Time: 4.56 [sec]\n",
      "2022-08-16 19:17:53.018615 | Epoch: 23 | Train Loss: 0.047, Train F1: 0.993, Train Time: 61.52 [sec] | Valid Loss: 0.069, Valid F1: 0.254, Valid Time: 4.70 [sec]\n",
      "2022-08-16 19:18:58.840899 | Epoch: 24 | Train Loss: 0.047, Train F1: 0.993, Train Time: 61.27 [sec] | Valid Loss: 0.070, Valid F1: 0.264, Valid Time: 4.55 [sec]\n",
      "2022-08-16 19:20:04.740622 | Epoch: 25 | Train Loss: 0.046, Train F1: 0.993, Train Time: 61.34 [sec] | Valid Loss: 0.070, Valid F1: 0.248, Valid Time: 4.55 [sec]\n",
      "2022-08-16 19:21:10.396439 | Epoch: 26 | Train Loss: 0.045, Train F1: 0.993, Train Time: 61.00 [sec] | Valid Loss: 0.069, Valid F1: 0.252, Valid Time: 4.66 [sec]\n",
      "2022-08-16 19:22:16.025181 | Epoch: 27 | Train Loss: 0.044, Train F1: 0.994, Train Time: 61.07 [sec] | Valid Loss: 0.072, Valid F1: 0.264, Valid Time: 4.56 [sec]\n",
      "2022-08-16 19:23:21.974638 | Epoch: 28 | Train Loss: 0.044, Train F1: 0.994, Train Time: 61.41 [sec] | Valid Loss: 0.071, Valid F1: 0.255, Valid Time: 4.53 [sec]\n",
      "2022-08-16 19:24:27.180811 | Epoch: 29 | Train Loss: 0.043, Train F1: 0.994, Train Time: 60.54 [sec] | Valid Loss: 0.066, Valid F1: 0.259, Valid Time: 4.66 [sec]\n",
      "2022-08-16 19:25:32.497065 | Epoch: 30 | Train Loss: 0.042, Train F1: 0.994, Train Time: 60.78 [sec] | Valid Loss: 0.070, Valid F1: 0.270, Valid Time: 4.53 [sec]\n",
      "2022-08-16 19:26:38.367465 | Epoch: 31 | Train Loss: 0.042, Train F1: 0.994, Train Time: 61.18 [sec] | Valid Loss: 0.069, Valid F1: 0.245, Valid Time: 4.68 [sec]\n",
      "2022-08-16 19:27:43.855992 | Epoch: 32 | Train Loss: 0.040, Train F1: 0.994, Train Time: 60.80 [sec] | Valid Loss: 0.074, Valid F1: 0.257, Valid Time: 4.69 [sec]\n",
      "2022-08-16 19:28:49.267272 | Epoch: 33 | Train Loss: 0.040, Train F1: 0.994, Train Time: 60.86 [sec] | Valid Loss: 0.070, Valid F1: 0.256, Valid Time: 4.55 [sec]\n",
      "2022-08-16 19:29:55.250333 | Epoch: 34 | Train Loss: 0.039, Train F1: 0.994, Train Time: 61.26 [sec] | Valid Loss: 0.073, Valid F1: 0.257, Valid Time: 4.72 [sec]\n",
      "2022-08-16 19:31:00.736392 | Epoch: 35 | Train Loss: 0.039, Train F1: 0.994, Train Time: 60.85 [sec] | Valid Loss: 0.070, Valid F1: 0.257, Valid Time: 4.64 [sec]\n",
      "2022-08-16 19:32:06.327702 | Epoch: 36 | Train Loss: 0.039, Train F1: 0.994, Train Time: 61.03 [sec] | Valid Loss: 0.069, Valid F1: 0.257, Valid Time: 4.56 [sec]\n",
      "2022-08-16 19:33:11.938172 | Epoch: 37 | Train Loss: 0.038, Train F1: 0.994, Train Time: 60.90 [sec] | Valid Loss: 0.070, Valid F1: 0.261, Valid Time: 4.71 [sec]\n",
      "2022-08-16 19:34:17.571941 | Epoch: 38 | Train Loss: 0.037, Train F1: 0.995, Train Time: 60.95 [sec] | Valid Loss: 0.070, Valid F1: 0.254, Valid Time: 4.69 [sec]\n",
      "2022-08-16 19:35:23.217554 | Epoch: 39 | Train Loss: 0.037, Train F1: 0.995, Train Time: 61.11 [sec] | Valid Loss: 0.069, Valid F1: 0.259, Valid Time: 4.54 [sec]\n",
      "2022-08-16 19:36:29.364880 | Epoch: 40 | Train Loss: 0.037, Train F1: 0.995, Train Time: 61.42 [sec] | Valid Loss: 0.073, Valid F1: 0.245, Valid Time: 4.73 [sec]\n",
      "2022-08-16 19:37:34.871025 | Epoch: 41 | Train Loss: 0.036, Train F1: 0.995, Train Time: 60.80 [sec] | Valid Loss: 0.068, Valid F1: 0.263, Valid Time: 4.70 [sec]\n",
      "2022-08-16 19:38:40.283261 | Epoch: 42 | Train Loss: 0.036, Train F1: 0.995, Train Time: 60.86 [sec] | Valid Loss: 0.068, Valid F1: 0.259, Valid Time: 4.55 [sec]\n",
      "2022-08-16 19:39:45.521425 | Epoch: 43 | Train Loss: 0.035, Train F1: 0.995, Train Time: 60.59 [sec] | Valid Loss: 0.073, Valid F1: 0.254, Valid Time: 4.64 [sec]\n",
      "2022-08-16 19:40:50.981605 | Epoch: 44 | Train Loss: 0.035, Train F1: 0.995, Train Time: 60.76 [sec] | Valid Loss: 0.066, Valid F1: 0.259, Valid Time: 4.70 [sec]\n",
      "2022-08-16 19:41:56.497526 | Epoch: 45 | Train Loss: 0.035, Train F1: 0.995, Train Time: 60.92 [sec] | Valid Loss: 0.071, Valid F1: 0.240, Valid Time: 4.60 [sec]\n",
      "2022-08-16 19:43:01.921105 | Epoch: 46 | Train Loss: 0.034, Train F1: 0.995, Train Time: 60.78 [sec] | Valid Loss: 0.073, Valid F1: 0.246, Valid Time: 4.64 [sec]\n",
      "2022-08-16 19:44:07.467189 | Epoch: 47 | Train Loss: 0.034, Train F1: 0.995, Train Time: 60.81 [sec] | Valid Loss: 0.075, Valid F1: 0.243, Valid Time: 4.73 [sec]\n",
      "2022-08-16 19:45:12.933834 | Epoch: 48 | Train Loss: 0.034, Train F1: 0.995, Train Time: 60.94 [sec] | Valid Loss: 0.074, Valid F1: 0.255, Valid Time: 4.53 [sec]\n",
      "2022-08-16 19:46:18.518123 | Epoch: 49 | Train Loss: 0.033, Train F1: 0.995, Train Time: 60.84 [sec] | Valid Loss: 0.074, Valid F1: 0.252, Valid Time: 4.74 [sec]\n",
      "2022-08-16 19:47:24.079518 | Epoch: 50 | Train Loss: 0.033, Train F1: 0.995, Train Time: 60.87 [sec] | Valid Loss: 0.072, Valid F1: 0.248, Valid Time: 4.69 [sec]\n"
     ]
    }
   ],
   "source": [
    "train_losses, val_losses = \\\n",
    "    trainer.fit(train_loader, val_loader, n_epochs, log_steps=1)"
   ]
  },
  {
   "cell_type": "code",
   "execution_count": 82,
   "id": "ab6cded3-39d6-40b0-b316-30a2b017a4a6",
   "metadata": {
    "tags": []
   },
   "outputs": [
    {
     "name": "stdout",
     "output_type": "stream",
     "text": [
      "2022-08-16 11:43:11.094989 | Epoch: 51 | Train Loss: 0.036, Train F1: 0.995, Train Time: 60.96 [sec] | Valid Loss: 0.079, Valid F1: 0.246, Valid Time: 4.10 [sec]\n",
      "2022-08-16 11:44:15.897136 | Epoch: 52 | Train Loss: 0.035, Train F1: 0.995, Train Time: 60.75 [sec] | Valid Loss: 0.074, Valid F1: 0.253, Valid Time: 4.05 [sec]\n",
      "2022-08-16 11:45:20.328700 | Epoch: 53 | Train Loss: 0.035, Train F1: 0.995, Train Time: 60.43 [sec] | Valid Loss: 0.081, Valid F1: 0.236, Valid Time: 4.00 [sec]\n",
      "2022-08-16 11:47:29.525360 | Epoch: 55 | Train Loss: 0.034, Train F1: 0.995, Train Time: 60.46 [sec] | Valid Loss: 0.078, Valid F1: 0.254, Valid Time: 4.06 [sec]\n",
      "2022-08-16 11:48:33.894482 | Epoch: 56 | Train Loss: 0.034, Train F1: 0.995, Train Time: 60.40 [sec] | Valid Loss: 0.074, Valid F1: 0.254, Valid Time: 3.97 [sec]\n",
      "2022-08-16 11:49:38.537713 | Epoch: 57 | Train Loss: 0.034, Train F1: 0.995, Train Time: 60.60 [sec] | Valid Loss: 0.080, Valid F1: 0.254, Valid Time: 4.05 [sec]\n",
      "2022-08-16 11:50:42.738471 | Epoch: 58 | Train Loss: 0.033, Train F1: 0.995, Train Time: 60.15 [sec] | Valid Loss: 0.082, Valid F1: 0.241, Valid Time: 4.05 [sec]\n",
      "2022-08-16 11:51:47.530543 | Epoch: 59 | Train Loss: 0.033, Train F1: 0.995, Train Time: 60.86 [sec] | Valid Loss: 0.078, Valid F1: 0.263, Valid Time: 3.93 [sec]\n",
      "2022-08-16 11:52:52.049270 | Epoch: 60 | Train Loss: 0.032, Train F1: 0.995, Train Time: 60.47 [sec] | Valid Loss: 0.079, Valid F1: 0.247, Valid Time: 4.05 [sec]\n",
      "2022-08-16 11:53:56.767728 | Epoch: 61 | Train Loss: 0.032, Train F1: 0.995, Train Time: 60.67 [sec] | Valid Loss: 0.079, Valid F1: 0.249, Valid Time: 4.05 [sec]\n",
      "2022-08-16 11:55:01.514032 | Epoch: 62 | Train Loss: 0.032, Train F1: 0.995, Train Time: 60.81 [sec] | Valid Loss: 0.080, Valid F1: 0.255, Valid Time: 3.94 [sec]\n",
      "2022-08-16 11:56:06.233145 | Epoch: 63 | Train Loss: 0.031, Train F1: 0.995, Train Time: 60.66 [sec] | Valid Loss: 0.084, Valid F1: 0.252, Valid Time: 4.05 [sec]\n",
      "2022-08-16 11:57:11.425913 | Epoch: 64 | Train Loss: 0.031, Train F1: 0.996, Train Time: 61.14 [sec] | Valid Loss: 0.080, Valid F1: 0.256, Valid Time: 4.05 [sec]\n",
      "2022-08-16 11:58:15.145296 | Epoch: 65 | Train Loss: 0.031, Train F1: 0.996, Train Time: 59.78 [sec] | Valid Loss: 0.079, Valid F1: 0.258, Valid Time: 3.94 [sec]\n",
      "2022-08-16 11:59:19.770689 | Epoch: 66 | Train Loss: 0.031, Train F1: 0.996, Train Time: 60.54 [sec] | Valid Loss: 0.083, Valid F1: 0.258, Valid Time: 4.09 [sec]\n",
      "2022-08-16 12:00:24.144913 | Epoch: 67 | Train Loss: 0.031, Train F1: 0.996, Train Time: 60.32 [sec] | Valid Loss: 0.079, Valid F1: 0.257, Valid Time: 4.06 [sec]\n",
      "2022-08-16 12:01:28.614181 | Epoch: 68 | Train Loss: 0.030, Train F1: 0.996, Train Time: 60.55 [sec] | Valid Loss: 0.081, Valid F1: 0.259, Valid Time: 3.92 [sec]\n",
      "2022-08-16 12:02:33.828845 | Epoch: 69 | Train Loss: 0.030, Train F1: 0.996, Train Time: 61.16 [sec] | Valid Loss: 0.083, Valid F1: 0.252, Valid Time: 4.06 [sec]\n",
      "2022-08-16 12:03:38.423330 | Epoch: 70 | Train Loss: 0.029, Train F1: 0.996, Train Time: 60.54 [sec] | Valid Loss: 0.082, Valid F1: 0.247, Valid Time: 4.05 [sec]\n"
     ]
    }
   ],
   "source": [
    "extra_epochs = 20\n",
    "train_losses, val_losses = \\\n",
    "    trainer.fit(train_loader, val_loader, extra_epochs, log_steps=1)"
   ]
  },
  {
   "cell_type": "code",
   "execution_count": 86,
   "id": "a75ca182-77ed-45f2-9870-eafe146fc052",
   "metadata": {},
   "outputs": [
    {
     "data": {
      "text/plain": [
       "0.2753363228699552"
      ]
     },
     "execution_count": 86,
     "metadata": {},
     "output_type": "execute_result"
    }
   ],
   "source": [
    "max(trainer.val_accs)"
   ]
  },
  {
   "cell_type": "markdown",
   "id": "95806d53-47b4-4009-b34f-c4706e0fb947",
   "metadata": {
    "tags": []
   },
   "source": [
    "### 学習曲線"
   ]
  },
  {
   "cell_type": "code",
   "execution_count": 84,
   "id": "afb674a8-cb27-4040-ae77-1b140045fe1c",
   "metadata": {
    "tags": []
   },
   "outputs": [
    {
     "data": {
      "image/png": "[encoded data removed]",
      "text/plain": [
       "<Figure size 504x360 with 1 Axes>"
      ]
     },
     "metadata": {
      "needs_background": "light"
     },
     "output_type": "display_data"
    }
   ],
   "source": [
    "fig, ax = plt.subplots(figsize=(7,5))\n",
    "ax.plot(range(len(trainer.train_losses)), trainer.train_losses)\n",
    "ax.plot(range(len(trainer.val_losses)), trainer.val_losses)\n",
    "plt.show()"
   ]
  },
  {
   "cell_type": "code",
   "execution_count": 85,
   "id": "b5b4a332-4ec9-44f8-bf34-ef879b124eef",
   "metadata": {
    "tags": []
   },
   "outputs": [
    {
     "data": {
      "image/png": "[encoded data removed]",
      "text/plain": [
       "<Figure size 504x360 with 1 Axes>"
      ]
     },
     "metadata": {
      "needs_background": "light"
     },
     "output_type": "display_data"
    }
   ],
   "source": [
    "fig, ax = plt.subplots(figsize=(7,5))\n",
    "ax.plot(range(len(trainer.train_accs)), trainer.train_accs)\n",
    "ax.plot(range(len(trainer.val_accs)), trainer.val_accs)\n",
    "plt.show()"
   ]
  },
  {
   "cell_type": "code",
   "execution_count": null,
   "id": "313512b5-4c4d-48aa-ba0f-63c3d3e74035",
   "metadata": {},
   "outputs": [],
   "source": [
    "print(trainer.validate(train_loader))\n",
    "print(trainer.validate(val_loader))"
   ]
  },
  {
   "cell_type": "markdown",
   "id": "4849861c-36f1-4999-8a66-566bac30fc34",
   "metadata": {},
   "source": [
    "## 予測結果"
   ]
  },
  {
   "cell_type": "code",
   "execution_count": 119,
   "id": "746f87d7-9b97-4da2-a055-a35809260763",
   "metadata": {},
   "outputs": [],
   "source": [
    "model_name = 'jam/wide_bn_drop3_balanced_Conv2d+LSTM'"
   ]
  },
  {
   "cell_type": "code",
   "execution_count": 120,
   "id": "42f3979a-6839-4fc9-9125-d100c274e5fb",
   "metadata": {},
   "outputs": [
    {
     "data": {
      "text/plain": [
       "Conv2dLSTM_Embedding(\n",
       "  (dt_embed): Embedding(288, 32)\n",
       "  (road_embed): Embedding(63, 16)\n",
       "  (cat_fc): Linear(in_features=48, out_features=16, bias=True)\n",
       "  (cat_bn): BatchNorm1d(16, eps=1e-05, momentum=0.1, affine=True, track_running_stats=True)\n",
       "  (conv1): Conv2d(4, 64, kernel_size=(9, 3), stride=(1, 1), padding=(4, 0))\n",
       "  (bn1): BatchNorm2d(64, eps=1e-05, momentum=0.1, affine=True, track_running_stats=True)\n",
       "  (conv2): Conv2d(64, 64, kernel_size=(9, 3), stride=(1, 1), padding=(4, 0))\n",
       "  (bn2): BatchNorm2d(64, eps=1e-05, momentum=0.1, affine=True, track_running_stats=True)\n",
       "  (lstm): LSTM(64, 128, batch_first=True)\n",
       "  (search_conv1): Conv2d(2, 64, kernel_size=(9, 3), stride=(1, 1), padding=(4, 0))\n",
       "  (search_bn1): BatchNorm2d(64, eps=1e-05, momentum=0.1, affine=True, track_running_stats=True)\n",
       "  (search_conv2): Conv2d(64, 64, kernel_size=(9, 3), stride=(1, 1), padding=(4, 0))\n",
       "  (search_bn2): BatchNorm2d(64, eps=1e-05, momentum=0.1, affine=True, track_running_stats=True)\n",
       "  (search_fc): Linear(in_features=10752, out_features=128, bias=True)\n",
       "  (search_bn3): BatchNorm1d(128, eps=1e-05, momentum=0.1, affine=True, track_running_stats=True)\n",
       "  (fc1): Linear(in_features=272, out_features=128, bias=True)\n",
       "  (bn3): BatchNorm1d(128, eps=1e-05, momentum=0.1, affine=True, track_running_stats=True)\n",
       "  (fc2): Linear(in_features=128, out_features=2, bias=True)\n",
       "  (embed_dropout): Dropout(p=0.8, inplace=False)\n",
       "  (dropout): Dropout(p=0.6, inplace=False)\n",
       "  (last_dropout): Dropout(p=0.3, inplace=False)\n",
       ")"
      ]
     },
     "execution_count": 120,
     "metadata": {},
     "output_type": "execute_result"
    }
   ],
   "source": [
    "model = Conv2dLSTM_Embedding(hid_dim, kernel_size).to(device=device)\n",
    "model.load_state_dict(torch.load(f'{config.MODEL_DIR}/{model_name}_30.pth'))\n",
    "model.eval()"
   ]
  },
  {
   "cell_type": "code",
   "execution_count": 121,
   "id": "6980ce53-8a55-4816-b66c-6daced53ba01",
   "metadata": {
    "tags": []
   },
   "outputs": [],
   "source": [
    "def pred_data_generator(X_test, y_test, time_step, prediction_horizon):\n",
    "    def create(zero_date, pred_start_date, pred_window, sec_id):\n",
    "        pred_start_ind = int((pd.Timestamp(pred_start_date) - pd.Timestamp(zero_date)).total_seconds() / (60 * 60))\n",
    "        pred_end_ind = pred_start_ind + pred_window\n",
    "\n",
    "        in_start_ind = pred_start_ind - prediction_horizon - time_step + 1\n",
    "        in_end_ind = pred_end_ind\n",
    "        \n",
    "        X_in = X_test[:, in_start_ind:in_end_ind, sec_id]\n",
    "        y_in = y_test[:, in_start_ind:in_end_ind, sec_id]\n",
    "        y_true = y_test[0, pred_start_ind:pred_end_ind, sec_id]\n",
    "        \n",
    "        return X_in, y_in, y_true\n",
    "    return create"
   ]
  },
  {
   "cell_type": "code",
   "execution_count": 138,
   "id": "675b8c1c-37ed-48ab-9e1e-8a4c320ce95b",
   "metadata": {
    "tags": []
   },
   "outputs": [],
   "source": [
    "def predict(model, test_loader, device=device):\n",
    "    model.eval()\n",
    "    \n",
    "    outs = []\n",
    "    trues = []\n",
    "    with torch.no_grad():\n",
    "        for _, (data, target) in enumerate(test_loader):\n",
    "            if isinstance(data, (list, tuple)):\n",
    "                data = map(lambda x: x.to(device=device), data)\n",
    "            else:\n",
    "                data = data.to(device=device)\n",
    "            out = model(data).detach().cpu()\n",
    "            outs.append(out)\n",
    "            trues.append(target)\n",
    "    outs = torch.cat(outs, dim=0)\n",
    "    trues = torch.cat(trues, dim=0)\n",
    "    return outs, trues"
   ]
  },
  {
   "cell_type": "code",
   "execution_count": 123,
   "id": "4e6024ba-0f1d-44c4-9fcc-ae33a3d64859",
   "metadata": {},
   "outputs": [],
   "source": [
    "p_gen = pred_data_generator(X_va, y_va, time_step=time_step, prediction_horizon=prediction_horizon)\n",
    "zero_date = '2022/3/1'"
   ]
  },
  {
   "cell_type": "markdown",
   "id": "d7ea0bac-f18e-4645-b237-77370f7ac817",
   "metadata": {},
   "source": [
    "### GW"
   ]
  },
  {
   "cell_type": "code",
   "execution_count": 142,
   "id": "f2659b1a-3b70-42a3-b5f6-97ebe7162bbc",
   "metadata": {},
   "outputs": [],
   "source": [
    "pred_start_date = '2022/4/29'\n",
    "pred_window = 9 * 24\n",
    "\n",
    "X_in, y_in, y_true = p_gen(zero_date, pred_start_date, pred_window, sec_id=range(len(sec_table)))\n",
    "dataset_test = STDataset(X_in, y_in, \n",
    "                         time_step=time_step, \n",
    "                         prediction_horizon=prediction_horizon,\n",
    "                         space_window=space_window, \n",
    "                         static_col=static_col)"
   ]
  },
  {
   "cell_type": "code",
   "execution_count": 143,
   "id": "bafe56a3-c94c-4396-9652-d8707ae2ec50",
   "metadata": {},
   "outputs": [],
   "source": [
    "test_loader = torch.utils.data.DataLoader(dataset_test, batch_size=batch_size, shuffle=False)"
   ]
  },
  {
   "cell_type": "code",
   "execution_count": 148,
   "id": "c9589189-c4a7-400a-a23d-831f69074efe",
   "metadata": {},
   "outputs": [
    {
     "name": "stdout",
     "output_type": "stream",
     "text": [
      "f1 score: 0.299\n"
     ]
    }
   ],
   "source": [
    "out, y_true = predict(model, test_loader)\n",
    "_, predicted = torch.max(out, dim=1)\n",
    "\n",
    "f1 = f1_score(y_true.flatten(), predicted)\n",
    "print(f'f1 score: {f1 :.3f}')"
   ]
  },
  {
   "cell_type": "code",
   "execution_count": null,
   "id": "3adc538e-71a2-4aff-bd8a-c3ebc172452b",
   "metadata": {
    "tags": []
   },
   "outputs": [],
   "source": [
    "plt.figure(figsize=(15,5))\n",
    "plt.plot(range(len(predicted)), predicted, label='predicted')\n",
    "plt.plot(range(len(y_true)), y_true, label='true')\n",
    "plt.legend()\n",
    "plt.show()"
   ]
  },
  {
   "cell_type": "markdown",
   "id": "fb10fe6e-11a3-4612-aaf5-99459d1e3df3",
   "metadata": {},
   "source": [
    "### 普通の1週間 (月~日)"
   ]
  },
  {
   "cell_type": "markdown",
   "id": "3243f257-1116-4e7b-aa9d-41bb31f5ad0e",
   "metadata": {},
   "source": [
    "#### 3月"
   ]
  },
  {
   "cell_type": "code",
   "execution_count": 150,
   "id": "b084ffb7-61cd-4b7d-8e61-dc3a6b8c0e32",
   "metadata": {
    "tags": []
   },
   "outputs": [],
   "source": [
    "pred_start_date = '2022/3/21'\n",
    "pred_window = 7 * 24\n",
    "\n",
    "X_in, y_in, y_true = p_gen(zero_date, pred_start_date, pred_window, sec_id=range(len(sec_table)))\n",
    "dataset_test = STDataset(X_in, y_in, \n",
    "                         time_step=time_step, \n",
    "                         prediction_horizon=prediction_horizon,\n",
    "                         space_window=space_window, \n",
    "                         static_col=static_col)"
   ]
  },
  {
   "cell_type": "code",
   "execution_count": 151,
   "id": "7806cac7-d60e-4169-99e3-15e08e55c1f6",
   "metadata": {},
   "outputs": [],
   "source": [
    "test_loader = torch.utils.data.DataLoader(dataset_test, batch_size=batch_size, shuffle=False)"
   ]
  },
  {
   "cell_type": "code",
   "execution_count": 154,
   "id": "dda131fd-192e-4a0a-bf88-67cf73249b01",
   "metadata": {
    "tags": []
   },
   "outputs": [
    {
     "name": "stdout",
     "output_type": "stream",
     "text": [
      "f1 score: 0.282\n"
     ]
    }
   ],
   "source": [
    "out, y_true = predict(model, test_loader)\n",
    "_, predicted = torch.max(out, dim=1)\n",
    "\n",
    "f1 = f1_score(y_true.flatten(), predicted)\n",
    "print(f'f1 score: {f1 :.3f}')"
   ]
  },
  {
   "cell_type": "code",
   "execution_count": 231,
   "id": "3964736e-9e1b-4a74-a27e-c8f153d693b8",
   "metadata": {},
   "outputs": [
    {
     "data": {
      "image/png": "[encoded data removed]",
      "text/plain": [
       "<Figure size 1080x360 with 1 Axes>"
      ]
     },
     "metadata": {
      "needs_background": "light"
     },
     "output_type": "display_data"
    }
   ],
   "source": [
    "plt.figure(figsize=(15,5))\n",
    "plt.plot(range(len(out)), out, label='predicted')\n",
    "plt.plot(range(len(y_true)), y_true, label='true')\n",
    "plt.legend()\n",
    "plt.show()"
   ]
  },
  {
   "cell_type": "markdown",
   "id": "29f56fc1-86e9-4087-b94e-458590a3d3e4",
   "metadata": {},
   "source": [
    "#### 4月"
   ]
  },
  {
   "cell_type": "code",
   "execution_count": 155,
   "id": "bd50e4de-13fe-443f-93b2-6e29a3a0cc8e",
   "metadata": {},
   "outputs": [],
   "source": [
    "pred_start_date = '2022/4/4'\n",
    "pred_window = 7 * 24\n",
    "\n",
    "X_in, y_in, y_true = p_gen(zero_date, pred_start_date, pred_window, sec_id=range(len(sec_table)))\n",
    "dataset_test = STDataset(X_in, y_in, \n",
    "                         time_step=time_step, \n",
    "                         prediction_horizon=prediction_horizon,\n",
    "                         space_window=space_window, \n",
    "                         static_col=static_col)"
   ]
  },
  {
   "cell_type": "code",
   "execution_count": 156,
   "id": "002c8e59-e419-4346-bfcc-df20c1dfca01",
   "metadata": {},
   "outputs": [],
   "source": [
    "test_loader = torch.utils.data.DataLoader(dataset_test, batch_size=batch_size, shuffle=False)"
   ]
  },
  {
   "cell_type": "code",
   "execution_count": 157,
   "id": "398c701d-e449-4df4-b43c-efbfc02acf3a",
   "metadata": {
    "tags": []
   },
   "outputs": [
    {
     "name": "stdout",
     "output_type": "stream",
     "text": [
      "f1 score: 0.185\n"
     ]
    }
   ],
   "source": [
    "out, y_true = predict(model, test_loader)\n",
    "_, predicted = torch.max(out, dim=1)\n",
    "\n",
    "f1 = f1_score(y_true.flatten(), predicted)\n",
    "print(f'f1 score: {f1 :.3f}')"
   ]
  },
  {
   "cell_type": "code",
   "execution_count": 235,
   "id": "ced0b93c-ee2e-43f6-8ac1-14d954265be8",
   "metadata": {},
   "outputs": [
    {
     "data": {
      "image/png": "[encoded data removed]",
      "text/plain": [
       "<Figure size 1080x360 with 1 Axes>"
      ]
     },
     "metadata": {
      "needs_background": "light"
     },
     "output_type": "display_data"
    }
   ],
   "source": [
    "plt.figure(figsize=(15,5))\n",
    "plt.plot(range(len(out)), out, label='predicted')\n",
    "plt.plot(range(len(y_true)), y_true, label='true')\n",
    "plt.legend()\n",
    "plt.show()"
   ]
  },
  {
   "cell_type": "markdown",
   "id": "7ef4d535-97e1-4f46-84ea-d4af48b1bc4b",
   "metadata": {},
   "source": [
    "#### 5月"
   ]
  },
  {
   "cell_type": "code",
   "execution_count": 158,
   "id": "4cc0af9f-c780-4f6a-8225-77bcbfd25b89",
   "metadata": {},
   "outputs": [],
   "source": [
    "pred_start_date = '2022/5/23'\n",
    "pred_window = 7 * 24\n",
    "\n",
    "X_in, y_in, y_true = p_gen(zero_date, pred_start_date, pred_window, sec_id=range(len(sec_table)))\n",
    "dataset_test = STDataset(X_in, y_in, \n",
    "                         time_step=time_step, \n",
    "                         prediction_horizon=prediction_horizon,\n",
    "                         space_window=space_window, \n",
    "                         static_col=static_col)"
   ]
  },
  {
   "cell_type": "code",
   "execution_count": 159,
   "id": "66052e2f-a1b2-4331-b353-b30f0b4d577e",
   "metadata": {},
   "outputs": [],
   "source": [
    "test_loader = torch.utils.data.DataLoader(dataset_test, batch_size=batch_size, shuffle=False)"
   ]
  },
  {
   "cell_type": "code",
   "execution_count": 160,
   "id": "b86ffc7f-139d-475d-b61f-fe08c939c681",
   "metadata": {
    "tags": []
   },
   "outputs": [
    {
     "name": "stdout",
     "output_type": "stream",
     "text": [
      "f1 score: 0.347\n"
     ]
    }
   ],
   "source": [
    "out, y_true = predict(model, test_loader)\n",
    "_, predicted = torch.max(out, dim=1)\n",
    "\n",
    "f1 = f1_score(y_true.flatten(), predicted)\n",
    "print(f'f1 score: {f1 :.3f}')"
   ]
  },
  {
   "cell_type": "code",
   "execution_count": null,
   "id": "63ac5705-9b77-4dc5-afcc-85002db197c5",
   "metadata": {},
   "outputs": [
    {
     "data": {
      "image/png": "[encoded data removed]",
      "text/plain": [
       "<Figure size 1080x360 with 1 Axes>"
      ]
     },
     "metadata": {
      "needs_background": "light"
     },
     "output_type": "display_data"
    }
   ],
   "source": [
    "plt.figure(figsize=(15,5))\n",
    "plt.plot(range(len(out)), out, label='predicted')\n",
    "plt.plot(range(len(y_true)), y_true, label='true')\n",
    "plt.legend()\n",
    "plt.show()"
   ]
  }
 ],
 "metadata": {
  "kernelspec": {
   "display_name": "Python 3 (ipykernel)",
   "language": "python",
   "name": "python3"
  },
  "language_info": {
   "codemirror_mode": {
    "name": "ipython",
    "version": 3
   },
   "file_extension": ".py",
   "mimetype": "text/x-python",
   "name": "python",
   "nbconvert_exporter": "python",
   "pygments_lexer": "ipython3",
   "version": "3.8.10"
  }
 },
 "nbformat": 4,
 "nbformat_minor": 5
}
